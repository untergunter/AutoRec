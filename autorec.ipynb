{
 "cells": [
  {
   "cell_type": "code",
   "execution_count": 9,
   "metadata": {
    "collapsed": true
   },
   "outputs": [
    {
     "name": "stdout",
     "output_type": "stream",
     "text": [
      "There are 1 GPU(s) available.\n",
      "We will use the GPU: NVIDIA GeForce GTX 1660 Ti\n"
     ]
    }
   ],
   "source": [
    "# General Stuff:\n",
    "import numpy as np\n",
    "import pandas as pd\n",
    "\n",
    "# Our Stuff:\n",
    "from models.AutoRecBase import AutoRecBase\n",
    "from models.VarAutoRec import VarAutoRec\n",
    "from models.MF import MF\n",
    "\n",
    "\n",
    "from scripts.get_data import download_2_data_sets, ratings_to_train_test, ratings_to_train_test_u\n",
    "from scripts.get_2_other_data import get_2_other_datasets, secondary_to_train_test, secondary_to_train_test_u\n",
    "from utils.evaluate import evaluate_model\n",
    "from utils.loading_utils import load_model, save_model\n",
    "\n",
    "import torch\n",
    "from torch import nn\n",
    "import pytorch_lightning as pl\n",
    "\n",
    "# Visualization Stuff\n",
    "import seaborn as sns\n",
    "import matplotlib.pyplot as plt\n",
    "%matplotlib inline\n",
    "pd.set_option('display.max_colwidth', 240)\n",
    "\n",
    "device = torch.device(\"cuda:0\" if torch.cuda.is_available() else \"cpu\")\n",
    "device\n",
    "if torch.cuda.is_available():\n",
    "    print('There are %d GPU(s) available.' % torch.cuda.device_count())\n",
    "    print('We will use the GPU:', torch.cuda.get_device_name(0))"
   ]
  },
  {
   "cell_type": "markdown",
   "source": [
    "# AutoRec - AutoEncoders Meet Collaborative Filtering - PyTorch"
   ],
   "metadata": {
    "collapsed": false,
    "pycharm": {
     "name": "#%% md\n"
    }
   }
  },
  {
   "cell_type": "markdown",
   "source": [
    "<a id=\"toc\"></a>\n",
    "## Table of Content\n",
    "1. [Introduction](#introduction)\n",
    "1. [Conclusions](#conclusions)"
   ],
   "metadata": {
    "collapsed": false,
    "pycharm": {
     "name": "#%% md\n"
    }
   }
  },
  {
   "cell_type": "markdown",
   "source": [
    "<a id=\"introduction\"></a>\n",
    "\n",
    "## Introduction\n",
    "\n",
    "In this notebook we will review a collaborative filtering approach using autoencoders, as suggested by Sedhain et al, in their 2015 paper \"AutoRec: Autoencoders Meet Collaborative Filtering\".\n",
    "\n",
    "We will then introduce several improvements and asses them.\n",
    "\n",
    "[Table of content](#toc)"
   ],
   "metadata": {
    "collapsed": false,
    "pycharm": {
     "name": "#%% md\n"
    }
   }
  },
  {
   "cell_type": "code",
   "execution_count": 10,
   "outputs": [],
   "source": [
    "is_default_dataset = False\n",
    "if is_default_dataset:\n",
    "    download_2_data_sets()\n",
    "else:\n",
    "    get_2_other_datasets()"
   ],
   "metadata": {
    "collapsed": false,
    "pycharm": {
     "name": "#%%\n"
    }
   }
  },
  {
   "cell_type": "code",
   "execution_count": 12,
   "outputs": [],
   "source": [
    "if is_default_dataset:\n",
    "    train_loader, val_loader = ratings_to_train_test(1,0, 1,10)\n",
    "    mf_train_loader, mf_val_loader =  ratings_to_train_test_u(dataset_size=1,\n",
    "                                                              validation_partition=0,\n",
    "                                                              train_partition=1,\n",
    "                                                              batch_size=10)\n",
    "else:\n",
    "    train_loader, val_loader = secondary_to_train_test('flixster',0, 1,10)\n",
    "    mf_train_loader, mf_val_loader =  secondary_to_train_test_u('flixster',\n",
    "                                                                validation_partition=0,\n",
    "                                                                train_partition=1,\n",
    "                                                                batch_size=10)\n"
   ],
   "metadata": {
    "collapsed": false,
    "pycharm": {
     "name": "#%%\n"
    }
   }
  },
  {
   "cell_type": "code",
   "execution_count": 13,
   "outputs": [
    {
     "data": {
      "text/plain": "Launching TensorBoard..."
     },
     "metadata": {},
     "output_type": "display_data"
    }
   ],
   "source": [
    "%reload_ext tensorboard\n",
    "%tensorboard --logdir lightning_logs"
   ],
   "metadata": {
    "collapsed": false,
    "pycharm": {
     "name": "#%%\n"
    }
   }
  },
  {
   "cell_type": "markdown",
   "source": [
    "Go to:  [TensorBoard](http://localhost:6006)"
   ],
   "metadata": {
    "collapsed": false,
    "pycharm": {
     "name": "#%% md\n"
    }
   }
  },
  {
   "cell_type": "code",
   "execution_count": 14,
   "outputs": [],
   "source": [
    "models_dict = {} # (model,ephoc,lr): loss\n",
    "models_state = {} # (model,ephoc,lr): model.state_dict()\n",
    "models = [\n",
    "    AutoRecBase,\n",
    "    VarAutoRec,\n",
    "    MF\n",
    "]\n",
    "lrs = [0.001,0.005,0.01]\n",
    "activations = [nn.PReLU, nn.Sigmoid]"
   ],
   "metadata": {
    "collapsed": false,
    "pycharm": {
     "name": "#%%\n"
    }
   }
  },
  {
   "cell_type": "markdown",
   "source": [
    "Sanity check:"
   ],
   "metadata": {
    "collapsed": false,
    "pycharm": {
     "name": "#%% md\n"
    }
   }
  },
  {
   "cell_type": "code",
   "execution_count": 15,
   "outputs": [
    {
     "name": "stdout",
     "output_type": "stream",
     "text": [
      "tensor([3., 3., 3., 3., 3., 3., 3., 3., 3., 3.])\n",
      "tensor(7)\n",
      "tensor([7, 7, 7, 7, 7, 7, 7, 7, 7, 7])\n",
      "tensor([ 929, 1000, 1135, 1165, 1183, 1187, 1291, 1561, 1576, 1577])\n",
      "tensor([5.0000, 5.0000, 4.5000, 5.0000, 3.5000, 4.5000, 4.5000, 4.5000, 4.0000,\n",
      "        4.0000], dtype=torch.float64)\n"
     ]
    }
   ],
   "source": [
    "for x, y, m in val_loader:\n",
    "    print(x[:,0])\n",
    "    break\n",
    "for x, y, m in mf_val_loader:\n",
    "    print(x[0])\n",
    "    break\n",
    "for x, y, r in mf_train_loader:\n",
    "    print(x)\n",
    "    print(y)\n",
    "    print(r)\n",
    "    break\n",
    "# model(x)[:,0]"
   ],
   "metadata": {
    "collapsed": false,
    "pycharm": {
     "name": "#%%\n"
    }
   }
  },
  {
   "cell_type": "code",
   "execution_count": 16,
   "outputs": [
    {
     "name": "stdout",
     "output_type": "stream",
     "text": [
      "Number of users: 402\n",
      "Number of items: 2876\n"
     ]
    }
   ],
   "source": [
    "print(f\"Number of users: {len(val_loader.dataset)}\")\n",
    "print(f\"Number of items: {len(val_loader.dataset[0][1])}\")"
   ],
   "metadata": {
    "collapsed": false,
    "pycharm": {
     "name": "#%%\n"
    }
   }
  },
  {
   "cell_type": "markdown",
   "source": [
    "Datasets:"
   ],
   "metadata": {
    "collapsed": false,
    "pycharm": {
     "name": "#%% md\n"
    }
   }
  },
  {
   "cell_type": "code",
   "execution_count": 17,
   "outputs": [],
   "source": [
    "number_of_users = len(val_loader.dataset)\n",
    "number_of_items = len(val_loader.dataset[0][1])"
   ],
   "metadata": {
    "collapsed": false,
    "pycharm": {
     "name": "#%%\n"
    }
   }
  },
  {
   "cell_type": "markdown",
   "source": [
    "From the original paper:"
   ],
   "metadata": {
    "collapsed": false,
    "pycharm": {
     "name": "#%% md\n"
    }
   }
  },
  {
   "cell_type": "code",
   "execution_count": 18,
   "outputs": [],
   "source": [
    "latent_dims = [10, 80, 300]\n",
    "lambdas = [0.01, 0.1, 1, 100]"
   ],
   "metadata": {
    "collapsed": false,
    "pycharm": {
     "name": "#%%\n"
    }
   }
  },
  {
   "cell_type": "code",
   "execution_count": 19,
   "outputs": [
    {
     "name": "stderr",
     "output_type": "stream",
     "text": [
      "GPU available: True, used: False\n",
      "TPU available: False, using: 0 TPU cores\n",
      "IPU available: False, using: 0 IPUs\n",
      "/home/ido/anaconda3/envs/rs/lib/python3.7/site-packages/pytorch_lightning/trainer/trainer.py:1585: UserWarning: GPU available but not used. Set the gpus flag in your trainer `Trainer(gpus=1)` or script `--gpus=1`.\n",
      "  \"GPU available but not used. Set the gpus flag in your trainer `Trainer(gpus=1)` or script `--gpus=1`.\"\n",
      "\n",
      "  | Name      | Type    | Params\n",
      "--------------------------------------\n",
      "0 | encoder   | Linear  | 28.8 K\n",
      "1 | act_1     | PReLU   | 1     \n",
      "2 | decoder   | Linear  | 31.6 K\n",
      "3 | act_2     | PReLU   | 1     \n",
      "4 | loss_func | MSELoss | 0     \n",
      "--------------------------------------\n",
      "60.4 K    Trainable params\n",
      "0         Non-trainable params\n",
      "60.4 K    Total params\n",
      "0.242     Total estimated model params size (MB)\n"
     ]
    },
    {
     "name": "stdout",
     "output_type": "stream",
     "text": [
      "0.01\n",
      "                                                              "
     ]
    },
    {
     "name": "stderr",
     "output_type": "stream",
     "text": [
      "/home/ido/anaconda3/envs/rs/lib/python3.7/site-packages/pytorch_lightning/trainer/data_loading.py:133: UserWarning: The dataloader, val_dataloader 0, does not have many workers which may be a bottleneck. Consider increasing the value of the `num_workers` argument` (try 12 which is the number of cpus on this machine) in the `DataLoader` init to improve performance.\n",
      "  f\"The dataloader, {name}, does not have many workers which may be a bottleneck.\"\n",
      "/home/ido/anaconda3/envs/rs/lib/python3.7/site-packages/pytorch_lightning/trainer/data_loading.py:433: UserWarning: The number of training samples (41) is smaller than the logging interval Trainer(log_every_n_steps=50). Set a lower value for log_every_n_steps if you want to see logs for the training epoch.\n",
      "  f\"The number of training samples ({self.num_training_batches}) is smaller than the logging interval\"\n"
     ]
    },
    {
     "name": "stdout",
     "output_type": "stream",
     "text": [
      "Epoch 0:  50%|█████     | 41/82 [00:00<00:00, 118.55it/s, loss=11.4, v_num=23]\n",
      "Validating: 0it [00:00, ?it/s]\u001B[A\n",
      "Epoch 0: 100%|██████████| 82/82 [00:00<00:00, 200.17it/s, loss=11.4, v_num=23]\n",
      "Epoch 1:  50%|█████     | 41/82 [00:00<00:00, 121.47it/s, loss=9.41, v_num=23]\n",
      "Validating: 0it [00:00, ?it/s]\u001B[A\n",
      "Epoch 1: 100%|██████████| 82/82 [00:00<00:00, 208.85it/s, loss=9.41, v_num=23]\n",
      "Epoch 2:  50%|█████     | 41/82 [00:00<00:00, 132.87it/s, loss=7.71, v_num=23]\n",
      "Validating: 0it [00:00, ?it/s]\u001B[A\n",
      "Epoch 2: 100%|██████████| 82/82 [00:00<00:00, 224.42it/s, loss=7.71, v_num=23]\n",
      "Epoch 3:  50%|█████     | 41/82 [00:00<00:00, 141.02it/s, loss=5.67, v_num=23]\n",
      "Validating: 0it [00:00, ?it/s]\u001B[A\n",
      "Epoch 3: 100%|██████████| 82/82 [00:00<00:00, 232.82it/s, loss=5.67, v_num=23]\n",
      "Epoch 4:  50%|█████     | 41/82 [00:00<00:00, 131.32it/s, loss=4.55, v_num=23]\n",
      "Validating: 0it [00:00, ?it/s]\u001B[A\n",
      "Epoch 4: 100%|██████████| 82/82 [00:00<00:00, 219.81it/s, loss=4.55, v_num=23]\n",
      "Epoch 5:  50%|█████     | 41/82 [00:00<00:00, 140.20it/s, loss=3.64, v_num=23]\n",
      "Validating: 0it [00:00, ?it/s]\u001B[A\n",
      "Epoch 5: 100%|██████████| 82/82 [00:00<00:00, 233.19it/s, loss=3.64, v_num=23]\n",
      "Epoch 6:  51%|█████     | 42/82 [00:00<00:00, 124.95it/s, loss=2.86, v_num=23]\n",
      "Validating: 0it [00:00, ?it/s]\u001B[A\n",
      "Epoch 6: 100%|██████████| 82/82 [00:00<00:00, 214.33it/s, loss=2.86, v_num=23]\n",
      "Epoch 7:  51%|█████     | 42/82 [00:00<00:00, 119.97it/s, loss=2.33, v_num=23]\n",
      "Validating: 0it [00:00, ?it/s]\u001B[A\n",
      "Epoch 7: 100%|██████████| 82/82 [00:00<00:00, 202.10it/s, loss=2.33, v_num=23]\n",
      "Epoch 8:  51%|█████     | 42/82 [00:00<00:00, 129.43it/s, loss=1.89, v_num=23]\n",
      "Validating: 0it [00:00, ?it/s]\u001B[A\n",
      "Epoch 8: 100%|██████████| 82/82 [00:00<00:00, 217.78it/s, loss=1.89, v_num=23]\n",
      "Epoch 9:  51%|█████     | 42/82 [00:00<00:00, 134.70it/s, loss=1.74, v_num=23]\n",
      "Validating: 0it [00:00, ?it/s]\u001B[A\n",
      "Epoch 9: 100%|██████████| 82/82 [00:00<00:00, 216.34it/s, loss=1.74, v_num=23]\n",
      "Epoch 9: 100%|██████████| 82/82 [00:00<00:00, 212.92it/s, loss=1.74, v_num=23]\n"
     ]
    },
    {
     "name": "stderr",
     "output_type": "stream",
     "text": [
      "GPU available: True, used: False\n",
      "TPU available: False, using: 0 TPU cores\n",
      "IPU available: False, using: 0 IPUs\n"
     ]
    },
    {
     "name": "stdout",
     "output_type": "stream",
     "text": [
      "0.1\n"
     ]
    },
    {
     "name": "stderr",
     "output_type": "stream",
     "text": [
      "\n",
      "  | Name      | Type    | Params\n",
      "--------------------------------------\n",
      "0 | encoder   | Linear  | 28.8 K\n",
      "1 | act_1     | PReLU   | 1     \n",
      "2 | decoder   | Linear  | 31.6 K\n",
      "3 | act_2     | PReLU   | 1     \n",
      "4 | loss_func | MSELoss | 0     \n",
      "--------------------------------------\n",
      "60.4 K    Trainable params\n",
      "0         Non-trainable params\n",
      "60.4 K    Total params\n",
      "0.242     Total estimated model params size (MB)\n"
     ]
    },
    {
     "name": "stdout",
     "output_type": "stream",
     "text": [
      "Epoch 0:  50%|█████     | 41/82 [00:00<00:00, 124.76it/s, loss=12.5, v_num=24]\n",
      "Validating: 0it [00:00, ?it/s]\u001B[A\n",
      "Epoch 0: 100%|██████████| 82/82 [00:00<00:00, 210.04it/s, loss=12.5, v_num=24]\n",
      "Epoch 1:  50%|█████     | 41/82 [00:00<00:00, 136.02it/s, loss=10.7, v_num=24]\n",
      "Validating: 0it [00:00, ?it/s]\u001B[A\n",
      "Epoch 1: 100%|██████████| 82/82 [00:00<00:00, 227.99it/s, loss=10.7, v_num=24]\n",
      "Epoch 2:  50%|█████     | 41/82 [00:00<00:00, 129.86it/s, loss=9.03, v_num=24]\n",
      "Validating: 0it [00:00, ?it/s]\u001B[A\n",
      "Epoch 2: 100%|██████████| 82/82 [00:00<00:00, 225.82it/s, loss=9.03, v_num=24]\n",
      "Epoch 3:  50%|█████     | 41/82 [00:00<00:00, 124.19it/s, loss=6.89, v_num=24]\n",
      "Validating: 0it [00:00, ?it/s]\u001B[A\n",
      "Epoch 3: 100%|██████████| 82/82 [00:00<00:00, 209.75it/s, loss=6.89, v_num=24]\n",
      "Epoch 4:  50%|█████     | 41/82 [00:00<00:00, 133.70it/s, loss=5.49, v_num=24]\n",
      "Validating: 0it [00:00, ?it/s]\u001B[A\n",
      "Epoch 4: 100%|██████████| 82/82 [00:00<00:00, 232.12it/s, loss=5.49, v_num=24]\n",
      "Epoch 5:  50%|█████     | 41/82 [00:00<00:00, 133.50it/s, loss=4.36, v_num=24]\n",
      "Validating: 0it [00:00, ?it/s]\u001B[A\n",
      "Epoch 5: 100%|██████████| 82/82 [00:00<00:00, 217.65it/s, loss=4.36, v_num=24]\n",
      "Epoch 6:  50%|█████     | 41/82 [00:00<00:00, 130.12it/s, loss=3.36, v_num=24]\n",
      "Validating: 0it [00:00, ?it/s]\u001B[A\n",
      "Epoch 6: 100%|██████████| 82/82 [00:00<00:00, 224.70it/s, loss=3.36, v_num=24]\n",
      "Epoch 7:  50%|█████     | 41/82 [00:00<00:00, 126.90it/s, loss=2.82, v_num=24]\n",
      "Validating: 0it [00:00, ?it/s]\u001B[A\n",
      "Epoch 7: 100%|██████████| 82/82 [00:00<00:00, 218.68it/s, loss=2.82, v_num=24]\n",
      "Epoch 8:  50%|█████     | 41/82 [00:00<00:00, 141.13it/s, loss=2.32, v_num=24]\n",
      "Validating: 0it [00:00, ?it/s]\u001B[A\n",
      "Epoch 8: 100%|██████████| 82/82 [00:00<00:00, 243.17it/s, loss=2.32, v_num=24]\n",
      "Epoch 9:  50%|█████     | 41/82 [00:00<00:00, 150.18it/s, loss=1.98, v_num=24]\n",
      "Validating: 0it [00:00, ?it/s]\u001B[A\n",
      "Epoch 9: 100%|██████████| 82/82 [00:00<00:00, 247.57it/s, loss=1.98, v_num=24]\n",
      "Epoch 9: 100%|██████████| 82/82 [00:00<00:00, 243.17it/s, loss=1.98, v_num=24]\n"
     ]
    },
    {
     "name": "stderr",
     "output_type": "stream",
     "text": [
      "GPU available: True, used: False\n",
      "TPU available: False, using: 0 TPU cores\n",
      "IPU available: False, using: 0 IPUs\n"
     ]
    },
    {
     "name": "stdout",
     "output_type": "stream",
     "text": [
      "1\n"
     ]
    },
    {
     "name": "stderr",
     "output_type": "stream",
     "text": [
      "\n",
      "  | Name      | Type    | Params\n",
      "--------------------------------------\n",
      "0 | encoder   | Linear  | 28.8 K\n",
      "1 | act_1     | PReLU   | 1     \n",
      "2 | decoder   | Linear  | 31.6 K\n",
      "3 | act_2     | PReLU   | 1     \n",
      "4 | loss_func | MSELoss | 0     \n",
      "--------------------------------------\n",
      "60.4 K    Trainable params\n",
      "0         Non-trainable params\n",
      "60.4 K    Total params\n",
      "0.242     Total estimated model params size (MB)\n"
     ]
    },
    {
     "name": "stdout",
     "output_type": "stream",
     "text": [
      "Epoch 0:  50%|█████     | 41/82 [00:00<00:00, 133.18it/s, loss=12.5, v_num=25]\n",
      "Validating: 0it [00:00, ?it/s]\u001B[A\n",
      "Epoch 0: 100%|██████████| 82/82 [00:00<00:00, 229.93it/s, loss=12.5, v_num=25]\n",
      "Epoch 1:  50%|█████     | 41/82 [00:00<00:00, 128.55it/s, loss=11, v_num=25]  \n",
      "Validating: 0it [00:00, ?it/s]\u001B[A\n",
      "Epoch 1: 100%|██████████| 82/82 [00:00<00:00, 216.52it/s, loss=11, v_num=25]\n",
      "Epoch 2:  50%|█████     | 41/82 [00:00<00:00, 131.43it/s, loss=10.4, v_num=25]\n",
      "Validating: 0it [00:00, ?it/s]\u001B[A\n",
      "Epoch 2: 100%|██████████| 82/82 [00:00<00:00, 221.02it/s, loss=10.4, v_num=25]\n",
      "Epoch 3:  50%|█████     | 41/82 [00:00<00:00, 126.30it/s, loss=9.22, v_num=25]\n",
      "Validating: 0it [00:00, ?it/s]\u001B[A\n",
      "Epoch 3: 100%|██████████| 82/82 [00:00<00:00, 214.20it/s, loss=9.22, v_num=25]\n",
      "Epoch 4:  50%|█████     | 41/82 [00:00<00:00, 129.99it/s, loss=8.02, v_num=25]\n",
      "Validating: 0it [00:00, ?it/s]\u001B[A\n",
      "Epoch 4: 100%|██████████| 82/82 [00:00<00:00, 225.58it/s, loss=8.02, v_num=25]\n",
      "Epoch 5:  50%|█████     | 41/82 [00:00<00:00, 121.42it/s, loss=6.88, v_num=25]\n",
      "Validating: 0it [00:00, ?it/s]\u001B[A\n",
      "Epoch 5: 100%|██████████| 82/82 [00:00<00:00, 205.74it/s, loss=6.88, v_num=25]\n",
      "Epoch 6:  50%|█████     | 41/82 [00:00<00:00, 138.86it/s, loss=6.26, v_num=25]\n",
      "Validating: 0it [00:00, ?it/s]\u001B[A\n",
      "Epoch 6: 100%|██████████| 82/82 [00:00<00:00, 232.14it/s, loss=6.26, v_num=25]\n",
      "Epoch 7:  50%|█████     | 41/82 [00:00<00:00, 144.15it/s, loss=5.77, v_num=25]\n",
      "Validating: 0it [00:00, ?it/s]\u001B[A\n",
      "Epoch 7: 100%|██████████| 82/82 [00:00<00:00, 239.57it/s, loss=5.77, v_num=25]\n",
      "Epoch 8:  51%|█████     | 42/82 [00:00<00:00, 146.29it/s, loss=5.65, v_num=25]\n",
      "Validating: 0it [00:00, ?it/s]\u001B[A\n",
      "Epoch 8: 100%|██████████| 82/82 [00:00<00:00, 245.11it/s, loss=5.65, v_num=25]\n",
      "Epoch 9:  51%|█████     | 42/82 [00:00<00:00, 146.63it/s, loss=5.39, v_num=25]\n",
      "Validating: 0it [00:00, ?it/s]\u001B[A\n",
      "Epoch 9: 100%|██████████| 82/82 [00:00<00:00, 240.44it/s, loss=5.39, v_num=25]\n",
      "Epoch 9: 100%|██████████| 82/82 [00:00<00:00, 235.29it/s, loss=5.39, v_num=25]\n"
     ]
    },
    {
     "name": "stderr",
     "output_type": "stream",
     "text": [
      "GPU available: True, used: False\n",
      "TPU available: False, using: 0 TPU cores\n",
      "IPU available: False, using: 0 IPUs\n"
     ]
    },
    {
     "name": "stdout",
     "output_type": "stream",
     "text": [
      "100\n"
     ]
    },
    {
     "name": "stderr",
     "output_type": "stream",
     "text": [
      "\n",
      "  | Name      | Type    | Params\n",
      "--------------------------------------\n",
      "0 | encoder   | Linear  | 28.8 K\n",
      "1 | act_1     | PReLU   | 1     \n",
      "2 | decoder   | Linear  | 31.6 K\n",
      "3 | act_2     | PReLU   | 1     \n",
      "4 | loss_func | MSELoss | 0     \n",
      "--------------------------------------\n",
      "60.4 K    Trainable params\n",
      "0         Non-trainable params\n",
      "60.4 K    Total params\n",
      "0.242     Total estimated model params size (MB)\n"
     ]
    },
    {
     "name": "stdout",
     "output_type": "stream",
     "text": [
      "Epoch 0:  50%|█████     | 41/82 [00:00<00:00, 120.65it/s, loss=12.2, v_num=26]\n",
      "Validating: 0it [00:00, ?it/s]\u001B[A\n",
      "Epoch 0: 100%|██████████| 82/82 [00:00<00:00, 205.07it/s, loss=12.2, v_num=26]\n",
      "Epoch 1:  50%|█████     | 41/82 [00:00<00:00, 128.84it/s, loss=11.8, v_num=26]\n",
      "Validating: 0it [00:00, ?it/s]\u001B[A\n",
      "Epoch 1: 100%|██████████| 82/82 [00:00<00:00, 217.40it/s, loss=11.8, v_num=26]\n",
      "Epoch 2:  50%|█████     | 41/82 [00:00<00:00, 124.88it/s, loss=11.8, v_num=26]\n",
      "Validating: 0it [00:00, ?it/s]\u001B[A\n",
      "Epoch 2: 100%|██████████| 82/82 [00:00<00:00, 215.85it/s, loss=11.8, v_num=26]\n",
      "Epoch 3:  50%|█████     | 41/82 [00:00<00:00, 133.36it/s, loss=11.6, v_num=26]\n",
      "Validating: 0it [00:00, ?it/s]\u001B[A\n",
      "Epoch 3: 100%|██████████| 82/82 [00:00<00:00, 223.81it/s, loss=11.6, v_num=26]\n",
      "Epoch 4:  50%|█████     | 41/82 [00:00<00:00, 133.02it/s, loss=11.9, v_num=26]\n",
      "Validating: 0it [00:00, ?it/s]\u001B[A\n",
      "Epoch 4: 100%|██████████| 82/82 [00:00<00:00, 222.88it/s, loss=11.9, v_num=26]\n",
      "Epoch 5:  50%|█████     | 41/82 [00:00<00:00, 142.64it/s, loss=11.8, v_num=26]\n",
      "Validating: 0it [00:00, ?it/s]\u001B[A\n",
      "Epoch 5: 100%|██████████| 82/82 [00:00<00:00, 237.09it/s, loss=11.8, v_num=26]\n",
      "Epoch 6:  50%|█████     | 41/82 [00:00<00:00, 123.54it/s, loss=12.9, v_num=26]\n",
      "Validating: 0it [00:00, ?it/s]\u001B[A\n",
      "Epoch 6: 100%|██████████| 82/82 [00:00<00:00, 209.42it/s, loss=12.9, v_num=26]\n",
      "Epoch 7:  50%|█████     | 41/82 [00:00<00:00, 138.59it/s, loss=13.4, v_num=26]\n",
      "Validating: 0it [00:00, ?it/s]\u001B[A\n",
      "Epoch 7: 100%|██████████| 82/82 [00:00<00:00, 232.43it/s, loss=13.4, v_num=26]\n",
      "Epoch 8:  50%|█████     | 41/82 [00:00<00:00, 131.15it/s, loss=13.7, v_num=26]\n",
      "Validating: 0it [00:00, ?it/s]\u001B[A\n",
      "Epoch 8: 100%|██████████| 82/82 [00:00<00:00, 220.31it/s, loss=13.7, v_num=26]\n",
      "Epoch 9:  50%|█████     | 41/82 [00:00<00:00, 145.34it/s, loss=14.4, v_num=26]\n",
      "Validating: 0it [00:00, ?it/s]\u001B[A\n",
      "Epoch 9: 100%|██████████| 82/82 [00:00<00:00, 248.06it/s, loss=14.4, v_num=26]\n",
      "Epoch 9: 100%|██████████| 82/82 [00:00<00:00, 244.18it/s, loss=14.4, v_num=26]\n"
     ]
    },
    {
     "name": "stderr",
     "output_type": "stream",
     "text": [
      "GPU available: True, used: False\n",
      "TPU available: False, using: 0 TPU cores\n",
      "IPU available: False, using: 0 IPUs\n"
     ]
    },
    {
     "name": "stdout",
     "output_type": "stream",
     "text": [
      "0.01\n"
     ]
    },
    {
     "name": "stderr",
     "output_type": "stream",
     "text": [
      "\n",
      "  | Name      | Type    | Params\n",
      "--------------------------------------\n",
      "0 | encoder   | Linear  | 230 K \n",
      "1 | act_1     | PReLU   | 1     \n",
      "2 | decoder   | Linear  | 232 K \n",
      "3 | act_2     | PReLU   | 1     \n",
      "4 | loss_func | MSELoss | 0     \n",
      "--------------------------------------\n",
      "463 K     Trainable params\n",
      "0         Non-trainable params\n",
      "463 K     Total params\n",
      "1.852     Total estimated model params size (MB)\n"
     ]
    },
    {
     "name": "stdout",
     "output_type": "stream",
     "text": [
      "Epoch 0:  50%|█████     | 41/82 [00:00<00:00, 107.61it/s, loss=7.21, v_num=27]\n",
      "Validating: 0it [00:00, ?it/s]\u001B[A\n",
      "Epoch 0: 100%|██████████| 82/82 [00:00<00:00, 183.94it/s, loss=7.21, v_num=27]\n",
      "Epoch 1:  50%|█████     | 41/82 [00:00<00:00, 114.00it/s, loss=2.5, v_num=27] \n",
      "Validating: 0it [00:00, ?it/s]\u001B[A\n",
      "Epoch 1: 100%|██████████| 82/82 [00:00<00:00, 192.93it/s, loss=2.5, v_num=27]\n",
      "Epoch 2:  50%|█████     | 41/82 [00:00<00:00, 108.70it/s, loss=1.88, v_num=27]\n",
      "Validating: 0it [00:00, ?it/s]\u001B[A\n",
      "Epoch 2: 100%|██████████| 82/82 [00:00<00:00, 190.07it/s, loss=1.88, v_num=27]\n",
      "Epoch 3:  50%|█████     | 41/82 [00:00<00:00, 105.03it/s, loss=1.59, v_num=27]\n",
      "Validating: 0it [00:00, ?it/s]\u001B[A\n",
      "Epoch 3: 100%|██████████| 82/82 [00:00<00:00, 185.81it/s, loss=1.59, v_num=27]\n",
      "Epoch 4:  50%|█████     | 41/82 [00:00<00:00, 111.05it/s, loss=1.49, v_num=27]\n",
      "Validating: 0it [00:00, ?it/s]\u001B[A\n",
      "Epoch 4: 100%|██████████| 82/82 [00:00<00:00, 192.31it/s, loss=1.49, v_num=27]\n",
      "Epoch 5:  50%|█████     | 41/82 [00:00<00:00, 108.70it/s, loss=1.42, v_num=27]\n",
      "Validating: 0it [00:00, ?it/s]\u001B[A\n",
      "Epoch 5: 100%|██████████| 82/82 [00:00<00:00, 187.44it/s, loss=1.42, v_num=27]\n",
      "Epoch 6:  50%|█████     | 41/82 [00:00<00:00, 108.64it/s, loss=1.43, v_num=27]\n",
      "Validating: 0it [00:00, ?it/s]\u001B[A\n",
      "Epoch 6: 100%|██████████| 82/82 [00:00<00:00, 186.94it/s, loss=1.43, v_num=27]\n",
      "Epoch 7:  50%|█████     | 41/82 [00:00<00:00, 109.03it/s, loss=1.32, v_num=27]\n",
      "Validating: 0it [00:00, ?it/s]\u001B[A\n",
      "Epoch 7: 100%|██████████| 82/82 [00:00<00:00, 186.38it/s, loss=1.32, v_num=27]\n",
      "Epoch 8:  50%|█████     | 41/82 [00:00<00:00, 111.23it/s, loss=1.31, v_num=27]\n",
      "Validating: 0it [00:00, ?it/s]\u001B[A\n",
      "Epoch 8: 100%|██████████| 82/82 [00:00<00:00, 190.95it/s, loss=1.31, v_num=27]\n",
      "Epoch 9:  50%|█████     | 41/82 [00:00<00:00, 110.41it/s, loss=1.34, v_num=27]\n",
      "Validating: 0it [00:00, ?it/s]\u001B[A\n",
      "Epoch 9: 100%|██████████| 82/82 [00:00<00:00, 194.40it/s, loss=1.34, v_num=27]\n",
      "Epoch 9: 100%|██████████| 82/82 [00:00<00:00, 189.40it/s, loss=1.34, v_num=27]\n"
     ]
    },
    {
     "name": "stderr",
     "output_type": "stream",
     "text": [
      "GPU available: True, used: False\n",
      "TPU available: False, using: 0 TPU cores\n",
      "IPU available: False, using: 0 IPUs\n"
     ]
    },
    {
     "name": "stdout",
     "output_type": "stream",
     "text": [
      "0.1\n"
     ]
    },
    {
     "name": "stderr",
     "output_type": "stream",
     "text": [
      "\n",
      "  | Name      | Type    | Params\n",
      "--------------------------------------\n",
      "0 | encoder   | Linear  | 230 K \n",
      "1 | act_1     | PReLU   | 1     \n",
      "2 | decoder   | Linear  | 232 K \n",
      "3 | act_2     | PReLU   | 1     \n",
      "4 | loss_func | MSELoss | 0     \n",
      "--------------------------------------\n",
      "463 K     Trainable params\n",
      "0         Non-trainable params\n",
      "463 K     Total params\n",
      "1.852     Total estimated model params size (MB)\n"
     ]
    },
    {
     "name": "stdout",
     "output_type": "stream",
     "text": [
      "Epoch 0:  50%|█████     | 41/82 [00:00<00:00, 107.73it/s, loss=7.67, v_num=28]\n",
      "Validating: 0it [00:00, ?it/s]\u001B[A\n",
      "Epoch 0: 100%|██████████| 82/82 [00:00<00:00, 191.23it/s, loss=7.67, v_num=28]\n",
      "Epoch 1:  50%|█████     | 41/82 [00:00<00:00, 110.78it/s, loss=2.9, v_num=28] \n",
      "Validating: 0it [00:00, ?it/s]\u001B[A\n",
      "Epoch 1: 100%|██████████| 82/82 [00:00<00:00, 190.01it/s, loss=2.9, v_num=28]\n",
      "Epoch 2:  50%|█████     | 41/82 [00:00<00:00, 117.58it/s, loss=1.86, v_num=28]\n",
      "Validating: 0it [00:00, ?it/s]\u001B[A\n",
      "Epoch 2: 100%|██████████| 82/82 [00:00<00:00, 205.76it/s, loss=1.86, v_num=28]\n",
      "Epoch 3:  50%|█████     | 41/82 [00:00<00:00, 120.05it/s, loss=1.66, v_num=28]\n",
      "Validating: 0it [00:00, ?it/s]\u001B[A\n",
      "Epoch 3: 100%|██████████| 82/82 [00:00<00:00, 210.55it/s, loss=1.66, v_num=28]\n",
      "Epoch 4:  50%|█████     | 41/82 [00:00<00:00, 119.85it/s, loss=1.8, v_num=28] \n",
      "Validating: 0it [00:00, ?it/s]\u001B[A\n",
      "Epoch 4: 100%|██████████| 82/82 [00:00<00:00, 209.79it/s, loss=1.8, v_num=28]\n",
      "Epoch 5:  50%|█████     | 41/82 [00:00<00:00, 115.47it/s, loss=1.62, v_num=28]\n",
      "Validating: 0it [00:00, ?it/s]\u001B[A\n",
      "Epoch 5: 100%|██████████| 82/82 [00:00<00:00, 202.93it/s, loss=1.62, v_num=28]\n",
      "Epoch 6:  50%|█████     | 41/82 [00:00<00:00, 117.33it/s, loss=1.72, v_num=28]\n",
      "Validating: 0it [00:00, ?it/s]\u001B[A\n",
      "Epoch 6: 100%|██████████| 82/82 [00:00<00:00, 199.82it/s, loss=1.72, v_num=28]\n",
      "Epoch 7:  50%|█████     | 41/82 [00:00<00:00, 113.85it/s, loss=1.55, v_num=28]\n",
      "Validating: 0it [00:00, ?it/s]\u001B[A\n",
      "Epoch 7: 100%|██████████| 82/82 [00:00<00:00, 195.15it/s, loss=1.55, v_num=28]\n",
      "Epoch 8:  50%|█████     | 41/82 [00:00<00:00, 125.01it/s, loss=1.61, v_num=28]\n",
      "Validating: 0it [00:00, ?it/s]\u001B[A\n",
      "Epoch 8: 100%|██████████| 82/82 [00:00<00:00, 211.07it/s, loss=1.61, v_num=28]\n",
      "Epoch 9:  50%|█████     | 41/82 [00:00<00:00, 121.74it/s, loss=1.46, v_num=28]\n",
      "Validating: 0it [00:00, ?it/s]\u001B[A\n",
      "Epoch 9: 100%|██████████| 82/82 [00:00<00:00, 207.41it/s, loss=1.46, v_num=28]\n",
      "Epoch 9: 100%|██████████| 82/82 [00:00<00:00, 200.72it/s, loss=1.46, v_num=28]\n"
     ]
    },
    {
     "name": "stderr",
     "output_type": "stream",
     "text": [
      "GPU available: True, used: False\n",
      "TPU available: False, using: 0 TPU cores\n",
      "IPU available: False, using: 0 IPUs\n",
      "\n",
      "  | Name      | Type    | Params\n",
      "--------------------------------------\n",
      "0 | encoder   | Linear  | 230 K \n",
      "1 | act_1     | PReLU   | 1     \n",
      "2 | decoder   | Linear  | 232 K \n",
      "3 | act_2     | PReLU   | 1     \n",
      "4 | loss_func | MSELoss | 0     \n",
      "--------------------------------------\n",
      "463 K     Trainable params\n",
      "0         Non-trainable params\n",
      "463 K     Total params\n",
      "1.852     Total estimated model params size (MB)\n"
     ]
    },
    {
     "name": "stdout",
     "output_type": "stream",
     "text": [
      "1\n",
      "Epoch 0:  50%|█████     | 41/82 [00:00<00:00, 116.73it/s, loss=9.85, v_num=29]\n",
      "Validating: 0it [00:00, ?it/s]\u001B[A\n",
      "Epoch 0: 100%|██████████| 82/82 [00:00<00:00, 197.83it/s, loss=9.85, v_num=29]\n",
      "Epoch 1:  50%|█████     | 41/82 [00:00<00:00, 117.64it/s, loss=4.59, v_num=29]\n",
      "Validating: 0it [00:00, ?it/s]\u001B[A\n",
      "Epoch 1: 100%|██████████| 82/82 [00:00<00:00, 206.71it/s, loss=4.59, v_num=29]\n",
      "Epoch 2:  50%|█████     | 41/82 [00:00<00:00, 114.34it/s, loss=2.52, v_num=29]\n",
      "Validating: 0it [00:00, ?it/s]\u001B[A\n",
      "Epoch 2: 100%|██████████| 82/82 [00:00<00:00, 195.44it/s, loss=2.52, v_num=29]\n",
      "Epoch 3:  50%|█████     | 41/82 [00:00<00:00, 121.88it/s, loss=1.91, v_num=29]\n",
      "Validating: 0it [00:00, ?it/s]\u001B[A\n",
      "Epoch 3: 100%|██████████| 82/82 [00:00<00:00, 212.56it/s, loss=1.91, v_num=29]\n",
      "Epoch 4:  50%|█████     | 41/82 [00:00<00:00, 119.91it/s, loss=1.82, v_num=29]\n",
      "Validating: 0it [00:00, ?it/s]\u001B[A\n",
      "Epoch 4: 100%|██████████| 82/82 [00:00<00:00, 210.58it/s, loss=1.82, v_num=29]\n",
      "Epoch 5:  50%|█████     | 41/82 [00:00<00:00, 124.89it/s, loss=1.75, v_num=29]\n",
      "Validating: 0it [00:00, ?it/s]\u001B[A\n",
      "Epoch 5: 100%|██████████| 82/82 [00:00<00:00, 218.44it/s, loss=1.75, v_num=29]\n",
      "Epoch 6:  50%|█████     | 41/82 [00:00<00:00, 115.60it/s, loss=1.69, v_num=29]\n",
      "Validating: 0it [00:00, ?it/s]\u001B[A\n",
      "Epoch 6: 100%|██████████| 82/82 [00:00<00:00, 198.29it/s, loss=1.69, v_num=29]\n",
      "Epoch 7:  50%|█████     | 41/82 [00:00<00:00, 111.71it/s, loss=1.72, v_num=29]\n",
      "Validating: 0it [00:00, ?it/s]\u001B[A\n",
      "Epoch 7: 100%|██████████| 82/82 [00:00<00:00, 192.25it/s, loss=1.72, v_num=29]\n",
      "Epoch 8:  50%|█████     | 41/82 [00:00<00:00, 125.69it/s, loss=1.7, v_num=29] \n",
      "Validating: 0it [00:00, ?it/s]\u001B[A\n",
      "Epoch 8: 100%|██████████| 82/82 [00:00<00:00, 212.61it/s, loss=1.7, v_num=29]\n",
      "Epoch 9:  50%|█████     | 41/82 [00:00<00:00, 121.10it/s, loss=1.66, v_num=29]\n",
      "Validating: 0it [00:00, ?it/s]\u001B[A\n",
      "Epoch 9: 100%|██████████| 82/82 [00:00<00:00, 209.76it/s, loss=1.66, v_num=29]\n",
      "Epoch 9: 100%|██████████| 82/82 [00:00<00:00, 203.94it/s, loss=1.66, v_num=29]\n"
     ]
    },
    {
     "name": "stderr",
     "output_type": "stream",
     "text": [
      "GPU available: True, used: False\n",
      "TPU available: False, using: 0 TPU cores\n",
      "IPU available: False, using: 0 IPUs\n"
     ]
    },
    {
     "name": "stdout",
     "output_type": "stream",
     "text": [
      "100\n"
     ]
    },
    {
     "name": "stderr",
     "output_type": "stream",
     "text": [
      "\n",
      "  | Name      | Type    | Params\n",
      "--------------------------------------\n",
      "0 | encoder   | Linear  | 230 K \n",
      "1 | act_1     | PReLU   | 1     \n",
      "2 | decoder   | Linear  | 232 K \n",
      "3 | act_2     | PReLU   | 1     \n",
      "4 | loss_func | MSELoss | 0     \n",
      "--------------------------------------\n",
      "463 K     Trainable params\n",
      "0         Non-trainable params\n",
      "463 K     Total params\n",
      "1.852     Total estimated model params size (MB)\n"
     ]
    },
    {
     "name": "stdout",
     "output_type": "stream",
     "text": [
      "Epoch 0:  50%|█████     | 41/82 [00:00<00:00, 111.70it/s, loss=13, v_num=30]  \n",
      "Validating: 0it [00:00, ?it/s]\u001B[A\n",
      "Epoch 0: 100%|██████████| 82/82 [00:00<00:00, 190.51it/s, loss=13, v_num=30]\n",
      "Epoch 1:  50%|█████     | 41/82 [00:00<00:00, 112.02it/s, loss=14.5, v_num=30]\n",
      "Validating: 0it [00:00, ?it/s]\u001B[A\n",
      "Epoch 1: 100%|██████████| 82/82 [00:00<00:00, 192.25it/s, loss=14.5, v_num=30]\n",
      "Epoch 2:  50%|█████     | 41/82 [00:00<00:00, 108.33it/s, loss=14.5, v_num=30]\n",
      "Validating: 0it [00:00, ?it/s]\u001B[A\n",
      "Epoch 2: 100%|██████████| 82/82 [00:00<00:00, 186.72it/s, loss=14.5, v_num=30]\n",
      "Epoch 3:  50%|█████     | 41/82 [00:00<00:00, 114.19it/s, loss=15.3, v_num=30]\n",
      "Validating: 0it [00:00, ?it/s]\u001B[A\n",
      "Epoch 3: 100%|██████████| 82/82 [00:00<00:00, 201.76it/s, loss=15.3, v_num=30]\n",
      "Epoch 4:  50%|█████     | 41/82 [00:00<00:00, 107.00it/s, loss=14.4, v_num=30]\n",
      "Validating: 0it [00:00, ?it/s]\u001B[A\n",
      "Epoch 4: 100%|██████████| 82/82 [00:00<00:00, 185.16it/s, loss=14.4, v_num=30]\n",
      "Epoch 5:  50%|█████     | 41/82 [00:00<00:00, 116.15it/s, loss=15.2, v_num=30]\n",
      "Validating: 0it [00:00, ?it/s]\u001B[A\n",
      "Epoch 5: 100%|██████████| 82/82 [00:00<00:00, 198.47it/s, loss=15.2, v_num=30]\n",
      "Epoch 6:  50%|█████     | 41/82 [00:00<00:00, 115.97it/s, loss=15.5, v_num=30]\n",
      "Validating: 0it [00:00, ?it/s]\u001B[A\n",
      "Epoch 6: 100%|██████████| 82/82 [00:00<00:00, 198.55it/s, loss=15.5, v_num=30]\n",
      "Epoch 7:  50%|█████     | 41/82 [00:00<00:00, 118.90it/s, loss=14.8, v_num=30]\n",
      "Validating: 0it [00:00, ?it/s]\u001B[A\n",
      "Epoch 7: 100%|██████████| 82/82 [00:00<00:00, 207.50it/s, loss=14.8, v_num=30]\n",
      "Epoch 8:  50%|█████     | 41/82 [00:00<00:00, 117.69it/s, loss=14.6, v_num=30]\n",
      "Validating: 0it [00:00, ?it/s]\u001B[A\n",
      "Epoch 8: 100%|██████████| 82/82 [00:00<00:00, 201.32it/s, loss=14.6, v_num=30]\n",
      "Epoch 9:  50%|█████     | 41/82 [00:00<00:00, 119.33it/s, loss=15.5, v_num=30]\n",
      "Validating: 0it [00:00, ?it/s]\u001B[A\n",
      "Epoch 9: 100%|██████████| 82/82 [00:00<00:00, 203.55it/s, loss=15.5, v_num=30]\n",
      "Epoch 9: 100%|██████████| 82/82 [00:00<00:00, 197.24it/s, loss=15.5, v_num=30]\n"
     ]
    },
    {
     "name": "stderr",
     "output_type": "stream",
     "text": [
      "GPU available: True, used: False\n",
      "TPU available: False, using: 0 TPU cores\n",
      "IPU available: False, using: 0 IPUs\n"
     ]
    },
    {
     "name": "stdout",
     "output_type": "stream",
     "text": [
      "0.01\n"
     ]
    },
    {
     "name": "stderr",
     "output_type": "stream",
     "text": [
      "\n",
      "  | Name      | Type    | Params\n",
      "--------------------------------------\n",
      "0 | encoder   | Linear  | 863 K \n",
      "1 | act_1     | PReLU   | 1     \n",
      "2 | decoder   | Linear  | 865 K \n",
      "3 | act_2     | PReLU   | 1     \n",
      "4 | loss_func | MSELoss | 0     \n",
      "--------------------------------------\n",
      "1.7 M     Trainable params\n",
      "0         Non-trainable params\n",
      "1.7 M     Total params\n",
      "6.915     Total estimated model params size (MB)\n"
     ]
    },
    {
     "name": "stdout",
     "output_type": "stream",
     "text": [
      "Epoch 0:  50%|█████     | 41/82 [00:00<00:00, 65.59it/s, loss=5.51, v_num=31]\n",
      "Validating: 0it [00:00, ?it/s]\u001B[A\n",
      "Epoch 0: 100%|██████████| 82/82 [00:00<00:00, 116.46it/s, loss=5.51, v_num=31]\n",
      "Epoch 1:  50%|█████     | 41/82 [00:00<00:00, 65.96it/s, loss=2.53, v_num=31] \n",
      "Validating: 0it [00:00, ?it/s]\u001B[A\n",
      "Epoch 1: 100%|██████████| 82/82 [00:00<00:00, 119.66it/s, loss=2.53, v_num=31]\n",
      "Epoch 2:  50%|█████     | 41/82 [00:00<00:00, 68.36it/s, loss=1.99, v_num=31] \n",
      "Validating: 0it [00:00, ?it/s]\u001B[A\n",
      "Epoch 2: 100%|██████████| 82/82 [00:00<00:00, 124.01it/s, loss=1.99, v_num=31]\n",
      "Epoch 3:  50%|█████     | 41/82 [00:00<00:00, 66.21it/s, loss=1.74, v_num=31] \n",
      "Validating: 0it [00:00, ?it/s]\u001B[A\n",
      "Epoch 3: 100%|██████████| 82/82 [00:00<00:00, 118.50it/s, loss=1.74, v_num=31]\n",
      "Epoch 4:  50%|█████     | 41/82 [00:00<00:00, 66.59it/s, loss=1.71, v_num=31] \n",
      "Validating: 0it [00:00, ?it/s]\u001B[A\n",
      "Epoch 4: 100%|██████████| 82/82 [00:00<00:00, 121.35it/s, loss=1.71, v_num=31]\n",
      "Epoch 5:  50%|█████     | 41/82 [00:00<00:00, 66.06it/s, loss=1.6, v_num=31]  \n",
      "Validating: 0it [00:00, ?it/s]\u001B[A\n",
      "Epoch 5: 100%|██████████| 82/82 [00:00<00:00, 118.36it/s, loss=1.6, v_num=31]\n",
      "Epoch 6:  50%|█████     | 41/82 [00:00<00:00, 66.42it/s, loss=1.64, v_num=31]\n",
      "Validating: 0it [00:00, ?it/s]\u001B[A\n",
      "Epoch 6: 100%|██████████| 82/82 [00:00<00:00, 119.31it/s, loss=1.64, v_num=31]\n",
      "Epoch 7:  50%|█████     | 41/82 [00:00<00:00, 64.92it/s, loss=1.5, v_num=31]  \n",
      "Validating: 0it [00:00, ?it/s]\u001B[A\n",
      "Epoch 7: 100%|██████████| 82/82 [00:00<00:00, 116.23it/s, loss=1.5, v_num=31]\n",
      "Epoch 8:  50%|█████     | 41/82 [00:00<00:00, 67.93it/s, loss=1.54, v_num=31]\n",
      "Validating: 0it [00:00, ?it/s]\u001B[A\n",
      "Epoch 8: 100%|██████████| 82/82 [00:00<00:00, 123.10it/s, loss=1.54, v_num=31]\n",
      "Epoch 9:  50%|█████     | 41/82 [00:00<00:00, 64.38it/s, loss=1.47, v_num=31] \n",
      "Validating: 0it [00:00, ?it/s]\u001B[A\n",
      "Epoch 9: 100%|██████████| 82/82 [00:00<00:00, 117.30it/s, loss=1.47, v_num=31]\n",
      "Epoch 9: 100%|██████████| 82/82 [00:00<00:00, 111.76it/s, loss=1.47, v_num=31]\n"
     ]
    },
    {
     "name": "stderr",
     "output_type": "stream",
     "text": [
      "GPU available: True, used: False\n",
      "TPU available: False, using: 0 TPU cores\n",
      "IPU available: False, using: 0 IPUs\n",
      "\n",
      "  | Name      | Type    | Params\n",
      "--------------------------------------\n",
      "0 | encoder   | Linear  | 863 K \n",
      "1 | act_1     | PReLU   | 1     \n",
      "2 | decoder   | Linear  | 865 K \n",
      "3 | act_2     | PReLU   | 1     \n",
      "4 | loss_func | MSELoss | 0     \n",
      "--------------------------------------\n",
      "1.7 M     Trainable params\n",
      "0         Non-trainable params\n",
      "1.7 M     Total params\n",
      "6.915     Total estimated model params size (MB)\n"
     ]
    },
    {
     "name": "stdout",
     "output_type": "stream",
     "text": [
      "0.1\n",
      "Epoch 0:  50%|█████     | 41/82 [00:00<00:00, 66.31it/s, loss=5.31, v_num=32]\n",
      "Validating: 0it [00:00, ?it/s]\u001B[A\n",
      "Epoch 0: 100%|██████████| 82/82 [00:00<00:00, 117.68it/s, loss=5.31, v_num=32]\n",
      "Epoch 1:  50%|█████     | 41/82 [00:00<00:00, 63.81it/s, loss=2.44, v_num=32] \n",
      "Validating: 0it [00:00, ?it/s]\u001B[A\n",
      "Epoch 1: 100%|██████████| 82/82 [00:00<00:00, 113.49it/s, loss=2.44, v_num=32]\n",
      "Epoch 2:  50%|█████     | 41/82 [00:00<00:00, 66.84it/s, loss=2.09, v_num=32] \n",
      "Validating: 0it [00:00, ?it/s]\u001B[A\n",
      "Epoch 2: 100%|██████████| 82/82 [00:00<00:00, 120.20it/s, loss=2.09, v_num=32]\n",
      "Epoch 3:  50%|█████     | 41/82 [00:00<00:00, 66.04it/s, loss=1.94, v_num=32] \n",
      "Validating: 0it [00:00, ?it/s]\u001B[A\n",
      "Epoch 3: 100%|██████████| 82/82 [00:00<00:00, 119.62it/s, loss=1.94, v_num=32]\n",
      "Epoch 4:  50%|█████     | 41/82 [00:00<00:00, 68.03it/s, loss=2.03, v_num=32] \n",
      "Validating: 0it [00:00, ?it/s]\u001B[A\n",
      "Epoch 4: 100%|██████████| 82/82 [00:00<00:00, 121.28it/s, loss=2.03, v_num=32]\n",
      "Epoch 5:  50%|█████     | 41/82 [00:00<00:00, 69.68it/s, loss=2.1, v_num=32]  \n",
      "Validating: 0it [00:00, ?it/s]\u001B[A\n",
      "Epoch 5: 100%|██████████| 82/82 [00:00<00:00, 124.55it/s, loss=2.1, v_num=32]\n",
      "Epoch 6:  50%|█████     | 41/82 [00:00<00:00, 66.92it/s, loss=2.03, v_num=32]\n",
      "Validating: 0it [00:00, ?it/s]\u001B[A\n",
      "Epoch 6: 100%|██████████| 82/82 [00:00<00:00, 119.56it/s, loss=2.03, v_num=32]\n",
      "Epoch 7:  50%|█████     | 41/82 [00:00<00:00, 65.02it/s, loss=1.9, v_num=32]  \n",
      "Validating: 0it [00:00, ?it/s]\u001B[A\n",
      "Epoch 7: 100%|██████████| 82/82 [00:00<00:00, 117.48it/s, loss=1.9, v_num=32]\n",
      "Epoch 8:  50%|█████     | 41/82 [00:00<00:00, 67.88it/s, loss=1.84, v_num=32]\n",
      "Validating: 0it [00:00, ?it/s]\u001B[A\n",
      "Epoch 8: 100%|██████████| 82/82 [00:00<00:00, 121.01it/s, loss=1.84, v_num=32]\n",
      "Epoch 9:  50%|█████     | 41/82 [00:00<00:00, 68.00it/s, loss=1.72, v_num=32] \n",
      "Validating: 0it [00:00, ?it/s]\u001B[A\n",
      "Epoch 9: 100%|██████████| 82/82 [00:00<00:00, 121.38it/s, loss=1.72, v_num=32]\n",
      "Epoch 9: 100%|██████████| 82/82 [00:00<00:00, 115.78it/s, loss=1.72, v_num=32]\n"
     ]
    },
    {
     "name": "stderr",
     "output_type": "stream",
     "text": [
      "GPU available: True, used: False\n",
      "TPU available: False, using: 0 TPU cores\n",
      "IPU available: False, using: 0 IPUs\n"
     ]
    },
    {
     "name": "stdout",
     "output_type": "stream",
     "text": [
      "1\n"
     ]
    },
    {
     "name": "stderr",
     "output_type": "stream",
     "text": [
      "\n",
      "  | Name      | Type    | Params\n",
      "--------------------------------------\n",
      "0 | encoder   | Linear  | 863 K \n",
      "1 | act_1     | PReLU   | 1     \n",
      "2 | decoder   | Linear  | 865 K \n",
      "3 | act_2     | PReLU   | 1     \n",
      "4 | loss_func | MSELoss | 0     \n",
      "--------------------------------------\n",
      "1.7 M     Trainable params\n",
      "0         Non-trainable params\n",
      "1.7 M     Total params\n",
      "6.915     Total estimated model params size (MB)\n"
     ]
    },
    {
     "name": "stdout",
     "output_type": "stream",
     "text": [
      "Epoch 0:  50%|█████     | 41/82 [00:00<00:00, 67.59it/s, loss=5.21, v_num=33]\n",
      "Validating: 0it [00:00, ?it/s]\u001B[A\n",
      "Epoch 0: 100%|██████████| 82/82 [00:00<00:00, 119.87it/s, loss=5.21, v_num=33]\n",
      "Epoch 1:  50%|█████     | 41/82 [00:00<00:00, 68.30it/s, loss=2.62, v_num=33] \n",
      "Validating: 0it [00:00, ?it/s]\u001B[A\n",
      "Epoch 1: 100%|██████████| 82/82 [00:00<00:00, 119.89it/s, loss=2.62, v_num=33]\n",
      "Epoch 2:  50%|█████     | 41/82 [00:00<00:00, 62.33it/s, loss=2.35, v_num=33] \n",
      "Validating: 0it [00:00, ?it/s]\u001B[A\n",
      "Epoch 2: 100%|██████████| 82/82 [00:00<00:00, 111.67it/s, loss=2.35, v_num=33]\n",
      "Epoch 3:  50%|█████     | 41/82 [00:00<00:00, 64.11it/s, loss=2.16, v_num=33] \n",
      "Validating: 0it [00:00, ?it/s]\u001B[A\n",
      "Epoch 3: 100%|██████████| 82/82 [00:00<00:00, 114.98it/s, loss=2.16, v_num=33]\n",
      "Epoch 4:  50%|█████     | 41/82 [00:00<00:00, 67.90it/s, loss=1.95, v_num=33] \n",
      "Validating: 0it [00:00, ?it/s]\u001B[A\n",
      "Epoch 4: 100%|██████████| 82/82 [00:00<00:00, 120.96it/s, loss=1.95, v_num=33]\n",
      "Epoch 5:  50%|█████     | 41/82 [00:00<00:00, 65.34it/s, loss=2.11, v_num=33] \n",
      "Validating: 0it [00:00, ?it/s]\u001B[A\n",
      "Epoch 5: 100%|██████████| 82/82 [00:00<00:00, 115.91it/s, loss=2.11, v_num=33]\n",
      "Epoch 6:  50%|█████     | 41/82 [00:00<00:00, 63.87it/s, loss=1.92, v_num=33] \n",
      "Validating: 0it [00:00, ?it/s]\u001B[A\n",
      "Epoch 6: 100%|██████████| 82/82 [00:00<00:00, 116.90it/s, loss=1.92, v_num=33]\n",
      "Epoch 7:  50%|█████     | 41/82 [00:00<00:00, 67.73it/s, loss=1.86, v_num=33] \n",
      "Validating: 0it [00:00, ?it/s]\u001B[A\n",
      "Epoch 7: 100%|██████████| 82/82 [00:00<00:00, 122.63it/s, loss=1.86, v_num=33]\n",
      "Epoch 8:  50%|█████     | 41/82 [00:00<00:00, 64.95it/s, loss=1.73, v_num=33] \n",
      "Validating: 0it [00:00, ?it/s]\u001B[A\n",
      "Epoch 8: 100%|██████████| 82/82 [00:00<00:00, 115.69it/s, loss=1.73, v_num=33]\n",
      "Epoch 9:  50%|█████     | 41/82 [00:00<00:00, 67.02it/s, loss=1.76, v_num=33] \n",
      "Validating: 0it [00:00, ?it/s]\u001B[A\n",
      "Epoch 9: 100%|██████████| 82/82 [00:00<00:00, 122.26it/s, loss=1.76, v_num=33]\n",
      "Epoch 9: 100%|██████████| 82/82 [00:00<00:00, 116.41it/s, loss=1.76, v_num=33]\n"
     ]
    },
    {
     "name": "stderr",
     "output_type": "stream",
     "text": [
      "GPU available: True, used: False\n",
      "TPU available: False, using: 0 TPU cores\n",
      "IPU available: False, using: 0 IPUs\n"
     ]
    },
    {
     "name": "stdout",
     "output_type": "stream",
     "text": [
      "100\n"
     ]
    },
    {
     "name": "stderr",
     "output_type": "stream",
     "text": [
      "\n",
      "  | Name      | Type    | Params\n",
      "--------------------------------------\n",
      "0 | encoder   | Linear  | 863 K \n",
      "1 | act_1     | PReLU   | 1     \n",
      "2 | decoder   | Linear  | 865 K \n",
      "3 | act_2     | PReLU   | 1     \n",
      "4 | loss_func | MSELoss | 0     \n",
      "--------------------------------------\n",
      "1.7 M     Trainable params\n",
      "0         Non-trainable params\n",
      "1.7 M     Total params\n",
      "6.915     Total estimated model params size (MB)\n"
     ]
    },
    {
     "name": "stdout",
     "output_type": "stream",
     "text": [
      "Epoch 0:  50%|█████     | 41/82 [00:00<00:00, 65.70it/s, loss=14.2, v_num=34]\n",
      "Validating: 0it [00:00, ?it/s]\u001B[A\n",
      "Epoch 0: 100%|██████████| 82/82 [00:00<00:00, 115.83it/s, loss=14.2, v_num=34]\n",
      "Epoch 1:  50%|█████     | 41/82 [00:00<00:00, 64.74it/s, loss=15.5, v_num=34] \n",
      "Validating: 0it [00:00, ?it/s]\u001B[A\n",
      "Epoch 1: 100%|██████████| 82/82 [00:00<00:00, 117.04it/s, loss=15.5, v_num=34]\n",
      "Epoch 2:  50%|█████     | 41/82 [00:00<00:00, 64.51it/s, loss=15.1, v_num=34] \n",
      "Validating: 0it [00:00, ?it/s]\u001B[A\n",
      "Epoch 2: 100%|██████████| 82/82 [00:00<00:00, 118.05it/s, loss=15.1, v_num=34]\n",
      "Epoch 3:  50%|█████     | 41/82 [00:00<00:00, 67.28it/s, loss=14.7, v_num=34] \n",
      "Validating: 0it [00:00, ?it/s]\u001B[A\n",
      "Epoch 3: 100%|██████████| 82/82 [00:00<00:00, 119.98it/s, loss=14.7, v_num=34]\n",
      "Epoch 4:  50%|█████     | 41/82 [00:00<00:00, 66.85it/s, loss=15.1, v_num=34] \n",
      "Validating: 0it [00:00, ?it/s]\u001B[A\n",
      "Epoch 4: 100%|██████████| 82/82 [00:00<00:00, 122.07it/s, loss=15.1, v_num=34]\n",
      "Epoch 5:  50%|█████     | 41/82 [00:00<00:00, 66.89it/s, loss=15, v_num=34]   \n",
      "Validating: 0it [00:00, ?it/s]\u001B[A\n",
      "Epoch 5: 100%|██████████| 82/82 [00:00<00:00, 121.99it/s, loss=15, v_num=34]\n",
      "Epoch 6:  50%|█████     | 41/82 [00:00<00:00, 67.02it/s, loss=14.7, v_num=34]\n",
      "Validating: 0it [00:00, ?it/s]\u001B[A\n",
      "Epoch 6: 100%|██████████| 82/82 [00:00<00:00, 118.94it/s, loss=14.7, v_num=34]\n",
      "Epoch 7:  50%|█████     | 41/82 [00:00<00:00, 65.05it/s, loss=14.9, v_num=34] \n",
      "Validating: 0it [00:00, ?it/s]\u001B[A\n",
      "Epoch 7: 100%|██████████| 82/82 [00:00<00:00, 116.27it/s, loss=14.9, v_num=34]\n",
      "Epoch 8:  50%|█████     | 41/82 [00:00<00:00, 65.58it/s, loss=14.7, v_num=34] \n",
      "Validating: 0it [00:00, ?it/s]\u001B[A\n",
      "Epoch 8: 100%|██████████| 82/82 [00:00<00:00, 119.56it/s, loss=14.7, v_num=34]\n",
      "Epoch 9:  50%|█████     | 41/82 [00:00<00:00, 67.16it/s, loss=15, v_num=34]   \n",
      "Validating: 0it [00:00, ?it/s]\u001B[A\n",
      "Epoch 9: 100%|██████████| 82/82 [00:00<00:00, 119.93it/s, loss=15, v_num=34]\n",
      "Epoch 9: 100%|██████████| 82/82 [00:00<00:00, 114.51it/s, loss=15, v_num=34]\n"
     ]
    },
    {
     "name": "stderr",
     "output_type": "stream",
     "text": [
      "GPU available: True, used: False\n",
      "TPU available: False, using: 0 TPU cores\n",
      "IPU available: False, using: 0 IPUs\n"
     ]
    },
    {
     "name": "stdout",
     "output_type": "stream",
     "text": [
      "0.01\n"
     ]
    },
    {
     "name": "stderr",
     "output_type": "stream",
     "text": [
      "\n",
      "  | Name      | Type    | Params\n",
      "--------------------------------------\n",
      "0 | encoder   | Linear  | 28.8 K\n",
      "1 | act_1     | PReLU   | 1     \n",
      "2 | decoder   | Linear  | 31.6 K\n",
      "3 | act_2     | PReLU   | 1     \n",
      "4 | loss_func | MSELoss | 0     \n",
      "--------------------------------------\n",
      "60.4 K    Trainable params\n",
      "0         Non-trainable params\n",
      "60.4 K    Total params\n",
      "0.242     Total estimated model params size (MB)\n"
     ]
    },
    {
     "name": "stdout",
     "output_type": "stream",
     "text": [
      "Epoch 0:  51%|█████     | 42/82 [00:00<00:00, 135.57it/s, loss=10.4, v_num=35]\n",
      "Validating: 0it [00:00, ?it/s]\u001B[A\n",
      "Epoch 0: 100%|██████████| 82/82 [00:00<00:00, 228.14it/s, loss=10.4, v_num=35]\n",
      "Epoch 1:  50%|█████     | 41/82 [00:00<00:00, 124.76it/s, loss=4.99, v_num=35]\n",
      "Validating: 0it [00:00, ?it/s]\u001B[A\n",
      "Epoch 1: 100%|██████████| 82/82 [00:00<00:00, 213.30it/s, loss=4.99, v_num=35]\n",
      "Epoch 2:  51%|█████     | 42/82 [00:00<00:00, 131.14it/s, loss=2.83, v_num=35]\n",
      "Validating: 0it [00:00, ?it/s]\u001B[A\n",
      "Epoch 2: 100%|██████████| 82/82 [00:00<00:00, 218.08it/s, loss=2.83, v_num=35]\n",
      "Epoch 3:  51%|█████     | 42/82 [00:00<00:00, 141.74it/s, loss=2.4, v_num=35] \n",
      "Validating: 0it [00:00, ?it/s]\u001B[A\n",
      "Epoch 3: 100%|██████████| 82/82 [00:00<00:00, 232.17it/s, loss=2.4, v_num=35]\n",
      "Epoch 4:  51%|█████     | 42/82 [00:00<00:00, 140.51it/s, loss=2.07, v_num=35]\n",
      "Validating: 0it [00:00, ?it/s]\u001B[A\n",
      "Epoch 4: 100%|██████████| 82/82 [00:00<00:00, 239.38it/s, loss=2.07, v_num=35]\n",
      "Epoch 5:  51%|█████     | 42/82 [00:00<00:00, 139.60it/s, loss=1.91, v_num=35]\n",
      "Validating: 0it [00:00, ?it/s]\u001B[A\n",
      "Epoch 5: 100%|██████████| 82/82 [00:00<00:00, 230.38it/s, loss=1.91, v_num=35]\n",
      "Epoch 6:  51%|█████     | 42/82 [00:00<00:00, 135.89it/s, loss=1.82, v_num=35]\n",
      "Validating: 0it [00:00, ?it/s]\u001B[A\n",
      "Epoch 6: 100%|██████████| 82/82 [00:00<00:00, 225.90it/s, loss=1.82, v_num=35]\n",
      "Epoch 7:  51%|█████     | 42/82 [00:00<00:00, 144.12it/s, loss=1.88, v_num=35]\n",
      "Validating: 0it [00:00, ?it/s]\u001B[A\n",
      "Epoch 7: 100%|██████████| 82/82 [00:00<00:00, 236.23it/s, loss=1.88, v_num=35]\n",
      "Epoch 8:  51%|█████     | 42/82 [00:00<00:00, 135.84it/s, loss=1.84, v_num=35]\n",
      "Validating: 0it [00:00, ?it/s]\u001B[A\n",
      "Epoch 8: 100%|██████████| 82/82 [00:00<00:00, 225.13it/s, loss=1.84, v_num=35]\n",
      "Epoch 9:  51%|█████     | 42/82 [00:00<00:00, 139.42it/s, loss=1.66, v_num=35]\n",
      "Validating: 0it [00:00, ?it/s]\u001B[A\n",
      "Epoch 9: 100%|██████████| 82/82 [00:00<00:00, 231.01it/s, loss=1.66, v_num=35]\n",
      "Epoch 9: 100%|██████████| 82/82 [00:00<00:00, 223.10it/s, loss=1.66, v_num=35]\n"
     ]
    },
    {
     "name": "stderr",
     "output_type": "stream",
     "text": [
      "GPU available: True, used: False\n",
      "TPU available: False, using: 0 TPU cores\n",
      "IPU available: False, using: 0 IPUs\n"
     ]
    },
    {
     "name": "stdout",
     "output_type": "stream",
     "text": [
      "0.1\n"
     ]
    },
    {
     "name": "stderr",
     "output_type": "stream",
     "text": [
      "\n",
      "  | Name      | Type    | Params\n",
      "--------------------------------------\n",
      "0 | encoder   | Linear  | 28.8 K\n",
      "1 | act_1     | PReLU   | 1     \n",
      "2 | decoder   | Linear  | 31.6 K\n",
      "3 | act_2     | PReLU   | 1     \n",
      "4 | loss_func | MSELoss | 0     \n",
      "--------------------------------------\n",
      "60.4 K    Trainable params\n",
      "0         Non-trainable params\n",
      "60.4 K    Total params\n",
      "0.242     Total estimated model params size (MB)\n"
     ]
    },
    {
     "name": "stdout",
     "output_type": "stream",
     "text": [
      "Epoch 0:  50%|█████     | 41/82 [00:00<00:00, 127.19it/s, loss=9.6, v_num=36] \n",
      "Validating: 0it [00:00, ?it/s]\u001B[A\n",
      "Epoch 0: 100%|██████████| 82/82 [00:00<00:00, 223.01it/s, loss=9.6, v_num=36]\n",
      "Epoch 1:  50%|█████     | 41/82 [00:00<00:00, 129.41it/s, loss=4.14, v_num=36]\n",
      "Validating: 0it [00:00, ?it/s]\u001B[A\n",
      "Epoch 1: 100%|██████████| 82/82 [00:00<00:00, 225.05it/s, loss=4.14, v_num=36]\n",
      "Epoch 2:  51%|█████     | 42/82 [00:00<00:00, 141.98it/s, loss=2.7, v_num=36] \n",
      "Validating: 0it [00:00, ?it/s]\u001B[A\n",
      "Epoch 2: 100%|██████████| 82/82 [00:00<00:00, 240.72it/s, loss=2.7, v_num=36]\n",
      "Epoch 3:  51%|█████     | 42/82 [00:00<00:00, 141.04it/s, loss=2.58, v_num=36]\n",
      "Validating: 0it [00:00, ?it/s]\u001B[A\n",
      "Epoch 3: 100%|██████████| 82/82 [00:00<00:00, 239.91it/s, loss=2.58, v_num=36]\n",
      "Epoch 4:  51%|█████     | 42/82 [00:00<00:00, 151.08it/s, loss=2.6, v_num=36] \n",
      "Validating: 0it [00:00, ?it/s]\u001B[A\n",
      "Epoch 4: 100%|██████████| 82/82 [00:00<00:00, 244.28it/s, loss=2.6, v_num=36]\n",
      "Epoch 5:  51%|█████     | 42/82 [00:00<00:00, 152.28it/s, loss=2.6, v_num=36] \n",
      "Validating: 0it [00:00, ?it/s]\u001B[A\n",
      "Epoch 5: 100%|██████████| 82/82 [00:00<00:00, 248.10it/s, loss=2.6, v_num=36]\n",
      "Epoch 6:  51%|█████     | 42/82 [00:00<00:00, 143.61it/s, loss=2.42, v_num=36]\n",
      "Validating: 0it [00:00, ?it/s]\u001B[A\n",
      "Epoch 6: 100%|██████████| 82/82 [00:00<00:00, 243.63it/s, loss=2.42, v_num=36]\n",
      "Epoch 7:  51%|█████     | 42/82 [00:00<00:00, 148.59it/s, loss=2.29, v_num=36]\n",
      "Validating: 0it [00:00, ?it/s]\u001B[A\n",
      "Epoch 7: 100%|██████████| 82/82 [00:00<00:00, 243.05it/s, loss=2.29, v_num=36]\n",
      "Epoch 8:  51%|█████     | 42/82 [00:00<00:00, 136.93it/s, loss=2.3, v_num=36] \n",
      "Validating: 0it [00:00, ?it/s]\u001B[A\n",
      "Epoch 8: 100%|██████████| 82/82 [00:00<00:00, 229.16it/s, loss=2.3, v_num=36]\n",
      "Epoch 9:  51%|█████     | 42/82 [00:00<00:00, 142.13it/s, loss=2.65, v_num=36]\n",
      "Validating: 0it [00:00, ?it/s]\u001B[A\n",
      "Epoch 9: 100%|██████████| 82/82 [00:00<00:00, 234.00it/s, loss=2.65, v_num=36]\n",
      "Epoch 9: 100%|██████████| 82/82 [00:00<00:00, 230.26it/s, loss=2.65, v_num=36]\n"
     ]
    },
    {
     "name": "stderr",
     "output_type": "stream",
     "text": [
      "GPU available: True, used: False\n",
      "TPU available: False, using: 0 TPU cores\n",
      "IPU available: False, using: 0 IPUs\n"
     ]
    },
    {
     "name": "stdout",
     "output_type": "stream",
     "text": [
      "1\n"
     ]
    },
    {
     "name": "stderr",
     "output_type": "stream",
     "text": [
      "\n",
      "  | Name      | Type    | Params\n",
      "--------------------------------------\n",
      "0 | encoder   | Linear  | 28.8 K\n",
      "1 | act_1     | PReLU   | 1     \n",
      "2 | decoder   | Linear  | 31.6 K\n",
      "3 | act_2     | PReLU   | 1     \n",
      "4 | loss_func | MSELoss | 0     \n",
      "--------------------------------------\n",
      "60.4 K    Trainable params\n",
      "0         Non-trainable params\n",
      "60.4 K    Total params\n",
      "0.242     Total estimated model params size (MB)\n"
     ]
    },
    {
     "name": "stdout",
     "output_type": "stream",
     "text": [
      "Epoch 0:  50%|█████     | 41/82 [00:00<00:00, 141.99it/s, loss=10.1, v_num=37]\n",
      "Validating: 0it [00:00, ?it/s]\u001B[A\n",
      "Epoch 0: 100%|██████████| 82/82 [00:00<00:00, 243.56it/s, loss=10.1, v_num=37]\n",
      "Epoch 1:  50%|█████     | 41/82 [00:00<00:00, 140.60it/s, loss=5.14, v_num=37]\n",
      "Validating: 0it [00:00, ?it/s]\u001B[A\n",
      "Epoch 1: 100%|██████████| 82/82 [00:00<00:00, 241.57it/s, loss=5.14, v_num=37]\n",
      "Epoch 2:  50%|█████     | 41/82 [00:00<00:00, 124.26it/s, loss=2.97, v_num=37]\n",
      "Validating: 0it [00:00, ?it/s]\u001B[A\n",
      "Epoch 2: 100%|██████████| 82/82 [00:00<00:00, 210.86it/s, loss=2.97, v_num=37]\n",
      "Epoch 3:  50%|█████     | 41/82 [00:00<00:00, 125.59it/s, loss=2.52, v_num=37]\n",
      "Validating: 0it [00:00, ?it/s]\u001B[A\n",
      "Epoch 3: 100%|██████████| 82/82 [00:00<00:00, 217.45it/s, loss=2.52, v_num=37]\n",
      "Epoch 4:  50%|█████     | 41/82 [00:00<00:00, 130.34it/s, loss=2.46, v_num=37]\n",
      "Validating: 0it [00:00, ?it/s]\u001B[A\n",
      "Epoch 4: 100%|██████████| 82/82 [00:00<00:00, 213.77it/s, loss=2.46, v_num=37]\n",
      "Epoch 5:  50%|█████     | 41/82 [00:00<00:00, 139.00it/s, loss=2.31, v_num=37]\n",
      "Validating: 0it [00:00, ?it/s]\u001B[A\n",
      "Epoch 5: 100%|██████████| 82/82 [00:00<00:00, 231.64it/s, loss=2.31, v_num=37]\n",
      "Epoch 6:  50%|█████     | 41/82 [00:00<00:00, 143.79it/s, loss=2.31, v_num=37]\n",
      "Validating: 0it [00:00, ?it/s]\u001B[A\n",
      "Epoch 6: 100%|██████████| 82/82 [00:00<00:00, 238.97it/s, loss=2.31, v_num=37]\n",
      "Epoch 7:  50%|█████     | 41/82 [00:00<00:00, 133.93it/s, loss=2.54, v_num=37]\n",
      "Validating: 0it [00:00, ?it/s]\u001B[A\n",
      "Epoch 7: 100%|██████████| 82/82 [00:00<00:00, 230.44it/s, loss=2.54, v_num=37]\n",
      "Epoch 8:  50%|█████     | 41/82 [00:00<00:00, 140.27it/s, loss=2.48, v_num=37]\n",
      "Validating: 0it [00:00, ?it/s]\u001B[A\n",
      "Epoch 8: 100%|██████████| 82/82 [00:00<00:00, 234.28it/s, loss=2.48, v_num=37]\n",
      "Epoch 9:  50%|█████     | 41/82 [00:00<00:00, 129.69it/s, loss=2.5, v_num=37] \n",
      "Validating: 0it [00:00, ?it/s]\u001B[A\n",
      "Epoch 9: 100%|██████████| 82/82 [00:00<00:00, 219.58it/s, loss=2.5, v_num=37]\n",
      "Epoch 9: 100%|██████████| 82/82 [00:00<00:00, 216.19it/s, loss=2.5, v_num=37]\n"
     ]
    },
    {
     "name": "stderr",
     "output_type": "stream",
     "text": [
      "GPU available: True, used: False\n",
      "TPU available: False, using: 0 TPU cores\n",
      "IPU available: False, using: 0 IPUs\n"
     ]
    },
    {
     "name": "stdout",
     "output_type": "stream",
     "text": [
      "100\n"
     ]
    },
    {
     "name": "stderr",
     "output_type": "stream",
     "text": [
      "\n",
      "  | Name      | Type    | Params\n",
      "--------------------------------------\n",
      "0 | encoder   | Linear  | 28.8 K\n",
      "1 | act_1     | PReLU   | 1     \n",
      "2 | decoder   | Linear  | 31.6 K\n",
      "3 | act_2     | PReLU   | 1     \n",
      "4 | loss_func | MSELoss | 0     \n",
      "--------------------------------------\n",
      "60.4 K    Trainable params\n",
      "0         Non-trainable params\n",
      "60.4 K    Total params\n",
      "0.242     Total estimated model params size (MB)\n"
     ]
    },
    {
     "name": "stdout",
     "output_type": "stream",
     "text": [
      "Epoch 0:  51%|█████     | 42/82 [00:00<00:00, 133.51it/s, loss=11.7, v_num=38]\n",
      "Validating: 0it [00:00, ?it/s]\u001B[A\n",
      "Epoch 0: 100%|██████████| 82/82 [00:00<00:00, 221.35it/s, loss=11.7, v_num=38]\n",
      "Epoch 1:  50%|█████     | 41/82 [00:00<00:00, 134.54it/s, loss=14.7, v_num=38]\n",
      "Validating: 0it [00:00, ?it/s]\u001B[A\n",
      "Epoch 1: 100%|██████████| 82/82 [00:00<00:00, 234.10it/s, loss=14.7, v_num=38]\n",
      "Epoch 2:  51%|█████     | 42/82 [00:00<00:00, 135.84it/s, loss=15.1, v_num=38]\n",
      "Validating: 0it [00:00, ?it/s]\u001B[A\n",
      "Epoch 2: 100%|██████████| 82/82 [00:00<00:00, 224.27it/s, loss=15.1, v_num=38]\n",
      "Epoch 3:  51%|█████     | 42/82 [00:00<00:00, 137.68it/s, loss=14.6, v_num=38]\n",
      "Validating: 0it [00:00, ?it/s]\u001B[A\n",
      "Epoch 3: 100%|██████████| 82/82 [00:00<00:00, 232.87it/s, loss=14.6, v_num=38]\n",
      "Epoch 4:  51%|█████     | 42/82 [00:00<00:00, 129.97it/s, loss=15, v_num=38]  \n",
      "Validating: 0it [00:00, ?it/s]\u001B[A\n",
      "Epoch 4: 100%|██████████| 82/82 [00:00<00:00, 215.71it/s, loss=15, v_num=38]\n",
      "Epoch 5:  51%|█████     | 42/82 [00:00<00:00, 143.80it/s, loss=14.8, v_num=38]\n",
      "Validating: 0it [00:00, ?it/s]\u001B[A\n",
      "Epoch 5: 100%|██████████| 82/82 [00:00<00:00, 234.36it/s, loss=14.8, v_num=38]\n",
      "Epoch 6:  51%|█████     | 42/82 [00:00<00:00, 138.26it/s, loss=14.9, v_num=38]\n",
      "Validating: 0it [00:00, ?it/s]\u001B[A\n",
      "Epoch 6: 100%|██████████| 82/82 [00:00<00:00, 227.93it/s, loss=14.9, v_num=38]\n",
      "Epoch 7:  51%|█████     | 42/82 [00:00<00:00, 140.26it/s, loss=14.8, v_num=38]\n",
      "Validating: 0it [00:00, ?it/s]\u001B[A\n",
      "Epoch 7: 100%|██████████| 82/82 [00:00<00:00, 237.39it/s, loss=14.8, v_num=38]\n",
      "Epoch 8:  51%|█████     | 42/82 [00:00<00:00, 137.59it/s, loss=15.2, v_num=38]\n",
      "Validating: 0it [00:00, ?it/s]\u001B[A\n",
      "Epoch 8: 100%|██████████| 82/82 [00:00<00:00, 227.16it/s, loss=15.2, v_num=38]\n",
      "Epoch 9:  51%|█████     | 42/82 [00:00<00:00, 125.29it/s, loss=14.4, v_num=38]\n",
      "Validating: 0it [00:00, ?it/s]\u001B[A\n",
      "Epoch 9: 100%|██████████| 82/82 [00:00<00:00, 209.76it/s, loss=14.4, v_num=38]\n",
      "Epoch 9: 100%|██████████| 82/82 [00:00<00:00, 206.59it/s, loss=14.4, v_num=38]\n"
     ]
    },
    {
     "name": "stderr",
     "output_type": "stream",
     "text": [
      "GPU available: True, used: False\n",
      "TPU available: False, using: 0 TPU cores\n",
      "IPU available: False, using: 0 IPUs\n"
     ]
    },
    {
     "name": "stdout",
     "output_type": "stream",
     "text": [
      "0.01\n"
     ]
    },
    {
     "name": "stderr",
     "output_type": "stream",
     "text": [
      "\n",
      "  | Name      | Type    | Params\n",
      "--------------------------------------\n",
      "0 | encoder   | Linear  | 230 K \n",
      "1 | act_1     | PReLU   | 1     \n",
      "2 | decoder   | Linear  | 232 K \n",
      "3 | act_2     | PReLU   | 1     \n",
      "4 | loss_func | MSELoss | 0     \n",
      "--------------------------------------\n",
      "463 K     Trainable params\n",
      "0         Non-trainable params\n",
      "463 K     Total params\n",
      "1.852     Total estimated model params size (MB)\n"
     ]
    },
    {
     "name": "stdout",
     "output_type": "stream",
     "text": [
      "Epoch 0:  50%|█████     | 41/82 [00:00<00:00, 108.95it/s, loss=13.1, v_num=39]\n",
      "Validating: 0it [00:00, ?it/s]\u001B[A\n",
      "Epoch 0: 100%|██████████| 82/82 [00:00<00:00, 186.43it/s, loss=13.1, v_num=39]\n",
      "Epoch 1:  50%|█████     | 41/82 [00:00<00:00, 116.96it/s, loss=5.88, v_num=39]\n",
      "Validating: 0it [00:00, ?it/s]\u001B[A\n",
      "Epoch 1: 100%|██████████| 82/82 [00:00<00:00, 196.72it/s, loss=5.88, v_num=39]\n",
      "Epoch 2:  50%|█████     | 41/82 [00:00<00:00, 109.06it/s, loss=3.16, v_num=39]\n",
      "Validating: 0it [00:00, ?it/s]\u001B[A\n",
      "Epoch 2: 100%|██████████| 82/82 [00:00<00:00, 189.57it/s, loss=3.16, v_num=39]\n",
      "Epoch 3:  50%|█████     | 41/82 [00:00<00:00, 93.45it/s, loss=2.42, v_num=39] \n",
      "Validating: 0it [00:00, ?it/s]\u001B[A\n",
      "Epoch 3: 100%|██████████| 82/82 [00:00<00:00, 158.67it/s, loss=2.42, v_num=39]\n",
      "Epoch 4:  50%|█████     | 41/82 [00:00<00:00, 113.67it/s, loss=2.08, v_num=39]\n",
      "Validating: 0it [00:00, ?it/s]\u001B[A\n",
      "Epoch 4: 100%|██████████| 82/82 [00:00<00:00, 191.46it/s, loss=2.08, v_num=39]\n",
      "Epoch 5:  50%|█████     | 41/82 [00:00<00:00, 104.29it/s, loss=2.06, v_num=39]\n",
      "Validating: 0it [00:00, ?it/s]\u001B[A\n",
      "Epoch 5: 100%|██████████| 82/82 [00:00<00:00, 184.65it/s, loss=2.06, v_num=39]\n",
      "Epoch 6:  50%|█████     | 41/82 [00:00<00:00, 104.63it/s, loss=2.08, v_num=39]\n",
      "Validating: 0it [00:00, ?it/s]\u001B[A\n",
      "Epoch 6: 100%|██████████| 82/82 [00:00<00:00, 178.43it/s, loss=2.08, v_num=39]\n",
      "Epoch 7:  50%|█████     | 41/82 [00:00<00:00, 101.83it/s, loss=1.92, v_num=39]\n",
      "Validating: 0it [00:00, ?it/s]\u001B[A\n",
      "Epoch 7: 100%|██████████| 82/82 [00:00<00:00, 181.54it/s, loss=1.92, v_num=39]\n",
      "Epoch 8:  50%|█████     | 41/82 [00:00<00:00, 113.30it/s, loss=1.89, v_num=39]\n",
      "Validating: 0it [00:00, ?it/s]\u001B[A\n",
      "Epoch 8: 100%|██████████| 82/82 [00:00<00:00, 193.21it/s, loss=1.89, v_num=39]\n",
      "Epoch 9:  50%|█████     | 41/82 [00:00<00:00, 107.49it/s, loss=1.97, v_num=39]\n",
      "Validating: 0it [00:00, ?it/s]\u001B[A\n",
      "Epoch 9: 100%|██████████| 82/82 [00:00<00:00, 187.79it/s, loss=1.97, v_num=39]\n",
      "Epoch 9: 100%|██████████| 82/82 [00:00<00:00, 182.40it/s, loss=1.97, v_num=39]\n"
     ]
    },
    {
     "name": "stderr",
     "output_type": "stream",
     "text": [
      "GPU available: True, used: False\n",
      "TPU available: False, using: 0 TPU cores\n",
      "IPU available: False, using: 0 IPUs\n"
     ]
    },
    {
     "name": "stdout",
     "output_type": "stream",
     "text": [
      "0.1\n"
     ]
    },
    {
     "name": "stderr",
     "output_type": "stream",
     "text": [
      "\n",
      "  | Name      | Type    | Params\n",
      "--------------------------------------\n",
      "0 | encoder   | Linear  | 230 K \n",
      "1 | act_1     | PReLU   | 1     \n",
      "2 | decoder   | Linear  | 232 K \n",
      "3 | act_2     | PReLU   | 1     \n",
      "4 | loss_func | MSELoss | 0     \n",
      "--------------------------------------\n",
      "463 K     Trainable params\n",
      "0         Non-trainable params\n",
      "463 K     Total params\n",
      "1.852     Total estimated model params size (MB)\n"
     ]
    },
    {
     "name": "stdout",
     "output_type": "stream",
     "text": [
      "Epoch 0:  50%|█████     | 41/82 [00:00<00:00, 111.71it/s, loss=12.1, v_num=40]\n",
      "Validating: 0it [00:00, ?it/s]\u001B[A\n",
      "Epoch 0: 100%|██████████| 82/82 [00:00<00:00, 193.05it/s, loss=12.1, v_num=40]\n",
      "Epoch 1:  50%|█████     | 41/82 [00:00<00:00, 106.95it/s, loss=5.01, v_num=40]\n",
      "Validating: 0it [00:00, ?it/s]\u001B[A\n",
      "Epoch 1: 100%|██████████| 82/82 [00:00<00:00, 189.33it/s, loss=5.01, v_num=40]\n",
      "Epoch 2:  50%|█████     | 41/82 [00:00<00:00, 112.81it/s, loss=2.87, v_num=40]\n",
      "Validating: 0it [00:00, ?it/s]\u001B[A\n",
      "Epoch 2: 100%|██████████| 82/82 [00:00<00:00, 197.93it/s, loss=2.87, v_num=40]\n",
      "Epoch 3:  50%|█████     | 41/82 [00:00<00:00, 105.55it/s, loss=2, v_num=40]   \n",
      "Validating: 0it [00:00, ?it/s]\u001B[A\n",
      "Epoch 3: 100%|██████████| 82/82 [00:00<00:00, 185.99it/s, loss=2, v_num=40]\n",
      "Epoch 4:  50%|█████     | 41/82 [00:00<00:00, 104.60it/s, loss=2.08, v_num=40]\n",
      "Validating: 0it [00:00, ?it/s]\u001B[A\n",
      "Epoch 4: 100%|██████████| 82/82 [00:00<00:00, 181.06it/s, loss=2.08, v_num=40]\n",
      "Epoch 5:  50%|█████     | 41/82 [00:00<00:00, 109.45it/s, loss=1.97, v_num=40]\n",
      "Validating: 0it [00:00, ?it/s]\u001B[A\n",
      "Epoch 5: 100%|██████████| 82/82 [00:00<00:00, 192.96it/s, loss=1.97, v_num=40]\n",
      "Epoch 6:  50%|█████     | 41/82 [00:00<00:00, 110.70it/s, loss=1.92, v_num=40]\n",
      "Validating: 0it [00:00, ?it/s]\u001B[A\n",
      "Epoch 6: 100%|██████████| 82/82 [00:00<00:00, 190.09it/s, loss=1.92, v_num=40]\n",
      "Epoch 7:  50%|█████     | 41/82 [00:00<00:00, 113.00it/s, loss=1.66, v_num=40]\n",
      "Validating: 0it [00:00, ?it/s]\u001B[A\n",
      "Epoch 7: 100%|██████████| 82/82 [00:00<00:00, 199.88it/s, loss=1.66, v_num=40]\n",
      "Epoch 8:  50%|█████     | 41/82 [00:00<00:00, 113.59it/s, loss=1.73, v_num=40]\n",
      "Validating: 0it [00:00, ?it/s]\u001B[A\n",
      "Epoch 8: 100%|██████████| 82/82 [00:00<00:00, 195.45it/s, loss=1.73, v_num=40]\n",
      "Epoch 9:  50%|█████     | 41/82 [00:00<00:00, 105.51it/s, loss=1.55, v_num=40]\n",
      "Validating: 0it [00:00, ?it/s]\u001B[A\n",
      "Epoch 9: 100%|██████████| 82/82 [00:00<00:00, 187.12it/s, loss=1.55, v_num=40]\n",
      "Epoch 9: 100%|██████████| 82/82 [00:00<00:00, 181.82it/s, loss=1.55, v_num=40]\n"
     ]
    },
    {
     "name": "stderr",
     "output_type": "stream",
     "text": [
      "GPU available: True, used: False\n",
      "TPU available: False, using: 0 TPU cores\n",
      "IPU available: False, using: 0 IPUs\n"
     ]
    },
    {
     "name": "stdout",
     "output_type": "stream",
     "text": [
      "1\n"
     ]
    },
    {
     "name": "stderr",
     "output_type": "stream",
     "text": [
      "\n",
      "  | Name      | Type    | Params\n",
      "--------------------------------------\n",
      "0 | encoder   | Linear  | 230 K \n",
      "1 | act_1     | PReLU   | 1     \n",
      "2 | decoder   | Linear  | 232 K \n",
      "3 | act_2     | PReLU   | 1     \n",
      "4 | loss_func | MSELoss | 0     \n",
      "--------------------------------------\n",
      "463 K     Trainable params\n",
      "0         Non-trainable params\n",
      "463 K     Total params\n",
      "1.852     Total estimated model params size (MB)\n"
     ]
    },
    {
     "name": "stdout",
     "output_type": "stream",
     "text": [
      "Epoch 0:  50%|█████     | 41/82 [00:00<00:00, 107.76it/s, loss=7.74, v_num=41]\n",
      "Validating: 0it [00:00, ?it/s]\u001B[A\n",
      "Epoch 0: 100%|██████████| 82/82 [00:00<00:00, 190.80it/s, loss=7.74, v_num=41]\n",
      "Epoch 1:  50%|█████     | 41/82 [00:00<00:00, 118.40it/s, loss=3.92, v_num=41]\n",
      "Validating: 0it [00:00, ?it/s]\u001B[A\n",
      "Epoch 1: 100%|██████████| 82/82 [00:00<00:00, 201.83it/s, loss=3.92, v_num=41]\n",
      "Epoch 2:  50%|█████     | 41/82 [00:00<00:00, 115.00it/s, loss=2.96, v_num=41]\n",
      "Validating: 0it [00:00, ?it/s]\u001B[A\n",
      "Epoch 2: 100%|██████████| 82/82 [00:00<00:00, 199.51it/s, loss=2.96, v_num=41]\n",
      "Epoch 3:  50%|█████     | 41/82 [00:00<00:00, 118.33it/s, loss=2.8, v_num=41] \n",
      "Validating: 0it [00:00, ?it/s]\u001B[A\n",
      "Epoch 3: 100%|██████████| 82/82 [00:00<00:00, 201.59it/s, loss=2.8, v_num=41]\n",
      "Epoch 4:  50%|█████     | 41/82 [00:00<00:00, 114.05it/s, loss=2.58, v_num=41]\n",
      "Validating: 0it [00:00, ?it/s]\u001B[A\n",
      "Epoch 4: 100%|██████████| 82/82 [00:00<00:00, 200.41it/s, loss=2.58, v_num=41]\n",
      "Epoch 5:  50%|█████     | 41/82 [00:00<00:00, 109.04it/s, loss=2.39, v_num=41]\n",
      "Validating: 0it [00:00, ?it/s]\u001B[A\n",
      "Epoch 5: 100%|██████████| 82/82 [00:00<00:00, 187.75it/s, loss=2.39, v_num=41]\n",
      "Epoch 6:  50%|█████     | 41/82 [00:00<00:00, 116.37it/s, loss=2.39, v_num=41]\n",
      "Validating: 0it [00:00, ?it/s]\u001B[A\n",
      "Epoch 6: 100%|██████████| 82/82 [00:00<00:00, 198.83it/s, loss=2.39, v_num=41]\n",
      "Epoch 7:  50%|█████     | 41/82 [00:00<00:00, 119.40it/s, loss=2.16, v_num=41]\n",
      "Validating: 0it [00:00, ?it/s]\u001B[A\n",
      "Epoch 7: 100%|██████████| 82/82 [00:00<00:00, 204.23it/s, loss=2.16, v_num=41]\n",
      "Epoch 8:  50%|█████     | 41/82 [00:00<00:00, 112.62it/s, loss=2.09, v_num=41]\n",
      "Validating: 0it [00:00, ?it/s]\u001B[A\n",
      "Epoch 8: 100%|██████████| 82/82 [00:00<00:00, 193.17it/s, loss=2.09, v_num=41]\n",
      "Epoch 9:  50%|█████     | 41/82 [00:00<00:00, 116.91it/s, loss=2.24, v_num=41]\n",
      "Validating: 0it [00:00, ?it/s]\u001B[A\n",
      "Epoch 9: 100%|██████████| 82/82 [00:00<00:00, 199.37it/s, loss=2.24, v_num=41]\n",
      "Epoch 9: 100%|██████████| 82/82 [00:00<00:00, 193.25it/s, loss=2.24, v_num=41]\n"
     ]
    },
    {
     "name": "stderr",
     "output_type": "stream",
     "text": [
      "GPU available: True, used: False\n",
      "TPU available: False, using: 0 TPU cores\n",
      "IPU available: False, using: 0 IPUs\n"
     ]
    },
    {
     "name": "stdout",
     "output_type": "stream",
     "text": [
      "100\n"
     ]
    },
    {
     "name": "stderr",
     "output_type": "stream",
     "text": [
      "\n",
      "  | Name      | Type    | Params\n",
      "--------------------------------------\n",
      "0 | encoder   | Linear  | 230 K \n",
      "1 | act_1     | PReLU   | 1     \n",
      "2 | decoder   | Linear  | 232 K \n",
      "3 | act_2     | PReLU   | 1     \n",
      "4 | loss_func | MSELoss | 0     \n",
      "--------------------------------------\n",
      "463 K     Trainable params\n",
      "0         Non-trainable params\n",
      "463 K     Total params\n",
      "1.852     Total estimated model params size (MB)\n"
     ]
    },
    {
     "name": "stdout",
     "output_type": "stream",
     "text": [
      "Epoch 0:  50%|█████     | 41/82 [00:00<00:00, 117.43it/s, loss=15.3, v_num=42]\n",
      "Validating: 0it [00:00, ?it/s]\u001B[A\n",
      "Epoch 0: 100%|██████████| 82/82 [00:00<00:00, 199.58it/s, loss=15.3, v_num=42]\n",
      "Epoch 1:  50%|█████     | 41/82 [00:00<00:00, 113.39it/s, loss=15, v_num=42]  \n",
      "Validating: 0it [00:00, ?it/s]\u001B[A\n",
      "Epoch 1: 100%|██████████| 82/82 [00:00<00:00, 193.71it/s, loss=15, v_num=42]\n",
      "Epoch 2:  51%|█████     | 42/82 [00:00<00:00, 114.48it/s, loss=15.1, v_num=42]\n",
      "Validating: 0it [00:00, ?it/s]\u001B[A\n",
      "Epoch 2: 100%|██████████| 82/82 [00:00<00:00, 193.14it/s, loss=15.1, v_num=42]\n",
      "Epoch 3:  51%|█████     | 42/82 [00:00<00:00, 121.46it/s, loss=14.3, v_num=42]\n",
      "Validating: 0it [00:00, ?it/s]\u001B[A\n",
      "Epoch 3: 100%|██████████| 82/82 [00:00<00:00, 209.47it/s, loss=14.3, v_num=42]\n",
      "Epoch 4:  51%|█████     | 42/82 [00:00<00:00, 116.17it/s, loss=14.7, v_num=42]\n",
      "Validating: 0it [00:00, ?it/s]\u001B[A\n",
      "Epoch 4: 100%|██████████| 82/82 [00:00<00:00, 195.92it/s, loss=14.7, v_num=42]\n",
      "Epoch 5:  51%|█████     | 42/82 [00:00<00:00, 114.60it/s, loss=14.9, v_num=42]\n",
      "Validating: 0it [00:00, ?it/s]\u001B[A\n",
      "Epoch 5: 100%|██████████| 82/82 [00:00<00:00, 193.27it/s, loss=14.9, v_num=42]\n",
      "Epoch 6:  51%|█████     | 42/82 [00:00<00:00, 117.83it/s, loss=15.2, v_num=42]\n",
      "Validating: 0it [00:00, ?it/s]\u001B[A\n",
      "Epoch 6: 100%|██████████| 82/82 [00:00<00:00, 201.77it/s, loss=15.2, v_num=42]\n",
      "Epoch 7:  51%|█████     | 42/82 [00:00<00:00, 119.93it/s, loss=14.5, v_num=42]\n",
      "Validating: 0it [00:00, ?it/s]\u001B[A\n",
      "Epoch 7: 100%|██████████| 82/82 [00:00<00:00, 202.60it/s, loss=14.5, v_num=42]\n",
      "Epoch 8:  51%|█████     | 42/82 [00:00<00:00, 121.98it/s, loss=15, v_num=42]  \n",
      "Validating: 0it [00:00, ?it/s]\u001B[A\n",
      "Epoch 8: 100%|██████████| 82/82 [00:00<00:00, 209.11it/s, loss=15, v_num=42]\n",
      "Epoch 9:  51%|█████     | 42/82 [00:00<00:00, 117.55it/s, loss=14.9, v_num=42]\n",
      "Validating: 0it [00:00, ?it/s]\u001B[A\n",
      "Epoch 9: 100%|██████████| 82/82 [00:00<00:00, 197.47it/s, loss=14.9, v_num=42]\n",
      "Epoch 9: 100%|██████████| 82/82 [00:00<00:00, 191.62it/s, loss=14.9, v_num=42]\n"
     ]
    },
    {
     "name": "stderr",
     "output_type": "stream",
     "text": [
      "GPU available: True, used: False\n",
      "TPU available: False, using: 0 TPU cores\n",
      "IPU available: False, using: 0 IPUs\n"
     ]
    },
    {
     "name": "stdout",
     "output_type": "stream",
     "text": [
      "0.01\n"
     ]
    },
    {
     "name": "stderr",
     "output_type": "stream",
     "text": [
      "\n",
      "  | Name      | Type    | Params\n",
      "--------------------------------------\n",
      "0 | encoder   | Linear  | 863 K \n",
      "1 | act_1     | PReLU   | 1     \n",
      "2 | decoder   | Linear  | 865 K \n",
      "3 | act_2     | PReLU   | 1     \n",
      "4 | loss_func | MSELoss | 0     \n",
      "--------------------------------------\n",
      "1.7 M     Trainable params\n",
      "0         Non-trainable params\n",
      "1.7 M     Total params\n",
      "6.915     Total estimated model params size (MB)\n"
     ]
    },
    {
     "name": "stdout",
     "output_type": "stream",
     "text": [
      "Epoch 0:  50%|█████     | 41/82 [00:00<00:00, 66.33it/s, loss=56.7, v_num=43]\n",
      "Validating: 0it [00:00, ?it/s]\u001B[A\n",
      "Epoch 0: 100%|██████████| 82/82 [00:00<00:00, 117.22it/s, loss=56.7, v_num=43]\n",
      "Epoch 1:  50%|█████     | 41/82 [00:00<00:00, 65.32it/s, loss=7.43, v_num=43] \n",
      "Validating: 0it [00:00, ?it/s]\u001B[A\n",
      "Epoch 1: 100%|██████████| 82/82 [00:00<00:00, 118.91it/s, loss=7.43, v_num=43]\n",
      "Epoch 2:  50%|█████     | 41/82 [00:00<00:00, 66.96it/s, loss=4.93, v_num=43] \n",
      "Validating: 0it [00:00, ?it/s]\u001B[A\n",
      "Epoch 2: 100%|██████████| 82/82 [00:00<00:00, 118.27it/s, loss=4.93, v_num=43]\n",
      "Epoch 3:  50%|█████     | 41/82 [00:00<00:00, 67.03it/s, loss=4.16, v_num=43] \n",
      "Validating: 0it [00:00, ?it/s]\u001B[A\n",
      "Epoch 3: 100%|██████████| 82/82 [00:00<00:00, 120.20it/s, loss=4.16, v_num=43]\n",
      "Epoch 4:  50%|█████     | 41/82 [00:00<00:00, 68.12it/s, loss=3.87, v_num=43] \n",
      "Validating: 0it [00:00, ?it/s]\u001B[A\n",
      "Epoch 4: 100%|██████████| 82/82 [00:00<00:00, 121.68it/s, loss=3.87, v_num=43]\n",
      "Epoch 5:  50%|█████     | 41/82 [00:00<00:00, 65.65it/s, loss=3.79, v_num=43] \n",
      "Validating: 0it [00:00, ?it/s]\u001B[A\n",
      "Epoch 5: 100%|██████████| 82/82 [00:00<00:00, 117.37it/s, loss=3.79, v_num=43]\n",
      "Epoch 6:  50%|█████     | 41/82 [00:00<00:00, 67.59it/s, loss=3.45, v_num=43] \n",
      "Validating: 0it [00:00, ?it/s]\u001B[A\n",
      "Epoch 6: 100%|██████████| 82/82 [00:00<00:00, 120.70it/s, loss=3.45, v_num=43]\n",
      "Epoch 7:  50%|█████     | 41/82 [00:00<00:00, 68.50it/s, loss=3.24, v_num=43] \n",
      "Validating: 0it [00:00, ?it/s]\u001B[A\n",
      "Epoch 7: 100%|██████████| 82/82 [00:00<00:00, 123.10it/s, loss=3.24, v_num=43]\n",
      "Epoch 8:  50%|█████     | 41/82 [00:00<00:00, 67.95it/s, loss=2.5, v_num=43]  \n",
      "Validating: 0it [00:00, ?it/s]\u001B[A\n",
      "Epoch 8: 100%|██████████| 82/82 [00:00<00:00, 122.93it/s, loss=2.5, v_num=43]\n",
      "Epoch 9:  50%|█████     | 41/82 [00:00<00:00, 67.86it/s, loss=2.19, v_num=43]\n",
      "Validating: 0it [00:00, ?it/s]\u001B[A\n",
      "Epoch 9: 100%|██████████| 82/82 [00:00<00:00, 120.41it/s, loss=2.19, v_num=43]\n",
      "Epoch 9: 100%|██████████| 82/82 [00:00<00:00, 114.88it/s, loss=2.19, v_num=43]\n"
     ]
    },
    {
     "name": "stderr",
     "output_type": "stream",
     "text": [
      "GPU available: True, used: False\n",
      "TPU available: False, using: 0 TPU cores\n",
      "IPU available: False, using: 0 IPUs\n",
      "\n",
      "  | Name      | Type    | Params\n",
      "--------------------------------------\n",
      "0 | encoder   | Linear  | 863 K \n",
      "1 | act_1     | PReLU   | 1     \n",
      "2 | decoder   | Linear  | 865 K \n",
      "3 | act_2     | PReLU   | 1     \n",
      "4 | loss_func | MSELoss | 0     \n",
      "--------------------------------------\n",
      "1.7 M     Trainable params\n",
      "0         Non-trainable params\n",
      "1.7 M     Total params\n",
      "6.915     Total estimated model params size (MB)\n"
     ]
    },
    {
     "name": "stdout",
     "output_type": "stream",
     "text": [
      "0.1\n",
      "Epoch 0:  50%|█████     | 41/82 [00:00<00:00, 66.78it/s, loss=58.9, v_num=44]\n",
      "Validating: 0it [00:00, ?it/s]\u001B[A\n",
      "Epoch 0: 100%|██████████| 82/82 [00:00<00:00, 121.23it/s, loss=58.9, v_num=44]\n",
      "Epoch 1:  50%|█████     | 41/82 [00:00<00:00, 67.18it/s, loss=5.75, v_num=44] \n",
      "Validating: 0it [00:00, ?it/s]\u001B[A\n",
      "Epoch 1: 100%|██████████| 82/82 [00:00<00:00, 121.46it/s, loss=5.75, v_num=44]\n",
      "Epoch 2:  50%|█████     | 41/82 [00:00<00:00, 69.72it/s, loss=4.14, v_num=44] \n",
      "Validating: 0it [00:00, ?it/s]\u001B[A\n",
      "Epoch 2: 100%|██████████| 82/82 [00:00<00:00, 125.89it/s, loss=4.14, v_num=44]\n",
      "Epoch 3:  50%|█████     | 41/82 [00:00<00:00, 67.43it/s, loss=3.5, v_num=44]  \n",
      "Validating: 0it [00:00, ?it/s]\u001B[A\n",
      "Epoch 3: 100%|██████████| 82/82 [00:00<00:00, 122.27it/s, loss=3.5, v_num=44]\n",
      "Epoch 4:  50%|█████     | 41/82 [00:00<00:00, 69.73it/s, loss=3.67, v_num=44]\n",
      "Validating: 0it [00:00, ?it/s]\u001B[A\n",
      "Epoch 4: 100%|██████████| 82/82 [00:00<00:00, 123.62it/s, loss=3.67, v_num=44]\n",
      "Epoch 5:  50%|█████     | 41/82 [00:00<00:00, 67.40it/s, loss=3.75, v_num=44] \n",
      "Validating: 0it [00:00, ?it/s]\u001B[A\n",
      "Epoch 5: 100%|██████████| 82/82 [00:00<00:00, 122.20it/s, loss=3.75, v_num=44]\n",
      "Epoch 6:  50%|█████     | 41/82 [00:00<00:00, 67.52it/s, loss=3.69, v_num=44] \n",
      "Validating: 0it [00:00, ?it/s]\u001B[A\n",
      "Epoch 6: 100%|██████████| 82/82 [00:00<00:00, 120.74it/s, loss=3.69, v_num=44]\n",
      "Epoch 7:  50%|█████     | 41/82 [00:00<00:00, 66.26it/s, loss=4.11, v_num=44] \n",
      "Validating: 0it [00:00, ?it/s]\u001B[A\n",
      "Epoch 7: 100%|██████████| 82/82 [00:00<00:00, 118.51it/s, loss=4.11, v_num=44]\n",
      "Epoch 8:  50%|█████     | 41/82 [00:00<00:00, 68.59it/s, loss=3.34, v_num=44] \n",
      "Validating: 0it [00:00, ?it/s]\u001B[A\n",
      "Epoch 8: 100%|██████████| 82/82 [00:00<00:00, 125.00it/s, loss=3.34, v_num=44]\n",
      "Epoch 9:  50%|█████     | 41/82 [00:00<00:00, 66.65it/s, loss=2.74, v_num=44] \n",
      "Validating: 0it [00:00, ?it/s]\u001B[A\n",
      "Epoch 9: 100%|██████████| 82/82 [00:00<00:00, 118.32it/s, loss=2.74, v_num=44]\n",
      "Epoch 9: 100%|██████████| 82/82 [00:00<00:00, 112.82it/s, loss=2.74, v_num=44]\n"
     ]
    },
    {
     "name": "stderr",
     "output_type": "stream",
     "text": [
      "GPU available: True, used: False\n",
      "TPU available: False, using: 0 TPU cores\n",
      "IPU available: False, using: 0 IPUs\n"
     ]
    },
    {
     "name": "stdout",
     "output_type": "stream",
     "text": [
      "1\n"
     ]
    },
    {
     "name": "stderr",
     "output_type": "stream",
     "text": [
      "\n",
      "  | Name      | Type    | Params\n",
      "--------------------------------------\n",
      "0 | encoder   | Linear  | 863 K \n",
      "1 | act_1     | PReLU   | 1     \n",
      "2 | decoder   | Linear  | 865 K \n",
      "3 | act_2     | PReLU   | 1     \n",
      "4 | loss_func | MSELoss | 0     \n",
      "--------------------------------------\n",
      "1.7 M     Trainable params\n",
      "0         Non-trainable params\n",
      "1.7 M     Total params\n",
      "6.915     Total estimated model params size (MB)\n"
     ]
    },
    {
     "name": "stdout",
     "output_type": "stream",
     "text": [
      "Epoch 0:  50%|█████     | 41/82 [00:00<00:00, 67.87it/s, loss=14.4, v_num=45]\n",
      "Validating: 0it [00:00, ?it/s]\u001B[A\n",
      "Epoch 0: 100%|██████████| 82/82 [00:00<00:00, 121.32it/s, loss=14.4, v_num=45]\n",
      "Epoch 1:  50%|█████     | 41/82 [00:00<00:00, 66.61it/s, loss=5.49, v_num=45] \n",
      "Validating: 0it [00:00, ?it/s]\u001B[A\n",
      "Epoch 1: 100%|██████████| 82/82 [00:00<00:00, 119.64it/s, loss=5.49, v_num=45]\n",
      "Epoch 2:  50%|█████     | 41/82 [00:00<00:00, 66.87it/s, loss=4.02, v_num=45] \n",
      "Validating: 0it [00:00, ?it/s]\u001B[A\n",
      "Epoch 2: 100%|██████████| 82/82 [00:00<00:00, 118.69it/s, loss=4.02, v_num=45]\n",
      "Epoch 3:  50%|█████     | 41/82 [00:00<00:00, 68.67it/s, loss=3.01, v_num=45] \n",
      "Validating: 0it [00:00, ?it/s]\u001B[A\n",
      "Epoch 3: 100%|██████████| 82/82 [00:00<00:00, 121.24it/s, loss=3.01, v_num=45]\n",
      "Epoch 4:  50%|█████     | 41/82 [00:00<00:00, 66.61it/s, loss=2.79, v_num=45] \n",
      "Validating: 0it [00:00, ?it/s]\u001B[A\n",
      "Epoch 4: 100%|██████████| 82/82 [00:00<00:00, 119.13it/s, loss=2.79, v_num=45]\n",
      "Epoch 5:  50%|█████     | 41/82 [00:00<00:00, 69.80it/s, loss=2.6, v_num=45]  \n",
      "Validating: 0it [00:00, ?it/s]\u001B[A\n",
      "Epoch 5: 100%|██████████| 82/82 [00:00<00:00, 124.26it/s, loss=2.6, v_num=45]\n",
      "Epoch 6:  50%|█████     | 41/82 [00:00<00:00, 67.77it/s, loss=2.43, v_num=45]\n",
      "Validating: 0it [00:00, ?it/s]\u001B[A\n",
      "Epoch 6: 100%|██████████| 82/82 [00:00<00:00, 123.46it/s, loss=2.43, v_num=45]\n",
      "Epoch 7:  50%|█████     | 41/82 [00:00<00:00, 70.74it/s, loss=2.45, v_num=45] \n",
      "Validating: 0it [00:00, ?it/s]\u001B[A\n",
      "Epoch 7: 100%|██████████| 82/82 [00:00<00:00, 127.39it/s, loss=2.45, v_num=45]\n",
      "Epoch 8:  50%|█████     | 41/82 [00:00<00:00, 69.06it/s, loss=2.51, v_num=45] \n",
      "Validating: 0it [00:00, ?it/s]\u001B[A\n",
      "Epoch 8: 100%|██████████| 82/82 [00:00<00:00, 122.74it/s, loss=2.51, v_num=45]\n",
      "Epoch 9:  50%|█████     | 41/82 [00:00<00:00, 68.72it/s, loss=2.33, v_num=45] \n",
      "Validating: 0it [00:00, ?it/s]\u001B[A\n",
      "Epoch 9: 100%|██████████| 82/82 [00:00<00:00, 123.62it/s, loss=2.33, v_num=45]\n",
      "Epoch 9: 100%|██████████| 82/82 [00:00<00:00, 116.13it/s, loss=2.33, v_num=45]\n"
     ]
    },
    {
     "name": "stderr",
     "output_type": "stream",
     "text": [
      "GPU available: True, used: False\n",
      "TPU available: False, using: 0 TPU cores\n",
      "IPU available: False, using: 0 IPUs\n"
     ]
    },
    {
     "name": "stdout",
     "output_type": "stream",
     "text": [
      "100\n"
     ]
    },
    {
     "name": "stderr",
     "output_type": "stream",
     "text": [
      "\n",
      "  | Name      | Type    | Params\n",
      "--------------------------------------\n",
      "0 | encoder   | Linear  | 863 K \n",
      "1 | act_1     | PReLU   | 1     \n",
      "2 | decoder   | Linear  | 865 K \n",
      "3 | act_2     | PReLU   | 1     \n",
      "4 | loss_func | MSELoss | 0     \n",
      "--------------------------------------\n",
      "1.7 M     Trainable params\n",
      "0         Non-trainable params\n",
      "1.7 M     Total params\n",
      "6.915     Total estimated model params size (MB)\n"
     ]
    },
    {
     "name": "stdout",
     "output_type": "stream",
     "text": [
      "Epoch 0:  50%|█████     | 41/82 [00:00<00:00, 65.07it/s, loss=15.2, v_num=46]\n",
      "Validating: 0it [00:00, ?it/s]\u001B[A\n",
      "Epoch 0: 100%|██████████| 82/82 [00:00<00:00, 115.60it/s, loss=15.2, v_num=46]\n",
      "Epoch 1:  50%|█████     | 41/82 [00:00<00:00, 67.28it/s, loss=15, v_num=46]   \n",
      "Validating: 0it [00:00, ?it/s]\u001B[A\n",
      "Epoch 1: 100%|██████████| 82/82 [00:00<00:00, 119.70it/s, loss=15, v_num=46]\n",
      "Epoch 2:  50%|█████     | 41/82 [00:00<00:00, 63.26it/s, loss=15, v_num=46]  \n",
      "Validating: 0it [00:00, ?it/s]\u001B[A\n",
      "Epoch 2: 100%|██████████| 82/82 [00:00<00:00, 114.83it/s, loss=15, v_num=46]\n",
      "Epoch 3:  50%|█████     | 41/82 [00:00<00:00, 68.54it/s, loss=15.7, v_num=46]\n",
      "Validating: 0it [00:00, ?it/s]\u001B[A\n",
      "Epoch 3: 100%|██████████| 82/82 [00:00<00:00, 121.70it/s, loss=15.7, v_num=46]\n",
      "Epoch 4:  50%|█████     | 41/82 [00:00<00:00, 64.30it/s, loss=14.9, v_num=46] \n",
      "Validating: 0it [00:00, ?it/s]\u001B[A\n",
      "Epoch 4: 100%|██████████| 82/82 [00:00<00:00, 115.63it/s, loss=14.9, v_num=46]\n",
      "Epoch 5:  50%|█████     | 41/82 [00:00<00:00, 64.75it/s, loss=15.4, v_num=46] \n",
      "Validating: 0it [00:00, ?it/s]\u001B[A\n",
      "Epoch 5: 100%|██████████| 82/82 [00:00<00:00, 115.90it/s, loss=15.4, v_num=46]\n",
      "Epoch 6:  50%|█████     | 41/82 [00:00<00:00, 67.41it/s, loss=15, v_num=46]   \n",
      "Validating: 0it [00:00, ?it/s]\u001B[A\n",
      "Epoch 6: 100%|██████████| 82/82 [00:00<00:00, 119.92it/s, loss=15, v_num=46]\n",
      "Epoch 7:  50%|█████     | 41/82 [00:00<00:00, 67.73it/s, loss=15.8, v_num=46]\n",
      "Validating: 0it [00:00, ?it/s]\u001B[A\n",
      "Epoch 7: 100%|██████████| 82/82 [00:00<00:00, 121.55it/s, loss=15.8, v_num=46]\n",
      "Epoch 8:  50%|█████     | 41/82 [00:00<00:00, 67.25it/s, loss=15.3, v_num=46] \n",
      "Validating: 0it [00:00, ?it/s]\u001B[A\n",
      "Epoch 8: 100%|██████████| 82/82 [00:00<00:00, 121.22it/s, loss=15.3, v_num=46]\n",
      "Epoch 9:  50%|█████     | 41/82 [00:00<00:00, 65.31it/s, loss=15.2, v_num=46] \n",
      "Validating: 0it [00:00, ?it/s]\u001B[A\n",
      "Epoch 9: 100%|██████████| 82/82 [00:00<00:00, 116.64it/s, loss=15.2, v_num=46]\n",
      "Epoch 9: 100%|██████████| 82/82 [00:00<00:00, 110.19it/s, loss=15.2, v_num=46]\n"
     ]
    },
    {
     "name": "stderr",
     "output_type": "stream",
     "text": [
      "GPU available: True, used: False\n",
      "TPU available: False, using: 0 TPU cores\n",
      "IPU available: False, using: 0 IPUs\n"
     ]
    },
    {
     "name": "stdout",
     "output_type": "stream",
     "text": [
      "0.01\n"
     ]
    },
    {
     "name": "stderr",
     "output_type": "stream",
     "text": [
      "\n",
      "  | Name      | Type    | Params\n",
      "--------------------------------------\n",
      "0 | encoder   | Linear  | 28.8 K\n",
      "1 | act_1     | PReLU   | 1     \n",
      "2 | decoder   | Linear  | 31.6 K\n",
      "3 | act_2     | PReLU   | 1     \n",
      "4 | loss_func | MSELoss | 0     \n",
      "--------------------------------------\n",
      "60.4 K    Trainable params\n",
      "0         Non-trainable params\n",
      "60.4 K    Total params\n",
      "0.242     Total estimated model params size (MB)\n"
     ]
    },
    {
     "name": "stdout",
     "output_type": "stream",
     "text": [
      "Epoch 0:  50%|█████     | 41/82 [00:00<00:00, 130.44it/s, loss=9.66, v_num=47]\n",
      "Validating: 0it [00:00, ?it/s]\u001B[A\n",
      "Epoch 0: 100%|██████████| 82/82 [00:00<00:00, 228.21it/s, loss=9.66, v_num=47]\n",
      "Epoch 1:  50%|█████     | 41/82 [00:00<00:00, 119.37it/s, loss=6.52, v_num=47]\n",
      "Validating: 0it [00:00, ?it/s]\u001B[A\n",
      "Epoch 1: 100%|██████████| 82/82 [00:00<00:00, 209.68it/s, loss=6.52, v_num=47]\n",
      "Epoch 2:  50%|█████     | 41/82 [00:00<00:00, 125.40it/s, loss=5.73, v_num=47]\n",
      "Validating: 0it [00:00, ?it/s]\u001B[A\n",
      "Epoch 2: 100%|██████████| 82/82 [00:00<00:00, 219.54it/s, loss=5.73, v_num=47]\n",
      "Epoch 3:  50%|█████     | 41/82 [00:00<00:00, 122.27it/s, loss=5.18, v_num=47]\n",
      "Validating: 0it [00:00, ?it/s]\u001B[A\n",
      "Epoch 3: 100%|██████████| 82/82 [00:00<00:00, 214.88it/s, loss=5.18, v_num=47]\n",
      "Epoch 4:  50%|█████     | 41/82 [00:00<00:00, 122.20it/s, loss=4.74, v_num=47]\n",
      "Validating: 0it [00:00, ?it/s]\u001B[A\n",
      "Epoch 4: 100%|██████████| 82/82 [00:00<00:00, 214.90it/s, loss=4.74, v_num=47]\n",
      "Epoch 5:  50%|█████     | 41/82 [00:00<00:00, 126.11it/s, loss=4.65, v_num=47]\n",
      "Validating: 0it [00:00, ?it/s]\u001B[A\n",
      "Epoch 5: 100%|██████████| 82/82 [00:00<00:00, 221.15it/s, loss=4.65, v_num=47]\n",
      "Epoch 6:  50%|█████     | 41/82 [00:00<00:00, 126.23it/s, loss=4.41, v_num=47]\n",
      "Validating: 0it [00:00, ?it/s]\u001B[A\n",
      "Epoch 6: 100%|██████████| 82/82 [00:00<00:00, 221.39it/s, loss=4.41, v_num=47]\n",
      "Epoch 7:  50%|█████     | 41/82 [00:00<00:00, 121.45it/s, loss=4.53, v_num=47]\n",
      "Validating: 0it [00:00, ?it/s]\u001B[A\n",
      "Epoch 7: 100%|██████████| 82/82 [00:00<00:00, 209.69it/s, loss=4.53, v_num=47]\n",
      "Epoch 8:  50%|█████     | 41/82 [00:00<00:00, 130.78it/s, loss=4.24, v_num=47]\n",
      "Validating: 0it [00:00, ?it/s]\u001B[A\n",
      "Epoch 8: 100%|██████████| 82/82 [00:00<00:00, 226.62it/s, loss=4.24, v_num=47]\n",
      "Epoch 9:  50%|█████     | 41/82 [00:00<00:00, 126.43it/s, loss=3.98, v_num=47]\n",
      "Validating: 0it [00:00, ?it/s]\u001B[A\n",
      "Epoch 9: 100%|██████████| 82/82 [00:00<00:00, 214.19it/s, loss=3.98, v_num=47]\n",
      "Epoch 9: 100%|██████████| 82/82 [00:00<00:00, 210.99it/s, loss=3.98, v_num=47]\n"
     ]
    },
    {
     "name": "stderr",
     "output_type": "stream",
     "text": [
      "GPU available: True, used: False\n",
      "TPU available: False, using: 0 TPU cores\n",
      "IPU available: False, using: 0 IPUs\n"
     ]
    },
    {
     "name": "stdout",
     "output_type": "stream",
     "text": [
      "0.1\n"
     ]
    },
    {
     "name": "stderr",
     "output_type": "stream",
     "text": [
      "\n",
      "  | Name      | Type    | Params\n",
      "--------------------------------------\n",
      "0 | encoder   | Linear  | 28.8 K\n",
      "1 | act_1     | PReLU   | 1     \n",
      "2 | decoder   | Linear  | 31.6 K\n",
      "3 | act_2     | PReLU   | 1     \n",
      "4 | loss_func | MSELoss | 0     \n",
      "--------------------------------------\n",
      "60.4 K    Trainable params\n",
      "0         Non-trainable params\n",
      "60.4 K    Total params\n",
      "0.242     Total estimated model params size (MB)\n"
     ]
    },
    {
     "name": "stdout",
     "output_type": "stream",
     "text": [
      "Epoch 0:  50%|█████     | 41/82 [00:00<00:00, 144.60it/s, loss=9.03, v_num=48]\n",
      "Validating: 0it [00:00, ?it/s]\u001B[A\n",
      "Epoch 0: 100%|██████████| 82/82 [00:00<00:00, 248.74it/s, loss=9.03, v_num=48]\n",
      "Epoch 1:  50%|█████     | 41/82 [00:00<00:00, 143.50it/s, loss=5.49, v_num=48]\n",
      "Validating: 0it [00:00, ?it/s]\u001B[A\n",
      "Epoch 1: 100%|██████████| 82/82 [00:00<00:00, 239.12it/s, loss=5.49, v_num=48]\n",
      "Epoch 2:  50%|█████     | 41/82 [00:00<00:00, 129.07it/s, loss=5.01, v_num=48]\n",
      "Validating: 0it [00:00, ?it/s]\u001B[A\n",
      "Epoch 2: 100%|██████████| 82/82 [00:00<00:00, 218.52it/s, loss=5.01, v_num=48]\n",
      "Epoch 3:  50%|█████     | 41/82 [00:00<00:00, 137.42it/s, loss=4.03, v_num=48]\n",
      "Validating: 0it [00:00, ?it/s]\u001B[A\n",
      "Epoch 3: 100%|██████████| 82/82 [00:00<00:00, 230.08it/s, loss=4.03, v_num=48]\n",
      "Epoch 4:  50%|█████     | 41/82 [00:00<00:00, 131.55it/s, loss=3.7, v_num=48] \n",
      "Validating: 0it [00:00, ?it/s]\u001B[A\n",
      "Epoch 4: 100%|██████████| 82/82 [00:00<00:00, 222.58it/s, loss=3.7, v_num=48]\n",
      "Epoch 5:  50%|█████     | 41/82 [00:00<00:00, 141.05it/s, loss=3.55, v_num=48]\n",
      "Validating: 0it [00:00, ?it/s]\u001B[A\n",
      "Epoch 5: 100%|██████████| 82/82 [00:00<00:00, 236.43it/s, loss=3.55, v_num=48]\n",
      "Epoch 6:  50%|█████     | 41/82 [00:00<00:00, 137.59it/s, loss=3.54, v_num=48]\n",
      "Validating: 0it [00:00, ?it/s]\u001B[A\n",
      "Epoch 6: 100%|██████████| 82/82 [00:00<00:00, 231.93it/s, loss=3.54, v_num=48]\n",
      "Epoch 7:  50%|█████     | 41/82 [00:00<00:00, 144.41it/s, loss=3.95, v_num=48]\n",
      "Validating: 0it [00:00, ?it/s]\u001B[A\n",
      "Epoch 7: 100%|██████████| 82/82 [00:00<00:00, 241.30it/s, loss=3.95, v_num=48]\n",
      "Epoch 8:  50%|█████     | 41/82 [00:00<00:00, 141.02it/s, loss=3.71, v_num=48]\n",
      "Validating: 0it [00:00, ?it/s]\u001B[A\n",
      "Epoch 8: 100%|██████████| 82/82 [00:00<00:00, 244.28it/s, loss=3.71, v_num=48]\n",
      "Epoch 9:  50%|█████     | 41/82 [00:00<00:00, 131.03it/s, loss=4.07, v_num=48]\n",
      "Validating: 0it [00:00, ?it/s]\u001B[A\n",
      "Epoch 9: 100%|██████████| 82/82 [00:00<00:00, 221.23it/s, loss=4.07, v_num=48]\n",
      "Epoch 9: 100%|██████████| 82/82 [00:00<00:00, 217.63it/s, loss=4.07, v_num=48]\n"
     ]
    },
    {
     "name": "stderr",
     "output_type": "stream",
     "text": [
      "GPU available: True, used: False\n",
      "TPU available: False, using: 0 TPU cores\n",
      "IPU available: False, using: 0 IPUs\n"
     ]
    },
    {
     "name": "stdout",
     "output_type": "stream",
     "text": [
      "1\n"
     ]
    },
    {
     "name": "stderr",
     "output_type": "stream",
     "text": [
      "\n",
      "  | Name      | Type    | Params\n",
      "--------------------------------------\n",
      "0 | encoder   | Linear  | 28.8 K\n",
      "1 | act_1     | PReLU   | 1     \n",
      "2 | decoder   | Linear  | 31.6 K\n",
      "3 | act_2     | PReLU   | 1     \n",
      "4 | loss_func | MSELoss | 0     \n",
      "--------------------------------------\n",
      "60.4 K    Trainable params\n",
      "0         Non-trainable params\n",
      "60.4 K    Total params\n",
      "0.242     Total estimated model params size (MB)\n"
     ]
    },
    {
     "name": "stdout",
     "output_type": "stream",
     "text": [
      "Epoch 0:  50%|█████     | 41/82 [00:00<00:00, 134.44it/s, loss=9.88, v_num=49]\n",
      "Validating: 0it [00:00, ?it/s]\u001B[A\n",
      "Epoch 0: 100%|██████████| 82/82 [00:00<00:00, 229.73it/s, loss=9.88, v_num=49]\n",
      "Epoch 1:  50%|█████     | 41/82 [00:00<00:00, 137.16it/s, loss=6.15, v_num=49]\n",
      "Validating: 0it [00:00, ?it/s]\u001B[A\n",
      "Epoch 1: 100%|██████████| 82/82 [00:00<00:00, 238.66it/s, loss=6.15, v_num=49]\n",
      "Epoch 2:  51%|█████     | 42/82 [00:00<00:00, 141.70it/s, loss=6.13, v_num=49]\n",
      "Validating: 0it [00:00, ?it/s]\u001B[A\n",
      "Epoch 2: 100%|██████████| 82/82 [00:00<00:00, 233.63it/s, loss=6.13, v_num=49]\n",
      "Epoch 3:  51%|█████     | 42/82 [00:00<00:00, 136.45it/s, loss=6.1, v_num=49] \n",
      "Validating: 0it [00:00, ?it/s]\u001B[A\n",
      "Epoch 3: 100%|██████████| 82/82 [00:00<00:00, 225.02it/s, loss=6.1, v_num=49]\n",
      "Epoch 4:  51%|█████     | 42/82 [00:00<00:00, 137.97it/s, loss=5.25, v_num=49]\n",
      "Validating: 0it [00:00, ?it/s]\u001B[A\n",
      "Epoch 4: 100%|██████████| 82/82 [00:00<00:00, 227.89it/s, loss=5.25, v_num=49]\n",
      "Epoch 5:  51%|█████     | 42/82 [00:00<00:00, 139.43it/s, loss=4.94, v_num=49]\n",
      "Validating: 0it [00:00, ?it/s]\u001B[A\n",
      "Epoch 5: 100%|██████████| 82/82 [00:00<00:00, 230.21it/s, loss=4.94, v_num=49]\n",
      "Epoch 6:  50%|█████     | 41/82 [00:00<00:00, 140.39it/s, loss=4.66, v_num=49]\n",
      "Validating: 0it [00:00, ?it/s]\u001B[A\n",
      "Epoch 6: 100%|██████████| 82/82 [00:00<00:00, 241.75it/s, loss=4.66, v_num=49]\n",
      "Epoch 7:  50%|█████     | 41/82 [00:00<00:00, 137.75it/s, loss=4.74, v_num=49]\n",
      "Validating: 0it [00:00, ?it/s]\u001B[A\n",
      "Epoch 7: 100%|██████████| 82/82 [00:00<00:00, 231.58it/s, loss=4.74, v_num=49]\n",
      "Epoch 8:  50%|█████     | 41/82 [00:00<00:00, 136.30it/s, loss=5.1, v_num=49] \n",
      "Validating: 0it [00:00, ?it/s]\u001B[A\n",
      "Epoch 8: 100%|██████████| 82/82 [00:00<00:00, 229.46it/s, loss=5.1, v_num=49]\n",
      "Epoch 9:  50%|█████     | 41/82 [00:00<00:00, 139.03it/s, loss=5.02, v_num=49]\n",
      "Validating: 0it [00:00, ?it/s]\u001B[A\n",
      "Epoch 9: 100%|██████████| 82/82 [00:00<00:00, 240.91it/s, loss=5.02, v_num=49]\n",
      "Epoch 9: 100%|██████████| 82/82 [00:00<00:00, 236.88it/s, loss=5.02, v_num=49]\n"
     ]
    },
    {
     "name": "stderr",
     "output_type": "stream",
     "text": [
      "GPU available: True, used: False\n",
      "TPU available: False, using: 0 TPU cores\n",
      "IPU available: False, using: 0 IPUs\n"
     ]
    },
    {
     "name": "stdout",
     "output_type": "stream",
     "text": [
      "100\n"
     ]
    },
    {
     "name": "stderr",
     "output_type": "stream",
     "text": [
      "\n",
      "  | Name      | Type    | Params\n",
      "--------------------------------------\n",
      "0 | encoder   | Linear  | 28.8 K\n",
      "1 | act_1     | PReLU   | 1     \n",
      "2 | decoder   | Linear  | 31.6 K\n",
      "3 | act_2     | PReLU   | 1     \n",
      "4 | loss_func | MSELoss | 0     \n",
      "--------------------------------------\n",
      "60.4 K    Trainable params\n",
      "0         Non-trainable params\n",
      "60.4 K    Total params\n",
      "0.242     Total estimated model params size (MB)\n"
     ]
    },
    {
     "name": "stdout",
     "output_type": "stream",
     "text": [
      "Epoch 0:  50%|█████     | 41/82 [00:00<00:00, 130.46it/s, loss=13.8, v_num=50]\n",
      "Validating: 0it [00:00, ?it/s]\u001B[A\n",
      "Epoch 0: 100%|██████████| 82/82 [00:00<00:00, 228.31it/s, loss=13.8, v_num=50]\n",
      "Epoch 1:  50%|█████     | 41/82 [00:00<00:00, 137.58it/s, loss=15.3, v_num=50]\n",
      "Validating: 0it [00:00, ?it/s]\u001B[A\n",
      "Epoch 1: 100%|██████████| 82/82 [00:00<00:00, 230.94it/s, loss=15.3, v_num=50]\n",
      "Epoch 2:  51%|█████     | 42/82 [00:00<00:00, 132.71it/s, loss=15.6, v_num=50]\n",
      "Validating: 0it [00:00, ?it/s]\u001B[A\n",
      "Epoch 2: 100%|██████████| 82/82 [00:00<00:00, 220.83it/s, loss=15.6, v_num=50]\n",
      "Epoch 3:  51%|█████     | 42/82 [00:00<00:00, 144.40it/s, loss=14.7, v_num=50]\n",
      "Validating: 0it [00:00, ?it/s]\u001B[A\n",
      "Epoch 3: 100%|██████████| 82/82 [00:00<00:00, 244.53it/s, loss=14.7, v_num=50]\n",
      "Epoch 4:  51%|█████     | 42/82 [00:00<00:00, 143.19it/s, loss=14.9, v_num=50]\n",
      "Validating: 0it [00:00, ?it/s]\u001B[A\n",
      "Epoch 4: 100%|██████████| 82/82 [00:00<00:00, 242.57it/s, loss=14.9, v_num=50]\n",
      "Epoch 5:  51%|█████     | 42/82 [00:00<00:00, 138.61it/s, loss=15, v_num=50]  \n",
      "Validating: 0it [00:00, ?it/s]\u001B[A\n",
      "Epoch 5: 100%|██████████| 82/82 [00:00<00:00, 228.78it/s, loss=15, v_num=50]\n",
      "Epoch 6:  51%|█████     | 42/82 [00:00<00:00, 133.58it/s, loss=15.4, v_num=50]\n",
      "Validating: 0it [00:00, ?it/s]\u001B[A\n",
      "Epoch 6: 100%|██████████| 82/82 [00:00<00:00, 221.61it/s, loss=15.4, v_num=50]\n",
      "Epoch 7:  51%|█████     | 42/82 [00:00<00:00, 133.19it/s, loss=15.1, v_num=50]\n",
      "Validating: 0it [00:00, ?it/s]\u001B[A\n",
      "Epoch 7: 100%|██████████| 82/82 [00:00<00:00, 220.71it/s, loss=15.1, v_num=50]\n",
      "Epoch 8:  51%|█████     | 42/82 [00:00<00:00, 141.30it/s, loss=15.5, v_num=50]\n",
      "Validating: 0it [00:00, ?it/s]\u001B[A\n",
      "Epoch 8: 100%|██████████| 82/82 [00:00<00:00, 230.10it/s, loss=15.5, v_num=50]\n",
      "Epoch 9:  51%|█████     | 42/82 [00:00<00:00, 138.89it/s, loss=14.7, v_num=50]\n",
      "Validating: 0it [00:00, ?it/s]\u001B[A\n",
      "Epoch 9: 100%|██████████| 82/82 [00:00<00:00, 229.13it/s, loss=14.7, v_num=50]\n",
      "Epoch 9: 100%|██████████| 82/82 [00:00<00:00, 225.17it/s, loss=14.7, v_num=50]\n"
     ]
    },
    {
     "name": "stderr",
     "output_type": "stream",
     "text": [
      "GPU available: True, used: False\n",
      "TPU available: False, using: 0 TPU cores\n",
      "IPU available: False, using: 0 IPUs\n"
     ]
    },
    {
     "name": "stdout",
     "output_type": "stream",
     "text": [
      "0.01\n"
     ]
    },
    {
     "name": "stderr",
     "output_type": "stream",
     "text": [
      "\n",
      "  | Name      | Type    | Params\n",
      "--------------------------------------\n",
      "0 | encoder   | Linear  | 230 K \n",
      "1 | act_1     | PReLU   | 1     \n",
      "2 | decoder   | Linear  | 232 K \n",
      "3 | act_2     | PReLU   | 1     \n",
      "4 | loss_func | MSELoss | 0     \n",
      "--------------------------------------\n",
      "463 K     Trainable params\n",
      "0         Non-trainable params\n",
      "463 K     Total params\n",
      "1.852     Total estimated model params size (MB)\n"
     ]
    },
    {
     "name": "stdout",
     "output_type": "stream",
     "text": [
      "Epoch 0:  50%|█████     | 41/82 [00:00<00:00, 114.20it/s, loss=14.5, v_num=51]\n",
      "Validating: 0it [00:00, ?it/s]\u001B[A\n",
      "Epoch 0: 100%|██████████| 82/82 [00:00<00:00, 194.65it/s, loss=14.5, v_num=51]\n",
      "Epoch 1:  50%|█████     | 41/82 [00:00<00:00, 116.88it/s, loss=6.89, v_num=51]\n",
      "Validating: 0it [00:00, ?it/s]\u001B[A\n",
      "Epoch 1: 100%|██████████| 82/82 [00:00<00:00, 199.98it/s, loss=6.89, v_num=51]\n",
      "Epoch 2:  50%|█████     | 41/82 [00:00<00:00, 119.62it/s, loss=5.23, v_num=51]\n",
      "Validating: 0it [00:00, ?it/s]\u001B[A\n",
      "Epoch 2: 100%|██████████| 82/82 [00:00<00:00, 205.73it/s, loss=5.23, v_num=51]\n",
      "Epoch 3:  50%|█████     | 41/82 [00:00<00:00, 114.55it/s, loss=3.48, v_num=51]\n",
      "Validating: 0it [00:00, ?it/s]\u001B[A\n",
      "Epoch 3: 100%|██████████| 82/82 [00:00<00:00, 196.69it/s, loss=3.48, v_num=51]\n",
      "Epoch 4:  50%|█████     | 41/82 [00:00<00:00, 117.20it/s, loss=2.64, v_num=51]\n",
      "Validating: 0it [00:00, ?it/s]\u001B[A\n",
      "Epoch 4: 100%|██████████| 82/82 [00:00<00:00, 205.33it/s, loss=2.64, v_num=51]\n",
      "Epoch 5:  50%|█████     | 41/82 [00:00<00:00, 117.94it/s, loss=2.29, v_num=51]\n",
      "Validating: 0it [00:00, ?it/s]\u001B[A\n",
      "Epoch 5: 100%|██████████| 82/82 [00:00<00:00, 201.14it/s, loss=2.29, v_num=51]\n",
      "Epoch 6:  50%|█████     | 41/82 [00:00<00:00, 112.22it/s, loss=2.09, v_num=51]\n",
      "Validating: 0it [00:00, ?it/s]\u001B[A\n",
      "Epoch 6: 100%|██████████| 82/82 [00:00<00:00, 193.12it/s, loss=2.09, v_num=51]\n",
      "Epoch 7:  50%|█████     | 41/82 [00:00<00:00, 112.81it/s, loss=2.09, v_num=51]\n",
      "Validating: 0it [00:00, ?it/s]\u001B[A\n",
      "Epoch 7: 100%|██████████| 82/82 [00:00<00:00, 193.38it/s, loss=2.09, v_num=51]\n",
      "Epoch 8:  50%|█████     | 41/82 [00:00<00:00, 110.58it/s, loss=2.16, v_num=51]\n",
      "Validating: 0it [00:00, ?it/s]\u001B[A\n",
      "Epoch 8: 100%|██████████| 82/82 [00:00<00:00, 190.47it/s, loss=2.16, v_num=51]\n",
      "Epoch 9:  50%|█████     | 41/82 [00:00<00:00, 112.32it/s, loss=2.5, v_num=51] \n",
      "Validating: 0it [00:00, ?it/s]\u001B[A\n",
      "Epoch 9: 100%|██████████| 82/82 [00:00<00:00, 192.93it/s, loss=2.5, v_num=51]\n",
      "Epoch 9: 100%|██████████| 82/82 [00:00<00:00, 187.23it/s, loss=2.5, v_num=51]\n"
     ]
    },
    {
     "name": "stderr",
     "output_type": "stream",
     "text": [
      "GPU available: True, used: False\n",
      "TPU available: False, using: 0 TPU cores\n",
      "IPU available: False, using: 0 IPUs\n"
     ]
    },
    {
     "name": "stdout",
     "output_type": "stream",
     "text": [
      "0.1\n"
     ]
    },
    {
     "name": "stderr",
     "output_type": "stream",
     "text": [
      "\n",
      "  | Name      | Type    | Params\n",
      "--------------------------------------\n",
      "0 | encoder   | Linear  | 230 K \n",
      "1 | act_1     | PReLU   | 1     \n",
      "2 | decoder   | Linear  | 232 K \n",
      "3 | act_2     | PReLU   | 1     \n",
      "4 | loss_func | MSELoss | 0     \n",
      "--------------------------------------\n",
      "463 K     Trainable params\n",
      "0         Non-trainable params\n",
      "463 K     Total params\n",
      "1.852     Total estimated model params size (MB)\n"
     ]
    },
    {
     "name": "stdout",
     "output_type": "stream",
     "text": [
      "Epoch 0:  50%|█████     | 41/82 [00:00<00:00, 112.75it/s, loss=17.3, v_num=52]\n",
      "Validating: 0it [00:00, ?it/s]\u001B[A\n",
      "Epoch 0: 100%|██████████| 82/82 [00:00<00:00, 193.41it/s, loss=17.3, v_num=52]\n",
      "Epoch 1:  50%|█████     | 41/82 [00:00<00:00, 116.05it/s, loss=6.18, v_num=52]\n",
      "Validating: 0it [00:00, ?it/s]\u001B[A\n",
      "Epoch 1: 100%|██████████| 82/82 [00:00<00:00, 197.95it/s, loss=6.18, v_num=52]\n",
      "Epoch 2:  50%|█████     | 41/82 [00:00<00:00, 115.27it/s, loss=4.69, v_num=52]\n",
      "Validating: 0it [00:00, ?it/s]\u001B[A\n",
      "Epoch 2: 100%|██████████| 82/82 [00:00<00:00, 203.93it/s, loss=4.69, v_num=52]\n",
      "Epoch 3:  50%|█████     | 41/82 [00:00<00:00, 122.00it/s, loss=4.84, v_num=52]\n",
      "Validating: 0it [00:00, ?it/s]\u001B[A\n",
      "Epoch 3: 100%|██████████| 82/82 [00:00<00:00, 207.05it/s, loss=4.84, v_num=52]\n",
      "Epoch 4:  50%|█████     | 41/82 [00:00<00:00, 114.72it/s, loss=4.37, v_num=52]\n",
      "Validating: 0it [00:00, ?it/s]\u001B[A\n",
      "Epoch 4: 100%|██████████| 82/82 [00:00<00:00, 196.61it/s, loss=4.37, v_num=52]\n",
      "Epoch 5:  50%|█████     | 41/82 [00:00<00:00, 123.26it/s, loss=3.33, v_num=52]\n",
      "Validating: 0it [00:00, ?it/s]\u001B[A\n",
      "Epoch 5: 100%|██████████| 82/82 [00:00<00:00, 208.36it/s, loss=3.33, v_num=52]\n",
      "Epoch 6:  50%|█████     | 41/82 [00:00<00:00, 115.21it/s, loss=2.99, v_num=52]\n",
      "Validating: 0it [00:00, ?it/s]\u001B[A\n",
      "Epoch 6: 100%|██████████| 82/82 [00:00<00:00, 197.05it/s, loss=2.99, v_num=52]\n",
      "Epoch 7:  50%|█████     | 41/82 [00:00<00:00, 115.54it/s, loss=2.72, v_num=52]\n",
      "Validating: 0it [00:00, ?it/s]\u001B[A\n",
      "Epoch 7: 100%|██████████| 82/82 [00:00<00:00, 203.50it/s, loss=2.72, v_num=52]\n",
      "Epoch 8:  50%|█████     | 41/82 [00:00<00:00, 115.70it/s, loss=2.68, v_num=52]\n",
      "Validating: 0it [00:00, ?it/s]\u001B[A\n",
      "Epoch 8: 100%|██████████| 82/82 [00:00<00:00, 197.89it/s, loss=2.68, v_num=52]\n",
      "Epoch 9:  50%|█████     | 41/82 [00:00<00:00, 123.18it/s, loss=2.93, v_num=52]\n",
      "Validating: 0it [00:00, ?it/s]\u001B[A\n",
      "Epoch 9: 100%|██████████| 82/82 [00:00<00:00, 213.60it/s, loss=2.93, v_num=52]\n",
      "Epoch 9: 100%|██████████| 82/82 [00:00<00:00, 207.88it/s, loss=2.93, v_num=52]\n"
     ]
    },
    {
     "name": "stderr",
     "output_type": "stream",
     "text": [
      "GPU available: True, used: False\n",
      "TPU available: False, using: 0 TPU cores\n",
      "IPU available: False, using: 0 IPUs\n"
     ]
    },
    {
     "name": "stdout",
     "output_type": "stream",
     "text": [
      "1\n"
     ]
    },
    {
     "name": "stderr",
     "output_type": "stream",
     "text": [
      "\n",
      "  | Name      | Type    | Params\n",
      "--------------------------------------\n",
      "0 | encoder   | Linear  | 230 K \n",
      "1 | act_1     | PReLU   | 1     \n",
      "2 | decoder   | Linear  | 232 K \n",
      "3 | act_2     | PReLU   | 1     \n",
      "4 | loss_func | MSELoss | 0     \n",
      "--------------------------------------\n",
      "463 K     Trainable params\n",
      "0         Non-trainable params\n",
      "463 K     Total params\n",
      "1.852     Total estimated model params size (MB)\n"
     ]
    },
    {
     "name": "stdout",
     "output_type": "stream",
     "text": [
      "Epoch 0:  50%|█████     | 41/82 [00:00<00:00, 109.57it/s, loss=9.03, v_num=53]\n",
      "Validating: 0it [00:00, ?it/s]\u001B[A\n",
      "Epoch 0: 100%|██████████| 82/82 [00:00<00:00, 192.54it/s, loss=9.03, v_num=53]\n",
      "Epoch 1:  50%|█████     | 41/82 [00:00<00:00, 119.36it/s, loss=6.61, v_num=53]\n",
      "Validating: 0it [00:00, ?it/s]\u001B[A\n",
      "Epoch 1: 100%|██████████| 82/82 [00:00<00:00, 210.04it/s, loss=6.61, v_num=53]\n",
      "Epoch 2:  50%|█████     | 41/82 [00:00<00:00, 115.81it/s, loss=6.33, v_num=53]\n",
      "Validating: 0it [00:00, ?it/s]\u001B[A\n",
      "Epoch 2: 100%|██████████| 82/82 [00:00<00:00, 200.29it/s, loss=6.33, v_num=53]\n",
      "Epoch 3:  50%|█████     | 41/82 [00:00<00:00, 118.17it/s, loss=6.23, v_num=53]\n",
      "Validating: 0it [00:00, ?it/s]\u001B[A\n",
      "Epoch 3: 100%|██████████| 82/82 [00:00<00:00, 205.60it/s, loss=6.23, v_num=53]\n",
      "Epoch 4:  50%|█████     | 41/82 [00:00<00:00, 115.10it/s, loss=6.35, v_num=53]\n",
      "Validating: 0it [00:00, ?it/s]\u001B[A\n",
      "Epoch 4: 100%|██████████| 82/82 [00:00<00:00, 197.22it/s, loss=6.35, v_num=53]\n",
      "Epoch 5:  50%|█████     | 41/82 [00:00<00:00, 117.70it/s, loss=6.28, v_num=53]\n",
      "Validating: 0it [00:00, ?it/s]\u001B[A\n",
      "Epoch 5: 100%|██████████| 82/82 [00:00<00:00, 205.66it/s, loss=6.28, v_num=53]\n",
      "Epoch 6:  50%|█████     | 41/82 [00:00<00:00, 114.89it/s, loss=5.4, v_num=53] \n",
      "Validating: 0it [00:00, ?it/s]\u001B[A\n",
      "Epoch 6: 100%|██████████| 82/82 [00:00<00:00, 202.66it/s, loss=5.4, v_num=53]\n",
      "Epoch 7:  50%|█████     | 41/82 [00:00<00:00, 114.87it/s, loss=4.21, v_num=53]\n",
      "Validating: 0it [00:00, ?it/s]\u001B[A\n",
      "Epoch 7: 100%|██████████| 82/82 [00:00<00:00, 196.70it/s, loss=4.21, v_num=53]\n",
      "Epoch 8:  50%|█████     | 41/82 [00:00<00:00, 126.55it/s, loss=3.57, v_num=53]\n",
      "Validating: 0it [00:00, ?it/s]\u001B[A\n",
      "Epoch 8: 100%|██████████| 82/82 [00:00<00:00, 219.29it/s, loss=3.57, v_num=53]\n",
      "Epoch 9:  50%|█████     | 41/82 [00:00<00:00, 123.04it/s, loss=3.43, v_num=53]\n",
      "Validating: 0it [00:00, ?it/s]\u001B[A\n",
      "Epoch 9: 100%|██████████| 82/82 [00:00<00:00, 214.28it/s, loss=3.43, v_num=53]\n",
      "Epoch 9: 100%|██████████| 82/82 [00:00<00:00, 208.62it/s, loss=3.43, v_num=53]\n"
     ]
    },
    {
     "name": "stderr",
     "output_type": "stream",
     "text": [
      "GPU available: True, used: False\n",
      "TPU available: False, using: 0 TPU cores\n",
      "IPU available: False, using: 0 IPUs\n"
     ]
    },
    {
     "name": "stdout",
     "output_type": "stream",
     "text": [
      "100\n"
     ]
    },
    {
     "name": "stderr",
     "output_type": "stream",
     "text": [
      "\n",
      "  | Name      | Type    | Params\n",
      "--------------------------------------\n",
      "0 | encoder   | Linear  | 230 K \n",
      "1 | act_1     | PReLU   | 1     \n",
      "2 | decoder   | Linear  | 232 K \n",
      "3 | act_2     | PReLU   | 1     \n",
      "4 | loss_func | MSELoss | 0     \n",
      "--------------------------------------\n",
      "463 K     Trainable params\n",
      "0         Non-trainable params\n",
      "463 K     Total params\n",
      "1.852     Total estimated model params size (MB)\n"
     ]
    },
    {
     "name": "stdout",
     "output_type": "stream",
     "text": [
      "Epoch 0:  50%|█████     | 41/82 [00:00<00:00, 123.33it/s, loss=14.4, v_num=54]\n",
      "Validating: 0it [00:00, ?it/s]\u001B[A\n",
      "Epoch 0: 100%|██████████| 82/82 [00:00<00:00, 211.74it/s, loss=14.4, v_num=54]\n",
      "Epoch 1:  50%|█████     | 41/82 [00:00<00:00, 119.43it/s, loss=15.7, v_num=54]\n",
      "Validating: 0it [00:00, ?it/s]\u001B[A\n",
      "Epoch 1: 100%|██████████| 82/82 [00:00<00:00, 209.52it/s, loss=15.7, v_num=54]\n",
      "Epoch 2:  50%|█████     | 41/82 [00:00<00:00, 110.78it/s, loss=14.5, v_num=54]\n",
      "Validating: 0it [00:00, ?it/s]\u001B[A\n",
      "Epoch 2: 100%|██████████| 82/82 [00:00<00:00, 191.21it/s, loss=14.5, v_num=54]\n",
      "Epoch 3:  50%|█████     | 41/82 [00:00<00:00, 116.11it/s, loss=15.2, v_num=54]\n",
      "Validating: 0it [00:00, ?it/s]\u001B[A\n",
      "Epoch 3: 100%|██████████| 82/82 [00:00<00:00, 198.90it/s, loss=15.2, v_num=54]\n",
      "Epoch 4:  50%|█████     | 41/82 [00:00<00:00, 115.47it/s, loss=15.8, v_num=54]\n",
      "Validating: 0it [00:00, ?it/s]\u001B[A\n",
      "Epoch 4: 100%|██████████| 82/82 [00:00<00:00, 198.16it/s, loss=15.8, v_num=54]\n",
      "Epoch 5:  50%|█████     | 41/82 [00:00<00:00, 115.06it/s, loss=15, v_num=54]  \n",
      "Validating: 0it [00:00, ?it/s]\u001B[A\n",
      "Epoch 5: 100%|██████████| 82/82 [00:00<00:00, 202.31it/s, loss=15, v_num=54]\n",
      "Epoch 6:  50%|█████     | 41/82 [00:00<00:00, 114.08it/s, loss=15.5, v_num=54]\n",
      "Validating: 0it [00:00, ?it/s]\u001B[A\n",
      "Epoch 6: 100%|██████████| 82/82 [00:00<00:00, 195.89it/s, loss=15.5, v_num=54]\n",
      "Epoch 7:  50%|█████     | 41/82 [00:00<00:00, 113.19it/s, loss=14.5, v_num=54]\n",
      "Validating: 0it [00:00, ?it/s]\u001B[A\n",
      "Epoch 7: 100%|██████████| 82/82 [00:00<00:00, 194.46it/s, loss=14.5, v_num=54]\n",
      "Epoch 8:  50%|█████     | 41/82 [00:00<00:00, 110.81it/s, loss=14.9, v_num=54]\n",
      "Validating: 0it [00:00, ?it/s]\u001B[A\n",
      "Epoch 8: 100%|██████████| 82/82 [00:00<00:00, 190.53it/s, loss=14.9, v_num=54]\n",
      "Epoch 9:  50%|█████     | 41/82 [00:00<00:00, 113.91it/s, loss=14.9, v_num=54]\n",
      "Validating: 0it [00:00, ?it/s]\u001B[A\n",
      "Epoch 9: 100%|██████████| 82/82 [00:00<00:00, 201.13it/s, loss=14.9, v_num=54]\n",
      "Epoch 9: 100%|██████████| 82/82 [00:00<00:00, 196.04it/s, loss=14.9, v_num=54]\n"
     ]
    },
    {
     "name": "stderr",
     "output_type": "stream",
     "text": [
      "GPU available: True, used: False\n",
      "TPU available: False, using: 0 TPU cores\n",
      "IPU available: False, using: 0 IPUs\n"
     ]
    },
    {
     "name": "stdout",
     "output_type": "stream",
     "text": [
      "0.01\n"
     ]
    },
    {
     "name": "stderr",
     "output_type": "stream",
     "text": [
      "\n",
      "  | Name      | Type    | Params\n",
      "--------------------------------------\n",
      "0 | encoder   | Linear  | 863 K \n",
      "1 | act_1     | PReLU   | 1     \n",
      "2 | decoder   | Linear  | 865 K \n",
      "3 | act_2     | PReLU   | 1     \n",
      "4 | loss_func | MSELoss | 0     \n",
      "--------------------------------------\n",
      "1.7 M     Trainable params\n",
      "0         Non-trainable params\n",
      "1.7 M     Total params\n",
      "6.915     Total estimated model params size (MB)\n"
     ]
    },
    {
     "name": "stdout",
     "output_type": "stream",
     "text": [
      "Epoch 0:  50%|█████     | 41/82 [00:00<00:00, 64.96it/s, loss=98.7, v_num=55]\n",
      "Validating: 0it [00:00, ?it/s]\u001B[A\n",
      "Epoch 0: 100%|██████████| 82/82 [00:00<00:00, 118.74it/s, loss=98.7, v_num=55]\n",
      "Epoch 1:  50%|█████     | 41/82 [00:00<00:00, 66.52it/s, loss=6.93, v_num=55] \n",
      "Validating: 0it [00:00, ?it/s]\u001B[A\n",
      "Epoch 1: 100%|██████████| 82/82 [00:00<00:00, 118.72it/s, loss=6.93, v_num=55]\n",
      "Epoch 2:  50%|█████     | 41/82 [00:00<00:00, 68.80it/s, loss=5.04, v_num=55] \n",
      "Validating: 0it [00:00, ?it/s]\u001B[A\n",
      "Epoch 2: 100%|██████████| 82/82 [00:00<00:00, 121.97it/s, loss=5.04, v_num=55]\n",
      "Epoch 3:  51%|█████     | 42/82 [00:00<00:00, 68.87it/s, loss=5.93, v_num=55] \n",
      "Validating: 0it [00:00, ?it/s]\u001B[A\n",
      "Epoch 3: 100%|██████████| 82/82 [00:00<00:00, 120.63it/s, loss=5.93, v_num=55]\n",
      "Epoch 4:  51%|█████     | 42/82 [00:00<00:00, 70.51it/s, loss=4.21, v_num=55] \n",
      "Validating: 0it [00:00, ?it/s]\u001B[A\n",
      "Epoch 4: 100%|██████████| 82/82 [00:00<00:00, 125.33it/s, loss=4.21, v_num=55]\n",
      "Epoch 5:  51%|█████     | 42/82 [00:00<00:00, 69.01it/s, loss=4.18, v_num=55] \n",
      "Validating: 0it [00:00, ?it/s]\u001B[A\n",
      "Epoch 5: 100%|██████████| 82/82 [00:00<00:00, 123.07it/s, loss=4.18, v_num=55]\n",
      "Epoch 6:  51%|█████     | 42/82 [00:00<00:00, 66.22it/s, loss=3.8, v_num=55]  \n",
      "Validating: 0it [00:00, ?it/s]\u001B[A\n",
      "Epoch 6: 100%|██████████| 82/82 [00:00<00:00, 115.63it/s, loss=3.8, v_num=55]\n",
      "Epoch 7:  51%|█████     | 42/82 [00:00<00:00, 64.90it/s, loss=4.19, v_num=55]\n",
      "Validating: 0it [00:00, ?it/s]\u001B[A\n",
      "Epoch 7: 100%|██████████| 82/82 [00:00<00:00, 114.10it/s, loss=4.19, v_num=55]\n",
      "Epoch 8:  51%|█████     | 42/82 [00:00<00:00, 68.02it/s, loss=3.67, v_num=55] \n",
      "Validating: 0it [00:00, ?it/s]\u001B[A\n",
      "Epoch 8: 100%|██████████| 82/82 [00:00<00:00, 119.43it/s, loss=3.67, v_num=55]\n",
      "Epoch 9:  51%|█████     | 42/82 [00:00<00:00, 68.44it/s, loss=3.57, v_num=55] \n",
      "Validating: 0it [00:00, ?it/s]\u001B[A\n",
      "Epoch 9: 100%|██████████| 82/82 [00:00<00:00, 119.49it/s, loss=3.57, v_num=55]\n",
      "Epoch 9: 100%|██████████| 82/82 [00:00<00:00, 112.56it/s, loss=3.57, v_num=55]\n"
     ]
    },
    {
     "name": "stderr",
     "output_type": "stream",
     "text": [
      "GPU available: True, used: False\n",
      "TPU available: False, using: 0 TPU cores\n",
      "IPU available: False, using: 0 IPUs\n",
      "\n",
      "  | Name      | Type    | Params\n",
      "--------------------------------------\n",
      "0 | encoder   | Linear  | 863 K \n",
      "1 | act_1     | PReLU   | 1     \n",
      "2 | decoder   | Linear  | 865 K \n",
      "3 | act_2     | PReLU   | 1     \n",
      "4 | loss_func | MSELoss | 0     \n",
      "--------------------------------------\n",
      "1.7 M     Trainable params\n",
      "0         Non-trainable params\n",
      "1.7 M     Total params\n",
      "6.915     Total estimated model params size (MB)\n"
     ]
    },
    {
     "name": "stdout",
     "output_type": "stream",
     "text": [
      "0.1\n",
      "Epoch 0:  50%|█████     | 41/82 [00:00<00:00, 67.57it/s, loss=133, v_num=56]\n",
      "Validating: 0it [00:00, ?it/s]\u001B[A\n",
      "Epoch 0: 100%|██████████| 82/82 [00:00<00:00, 120.09it/s, loss=133, v_num=56]\n",
      "Epoch 1:  50%|█████     | 41/82 [00:00<00:00, 64.90it/s, loss=7.5, v_num=56] \n",
      "Validating: 0it [00:00, ?it/s]\u001B[A\n",
      "Epoch 1: 100%|██████████| 82/82 [00:00<00:00, 115.65it/s, loss=7.5, v_num=56]\n",
      "Epoch 2:  50%|█████     | 41/82 [00:00<00:00, 65.45it/s, loss=4.37, v_num=56]\n",
      "Validating: 0it [00:00, ?it/s]\u001B[A\n",
      "Epoch 2: 100%|██████████| 82/82 [00:00<00:00, 116.40it/s, loss=4.37, v_num=56]\n",
      "Epoch 3:  50%|█████     | 41/82 [00:00<00:00, 66.37it/s, loss=3.69, v_num=56] \n",
      "Validating: 0it [00:00, ?it/s]\u001B[A\n",
      "Epoch 3: 100%|██████████| 82/82 [00:00<00:00, 118.63it/s, loss=3.69, v_num=56]\n",
      "Epoch 4:  50%|█████     | 41/82 [00:00<00:00, 68.43it/s, loss=4.06, v_num=56] \n",
      "Validating: 0it [00:00, ?it/s]\u001B[A\n",
      "Epoch 4: 100%|██████████| 82/82 [00:00<00:00, 122.24it/s, loss=4.06, v_num=56]\n",
      "Epoch 5:  50%|█████     | 41/82 [00:00<00:00, 68.72it/s, loss=3.72, v_num=56] \n",
      "Validating: 0it [00:00, ?it/s]\u001B[A\n",
      "Epoch 5: 100%|██████████| 82/82 [00:00<00:00, 121.86it/s, loss=3.72, v_num=56]\n",
      "Epoch 6:  50%|█████     | 41/82 [00:00<00:00, 67.99it/s, loss=3.93, v_num=56] \n",
      "Validating: 0it [00:00, ?it/s]\u001B[A\n",
      "Epoch 6: 100%|██████████| 82/82 [00:00<00:00, 120.87it/s, loss=3.93, v_num=56]\n",
      "Epoch 7:  50%|█████     | 41/82 [00:00<00:00, 66.49it/s, loss=3.62, v_num=56] \n",
      "Validating: 0it [00:00, ?it/s]\u001B[A\n",
      "Epoch 7: 100%|██████████| 82/82 [00:00<00:00, 120.98it/s, loss=3.62, v_num=56]\n",
      "Epoch 8:  50%|█████     | 41/82 [00:00<00:00, 65.64it/s, loss=4.19, v_num=56] \n",
      "Validating: 0it [00:00, ?it/s]\u001B[A\n",
      "Epoch 8: 100%|██████████| 82/82 [00:00<00:00, 117.54it/s, loss=4.19, v_num=56]\n",
      "Epoch 9:  50%|█████     | 41/82 [00:00<00:00, 64.36it/s, loss=4.16, v_num=56] \n",
      "Validating: 0it [00:00, ?it/s]\u001B[A\n",
      "Epoch 9: 100%|██████████| 82/82 [00:00<00:00, 115.46it/s, loss=4.16, v_num=56]\n",
      "Epoch 9: 100%|██████████| 82/82 [00:00<00:00, 110.62it/s, loss=4.16, v_num=56]\n"
     ]
    },
    {
     "name": "stderr",
     "output_type": "stream",
     "text": [
      "GPU available: True, used: False\n",
      "TPU available: False, using: 0 TPU cores\n",
      "IPU available: False, using: 0 IPUs\n",
      "\n",
      "  | Name      | Type    | Params\n",
      "--------------------------------------\n",
      "0 | encoder   | Linear  | 863 K \n",
      "1 | act_1     | PReLU   | 1     \n",
      "2 | decoder   | Linear  | 865 K \n",
      "3 | act_2     | PReLU   | 1     \n",
      "4 | loss_func | MSELoss | 0     \n",
      "--------------------------------------\n",
      "1.7 M     Trainable params\n",
      "0         Non-trainable params\n",
      "1.7 M     Total params\n",
      "6.915     Total estimated model params size (MB)\n"
     ]
    },
    {
     "name": "stdout",
     "output_type": "stream",
     "text": [
      "1\n",
      "Epoch 0:  50%|█████     | 41/82 [00:00<00:00, 65.40it/s, loss=20.8, v_num=57]\n",
      "Validating: 0it [00:00, ?it/s]\u001B[A\n",
      "Epoch 0: 100%|██████████| 82/82 [00:00<00:00, 116.34it/s, loss=20.8, v_num=57]\n",
      "Epoch 1:  51%|█████     | 42/82 [00:00<00:00, 67.07it/s, loss=7.15, v_num=57] \n",
      "Validating: 0it [00:00, ?it/s]\u001B[A\n",
      "Epoch 1: 100%|██████████| 82/82 [00:00<00:00, 116.83it/s, loss=7.15, v_num=57]\n",
      "Epoch 2:  51%|█████     | 42/82 [00:00<00:00, 66.85it/s, loss=6.34, v_num=57] \n",
      "Validating: 0it [00:00, ?it/s]\u001B[A\n",
      "Epoch 2: 100%|██████████| 82/82 [00:00<00:00, 116.90it/s, loss=6.34, v_num=57]\n",
      "Epoch 3:  51%|█████     | 42/82 [00:00<00:00, 68.91it/s, loss=6.35, v_num=57] \n",
      "Validating: 0it [00:00, ?it/s]\u001B[A\n",
      "Epoch 3: 100%|██████████| 82/82 [00:00<00:00, 122.87it/s, loss=6.35, v_num=57]\n",
      "Epoch 4:  51%|█████     | 42/82 [00:00<00:00, 65.61it/s, loss=6.43, v_num=57] \n",
      "Validating: 0it [00:00, ?it/s]\u001B[A\n",
      "Epoch 4: 100%|██████████| 82/82 [00:00<00:00, 117.02it/s, loss=6.43, v_num=57]\n",
      "Epoch 5:  51%|█████     | 42/82 [00:00<00:00, 67.90it/s, loss=6.4, v_num=57]  \n",
      "Validating: 0it [00:00, ?it/s]\u001B[A\n",
      "Epoch 5: 100%|██████████| 82/82 [00:00<00:00, 118.67it/s, loss=6.4, v_num=57]\n",
      "Epoch 6:  51%|█████     | 42/82 [00:00<00:00, 68.09it/s, loss=5.7, v_num=57] \n",
      "Validating: 0it [00:00, ?it/s]\u001B[A\n",
      "Epoch 6: 100%|██████████| 82/82 [00:00<00:00, 121.31it/s, loss=5.7, v_num=57]\n",
      "Epoch 7:  51%|█████     | 42/82 [00:00<00:00, 67.22it/s, loss=5.19, v_num=57]\n",
      "Validating: 0it [00:00, ?it/s]\u001B[A\n",
      "Epoch 7: 100%|██████████| 82/82 [00:00<00:00, 118.09it/s, loss=5.19, v_num=57]\n",
      "Epoch 8:  51%|█████     | 42/82 [00:00<00:00, 68.39it/s, loss=4.69, v_num=57] \n",
      "Validating: 0it [00:00, ?it/s]\u001B[A\n",
      "Epoch 8: 100%|██████████| 82/82 [00:00<00:00, 119.20it/s, loss=4.69, v_num=57]\n",
      "Epoch 9:  51%|█████     | 42/82 [00:00<00:00, 66.77it/s, loss=4.26, v_num=57] \n",
      "Validating: 0it [00:00, ?it/s]\u001B[A\n",
      "Epoch 9: 100%|██████████| 82/82 [00:00<00:00, 119.56it/s, loss=4.26, v_num=57]\n",
      "Epoch 9: 100%|██████████| 82/82 [00:00<00:00, 114.36it/s, loss=4.26, v_num=57]\n"
     ]
    },
    {
     "name": "stderr",
     "output_type": "stream",
     "text": [
      "GPU available: True, used: False\n",
      "TPU available: False, using: 0 TPU cores\n",
      "IPU available: False, using: 0 IPUs\n"
     ]
    },
    {
     "name": "stdout",
     "output_type": "stream",
     "text": [
      "100\n"
     ]
    },
    {
     "name": "stderr",
     "output_type": "stream",
     "text": [
      "\n",
      "  | Name      | Type    | Params\n",
      "--------------------------------------\n",
      "0 | encoder   | Linear  | 863 K \n",
      "1 | act_1     | PReLU   | 1     \n",
      "2 | decoder   | Linear  | 865 K \n",
      "3 | act_2     | PReLU   | 1     \n",
      "4 | loss_func | MSELoss | 0     \n",
      "--------------------------------------\n",
      "1.7 M     Trainable params\n",
      "0         Non-trainable params\n",
      "1.7 M     Total params\n",
      "6.915     Total estimated model params size (MB)\n"
     ]
    },
    {
     "name": "stdout",
     "output_type": "stream",
     "text": [
      "Epoch 0:  50%|█████     | 41/82 [00:00<00:00, 67.01it/s, loss=15.3, v_num=58]\n",
      "Validating: 0it [00:00, ?it/s]\u001B[A\n",
      "Epoch 0: 100%|██████████| 82/82 [00:00<00:00, 120.18it/s, loss=15.3, v_num=58]\n",
      "Epoch 1:  50%|█████     | 41/82 [00:00<00:00, 63.23it/s, loss=15, v_num=58]   \n",
      "Validating: 0it [00:00, ?it/s]\u001B[A\n",
      "Epoch 1: 100%|██████████| 82/82 [00:00<00:00, 113.32it/s, loss=15, v_num=58]\n",
      "Epoch 2:  50%|█████     | 41/82 [00:00<00:00, 65.24it/s, loss=14.8, v_num=58]\n",
      "Validating: 0it [00:00, ?it/s]\u001B[A\n",
      "Epoch 2: 100%|██████████| 82/82 [00:00<00:00, 115.81it/s, loss=14.8, v_num=58]\n",
      "Epoch 3:  50%|█████     | 41/82 [00:00<00:00, 65.87it/s, loss=15.4, v_num=58] \n",
      "Validating: 0it [00:00, ?it/s]\u001B[A\n",
      "Epoch 3: 100%|██████████| 82/82 [00:00<00:00, 119.46it/s, loss=15.4, v_num=58]\n",
      "Epoch 4:  50%|█████     | 41/82 [00:00<00:00, 65.22it/s, loss=14.8, v_num=58] \n",
      "Validating: 0it [00:00, ?it/s]\u001B[A\n",
      "Epoch 4: 100%|██████████| 82/82 [00:00<00:00, 116.18it/s, loss=14.8, v_num=58]\n",
      "Epoch 5:  50%|█████     | 41/82 [00:00<00:00, 65.41it/s, loss=15.4, v_num=58] \n",
      "Validating: 0it [00:00, ?it/s]\u001B[A\n",
      "Epoch 5: 100%|██████████| 82/82 [00:00<00:00, 119.54it/s, loss=15.4, v_num=58]\n",
      "Epoch 6:  50%|█████     | 41/82 [00:00<00:00, 66.44it/s, loss=15.2, v_num=58] \n",
      "Validating: 0it [00:00, ?it/s]\u001B[A\n",
      "Epoch 6: 100%|██████████| 82/82 [00:00<00:00, 118.57it/s, loss=15.2, v_num=58]\n",
      "Epoch 7:  50%|█████     | 41/82 [00:00<00:00, 65.86it/s, loss=14.8, v_num=58] \n",
      "Validating: 0it [00:00, ?it/s]\u001B[A\n",
      "Epoch 7: 100%|██████████| 82/82 [00:00<00:00, 117.79it/s, loss=14.8, v_num=58]\n",
      "Epoch 8:  50%|█████     | 41/82 [00:00<00:00, 66.30it/s, loss=15.3, v_num=58] \n",
      "Validating: 0it [00:00, ?it/s]\u001B[A\n",
      "Epoch 8: 100%|██████████| 82/82 [00:00<00:00, 120.84it/s, loss=15.3, v_num=58]\n",
      "Epoch 9:  50%|█████     | 41/82 [00:00<00:00, 64.31it/s, loss=15.2, v_num=58] \n",
      "Validating: 0it [00:00, ?it/s]\u001B[A\n",
      "Epoch 9: 100%|██████████| 82/82 [00:00<00:00, 115.30it/s, loss=15.2, v_num=58]\n",
      "Epoch 9: 100%|██████████| 82/82 [00:00<00:00, 110.39it/s, loss=15.2, v_num=58]\n"
     ]
    },
    {
     "name": "stderr",
     "output_type": "stream",
     "text": [
      "GPU available: True, used: False\n",
      "TPU available: False, using: 0 TPU cores\n",
      "IPU available: False, using: 0 IPUs\n"
     ]
    },
    {
     "name": "stdout",
     "output_type": "stream",
     "text": [
      "0.01\n"
     ]
    },
    {
     "name": "stderr",
     "output_type": "stream",
     "text": [
      "\n",
      "  | Name      | Type    | Params\n",
      "--------------------------------------\n",
      "0 | encoder   | Linear  | 28.8 K\n",
      "1 | act_1     | Sigmoid | 0     \n",
      "2 | decoder   | Linear  | 31.6 K\n",
      "3 | act_2     | Sigmoid | 0     \n",
      "4 | loss_func | MSELoss | 0     \n",
      "--------------------------------------\n",
      "60.4 K    Trainable params\n",
      "0         Non-trainable params\n",
      "60.4 K    Total params\n",
      "0.242     Total estimated model params size (MB)\n"
     ]
    },
    {
     "name": "stdout",
     "output_type": "stream",
     "text": [
      "Epoch 0:   0%|          | 0/82 [00:00<?, ?it/s]               "
     ]
    },
    {
     "ename": "RuntimeError",
     "evalue": "one of the variables needed for gradient computation has been modified by an inplace operation: [torch.FloatTensor [10, 2876]], which is output 0 of SigmoidBackward0, is at version 1; expected version 0 instead. Hint: enable anomaly detection to find the operation that failed to compute its gradient, with torch.autograd.set_detect_anomaly(True).",
     "output_type": "error",
     "traceback": [
      "\u001B[0;31m---------------------------------------------------------------------------\u001B[0m",
      "\u001B[0;31mRuntimeError\u001B[0m                              Traceback (most recent call last)",
      "\u001B[0;32m/tmp/ipykernel_6411/4101334630.py\u001B[0m in \u001B[0;36m<module>\u001B[0;34m\u001B[0m\n\u001B[1;32m     20\u001B[0m                             \u001B[0mtrainer\u001B[0m\u001B[0;34m.\u001B[0m\u001B[0mfit\u001B[0m\u001B[0;34m(\u001B[0m\u001B[0mmodel\u001B[0m\u001B[0;34m,\u001B[0m\u001B[0mmf_train_loader\u001B[0m\u001B[0;34m,\u001B[0m \u001B[0mmf_val_loader\u001B[0m\u001B[0;34m)\u001B[0m\u001B[0;34m\u001B[0m\u001B[0;34m\u001B[0m\u001B[0m\n\u001B[1;32m     21\u001B[0m                         \u001B[0;32melse\u001B[0m\u001B[0;34m:\u001B[0m\u001B[0;34m\u001B[0m\u001B[0;34m\u001B[0m\u001B[0m\n\u001B[0;32m---> 22\u001B[0;31m                             \u001B[0mtrainer\u001B[0m\u001B[0;34m.\u001B[0m\u001B[0mfit\u001B[0m\u001B[0;34m(\u001B[0m\u001B[0mmodel\u001B[0m\u001B[0;34m,\u001B[0m\u001B[0mtrain_loader\u001B[0m\u001B[0;34m,\u001B[0m \u001B[0mval_loader\u001B[0m\u001B[0;34m)\u001B[0m\u001B[0;34m\u001B[0m\u001B[0;34m\u001B[0m\u001B[0m\n\u001B[0m\u001B[1;32m     23\u001B[0m \u001B[0;34m\u001B[0m\u001B[0m\n\u001B[1;32m     24\u001B[0m                         model_path = save_model(model_class=model_class,\n",
      "\u001B[0;32m~/anaconda3/envs/rs/lib/python3.7/site-packages/pytorch_lightning/trainer/trainer.py\u001B[0m in \u001B[0;36mfit\u001B[0;34m(self, model, train_dataloaders, val_dataloaders, datamodule, train_dataloader, ckpt_path)\u001B[0m\n\u001B[1;32m    739\u001B[0m             \u001B[0mtrain_dataloaders\u001B[0m \u001B[0;34m=\u001B[0m \u001B[0mtrain_dataloader\u001B[0m\u001B[0;34m\u001B[0m\u001B[0;34m\u001B[0m\u001B[0m\n\u001B[1;32m    740\u001B[0m         self._call_and_handle_interrupt(\n\u001B[0;32m--> 741\u001B[0;31m             \u001B[0mself\u001B[0m\u001B[0;34m.\u001B[0m\u001B[0m_fit_impl\u001B[0m\u001B[0;34m,\u001B[0m \u001B[0mmodel\u001B[0m\u001B[0;34m,\u001B[0m \u001B[0mtrain_dataloaders\u001B[0m\u001B[0;34m,\u001B[0m \u001B[0mval_dataloaders\u001B[0m\u001B[0;34m,\u001B[0m \u001B[0mdatamodule\u001B[0m\u001B[0;34m,\u001B[0m \u001B[0mckpt_path\u001B[0m\u001B[0;34m\u001B[0m\u001B[0;34m\u001B[0m\u001B[0m\n\u001B[0m\u001B[1;32m    742\u001B[0m         )\n\u001B[1;32m    743\u001B[0m \u001B[0;34m\u001B[0m\u001B[0m\n",
      "\u001B[0;32m~/anaconda3/envs/rs/lib/python3.7/site-packages/pytorch_lightning/trainer/trainer.py\u001B[0m in \u001B[0;36m_call_and_handle_interrupt\u001B[0;34m(self, trainer_fn, *args, **kwargs)\u001B[0m\n\u001B[1;32m    683\u001B[0m         \"\"\"\n\u001B[1;32m    684\u001B[0m         \u001B[0;32mtry\u001B[0m\u001B[0;34m:\u001B[0m\u001B[0;34m\u001B[0m\u001B[0;34m\u001B[0m\u001B[0m\n\u001B[0;32m--> 685\u001B[0;31m             \u001B[0;32mreturn\u001B[0m \u001B[0mtrainer_fn\u001B[0m\u001B[0;34m(\u001B[0m\u001B[0;34m*\u001B[0m\u001B[0margs\u001B[0m\u001B[0;34m,\u001B[0m \u001B[0;34m**\u001B[0m\u001B[0mkwargs\u001B[0m\u001B[0;34m)\u001B[0m\u001B[0;34m\u001B[0m\u001B[0;34m\u001B[0m\u001B[0m\n\u001B[0m\u001B[1;32m    686\u001B[0m         \u001B[0;31m# TODO: treat KeyboardInterrupt as BaseException (delete the code below) in v1.7\u001B[0m\u001B[0;34m\u001B[0m\u001B[0;34m\u001B[0m\u001B[0;34m\u001B[0m\u001B[0m\n\u001B[1;32m    687\u001B[0m         \u001B[0;32mexcept\u001B[0m \u001B[0mKeyboardInterrupt\u001B[0m \u001B[0;32mas\u001B[0m \u001B[0mexception\u001B[0m\u001B[0;34m:\u001B[0m\u001B[0;34m\u001B[0m\u001B[0;34m\u001B[0m\u001B[0m\n",
      "\u001B[0;32m~/anaconda3/envs/rs/lib/python3.7/site-packages/pytorch_lightning/trainer/trainer.py\u001B[0m in \u001B[0;36m_fit_impl\u001B[0;34m(self, model, train_dataloaders, val_dataloaders, datamodule, ckpt_path)\u001B[0m\n\u001B[1;32m    775\u001B[0m         \u001B[0;31m# TODO: ckpt_path only in v1.7\u001B[0m\u001B[0;34m\u001B[0m\u001B[0;34m\u001B[0m\u001B[0;34m\u001B[0m\u001B[0m\n\u001B[1;32m    776\u001B[0m         \u001B[0mckpt_path\u001B[0m \u001B[0;34m=\u001B[0m \u001B[0mckpt_path\u001B[0m \u001B[0;32mor\u001B[0m \u001B[0mself\u001B[0m\u001B[0;34m.\u001B[0m\u001B[0mresume_from_checkpoint\u001B[0m\u001B[0;34m\u001B[0m\u001B[0;34m\u001B[0m\u001B[0m\n\u001B[0;32m--> 777\u001B[0;31m         \u001B[0mself\u001B[0m\u001B[0;34m.\u001B[0m\u001B[0m_run\u001B[0m\u001B[0;34m(\u001B[0m\u001B[0mmodel\u001B[0m\u001B[0;34m,\u001B[0m \u001B[0mckpt_path\u001B[0m\u001B[0;34m=\u001B[0m\u001B[0mckpt_path\u001B[0m\u001B[0;34m)\u001B[0m\u001B[0;34m\u001B[0m\u001B[0;34m\u001B[0m\u001B[0m\n\u001B[0m\u001B[1;32m    778\u001B[0m \u001B[0;34m\u001B[0m\u001B[0m\n\u001B[1;32m    779\u001B[0m         \u001B[0;32massert\u001B[0m \u001B[0mself\u001B[0m\u001B[0;34m.\u001B[0m\u001B[0mstate\u001B[0m\u001B[0;34m.\u001B[0m\u001B[0mstopped\u001B[0m\u001B[0;34m\u001B[0m\u001B[0;34m\u001B[0m\u001B[0m\n",
      "\u001B[0;32m~/anaconda3/envs/rs/lib/python3.7/site-packages/pytorch_lightning/trainer/trainer.py\u001B[0m in \u001B[0;36m_run\u001B[0;34m(self, model, ckpt_path)\u001B[0m\n\u001B[1;32m   1197\u001B[0m \u001B[0;34m\u001B[0m\u001B[0m\n\u001B[1;32m   1198\u001B[0m         \u001B[0;31m# dispatch `start_training` or `start_evaluating` or `start_predicting`\u001B[0m\u001B[0;34m\u001B[0m\u001B[0;34m\u001B[0m\u001B[0;34m\u001B[0m\u001B[0m\n\u001B[0;32m-> 1199\u001B[0;31m         \u001B[0mself\u001B[0m\u001B[0;34m.\u001B[0m\u001B[0m_dispatch\u001B[0m\u001B[0;34m(\u001B[0m\u001B[0;34m)\u001B[0m\u001B[0;34m\u001B[0m\u001B[0;34m\u001B[0m\u001B[0m\n\u001B[0m\u001B[1;32m   1200\u001B[0m \u001B[0;34m\u001B[0m\u001B[0m\n\u001B[1;32m   1201\u001B[0m         \u001B[0;31m# plugin will finalized fitting (e.g. ddp_spawn will load trained model)\u001B[0m\u001B[0;34m\u001B[0m\u001B[0;34m\u001B[0m\u001B[0;34m\u001B[0m\u001B[0m\n",
      "\u001B[0;32m~/anaconda3/envs/rs/lib/python3.7/site-packages/pytorch_lightning/trainer/trainer.py\u001B[0m in \u001B[0;36m_dispatch\u001B[0;34m(self)\u001B[0m\n\u001B[1;32m   1277\u001B[0m             \u001B[0mself\u001B[0m\u001B[0;34m.\u001B[0m\u001B[0mtraining_type_plugin\u001B[0m\u001B[0;34m.\u001B[0m\u001B[0mstart_predicting\u001B[0m\u001B[0;34m(\u001B[0m\u001B[0mself\u001B[0m\u001B[0;34m)\u001B[0m\u001B[0;34m\u001B[0m\u001B[0;34m\u001B[0m\u001B[0m\n\u001B[1;32m   1278\u001B[0m         \u001B[0;32melse\u001B[0m\u001B[0;34m:\u001B[0m\u001B[0;34m\u001B[0m\u001B[0;34m\u001B[0m\u001B[0m\n\u001B[0;32m-> 1279\u001B[0;31m             \u001B[0mself\u001B[0m\u001B[0;34m.\u001B[0m\u001B[0mtraining_type_plugin\u001B[0m\u001B[0;34m.\u001B[0m\u001B[0mstart_training\u001B[0m\u001B[0;34m(\u001B[0m\u001B[0mself\u001B[0m\u001B[0;34m)\u001B[0m\u001B[0;34m\u001B[0m\u001B[0;34m\u001B[0m\u001B[0m\n\u001B[0m\u001B[1;32m   1280\u001B[0m \u001B[0;34m\u001B[0m\u001B[0m\n\u001B[1;32m   1281\u001B[0m     \u001B[0;32mdef\u001B[0m \u001B[0mrun_stage\u001B[0m\u001B[0;34m(\u001B[0m\u001B[0mself\u001B[0m\u001B[0;34m)\u001B[0m\u001B[0;34m:\u001B[0m\u001B[0;34m\u001B[0m\u001B[0;34m\u001B[0m\u001B[0m\n",
      "\u001B[0;32m~/anaconda3/envs/rs/lib/python3.7/site-packages/pytorch_lightning/plugins/training_type/training_type_plugin.py\u001B[0m in \u001B[0;36mstart_training\u001B[0;34m(self, trainer)\u001B[0m\n\u001B[1;32m    200\u001B[0m     \u001B[0;32mdef\u001B[0m \u001B[0mstart_training\u001B[0m\u001B[0;34m(\u001B[0m\u001B[0mself\u001B[0m\u001B[0;34m,\u001B[0m \u001B[0mtrainer\u001B[0m\u001B[0;34m:\u001B[0m \u001B[0;34m\"pl.Trainer\"\u001B[0m\u001B[0;34m)\u001B[0m \u001B[0;34m->\u001B[0m \u001B[0;32mNone\u001B[0m\u001B[0;34m:\u001B[0m\u001B[0;34m\u001B[0m\u001B[0;34m\u001B[0m\u001B[0m\n\u001B[1;32m    201\u001B[0m         \u001B[0;31m# double dispatch to initiate the training loop\u001B[0m\u001B[0;34m\u001B[0m\u001B[0;34m\u001B[0m\u001B[0;34m\u001B[0m\u001B[0m\n\u001B[0;32m--> 202\u001B[0;31m         \u001B[0mself\u001B[0m\u001B[0;34m.\u001B[0m\u001B[0m_results\u001B[0m \u001B[0;34m=\u001B[0m \u001B[0mtrainer\u001B[0m\u001B[0;34m.\u001B[0m\u001B[0mrun_stage\u001B[0m\u001B[0;34m(\u001B[0m\u001B[0;34m)\u001B[0m\u001B[0;34m\u001B[0m\u001B[0;34m\u001B[0m\u001B[0m\n\u001B[0m\u001B[1;32m    203\u001B[0m \u001B[0;34m\u001B[0m\u001B[0m\n\u001B[1;32m    204\u001B[0m     \u001B[0;32mdef\u001B[0m \u001B[0mstart_evaluating\u001B[0m\u001B[0;34m(\u001B[0m\u001B[0mself\u001B[0m\u001B[0;34m,\u001B[0m \u001B[0mtrainer\u001B[0m\u001B[0;34m:\u001B[0m \u001B[0;34m\"pl.Trainer\"\u001B[0m\u001B[0;34m)\u001B[0m \u001B[0;34m->\u001B[0m \u001B[0;32mNone\u001B[0m\u001B[0;34m:\u001B[0m\u001B[0;34m\u001B[0m\u001B[0;34m\u001B[0m\u001B[0m\n",
      "\u001B[0;32m~/anaconda3/envs/rs/lib/python3.7/site-packages/pytorch_lightning/trainer/trainer.py\u001B[0m in \u001B[0;36mrun_stage\u001B[0;34m(self)\u001B[0m\n\u001B[1;32m   1287\u001B[0m         \u001B[0;32mif\u001B[0m \u001B[0mself\u001B[0m\u001B[0;34m.\u001B[0m\u001B[0mpredicting\u001B[0m\u001B[0;34m:\u001B[0m\u001B[0;34m\u001B[0m\u001B[0;34m\u001B[0m\u001B[0m\n\u001B[1;32m   1288\u001B[0m             \u001B[0;32mreturn\u001B[0m \u001B[0mself\u001B[0m\u001B[0;34m.\u001B[0m\u001B[0m_run_predict\u001B[0m\u001B[0;34m(\u001B[0m\u001B[0;34m)\u001B[0m\u001B[0;34m\u001B[0m\u001B[0;34m\u001B[0m\u001B[0m\n\u001B[0;32m-> 1289\u001B[0;31m         \u001B[0;32mreturn\u001B[0m \u001B[0mself\u001B[0m\u001B[0;34m.\u001B[0m\u001B[0m_run_train\u001B[0m\u001B[0;34m(\u001B[0m\u001B[0;34m)\u001B[0m\u001B[0;34m\u001B[0m\u001B[0;34m\u001B[0m\u001B[0m\n\u001B[0m\u001B[1;32m   1290\u001B[0m \u001B[0;34m\u001B[0m\u001B[0m\n\u001B[1;32m   1291\u001B[0m     \u001B[0;32mdef\u001B[0m \u001B[0m_pre_training_routine\u001B[0m\u001B[0;34m(\u001B[0m\u001B[0mself\u001B[0m\u001B[0;34m)\u001B[0m\u001B[0;34m:\u001B[0m\u001B[0;34m\u001B[0m\u001B[0;34m\u001B[0m\u001B[0m\n",
      "\u001B[0;32m~/anaconda3/envs/rs/lib/python3.7/site-packages/pytorch_lightning/trainer/trainer.py\u001B[0m in \u001B[0;36m_run_train\u001B[0;34m(self)\u001B[0m\n\u001B[1;32m   1317\u001B[0m         \u001B[0mself\u001B[0m\u001B[0;34m.\u001B[0m\u001B[0mfit_loop\u001B[0m\u001B[0;34m.\u001B[0m\u001B[0mtrainer\u001B[0m \u001B[0;34m=\u001B[0m \u001B[0mself\u001B[0m\u001B[0;34m\u001B[0m\u001B[0;34m\u001B[0m\u001B[0m\n\u001B[1;32m   1318\u001B[0m         \u001B[0;32mwith\u001B[0m \u001B[0mtorch\u001B[0m\u001B[0;34m.\u001B[0m\u001B[0mautograd\u001B[0m\u001B[0;34m.\u001B[0m\u001B[0mset_detect_anomaly\u001B[0m\u001B[0;34m(\u001B[0m\u001B[0mself\u001B[0m\u001B[0;34m.\u001B[0m\u001B[0m_detect_anomaly\u001B[0m\u001B[0;34m)\u001B[0m\u001B[0;34m:\u001B[0m\u001B[0;34m\u001B[0m\u001B[0;34m\u001B[0m\u001B[0m\n\u001B[0;32m-> 1319\u001B[0;31m             \u001B[0mself\u001B[0m\u001B[0;34m.\u001B[0m\u001B[0mfit_loop\u001B[0m\u001B[0;34m.\u001B[0m\u001B[0mrun\u001B[0m\u001B[0;34m(\u001B[0m\u001B[0;34m)\u001B[0m\u001B[0;34m\u001B[0m\u001B[0;34m\u001B[0m\u001B[0m\n\u001B[0m\u001B[1;32m   1320\u001B[0m \u001B[0;34m\u001B[0m\u001B[0m\n\u001B[1;32m   1321\u001B[0m     \u001B[0;32mdef\u001B[0m \u001B[0m_run_evaluate\u001B[0m\u001B[0;34m(\u001B[0m\u001B[0mself\u001B[0m\u001B[0;34m)\u001B[0m \u001B[0;34m->\u001B[0m \u001B[0m_EVALUATE_OUTPUT\u001B[0m\u001B[0;34m:\u001B[0m\u001B[0;34m\u001B[0m\u001B[0;34m\u001B[0m\u001B[0m\n",
      "\u001B[0;32m~/anaconda3/envs/rs/lib/python3.7/site-packages/pytorch_lightning/loops/base.py\u001B[0m in \u001B[0;36mrun\u001B[0;34m(self, *args, **kwargs)\u001B[0m\n\u001B[1;32m    143\u001B[0m             \u001B[0;32mtry\u001B[0m\u001B[0;34m:\u001B[0m\u001B[0;34m\u001B[0m\u001B[0;34m\u001B[0m\u001B[0m\n\u001B[1;32m    144\u001B[0m                 \u001B[0mself\u001B[0m\u001B[0;34m.\u001B[0m\u001B[0mon_advance_start\u001B[0m\u001B[0;34m(\u001B[0m\u001B[0;34m*\u001B[0m\u001B[0margs\u001B[0m\u001B[0;34m,\u001B[0m \u001B[0;34m**\u001B[0m\u001B[0mkwargs\u001B[0m\u001B[0;34m)\u001B[0m\u001B[0;34m\u001B[0m\u001B[0;34m\u001B[0m\u001B[0m\n\u001B[0;32m--> 145\u001B[0;31m                 \u001B[0mself\u001B[0m\u001B[0;34m.\u001B[0m\u001B[0madvance\u001B[0m\u001B[0;34m(\u001B[0m\u001B[0;34m*\u001B[0m\u001B[0margs\u001B[0m\u001B[0;34m,\u001B[0m \u001B[0;34m**\u001B[0m\u001B[0mkwargs\u001B[0m\u001B[0;34m)\u001B[0m\u001B[0;34m\u001B[0m\u001B[0;34m\u001B[0m\u001B[0m\n\u001B[0m\u001B[1;32m    146\u001B[0m                 \u001B[0mself\u001B[0m\u001B[0;34m.\u001B[0m\u001B[0mon_advance_end\u001B[0m\u001B[0;34m(\u001B[0m\u001B[0;34m)\u001B[0m\u001B[0;34m\u001B[0m\u001B[0;34m\u001B[0m\u001B[0m\n\u001B[1;32m    147\u001B[0m                 \u001B[0mself\u001B[0m\u001B[0;34m.\u001B[0m\u001B[0mrestarting\u001B[0m \u001B[0;34m=\u001B[0m \u001B[0;32mFalse\u001B[0m\u001B[0;34m\u001B[0m\u001B[0;34m\u001B[0m\u001B[0m\n",
      "\u001B[0;32m~/anaconda3/envs/rs/lib/python3.7/site-packages/pytorch_lightning/loops/fit_loop.py\u001B[0m in \u001B[0;36madvance\u001B[0;34m(self)\u001B[0m\n\u001B[1;32m    232\u001B[0m \u001B[0;34m\u001B[0m\u001B[0m\n\u001B[1;32m    233\u001B[0m         \u001B[0;32mwith\u001B[0m \u001B[0mself\u001B[0m\u001B[0;34m.\u001B[0m\u001B[0mtrainer\u001B[0m\u001B[0;34m.\u001B[0m\u001B[0mprofiler\u001B[0m\u001B[0;34m.\u001B[0m\u001B[0mprofile\u001B[0m\u001B[0;34m(\u001B[0m\u001B[0;34m\"run_training_epoch\"\u001B[0m\u001B[0;34m)\u001B[0m\u001B[0;34m:\u001B[0m\u001B[0;34m\u001B[0m\u001B[0;34m\u001B[0m\u001B[0m\n\u001B[0;32m--> 234\u001B[0;31m             \u001B[0mself\u001B[0m\u001B[0;34m.\u001B[0m\u001B[0mepoch_loop\u001B[0m\u001B[0;34m.\u001B[0m\u001B[0mrun\u001B[0m\u001B[0;34m(\u001B[0m\u001B[0mdata_fetcher\u001B[0m\u001B[0;34m)\u001B[0m\u001B[0;34m\u001B[0m\u001B[0;34m\u001B[0m\u001B[0m\n\u001B[0m\u001B[1;32m    235\u001B[0m \u001B[0;34m\u001B[0m\u001B[0m\n\u001B[1;32m    236\u001B[0m             \u001B[0;31m# the global step is manually decreased here due to backwards compatibility with existing loggers\u001B[0m\u001B[0;34m\u001B[0m\u001B[0;34m\u001B[0m\u001B[0;34m\u001B[0m\u001B[0m\n",
      "\u001B[0;32m~/anaconda3/envs/rs/lib/python3.7/site-packages/pytorch_lightning/loops/base.py\u001B[0m in \u001B[0;36mrun\u001B[0;34m(self, *args, **kwargs)\u001B[0m\n\u001B[1;32m    143\u001B[0m             \u001B[0;32mtry\u001B[0m\u001B[0;34m:\u001B[0m\u001B[0;34m\u001B[0m\u001B[0;34m\u001B[0m\u001B[0m\n\u001B[1;32m    144\u001B[0m                 \u001B[0mself\u001B[0m\u001B[0;34m.\u001B[0m\u001B[0mon_advance_start\u001B[0m\u001B[0;34m(\u001B[0m\u001B[0;34m*\u001B[0m\u001B[0margs\u001B[0m\u001B[0;34m,\u001B[0m \u001B[0;34m**\u001B[0m\u001B[0mkwargs\u001B[0m\u001B[0;34m)\u001B[0m\u001B[0;34m\u001B[0m\u001B[0;34m\u001B[0m\u001B[0m\n\u001B[0;32m--> 145\u001B[0;31m                 \u001B[0mself\u001B[0m\u001B[0;34m.\u001B[0m\u001B[0madvance\u001B[0m\u001B[0;34m(\u001B[0m\u001B[0;34m*\u001B[0m\u001B[0margs\u001B[0m\u001B[0;34m,\u001B[0m \u001B[0;34m**\u001B[0m\u001B[0mkwargs\u001B[0m\u001B[0;34m)\u001B[0m\u001B[0;34m\u001B[0m\u001B[0;34m\u001B[0m\u001B[0m\n\u001B[0m\u001B[1;32m    146\u001B[0m                 \u001B[0mself\u001B[0m\u001B[0;34m.\u001B[0m\u001B[0mon_advance_end\u001B[0m\u001B[0;34m(\u001B[0m\u001B[0;34m)\u001B[0m\u001B[0;34m\u001B[0m\u001B[0;34m\u001B[0m\u001B[0m\n\u001B[1;32m    147\u001B[0m                 \u001B[0mself\u001B[0m\u001B[0;34m.\u001B[0m\u001B[0mrestarting\u001B[0m \u001B[0;34m=\u001B[0m \u001B[0;32mFalse\u001B[0m\u001B[0;34m\u001B[0m\u001B[0;34m\u001B[0m\u001B[0m\n",
      "\u001B[0;32m~/anaconda3/envs/rs/lib/python3.7/site-packages/pytorch_lightning/loops/epoch/training_epoch_loop.py\u001B[0m in \u001B[0;36madvance\u001B[0;34m(self, *args, **kwargs)\u001B[0m\n\u001B[1;32m    191\u001B[0m \u001B[0;34m\u001B[0m\u001B[0m\n\u001B[1;32m    192\u001B[0m             \u001B[0;32mwith\u001B[0m \u001B[0mself\u001B[0m\u001B[0;34m.\u001B[0m\u001B[0mtrainer\u001B[0m\u001B[0;34m.\u001B[0m\u001B[0mprofiler\u001B[0m\u001B[0;34m.\u001B[0m\u001B[0mprofile\u001B[0m\u001B[0;34m(\u001B[0m\u001B[0;34m\"run_training_batch\"\u001B[0m\u001B[0;34m)\u001B[0m\u001B[0;34m:\u001B[0m\u001B[0;34m\u001B[0m\u001B[0;34m\u001B[0m\u001B[0m\n\u001B[0;32m--> 193\u001B[0;31m                 \u001B[0mbatch_output\u001B[0m \u001B[0;34m=\u001B[0m \u001B[0mself\u001B[0m\u001B[0;34m.\u001B[0m\u001B[0mbatch_loop\u001B[0m\u001B[0;34m.\u001B[0m\u001B[0mrun\u001B[0m\u001B[0;34m(\u001B[0m\u001B[0mbatch\u001B[0m\u001B[0;34m,\u001B[0m \u001B[0mbatch_idx\u001B[0m\u001B[0;34m)\u001B[0m\u001B[0;34m\u001B[0m\u001B[0;34m\u001B[0m\u001B[0m\n\u001B[0m\u001B[1;32m    194\u001B[0m \u001B[0;34m\u001B[0m\u001B[0m\n\u001B[1;32m    195\u001B[0m         \u001B[0mself\u001B[0m\u001B[0;34m.\u001B[0m\u001B[0mbatch_progress\u001B[0m\u001B[0;34m.\u001B[0m\u001B[0mincrement_processed\u001B[0m\u001B[0;34m(\u001B[0m\u001B[0;34m)\u001B[0m\u001B[0;34m\u001B[0m\u001B[0;34m\u001B[0m\u001B[0m\n",
      "\u001B[0;32m~/anaconda3/envs/rs/lib/python3.7/site-packages/pytorch_lightning/loops/base.py\u001B[0m in \u001B[0;36mrun\u001B[0;34m(self, *args, **kwargs)\u001B[0m\n\u001B[1;32m    143\u001B[0m             \u001B[0;32mtry\u001B[0m\u001B[0;34m:\u001B[0m\u001B[0;34m\u001B[0m\u001B[0;34m\u001B[0m\u001B[0m\n\u001B[1;32m    144\u001B[0m                 \u001B[0mself\u001B[0m\u001B[0;34m.\u001B[0m\u001B[0mon_advance_start\u001B[0m\u001B[0;34m(\u001B[0m\u001B[0;34m*\u001B[0m\u001B[0margs\u001B[0m\u001B[0;34m,\u001B[0m \u001B[0;34m**\u001B[0m\u001B[0mkwargs\u001B[0m\u001B[0;34m)\u001B[0m\u001B[0;34m\u001B[0m\u001B[0;34m\u001B[0m\u001B[0m\n\u001B[0;32m--> 145\u001B[0;31m                 \u001B[0mself\u001B[0m\u001B[0;34m.\u001B[0m\u001B[0madvance\u001B[0m\u001B[0;34m(\u001B[0m\u001B[0;34m*\u001B[0m\u001B[0margs\u001B[0m\u001B[0;34m,\u001B[0m \u001B[0;34m**\u001B[0m\u001B[0mkwargs\u001B[0m\u001B[0;34m)\u001B[0m\u001B[0;34m\u001B[0m\u001B[0;34m\u001B[0m\u001B[0m\n\u001B[0m\u001B[1;32m    146\u001B[0m                 \u001B[0mself\u001B[0m\u001B[0;34m.\u001B[0m\u001B[0mon_advance_end\u001B[0m\u001B[0;34m(\u001B[0m\u001B[0;34m)\u001B[0m\u001B[0;34m\u001B[0m\u001B[0;34m\u001B[0m\u001B[0m\n\u001B[1;32m    147\u001B[0m                 \u001B[0mself\u001B[0m\u001B[0;34m.\u001B[0m\u001B[0mrestarting\u001B[0m \u001B[0;34m=\u001B[0m \u001B[0;32mFalse\u001B[0m\u001B[0;34m\u001B[0m\u001B[0;34m\u001B[0m\u001B[0m\n",
      "\u001B[0;32m~/anaconda3/envs/rs/lib/python3.7/site-packages/pytorch_lightning/loops/batch/training_batch_loop.py\u001B[0m in \u001B[0;36madvance\u001B[0;34m(self, batch, batch_idx)\u001B[0m\n\u001B[1;32m     86\u001B[0m         \u001B[0;32mif\u001B[0m \u001B[0mself\u001B[0m\u001B[0;34m.\u001B[0m\u001B[0mtrainer\u001B[0m\u001B[0;34m.\u001B[0m\u001B[0mlightning_module\u001B[0m\u001B[0;34m.\u001B[0m\u001B[0mautomatic_optimization\u001B[0m\u001B[0;34m:\u001B[0m\u001B[0;34m\u001B[0m\u001B[0;34m\u001B[0m\u001B[0m\n\u001B[1;32m     87\u001B[0m             \u001B[0moptimizers\u001B[0m \u001B[0;34m=\u001B[0m \u001B[0m_get_active_optimizers\u001B[0m\u001B[0;34m(\u001B[0m\u001B[0mself\u001B[0m\u001B[0;34m.\u001B[0m\u001B[0mtrainer\u001B[0m\u001B[0;34m.\u001B[0m\u001B[0moptimizers\u001B[0m\u001B[0;34m,\u001B[0m \u001B[0mself\u001B[0m\u001B[0;34m.\u001B[0m\u001B[0mtrainer\u001B[0m\u001B[0;34m.\u001B[0m\u001B[0moptimizer_frequencies\u001B[0m\u001B[0;34m,\u001B[0m \u001B[0mbatch_idx\u001B[0m\u001B[0;34m)\u001B[0m\u001B[0;34m\u001B[0m\u001B[0;34m\u001B[0m\u001B[0m\n\u001B[0;32m---> 88\u001B[0;31m             \u001B[0moutputs\u001B[0m \u001B[0;34m=\u001B[0m \u001B[0mself\u001B[0m\u001B[0;34m.\u001B[0m\u001B[0moptimizer_loop\u001B[0m\u001B[0;34m.\u001B[0m\u001B[0mrun\u001B[0m\u001B[0;34m(\u001B[0m\u001B[0msplit_batch\u001B[0m\u001B[0;34m,\u001B[0m \u001B[0moptimizers\u001B[0m\u001B[0;34m,\u001B[0m \u001B[0mbatch_idx\u001B[0m\u001B[0;34m)\u001B[0m\u001B[0;34m\u001B[0m\u001B[0;34m\u001B[0m\u001B[0m\n\u001B[0m\u001B[1;32m     89\u001B[0m         \u001B[0;32melse\u001B[0m\u001B[0;34m:\u001B[0m\u001B[0;34m\u001B[0m\u001B[0;34m\u001B[0m\u001B[0m\n\u001B[1;32m     90\u001B[0m             \u001B[0moutputs\u001B[0m \u001B[0;34m=\u001B[0m \u001B[0mself\u001B[0m\u001B[0;34m.\u001B[0m\u001B[0mmanual_loop\u001B[0m\u001B[0;34m.\u001B[0m\u001B[0mrun\u001B[0m\u001B[0;34m(\u001B[0m\u001B[0msplit_batch\u001B[0m\u001B[0;34m,\u001B[0m \u001B[0mbatch_idx\u001B[0m\u001B[0;34m)\u001B[0m\u001B[0;34m\u001B[0m\u001B[0;34m\u001B[0m\u001B[0m\n",
      "\u001B[0;32m~/anaconda3/envs/rs/lib/python3.7/site-packages/pytorch_lightning/loops/base.py\u001B[0m in \u001B[0;36mrun\u001B[0;34m(self, *args, **kwargs)\u001B[0m\n\u001B[1;32m    143\u001B[0m             \u001B[0;32mtry\u001B[0m\u001B[0;34m:\u001B[0m\u001B[0;34m\u001B[0m\u001B[0;34m\u001B[0m\u001B[0m\n\u001B[1;32m    144\u001B[0m                 \u001B[0mself\u001B[0m\u001B[0;34m.\u001B[0m\u001B[0mon_advance_start\u001B[0m\u001B[0;34m(\u001B[0m\u001B[0;34m*\u001B[0m\u001B[0margs\u001B[0m\u001B[0;34m,\u001B[0m \u001B[0;34m**\u001B[0m\u001B[0mkwargs\u001B[0m\u001B[0;34m)\u001B[0m\u001B[0;34m\u001B[0m\u001B[0;34m\u001B[0m\u001B[0m\n\u001B[0;32m--> 145\u001B[0;31m                 \u001B[0mself\u001B[0m\u001B[0;34m.\u001B[0m\u001B[0madvance\u001B[0m\u001B[0;34m(\u001B[0m\u001B[0;34m*\u001B[0m\u001B[0margs\u001B[0m\u001B[0;34m,\u001B[0m \u001B[0;34m**\u001B[0m\u001B[0mkwargs\u001B[0m\u001B[0;34m)\u001B[0m\u001B[0;34m\u001B[0m\u001B[0;34m\u001B[0m\u001B[0m\n\u001B[0m\u001B[1;32m    146\u001B[0m                 \u001B[0mself\u001B[0m\u001B[0;34m.\u001B[0m\u001B[0mon_advance_end\u001B[0m\u001B[0;34m(\u001B[0m\u001B[0;34m)\u001B[0m\u001B[0;34m\u001B[0m\u001B[0;34m\u001B[0m\u001B[0m\n\u001B[1;32m    147\u001B[0m                 \u001B[0mself\u001B[0m\u001B[0;34m.\u001B[0m\u001B[0mrestarting\u001B[0m \u001B[0;34m=\u001B[0m \u001B[0;32mFalse\u001B[0m\u001B[0;34m\u001B[0m\u001B[0;34m\u001B[0m\u001B[0m\n",
      "\u001B[0;32m~/anaconda3/envs/rs/lib/python3.7/site-packages/pytorch_lightning/loops/optimization/optimizer_loop.py\u001B[0m in \u001B[0;36madvance\u001B[0;34m(self, batch, *args, **kwargs)\u001B[0m\n\u001B[1;32m    217\u001B[0m             \u001B[0mself\u001B[0m\u001B[0;34m.\u001B[0m\u001B[0m_batch_idx\u001B[0m\u001B[0;34m,\u001B[0m\u001B[0;34m\u001B[0m\u001B[0;34m\u001B[0m\u001B[0m\n\u001B[1;32m    218\u001B[0m             \u001B[0mself\u001B[0m\u001B[0;34m.\u001B[0m\u001B[0m_optimizers\u001B[0m\u001B[0;34m[\u001B[0m\u001B[0mself\u001B[0m\u001B[0;34m.\u001B[0m\u001B[0moptim_progress\u001B[0m\u001B[0;34m.\u001B[0m\u001B[0moptimizer_position\u001B[0m\u001B[0;34m]\u001B[0m\u001B[0;34m,\u001B[0m\u001B[0;34m\u001B[0m\u001B[0;34m\u001B[0m\u001B[0m\n\u001B[0;32m--> 219\u001B[0;31m             \u001B[0mself\u001B[0m\u001B[0;34m.\u001B[0m\u001B[0moptimizer_idx\u001B[0m\u001B[0;34m,\u001B[0m\u001B[0;34m\u001B[0m\u001B[0;34m\u001B[0m\u001B[0m\n\u001B[0m\u001B[1;32m    220\u001B[0m         )\n\u001B[1;32m    221\u001B[0m         \u001B[0;32mif\u001B[0m \u001B[0mresult\u001B[0m\u001B[0;34m.\u001B[0m\u001B[0mloss\u001B[0m \u001B[0;32mis\u001B[0m \u001B[0;32mnot\u001B[0m \u001B[0;32mNone\u001B[0m\u001B[0;34m:\u001B[0m\u001B[0;34m\u001B[0m\u001B[0;34m\u001B[0m\u001B[0m\n",
      "\u001B[0;32m~/anaconda3/envs/rs/lib/python3.7/site-packages/pytorch_lightning/loops/optimization/optimizer_loop.py\u001B[0m in \u001B[0;36m_run_optimization\u001B[0;34m(self, split_batch, batch_idx, optimizer, opt_idx)\u001B[0m\n\u001B[1;32m    264\u001B[0m         \u001B[0;31m# gradient update with accumulated gradients\u001B[0m\u001B[0;34m\u001B[0m\u001B[0;34m\u001B[0m\u001B[0;34m\u001B[0m\u001B[0m\n\u001B[1;32m    265\u001B[0m         \u001B[0;32melse\u001B[0m\u001B[0;34m:\u001B[0m\u001B[0;34m\u001B[0m\u001B[0;34m\u001B[0m\u001B[0m\n\u001B[0;32m--> 266\u001B[0;31m             \u001B[0mself\u001B[0m\u001B[0;34m.\u001B[0m\u001B[0m_optimizer_step\u001B[0m\u001B[0;34m(\u001B[0m\u001B[0moptimizer\u001B[0m\u001B[0;34m,\u001B[0m \u001B[0mopt_idx\u001B[0m\u001B[0;34m,\u001B[0m \u001B[0mbatch_idx\u001B[0m\u001B[0;34m,\u001B[0m \u001B[0mclosure\u001B[0m\u001B[0;34m)\u001B[0m\u001B[0;34m\u001B[0m\u001B[0;34m\u001B[0m\u001B[0m\n\u001B[0m\u001B[1;32m    267\u001B[0m \u001B[0;34m\u001B[0m\u001B[0m\n\u001B[1;32m    268\u001B[0m         \u001B[0mresult\u001B[0m \u001B[0;34m=\u001B[0m \u001B[0mclosure\u001B[0m\u001B[0;34m.\u001B[0m\u001B[0mconsume_result\u001B[0m\u001B[0;34m(\u001B[0m\u001B[0;34m)\u001B[0m\u001B[0;34m\u001B[0m\u001B[0;34m\u001B[0m\u001B[0m\n",
      "\u001B[0;32m~/anaconda3/envs/rs/lib/python3.7/site-packages/pytorch_lightning/loops/optimization/optimizer_loop.py\u001B[0m in \u001B[0;36m_optimizer_step\u001B[0;34m(self, optimizer, opt_idx, batch_idx, train_step_and_backward_closure)\u001B[0m\n\u001B[1;32m    384\u001B[0m             \u001B[0mon_tpu\u001B[0m\u001B[0;34m=\u001B[0m\u001B[0;34m(\u001B[0m\u001B[0mself\u001B[0m\u001B[0;34m.\u001B[0m\u001B[0mtrainer\u001B[0m\u001B[0;34m.\u001B[0m\u001B[0m_device_type\u001B[0m \u001B[0;34m==\u001B[0m \u001B[0mDeviceType\u001B[0m\u001B[0;34m.\u001B[0m\u001B[0mTPU\u001B[0m \u001B[0;32mand\u001B[0m \u001B[0m_TPU_AVAILABLE\u001B[0m\u001B[0;34m)\u001B[0m\u001B[0;34m,\u001B[0m\u001B[0;34m\u001B[0m\u001B[0;34m\u001B[0m\u001B[0m\n\u001B[1;32m    385\u001B[0m             \u001B[0musing_native_amp\u001B[0m\u001B[0;34m=\u001B[0m\u001B[0;34m(\u001B[0m\u001B[0mself\u001B[0m\u001B[0;34m.\u001B[0m\u001B[0mtrainer\u001B[0m\u001B[0;34m.\u001B[0m\u001B[0mamp_backend\u001B[0m \u001B[0;32mis\u001B[0m \u001B[0;32mnot\u001B[0m \u001B[0;32mNone\u001B[0m \u001B[0;32mand\u001B[0m \u001B[0mself\u001B[0m\u001B[0;34m.\u001B[0m\u001B[0mtrainer\u001B[0m\u001B[0;34m.\u001B[0m\u001B[0mamp_backend\u001B[0m \u001B[0;34m==\u001B[0m \u001B[0mAMPType\u001B[0m\u001B[0;34m.\u001B[0m\u001B[0mNATIVE\u001B[0m\u001B[0;34m)\u001B[0m\u001B[0;34m,\u001B[0m\u001B[0;34m\u001B[0m\u001B[0;34m\u001B[0m\u001B[0m\n\u001B[0;32m--> 386\u001B[0;31m             \u001B[0musing_lbfgs\u001B[0m\u001B[0;34m=\u001B[0m\u001B[0mis_lbfgs\u001B[0m\u001B[0;34m,\u001B[0m\u001B[0;34m\u001B[0m\u001B[0;34m\u001B[0m\u001B[0m\n\u001B[0m\u001B[1;32m    387\u001B[0m         )\n\u001B[1;32m    388\u001B[0m \u001B[0;34m\u001B[0m\u001B[0m\n",
      "\u001B[0;32m~/anaconda3/envs/rs/lib/python3.7/site-packages/pytorch_lightning/core/lightning.py\u001B[0m in \u001B[0;36moptimizer_step\u001B[0;34m(self, epoch, batch_idx, optimizer, optimizer_idx, optimizer_closure, on_tpu, using_native_amp, using_lbfgs)\u001B[0m\n\u001B[1;32m   1650\u001B[0m \u001B[0;34m\u001B[0m\u001B[0m\n\u001B[1;32m   1651\u001B[0m         \"\"\"\n\u001B[0;32m-> 1652\u001B[0;31m         \u001B[0moptimizer\u001B[0m\u001B[0;34m.\u001B[0m\u001B[0mstep\u001B[0m\u001B[0;34m(\u001B[0m\u001B[0mclosure\u001B[0m\u001B[0;34m=\u001B[0m\u001B[0moptimizer_closure\u001B[0m\u001B[0;34m)\u001B[0m\u001B[0;34m\u001B[0m\u001B[0;34m\u001B[0m\u001B[0m\n\u001B[0m\u001B[1;32m   1653\u001B[0m \u001B[0;34m\u001B[0m\u001B[0m\n\u001B[1;32m   1654\u001B[0m     \u001B[0;32mdef\u001B[0m \u001B[0moptimizer_zero_grad\u001B[0m\u001B[0;34m(\u001B[0m\u001B[0mself\u001B[0m\u001B[0;34m,\u001B[0m \u001B[0mepoch\u001B[0m\u001B[0;34m:\u001B[0m \u001B[0mint\u001B[0m\u001B[0;34m,\u001B[0m \u001B[0mbatch_idx\u001B[0m\u001B[0;34m:\u001B[0m \u001B[0mint\u001B[0m\u001B[0;34m,\u001B[0m \u001B[0moptimizer\u001B[0m\u001B[0;34m:\u001B[0m \u001B[0mOptimizer\u001B[0m\u001B[0;34m,\u001B[0m \u001B[0moptimizer_idx\u001B[0m\u001B[0;34m:\u001B[0m \u001B[0mint\u001B[0m\u001B[0;34m)\u001B[0m\u001B[0;34m:\u001B[0m\u001B[0;34m\u001B[0m\u001B[0;34m\u001B[0m\u001B[0m\n",
      "\u001B[0;32m~/anaconda3/envs/rs/lib/python3.7/site-packages/pytorch_lightning/core/optimizer.py\u001B[0m in \u001B[0;36mstep\u001B[0;34m(self, closure, **kwargs)\u001B[0m\n\u001B[1;32m    162\u001B[0m         \u001B[0;32massert\u001B[0m \u001B[0mtrainer\u001B[0m \u001B[0;32mis\u001B[0m \u001B[0;32mnot\u001B[0m \u001B[0;32mNone\u001B[0m\u001B[0;34m\u001B[0m\u001B[0;34m\u001B[0m\u001B[0m\n\u001B[1;32m    163\u001B[0m         \u001B[0;32mwith\u001B[0m \u001B[0mtrainer\u001B[0m\u001B[0;34m.\u001B[0m\u001B[0mprofiler\u001B[0m\u001B[0;34m.\u001B[0m\u001B[0mprofile\u001B[0m\u001B[0;34m(\u001B[0m\u001B[0mprofiler_action\u001B[0m\u001B[0;34m)\u001B[0m\u001B[0;34m:\u001B[0m\u001B[0;34m\u001B[0m\u001B[0;34m\u001B[0m\u001B[0m\n\u001B[0;32m--> 164\u001B[0;31m             \u001B[0mtrainer\u001B[0m\u001B[0;34m.\u001B[0m\u001B[0maccelerator\u001B[0m\u001B[0;34m.\u001B[0m\u001B[0moptimizer_step\u001B[0m\u001B[0;34m(\u001B[0m\u001B[0mself\u001B[0m\u001B[0;34m.\u001B[0m\u001B[0m_optimizer\u001B[0m\u001B[0;34m,\u001B[0m \u001B[0mself\u001B[0m\u001B[0;34m.\u001B[0m\u001B[0m_optimizer_idx\u001B[0m\u001B[0;34m,\u001B[0m \u001B[0mclosure\u001B[0m\u001B[0;34m,\u001B[0m \u001B[0;34m**\u001B[0m\u001B[0mkwargs\u001B[0m\u001B[0;34m)\u001B[0m\u001B[0;34m\u001B[0m\u001B[0;34m\u001B[0m\u001B[0m\n\u001B[0m",
      "\u001B[0;32m~/anaconda3/envs/rs/lib/python3.7/site-packages/pytorch_lightning/accelerators/accelerator.py\u001B[0m in \u001B[0;36moptimizer_step\u001B[0;34m(self, optimizer, opt_idx, closure, model, **kwargs)\u001B[0m\n\u001B[1;32m    334\u001B[0m         \"\"\"\n\u001B[1;32m    335\u001B[0m         \u001B[0mmodel\u001B[0m \u001B[0;34m=\u001B[0m \u001B[0mmodel\u001B[0m \u001B[0;32mor\u001B[0m \u001B[0mself\u001B[0m\u001B[0;34m.\u001B[0m\u001B[0mlightning_module\u001B[0m\u001B[0;34m\u001B[0m\u001B[0;34m\u001B[0m\u001B[0m\n\u001B[0;32m--> 336\u001B[0;31m         \u001B[0mself\u001B[0m\u001B[0;34m.\u001B[0m\u001B[0mprecision_plugin\u001B[0m\u001B[0;34m.\u001B[0m\u001B[0moptimizer_step\u001B[0m\u001B[0;34m(\u001B[0m\u001B[0mmodel\u001B[0m\u001B[0;34m,\u001B[0m \u001B[0moptimizer\u001B[0m\u001B[0;34m,\u001B[0m \u001B[0mopt_idx\u001B[0m\u001B[0;34m,\u001B[0m \u001B[0mclosure\u001B[0m\u001B[0;34m,\u001B[0m \u001B[0;34m**\u001B[0m\u001B[0mkwargs\u001B[0m\u001B[0;34m)\u001B[0m\u001B[0;34m\u001B[0m\u001B[0;34m\u001B[0m\u001B[0m\n\u001B[0m\u001B[1;32m    337\u001B[0m \u001B[0;34m\u001B[0m\u001B[0m\n\u001B[1;32m    338\u001B[0m     \u001B[0;32mdef\u001B[0m \u001B[0moptimizer_zero_grad\u001B[0m\u001B[0;34m(\u001B[0m\u001B[0mself\u001B[0m\u001B[0;34m,\u001B[0m \u001B[0mcurrent_epoch\u001B[0m\u001B[0;34m:\u001B[0m \u001B[0mint\u001B[0m\u001B[0;34m,\u001B[0m \u001B[0mbatch_idx\u001B[0m\u001B[0;34m:\u001B[0m \u001B[0mint\u001B[0m\u001B[0;34m,\u001B[0m \u001B[0moptimizer\u001B[0m\u001B[0;34m:\u001B[0m \u001B[0mOptimizer\u001B[0m\u001B[0;34m,\u001B[0m \u001B[0mopt_idx\u001B[0m\u001B[0;34m:\u001B[0m \u001B[0mint\u001B[0m\u001B[0;34m)\u001B[0m \u001B[0;34m->\u001B[0m \u001B[0;32mNone\u001B[0m\u001B[0;34m:\u001B[0m\u001B[0;34m\u001B[0m\u001B[0;34m\u001B[0m\u001B[0m\n",
      "\u001B[0;32m~/anaconda3/envs/rs/lib/python3.7/site-packages/pytorch_lightning/plugins/precision/precision_plugin.py\u001B[0m in \u001B[0;36moptimizer_step\u001B[0;34m(self, model, optimizer, optimizer_idx, closure, **kwargs)\u001B[0m\n\u001B[1;32m    161\u001B[0m         \u001B[0;32mif\u001B[0m \u001B[0misinstance\u001B[0m\u001B[0;34m(\u001B[0m\u001B[0mmodel\u001B[0m\u001B[0;34m,\u001B[0m \u001B[0mpl\u001B[0m\u001B[0;34m.\u001B[0m\u001B[0mLightningModule\u001B[0m\u001B[0;34m)\u001B[0m\u001B[0;34m:\u001B[0m\u001B[0;34m\u001B[0m\u001B[0;34m\u001B[0m\u001B[0m\n\u001B[1;32m    162\u001B[0m             \u001B[0mclosure\u001B[0m \u001B[0;34m=\u001B[0m \u001B[0mpartial\u001B[0m\u001B[0;34m(\u001B[0m\u001B[0mself\u001B[0m\u001B[0;34m.\u001B[0m\u001B[0m_wrap_closure\u001B[0m\u001B[0;34m,\u001B[0m \u001B[0mmodel\u001B[0m\u001B[0;34m,\u001B[0m \u001B[0moptimizer\u001B[0m\u001B[0;34m,\u001B[0m \u001B[0moptimizer_idx\u001B[0m\u001B[0;34m,\u001B[0m \u001B[0mclosure\u001B[0m\u001B[0;34m)\u001B[0m\u001B[0;34m\u001B[0m\u001B[0;34m\u001B[0m\u001B[0m\n\u001B[0;32m--> 163\u001B[0;31m         \u001B[0moptimizer\u001B[0m\u001B[0;34m.\u001B[0m\u001B[0mstep\u001B[0m\u001B[0;34m(\u001B[0m\u001B[0mclosure\u001B[0m\u001B[0;34m=\u001B[0m\u001B[0mclosure\u001B[0m\u001B[0;34m,\u001B[0m \u001B[0;34m**\u001B[0m\u001B[0mkwargs\u001B[0m\u001B[0;34m)\u001B[0m\u001B[0;34m\u001B[0m\u001B[0;34m\u001B[0m\u001B[0m\n\u001B[0m\u001B[1;32m    164\u001B[0m \u001B[0;34m\u001B[0m\u001B[0m\n\u001B[1;32m    165\u001B[0m     \u001B[0;32mdef\u001B[0m \u001B[0m_track_grad_norm\u001B[0m\u001B[0;34m(\u001B[0m\u001B[0mself\u001B[0m\u001B[0;34m,\u001B[0m \u001B[0mtrainer\u001B[0m\u001B[0;34m:\u001B[0m \u001B[0;34m\"pl.Trainer\"\u001B[0m\u001B[0;34m)\u001B[0m \u001B[0;34m->\u001B[0m \u001B[0;32mNone\u001B[0m\u001B[0;34m:\u001B[0m\u001B[0;34m\u001B[0m\u001B[0;34m\u001B[0m\u001B[0m\n",
      "\u001B[0;32m~/anaconda3/envs/rs/lib/python3.7/site-packages/torch/optim/optimizer.py\u001B[0m in \u001B[0;36mwrapper\u001B[0;34m(*args, **kwargs)\u001B[0m\n\u001B[1;32m     86\u001B[0m                 \u001B[0mprofile_name\u001B[0m \u001B[0;34m=\u001B[0m \u001B[0;34m\"Optimizer.step#{}.step\"\u001B[0m\u001B[0;34m.\u001B[0m\u001B[0mformat\u001B[0m\u001B[0;34m(\u001B[0m\u001B[0mobj\u001B[0m\u001B[0;34m.\u001B[0m\u001B[0m__class__\u001B[0m\u001B[0;34m.\u001B[0m\u001B[0m__name__\u001B[0m\u001B[0;34m)\u001B[0m\u001B[0;34m\u001B[0m\u001B[0;34m\u001B[0m\u001B[0m\n\u001B[1;32m     87\u001B[0m                 \u001B[0;32mwith\u001B[0m \u001B[0mtorch\u001B[0m\u001B[0;34m.\u001B[0m\u001B[0mautograd\u001B[0m\u001B[0;34m.\u001B[0m\u001B[0mprofiler\u001B[0m\u001B[0;34m.\u001B[0m\u001B[0mrecord_function\u001B[0m\u001B[0;34m(\u001B[0m\u001B[0mprofile_name\u001B[0m\u001B[0;34m)\u001B[0m\u001B[0;34m:\u001B[0m\u001B[0;34m\u001B[0m\u001B[0;34m\u001B[0m\u001B[0m\n\u001B[0;32m---> 88\u001B[0;31m                     \u001B[0;32mreturn\u001B[0m \u001B[0mfunc\u001B[0m\u001B[0;34m(\u001B[0m\u001B[0;34m*\u001B[0m\u001B[0margs\u001B[0m\u001B[0;34m,\u001B[0m \u001B[0;34m**\u001B[0m\u001B[0mkwargs\u001B[0m\u001B[0;34m)\u001B[0m\u001B[0;34m\u001B[0m\u001B[0;34m\u001B[0m\u001B[0m\n\u001B[0m\u001B[1;32m     89\u001B[0m             \u001B[0;32mreturn\u001B[0m \u001B[0mwrapper\u001B[0m\u001B[0;34m\u001B[0m\u001B[0;34m\u001B[0m\u001B[0m\n\u001B[1;32m     90\u001B[0m \u001B[0;34m\u001B[0m\u001B[0m\n",
      "\u001B[0;32m~/anaconda3/envs/rs/lib/python3.7/site-packages/torch/autograd/grad_mode.py\u001B[0m in \u001B[0;36mdecorate_context\u001B[0;34m(*args, **kwargs)\u001B[0m\n\u001B[1;32m     26\u001B[0m         \u001B[0;32mdef\u001B[0m \u001B[0mdecorate_context\u001B[0m\u001B[0;34m(\u001B[0m\u001B[0;34m*\u001B[0m\u001B[0margs\u001B[0m\u001B[0;34m,\u001B[0m \u001B[0;34m**\u001B[0m\u001B[0mkwargs\u001B[0m\u001B[0;34m)\u001B[0m\u001B[0;34m:\u001B[0m\u001B[0;34m\u001B[0m\u001B[0;34m\u001B[0m\u001B[0m\n\u001B[1;32m     27\u001B[0m             \u001B[0;32mwith\u001B[0m \u001B[0mself\u001B[0m\u001B[0;34m.\u001B[0m\u001B[0m__class__\u001B[0m\u001B[0;34m(\u001B[0m\u001B[0;34m)\u001B[0m\u001B[0;34m:\u001B[0m\u001B[0;34m\u001B[0m\u001B[0;34m\u001B[0m\u001B[0m\n\u001B[0;32m---> 28\u001B[0;31m                 \u001B[0;32mreturn\u001B[0m \u001B[0mfunc\u001B[0m\u001B[0;34m(\u001B[0m\u001B[0;34m*\u001B[0m\u001B[0margs\u001B[0m\u001B[0;34m,\u001B[0m \u001B[0;34m**\u001B[0m\u001B[0mkwargs\u001B[0m\u001B[0;34m)\u001B[0m\u001B[0;34m\u001B[0m\u001B[0;34m\u001B[0m\u001B[0m\n\u001B[0m\u001B[1;32m     29\u001B[0m         \u001B[0;32mreturn\u001B[0m \u001B[0mcast\u001B[0m\u001B[0;34m(\u001B[0m\u001B[0mF\u001B[0m\u001B[0;34m,\u001B[0m \u001B[0mdecorate_context\u001B[0m\u001B[0;34m)\u001B[0m\u001B[0;34m\u001B[0m\u001B[0;34m\u001B[0m\u001B[0m\n\u001B[1;32m     30\u001B[0m \u001B[0;34m\u001B[0m\u001B[0m\n",
      "\u001B[0;32m~/anaconda3/envs/rs/lib/python3.7/site-packages/torch/optim/adam.py\u001B[0m in \u001B[0;36mstep\u001B[0;34m(self, closure)\u001B[0m\n\u001B[1;32m     90\u001B[0m         \u001B[0;32mif\u001B[0m \u001B[0mclosure\u001B[0m \u001B[0;32mis\u001B[0m \u001B[0;32mnot\u001B[0m \u001B[0;32mNone\u001B[0m\u001B[0;34m:\u001B[0m\u001B[0;34m\u001B[0m\u001B[0;34m\u001B[0m\u001B[0m\n\u001B[1;32m     91\u001B[0m             \u001B[0;32mwith\u001B[0m \u001B[0mtorch\u001B[0m\u001B[0;34m.\u001B[0m\u001B[0menable_grad\u001B[0m\u001B[0;34m(\u001B[0m\u001B[0;34m)\u001B[0m\u001B[0;34m:\u001B[0m\u001B[0;34m\u001B[0m\u001B[0;34m\u001B[0m\u001B[0m\n\u001B[0;32m---> 92\u001B[0;31m                 \u001B[0mloss\u001B[0m \u001B[0;34m=\u001B[0m \u001B[0mclosure\u001B[0m\u001B[0;34m(\u001B[0m\u001B[0;34m)\u001B[0m\u001B[0;34m\u001B[0m\u001B[0;34m\u001B[0m\u001B[0m\n\u001B[0m\u001B[1;32m     93\u001B[0m \u001B[0;34m\u001B[0m\u001B[0m\n\u001B[1;32m     94\u001B[0m         \u001B[0;32mfor\u001B[0m \u001B[0mgroup\u001B[0m \u001B[0;32min\u001B[0m \u001B[0mself\u001B[0m\u001B[0;34m.\u001B[0m\u001B[0mparam_groups\u001B[0m\u001B[0;34m:\u001B[0m\u001B[0;34m\u001B[0m\u001B[0;34m\u001B[0m\u001B[0m\n",
      "\u001B[0;32m~/anaconda3/envs/rs/lib/python3.7/site-packages/pytorch_lightning/plugins/precision/precision_plugin.py\u001B[0m in \u001B[0;36m_wrap_closure\u001B[0;34m(self, model, optimizer, optimizer_idx, closure)\u001B[0m\n\u001B[1;32m    146\u001B[0m         \u001B[0mconsistent\u001B[0m \u001B[0;32mwith\u001B[0m \u001B[0mthe\u001B[0m\u001B[0;31m \u001B[0m\u001B[0;31m`\u001B[0m\u001B[0;31m`\u001B[0m\u001B[0mPrecisionPlugin\u001B[0m\u001B[0;31m`\u001B[0m\u001B[0;31m`\u001B[0m \u001B[0msubclasses\u001B[0m \u001B[0mthat\u001B[0m \u001B[0mcannot\u001B[0m \u001B[0;32mpass\u001B[0m\u001B[0;31m \u001B[0m\u001B[0;31m`\u001B[0m\u001B[0;31m`\u001B[0m\u001B[0moptimizer\u001B[0m\u001B[0;34m.\u001B[0m\u001B[0mstep\u001B[0m\u001B[0;34m(\u001B[0m\u001B[0mclosure\u001B[0m\u001B[0;34m)\u001B[0m\u001B[0;31m`\u001B[0m\u001B[0;31m`\u001B[0m \u001B[0mdirectly\u001B[0m\u001B[0;34m.\u001B[0m\u001B[0;34m\u001B[0m\u001B[0;34m\u001B[0m\u001B[0m\n\u001B[1;32m    147\u001B[0m         \"\"\"\n\u001B[0;32m--> 148\u001B[0;31m         \u001B[0mclosure_result\u001B[0m \u001B[0;34m=\u001B[0m \u001B[0mclosure\u001B[0m\u001B[0;34m(\u001B[0m\u001B[0;34m)\u001B[0m\u001B[0;34m\u001B[0m\u001B[0;34m\u001B[0m\u001B[0m\n\u001B[0m\u001B[1;32m    149\u001B[0m         \u001B[0mself\u001B[0m\u001B[0;34m.\u001B[0m\u001B[0m_after_closure\u001B[0m\u001B[0;34m(\u001B[0m\u001B[0mmodel\u001B[0m\u001B[0;34m,\u001B[0m \u001B[0moptimizer\u001B[0m\u001B[0;34m,\u001B[0m \u001B[0moptimizer_idx\u001B[0m\u001B[0;34m)\u001B[0m\u001B[0;34m\u001B[0m\u001B[0;34m\u001B[0m\u001B[0m\n\u001B[1;32m    150\u001B[0m         \u001B[0;32mreturn\u001B[0m \u001B[0mclosure_result\u001B[0m\u001B[0;34m\u001B[0m\u001B[0;34m\u001B[0m\u001B[0m\n",
      "\u001B[0;32m~/anaconda3/envs/rs/lib/python3.7/site-packages/pytorch_lightning/loops/optimization/optimizer_loop.py\u001B[0m in \u001B[0;36m__call__\u001B[0;34m(self, *args, **kwargs)\u001B[0m\n\u001B[1;32m    158\u001B[0m \u001B[0;34m\u001B[0m\u001B[0m\n\u001B[1;32m    159\u001B[0m     \u001B[0;32mdef\u001B[0m \u001B[0m__call__\u001B[0m\u001B[0;34m(\u001B[0m\u001B[0mself\u001B[0m\u001B[0;34m,\u001B[0m \u001B[0;34m*\u001B[0m\u001B[0margs\u001B[0m\u001B[0;34m:\u001B[0m \u001B[0mAny\u001B[0m\u001B[0;34m,\u001B[0m \u001B[0;34m**\u001B[0m\u001B[0mkwargs\u001B[0m\u001B[0;34m:\u001B[0m \u001B[0mAny\u001B[0m\u001B[0;34m)\u001B[0m \u001B[0;34m->\u001B[0m \u001B[0mOptional\u001B[0m\u001B[0;34m[\u001B[0m\u001B[0mTensor\u001B[0m\u001B[0;34m]\u001B[0m\u001B[0;34m:\u001B[0m\u001B[0;34m\u001B[0m\u001B[0;34m\u001B[0m\u001B[0m\n\u001B[0;32m--> 160\u001B[0;31m         \u001B[0mself\u001B[0m\u001B[0;34m.\u001B[0m\u001B[0m_result\u001B[0m \u001B[0;34m=\u001B[0m \u001B[0mself\u001B[0m\u001B[0;34m.\u001B[0m\u001B[0mclosure\u001B[0m\u001B[0;34m(\u001B[0m\u001B[0;34m*\u001B[0m\u001B[0margs\u001B[0m\u001B[0;34m,\u001B[0m \u001B[0;34m**\u001B[0m\u001B[0mkwargs\u001B[0m\u001B[0;34m)\u001B[0m\u001B[0;34m\u001B[0m\u001B[0;34m\u001B[0m\u001B[0m\n\u001B[0m\u001B[1;32m    161\u001B[0m         \u001B[0;32mreturn\u001B[0m \u001B[0mself\u001B[0m\u001B[0;34m.\u001B[0m\u001B[0m_result\u001B[0m\u001B[0;34m.\u001B[0m\u001B[0mloss\u001B[0m\u001B[0;34m\u001B[0m\u001B[0;34m\u001B[0m\u001B[0m\n\u001B[1;32m    162\u001B[0m \u001B[0;34m\u001B[0m\u001B[0m\n",
      "\u001B[0;32m~/anaconda3/envs/rs/lib/python3.7/site-packages/pytorch_lightning/loops/optimization/optimizer_loop.py\u001B[0m in \u001B[0;36mclosure\u001B[0;34m(self, *args, **kwargs)\u001B[0m\n\u001B[1;32m    153\u001B[0m             \u001B[0;32mif\u001B[0m \u001B[0mself\u001B[0m\u001B[0;34m.\u001B[0m\u001B[0m_backward_fn\u001B[0m \u001B[0;32mis\u001B[0m \u001B[0;32mnot\u001B[0m \u001B[0;32mNone\u001B[0m \u001B[0;32mand\u001B[0m \u001B[0mstep_output\u001B[0m\u001B[0;34m.\u001B[0m\u001B[0mclosure_loss\u001B[0m \u001B[0;32mis\u001B[0m \u001B[0;32mnot\u001B[0m \u001B[0;32mNone\u001B[0m\u001B[0;34m:\u001B[0m\u001B[0;34m\u001B[0m\u001B[0;34m\u001B[0m\u001B[0m\n\u001B[1;32m    154\u001B[0m                 \u001B[0;32mwith\u001B[0m \u001B[0mself\u001B[0m\u001B[0;34m.\u001B[0m\u001B[0m_profiler\u001B[0m\u001B[0;34m.\u001B[0m\u001B[0mprofile\u001B[0m\u001B[0;34m(\u001B[0m\u001B[0;34m\"backward\"\u001B[0m\u001B[0;34m)\u001B[0m\u001B[0;34m:\u001B[0m\u001B[0;34m\u001B[0m\u001B[0;34m\u001B[0m\u001B[0m\n\u001B[0;32m--> 155\u001B[0;31m                     \u001B[0mself\u001B[0m\u001B[0;34m.\u001B[0m\u001B[0m_backward_fn\u001B[0m\u001B[0;34m(\u001B[0m\u001B[0mstep_output\u001B[0m\u001B[0;34m.\u001B[0m\u001B[0mclosure_loss\u001B[0m\u001B[0;34m)\u001B[0m\u001B[0;34m\u001B[0m\u001B[0;34m\u001B[0m\u001B[0m\n\u001B[0m\u001B[1;32m    156\u001B[0m \u001B[0;34m\u001B[0m\u001B[0m\n\u001B[1;32m    157\u001B[0m         \u001B[0;32mreturn\u001B[0m \u001B[0mstep_output\u001B[0m\u001B[0;34m\u001B[0m\u001B[0;34m\u001B[0m\u001B[0m\n",
      "\u001B[0;32m~/anaconda3/envs/rs/lib/python3.7/site-packages/pytorch_lightning/loops/optimization/optimizer_loop.py\u001B[0m in \u001B[0;36mbackward_fn\u001B[0;34m(loss)\u001B[0m\n\u001B[1;32m    325\u001B[0m \u001B[0;34m\u001B[0m\u001B[0m\n\u001B[1;32m    326\u001B[0m         \u001B[0;32mdef\u001B[0m \u001B[0mbackward_fn\u001B[0m\u001B[0;34m(\u001B[0m\u001B[0mloss\u001B[0m\u001B[0;34m:\u001B[0m \u001B[0mTensor\u001B[0m\u001B[0;34m)\u001B[0m \u001B[0;34m->\u001B[0m \u001B[0;32mNone\u001B[0m\u001B[0;34m:\u001B[0m\u001B[0;34m\u001B[0m\u001B[0;34m\u001B[0m\u001B[0m\n\u001B[0;32m--> 327\u001B[0;31m             \u001B[0mself\u001B[0m\u001B[0;34m.\u001B[0m\u001B[0mtrainer\u001B[0m\u001B[0;34m.\u001B[0m\u001B[0maccelerator\u001B[0m\u001B[0;34m.\u001B[0m\u001B[0mbackward\u001B[0m\u001B[0;34m(\u001B[0m\u001B[0mloss\u001B[0m\u001B[0;34m,\u001B[0m \u001B[0moptimizer\u001B[0m\u001B[0;34m,\u001B[0m \u001B[0mopt_idx\u001B[0m\u001B[0;34m)\u001B[0m\u001B[0;34m\u001B[0m\u001B[0;34m\u001B[0m\u001B[0m\n\u001B[0m\u001B[1;32m    328\u001B[0m \u001B[0;34m\u001B[0m\u001B[0m\n\u001B[1;32m    329\u001B[0m             \u001B[0;31m# check if model weights are nan\u001B[0m\u001B[0;34m\u001B[0m\u001B[0;34m\u001B[0m\u001B[0;34m\u001B[0m\u001B[0m\n",
      "\u001B[0;32m~/anaconda3/envs/rs/lib/python3.7/site-packages/pytorch_lightning/accelerators/accelerator.py\u001B[0m in \u001B[0;36mbackward\u001B[0;34m(self, closure_loss, *args, **kwargs)\u001B[0m\n\u001B[1;32m    309\u001B[0m         \u001B[0mclosure_loss\u001B[0m \u001B[0;34m=\u001B[0m \u001B[0mself\u001B[0m\u001B[0;34m.\u001B[0m\u001B[0mprecision_plugin\u001B[0m\u001B[0;34m.\u001B[0m\u001B[0mpre_backward\u001B[0m\u001B[0;34m(\u001B[0m\u001B[0mself\u001B[0m\u001B[0;34m.\u001B[0m\u001B[0mlightning_module\u001B[0m\u001B[0;34m,\u001B[0m \u001B[0mclosure_loss\u001B[0m\u001B[0;34m)\u001B[0m\u001B[0;34m\u001B[0m\u001B[0;34m\u001B[0m\u001B[0m\n\u001B[1;32m    310\u001B[0m \u001B[0;34m\u001B[0m\u001B[0m\n\u001B[0;32m--> 311\u001B[0;31m         \u001B[0mself\u001B[0m\u001B[0;34m.\u001B[0m\u001B[0mprecision_plugin\u001B[0m\u001B[0;34m.\u001B[0m\u001B[0mbackward\u001B[0m\u001B[0;34m(\u001B[0m\u001B[0mself\u001B[0m\u001B[0;34m.\u001B[0m\u001B[0mlightning_module\u001B[0m\u001B[0;34m,\u001B[0m \u001B[0mclosure_loss\u001B[0m\u001B[0;34m,\u001B[0m \u001B[0;34m*\u001B[0m\u001B[0margs\u001B[0m\u001B[0;34m,\u001B[0m \u001B[0;34m**\u001B[0m\u001B[0mkwargs\u001B[0m\u001B[0;34m)\u001B[0m\u001B[0;34m\u001B[0m\u001B[0;34m\u001B[0m\u001B[0m\n\u001B[0m\u001B[1;32m    312\u001B[0m \u001B[0;34m\u001B[0m\u001B[0m\n\u001B[1;32m    313\u001B[0m         \u001B[0mclosure_loss\u001B[0m \u001B[0;34m=\u001B[0m \u001B[0mself\u001B[0m\u001B[0;34m.\u001B[0m\u001B[0mprecision_plugin\u001B[0m\u001B[0;34m.\u001B[0m\u001B[0mpost_backward\u001B[0m\u001B[0;34m(\u001B[0m\u001B[0mself\u001B[0m\u001B[0;34m.\u001B[0m\u001B[0mlightning_module\u001B[0m\u001B[0;34m,\u001B[0m \u001B[0mclosure_loss\u001B[0m\u001B[0;34m)\u001B[0m\u001B[0;34m\u001B[0m\u001B[0;34m\u001B[0m\u001B[0m\n",
      "\u001B[0;32m~/anaconda3/envs/rs/lib/python3.7/site-packages/pytorch_lightning/plugins/precision/precision_plugin.py\u001B[0m in \u001B[0;36mbackward\u001B[0;34m(self, model, closure_loss, optimizer, *args, **kwargs)\u001B[0m\n\u001B[1;32m     89\u001B[0m         \u001B[0;31m# do backward pass\u001B[0m\u001B[0;34m\u001B[0m\u001B[0;34m\u001B[0m\u001B[0;34m\u001B[0m\u001B[0m\n\u001B[1;32m     90\u001B[0m         \u001B[0;32mif\u001B[0m \u001B[0mmodel\u001B[0m \u001B[0;32mis\u001B[0m \u001B[0;32mnot\u001B[0m \u001B[0;32mNone\u001B[0m \u001B[0;32mand\u001B[0m \u001B[0misinstance\u001B[0m\u001B[0;34m(\u001B[0m\u001B[0mmodel\u001B[0m\u001B[0;34m,\u001B[0m \u001B[0mpl\u001B[0m\u001B[0;34m.\u001B[0m\u001B[0mLightningModule\u001B[0m\u001B[0;34m)\u001B[0m\u001B[0;34m:\u001B[0m\u001B[0;34m\u001B[0m\u001B[0;34m\u001B[0m\u001B[0m\n\u001B[0;32m---> 91\u001B[0;31m             \u001B[0mmodel\u001B[0m\u001B[0;34m.\u001B[0m\u001B[0mbackward\u001B[0m\u001B[0;34m(\u001B[0m\u001B[0mclosure_loss\u001B[0m\u001B[0;34m,\u001B[0m \u001B[0moptimizer\u001B[0m\u001B[0;34m,\u001B[0m \u001B[0;34m*\u001B[0m\u001B[0margs\u001B[0m\u001B[0;34m,\u001B[0m \u001B[0;34m**\u001B[0m\u001B[0mkwargs\u001B[0m\u001B[0;34m)\u001B[0m\u001B[0;34m\u001B[0m\u001B[0;34m\u001B[0m\u001B[0m\n\u001B[0m\u001B[1;32m     92\u001B[0m         \u001B[0;32melse\u001B[0m\u001B[0;34m:\u001B[0m\u001B[0;34m\u001B[0m\u001B[0;34m\u001B[0m\u001B[0m\n\u001B[1;32m     93\u001B[0m             \u001B[0mself\u001B[0m\u001B[0;34m.\u001B[0m\u001B[0m_run_backward\u001B[0m\u001B[0;34m(\u001B[0m\u001B[0mclosure_loss\u001B[0m\u001B[0;34m,\u001B[0m \u001B[0;34m*\u001B[0m\u001B[0margs\u001B[0m\u001B[0;34m,\u001B[0m \u001B[0;34m**\u001B[0m\u001B[0mkwargs\u001B[0m\u001B[0;34m)\u001B[0m\u001B[0;34m\u001B[0m\u001B[0;34m\u001B[0m\u001B[0m\n",
      "\u001B[0;32m~/anaconda3/envs/rs/lib/python3.7/site-packages/pytorch_lightning/core/lightning.py\u001B[0m in \u001B[0;36mbackward\u001B[0;34m(self, loss, optimizer, optimizer_idx, *args, **kwargs)\u001B[0m\n\u001B[1;32m   1432\u001B[0m                 \u001B[0mloss\u001B[0m\u001B[0;34m.\u001B[0m\u001B[0mbackward\u001B[0m\u001B[0;34m(\u001B[0m\u001B[0;34m)\u001B[0m\u001B[0;34m\u001B[0m\u001B[0;34m\u001B[0m\u001B[0m\n\u001B[1;32m   1433\u001B[0m         \"\"\"\n\u001B[0;32m-> 1434\u001B[0;31m         \u001B[0mloss\u001B[0m\u001B[0;34m.\u001B[0m\u001B[0mbackward\u001B[0m\u001B[0;34m(\u001B[0m\u001B[0;34m*\u001B[0m\u001B[0margs\u001B[0m\u001B[0;34m,\u001B[0m \u001B[0;34m**\u001B[0m\u001B[0mkwargs\u001B[0m\u001B[0;34m)\u001B[0m\u001B[0;34m\u001B[0m\u001B[0;34m\u001B[0m\u001B[0m\n\u001B[0m\u001B[1;32m   1435\u001B[0m \u001B[0;34m\u001B[0m\u001B[0m\n\u001B[1;32m   1436\u001B[0m     \u001B[0;32mdef\u001B[0m \u001B[0mtoggle_optimizer\u001B[0m\u001B[0;34m(\u001B[0m\u001B[0mself\u001B[0m\u001B[0;34m,\u001B[0m \u001B[0moptimizer\u001B[0m\u001B[0;34m:\u001B[0m \u001B[0mUnion\u001B[0m\u001B[0;34m[\u001B[0m\u001B[0mOptimizer\u001B[0m\u001B[0;34m,\u001B[0m \u001B[0mLightningOptimizer\u001B[0m\u001B[0;34m]\u001B[0m\u001B[0;34m,\u001B[0m \u001B[0moptimizer_idx\u001B[0m\u001B[0;34m:\u001B[0m \u001B[0mint\u001B[0m\u001B[0;34m)\u001B[0m \u001B[0;34m->\u001B[0m \u001B[0;32mNone\u001B[0m\u001B[0;34m:\u001B[0m\u001B[0;34m\u001B[0m\u001B[0;34m\u001B[0m\u001B[0m\n",
      "\u001B[0;32m~/anaconda3/envs/rs/lib/python3.7/site-packages/torch/_tensor.py\u001B[0m in \u001B[0;36mbackward\u001B[0;34m(self, gradient, retain_graph, create_graph, inputs)\u001B[0m\n\u001B[1;32m    305\u001B[0m                 \u001B[0mcreate_graph\u001B[0m\u001B[0;34m=\u001B[0m\u001B[0mcreate_graph\u001B[0m\u001B[0;34m,\u001B[0m\u001B[0;34m\u001B[0m\u001B[0;34m\u001B[0m\u001B[0m\n\u001B[1;32m    306\u001B[0m                 inputs=inputs)\n\u001B[0;32m--> 307\u001B[0;31m         \u001B[0mtorch\u001B[0m\u001B[0;34m.\u001B[0m\u001B[0mautograd\u001B[0m\u001B[0;34m.\u001B[0m\u001B[0mbackward\u001B[0m\u001B[0;34m(\u001B[0m\u001B[0mself\u001B[0m\u001B[0;34m,\u001B[0m \u001B[0mgradient\u001B[0m\u001B[0;34m,\u001B[0m \u001B[0mretain_graph\u001B[0m\u001B[0;34m,\u001B[0m \u001B[0mcreate_graph\u001B[0m\u001B[0;34m,\u001B[0m \u001B[0minputs\u001B[0m\u001B[0;34m=\u001B[0m\u001B[0minputs\u001B[0m\u001B[0;34m)\u001B[0m\u001B[0;34m\u001B[0m\u001B[0;34m\u001B[0m\u001B[0m\n\u001B[0m\u001B[1;32m    308\u001B[0m \u001B[0;34m\u001B[0m\u001B[0m\n\u001B[1;32m    309\u001B[0m     \u001B[0;32mdef\u001B[0m \u001B[0mregister_hook\u001B[0m\u001B[0;34m(\u001B[0m\u001B[0mself\u001B[0m\u001B[0;34m,\u001B[0m \u001B[0mhook\u001B[0m\u001B[0;34m)\u001B[0m\u001B[0;34m:\u001B[0m\u001B[0;34m\u001B[0m\u001B[0;34m\u001B[0m\u001B[0m\n",
      "\u001B[0;32m~/anaconda3/envs/rs/lib/python3.7/site-packages/torch/autograd/__init__.py\u001B[0m in \u001B[0;36mbackward\u001B[0;34m(tensors, grad_tensors, retain_graph, create_graph, grad_variables, inputs)\u001B[0m\n\u001B[1;32m    154\u001B[0m     Variable._execution_engine.run_backward(\n\u001B[1;32m    155\u001B[0m         \u001B[0mtensors\u001B[0m\u001B[0;34m,\u001B[0m \u001B[0mgrad_tensors_\u001B[0m\u001B[0;34m,\u001B[0m \u001B[0mretain_graph\u001B[0m\u001B[0;34m,\u001B[0m \u001B[0mcreate_graph\u001B[0m\u001B[0;34m,\u001B[0m \u001B[0minputs\u001B[0m\u001B[0;34m,\u001B[0m\u001B[0;34m\u001B[0m\u001B[0;34m\u001B[0m\u001B[0m\n\u001B[0;32m--> 156\u001B[0;31m         allow_unreachable=True, accumulate_grad=True)  # allow_unreachable flag\n\u001B[0m\u001B[1;32m    157\u001B[0m \u001B[0;34m\u001B[0m\u001B[0m\n\u001B[1;32m    158\u001B[0m \u001B[0;34m\u001B[0m\u001B[0m\n",
      "\u001B[0;31mRuntimeError\u001B[0m: one of the variables needed for gradient computation has been modified by an inplace operation: [torch.FloatTensor [10, 2876]], which is output 0 of SigmoidBackward0, is at version 1; expected version 0 instead. Hint: enable anomaly detection to find the operation that failed to compute its gradient, with torch.autograd.set_detect_anomaly(True)."
     ]
    }
   ],
   "source": [
    "should_train = True\n",
    "model_paths = []\n",
    "if should_train:\n",
    "    for model_class in models:\n",
    "        for activation in activations:\n",
    "            for lr in lrs:\n",
    "                for latent in latent_dims:\n",
    "                    for λ in lambdas:\n",
    "                        model = model_class(number_of_items=number_of_items,\n",
    "                                            num_of_users=number_of_users,\n",
    "                                            hidden_size=latent,\n",
    "                                            activation_function_1=activation,\n",
    "                                            activation_function_2=activation,\n",
    "                                            loss=nn.MSELoss(reduction='none'),\n",
    "                                            λ=λ,\n",
    "                                            lr=lr)\n",
    "                        # training\n",
    "                        trainer = pl.Trainer(gpus=0, max_epochs=10)\n",
    "                        if type(model).__name__ == \"MF\":\n",
    "                            trainer.fit(model,mf_train_loader, mf_val_loader)\n",
    "                        else:\n",
    "                            trainer.fit(model,train_loader, val_loader)\n",
    "\n",
    "                        model_path = save_model(model_class=model_class,\n",
    "                                   trainer=trainer,\n",
    "                                   activation=activation,\n",
    "                                   hidden_size=latent,\n",
    "                                   lr=lr,\n",
    "                                   λ=λ,\n",
    "                                   is_default_dataset=is_default_dataset)\n",
    "                        model_paths.append(model_path)\n",
    "        #                 break\n",
    "        #             break\n",
    "        #         break\n",
    "        #     break\n",
    "        # break\n",
    "print(model_paths)"
   ],
   "metadata": {
    "collapsed": false,
    "pycharm": {
     "name": "#%%\n"
    }
   }
  },
  {
   "cell_type": "code",
   "execution_count": null,
   "outputs": [],
   "source": [
    "models_eval_dict = {}\n",
    "Ks = [5, 10]\n",
    "i = 0\n",
    "\n",
    "for model_class in models:\n",
    "    for activation in activations:\n",
    "        for lr in lrs:\n",
    "            for latent in latent_dims:\n",
    "                for λ in lambdas:\n",
    "                    try:\n",
    "                        model = load_model(model_class=model_class,\n",
    "                                           activation=activation,\n",
    "                                           hidden_size=latent,\n",
    "                                           lr=lr,\n",
    "                                           λ=λ,\n",
    "                                           is_default_dataset=is_default_dataset)\n",
    "                        for K in Ks:\n",
    "                            (hits, ndcgs, mrrs) = evaluate_model(model, test_loader=val_loader, K=K)\n",
    "                            models_eval_dict[f\"row_{i}\"] = [type(model).__name__, activation, latent, λ, lr, K, \"HR\", np.mean(hits)]\n",
    "                            models_eval_dict[f\"row_{i+1}\"] = [type(model).__name__, activation, latent, λ, lr, K, \"NDCG\",np.mean(ndcgs)]\n",
    "                            models_eval_dict[f\"row_{i+2}\"] = [type(model).__name__, activation, latent, λ, lr, K, \"MRR\",np.mean(mrrs)]\n",
    "                            i += 3\n",
    "                    except Exception as e:\n",
    "                        print(e)\n",
    "    #                     break\n",
    "    #                 break\n",
    "    #             break\n",
    "    #         break\n",
    "    #     break\n",
    "    # break"
   ],
   "metadata": {
    "collapsed": false,
    "pycharm": {
     "name": "#%%\n"
    }
   }
  },
  {
   "cell_type": "code",
   "execution_count": null,
   "outputs": [],
   "source": [],
   "metadata": {
    "collapsed": false,
    "pycharm": {
     "name": "#%%\n"
    }
   }
  },
  {
   "cell_type": "code",
   "execution_count": null,
   "outputs": [],
   "source": [
    "columns = [\"model\", \"activation\", \"latent_dim\", \"lambda\", \"lr\",\"topk\",\"metric\",\"score\"]\n",
    "eval_df = pd.DataFrame.from_dict(models_eval_dict, orient='index', columns=columns)\n",
    "eval_df.to_csv(\"obj/eval_df\", sep='\\t')\n",
    "\n",
    "eval_df"
   ],
   "metadata": {
    "collapsed": false,
    "pycharm": {
     "name": "#%%\n"
    }
   }
  },
  {
   "cell_type": "code",
   "execution_count": null,
   "outputs": [],
   "source": [],
   "metadata": {
    "collapsed": false,
    "pycharm": {
     "name": "#%%\n"
    }
   }
  }
 ],
 "metadata": {
  "kernelspec": {
   "display_name": "Python 3",
   "language": "python",
   "name": "python3"
  },
  "language_info": {
   "codemirror_mode": {
    "name": "ipython",
    "version": 2
   },
   "file_extension": ".py",
   "mimetype": "text/x-python",
   "name": "python",
   "nbconvert_exporter": "python",
   "pygments_lexer": "ipython2",
   "version": "2.7.6"
  }
 },
 "nbformat": 4,
 "nbformat_minor": 0
}