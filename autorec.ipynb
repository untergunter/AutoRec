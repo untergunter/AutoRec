{
 "cells": [
  {
   "cell_type": "code",
   "execution_count": null,
   "metadata": {
    "collapsed": true,
    "pycharm": {
     "is_executing": true
    }
   },
   "outputs": [],
   "source": [
    "# General Stuff:\n",
    "import numpy as np\n",
    "import pandas as pd\n",
    "\n",
    "# Our Stuff:\n",
    "from models.AutoRecBase import AutoRecBase\n",
    "from scripts.get_data import download_2_data_sets, ratings_to_train_test\n",
    "\n",
    "import torch\n",
    "from torch import nn\n",
    "import pytorch_lightning as pl\n",
    "\n",
    "# Visualization Stuff\n",
    "import seaborn as sns\n",
    "import matplotlib.pyplot as plt\n",
    "%matplotlib inline\n",
    "pd.set_option('display.max_colwidth', 240)\n",
    "\n",
    "device = torch.device(\"cuda:0\" if torch.cuda.is_available() else \"cpu\")\n",
    "device\n",
    "if torch.cuda.is_available():\n",
    "    print('There are %d GPU(s) available.' % torch.cuda.device_count())\n",
    "    print('We will use the GPU:', torch.cuda.get_device_name(0))"
   ]
  },
  {
   "cell_type": "markdown",
   "source": [
    "# AutoRec - AutoEncoders Meet Collaborative Filtering - PyTorch"
   ],
   "metadata": {
    "collapsed": false,
    "pycharm": {
     "name": "#%% md\n"
    }
   }
  },
  {
   "cell_type": "markdown",
   "source": [
    "<a id=\"toc\"></a>\n",
    "## Table of Content\n",
    "1. [Introduction](#introduction)\n",
    "1. [Conclusions](#conclusions)"
   ],
   "metadata": {
    "collapsed": false,
    "pycharm": {
     "name": "#%% md\n"
    }
   }
  },
  {
   "cell_type": "markdown",
   "source": [
    "<a id=\"introduction\"></a>\n",
    "\n",
    "## Introduction\n",
    "\n",
    "In this notebook we will review a collaborative filtering approach using autoencoders, as suggested by Sedhain et al, in their 2015 paper \"AutoRec: Autoencoders Meet Collaborative Filtering\".\n",
    "\n",
    "We will then introduce several improvements and asses them.\n",
    "\n",
    "[Table of content](#toc)"
   ],
   "metadata": {
    "collapsed": false,
    "pycharm": {
     "name": "#%% md\n"
    }
   }
  },
  {
   "cell_type": "code",
   "execution_count": 5,
   "outputs": [
    {
     "name": "stderr",
     "output_type": "stream",
     "text": [
      "/Users/odedgolden/Developer/AutoRec/scripts/get_data.py:39: ParserWarning: Falling back to the 'python' engine because the 'c' engine does not support regex separators (separators > 1 char and different from '\\s+' are interpreted as regex); you can avoid this warning by specifying engine='python'.\n",
      "  ratings = pd.read_table(\n"
     ]
    }
   ],
   "source": [
    "download_2_data_sets()"
   ],
   "metadata": {
    "collapsed": false,
    "pycharm": {
     "name": "#%%\n"
    }
   }
  },
  {
   "cell_type": "code",
   "execution_count": 8,
   "outputs": [],
   "source": [
    "train_loader, val_loader = ratings_to_train_test(1,0, 1,10)"
   ],
   "metadata": {
    "collapsed": false,
    "pycharm": {
     "name": "#%%\n"
    }
   }
  },
  {
   "cell_type": "code",
   "execution_count": 19,
   "outputs": [
    {
     "name": "stdout",
     "output_type": "stream",
     "text": [
      "The tensorboard extension is already loaded. To reload it, use:\n",
      "  %reload_ext tensorboard\n"
     ]
    },
    {
     "data": {
      "text/plain": "Launching TensorBoard..."
     },
     "metadata": {},
     "output_type": "display_data"
    }
   ],
   "source": [
    "%load_ext tensorboard\n",
    "%tensorboard --logdir ligtning_logs"
   ],
   "metadata": {
    "collapsed": false,
    "pycharm": {
     "name": "#%%\n"
    }
   }
  },
  {
   "cell_type": "code",
   "execution_count": 20,
   "outputs": [
    {
     "name": "stderr",
     "output_type": "stream",
     "text": [
      "GPU available: False, used: False\n",
      "TPU available: False, using: 0 TPU cores\n",
      "IPU available: False, using: 0 IPUs\n",
      "\n",
      "  | Name      | Type    | Params\n",
      "--------------------------------------\n",
      "0 | encoder   | Linear  | 92.7 K\n",
      "1 | act_1     | PReLU   | 1     \n",
      "2 | decoder   | Linear  | 96.4 K\n",
      "3 | act_2     | PReLU   | 1     \n",
      "4 | loss_func | MSELoss | 0     \n",
      "--------------------------------------\n",
      "189 K     Trainable params\n",
      "0         Non-trainable params\n",
      "189 K     Total params\n",
      "0.756     Total estimated model params size (MB)\n"
     ]
    },
    {
     "data": {
      "text/plain": "Validation sanity check: 0it [00:00, ?it/s]",
      "application/vnd.jupyter.widget-view+json": {
       "version_major": 2,
       "version_minor": 0,
       "model_id": "f4f8aa4c922744ea9d48ddcef100e770"
      }
     },
     "metadata": {},
     "output_type": "display_data"
    },
    {
     "name": "stderr",
     "output_type": "stream",
     "text": [
      "/usr/local/lib/python3.9/site-packages/pytorch_lightning/trainer/data_loading.py:132: UserWarning: The dataloader, val_dataloader 0, does not have many workers which may be a bottleneck. Consider increasing the value of the `num_workers` argument` (try 16 which is the number of cpus on this machine) in the `DataLoader` init to improve performance.\n",
      "  rank_zero_warn(\n"
     ]
    },
    {
     "data": {
      "text/plain": "Training: 0it [00:00, ?it/s]",
      "application/vnd.jupyter.widget-view+json": {
       "version_major": 2,
       "version_minor": 0,
       "model_id": "de488489ff194c7cac7a352b129ff62c"
      }
     },
     "metadata": {},
     "output_type": "display_data"
    },
    {
     "data": {
      "text/plain": "Validating: 0it [00:00, ?it/s]",
      "application/vnd.jupyter.widget-view+json": {
       "version_major": 2,
       "version_minor": 0,
       "model_id": "f95a70e24cd04085b65ebbeb85866321"
      }
     },
     "metadata": {},
     "output_type": "display_data"
    },
    {
     "data": {
      "text/plain": "Validating: 0it [00:00, ?it/s]",
      "application/vnd.jupyter.widget-view+json": {
       "version_major": 2,
       "version_minor": 0,
       "model_id": "f9b108da396d443680fca3cdd137a3c3"
      }
     },
     "metadata": {},
     "output_type": "display_data"
    },
    {
     "data": {
      "text/plain": "Validating: 0it [00:00, ?it/s]",
      "application/vnd.jupyter.widget-view+json": {
       "version_major": 2,
       "version_minor": 0,
       "model_id": "abb3e7957f6e4e28ac6ff977cf4f51cf"
      }
     },
     "metadata": {},
     "output_type": "display_data"
    },
    {
     "name": "stderr",
     "output_type": "stream",
     "text": [
      "/usr/local/lib/python3.9/site-packages/pytorch_lightning/trainer/trainer.py:688: UserWarning: Detected KeyboardInterrupt, attempting graceful shutdown...\n",
      "  rank_zero_warn(\"Detected KeyboardInterrupt, attempting graceful shutdown...\")\n",
      "Traceback (most recent call last):\n",
      "Traceback (most recent call last):\n",
      "  File \"<string>\", line 1, in <module>\n",
      "  File \"<string>\", line 1, in <module>\n",
      "Traceback (most recent call last):\n",
      "Traceback (most recent call last):\n",
      "  File \"<string>\", line 1, in <module>\n",
      "  File \"/usr/local/lib/python3.9/site-packages/pkg_resources/__init__.py\", line 2031, in try_parse\n",
      "  File \"/usr/local/Cellar/python@3.9/3.9.1_6/Frameworks/Python.framework/Versions/3.9/lib/python3.9/multiprocessing/spawn.py\", line 116, in spawn_main\n",
      "  File \"/usr/local/Cellar/python@3.9/3.9.1_6/Frameworks/Python.framework/Versions/3.9/lib/python3.9/multiprocessing/spawn.py\", line 116, in spawn_main\n",
      "    exitcode = _main(fd, parent_sentinel)\n",
      "    exitcode = _main(fd, parent_sentinel)\n",
      "  File \"/usr/local/Cellar/python@3.9/3.9.1_6/Frameworks/Python.framework/Versions/3.9/lib/python3.9/multiprocessing/spawn.py\", line 126, in _main\n",
      "  File \"/usr/local/Cellar/python@3.9/3.9.1_6/Frameworks/Python.framework/Versions/3.9/lib/python3.9/multiprocessing/spawn.py\", line 126, in _main\n",
      "    self = reduction.pickle.load(from_parent)\n",
      "  File \"/usr/local/lib/python3.9/site-packages/torch/__init__.py\", line 29, in <module>\n",
      "    from .torch_version import __version__ as __version__\n",
      "  File \"/usr/local/lib/python3.9/site-packages/torch/torch_version.py\", line 3, in <module>\n",
      "    self = reduction.pickle.load(from_parent)\n",
      "  File \"/usr/local/lib/python3.9/site-packages/torch/__init__.py\", line 29, in <module>\n",
      "    from .torch_version import __version__ as __version__\n",
      "  File \"/usr/local/lib/python3.9/site-packages/torch/torch_version.py\", line 3, in <module>\n",
      "    from pkg_resources import packaging  # type: ignore[attr-defined]\n",
      "  File \"/usr/local/lib/python3.9/site-packages/pkg_resources/__init__.py\", line 3267, in <module>\n",
      "    from pkg_resources import packaging  # type: ignore[attr-defined]\n",
      "  File \"/usr/local/lib/python3.9/site-packages/pkg_resources/__init__.py\", line 3267, in <module>\n",
      "    return packaging.version.Version(name)\n",
      "  File \"/usr/local/lib/python3.9/site-packages/pkg_resources/_vendor/packaging/version.py\", line 266, in __init__\n",
      "    def _initialize_master_working_set():\n",
      "  File \"/usr/local/lib/python3.9/site-packages/pkg_resources/__init__.py\", line 3241, in _call_aside\n",
      "    def _initialize_master_working_set():\n",
      "  File \"/usr/local/lib/python3.9/site-packages/pkg_resources/__init__.py\", line 3241, in _call_aside\n",
      "    raise InvalidVersion(f\"Invalid version: '{version}'\")\n",
      "pkg_resources.extern.packaging.version.InvalidVersion: Invalid version: '/usr/local/lib/python3.9/site'\n",
      "\n",
      "During handling of the above exception, another exception occurred:\n",
      "\n",
      "Traceback (most recent call last):\n",
      "  File \"<string>\", line 1, in <module>\n",
      "  File \"/usr/local/Cellar/python@3.9/3.9.1_6/Frameworks/Python.framework/Versions/3.9/lib/python3.9/multiprocessing/spawn.py\", line 116, in spawn_main\n",
      "    exitcode = _main(fd, parent_sentinel)\n",
      "  File \"/usr/local/Cellar/python@3.9/3.9.1_6/Frameworks/Python.framework/Versions/3.9/lib/python3.9/multiprocessing/spawn.py\", line 126, in _main\n",
      "    self = reduction.pickle.load(from_parent)\n",
      "  File \"/usr/local/lib/python3.9/site-packages/torch/__init__.py\", line 29, in <module>\n",
      "    from .torch_version import __version__ as __version__\n",
      "  File \"/usr/local/lib/python3.9/site-packages/torch/torch_version.py\", line 3, in <module>\n",
      "    from pkg_resources import packaging  # type: ignore[attr-defined]\n",
      "  File \"/usr/local/lib/python3.9/site-packages/pkg_resources/__init__.py\", line 3267, in <module>\n",
      "    f(*args, **kwargs)\n",
      "    f(*args, **kwargs)\n",
      "  File \"/usr/local/lib/python3.9/site-packages/pkg_resources/__init__.py\", line 3302, in _initialize_master_working_set\n",
      "  File \"/usr/local/lib/python3.9/site-packages/pkg_resources/__init__.py\", line 3292, in _initialize_master_working_set\n",
      "    def _initialize_master_working_set():\n",
      "  File \"/usr/local/lib/python3.9/site-packages/pkg_resources/__init__.py\", line 3241, in _call_aside\n",
      "  File \"/usr/local/Cellar/python@3.9/3.9.1_6/Frameworks/Python.framework/Versions/3.9/lib/python3.9/multiprocessing/spawn.py\", line 116, in spawn_main\n",
      "    tuple(\n",
      "  File \"/usr/local/lib/python3.9/site-packages/pkg_resources/__init__.py\", line 3293, in <genexpr>\n",
      "    list(map(working_set.add_entry, sys.path))\n",
      "  File \"/usr/local/lib/python3.9/site-packages/pkg_resources/__init__.py\", line 613, in add_entry\n",
      "    exitcode = _main(fd, parent_sentinel)\n",
      "  File \"/usr/local/Cellar/python@3.9/3.9.1_6/Frameworks/Python.framework/Versions/3.9/lib/python3.9/multiprocessing/spawn.py\", line 126, in _main\n",
      "    for dist in find_distributions(entry, True):\n",
      "    self = reduction.pickle.load(from_parent)\n",
      "  File \"/usr/local/lib/python3.9/site-packages/pkg_resources/__init__.py\", line 2077, in find_on_path\n",
      "  File \"/usr/local/lib/python3.9/site-packages/torch/__init__.py\", line 29, in <module>\n",
      "    from .torch_version import __version__ as __version__\n",
      "  File \"/usr/local/lib/python3.9/site-packages/torch/torch_version.py\", line 3, in <module>\n",
      "    from pkg_resources import packaging  # type: ignore[attr-defined]\n",
      "  File \"/usr/local/lib/python3.9/site-packages/pkg_resources/__init__.py\", line 3267, in <module>\n",
      "    f(*args, **kwargs)\n",
      "  File \"/usr/local/lib/python3.9/site-packages/pkg_resources/__init__.py\", line 3302, in _initialize_master_working_set\n",
      "    dist.activate(replace=False)\n",
      "  File \"/usr/local/lib/python3.9/site-packages/pkg_resources/__init__.py\", line 2795, in activate\n",
      "    for dist in factory(fullpath):\n",
      "  File \"/usr/local/lib/python3.9/site-packages/pkg_resources/__init__.py\", line 2142, in distributions_from_metadata\n",
      "    def _initialize_master_working_set():\n",
      "  File \"/usr/local/lib/python3.9/site-packages/pkg_resources/__init__.py\", line 3241, in _call_aside\n",
      "    fixup_namespace_packages(self.location)\n",
      "  File \"/usr/local/lib/python3.9/site-packages/pkg_resources/__init__.py\", line 2307, in fixup_namespace_packages\n",
      "    yield Distribution.from_location(\n",
      "  File \"/usr/local/lib/python3.9/site-packages/pkg_resources/__init__.py\", line 2603, in from_location\n",
      "    list(map(working_set.add_entry, sys.path))\n",
      "  File \"/usr/local/lib/python3.9/site-packages/pkg_resources/__init__.py\", line 613, in add_entry\n",
      "    for dist in find_distributions(entry, True):\n",
      "  File \"/usr/local/lib/python3.9/site-packages/pkg_resources/__init__.py\", line 2073, in find_on_path\n",
      "    f(*args, **kwargs)\n",
      "  File \"/usr/local/lib/python3.9/site-packages/pkg_resources/__init__.py\", line 3292, in _initialize_master_working_set\n",
      "    subpath = _handle_ns(package, path_item)\n",
      "  File \"/usr/local/lib/python3.9/site-packages/pkg_resources/__init__.py\", line 2208, in _handle_ns\n",
      "    return cls(\n",
      "  File \"/usr/local/lib/python3.9/site-packages/pkg_resources/__init__.py\", line 2584, in __init__\n",
      "    path_item_entries = _by_version_descending(filtered)\n",
      "  File \"/usr/local/lib/python3.9/site-packages/pkg_resources/__init__.py\", line 2043, in _by_version_descending\n",
      "    loader = importer.find_spec(packageName).loader\n",
      "  File \"<frozen importlib._bootstrap_external>\", line 1446, in find_spec\n",
      "    tuple(\n"
     ]
    }
   ],
   "source": [
    "model = AutoRecBase(3706,\n",
    "                    25,\n",
    "                    nn.PReLU,\n",
    "                    nn.PReLU,\n",
    "                    nn.MSELoss\n",
    "                    )\n",
    "# training\n",
    "trainer = pl.Trainer(gpus=0,max_epochs=10)\n",
    "trainer.fit(model,train_loader, val_loader)"
   ],
   "metadata": {
    "collapsed": false,
    "pycharm": {
     "name": "#%%\n"
    }
   }
  },
  {
   "cell_type": "code",
   "execution_count": null,
   "outputs": [],
   "source": [],
   "metadata": {
    "collapsed": false,
    "pycharm": {
     "name": "#%%\n"
    }
   }
  }
 ],
 "metadata": {
  "kernelspec": {
   "display_name": "Python 3",
   "language": "python",
   "name": "python3"
  },
  "language_info": {
   "codemirror_mode": {
    "name": "ipython",
    "version": 2
   },
   "file_extension": ".py",
   "mimetype": "text/x-python",
   "name": "python",
   "nbconvert_exporter": "python",
   "pygments_lexer": "ipython2",
   "version": "2.7.6"
  }
 },
 "nbformat": 4,
 "nbformat_minor": 0
}