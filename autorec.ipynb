{
 "cells": [
  {
   "cell_type": "code",
   "execution_count": 21,
   "metadata": {
    "collapsed": true
   },
   "outputs": [
    {
     "name": "stdout",
     "output_type": "stream",
     "text": [
      "There are 1 GPU(s) available.\n",
      "We will use the GPU: NVIDIA GeForce GTX 1660 Ti\n"
     ]
    }
   ],
   "source": [
    "# General Stuff:\n",
    "import numpy as np\n",
    "import pandas as pd\n",
    "\n",
    "# Our Stuff:\n",
    "from models.AutoRecBase import AutoRecBase\n",
    "from models.VarAutoRec import VarAutoRec\n",
    "from models.MF import MF\n",
    "from models.UserBiasAE import UserBiasAE\n",
    "\n",
    "\n",
    "from scripts.get_data import download_2_data_sets, ratings_to_train_test, ratings_to_train_test_u\n",
    "from scripts.get_2_other_data import get_2_other_datasets, secondary_to_train_test, secondary_to_train_test_u\n",
    "from utils.evaluate import evaluate_model\n",
    "from utils.loading_utils import load_model, save_model\n",
    "\n",
    "import torch\n",
    "from torch import nn\n",
    "import pytorch_lightning as pl\n",
    "\n",
    "# Visualization Stuff\n",
    "import seaborn as sns\n",
    "import matplotlib.pyplot as plt\n",
    "%matplotlib inline\n",
    "pd.set_option('display.max_colwidth', 240)\n",
    "\n",
    "device = torch.device(\"cuda:0\" if torch.cuda.is_available() else \"cpu\")\n",
    "device\n",
    "if torch.cuda.is_available():\n",
    "    print('There are %d GPU(s) available.' % torch.cuda.device_count())\n",
    "    print('We will use the GPU:', torch.cuda.get_device_name(0))"
   ]
  },
  {
   "cell_type": "markdown",
   "source": [
    "# AutoRec - AutoEncoders Meet Collaborative Filtering - PyTorch"
   ],
   "metadata": {
    "collapsed": false,
    "pycharm": {
     "name": "#%% md\n"
    }
   }
  },
  {
   "cell_type": "markdown",
   "source": [
    "<a id=\"toc\"></a>\n",
    "## Table of Content\n",
    "1. [Introduction](#introduction)\n",
    "1. [Conclusions](#conclusions)"
   ],
   "metadata": {
    "collapsed": false,
    "pycharm": {
     "name": "#%% md\n"
    }
   }
  },
  {
   "cell_type": "markdown",
   "source": [
    "<a id=\"introduction\"></a>\n",
    "\n",
    "## Introduction\n",
    "\n",
    "In this notebook we will review a collaborative filtering approach using autoencoders, as suggested by Sedhain et al, in their 2015 paper \"AutoRec: Autoencoders Meet Collaborative Filtering\".\n",
    "\n",
    "We will then introduce several improvements and asses them.\n",
    "\n",
    "[Table of content](#toc)"
   ],
   "metadata": {
    "collapsed": false,
    "pycharm": {
     "name": "#%% md\n"
    }
   }
  },
  {
   "cell_type": "code",
   "execution_count": 22,
   "outputs": [],
   "source": [
    "is_default_dataset = False\n",
    "if is_default_dataset:\n",
    "    download_2_data_sets()\n",
    "else:\n",
    "    get_2_other_datasets()"
   ],
   "metadata": {
    "collapsed": false,
    "pycharm": {
     "name": "#%%\n"
    }
   }
  },
  {
   "cell_type": "code",
   "execution_count": 23,
   "outputs": [],
   "source": [
    "if is_default_dataset:\n",
    "    train_loader, val_loader = ratings_to_train_test(1,0, 1,10)\n",
    "    mf_train_loader, mf_val_loader =  ratings_to_train_test_u(dataset_size=1,\n",
    "                                                              validation_partition=0,\n",
    "                                                              train_partition=1,\n",
    "                                                              batch_size=10)\n",
    "else:\n",
    "    train_loader, val_loader = secondary_to_train_test('flixster',0, 1,10)\n",
    "    mf_train_loader, mf_val_loader =  secondary_to_train_test_u('flixster',\n",
    "                                                                validation_partition=0,\n",
    "                                                                train_partition=1,\n",
    "                                                                batch_size=10)\n"
   ],
   "metadata": {
    "collapsed": false,
    "pycharm": {
     "name": "#%%\n"
    }
   }
  },
  {
   "cell_type": "code",
   "execution_count": 24,
   "outputs": [
    {
     "data": {
      "text/plain": "Launching TensorBoard..."
     },
     "metadata": {},
     "output_type": "display_data"
    },
    {
     "data": {
      "text/plain": "<IPython.core.display.HTML object>",
      "text/html": "\n      <iframe id=\"tensorboard-frame-8fb9e894cea7c92d\" width=\"100%\" height=\"800\" frameborder=\"0\">\n      </iframe>\n      <script>\n        (function() {\n          const frame = document.getElementById(\"tensorboard-frame-8fb9e894cea7c92d\");\n          const url = new URL(\"/\", window.location);\n          const port = 6006;\n          if (port) {\n            url.port = port;\n          }\n          frame.src = url;\n        })();\n      </script>\n    "
     },
     "metadata": {},
     "output_type": "display_data"
    }
   ],
   "source": [
    "%reload_ext tensorboard\n",
    "%tensorboard --logdir lightning_logs"
   ],
   "metadata": {
    "collapsed": false,
    "pycharm": {
     "name": "#%%\n"
    }
   }
  },
  {
   "cell_type": "markdown",
   "source": [
    "Go to:  [TensorBoard](http://localhost:6006)"
   ],
   "metadata": {
    "collapsed": false,
    "pycharm": {
     "name": "#%% md\n"
    }
   }
  },
  {
   "cell_type": "code",
   "execution_count": 40,
   "outputs": [],
   "source": [
    "models_dict = {} # (model,ephoc,lr): loss\n",
    "models_state = {} # (model,ephoc,lr): model.state_dict()\n",
    "models = [\n",
    "    AutoRecBase,\n",
    "    VarAutoRec,\n",
    "    MF,\n",
    "    UserBiasAE\n",
    "]\n",
    "lrs = [0.001,0.005,0.01]\n",
    "activations = [nn.PReLU, nn.Sigmoid]"
   ],
   "metadata": {
    "collapsed": false,
    "pycharm": {
     "name": "#%%\n"
    }
   }
  },
  {
   "cell_type": "markdown",
   "source": [
    "Sanity check:"
   ],
   "metadata": {
    "collapsed": false,
    "pycharm": {
     "name": "#%% md\n"
    }
   }
  },
  {
   "cell_type": "code",
   "execution_count": 27,
   "outputs": [
    {
     "name": "stdout",
     "output_type": "stream",
     "text": [
      "tensor([3., 3., 3., 3., 3., 3., 3., 3., 3., 3.])\n",
      "tensor(7)\n",
      "tensor([7, 7, 7, 7, 7, 7, 7, 7, 7, 7])\n",
      "tensor([ 929, 1000, 1135, 1165, 1183, 1187, 1291, 1561, 1576, 1577])\n",
      "tensor([5.0000, 5.0000, 4.5000, 5.0000, 3.5000, 4.5000, 4.5000, 4.5000, 4.0000,\n",
      "        4.0000], dtype=torch.float64)\n"
     ]
    }
   ],
   "source": [
    "for x, y, m in val_loader:\n",
    "    print(x[:,0])\n",
    "    break\n",
    "for x, y, m in mf_val_loader:\n",
    "    print(x[0])\n",
    "    break\n",
    "for x, y, r in mf_train_loader:\n",
    "    print(x)\n",
    "    print(y)\n",
    "    print(r)\n",
    "    break\n",
    "# model(x)[:,0]"
   ],
   "metadata": {
    "collapsed": false,
    "pycharm": {
     "name": "#%%\n"
    }
   }
  },
  {
   "cell_type": "code",
   "execution_count": 28,
   "outputs": [
    {
     "name": "stdout",
     "output_type": "stream",
     "text": [
      "Number of users: 402\n",
      "Number of items: 2876\n"
     ]
    }
   ],
   "source": [
    "print(f\"Number of users: {len(val_loader.dataset)}\")\n",
    "print(f\"Number of items: {len(val_loader.dataset[0][1])}\")"
   ],
   "metadata": {
    "collapsed": false,
    "pycharm": {
     "name": "#%%\n"
    }
   }
  },
  {
   "cell_type": "markdown",
   "source": [
    "Datasets:"
   ],
   "metadata": {
    "collapsed": false,
    "pycharm": {
     "name": "#%% md\n"
    }
   }
  },
  {
   "cell_type": "code",
   "execution_count": 29,
   "outputs": [],
   "source": [
    "number_of_users = len(val_loader.dataset)\n",
    "number_of_items = len(val_loader.dataset[0][1])"
   ],
   "metadata": {
    "collapsed": false,
    "pycharm": {
     "name": "#%%\n"
    }
   }
  },
  {
   "cell_type": "markdown",
   "source": [
    "From the original paper:"
   ],
   "metadata": {
    "collapsed": false,
    "pycharm": {
     "name": "#%% md\n"
    }
   }
  },
  {
   "cell_type": "code",
   "execution_count": 30,
   "outputs": [],
   "source": [
    "latent_dims = [10, 80, 300]\n",
    "lambdas = [0.01, 0.1, 1, 100]"
   ],
   "metadata": {
    "collapsed": false,
    "pycharm": {
     "name": "#%%\n"
    }
   }
  },
  {
   "cell_type": "code",
   "execution_count": 41,
   "outputs": [
    {
     "name": "stderr",
     "output_type": "stream",
     "text": [
      "GPU available: True, used: False\n",
      "TPU available: False, using: 0 TPU cores\n",
      "IPU available: False, using: 0 IPUs\n",
      "\n",
      "  | Name      | Type    | Params\n",
      "--------------------------------------\n",
      "0 | encoder   | Linear  | 28.8 K\n",
      "1 | act_1     | PReLU   | 1     \n",
      "2 | decoder   | Linear  | 31.6 K\n",
      "3 | act_2     | PReLU   | 1     \n",
      "4 | loss_func | MSELoss | 0     \n",
      "--------------------------------------\n",
      "60.4 K    Trainable params\n",
      "0         Non-trainable params\n",
      "60.4 K    Total params\n",
      "0.242     Total estimated model params size (MB)\n"
     ]
    },
    {
     "name": "stdout",
     "output_type": "stream",
     "text": [
      "0.01\n",
      "Epoch 0:  50%|█████     | 41/82 [00:00<00:00, 106.30it/s, loss=12, v_num=218]  \n",
      "Validating: 0it [00:00, ?it/s]\u001B[A\n",
      "Epoch 0: 100%|██████████| 82/82 [00:00<00:00, 183.13it/s, loss=12, v_num=218]\n",
      "Epoch 1:  50%|█████     | 41/82 [00:00<00:00, 104.59it/s, loss=10.1, v_num=218]\n",
      "Validating: 0it [00:00, ?it/s]\u001B[A\n",
      "Epoch 1: 100%|██████████| 82/82 [00:00<00:00, 185.28it/s, loss=10.1, v_num=218]\n",
      "Epoch 2:  50%|█████     | 41/82 [00:00<00:00, 106.96it/s, loss=8.08, v_num=218]\n",
      "Validating: 0it [00:00, ?it/s]\u001B[A\n",
      "Epoch 2: 100%|██████████| 82/82 [00:00<00:00, 181.00it/s, loss=8.08, v_num=218]\n",
      "Epoch 3:  50%|█████     | 41/82 [00:00<00:00, 107.33it/s, loss=6.13, v_num=218]\n",
      "Validating: 0it [00:00, ?it/s]\u001B[A\n",
      "Epoch 3: 100%|██████████| 82/82 [00:00<00:00, 184.63it/s, loss=6.13, v_num=218]\n",
      "Epoch 4:  50%|█████     | 41/82 [00:00<00:00, 99.61it/s, loss=4.83, v_num=218] \n",
      "Validating: 0it [00:00, ?it/s]\u001B[A\n",
      "Epoch 4: 100%|██████████| 82/82 [00:00<00:00, 177.11it/s, loss=4.83, v_num=218]\n",
      "Epoch 5:  50%|█████     | 41/82 [00:00<00:00, 102.98it/s, loss=3.58, v_num=218]\n",
      "Validating: 0it [00:00, ?it/s]\u001B[A\n",
      "Epoch 5: 100%|██████████| 82/82 [00:00<00:00, 178.60it/s, loss=3.58, v_num=218]\n",
      "Epoch 6:  50%|█████     | 41/82 [00:00<00:00, 112.93it/s, loss=2.81, v_num=218]\n",
      "Validating: 0it [00:00, ?it/s]\u001B[A\n",
      "Epoch 6: 100%|██████████| 82/82 [00:00<00:00, 195.61it/s, loss=2.81, v_num=218]\n",
      "Epoch 7:  50%|█████     | 41/82 [00:00<00:00, 99.96it/s, loss=2.42, v_num=218] \n",
      "Validating: 0it [00:00, ?it/s]\u001B[A\n",
      "Epoch 7: 100%|██████████| 82/82 [00:00<00:00, 175.67it/s, loss=2.42, v_num=218]\n",
      "Epoch 8:  50%|█████     | 41/82 [00:00<00:00, 97.82it/s, loss=2.06, v_num=218] \n",
      "Validating: 0it [00:00, ?it/s]\u001B[A\n",
      "Epoch 8: 100%|██████████| 82/82 [00:00<00:00, 169.77it/s, loss=2.06, v_num=218]\n",
      "Epoch 9:  50%|█████     | 41/82 [00:00<00:00, 98.68it/s, loss=1.85, v_num=218] \n",
      "Validating: 0it [00:00, ?it/s]\u001B[A\n",
      "Epoch 9: 100%|██████████| 82/82 [00:00<00:00, 175.87it/s, loss=1.85, v_num=218]\n",
      "Epoch 9: 100%|██████████| 82/82 [00:00<00:00, 173.18it/s, loss=1.85, v_num=218]\n"
     ]
    },
    {
     "name": "stderr",
     "output_type": "stream",
     "text": [
      "GPU available: True, used: False\n",
      "TPU available: False, using: 0 TPU cores\n",
      "IPU available: False, using: 0 IPUs\n"
     ]
    },
    {
     "name": "stdout",
     "output_type": "stream",
     "text": [
      "0.1\n"
     ]
    },
    {
     "name": "stderr",
     "output_type": "stream",
     "text": [
      "\n",
      "  | Name      | Type    | Params\n",
      "--------------------------------------\n",
      "0 | encoder   | Linear  | 28.8 K\n",
      "1 | act_1     | PReLU   | 1     \n",
      "2 | decoder   | Linear  | 31.6 K\n",
      "3 | act_2     | PReLU   | 1     \n",
      "4 | loss_func | MSELoss | 0     \n",
      "--------------------------------------\n",
      "60.4 K    Trainable params\n",
      "0         Non-trainable params\n",
      "60.4 K    Total params\n",
      "0.242     Total estimated model params size (MB)\n"
     ]
    },
    {
     "name": "stdout",
     "output_type": "stream",
     "text": [
      "Epoch 0:  50%|█████     | 41/82 [00:00<00:00, 105.90it/s, loss=12, v_num=219]  \n",
      "Validating: 0it [00:00, ?it/s]\u001B[A\n",
      "Epoch 0: 100%|██████████| 82/82 [00:00<00:00, 184.28it/s, loss=12, v_num=219]\n",
      "Epoch 1:  50%|█████     | 41/82 [00:00<00:00, 101.78it/s, loss=10.1, v_num=219]\n",
      "Validating: 0it [00:00, ?it/s]\u001B[A\n",
      "Epoch 1: 100%|██████████| 82/82 [00:00<00:00, 175.08it/s, loss=10.1, v_num=219]\n",
      "Epoch 2:  50%|█████     | 41/82 [00:00<00:00, 97.23it/s, loss=8.32, v_num=219] \n",
      "Validating: 0it [00:00, ?it/s]\u001B[A\n",
      "Epoch 2: 100%|██████████| 82/82 [00:00<00:00, 172.51it/s, loss=8.32, v_num=219]\n",
      "Epoch 3:  50%|█████     | 41/82 [00:00<00:00, 102.69it/s, loss=6.63, v_num=219]\n",
      "Validating: 0it [00:00, ?it/s]\u001B[A\n",
      "Epoch 3: 100%|██████████| 82/82 [00:00<00:00, 176.73it/s, loss=6.63, v_num=219]\n",
      "Epoch 4:  50%|█████     | 41/82 [00:00<00:00, 105.94it/s, loss=5.2, v_num=219] \n",
      "Validating: 0it [00:00, ?it/s]\u001B[A\n",
      "Epoch 4: 100%|██████████| 82/82 [00:00<00:00, 181.12it/s, loss=5.2, v_num=219]\n",
      "Epoch 5:  50%|█████     | 41/82 [00:00<00:00, 95.37it/s, loss=3.92, v_num=219]\n",
      "Validating: 0it [00:00, ?it/s]\u001B[A\n",
      "Epoch 5: 100%|██████████| 82/82 [00:00<00:00, 168.92it/s, loss=3.92, v_num=219]\n",
      "Epoch 6:  50%|█████     | 41/82 [00:00<00:00, 111.13it/s, loss=3.11, v_num=219]\n",
      "Validating: 0it [00:00, ?it/s]\u001B[A\n",
      "Epoch 6: 100%|██████████| 82/82 [00:00<00:00, 195.49it/s, loss=3.11, v_num=219]\n",
      "Epoch 7:  50%|█████     | 41/82 [00:00<00:00, 106.60it/s, loss=2.58, v_num=219]\n",
      "Validating: 0it [00:00, ?it/s]\u001B[A\n",
      "Epoch 7: 100%|██████████| 82/82 [00:00<00:00, 183.58it/s, loss=2.58, v_num=219]\n",
      "Epoch 8:  50%|█████     | 41/82 [00:00<00:00, 106.91it/s, loss=2.17, v_num=219]\n",
      "Validating: 0it [00:00, ?it/s]\u001B[A\n",
      "Epoch 8: 100%|██████████| 82/82 [00:00<00:00, 183.32it/s, loss=2.17, v_num=219]\n",
      "Epoch 9:  50%|█████     | 41/82 [00:00<00:00, 114.66it/s, loss=1.85, v_num=219]\n",
      "Validating: 0it [00:00, ?it/s]\u001B[A\n",
      "Epoch 9: 100%|██████████| 82/82 [00:00<00:00, 194.88it/s, loss=1.85, v_num=219]\n",
      "Epoch 9: 100%|██████████| 82/82 [00:00<00:00, 191.44it/s, loss=1.85, v_num=219]\n"
     ]
    },
    {
     "name": "stderr",
     "output_type": "stream",
     "text": [
      "GPU available: True, used: False\n",
      "TPU available: False, using: 0 TPU cores\n",
      "IPU available: False, using: 0 IPUs\n"
     ]
    },
    {
     "name": "stdout",
     "output_type": "stream",
     "text": [
      "1\n"
     ]
    },
    {
     "name": "stderr",
     "output_type": "stream",
     "text": [
      "\n",
      "  | Name      | Type    | Params\n",
      "--------------------------------------\n",
      "0 | encoder   | Linear  | 28.8 K\n",
      "1 | act_1     | PReLU   | 1     \n",
      "2 | decoder   | Linear  | 31.6 K\n",
      "3 | act_2     | PReLU   | 1     \n",
      "4 | loss_func | MSELoss | 0     \n",
      "--------------------------------------\n",
      "60.4 K    Trainable params\n",
      "0         Non-trainable params\n",
      "60.4 K    Total params\n",
      "0.242     Total estimated model params size (MB)\n"
     ]
    },
    {
     "name": "stdout",
     "output_type": "stream",
     "text": [
      "Epoch 0:  50%|█████     | 41/82 [00:00<00:00, 74.65it/s, loss=12.1, v_num=220]\n",
      "Validating: 0it [00:00, ?it/s]\u001B[A\n",
      "Epoch 0: 100%|██████████| 82/82 [00:00<00:00, 132.37it/s, loss=12.1, v_num=220]\n",
      "Epoch 1:  50%|█████     | 41/82 [00:00<00:00, 109.40it/s, loss=11.4, v_num=220]\n",
      "Validating: 0it [00:00, ?it/s]\u001B[A\n",
      "Epoch 1: 100%|██████████| 82/82 [00:00<00:00, 188.78it/s, loss=11.4, v_num=220]\n",
      "Epoch 2:  50%|█████     | 41/82 [00:00<00:00, 111.35it/s, loss=10.3, v_num=220]\n",
      "Validating: 0it [00:00, ?it/s]\u001B[A\n",
      "Epoch 2: 100%|██████████| 82/82 [00:00<00:00, 189.63it/s, loss=10.3, v_num=220]\n",
      "Epoch 3:  50%|█████     | 41/82 [00:00<00:00, 111.04it/s, loss=9.1, v_num=220] \n",
      "Validating: 0it [00:00, ?it/s]\u001B[A\n",
      "Epoch 3: 100%|██████████| 82/82 [00:00<00:00, 190.41it/s, loss=9.1, v_num=220]\n",
      "Epoch 4:  50%|█████     | 41/82 [00:00<00:00, 106.87it/s, loss=7.91, v_num=220]\n",
      "Validating: 0it [00:00, ?it/s]\u001B[A\n",
      "Epoch 4: 100%|██████████| 82/82 [00:00<00:00, 184.61it/s, loss=7.91, v_num=220]\n",
      "Epoch 5:  50%|█████     | 41/82 [00:00<00:00, 113.32it/s, loss=6.68, v_num=220]\n",
      "Validating: 0it [00:00, ?it/s]\u001B[A\n",
      "Epoch 5: 100%|██████████| 82/82 [00:00<00:00, 193.54it/s, loss=6.68, v_num=220]\n",
      "Epoch 6:  50%|█████     | 41/82 [00:00<00:00, 102.93it/s, loss=6.22, v_num=220]\n",
      "Validating: 0it [00:00, ?it/s]\u001B[A\n",
      "Epoch 6: 100%|██████████| 82/82 [00:00<00:00, 177.63it/s, loss=6.22, v_num=220]\n",
      "Epoch 7:  50%|█████     | 41/82 [00:00<00:00, 109.02it/s, loss=5.75, v_num=220]\n",
      "Validating: 0it [00:00, ?it/s]\u001B[A\n",
      "Epoch 7: 100%|██████████| 82/82 [00:00<00:00, 193.10it/s, loss=5.75, v_num=220]\n",
      "Epoch 8:  50%|█████     | 41/82 [00:00<00:00, 108.39it/s, loss=5.17, v_num=220]\n",
      "Validating: 0it [00:00, ?it/s]\u001B[A\n",
      "Epoch 8: 100%|██████████| 82/82 [00:00<00:00, 190.56it/s, loss=5.17, v_num=220]\n",
      "Epoch 9:  50%|█████     | 41/82 [00:00<00:00, 103.78it/s, loss=4.57, v_num=220]\n",
      "Validating: 0it [00:00, ?it/s]\u001B[A\n",
      "Epoch 9: 100%|██████████| 82/82 [00:00<00:00, 177.63it/s, loss=4.57, v_num=220]\n",
      "Epoch 9: 100%|██████████| 82/82 [00:00<00:00, 175.24it/s, loss=4.57, v_num=220]\n"
     ]
    },
    {
     "name": "stderr",
     "output_type": "stream",
     "text": [
      "GPU available: True, used: False\n",
      "TPU available: False, using: 0 TPU cores\n",
      "IPU available: False, using: 0 IPUs\n"
     ]
    },
    {
     "name": "stdout",
     "output_type": "stream",
     "text": [
      "100\n"
     ]
    },
    {
     "name": "stderr",
     "output_type": "stream",
     "text": [
      "\n",
      "  | Name      | Type    | Params\n",
      "--------------------------------------\n",
      "0 | encoder   | Linear  | 28.8 K\n",
      "1 | act_1     | PReLU   | 1     \n",
      "2 | decoder   | Linear  | 31.6 K\n",
      "3 | act_2     | PReLU   | 1     \n",
      "4 | loss_func | MSELoss | 0     \n",
      "--------------------------------------\n",
      "60.4 K    Trainable params\n",
      "0         Non-trainable params\n",
      "60.4 K    Total params\n",
      "0.242     Total estimated model params size (MB)\n"
     ]
    },
    {
     "name": "stdout",
     "output_type": "stream",
     "text": [
      "Epoch 0:  50%|█████     | 41/82 [00:00<00:00, 96.38it/s, loss=12, v_num=221]  \n",
      "Validating: 0it [00:00, ?it/s]\u001B[A\n",
      "Epoch 0: 100%|██████████| 82/82 [00:00<00:00, 166.75it/s, loss=12, v_num=221]\n",
      "Epoch 1:  50%|█████     | 41/82 [00:00<00:00, 102.41it/s, loss=11.7, v_num=221]\n",
      "Validating: 0it [00:00, ?it/s]\u001B[A\n",
      "Epoch 1: 100%|██████████| 82/82 [00:00<00:00, 176.49it/s, loss=11.7, v_num=221]\n",
      "Epoch 2:  50%|█████     | 41/82 [00:00<00:00, 110.52it/s, loss=11.5, v_num=221]\n",
      "Validating: 0it [00:00, ?it/s]\u001B[A\n",
      "Epoch 2: 100%|██████████| 82/82 [00:00<00:00, 192.74it/s, loss=11.5, v_num=221]\n",
      "Epoch 3:  50%|█████     | 41/82 [00:00<00:00, 93.70it/s, loss=11.4, v_num=221] \n",
      "Validating: 0it [00:00, ?it/s]\u001B[A\n",
      "Epoch 3: 100%|██████████| 82/82 [00:00<00:00, 163.12it/s, loss=11.4, v_num=221]\n",
      "Epoch 4:  50%|█████     | 41/82 [00:00<00:00, 102.15it/s, loss=11.8, v_num=221]\n",
      "Validating: 0it [00:00, ?it/s]\u001B[A\n",
      "Epoch 4: 100%|██████████| 82/82 [00:00<00:00, 176.09it/s, loss=11.8, v_num=221]\n",
      "Epoch 5:  50%|█████     | 41/82 [00:00<00:00, 109.68it/s, loss=11.9, v_num=221]\n",
      "Validating: 0it [00:00, ?it/s]\u001B[A\n",
      "Epoch 5: 100%|██████████| 82/82 [00:00<00:00, 192.78it/s, loss=11.9, v_num=221]\n",
      "Epoch 6:  50%|█████     | 41/82 [00:00<00:00, 100.89it/s, loss=12.8, v_num=221]\n",
      "Validating: 0it [00:00, ?it/s]\u001B[A\n",
      "Epoch 6: 100%|██████████| 82/82 [00:00<00:00, 174.29it/s, loss=12.8, v_num=221]\n",
      "Epoch 7:  50%|█████     | 41/82 [00:00<00:00, 107.64it/s, loss=12.8, v_num=221]\n",
      "Validating: 0it [00:00, ?it/s]\u001B[A\n",
      "Epoch 7: 100%|██████████| 82/82 [00:00<00:00, 185.63it/s, loss=12.8, v_num=221]\n",
      "Epoch 8:  50%|█████     | 41/82 [00:00<00:00, 102.52it/s, loss=13.9, v_num=221]\n",
      "Validating: 0it [00:00, ?it/s]\u001B[A\n",
      "Epoch 8: 100%|██████████| 82/82 [00:00<00:00, 175.49it/s, loss=13.9, v_num=221]\n",
      "Epoch 9:  50%|█████     | 41/82 [00:00<00:00, 105.05it/s, loss=14.2, v_num=221]\n",
      "Validating: 0it [00:00, ?it/s]\u001B[A\n",
      "Epoch 9: 100%|██████████| 82/82 [00:00<00:00, 180.99it/s, loss=14.2, v_num=221]\n",
      "Epoch 9: 100%|██████████| 82/82 [00:00<00:00, 177.89it/s, loss=14.2, v_num=221]\n"
     ]
    },
    {
     "name": "stderr",
     "output_type": "stream",
     "text": [
      "GPU available: True, used: False\n",
      "TPU available: False, using: 0 TPU cores\n",
      "IPU available: False, using: 0 IPUs\n"
     ]
    },
    {
     "name": "stdout",
     "output_type": "stream",
     "text": [
      "0.01\n"
     ]
    },
    {
     "name": "stderr",
     "output_type": "stream",
     "text": [
      "\n",
      "  | Name      | Type    | Params\n",
      "--------------------------------------\n",
      "0 | encoder   | Linear  | 28.8 K\n",
      "1 | act_1     | Sigmoid | 0     \n",
      "2 | decoder   | Linear  | 31.6 K\n",
      "3 | act_2     | Sigmoid | 0     \n",
      "4 | loss_func | MSELoss | 0     \n",
      "--------------------------------------\n",
      "60.4 K    Trainable params\n",
      "0         Non-trainable params\n",
      "60.4 K    Total params\n",
      "0.242     Total estimated model params size (MB)\n"
     ]
    },
    {
     "name": "stdout",
     "output_type": "stream",
     "text": [
      "Epoch 0:   0%|          | 0/82 [00:00<?, ?it/s]               "
     ]
    },
    {
     "name": "stderr",
     "output_type": "stream",
     "text": [
      "GPU available: True, used: False\n",
      "TPU available: False, using: 0 TPU cores\n",
      "IPU available: False, using: 0 IPUs\n"
     ]
    },
    {
     "name": "stdout",
     "output_type": "stream",
     "text": [
      "0.1\n"
     ]
    },
    {
     "name": "stderr",
     "output_type": "stream",
     "text": [
      "\n",
      "  | Name      | Type    | Params\n",
      "--------------------------------------\n",
      "0 | encoder   | Linear  | 28.8 K\n",
      "1 | act_1     | Sigmoid | 0     \n",
      "2 | decoder   | Linear  | 31.6 K\n",
      "3 | act_2     | Sigmoid | 0     \n",
      "4 | loss_func | MSELoss | 0     \n",
      "--------------------------------------\n",
      "60.4 K    Trainable params\n",
      "0         Non-trainable params\n",
      "60.4 K    Total params\n",
      "0.242     Total estimated model params size (MB)\n"
     ]
    },
    {
     "name": "stdout",
     "output_type": "stream",
     "text": [
      "Epoch 0:   0%|          | 0/82 [00:00<?, ?it/s]               "
     ]
    },
    {
     "name": "stderr",
     "output_type": "stream",
     "text": [
      "GPU available: True, used: False\n",
      "TPU available: False, using: 0 TPU cores\n",
      "IPU available: False, using: 0 IPUs\n",
      "\n",
      "  | Name      | Type    | Params\n",
      "--------------------------------------\n",
      "0 | encoder   | Linear  | 28.8 K\n",
      "1 | act_1     | Sigmoid | 0     \n",
      "2 | decoder   | Linear  | 31.6 K\n",
      "3 | act_2     | Sigmoid | 0     \n",
      "4 | loss_func | MSELoss | 0     \n",
      "--------------------------------------\n",
      "60.4 K    Trainable params\n",
      "0         Non-trainable params\n",
      "60.4 K    Total params\n",
      "0.242     Total estimated model params size (MB)\n"
     ]
    },
    {
     "name": "stdout",
     "output_type": "stream",
     "text": [
      "1\n",
      "Epoch 0:   0%|          | 0/82 [00:00<?, ?it/s]               "
     ]
    },
    {
     "name": "stderr",
     "output_type": "stream",
     "text": [
      "GPU available: True, used: False\n",
      "TPU available: False, using: 0 TPU cores\n",
      "IPU available: False, using: 0 IPUs\n"
     ]
    },
    {
     "name": "stdout",
     "output_type": "stream",
     "text": [
      "100\n"
     ]
    },
    {
     "name": "stderr",
     "output_type": "stream",
     "text": [
      "\n",
      "  | Name      | Type    | Params\n",
      "--------------------------------------\n",
      "0 | encoder   | Linear  | 28.8 K\n",
      "1 | act_1     | Sigmoid | 0     \n",
      "2 | decoder   | Linear  | 31.6 K\n",
      "3 | act_2     | Sigmoid | 0     \n",
      "4 | loss_func | MSELoss | 0     \n",
      "--------------------------------------\n",
      "60.4 K    Trainable params\n",
      "0         Non-trainable params\n",
      "60.4 K    Total params\n",
      "0.242     Total estimated model params size (MB)\n"
     ]
    },
    {
     "name": "stdout",
     "output_type": "stream",
     "text": [
      "Epoch 0:   0%|          | 0/82 [00:00<?, ?it/s]               "
     ]
    },
    {
     "name": "stderr",
     "output_type": "stream",
     "text": [
      "Exception ignored in: Exception ignored in: <function tqdm.__del__ at 0x7f292b46a3b0><function tqdm.__del__ at 0x7f292b46a3b0>\n",
      "\n",
      "Traceback (most recent call last):\n",
      "Traceback (most recent call last):\n",
      "  File \"/home/ido/anaconda3/envs/rs/lib/python3.7/site-packages/tqdm/std.py\", line 1147, in __del__\n",
      "  File \"/home/ido/anaconda3/envs/rs/lib/python3.7/site-packages/tqdm/std.py\", line 1147, in __del__\n",
      "        self.close()self.close()\n",
      "\n",
      "  File \"/home/ido/anaconda3/envs/rs/lib/python3.7/site-packages/tqdm/std.py\", line 1274, in close\n",
      "  File \"/home/ido/anaconda3/envs/rs/lib/python3.7/site-packages/tqdm/std.py\", line 1274, in close\n",
      "        self._decr_instances(self)self._decr_instances(self)\n",
      "\n",
      "  File \"/home/ido/anaconda3/envs/rs/lib/python3.7/site-packages/tqdm/std.py\", line 593, in _decr_instances\n",
      "  File \"/home/ido/anaconda3/envs/rs/lib/python3.7/site-packages/tqdm/std.py\", line 593, in _decr_instances\n",
      "    with cls._lock:    \n",
      "with cls._lock:\n",
      "  File \"/home/ido/anaconda3/envs/rs/lib/python3.7/site-packages/tqdm/std.py\", line 113, in __enter__\n",
      "  File \"/home/ido/anaconda3/envs/rs/lib/python3.7/site-packages/tqdm/std.py\", line 113, in __enter__\n",
      "        self.acquire()\n",
      "self.acquire()  File \"/home/ido/anaconda3/envs/rs/lib/python3.7/site-packages/tqdm/std.py\", line 106, in acquire\n",
      "\n",
      "    GPU available: True, used: False\n",
      "  File \"/home/ido/anaconda3/envs/rs/lib/python3.7/site-packages/tqdm/std.py\", line 106, in acquire\n",
      "    lock.acquire(*a, **k)TPU available: False, using: 0 TPU cores\n",
      "lock.acquire(*a, **k)\n",
      "\n",
      "IPU available: False, using: 0 IPUs\n",
      "KeyboardInterruptKeyboardInterrupt\n",
      "\n",
      "\n",
      "  | Name      | Type    | Params\n",
      "--------------------------------------\n",
      "0 | encoder   | Linear  | 230 K \n",
      "1 | act_1     | PReLU   | 1     \n",
      "2 | decoder   | Linear  | 232 K \n",
      "3 | act_2     | PReLU   | 1     \n",
      "4 | loss_func | MSELoss | 0     \n",
      "--------------------------------------\n",
      "463 K     Trainable params\n",
      "0         Non-trainable params\n",
      "463 K     Total params\n",
      "1.852     Total estimated model params size (MB)\n"
     ]
    },
    {
     "name": "stdout",
     "output_type": "stream",
     "text": [
      "0.01\n",
      "Epoch 0:  50%|█████     | 41/82 [00:00<00:00, 89.98it/s, loss=6.95, v_num=226]\n",
      "Validating: 0it [00:00, ?it/s]\u001B[A\n",
      "Epoch 0: 100%|██████████| 82/82 [00:00<00:00, 157.23it/s, loss=6.95, v_num=226]\n",
      "Epoch 1:  50%|█████     | 41/82 [00:00<00:00, 87.39it/s, loss=2.3, v_num=226]  \n",
      "Validating: 0it [00:00, ?it/s]\u001B[A\n",
      "Epoch 1: 100%|██████████| 82/82 [00:00<00:00, 157.04it/s, loss=2.3, v_num=226]\n",
      "Epoch 2:  50%|█████     | 41/82 [00:00<00:00, 97.22it/s, loss=1.68, v_num=226]\n",
      "Validating: 0it [00:00, ?it/s]\u001B[A\n",
      "Epoch 2: 100%|██████████| 82/82 [00:00<00:00, 168.86it/s, loss=1.68, v_num=226]\n",
      "Epoch 3:  50%|█████     | 41/82 [00:00<00:00, 92.55it/s, loss=1.48, v_num=226] \n",
      "Validating: 0it [00:00, ?it/s]\u001B[A\n",
      "Epoch 3: 100%|██████████| 82/82 [00:00<00:00, 164.79it/s, loss=1.48, v_num=226]\n",
      "Epoch 4:  50%|█████     | 41/82 [00:00<00:00, 96.86it/s, loss=1.5, v_num=226]  \n",
      "Validating: 0it [00:00, ?it/s]\u001B[A\n",
      "Epoch 4: 100%|██████████| 82/82 [00:00<00:00, 172.11it/s, loss=1.5, v_num=226]\n",
      "Epoch 5:  50%|█████     | 41/82 [00:00<00:00, 87.80it/s, loss=1.57, v_num=226]\n",
      "Validating: 0it [00:00, ?it/s]\u001B[A\n",
      "Epoch 5: 100%|██████████| 82/82 [00:00<00:00, 155.53it/s, loss=1.57, v_num=226]\n",
      "Epoch 6:  50%|█████     | 41/82 [00:00<00:00, 94.54it/s, loss=1.42, v_num=226] \n",
      "Validating: 0it [00:00, ?it/s]\u001B[A\n",
      "Epoch 6: 100%|██████████| 82/82 [00:00<00:00, 169.01it/s, loss=1.42, v_num=226]\n",
      "Epoch 7:  50%|█████     | 41/82 [00:00<00:00, 93.53it/s, loss=1.4, v_num=226]  \n",
      "Validating: 0it [00:00, ?it/s]\u001B[A\n",
      "Epoch 7: 100%|██████████| 82/82 [00:00<00:00, 167.69it/s, loss=1.4, v_num=226]\n",
      "Epoch 8:  32%|███▏      | 26/82 [00:00<00:00, 81.46it/s, loss=1.31, v_num=226]"
     ]
    },
    {
     "name": "stderr",
     "output_type": "stream",
     "text": [
      "Exception ignored in: Exception ignored in: <function tqdm.__del__ at 0x7f292b46a3b0>\n",
      "Traceback (most recent call last):\n",
      "  File \"/home/ido/anaconda3/envs/rs/lib/python3.7/site-packages/tqdm/std.py\", line 1147, in __del__\n",
      "    self.close()<function tqdm.__del__ at 0x7f292b46a3b0>\n",
      "Traceback (most recent call last):\n",
      "\n",
      "  File \"/home/ido/anaconda3/envs/rs/lib/python3.7/site-packages/tqdm/std.py\", line 1147, in __del__\n",
      "  File \"/home/ido/anaconda3/envs/rs/lib/python3.7/site-packages/tqdm/std.py\", line 1274, in close\n",
      "        self.close()self._decr_instances(self)\n",
      "\n",
      "  File \"/home/ido/anaconda3/envs/rs/lib/python3.7/site-packages/tqdm/std.py\", line 593, in _decr_instances\n",
      "  File \"/home/ido/anaconda3/envs/rs/lib/python3.7/site-packages/tqdm/std.py\", line 1274, in close\n",
      "    with cls._lock:\n",
      "    self._decr_instances(self)  File \"/home/ido/anaconda3/envs/rs/lib/python3.7/site-packages/tqdm/std.py\", line 113, in __enter__\n",
      "\n",
      "      File \"/home/ido/anaconda3/envs/rs/lib/python3.7/site-packages/tqdm/std.py\", line 593, in _decr_instances\n",
      "self.acquire()    \n",
      "with cls._lock:  File \"/home/ido/anaconda3/envs/rs/lib/python3.7/site-packages/tqdm/std.py\", line 106, in acquire\n",
      "\n",
      "  File \"/home/ido/anaconda3/envs/rs/lib/python3.7/site-packages/tqdm/std.py\", line 113, in __enter__\n",
      "        lock.acquire(*a, **k)\n",
      "self.acquire()KeyboardInterrupt\n",
      "\n",
      "  File \"/home/ido/anaconda3/envs/rs/lib/python3.7/site-packages/tqdm/std.py\", line 106, in acquire\n",
      "\n",
      "    GPU available: True, used: False\n",
      "lock.acquire(*a, **k)\n",
      "TPU available: False, using: 0 TPU cores\n",
      "KeyboardInterruptIPU available: False, using: 0 IPUs\n"
     ]
    },
    {
     "name": "stdout",
     "output_type": "stream",
     "text": [
      "0.1\n"
     ]
    },
    {
     "name": "stderr",
     "output_type": "stream",
     "text": [
      "\n",
      "  | Name      | Type    | Params\n",
      "--------------------------------------\n",
      "0 | encoder   | Linear  | 230 K \n",
      "1 | act_1     | PReLU   | 1     \n",
      "2 | decoder   | Linear  | 232 K \n",
      "3 | act_2     | PReLU   | 1     \n",
      "4 | loss_func | MSELoss | 0     \n",
      "--------------------------------------\n",
      "463 K     Trainable params\n",
      "0         Non-trainable params\n",
      "463 K     Total params\n",
      "1.852     Total estimated model params size (MB)\n"
     ]
    },
    {
     "name": "stdout",
     "output_type": "stream",
     "text": [
      "Epoch 0:  50%|█████     | 41/82 [00:00<00:00, 94.76it/s, loss=7.28, v_num=227]\n",
      "Validating: 0it [00:00, ?it/s]\u001B[A\n",
      "Epoch 0: 100%|██████████| 82/82 [00:00<00:00, 164.21it/s, loss=7.28, v_num=227]\n",
      "Epoch 1:   0%|          | 0/82 [00:00<?, ?it/s, loss=7.28, v_num=227]          "
     ]
    },
    {
     "name": "stderr",
     "output_type": "stream",
     "text": [
      "Exception ignored in: Exception ignored in: <function tqdm.__del__ at 0x7f292b46a3b0><function tqdm.__del__ at 0x7f292b46a3b0>\n",
      "Traceback (most recent call last):\n",
      "\n",
      "  File \"/home/ido/anaconda3/envs/rs/lib/python3.7/site-packages/tqdm/std.py\", line 1147, in __del__\n",
      "Traceback (most recent call last):\n",
      "  File \"/home/ido/anaconda3/envs/rs/lib/python3.7/site-packages/tqdm/std.py\", line 1147, in __del__\n",
      "    self.close()    \n",
      "self.close()  File \"/home/ido/anaconda3/envs/rs/lib/python3.7/site-packages/tqdm/std.py\", line 1274, in close\n",
      "\n",
      "Exception ignored in:       File \"/home/ido/anaconda3/envs/rs/lib/python3.7/site-packages/tqdm/std.py\", line 1274, in close\n",
      "self._decr_instances(self)<function _after_fork at 0x7f2a112ceef0>    \n",
      "  File \"/home/ido/anaconda3/envs/rs/lib/python3.7/site-packages/tqdm/std.py\", line 593, in _decr_instances\n",
      "self._decr_instances(self)\n",
      "\n",
      "      File \"/home/ido/anaconda3/envs/rs/lib/python3.7/site-packages/tqdm/std.py\", line 593, in _decr_instances\n",
      "with cls._lock:Traceback (most recent call last):\n",
      "  File \"/home/ido/anaconda3/envs/rs/lib/python3.7/threading.py\", line 1375, in _after_fork\n",
      "    \n",
      "  File \"/home/ido/anaconda3/envs/rs/lib/python3.7/site-packages/tqdm/std.py\", line 113, in __enter__\n",
      "    with cls._lock:self.acquire()\n",
      "  File \"/home/ido/anaconda3/envs/rs/lib/python3.7/site-packages/tqdm/std.py\", line 113, in __enter__\n",
      "\n",
      "      File \"/home/ido/anaconda3/envs/rs/lib/python3.7/site-packages/tqdm/std.py\", line 106, in acquire\n",
      "thread._reset_internal_locks(False)        self.acquire()\n",
      "lock.acquire(*a, **k)\n",
      "  File \"/home/ido/anaconda3/envs/rs/lib/python3.7/threading.py\", line 811, in _reset_internal_locks\n",
      "\n",
      "  File \"/home/ido/anaconda3/envs/rs/lib/python3.7/site-packages/tqdm/std.py\", line 106, in acquire\n",
      "KeyboardInterrupt        \n",
      "self._started._reset_internal_locks()lock.acquire(*a, **k)\n",
      "\n",
      "KeyboardInterrupt\n",
      "  File \"/home/ido/anaconda3/envs/rs/lib/python3.7/threading.py\", line 505, in _reset_internal_locks\n",
      "    GPU available: True, used: False\n",
      "TPU available: False, using: 0 TPU cores\n",
      "IPU available: False, using: 0 IPUs\n",
      "self._cond.__init__(Lock())\n",
      "  File \"/home/ido/anaconda3/envs/rs/lib/python3.7/threading.py\", line 235, in __init__\n",
      "    self._is_owned = lock._is_owned\n",
      "KeyboardInterrupt: \n",
      "\n",
      "  | Name      | Type    | Params\n",
      "--------------------------------------\n",
      "0 | encoder   | Linear  | 230 K \n",
      "1 | act_1     | PReLU   | 1     \n",
      "2 | decoder   | Linear  | 232 K \n",
      "3 | act_2     | PReLU   | 1     \n",
      "4 | loss_func | MSELoss | 0     \n",
      "--------------------------------------\n",
      "463 K     Trainable params\n",
      "0         Non-trainable params\n",
      "463 K     Total params\n",
      "1.852     Total estimated model params size (MB)\n"
     ]
    },
    {
     "name": "stdout",
     "output_type": "stream",
     "text": [
      "1\n",
      "Epoch 0:   4%|▎         | 3/82 [00:00<00:04, 18.58it/s, loss=13.3, v_num=228]"
     ]
    },
    {
     "name": "stderr",
     "output_type": "stream",
     "text": [
      "GPU available: True, used: False\n",
      "TPU available: False, using: 0 TPU cores\n",
      "IPU available: False, using: 0 IPUs\n",
      "\n",
      "  | Name      | Type    | Params\n",
      "--------------------------------------\n",
      "0 | encoder   | Linear  | 230 K \n",
      "1 | act_1     | PReLU   | 1     \n",
      "2 | decoder   | Linear  | 232 K \n",
      "3 | act_2     | PReLU   | 1     \n",
      "4 | loss_func | MSELoss | 0     \n",
      "--------------------------------------\n",
      "463 K     Trainable params\n",
      "0         Non-trainable params\n",
      "463 K     Total params\n",
      "1.852     Total estimated model params size (MB)\n"
     ]
    },
    {
     "name": "stdout",
     "output_type": "stream",
     "text": [
      "100\n",
      "Epoch 0:   0%|          | 0/82 [00:00<?, ?it/s]               "
     ]
    },
    {
     "name": "stderr",
     "output_type": "stream",
     "text": [
      "Exception ignored in: <function _releaseLock at 0x7f2a1115f320>\n",
      "Traceback (most recent call last):\n",
      "  File \"/home/ido/anaconda3/envs/rs/lib/python3.7/logging/__init__.py\", line 221, in _releaseLock\n",
      "    def _releaseLock():\n",
      "KeyboardInterrupt\n"
     ]
    },
    {
     "name": "stdout",
     "output_type": "stream",
     "text": [
      "Epoch 0:  50%|█████     | 41/82 [00:05<00:05,  7.54it/s, loss=12.8, v_num=229]\n",
      "Validating: 0it [00:00, ?it/s]\u001B[A\n",
      "Epoch 0: 100%|██████████| 82/82 [00:05<00:00, 14.94it/s, loss=12.8, v_num=229]\n",
      "Epoch 1:  50%|█████     | 41/82 [00:00<00:00, 95.25it/s, loss=14.4, v_num=229]\n",
      "Validating: 0it [00:00, ?it/s]\u001B[A\n",
      "Epoch 1: 100%|██████████| 82/82 [00:00<00:00, 164.77it/s, loss=14.4, v_num=229]\n",
      "Epoch 2:  50%|█████     | 41/82 [00:00<00:00, 80.67it/s, loss=14.5, v_num=229] \n",
      "Validating: 0it [00:00, ?it/s]\u001B[A\n",
      "Epoch 2: 100%|██████████| 82/82 [00:00<00:00, 142.64it/s, loss=14.5, v_num=229]\n",
      "Epoch 3:  50%|█████     | 41/82 [00:00<00:00, 91.03it/s, loss=15.1, v_num=229] \n",
      "Validating: 0it [00:00, ?it/s]\u001B[A\n",
      "Epoch 3: 100%|██████████| 82/82 [00:00<00:00, 160.30it/s, loss=15.1, v_num=229]\n",
      "Epoch 4:  50%|█████     | 41/82 [00:00<00:00, 93.67it/s, loss=15, v_num=229]   \n",
      "Validating: 0it [00:00, ?it/s]\u001B[A\n",
      "Epoch 4: 100%|██████████| 82/82 [00:00<00:00, 162.58it/s, loss=15, v_num=229]\n",
      "Epoch 5:  50%|█████     | 41/82 [00:00<00:00, 91.07it/s, loss=14.3, v_num=229]\n",
      "Validating: 0it [00:00, ?it/s]\u001B[A\n",
      "Epoch 5: 100%|██████████| 82/82 [00:00<00:00, 159.42it/s, loss=14.3, v_num=229]\n",
      "Epoch 6:  51%|█████     | 42/82 [00:00<00:00, 99.34it/s, loss=15.4, v_num=229] \n",
      "Validating: 0it [00:00, ?it/s]\u001B[A\n",
      "Epoch 6: 100%|██████████| 82/82 [00:00<00:00, 173.45it/s, loss=15.4, v_num=229]\n",
      "Epoch 7:  51%|█████     | 42/82 [00:00<00:00, 96.49it/s, loss=15.2, v_num=229] \n",
      "Validating: 0it [00:00, ?it/s]\u001B[A\n",
      "Epoch 7: 100%|██████████| 82/82 [00:00<00:00, 169.31it/s, loss=15.2, v_num=229]\n",
      "Epoch 8:  51%|█████     | 42/82 [00:00<00:00, 99.30it/s, loss=15, v_num=229]   \n",
      "Validating: 0it [00:00, ?it/s]\u001B[A\n",
      "Epoch 8: 100%|██████████| 82/82 [00:00<00:00, 169.04it/s, loss=15, v_num=229]\n",
      "Epoch 9:  51%|█████     | 42/82 [00:00<00:00, 95.45it/s, loss=15.1, v_num=229]\n",
      "Validating: 0it [00:00, ?it/s]\u001B[A\n",
      "Epoch 9: 100%|██████████| 82/82 [00:00<00:00, 163.76it/s, loss=15.1, v_num=229]\n",
      "Epoch 9: 100%|██████████| 82/82 [00:00<00:00, 158.49it/s, loss=15.1, v_num=229]\n"
     ]
    },
    {
     "name": "stderr",
     "output_type": "stream",
     "text": [
      "GPU available: True, used: False\n",
      "TPU available: False, using: 0 TPU cores\n",
      "IPU available: False, using: 0 IPUs\n"
     ]
    },
    {
     "name": "stdout",
     "output_type": "stream",
     "text": [
      "0.01\n"
     ]
    },
    {
     "name": "stderr",
     "output_type": "stream",
     "text": [
      "\n",
      "  | Name      | Type    | Params\n",
      "--------------------------------------\n",
      "0 | encoder   | Linear  | 230 K \n",
      "1 | act_1     | Sigmoid | 0     \n",
      "2 | decoder   | Linear  | 232 K \n",
      "3 | act_2     | Sigmoid | 0     \n",
      "4 | loss_func | MSELoss | 0     \n",
      "--------------------------------------\n",
      "463 K     Trainable params\n",
      "0         Non-trainable params\n",
      "463 K     Total params\n",
      "1.852     Total estimated model params size (MB)\n"
     ]
    },
    {
     "name": "stdout",
     "output_type": "stream",
     "text": [
      "Epoch 0:   0%|          | 0/82 [00:00<?, ?it/s]               "
     ]
    },
    {
     "name": "stderr",
     "output_type": "stream",
     "text": [
      "GPU available: True, used: False\n",
      "TPU available: False, using: 0 TPU cores\n",
      "IPU available: False, using: 0 IPUs\n",
      "\n",
      "  | Name      | Type    | Params\n",
      "--------------------------------------\n",
      "0 | encoder   | Linear  | 230 K \n",
      "1 | act_1     | Sigmoid | 0     \n",
      "2 | decoder   | Linear  | 232 K \n",
      "3 | act_2     | Sigmoid | 0     \n",
      "4 | loss_func | MSELoss | 0     \n",
      "--------------------------------------\n",
      "463 K     Trainable params\n",
      "0         Non-trainable params\n",
      "463 K     Total params\n",
      "1.852     Total estimated model params size (MB)\n"
     ]
    },
    {
     "name": "stdout",
     "output_type": "stream",
     "text": [
      "0.1\n",
      "Epoch 0:   0%|          | 0/82 [00:00<?, ?it/s]               "
     ]
    },
    {
     "name": "stderr",
     "output_type": "stream",
     "text": [
      "GPU available: True, used: False\n",
      "TPU available: False, using: 0 TPU cores\n",
      "IPU available: False, using: 0 IPUs\n"
     ]
    },
    {
     "name": "stdout",
     "output_type": "stream",
     "text": [
      "1\n"
     ]
    },
    {
     "name": "stderr",
     "output_type": "stream",
     "text": [
      "\n",
      "  | Name      | Type    | Params\n",
      "--------------------------------------\n",
      "0 | encoder   | Linear  | 230 K \n",
      "1 | act_1     | Sigmoid | 0     \n",
      "2 | decoder   | Linear  | 232 K \n",
      "3 | act_2     | Sigmoid | 0     \n",
      "4 | loss_func | MSELoss | 0     \n",
      "--------------------------------------\n",
      "463 K     Trainable params\n",
      "0         Non-trainable params\n",
      "463 K     Total params\n",
      "1.852     Total estimated model params size (MB)\n"
     ]
    },
    {
     "name": "stdout",
     "output_type": "stream",
     "text": [
      "Epoch 0:   0%|          | 0/82 [00:00<?, ?it/s]               "
     ]
    },
    {
     "name": "stderr",
     "output_type": "stream",
     "text": [
      "GPU available: True, used: False\n",
      "TPU available: False, using: 0 TPU cores\n",
      "IPU available: False, using: 0 IPUs\n"
     ]
    },
    {
     "name": "stdout",
     "output_type": "stream",
     "text": [
      "100\n"
     ]
    },
    {
     "name": "stderr",
     "output_type": "stream",
     "text": [
      "\n",
      "  | Name      | Type    | Params\n",
      "--------------------------------------\n",
      "0 | encoder   | Linear  | 230 K \n",
      "1 | act_1     | Sigmoid | 0     \n",
      "2 | decoder   | Linear  | 232 K \n",
      "3 | act_2     | Sigmoid | 0     \n",
      "4 | loss_func | MSELoss | 0     \n",
      "--------------------------------------\n",
      "463 K     Trainable params\n",
      "0         Non-trainable params\n",
      "463 K     Total params\n",
      "1.852     Total estimated model params size (MB)\n"
     ]
    },
    {
     "name": "stdout",
     "output_type": "stream",
     "text": [
      "Epoch 0:   0%|          | 0/82 [00:00<?, ?it/s]               "
     ]
    },
    {
     "name": "stderr",
     "output_type": "stream",
     "text": [
      "GPU available: True, used: False\n",
      "TPU available: False, using: 0 TPU cores\n",
      "IPU available: False, using: 0 IPUs\n"
     ]
    },
    {
     "name": "stdout",
     "output_type": "stream",
     "text": [
      "0.01\n"
     ]
    },
    {
     "name": "stderr",
     "output_type": "stream",
     "text": [
      "\n",
      "  | Name      | Type    | Params\n",
      "--------------------------------------\n",
      "0 | encoder   | Linear  | 863 K \n",
      "1 | act_1     | PReLU   | 1     \n",
      "2 | decoder   | Linear  | 865 K \n",
      "3 | act_2     | PReLU   | 1     \n",
      "4 | loss_func | MSELoss | 0     \n",
      "--------------------------------------\n",
      "1.7 M     Trainable params\n",
      "0         Non-trainable params\n",
      "1.7 M     Total params\n",
      "6.915     Total estimated model params size (MB)\n"
     ]
    },
    {
     "name": "stdout",
     "output_type": "stream",
     "text": [
      "Epoch 0:  50%|█████     | 41/82 [00:00<00:00, 56.62it/s, loss=5.56, v_num=234]\n",
      "Validating: 0it [00:00, ?it/s]\u001B[A\n",
      "Epoch 0: 100%|██████████| 82/82 [00:00<00:00, 101.42it/s, loss=5.56, v_num=234]\n",
      "Epoch 1:  50%|█████     | 41/82 [00:00<00:00, 57.70it/s, loss=2.54, v_num=234] \n",
      "Validating: 0it [00:00, ?it/s]\u001B[A\n",
      "Epoch 1: 100%|██████████| 82/82 [00:00<00:00, 103.85it/s, loss=2.54, v_num=234]\n",
      "Epoch 2:  50%|█████     | 41/82 [00:00<00:00, 59.58it/s, loss=2.08, v_num=234] \n",
      "Validating: 0it [00:00, ?it/s]\u001B[A\n",
      "Epoch 2: 100%|██████████| 82/82 [00:00<00:00, 108.66it/s, loss=2.08, v_num=234]\n",
      "Epoch 3:  50%|█████     | 41/82 [00:00<00:00, 55.94it/s, loss=1.82, v_num=234] \n",
      "Validating: 0it [00:00, ?it/s]\u001B[A\n",
      "Epoch 3: 100%|██████████| 82/82 [00:00<00:00, 100.98it/s, loss=1.82, v_num=234]\n",
      "Epoch 4:  50%|█████     | 41/82 [00:00<00:00, 56.90it/s, loss=1.76, v_num=234] \n",
      "Validating: 0it [00:00, ?it/s]\u001B[A\n",
      "Epoch 4: 100%|██████████| 82/82 [00:00<00:00, 102.49it/s, loss=1.76, v_num=234]\n",
      "Epoch 5:  50%|█████     | 41/82 [00:00<00:00, 57.25it/s, loss=1.64, v_num=234] \n",
      "Validating: 0it [00:00, ?it/s]\u001B[A\n",
      "Epoch 5: 100%|██████████| 82/82 [00:00<00:00, 102.19it/s, loss=1.64, v_num=234]\n",
      "Epoch 6:  50%|█████     | 41/82 [00:00<00:00, 58.81it/s, loss=1.55, v_num=234] \n",
      "Validating: 0it [00:00, ?it/s]\u001B[A\n",
      "Epoch 6: 100%|██████████| 82/82 [00:00<00:00, 107.24it/s, loss=1.55, v_num=234]\n",
      "Epoch 7:  50%|█████     | 41/82 [00:00<00:00, 54.55it/s, loss=1.57, v_num=234] \n",
      "Validating: 0it [00:00, ?it/s]\u001B[A\n",
      "Epoch 7: 100%|██████████| 82/82 [00:00<00:00, 99.36it/s, loss=1.57, v_num=234]\n",
      "Epoch 8:  50%|█████     | 41/82 [00:00<00:00, 54.30it/s, loss=1.51, v_num=234]\n",
      "Validating: 0it [00:00, ?it/s]\u001B[A\n",
      "Epoch 8: 100%|██████████| 82/82 [00:00<00:00, 98.47it/s, loss=1.51, v_num=234]\n",
      "Epoch 9:  50%|█████     | 41/82 [00:01<00:01, 38.55it/s, loss=1.47, v_num=234]\n",
      "Validating: 0it [00:00, ?it/s]\u001B[A\n",
      "Epoch 9: 100%|██████████| 82/82 [00:01<00:00, 71.41it/s, loss=1.47, v_num=234]\n",
      "Epoch 9: 100%|██████████| 82/82 [00:01<00:00, 68.34it/s, loss=1.47, v_num=234]\n"
     ]
    },
    {
     "name": "stderr",
     "output_type": "stream",
     "text": [
      "GPU available: True, used: False\n",
      "TPU available: False, using: 0 TPU cores\n",
      "IPU available: False, using: 0 IPUs\n",
      "\n",
      "  | Name      | Type    | Params\n",
      "--------------------------------------\n",
      "0 | encoder   | Linear  | 863 K \n",
      "1 | act_1     | PReLU   | 1     \n",
      "2 | decoder   | Linear  | 865 K \n",
      "3 | act_2     | PReLU   | 1     \n",
      "4 | loss_func | MSELoss | 0     \n",
      "--------------------------------------\n",
      "1.7 M     Trainable params\n",
      "0         Non-trainable params\n",
      "1.7 M     Total params\n",
      "6.915     Total estimated model params size (MB)\n"
     ]
    },
    {
     "name": "stdout",
     "output_type": "stream",
     "text": [
      "0.1\n",
      "Epoch 0:  50%|█████     | 41/82 [00:00<00:00, 56.00it/s, loss=5.24, v_num=235]\n",
      "Validating: 0it [00:00, ?it/s]\u001B[A\n",
      "Epoch 0: 100%|██████████| 82/82 [00:00<00:00, 100.08it/s, loss=5.24, v_num=235]\n",
      "Epoch 1:  50%|█████     | 41/82 [00:00<00:00, 53.58it/s, loss=2.82, v_num=235] \n",
      "Validating: 0it [00:00, ?it/s]\u001B[A\n",
      "Epoch 1: 100%|██████████| 82/82 [00:00<00:00, 95.67it/s, loss=2.82, v_num=235]\n",
      "Epoch 2:  50%|█████     | 41/82 [00:00<00:00, 54.40it/s, loss=1.98, v_num=235]\n",
      "Validating: 0it [00:00, ?it/s]\u001B[A\n",
      "Epoch 2: 100%|██████████| 82/82 [00:00<00:00, 98.60it/s, loss=1.98, v_num=235]\n",
      "Epoch 3:  50%|█████     | 41/82 [00:00<00:00, 55.29it/s, loss=1.96, v_num=235]\n",
      "Validating: 0it [00:00, ?it/s]\u001B[A\n",
      "Epoch 3: 100%|██████████| 82/82 [00:00<00:00, 98.86it/s, loss=1.96, v_num=235]\n",
      "Epoch 4:  50%|█████     | 41/82 [00:00<00:00, 51.97it/s, loss=1.98, v_num=235]\n",
      "Validating: 0it [00:00, ?it/s]\u001B[A\n",
      "Epoch 4: 100%|██████████| 82/82 [00:00<00:00, 94.14it/s, loss=1.98, v_num=235]\n",
      "Epoch 5:  50%|█████     | 41/82 [00:00<00:00, 54.47it/s, loss=1.97, v_num=235]\n",
      "Validating: 0it [00:00, ?it/s]\u001B[A\n",
      "Epoch 5: 100%|██████████| 82/82 [00:00<00:00, 97.72it/s, loss=1.97, v_num=235]\n",
      "Epoch 6:  50%|█████     | 41/82 [00:00<00:00, 56.28it/s, loss=1.86, v_num=235]\n",
      "Validating: 0it [00:00, ?it/s]\u001B[A\n",
      "Epoch 6: 100%|██████████| 82/82 [00:00<00:00, 99.29it/s, loss=1.86, v_num=235]\n",
      "Epoch 7:  50%|█████     | 41/82 [00:00<00:00, 52.84it/s, loss=1.8, v_num=235] \n",
      "Validating: 0it [00:00, ?it/s]\u001B[A\n",
      "Epoch 7: 100%|██████████| 82/82 [00:00<00:00, 93.85it/s, loss=1.8, v_num=235]\n",
      "Epoch 8:  50%|█████     | 41/82 [00:00<00:00, 52.18it/s, loss=1.83, v_num=235]\n",
      "Validating: 0it [00:00, ?it/s]\u001B[A\n",
      "Epoch 8: 100%|██████████| 82/82 [00:00<00:00, 92.63it/s, loss=1.83, v_num=235]\n",
      "Epoch 9:  50%|█████     | 41/82 [00:00<00:00, 49.91it/s, loss=1.72, v_num=235]\n",
      "Validating: 0it [00:00, ?it/s]\u001B[A\n",
      "Epoch 9: 100%|██████████| 82/82 [00:00<00:00, 89.97it/s, loss=1.72, v_num=235]\n",
      "Epoch 9: 100%|██████████| 82/82 [00:00<00:00, 85.57it/s, loss=1.72, v_num=235]\n"
     ]
    },
    {
     "name": "stderr",
     "output_type": "stream",
     "text": [
      "GPU available: True, used: False\n",
      "TPU available: False, using: 0 TPU cores\n",
      "IPU available: False, using: 0 IPUs\n",
      "\n",
      "  | Name      | Type    | Params\n",
      "--------------------------------------\n",
      "0 | encoder   | Linear  | 863 K \n",
      "1 | act_1     | PReLU   | 1     \n",
      "2 | decoder   | Linear  | 865 K \n",
      "3 | act_2     | PReLU   | 1     \n",
      "4 | loss_func | MSELoss | 0     \n",
      "--------------------------------------\n",
      "1.7 M     Trainable params\n",
      "0         Non-trainable params\n",
      "1.7 M     Total params\n",
      "6.915     Total estimated model params size (MB)\n"
     ]
    },
    {
     "name": "stdout",
     "output_type": "stream",
     "text": [
      "1\n",
      "Epoch 0:  50%|█████     | 41/82 [00:00<00:00, 54.44it/s, loss=5.06, v_num=236]\n",
      "Validating: 0it [00:00, ?it/s]\u001B[A\n",
      "Epoch 0: 100%|██████████| 82/82 [00:00<00:00, 96.04it/s, loss=5.06, v_num=236]\n",
      "Epoch 1:  50%|█████     | 41/82 [00:00<00:00, 52.27it/s, loss=2.55, v_num=236]\n",
      "Validating: 0it [00:00, ?it/s]\u001B[A\n",
      "Epoch 1: 100%|██████████| 82/82 [00:00<00:00, 94.02it/s, loss=2.55, v_num=236]\n",
      "Epoch 2:  50%|█████     | 41/82 [00:00<00:00, 55.83it/s, loss=2.38, v_num=236]\n",
      "Validating: 0it [00:00, ?it/s]\u001B[A\n",
      "Epoch 2: 100%|██████████| 82/82 [00:00<00:00, 99.11it/s, loss=2.38, v_num=236]\n",
      "Epoch 3:  50%|█████     | 41/82 [00:00<00:00, 57.35it/s, loss=2.13, v_num=236]\n",
      "Validating: 0it [00:00, ?it/s]\u001B[A\n",
      "Epoch 3: 100%|██████████| 82/82 [00:00<00:00, 103.77it/s, loss=2.13, v_num=236]\n",
      "Epoch 4:  50%|█████     | 41/82 [00:00<00:00, 57.60it/s, loss=2.27, v_num=236] \n",
      "Validating: 0it [00:00, ?it/s]\u001B[A\n",
      "Epoch 4: 100%|██████████| 82/82 [00:00<00:00, 103.65it/s, loss=2.27, v_num=236]\n",
      "Epoch 5:  50%|█████     | 41/82 [00:00<00:00, 54.15it/s, loss=1.94, v_num=236] \n",
      "Validating: 0it [00:00, ?it/s]\u001B[A\n",
      "Epoch 5: 100%|██████████| 82/82 [00:00<00:00, 96.98it/s, loss=1.94, v_num=236]\n",
      "Epoch 6:  50%|█████     | 41/82 [00:00<00:00, 56.46it/s, loss=1.88, v_num=236]\n",
      "Validating: 0it [00:00, ?it/s]\u001B[A\n",
      "Epoch 6: 100%|██████████| 82/82 [00:00<00:00, 102.18it/s, loss=1.88, v_num=236]\n",
      "Epoch 7:  50%|█████     | 41/82 [00:00<00:00, 52.88it/s, loss=1.84, v_num=236] \n",
      "Validating: 0it [00:00, ?it/s]\u001B[A\n",
      "Epoch 7: 100%|██████████| 82/82 [00:00<00:00, 94.87it/s, loss=1.84, v_num=236]\n",
      "Epoch 8:  50%|█████     | 41/82 [00:00<00:00, 54.76it/s, loss=1.59, v_num=236]\n",
      "Validating: 0it [00:00, ?it/s]\u001B[A\n",
      "Epoch 8: 100%|██████████| 82/82 [00:00<00:00, 97.27it/s, loss=1.59, v_num=236]\n",
      "Epoch 9:  50%|█████     | 41/82 [00:00<00:00, 52.84it/s, loss=1.49, v_num=236]\n",
      "Validating: 0it [00:00, ?it/s]\u001B[A\n",
      "Epoch 9: 100%|██████████| 82/82 [00:00<00:00, 94.21it/s, loss=1.49, v_num=236]\n",
      "Epoch 9: 100%|██████████| 82/82 [00:00<00:00, 90.20it/s, loss=1.49, v_num=236]\n"
     ]
    },
    {
     "name": "stderr",
     "output_type": "stream",
     "text": [
      "GPU available: True, used: False\n",
      "TPU available: False, using: 0 TPU cores\n",
      "IPU available: False, using: 0 IPUs\n"
     ]
    },
    {
     "name": "stdout",
     "output_type": "stream",
     "text": [
      "100\n"
     ]
    },
    {
     "name": "stderr",
     "output_type": "stream",
     "text": [
      "\n",
      "  | Name      | Type    | Params\n",
      "--------------------------------------\n",
      "0 | encoder   | Linear  | 863 K \n",
      "1 | act_1     | PReLU   | 1     \n",
      "2 | decoder   | Linear  | 865 K \n",
      "3 | act_2     | PReLU   | 1     \n",
      "4 | loss_func | MSELoss | 0     \n",
      "--------------------------------------\n",
      "1.7 M     Trainable params\n",
      "0         Non-trainable params\n",
      "1.7 M     Total params\n",
      "6.915     Total estimated model params size (MB)\n"
     ]
    },
    {
     "name": "stdout",
     "output_type": "stream",
     "text": [
      "Epoch 0:  50%|█████     | 41/82 [00:00<00:00, 49.41it/s, loss=14.1, v_num=237]\n",
      "Validating: 0it [00:00, ?it/s]\u001B[A\n",
      "Epoch 0: 100%|██████████| 82/82 [00:00<00:00, 89.80it/s, loss=14.1, v_num=237]\n",
      "Epoch 1:  50%|█████     | 41/82 [00:00<00:00, 52.91it/s, loss=14.6, v_num=237]\n",
      "Validating: 0it [00:00, ?it/s]\u001B[A\n",
      "Epoch 1: 100%|██████████| 82/82 [00:00<00:00, 95.76it/s, loss=14.6, v_num=237]\n",
      "Epoch 2:  50%|█████     | 41/82 [00:00<00:00, 47.40it/s, loss=14.7, v_num=237]\n",
      "Validating: 0it [00:00, ?it/s]\u001B[A\n",
      "Epoch 2: 100%|██████████| 82/82 [00:00<00:00, 85.81it/s, loss=14.7, v_num=237]\n",
      "Epoch 3:  50%|█████     | 41/82 [00:00<00:00, 54.11it/s, loss=15.3, v_num=237]\n",
      "Validating: 0it [00:00, ?it/s]\u001B[A\n",
      "Epoch 3: 100%|██████████| 82/82 [00:00<00:00, 98.51it/s, loss=15.3, v_num=237]\n",
      "Epoch 4:  50%|█████     | 41/82 [00:00<00:00, 54.06it/s, loss=14.8, v_num=237]\n",
      "Validating: 0it [00:00, ?it/s]\u001B[A\n",
      "Epoch 4: 100%|██████████| 82/82 [00:00<00:00, 96.86it/s, loss=14.8, v_num=237]\n",
      "Epoch 5:  50%|█████     | 41/82 [00:00<00:00, 50.17it/s, loss=15.3, v_num=237]\n",
      "Validating: 0it [00:00, ?it/s]\u001B[A\n",
      "Epoch 5: 100%|██████████| 82/82 [00:00<00:00, 90.01it/s, loss=15.3, v_num=237]\n",
      "Epoch 6:  50%|█████     | 41/82 [00:00<00:00, 53.87it/s, loss=15.2, v_num=237]\n",
      "Validating: 0it [00:00, ?it/s]\u001B[A\n",
      "Epoch 6: 100%|██████████| 82/82 [00:00<00:00, 96.12it/s, loss=15.2, v_num=237]\n",
      "Epoch 7:  50%|█████     | 41/82 [00:00<00:00, 50.22it/s, loss=14.8, v_num=237]\n",
      "Validating: 0it [00:00, ?it/s]\u001B[A\n",
      "Epoch 7: 100%|██████████| 82/82 [00:00<00:00, 89.71it/s, loss=14.8, v_num=237]\n",
      "Epoch 8:  50%|█████     | 41/82 [00:00<00:00, 50.84it/s, loss=15, v_num=237]  \n",
      "Validating: 0it [00:00, ?it/s]\u001B[A\n",
      "Epoch 8: 100%|██████████| 82/82 [00:00<00:00, 91.27it/s, loss=15, v_num=237]\n",
      "Epoch 9:  50%|█████     | 41/82 [00:00<00:00, 56.97it/s, loss=15.4, v_num=237]\n",
      "Validating: 0it [00:00, ?it/s]\u001B[A\n",
      "Epoch 9: 100%|██████████| 82/82 [00:00<00:00, 102.94it/s, loss=15.4, v_num=237]\n",
      "Epoch 9: 100%|██████████| 82/82 [00:00<00:00, 98.49it/s, loss=15.4, v_num=237] \n"
     ]
    },
    {
     "name": "stderr",
     "output_type": "stream",
     "text": [
      "GPU available: True, used: False\n",
      "TPU available: False, using: 0 TPU cores\n",
      "IPU available: False, using: 0 IPUs\n",
      "\n",
      "  | Name      | Type    | Params\n",
      "--------------------------------------\n",
      "0 | encoder   | Linear  | 863 K \n",
      "1 | act_1     | Sigmoid | 0     \n",
      "2 | decoder   | Linear  | 865 K \n",
      "3 | act_2     | Sigmoid | 0     \n",
      "4 | loss_func | MSELoss | 0     \n",
      "--------------------------------------\n",
      "1.7 M     Trainable params\n",
      "0         Non-trainable params\n",
      "1.7 M     Total params\n",
      "6.915     Total estimated model params size (MB)\n"
     ]
    },
    {
     "name": "stdout",
     "output_type": "stream",
     "text": [
      "0.01\n",
      "Epoch 0:   0%|          | 0/82 [00:00<?, ?it/s]               "
     ]
    },
    {
     "name": "stderr",
     "output_type": "stream",
     "text": [
      "GPU available: True, used: False\n",
      "TPU available: False, using: 0 TPU cores\n",
      "IPU available: False, using: 0 IPUs\n"
     ]
    },
    {
     "name": "stdout",
     "output_type": "stream",
     "text": [
      "0.1\n"
     ]
    },
    {
     "name": "stderr",
     "output_type": "stream",
     "text": [
      "\n",
      "  | Name      | Type    | Params\n",
      "--------------------------------------\n",
      "0 | encoder   | Linear  | 863 K \n",
      "1 | act_1     | Sigmoid | 0     \n",
      "2 | decoder   | Linear  | 865 K \n",
      "3 | act_2     | Sigmoid | 0     \n",
      "4 | loss_func | MSELoss | 0     \n",
      "--------------------------------------\n",
      "1.7 M     Trainable params\n",
      "0         Non-trainable params\n",
      "1.7 M     Total params\n",
      "6.915     Total estimated model params size (MB)\n"
     ]
    },
    {
     "name": "stdout",
     "output_type": "stream",
     "text": [
      "Epoch 0:   0%|          | 0/82 [00:00<?, ?it/s]               "
     ]
    },
    {
     "name": "stderr",
     "output_type": "stream",
     "text": [
      "GPU available: True, used: False\n",
      "TPU available: False, using: 0 TPU cores\n",
      "IPU available: False, using: 0 IPUs\n"
     ]
    },
    {
     "name": "stdout",
     "output_type": "stream",
     "text": [
      "1\n"
     ]
    },
    {
     "name": "stderr",
     "output_type": "stream",
     "text": [
      "\n",
      "  | Name      | Type    | Params\n",
      "--------------------------------------\n",
      "0 | encoder   | Linear  | 863 K \n",
      "1 | act_1     | Sigmoid | 0     \n",
      "2 | decoder   | Linear  | 865 K \n",
      "3 | act_2     | Sigmoid | 0     \n",
      "4 | loss_func | MSELoss | 0     \n",
      "--------------------------------------\n",
      "1.7 M     Trainable params\n",
      "0         Non-trainable params\n",
      "1.7 M     Total params\n",
      "6.915     Total estimated model params size (MB)\n"
     ]
    },
    {
     "name": "stdout",
     "output_type": "stream",
     "text": [
      "Epoch 0:   0%|          | 0/82 [00:00<?, ?it/s]               "
     ]
    },
    {
     "name": "stderr",
     "output_type": "stream",
     "text": [
      "GPU available: True, used: False\n",
      "TPU available: False, using: 0 TPU cores\n",
      "IPU available: False, using: 0 IPUs\n"
     ]
    },
    {
     "name": "stdout",
     "output_type": "stream",
     "text": [
      "100\n"
     ]
    },
    {
     "name": "stderr",
     "output_type": "stream",
     "text": [
      "\n",
      "  | Name      | Type    | Params\n",
      "--------------------------------------\n",
      "0 | encoder   | Linear  | 863 K \n",
      "1 | act_1     | Sigmoid | 0     \n",
      "2 | decoder   | Linear  | 865 K \n",
      "3 | act_2     | Sigmoid | 0     \n",
      "4 | loss_func | MSELoss | 0     \n",
      "--------------------------------------\n",
      "1.7 M     Trainable params\n",
      "0         Non-trainable params\n",
      "1.7 M     Total params\n",
      "6.915     Total estimated model params size (MB)\n"
     ]
    },
    {
     "name": "stdout",
     "output_type": "stream",
     "text": [
      "Epoch 0:   0%|          | 0/82 [00:00<?, ?it/s]               "
     ]
    },
    {
     "name": "stderr",
     "output_type": "stream",
     "text": [
      "GPU available: True, used: False\n",
      "TPU available: False, using: 0 TPU cores\n",
      "IPU available: False, using: 0 IPUs\n",
      "\n",
      "  | Name      | Type    | Params\n",
      "--------------------------------------\n",
      "0 | encoder   | Linear  | 28.8 K\n",
      "1 | act_1     | PReLU   | 1     \n",
      "2 | decoder   | Linear  | 31.6 K\n",
      "3 | act_2     | PReLU   | 1     \n",
      "4 | loss_func | MSELoss | 0     \n",
      "--------------------------------------\n",
      "60.4 K    Trainable params\n",
      "0         Non-trainable params\n",
      "60.4 K    Total params\n",
      "0.242     Total estimated model params size (MB)\n"
     ]
    },
    {
     "name": "stdout",
     "output_type": "stream",
     "text": [
      "0.01\n",
      "Epoch 0:  50%|█████     | 41/82 [00:00<00:00, 94.44it/s, loss=9.46, v_num=242]\n",
      "Validating: 0it [00:00, ?it/s]\u001B[A\n",
      "Epoch 0: 100%|██████████| 82/82 [00:00<00:00, 161.89it/s, loss=9.46, v_num=242]\n",
      "Epoch 1:  50%|█████     | 41/82 [00:00<00:00, 87.70it/s, loss=4.41, v_num=242] \n",
      "Validating: 0it [00:00, ?it/s]\u001B[A\n",
      "Epoch 1: 100%|██████████| 82/82 [00:00<00:00, 154.99it/s, loss=4.41, v_num=242]\n",
      "Epoch 2:  50%|█████     | 41/82 [00:00<00:00, 95.98it/s, loss=2.75, v_num=242] \n",
      "Validating: 0it [00:00, ?it/s]\u001B[A\n",
      "Epoch 2: 100%|██████████| 82/82 [00:00<00:00, 166.77it/s, loss=2.75, v_num=242]\n",
      "Epoch 3:  50%|█████     | 41/82 [00:00<00:00, 95.42it/s, loss=2.29, v_num=242] \n",
      "Validating: 0it [00:00, ?it/s]\u001B[A\n",
      "Epoch 3: 100%|██████████| 82/82 [00:00<00:00, 163.00it/s, loss=2.29, v_num=242]\n",
      "Epoch 4:  50%|█████     | 41/82 [00:00<00:00, 96.84it/s, loss=2.06, v_num=242] \n",
      "Validating: 0it [00:00, ?it/s]\u001B[A\n",
      "Epoch 4: 100%|██████████| 82/82 [00:00<00:00, 168.44it/s, loss=2.06, v_num=242]\n",
      "Epoch 5:  50%|█████     | 41/82 [00:00<00:00, 86.85it/s, loss=1.98, v_num=242] \n",
      "Validating: 0it [00:00, ?it/s]\u001B[A\n",
      "Epoch 5: 100%|██████████| 82/82 [00:00<00:00, 152.58it/s, loss=1.98, v_num=242]\n",
      "Epoch 6:  50%|█████     | 41/82 [00:00<00:00, 98.05it/s, loss=2.05, v_num=242] \n",
      "Validating: 0it [00:00, ?it/s]\u001B[A\n",
      "Epoch 6: 100%|██████████| 82/82 [00:00<00:00, 169.56it/s, loss=2.05, v_num=242]\n",
      "Epoch 7:  50%|█████     | 41/82 [00:00<00:00, 92.66it/s, loss=2.04, v_num=242] \n",
      "Validating: 0it [00:00, ?it/s]\u001B[A\n",
      "Epoch 7: 100%|██████████| 82/82 [00:00<00:00, 163.53it/s, loss=2.04, v_num=242]\n",
      "Epoch 8:  50%|█████     | 41/82 [00:00<00:00, 97.03it/s, loss=1.95, v_num=242] \n",
      "Validating: 0it [00:00, ?it/s]\u001B[A\n",
      "Epoch 8: 100%|██████████| 82/82 [00:00<00:00, 172.51it/s, loss=1.95, v_num=242]\n",
      "Epoch 9:  50%|█████     | 41/82 [00:00<00:00, 87.98it/s, loss=2.07, v_num=242] \n",
      "Validating: 0it [00:00, ?it/s]\u001B[A\n",
      "Epoch 9: 100%|██████████| 82/82 [00:00<00:00, 155.36it/s, loss=2.07, v_num=242]\n",
      "Epoch 9: 100%|██████████| 82/82 [00:00<00:00, 153.01it/s, loss=2.07, v_num=242]\n"
     ]
    },
    {
     "name": "stderr",
     "output_type": "stream",
     "text": [
      "GPU available: True, used: False\n",
      "TPU available: False, using: 0 TPU cores\n",
      "IPU available: False, using: 0 IPUs\n"
     ]
    },
    {
     "name": "stdout",
     "output_type": "stream",
     "text": [
      "0.1\n"
     ]
    },
    {
     "name": "stderr",
     "output_type": "stream",
     "text": [
      "\n",
      "  | Name      | Type    | Params\n",
      "--------------------------------------\n",
      "0 | encoder   | Linear  | 28.8 K\n",
      "1 | act_1     | PReLU   | 1     \n",
      "2 | decoder   | Linear  | 31.6 K\n",
      "3 | act_2     | PReLU   | 1     \n",
      "4 | loss_func | MSELoss | 0     \n",
      "--------------------------------------\n",
      "60.4 K    Trainable params\n",
      "0         Non-trainable params\n",
      "60.4 K    Total params\n",
      "0.242     Total estimated model params size (MB)\n"
     ]
    },
    {
     "name": "stdout",
     "output_type": "stream",
     "text": [
      "Epoch 0:  50%|█████     | 41/82 [00:00<00:00, 91.37it/s, loss=10.5, v_num=243]\n",
      "Validating: 0it [00:00, ?it/s]\u001B[A\n",
      "Epoch 0: 100%|██████████| 82/82 [00:00<00:00, 158.20it/s, loss=10.5, v_num=243]\n",
      "Epoch 1:  50%|█████     | 41/82 [00:00<00:00, 94.74it/s, loss=4.43, v_num=243] \n",
      "Validating: 0it [00:00, ?it/s]\u001B[A\n",
      "Epoch 1: 100%|██████████| 82/82 [00:00<00:00, 164.44it/s, loss=4.43, v_num=243]\n",
      "Epoch 2:  50%|█████     | 41/82 [00:00<00:00, 88.54it/s, loss=2.97, v_num=243] \n",
      "Validating: 0it [00:00, ?it/s]\u001B[A\n",
      "Epoch 2: 100%|██████████| 82/82 [00:00<00:00, 155.06it/s, loss=2.97, v_num=243]\n",
      "Epoch 3:  50%|█████     | 41/82 [00:00<00:00, 94.96it/s, loss=2.7, v_num=243]  \n",
      "Validating: 0it [00:00, ?it/s]\u001B[A\n",
      "Epoch 3: 100%|██████████| 82/82 [00:00<00:00, 167.27it/s, loss=2.7, v_num=243]\n",
      "Epoch 4:  50%|█████     | 41/82 [00:00<00:00, 97.56it/s, loss=2.54, v_num=243] \n",
      "Validating: 0it [00:00, ?it/s]\u001B[A\n",
      "Epoch 4: 100%|██████████| 82/82 [00:00<00:00, 171.75it/s, loss=2.54, v_num=243]\n",
      "Epoch 5:  50%|█████     | 41/82 [00:00<00:00, 99.56it/s, loss=2.31, v_num=243] \n",
      "Validating: 0it [00:00, ?it/s]\u001B[A\n",
      "Epoch 5: 100%|██████████| 82/82 [00:00<00:00, 173.39it/s, loss=2.31, v_num=243]\n",
      "Epoch 6:  50%|█████     | 41/82 [00:00<00:00, 97.28it/s, loss=2.38, v_num=243] \n",
      "Validating: 0it [00:00, ?it/s]\u001B[A\n",
      "Epoch 6: 100%|██████████| 82/82 [00:00<00:00, 171.74it/s, loss=2.38, v_num=243]\n",
      "Epoch 7:  50%|█████     | 41/82 [00:00<00:00, 96.88it/s, loss=2.34, v_num=243] \n",
      "Validating: 0it [00:00, ?it/s]\u001B[A\n",
      "Epoch 7: 100%|██████████| 82/82 [00:00<00:00, 172.11it/s, loss=2.34, v_num=243]\n",
      "Epoch 8:  50%|█████     | 41/82 [00:00<00:00, 98.26it/s, loss=2.38, v_num=243] \n",
      "Validating: 0it [00:00, ?it/s]\u001B[A\n",
      "Epoch 8: 100%|██████████| 82/82 [00:00<00:00, 172.52it/s, loss=2.38, v_num=243]\n",
      "Epoch 9:  50%|█████     | 41/82 [00:00<00:00, 98.81it/s, loss=2.34, v_num=243] \n",
      "Validating: 0it [00:00, ?it/s]\u001B[A\n",
      "Epoch 9: 100%|██████████| 82/82 [00:00<00:00, 171.17it/s, loss=2.34, v_num=243]\n",
      "Epoch 9: 100%|██████████| 82/82 [00:00<00:00, 168.68it/s, loss=2.34, v_num=243]\n"
     ]
    },
    {
     "name": "stderr",
     "output_type": "stream",
     "text": [
      "GPU available: True, used: False\n",
      "TPU available: False, using: 0 TPU cores\n",
      "IPU available: False, using: 0 IPUs\n"
     ]
    },
    {
     "name": "stdout",
     "output_type": "stream",
     "text": [
      "1\n"
     ]
    },
    {
     "name": "stderr",
     "output_type": "stream",
     "text": [
      "\n",
      "  | Name      | Type    | Params\n",
      "--------------------------------------\n",
      "0 | encoder   | Linear  | 28.8 K\n",
      "1 | act_1     | PReLU   | 1     \n",
      "2 | decoder   | Linear  | 31.6 K\n",
      "3 | act_2     | PReLU   | 1     \n",
      "4 | loss_func | MSELoss | 0     \n",
      "--------------------------------------\n",
      "60.4 K    Trainable params\n",
      "0         Non-trainable params\n",
      "60.4 K    Total params\n",
      "0.242     Total estimated model params size (MB)\n"
     ]
    },
    {
     "name": "stdout",
     "output_type": "stream",
     "text": [
      "Epoch 0:  50%|█████     | 41/82 [00:00<00:00, 88.17it/s, loss=11.3, v_num=244]\n",
      "Validating: 0it [00:00, ?it/s]\u001B[A\n",
      "Epoch 0: 100%|██████████| 82/82 [00:00<00:00, 155.17it/s, loss=11.3, v_num=244]\n",
      "Epoch 1:  50%|█████     | 41/82 [00:00<00:00, 94.49it/s, loss=7.74, v_num=244] \n",
      "Validating: 0it [00:00, ?it/s]\u001B[A\n",
      "Epoch 1: 100%|██████████| 82/82 [00:00<00:00, 169.66it/s, loss=7.74, v_num=244]\n",
      "Epoch 2:  50%|█████     | 41/82 [00:00<00:00, 103.09it/s, loss=4.43, v_num=244]\n",
      "Validating: 0it [00:00, ?it/s]\u001B[A\n",
      "Epoch 2: 100%|██████████| 82/82 [00:00<00:00, 182.69it/s, loss=4.43, v_num=244]\n",
      "Epoch 3:  50%|█████     | 41/82 [00:00<00:00, 97.78it/s, loss=4.18, v_num=244] \n",
      "Validating: 0it [00:00, ?it/s]\u001B[A\n",
      "Epoch 3: 100%|██████████| 82/82 [00:00<00:00, 170.46it/s, loss=4.18, v_num=244]\n",
      "Epoch 4:  50%|█████     | 41/82 [00:00<00:00, 107.55it/s, loss=4.01, v_num=244]\n",
      "Validating: 0it [00:00, ?it/s]\u001B[A\n",
      "Epoch 4: 100%|██████████| 82/82 [00:00<00:00, 189.25it/s, loss=4.01, v_num=244]\n",
      "Epoch 5:  50%|█████     | 41/82 [00:00<00:00, 101.76it/s, loss=4.02, v_num=244]\n",
      "Validating: 0it [00:00, ?it/s]\u001B[A\n",
      "Epoch 5: 100%|██████████| 82/82 [00:00<00:00, 175.94it/s, loss=4.02, v_num=244]\n",
      "Epoch 6:  50%|█████     | 41/82 [00:00<00:00, 91.36it/s, loss=3.45, v_num=244] \n",
      "Validating: 0it [00:00, ?it/s]\u001B[A\n",
      "Epoch 6: 100%|██████████| 82/82 [00:00<00:00, 160.16it/s, loss=3.45, v_num=244]\n",
      "Epoch 7:  50%|█████     | 41/82 [00:00<00:00, 95.18it/s, loss=3.48, v_num=244] \n",
      "Validating: 0it [00:00, ?it/s]\u001B[A\n",
      "Epoch 7: 100%|██████████| 82/82 [00:00<00:00, 164.66it/s, loss=3.48, v_num=244]\n",
      "Epoch 8:  50%|█████     | 41/82 [00:00<00:00, 101.43it/s, loss=3.12, v_num=244]\n",
      "Validating: 0it [00:00, ?it/s]\u001B[A\n",
      "Epoch 8: 100%|██████████| 82/82 [00:00<00:00, 176.64it/s, loss=3.12, v_num=244]\n",
      "Epoch 9:  50%|█████     | 41/82 [00:00<00:00, 91.79it/s, loss=2.92, v_num=244] \n",
      "Validating: 0it [00:00, ?it/s]\u001B[A\n",
      "Epoch 9: 100%|██████████| 82/82 [00:00<00:00, 161.07it/s, loss=2.92, v_num=244]\n",
      "Epoch 9: 100%|██████████| 82/82 [00:00<00:00, 159.15it/s, loss=2.92, v_num=244]"
     ]
    },
    {
     "name": "stderr",
     "output_type": "stream",
     "text": [
      "GPU available: True, used: False\n",
      "TPU available: False, using: 0 TPU cores\n",
      "IPU available: False, using: 0 IPUs\n"
     ]
    },
    {
     "name": "stdout",
     "output_type": "stream",
     "text": [
      "\n",
      "100\n"
     ]
    },
    {
     "name": "stderr",
     "output_type": "stream",
     "text": [
      "\n",
      "  | Name      | Type    | Params\n",
      "--------------------------------------\n",
      "0 | encoder   | Linear  | 28.8 K\n",
      "1 | act_1     | PReLU   | 1     \n",
      "2 | decoder   | Linear  | 31.6 K\n",
      "3 | act_2     | PReLU   | 1     \n",
      "4 | loss_func | MSELoss | 0     \n",
      "--------------------------------------\n",
      "60.4 K    Trainable params\n",
      "0         Non-trainable params\n",
      "60.4 K    Total params\n",
      "0.242     Total estimated model params size (MB)\n"
     ]
    },
    {
     "name": "stdout",
     "output_type": "stream",
     "text": [
      "Epoch 0:  50%|█████     | 41/82 [00:00<00:00, 94.82it/s, loss=11.9, v_num=245] \n",
      "Validating: 0it [00:00, ?it/s]\u001B[A\n",
      "Epoch 0: 100%|██████████| 82/82 [00:00<00:00, 163.79it/s, loss=11.9, v_num=245]\n",
      "Epoch 1:  50%|█████     | 41/82 [00:00<00:00, 88.92it/s, loss=15.2, v_num=245] \n",
      "Validating: 0it [00:00, ?it/s]\u001B[A\n",
      "Epoch 1: 100%|██████████| 82/82 [00:00<00:00, 157.87it/s, loss=15.2, v_num=245]\n",
      "Epoch 2:  50%|█████     | 41/82 [00:00<00:00, 92.38it/s, loss=15.4, v_num=245] \n",
      "Validating: 0it [00:00, ?it/s]\u001B[A\n",
      "Epoch 2: 100%|██████████| 82/82 [00:00<00:00, 161.97it/s, loss=15.4, v_num=245]\n",
      "Epoch 3:  50%|█████     | 41/82 [00:00<00:00, 94.66it/s, loss=15.2, v_num=245] \n",
      "Validating: 0it [00:00, ?it/s]\u001B[A\n",
      "Epoch 3: 100%|██████████| 82/82 [00:00<00:00, 167.20it/s, loss=15.2, v_num=245]\n",
      "Epoch 4:  50%|█████     | 41/82 [00:00<00:00, 103.05it/s, loss=15, v_num=245]  \n",
      "Validating: 0it [00:00, ?it/s]\u001B[A\n",
      "Epoch 4: 100%|██████████| 82/82 [00:00<00:00, 181.00it/s, loss=15, v_num=245]\n",
      "Epoch 5:  50%|█████     | 41/82 [00:00<00:00, 108.91it/s, loss=15, v_num=245]  \n",
      "Validating: 0it [00:00, ?it/s]\u001B[A\n",
      "Epoch 5: 100%|██████████| 82/82 [00:00<00:00, 192.54it/s, loss=15, v_num=245]\n",
      "Epoch 6:  50%|█████     | 41/82 [00:00<00:00, 104.71it/s, loss=14.7, v_num=245]\n",
      "Validating: 0it [00:00, ?it/s]\u001B[A\n",
      "Epoch 6: 100%|██████████| 82/82 [00:00<00:00, 181.36it/s, loss=14.7, v_num=245]\n",
      "Epoch 7:  50%|█████     | 41/82 [00:00<00:00, 104.15it/s, loss=14.9, v_num=245]\n",
      "Validating: 0it [00:00, ?it/s]\u001B[A\n",
      "Epoch 7: 100%|██████████| 82/82 [00:00<00:00, 179.19it/s, loss=14.9, v_num=245]\n",
      "Epoch 8:  50%|█████     | 41/82 [00:00<00:00, 104.68it/s, loss=15.3, v_num=245]\n",
      "Validating: 0it [00:00, ?it/s]\u001B[A\n",
      "Epoch 8: 100%|██████████| 82/82 [00:00<00:00, 180.83it/s, loss=15.3, v_num=245]\n",
      "Epoch 9:  50%|█████     | 41/82 [00:00<00:00, 110.67it/s, loss=15, v_num=245]  \n",
      "Validating: 0it [00:00, ?it/s]\u001B[A\n",
      "Epoch 9: 100%|██████████| 82/82 [00:00<00:00, 194.57it/s, loss=15, v_num=245]\n",
      "Epoch 9: 100%|██████████| 82/82 [00:00<00:00, 191.77it/s, loss=15, v_num=245]\n"
     ]
    },
    {
     "name": "stderr",
     "output_type": "stream",
     "text": [
      "GPU available: True, used: False\n",
      "TPU available: False, using: 0 TPU cores\n",
      "IPU available: False, using: 0 IPUs\n"
     ]
    },
    {
     "name": "stdout",
     "output_type": "stream",
     "text": [
      "0.01\n"
     ]
    },
    {
     "name": "stderr",
     "output_type": "stream",
     "text": [
      "\n",
      "  | Name      | Type    | Params\n",
      "--------------------------------------\n",
      "0 | encoder   | Linear  | 28.8 K\n",
      "1 | act_1     | Sigmoid | 0     \n",
      "2 | decoder   | Linear  | 31.6 K\n",
      "3 | act_2     | Sigmoid | 0     \n",
      "4 | loss_func | MSELoss | 0     \n",
      "--------------------------------------\n",
      "60.4 K    Trainable params\n",
      "0         Non-trainable params\n",
      "60.4 K    Total params\n",
      "0.242     Total estimated model params size (MB)\n"
     ]
    },
    {
     "name": "stdout",
     "output_type": "stream",
     "text": [
      "Epoch 0:   0%|          | 0/82 [00:00<?, ?it/s]               "
     ]
    },
    {
     "name": "stderr",
     "output_type": "stream",
     "text": [
      "GPU available: True, used: False\n",
      "TPU available: False, using: 0 TPU cores\n",
      "IPU available: False, using: 0 IPUs\n"
     ]
    },
    {
     "name": "stdout",
     "output_type": "stream",
     "text": [
      "0.1\n"
     ]
    },
    {
     "name": "stderr",
     "output_type": "stream",
     "text": [
      "\n",
      "  | Name      | Type    | Params\n",
      "--------------------------------------\n",
      "0 | encoder   | Linear  | 28.8 K\n",
      "1 | act_1     | Sigmoid | 0     \n",
      "2 | decoder   | Linear  | 31.6 K\n",
      "3 | act_2     | Sigmoid | 0     \n",
      "4 | loss_func | MSELoss | 0     \n",
      "--------------------------------------\n",
      "60.4 K    Trainable params\n",
      "0         Non-trainable params\n",
      "60.4 K    Total params\n",
      "0.242     Total estimated model params size (MB)\n"
     ]
    },
    {
     "name": "stdout",
     "output_type": "stream",
     "text": [
      "Epoch 0:   0%|          | 0/82 [00:00<?, ?it/s]               "
     ]
    },
    {
     "name": "stderr",
     "output_type": "stream",
     "text": [
      "GPU available: True, used: False\n",
      "TPU available: False, using: 0 TPU cores\n",
      "IPU available: False, using: 0 IPUs\n",
      "\n",
      "  | Name      | Type    | Params\n",
      "--------------------------------------\n",
      "0 | encoder   | Linear  | 28.8 K\n",
      "1 | act_1     | Sigmoid | 0     \n",
      "2 | decoder   | Linear  | 31.6 K\n",
      "3 | act_2     | Sigmoid | 0     \n",
      "4 | loss_func | MSELoss | 0     \n",
      "--------------------------------------\n",
      "60.4 K    Trainable params\n",
      "0         Non-trainable params\n",
      "60.4 K    Total params\n",
      "0.242     Total estimated model params size (MB)\n"
     ]
    },
    {
     "name": "stdout",
     "output_type": "stream",
     "text": [
      "1\n",
      "Epoch 0:   0%|          | 0/82 [00:00<?, ?it/s]               "
     ]
    },
    {
     "name": "stderr",
     "output_type": "stream",
     "text": [
      "GPU available: True, used: False\n",
      "TPU available: False, using: 0 TPU cores\n",
      "IPU available: False, using: 0 IPUs\n",
      "\n",
      "  | Name      | Type    | Params\n",
      "--------------------------------------\n",
      "0 | encoder   | Linear  | 28.8 K\n",
      "1 | act_1     | Sigmoid | 0     \n",
      "2 | decoder   | Linear  | 31.6 K\n",
      "3 | act_2     | Sigmoid | 0     \n",
      "4 | loss_func | MSELoss | 0     \n",
      "--------------------------------------\n",
      "60.4 K    Trainable params\n",
      "0         Non-trainable params\n",
      "60.4 K    Total params\n",
      "0.242     Total estimated model params size (MB)\n"
     ]
    },
    {
     "name": "stdout",
     "output_type": "stream",
     "text": [
      "100\n",
      "Epoch 0:   0%|          | 0/82 [00:00<?, ?it/s]               "
     ]
    },
    {
     "name": "stderr",
     "output_type": "stream",
     "text": [
      "GPU available: True, used: False\n",
      "TPU available: False, using: 0 TPU cores\n",
      "IPU available: False, using: 0 IPUs\n"
     ]
    },
    {
     "name": "stdout",
     "output_type": "stream",
     "text": [
      "0.01\n"
     ]
    },
    {
     "name": "stderr",
     "output_type": "stream",
     "text": [
      "\n",
      "  | Name      | Type    | Params\n",
      "--------------------------------------\n",
      "0 | encoder   | Linear  | 230 K \n",
      "1 | act_1     | PReLU   | 1     \n",
      "2 | decoder   | Linear  | 232 K \n",
      "3 | act_2     | PReLU   | 1     \n",
      "4 | loss_func | MSELoss | 0     \n",
      "--------------------------------------\n",
      "463 K     Trainable params\n",
      "0         Non-trainable params\n",
      "463 K     Total params\n",
      "1.852     Total estimated model params size (MB)\n"
     ]
    },
    {
     "name": "stdout",
     "output_type": "stream",
     "text": [
      "Epoch 0:  50%|█████     | 41/82 [00:00<00:00, 88.48it/s, loss=12.3, v_num=250]\n",
      "Validating: 0it [00:00, ?it/s]\u001B[A\n",
      "Epoch 0: 100%|██████████| 82/82 [00:00<00:00, 155.51it/s, loss=12.3, v_num=250]\n",
      "Epoch 1:  51%|█████     | 42/82 [00:00<00:00, 86.76it/s, loss=5.62, v_num=250] \n",
      "Validating: 0it [00:00, ?it/s]\u001B[A\n",
      "Epoch 1: 100%|██████████| 82/82 [00:00<00:00, 150.22it/s, loss=5.62, v_num=250]\n",
      "Epoch 2:  51%|█████     | 42/82 [00:00<00:00, 90.52it/s, loss=3.28, v_num=250] \n",
      "Validating: 0it [00:00, ?it/s]\u001B[A\n",
      "Epoch 2: 100%|██████████| 82/82 [00:00<00:00, 155.84it/s, loss=3.28, v_num=250]\n",
      "Epoch 3:  51%|█████     | 42/82 [00:00<00:00, 95.74it/s, loss=2.5, v_num=250]  \n",
      "Validating: 0it [00:00, ?it/s]\u001B[A\n",
      "Epoch 3: 100%|██████████| 82/82 [00:00<00:00, 167.74it/s, loss=2.5, v_num=250]\n",
      "Epoch 4:  51%|█████     | 42/82 [00:00<00:00, 94.24it/s, loss=1.91, v_num=250]\n",
      "Validating: 0it [00:00, ?it/s]\u001B[A\n",
      "Epoch 4: 100%|██████████| 82/82 [00:00<00:00, 162.03it/s, loss=1.91, v_num=250]\n",
      "Epoch 5:  50%|█████     | 41/82 [00:00<00:00, 92.97it/s, loss=1.72, v_num=250] \n",
      "Validating: 0it [00:00, ?it/s]\u001B[A\n",
      "Epoch 5: 100%|██████████| 82/82 [00:00<00:00, 163.09it/s, loss=1.72, v_num=250]\n",
      "Epoch 6:  50%|█████     | 41/82 [00:00<00:00, 96.61it/s, loss=1.95, v_num=250] \n",
      "Validating: 0it [00:00, ?it/s]\u001B[A\n",
      "Epoch 6: 100%|██████████| 82/82 [00:00<00:00, 166.23it/s, loss=1.95, v_num=250]\n",
      "Epoch 7:  50%|█████     | 41/82 [00:00<00:00, 93.15it/s, loss=1.6, v_num=250]  \n",
      "Validating: 0it [00:00, ?it/s]\u001B[A\n",
      "Epoch 7: 100%|██████████| 82/82 [00:00<00:00, 161.84it/s, loss=1.6, v_num=250]\n",
      "Epoch 8:  50%|█████     | 41/82 [00:00<00:00, 90.47it/s, loss=1.5, v_num=250] \n",
      "Validating: 0it [00:00, ?it/s]\u001B[A\n",
      "Epoch 8: 100%|██████████| 82/82 [00:00<00:00, 162.38it/s, loss=1.5, v_num=250]\n",
      "Epoch 9:  50%|█████     | 41/82 [00:00<00:00, 90.82it/s, loss=1.83, v_num=250]\n",
      "Validating: 0it [00:00, ?it/s]\u001B[A\n",
      "Epoch 9: 100%|██████████| 82/82 [00:00<00:00, 162.42it/s, loss=1.83, v_num=250]\n",
      "Epoch 9: 100%|██████████| 82/82 [00:00<00:00, 158.57it/s, loss=1.83, v_num=250]\n"
     ]
    },
    {
     "name": "stderr",
     "output_type": "stream",
     "text": [
      "GPU available: True, used: False\n",
      "TPU available: False, using: 0 TPU cores\n",
      "IPU available: False, using: 0 IPUs\n"
     ]
    },
    {
     "name": "stdout",
     "output_type": "stream",
     "text": [
      "0.1\n"
     ]
    },
    {
     "name": "stderr",
     "output_type": "stream",
     "text": [
      "\n",
      "  | Name      | Type    | Params\n",
      "--------------------------------------\n",
      "0 | encoder   | Linear  | 230 K \n",
      "1 | act_1     | PReLU   | 1     \n",
      "2 | decoder   | Linear  | 232 K \n",
      "3 | act_2     | PReLU   | 1     \n",
      "4 | loss_func | MSELoss | 0     \n",
      "--------------------------------------\n",
      "463 K     Trainable params\n",
      "0         Non-trainable params\n",
      "463 K     Total params\n",
      "1.852     Total estimated model params size (MB)\n"
     ]
    },
    {
     "name": "stdout",
     "output_type": "stream",
     "text": [
      "Epoch 0:  50%|█████     | 41/82 [00:00<00:00, 85.43it/s, loss=11.4, v_num=251]\n",
      "Validating: 0it [00:00, ?it/s]\u001B[A\n",
      "Epoch 0: 100%|██████████| 82/82 [00:00<00:00, 154.50it/s, loss=11.4, v_num=251]\n",
      "Epoch 1:  50%|█████     | 41/82 [00:00<00:00, 93.20it/s, loss=5.05, v_num=251] \n",
      "Validating: 0it [00:00, ?it/s]\u001B[A\n",
      "Epoch 1: 100%|██████████| 82/82 [00:00<00:00, 164.81it/s, loss=5.05, v_num=251]\n",
      "Epoch 2:  50%|█████     | 41/82 [00:00<00:00, 80.98it/s, loss=2.66, v_num=251] \n",
      "Validating: 0it [00:00, ?it/s]\u001B[A\n",
      "Epoch 2: 100%|██████████| 82/82 [00:00<00:00, 141.42it/s, loss=2.66, v_num=251]\n",
      "Epoch 3:  50%|█████     | 41/82 [00:00<00:00, 89.86it/s, loss=1.95, v_num=251] \n",
      "Validating: 0it [00:00, ?it/s]\u001B[A\n",
      "Epoch 3: 100%|██████████| 82/82 [00:00<00:00, 160.75it/s, loss=1.95, v_num=251]\n",
      "Epoch 4:  50%|█████     | 41/82 [00:00<00:00, 92.22it/s, loss=1.95, v_num=251] \n",
      "Validating: 0it [00:00, ?it/s]\u001B[A\n",
      "Epoch 4: 100%|██████████| 82/82 [00:00<00:00, 161.24it/s, loss=1.95, v_num=251]\n",
      "Epoch 5:  50%|█████     | 41/82 [00:00<00:00, 94.72it/s, loss=1.85, v_num=251] \n",
      "Validating: 0it [00:00, ?it/s]\u001B[A\n",
      "Epoch 5: 100%|██████████| 82/82 [00:00<00:00, 169.51it/s, loss=1.85, v_num=251]\n",
      "Epoch 6:  50%|█████     | 41/82 [00:00<00:00, 89.70it/s, loss=1.96, v_num=251] \n",
      "Validating: 0it [00:00, ?it/s]\u001B[A\n",
      "Epoch 6: 100%|██████████| 82/82 [00:00<00:00, 158.43it/s, loss=1.96, v_num=251]\n",
      "Epoch 7:  50%|█████     | 41/82 [00:00<00:00, 95.91it/s, loss=2.37, v_num=251] \n",
      "Validating: 0it [00:00, ?it/s]\u001B[A\n",
      "Epoch 7: 100%|██████████| 82/82 [00:00<00:00, 167.29it/s, loss=2.37, v_num=251]\n",
      "Epoch 8:  50%|█████     | 41/82 [00:00<00:00, 94.75it/s, loss=2.15, v_num=251] \n",
      "Validating: 0it [00:00, ?it/s]\u001B[A\n",
      "Epoch 8: 100%|██████████| 82/82 [00:00<00:00, 169.49it/s, loss=2.15, v_num=251]\n",
      "Epoch 9:  50%|█████     | 41/82 [00:00<00:00, 87.17it/s, loss=1.86, v_num=251] \n",
      "Validating: 0it [00:00, ?it/s]\u001B[A\n",
      "Epoch 9: 100%|██████████| 82/82 [00:00<00:00, 157.53it/s, loss=1.86, v_num=251]\n",
      "Epoch 9: 100%|██████████| 82/82 [00:00<00:00, 153.80it/s, loss=1.86, v_num=251]\n"
     ]
    },
    {
     "name": "stderr",
     "output_type": "stream",
     "text": [
      "GPU available: True, used: False\n",
      "TPU available: False, using: 0 TPU cores\n",
      "IPU available: False, using: 0 IPUs\n"
     ]
    },
    {
     "name": "stdout",
     "output_type": "stream",
     "text": [
      "1\n"
     ]
    },
    {
     "name": "stderr",
     "output_type": "stream",
     "text": [
      "\n",
      "  | Name      | Type    | Params\n",
      "--------------------------------------\n",
      "0 | encoder   | Linear  | 230 K \n",
      "1 | act_1     | PReLU   | 1     \n",
      "2 | decoder   | Linear  | 232 K \n",
      "3 | act_2     | PReLU   | 1     \n",
      "4 | loss_func | MSELoss | 0     \n",
      "--------------------------------------\n",
      "463 K     Trainable params\n",
      "0         Non-trainable params\n",
      "463 K     Total params\n",
      "1.852     Total estimated model params size (MB)\n"
     ]
    },
    {
     "name": "stdout",
     "output_type": "stream",
     "text": [
      "Epoch 0:  50%|█████     | 41/82 [00:00<00:00, 82.28it/s, loss=7.36, v_num=252]\n",
      "Validating: 0it [00:00, ?it/s]\u001B[A\n",
      "Epoch 0: 100%|██████████| 82/82 [00:00<00:00, 146.12it/s, loss=7.36, v_num=252]\n",
      "Epoch 1:  50%|█████     | 41/82 [00:00<00:00, 88.42it/s, loss=3.64, v_num=252] \n",
      "Validating: 0it [00:00, ?it/s]\u001B[A\n",
      "Epoch 1: 100%|██████████| 82/82 [00:00<00:00, 158.02it/s, loss=3.64, v_num=252]\n",
      "Epoch 2:  50%|█████     | 41/82 [00:00<00:00, 98.82it/s, loss=3.29, v_num=252] \n",
      "Validating: 0it [00:00, ?it/s]\u001B[A\n",
      "Epoch 2: 100%|██████████| 82/82 [00:00<00:00, 171.97it/s, loss=3.29, v_num=252]\n",
      "Epoch 3:  50%|█████     | 41/82 [00:00<00:00, 85.99it/s, loss=2.67, v_num=252] \n",
      "Validating: 0it [00:00, ?it/s]\u001B[A\n",
      "Epoch 3: 100%|██████████| 82/82 [00:00<00:00, 154.94it/s, loss=2.67, v_num=252]\n",
      "Epoch 4:  50%|█████     | 41/82 [00:00<00:00, 83.65it/s, loss=2.56, v_num=252] \n",
      "Validating: 0it [00:00, ?it/s]\u001B[A\n",
      "Epoch 4: 100%|██████████| 82/82 [00:00<00:00, 147.58it/s, loss=2.56, v_num=252]\n",
      "Epoch 5:  50%|█████     | 41/82 [00:00<00:00, 91.71it/s, loss=2.57, v_num=252] \n",
      "Validating: 0it [00:00, ?it/s]\u001B[A\n",
      "Epoch 5: 100%|██████████| 82/82 [00:00<00:00, 164.04it/s, loss=2.57, v_num=252]\n",
      "Epoch 6:  50%|█████     | 41/82 [00:00<00:00, 93.14it/s, loss=2.72, v_num=252] \n",
      "Validating: 0it [00:00, ?it/s]\u001B[A\n",
      "Epoch 6: 100%|██████████| 82/82 [00:00<00:00, 162.29it/s, loss=2.72, v_num=252]\n",
      "Epoch 7:  50%|█████     | 41/82 [00:00<00:00, 91.29it/s, loss=2.25, v_num=252] \n",
      "Validating: 0it [00:00, ?it/s]\u001B[A\n",
      "Epoch 7: 100%|██████████| 82/82 [00:00<00:00, 159.69it/s, loss=2.25, v_num=252]\n",
      "Epoch 8:  50%|█████     | 41/82 [00:00<00:00, 95.71it/s, loss=2.26, v_num=252] \n",
      "Validating: 0it [00:00, ?it/s]\u001B[A\n",
      "Epoch 8: 100%|██████████| 82/82 [00:00<00:00, 166.49it/s, loss=2.26, v_num=252]\n",
      "Epoch 9:  50%|█████     | 41/82 [00:00<00:00, 89.69it/s, loss=2.27, v_num=252] \n",
      "Validating: 0it [00:00, ?it/s]\u001B[A\n",
      "Epoch 9: 100%|██████████| 82/82 [00:00<00:00, 161.04it/s, loss=2.27, v_num=252]\n",
      "Epoch 9: 100%|██████████| 82/82 [00:00<00:00, 157.09it/s, loss=2.27, v_num=252]\n"
     ]
    },
    {
     "name": "stderr",
     "output_type": "stream",
     "text": [
      "GPU available: True, used: False\n",
      "TPU available: False, using: 0 TPU cores\n",
      "IPU available: False, using: 0 IPUs\n"
     ]
    },
    {
     "name": "stdout",
     "output_type": "stream",
     "text": [
      "100\n"
     ]
    },
    {
     "name": "stderr",
     "output_type": "stream",
     "text": [
      "\n",
      "  | Name      | Type    | Params\n",
      "--------------------------------------\n",
      "0 | encoder   | Linear  | 230 K \n",
      "1 | act_1     | PReLU   | 1     \n",
      "2 | decoder   | Linear  | 232 K \n",
      "3 | act_2     | PReLU   | 1     \n",
      "4 | loss_func | MSELoss | 0     \n",
      "--------------------------------------\n",
      "463 K     Trainable params\n",
      "0         Non-trainable params\n",
      "463 K     Total params\n",
      "1.852     Total estimated model params size (MB)\n"
     ]
    },
    {
     "name": "stdout",
     "output_type": "stream",
     "text": [
      "Epoch 0:  50%|█████     | 41/82 [00:00<00:00, 94.23it/s, loss=15.1, v_num=253]\n",
      "Validating: 0it [00:00, ?it/s]\u001B[A\n",
      "Epoch 0: 100%|██████████| 82/82 [00:00<00:00, 163.76it/s, loss=15.1, v_num=253]\n",
      "Epoch 1:  50%|█████     | 41/82 [00:00<00:00, 93.31it/s, loss=14.8, v_num=253] \n",
      "Validating: 0it [00:00, ?it/s]\u001B[A\n",
      "Epoch 1: 100%|██████████| 82/82 [00:00<00:00, 161.04it/s, loss=14.8, v_num=253]\n",
      "Epoch 2:  50%|█████     | 41/82 [00:00<00:00, 90.76it/s, loss=15.4, v_num=253] \n",
      "Validating: 0it [00:00, ?it/s]\u001B[A\n",
      "Epoch 2: 100%|██████████| 82/82 [00:00<00:00, 159.32it/s, loss=15.4, v_num=253]\n",
      "Epoch 3:  50%|█████     | 41/82 [00:00<00:00, 83.96it/s, loss=15.1, v_num=253] \n",
      "Validating: 0it [00:00, ?it/s]\u001B[A\n",
      "Epoch 3: 100%|██████████| 82/82 [00:00<00:00, 150.54it/s, loss=15.1, v_num=253]\n",
      "Epoch 4:  50%|█████     | 41/82 [00:00<00:00, 83.50it/s, loss=15.3, v_num=253] \n",
      "Validating: 0it [00:00, ?it/s]\u001B[A\n",
      "Epoch 4: 100%|██████████| 82/82 [00:00<00:00, 146.05it/s, loss=15.3, v_num=253]\n",
      "Epoch 5:  50%|█████     | 41/82 [00:00<00:00, 83.90it/s, loss=14.5, v_num=253] \n",
      "Validating: 0it [00:00, ?it/s]\u001B[A\n",
      "Epoch 5: 100%|██████████| 82/82 [00:00<00:00, 149.10it/s, loss=14.5, v_num=253]\n",
      "Epoch 6:  50%|█████     | 41/82 [00:00<00:00, 90.92it/s, loss=14.9, v_num=253] \n",
      "Validating: 0it [00:00, ?it/s]\u001B[A\n",
      "Epoch 6: 100%|██████████| 82/82 [00:00<00:00, 162.91it/s, loss=14.9, v_num=253]\n",
      "Epoch 7:  50%|█████     | 41/82 [00:00<00:00, 86.07it/s, loss=14.6, v_num=253] \n",
      "Validating: 0it [00:00, ?it/s]\u001B[A\n",
      "Epoch 7: 100%|██████████| 82/82 [00:00<00:00, 151.07it/s, loss=14.6, v_num=253]\n",
      "Epoch 8:  50%|█████     | 41/82 [00:00<00:00, 95.07it/s, loss=15.3, v_num=253] \n",
      "Validating: 0it [00:00, ?it/s]\u001B[A\n",
      "Epoch 8: 100%|██████████| 82/82 [00:00<00:00, 163.72it/s, loss=15.3, v_num=253]\n",
      "Epoch 9:  50%|█████     | 41/82 [00:00<00:00, 86.25it/s, loss=15, v_num=253]   \n",
      "Validating: 0it [00:00, ?it/s]\u001B[A\n",
      "Epoch 9: 100%|██████████| 82/82 [00:00<00:00, 154.02it/s, loss=15, v_num=253]\n",
      "Epoch 9: 100%|██████████| 82/82 [00:00<00:00, 150.36it/s, loss=15, v_num=253]\n"
     ]
    },
    {
     "name": "stderr",
     "output_type": "stream",
     "text": [
      "GPU available: True, used: False\n",
      "TPU available: False, using: 0 TPU cores\n",
      "IPU available: False, using: 0 IPUs\n"
     ]
    },
    {
     "name": "stdout",
     "output_type": "stream",
     "text": [
      "0.01\n"
     ]
    },
    {
     "name": "stderr",
     "output_type": "stream",
     "text": [
      "\n",
      "  | Name      | Type    | Params\n",
      "--------------------------------------\n",
      "0 | encoder   | Linear  | 230 K \n",
      "1 | act_1     | Sigmoid | 0     \n",
      "2 | decoder   | Linear  | 232 K \n",
      "3 | act_2     | Sigmoid | 0     \n",
      "4 | loss_func | MSELoss | 0     \n",
      "--------------------------------------\n",
      "463 K     Trainable params\n",
      "0         Non-trainable params\n",
      "463 K     Total params\n",
      "1.852     Total estimated model params size (MB)\n"
     ]
    },
    {
     "name": "stdout",
     "output_type": "stream",
     "text": [
      "Epoch 0:   0%|          | 0/82 [00:00<?, ?it/s]               "
     ]
    },
    {
     "name": "stderr",
     "output_type": "stream",
     "text": [
      "GPU available: True, used: False\n",
      "TPU available: False, using: 0 TPU cores\n",
      "IPU available: False, using: 0 IPUs\n"
     ]
    },
    {
     "name": "stdout",
     "output_type": "stream",
     "text": [
      "0.1\n"
     ]
    },
    {
     "name": "stderr",
     "output_type": "stream",
     "text": [
      "\n",
      "  | Name      | Type    | Params\n",
      "--------------------------------------\n",
      "0 | encoder   | Linear  | 230 K \n",
      "1 | act_1     | Sigmoid | 0     \n",
      "2 | decoder   | Linear  | 232 K \n",
      "3 | act_2     | Sigmoid | 0     \n",
      "4 | loss_func | MSELoss | 0     \n",
      "--------------------------------------\n",
      "463 K     Trainable params\n",
      "0         Non-trainable params\n",
      "463 K     Total params\n",
      "1.852     Total estimated model params size (MB)\n"
     ]
    },
    {
     "name": "stdout",
     "output_type": "stream",
     "text": [
      "Epoch 0:   0%|          | 0/82 [00:00<?, ?it/s]               "
     ]
    },
    {
     "name": "stderr",
     "output_type": "stream",
     "text": [
      "GPU available: True, used: False\n",
      "TPU available: False, using: 0 TPU cores\n",
      "IPU available: False, using: 0 IPUs\n"
     ]
    },
    {
     "name": "stdout",
     "output_type": "stream",
     "text": [
      "1\n"
     ]
    },
    {
     "name": "stderr",
     "output_type": "stream",
     "text": [
      "\n",
      "  | Name      | Type    | Params\n",
      "--------------------------------------\n",
      "0 | encoder   | Linear  | 230 K \n",
      "1 | act_1     | Sigmoid | 0     \n",
      "2 | decoder   | Linear  | 232 K \n",
      "3 | act_2     | Sigmoid | 0     \n",
      "4 | loss_func | MSELoss | 0     \n",
      "--------------------------------------\n",
      "463 K     Trainable params\n",
      "0         Non-trainable params\n",
      "463 K     Total params\n",
      "1.852     Total estimated model params size (MB)\n"
     ]
    },
    {
     "name": "stdout",
     "output_type": "stream",
     "text": [
      "Epoch 0:   0%|          | 0/82 [00:00<?, ?it/s]               "
     ]
    },
    {
     "name": "stderr",
     "output_type": "stream",
     "text": [
      "GPU available: True, used: False\n",
      "TPU available: False, using: 0 TPU cores\n",
      "IPU available: False, using: 0 IPUs\n",
      "\n",
      "  | Name      | Type    | Params\n",
      "--------------------------------------\n",
      "0 | encoder   | Linear  | 230 K \n",
      "1 | act_1     | Sigmoid | 0     \n",
      "2 | decoder   | Linear  | 232 K \n",
      "3 | act_2     | Sigmoid | 0     \n",
      "4 | loss_func | MSELoss | 0     \n",
      "--------------------------------------\n",
      "463 K     Trainable params\n",
      "0         Non-trainable params\n",
      "463 K     Total params\n",
      "1.852     Total estimated model params size (MB)\n"
     ]
    },
    {
     "name": "stdout",
     "output_type": "stream",
     "text": [
      "100\n",
      "Epoch 0:   0%|          | 0/82 [00:00<?, ?it/s]               "
     ]
    },
    {
     "name": "stderr",
     "output_type": "stream",
     "text": [
      "GPU available: True, used: False\n",
      "TPU available: False, using: 0 TPU cores\n",
      "IPU available: False, using: 0 IPUs\n"
     ]
    },
    {
     "name": "stdout",
     "output_type": "stream",
     "text": [
      "0.01\n"
     ]
    },
    {
     "name": "stderr",
     "output_type": "stream",
     "text": [
      "\n",
      "  | Name      | Type    | Params\n",
      "--------------------------------------\n",
      "0 | encoder   | Linear  | 863 K \n",
      "1 | act_1     | PReLU   | 1     \n",
      "2 | decoder   | Linear  | 865 K \n",
      "3 | act_2     | PReLU   | 1     \n",
      "4 | loss_func | MSELoss | 0     \n",
      "--------------------------------------\n",
      "1.7 M     Trainable params\n",
      "0         Non-trainable params\n",
      "1.7 M     Total params\n",
      "6.915     Total estimated model params size (MB)\n"
     ]
    },
    {
     "name": "stdout",
     "output_type": "stream",
     "text": [
      "Epoch 0:  50%|█████     | 41/82 [00:00<00:00, 53.97it/s, loss=53.5, v_num=258]\n",
      "Validating: 0it [00:00, ?it/s]\u001B[A\n",
      "Epoch 0: 100%|██████████| 82/82 [00:00<00:00, 98.38it/s, loss=53.5, v_num=258]\n",
      "Epoch 1:  50%|█████     | 41/82 [00:00<00:00, 54.29it/s, loss=7.51, v_num=258]\n",
      "Validating: 0it [00:00, ?it/s]\u001B[A\n",
      "Epoch 1: 100%|██████████| 82/82 [00:00<00:00, 98.02it/s, loss=7.51, v_num=258]\n",
      "Epoch 2:  50%|█████     | 41/82 [00:00<00:00, 54.30it/s, loss=4.44, v_num=258]\n",
      "Validating: 0it [00:00, ?it/s]\u001B[A\n",
      "Epoch 2: 100%|██████████| 82/82 [00:00<00:00, 96.56it/s, loss=4.44, v_num=258]\n",
      "Epoch 3:  50%|█████     | 41/82 [00:00<00:00, 55.70it/s, loss=3.82, v_num=258]\n",
      "Validating: 0it [00:00, ?it/s]\u001B[A\n",
      "Epoch 3: 100%|██████████| 82/82 [00:00<00:00, 100.32it/s, loss=3.82, v_num=258]\n",
      "Epoch 4:  50%|█████     | 41/82 [00:00<00:00, 58.18it/s, loss=3.6, v_num=258]  \n",
      "Validating: 0it [00:00, ?it/s]\u001B[A\n",
      "Epoch 4: 100%|██████████| 82/82 [00:00<00:00, 106.10it/s, loss=3.6, v_num=258]\n",
      "Epoch 5:  50%|█████     | 41/82 [00:00<00:00, 54.13it/s, loss=3.73, v_num=258]\n",
      "Validating: 0it [00:00, ?it/s]\u001B[A\n",
      "Epoch 5: 100%|██████████| 82/82 [00:00<00:00, 97.91it/s, loss=3.73, v_num=258]\n",
      "Epoch 6:  50%|█████     | 41/82 [00:00<00:00, 51.63it/s, loss=3.32, v_num=258]\n",
      "Validating: 0it [00:00, ?it/s]\u001B[A\n",
      "Epoch 6: 100%|██████████| 82/82 [00:00<00:00, 93.21it/s, loss=3.32, v_num=258]\n",
      "Epoch 7:  50%|█████     | 41/82 [00:00<00:00, 54.99it/s, loss=2.95, v_num=258]\n",
      "Validating: 0it [00:00, ?it/s]\u001B[A\n",
      "Epoch 7: 100%|██████████| 82/82 [00:00<00:00, 98.23it/s, loss=2.95, v_num=258]\n",
      "Epoch 8:  50%|█████     | 41/82 [00:00<00:00, 55.18it/s, loss=2.82, v_num=258]\n",
      "Validating: 0it [00:00, ?it/s]\u001B[A\n",
      "Epoch 8: 100%|██████████| 82/82 [00:00<00:00, 99.15it/s, loss=2.82, v_num=258]\n",
      "Epoch 9:  50%|█████     | 41/82 [00:00<00:00, 53.97it/s, loss=2.43, v_num=258]\n",
      "Validating: 0it [00:00, ?it/s]\u001B[A\n",
      "Epoch 9: 100%|██████████| 82/82 [00:00<00:00, 97.35it/s, loss=2.43, v_num=258]\n",
      "Epoch 9: 100%|██████████| 82/82 [00:00<00:00, 94.03it/s, loss=2.43, v_num=258]\n"
     ]
    },
    {
     "name": "stderr",
     "output_type": "stream",
     "text": [
      "GPU available: True, used: False\n",
      "TPU available: False, using: 0 TPU cores\n",
      "IPU available: False, using: 0 IPUs\n"
     ]
    },
    {
     "name": "stdout",
     "output_type": "stream",
     "text": [
      "0.1\n"
     ]
    },
    {
     "name": "stderr",
     "output_type": "stream",
     "text": [
      "\n",
      "  | Name      | Type    | Params\n",
      "--------------------------------------\n",
      "0 | encoder   | Linear  | 863 K \n",
      "1 | act_1     | PReLU   | 1     \n",
      "2 | decoder   | Linear  | 865 K \n",
      "3 | act_2     | PReLU   | 1     \n",
      "4 | loss_func | MSELoss | 0     \n",
      "--------------------------------------\n",
      "1.7 M     Trainable params\n",
      "0         Non-trainable params\n",
      "1.7 M     Total params\n",
      "6.915     Total estimated model params size (MB)\n"
     ]
    },
    {
     "name": "stdout",
     "output_type": "stream",
     "text": [
      "Epoch 0:  50%|█████     | 41/82 [00:00<00:00, 56.51it/s, loss=45, v_num=259]  \n",
      "Validating: 0it [00:00, ?it/s]\u001B[A\n",
      "Epoch 0: 100%|██████████| 82/82 [00:00<00:00, 101.68it/s, loss=45, v_num=259]\n",
      "Epoch 1:  50%|█████     | 41/82 [00:00<00:00, 52.61it/s, loss=7.04, v_num=259]\n",
      "Validating: 0it [00:00, ?it/s]\u001B[A\n",
      "Epoch 1: 100%|██████████| 82/82 [00:00<00:00, 94.83it/s, loss=7.04, v_num=259]\n",
      "Epoch 2:  50%|█████     | 41/82 [00:00<00:00, 55.40it/s, loss=3.83, v_num=259]\n",
      "Validating: 0it [00:00, ?it/s]\u001B[A\n",
      "Epoch 2: 100%|██████████| 82/82 [00:00<00:00, 99.86it/s, loss=3.83, v_num=259]\n",
      "Epoch 3:  50%|█████     | 41/82 [00:00<00:00, 47.60it/s, loss=3.63, v_num=259]\n",
      "Validating: 0it [00:00, ?it/s]\u001B[A\n",
      "Epoch 3: 100%|██████████| 82/82 [00:00<00:00, 84.75it/s, loss=3.63, v_num=259]\n",
      "Epoch 4:  50%|█████     | 41/82 [00:00<00:00, 55.90it/s, loss=3.68, v_num=259]\n",
      "Validating: 0it [00:00, ?it/s]\u001B[A\n",
      "Epoch 4: 100%|██████████| 82/82 [00:00<00:00, 102.00it/s, loss=3.68, v_num=259]\n",
      "Epoch 5:  50%|█████     | 41/82 [00:00<00:00, 54.74it/s, loss=3.95, v_num=259] \n",
      "Validating: 0it [00:00, ?it/s]\u001B[A\n",
      "Epoch 5: 100%|██████████| 82/82 [00:00<00:00, 99.91it/s, loss=3.95, v_num=259]\n",
      "Epoch 6:  50%|█████     | 41/82 [00:00<00:00, 52.65it/s, loss=3.91, v_num=259]\n",
      "Validating: 0it [00:00, ?it/s]\u001B[A\n",
      "Epoch 6: 100%|██████████| 82/82 [00:00<00:00, 95.06it/s, loss=3.91, v_num=259]\n",
      "Epoch 7:  50%|█████     | 41/82 [00:00<00:00, 50.45it/s, loss=3.65, v_num=259]\n",
      "Validating: 0it [00:00, ?it/s]\u001B[A\n",
      "Epoch 7: 100%|██████████| 82/82 [00:00<00:00, 91.58it/s, loss=3.65, v_num=259]\n",
      "Epoch 8:  50%|█████     | 41/82 [00:00<00:00, 53.46it/s, loss=3.31, v_num=259]\n",
      "Validating: 0it [00:00, ?it/s]\u001B[A\n",
      "Epoch 8: 100%|██████████| 82/82 [00:00<00:00, 96.03it/s, loss=3.31, v_num=259]\n",
      "Epoch 9:  50%|█████     | 41/82 [00:00<00:00, 54.96it/s, loss=3.14, v_num=259]\n",
      "Validating: 0it [00:00, ?it/s]\u001B[A\n",
      "Epoch 9: 100%|██████████| 82/82 [00:00<00:00, 100.65it/s, loss=3.14, v_num=259]\n",
      "Epoch 9: 100%|██████████| 82/82 [00:00<00:00, 97.02it/s, loss=3.14, v_num=259] \n"
     ]
    },
    {
     "name": "stderr",
     "output_type": "stream",
     "text": [
      "GPU available: True, used: False\n",
      "TPU available: False, using: 0 TPU cores\n",
      "IPU available: False, using: 0 IPUs\n",
      "\n",
      "  | Name      | Type    | Params\n",
      "--------------------------------------\n",
      "0 | encoder   | Linear  | 863 K \n",
      "1 | act_1     | PReLU   | 1     \n",
      "2 | decoder   | Linear  | 865 K \n",
      "3 | act_2     | PReLU   | 1     \n",
      "4 | loss_func | MSELoss | 0     \n",
      "--------------------------------------\n",
      "1.7 M     Trainable params\n",
      "0         Non-trainable params\n",
      "1.7 M     Total params\n",
      "6.915     Total estimated model params size (MB)\n"
     ]
    },
    {
     "name": "stdout",
     "output_type": "stream",
     "text": [
      "1\n",
      "Epoch 0:  50%|█████     | 41/82 [00:00<00:00, 57.36it/s, loss=15, v_num=260]  \n",
      "Validating: 0it [00:00, ?it/s]\u001B[A\n",
      "Epoch 0: 100%|██████████| 82/82 [00:00<00:00, 102.95it/s, loss=15, v_num=260]\n",
      "Epoch 1:  50%|█████     | 41/82 [00:00<00:00, 55.70it/s, loss=5.56, v_num=260]\n",
      "Validating: 0it [00:00, ?it/s]\u001B[A\n",
      "Epoch 1: 100%|██████████| 82/82 [00:00<00:00, 101.74it/s, loss=5.56, v_num=260]\n",
      "Epoch 2:  50%|█████     | 41/82 [00:00<00:00, 54.56it/s, loss=2.99, v_num=260] \n",
      "Validating: 0it [00:00, ?it/s]\u001B[A\n",
      "Epoch 2: 100%|██████████| 82/82 [00:00<00:00, 99.55it/s, loss=2.99, v_num=260]\n",
      "Epoch 3:  50%|█████     | 41/82 [00:00<00:00, 54.83it/s, loss=2.68, v_num=260]\n",
      "Validating: 0it [00:00, ?it/s]\u001B[A\n",
      "Epoch 3: 100%|██████████| 82/82 [00:00<00:00, 99.52it/s, loss=2.68, v_num=260]\n",
      "Epoch 4:  50%|█████     | 41/82 [00:00<00:00, 54.66it/s, loss=2.33, v_num=260]\n",
      "Validating: 0it [00:00, ?it/s]\u001B[A\n",
      "Epoch 4: 100%|██████████| 82/82 [00:00<00:00, 97.26it/s, loss=2.33, v_num=260]\n",
      "Epoch 5:  50%|█████     | 41/82 [00:00<00:00, 53.84it/s, loss=2.43, v_num=260]\n",
      "Validating: 0it [00:00, ?it/s]\u001B[A\n",
      "Epoch 5: 100%|██████████| 82/82 [00:00<00:00, 98.66it/s, loss=2.43, v_num=260]\n",
      "Epoch 6:  50%|█████     | 41/82 [00:00<00:00, 50.95it/s, loss=2.39, v_num=260]\n",
      "Validating: 0it [00:00, ?it/s]\u001B[A\n",
      "Epoch 6: 100%|██████████| 82/82 [00:00<00:00, 91.32it/s, loss=2.39, v_num=260]\n",
      "Epoch 7:  50%|█████     | 41/82 [00:00<00:00, 48.15it/s, loss=2.34, v_num=260]\n",
      "Validating: 0it [00:00, ?it/s]\u001B[A\n",
      "Epoch 7: 100%|██████████| 82/82 [00:00<00:00, 86.32it/s, loss=2.34, v_num=260]\n",
      "Epoch 8:  50%|█████     | 41/82 [00:00<00:00, 48.67it/s, loss=2.29, v_num=260]\n",
      "Validating: 0it [00:00, ?it/s]\u001B[A\n",
      "Epoch 8: 100%|██████████| 82/82 [00:00<00:00, 89.41it/s, loss=2.29, v_num=260]\n",
      "Epoch 9:  50%|█████     | 41/82 [00:00<00:00, 54.16it/s, loss=2.3, v_num=260] \n",
      "Validating: 0it [00:00, ?it/s]\u001B[A\n",
      "Epoch 9: 100%|██████████| 82/82 [00:00<00:00, 96.24it/s, loss=2.3, v_num=260]\n",
      "Epoch 9: 100%|██████████| 82/82 [00:00<00:00, 92.18it/s, loss=2.3, v_num=260]\n"
     ]
    },
    {
     "name": "stderr",
     "output_type": "stream",
     "text": [
      "GPU available: True, used: False\n",
      "TPU available: False, using: 0 TPU cores\n",
      "IPU available: False, using: 0 IPUs\n"
     ]
    },
    {
     "name": "stdout",
     "output_type": "stream",
     "text": [
      "100\n"
     ]
    },
    {
     "name": "stderr",
     "output_type": "stream",
     "text": [
      "\n",
      "  | Name      | Type    | Params\n",
      "--------------------------------------\n",
      "0 | encoder   | Linear  | 863 K \n",
      "1 | act_1     | PReLU   | 1     \n",
      "2 | decoder   | Linear  | 865 K \n",
      "3 | act_2     | PReLU   | 1     \n",
      "4 | loss_func | MSELoss | 0     \n",
      "--------------------------------------\n",
      "1.7 M     Trainable params\n",
      "0         Non-trainable params\n",
      "1.7 M     Total params\n",
      "6.915     Total estimated model params size (MB)\n"
     ]
    },
    {
     "name": "stdout",
     "output_type": "stream",
     "text": [
      "Epoch 0:  50%|█████     | 41/82 [00:00<00:00, 51.41it/s, loss=14.9, v_num=261]\n",
      "Validating: 0it [00:00, ?it/s]\u001B[A\n",
      "Epoch 0: 100%|██████████| 82/82 [00:00<00:00, 93.45it/s, loss=14.9, v_num=261]\n",
      "Epoch 1:  50%|█████     | 41/82 [00:00<00:00, 55.91it/s, loss=14.5, v_num=261]\n",
      "Validating: 0it [00:00, ?it/s]\u001B[A\n",
      "Epoch 1: 100%|██████████| 82/82 [00:00<00:00, 102.02it/s, loss=14.5, v_num=261]\n",
      "Epoch 2:  50%|█████     | 41/82 [00:00<00:00, 51.55it/s, loss=15, v_num=261]   \n",
      "Validating: 0it [00:00, ?it/s]\u001B[A\n",
      "Epoch 2: 100%|██████████| 82/82 [00:00<00:00, 94.58it/s, loss=15, v_num=261]\n",
      "Epoch 3:  50%|█████     | 41/82 [00:00<00:00, 53.87it/s, loss=15.1, v_num=261]\n",
      "Validating: 0it [00:00, ?it/s]\u001B[A\n",
      "Epoch 3: 100%|██████████| 82/82 [00:00<00:00, 97.75it/s, loss=15.1, v_num=261]\n",
      "Epoch 4:  50%|█████     | 41/82 [00:00<00:00, 54.81it/s, loss=14.4, v_num=261]\n",
      "Validating: 0it [00:00, ?it/s]\u001B[A\n",
      "Epoch 4: 100%|██████████| 82/82 [00:00<00:00, 98.83it/s, loss=14.4, v_num=261]\n",
      "Epoch 5:  50%|█████     | 41/82 [00:00<00:00, 53.10it/s, loss=15.4, v_num=261]\n",
      "Validating: 0it [00:00, ?it/s]\u001B[A\n",
      "Epoch 5: 100%|██████████| 82/82 [00:00<00:00, 96.18it/s, loss=15.4, v_num=261]\n",
      "Epoch 6:  50%|█████     | 41/82 [00:00<00:00, 55.90it/s, loss=14.9, v_num=261]\n",
      "Validating: 0it [00:00, ?it/s]\u001B[A\n",
      "Epoch 6: 100%|██████████| 82/82 [00:00<00:00, 100.55it/s, loss=14.9, v_num=261]\n",
      "Epoch 7:  50%|█████     | 41/82 [00:00<00:00, 55.10it/s, loss=15.6, v_num=261] \n",
      "Validating: 0it [00:00, ?it/s]\u001B[A\n",
      "Epoch 7: 100%|██████████| 82/82 [00:00<00:00, 99.27it/s, loss=15.6, v_num=261]\n",
      "Epoch 8:  50%|█████     | 41/82 [00:00<00:00, 55.16it/s, loss=15, v_num=261]  \n",
      "Validating: 0it [00:00, ?it/s]\u001B[A\n",
      "Epoch 8: 100%|██████████| 82/82 [00:00<00:00, 99.98it/s, loss=15, v_num=261]\n",
      "Epoch 9:  50%|█████     | 41/82 [00:00<00:00, 56.28it/s, loss=14.8, v_num=261]\n",
      "Validating: 0it [00:00, ?it/s]\u001B[A\n",
      "Epoch 9: 100%|██████████| 82/82 [00:00<00:00, 101.54it/s, loss=14.8, v_num=261]\n",
      "Epoch 9: 100%|██████████| 82/82 [00:00<00:00, 97.32it/s, loss=14.8, v_num=261] \n"
     ]
    },
    {
     "name": "stderr",
     "output_type": "stream",
     "text": [
      "GPU available: True, used: False\n",
      "TPU available: False, using: 0 TPU cores\n",
      "IPU available: False, using: 0 IPUs\n",
      "\n",
      "  | Name      | Type    | Params\n",
      "--------------------------------------\n",
      "0 | encoder   | Linear  | 863 K \n",
      "1 | act_1     | Sigmoid | 0     \n",
      "2 | decoder   | Linear  | 865 K \n",
      "3 | act_2     | Sigmoid | 0     \n",
      "4 | loss_func | MSELoss | 0     \n",
      "--------------------------------------\n",
      "1.7 M     Trainable params\n",
      "0         Non-trainable params\n",
      "1.7 M     Total params\n",
      "6.915     Total estimated model params size (MB)\n"
     ]
    },
    {
     "name": "stdout",
     "output_type": "stream",
     "text": [
      "0.01\n",
      "Epoch 0:   0%|          | 0/82 [00:00<?, ?it/s]               "
     ]
    },
    {
     "name": "stderr",
     "output_type": "stream",
     "text": [
      "GPU available: True, used: False\n",
      "TPU available: False, using: 0 TPU cores\n",
      "IPU available: False, using: 0 IPUs\n",
      "\n",
      "  | Name      | Type    | Params\n",
      "--------------------------------------\n",
      "0 | encoder   | Linear  | 863 K \n",
      "1 | act_1     | Sigmoid | 0     \n",
      "2 | decoder   | Linear  | 865 K \n",
      "3 | act_2     | Sigmoid | 0     \n",
      "4 | loss_func | MSELoss | 0     \n",
      "--------------------------------------\n",
      "1.7 M     Trainable params\n",
      "0         Non-trainable params\n",
      "1.7 M     Total params\n",
      "6.915     Total estimated model params size (MB)\n"
     ]
    },
    {
     "name": "stdout",
     "output_type": "stream",
     "text": [
      "0.1\n",
      "Epoch 0:   0%|          | 0/82 [00:00<?, ?it/s]               "
     ]
    },
    {
     "name": "stderr",
     "output_type": "stream",
     "text": [
      "GPU available: True, used: False\n",
      "TPU available: False, using: 0 TPU cores\n",
      "IPU available: False, using: 0 IPUs\n"
     ]
    },
    {
     "name": "stdout",
     "output_type": "stream",
     "text": [
      "1\n"
     ]
    },
    {
     "name": "stderr",
     "output_type": "stream",
     "text": [
      "\n",
      "  | Name      | Type    | Params\n",
      "--------------------------------------\n",
      "0 | encoder   | Linear  | 863 K \n",
      "1 | act_1     | Sigmoid | 0     \n",
      "2 | decoder   | Linear  | 865 K \n",
      "3 | act_2     | Sigmoid | 0     \n",
      "4 | loss_func | MSELoss | 0     \n",
      "--------------------------------------\n",
      "1.7 M     Trainable params\n",
      "0         Non-trainable params\n",
      "1.7 M     Total params\n",
      "6.915     Total estimated model params size (MB)\n"
     ]
    },
    {
     "name": "stdout",
     "output_type": "stream",
     "text": [
      "Epoch 0:   0%|          | 0/82 [00:00<?, ?it/s]               "
     ]
    },
    {
     "name": "stderr",
     "output_type": "stream",
     "text": [
      "GPU available: True, used: False\n",
      "TPU available: False, using: 0 TPU cores\n",
      "IPU available: False, using: 0 IPUs\n"
     ]
    },
    {
     "name": "stdout",
     "output_type": "stream",
     "text": [
      "100\n"
     ]
    },
    {
     "name": "stderr",
     "output_type": "stream",
     "text": [
      "\n",
      "  | Name      | Type    | Params\n",
      "--------------------------------------\n",
      "0 | encoder   | Linear  | 863 K \n",
      "1 | act_1     | Sigmoid | 0     \n",
      "2 | decoder   | Linear  | 865 K \n",
      "3 | act_2     | Sigmoid | 0     \n",
      "4 | loss_func | MSELoss | 0     \n",
      "--------------------------------------\n",
      "1.7 M     Trainable params\n",
      "0         Non-trainable params\n",
      "1.7 M     Total params\n",
      "6.915     Total estimated model params size (MB)\n"
     ]
    },
    {
     "name": "stdout",
     "output_type": "stream",
     "text": [
      "Epoch 0:   0%|          | 0/82 [00:00<?, ?it/s]               "
     ]
    },
    {
     "name": "stderr",
     "output_type": "stream",
     "text": [
      "GPU available: True, used: False\n",
      "TPU available: False, using: 0 TPU cores\n",
      "IPU available: False, using: 0 IPUs\n"
     ]
    },
    {
     "name": "stdout",
     "output_type": "stream",
     "text": [
      "0.01\n"
     ]
    },
    {
     "name": "stderr",
     "output_type": "stream",
     "text": [
      "\n",
      "  | Name      | Type    | Params\n",
      "--------------------------------------\n",
      "0 | encoder   | Linear  | 28.8 K\n",
      "1 | act_1     | PReLU   | 1     \n",
      "2 | decoder   | Linear  | 31.6 K\n",
      "3 | act_2     | PReLU   | 1     \n",
      "4 | loss_func | MSELoss | 0     \n",
      "--------------------------------------\n",
      "60.4 K    Trainable params\n",
      "0         Non-trainable params\n",
      "60.4 K    Total params\n",
      "0.242     Total estimated model params size (MB)\n"
     ]
    },
    {
     "name": "stdout",
     "output_type": "stream",
     "text": [
      "Epoch 0:  50%|█████     | 41/82 [00:00<00:00, 100.57it/s, loss=10.1, v_num=266]\n",
      "Validating: 0it [00:00, ?it/s]\u001B[A\n",
      "Epoch 0: 100%|██████████| 82/82 [00:00<00:00, 177.32it/s, loss=10.1, v_num=266]\n",
      "Epoch 1:  50%|█████     | 41/82 [00:00<00:00, 101.49it/s, loss=6.78, v_num=266]\n",
      "Validating: 0it [00:00, ?it/s]\u001B[A\n",
      "Epoch 1: 100%|██████████| 82/82 [00:00<00:00, 176.26it/s, loss=6.78, v_num=266]\n",
      "Epoch 2:  50%|█████     | 41/82 [00:00<00:00, 104.00it/s, loss=5.42, v_num=266]\n",
      "Validating: 0it [00:00, ?it/s]\u001B[A\n",
      "Epoch 2: 100%|██████████| 82/82 [00:00<00:00, 180.15it/s, loss=5.42, v_num=266]\n",
      "Epoch 3:  50%|█████     | 41/82 [00:00<00:00, 101.61it/s, loss=4.71, v_num=266]\n",
      "Validating: 0it [00:00, ?it/s]\u001B[A\n",
      "Epoch 3: 100%|██████████| 82/82 [00:00<00:00, 181.21it/s, loss=4.71, v_num=266]\n",
      "Epoch 4:  50%|█████     | 41/82 [00:00<00:00, 101.36it/s, loss=4.4, v_num=266] \n",
      "Validating: 0it [00:00, ?it/s]\u001B[A\n",
      "Epoch 4: 100%|██████████| 82/82 [00:00<00:00, 177.21it/s, loss=4.4, v_num=266]\n",
      "Epoch 5:  50%|█████     | 41/82 [00:00<00:00, 97.49it/s, loss=3.97, v_num=266]\n",
      "Validating: 0it [00:00, ?it/s]\u001B[A\n",
      "Epoch 5: 100%|██████████| 82/82 [00:00<00:00, 170.97it/s, loss=3.97, v_num=266]\n",
      "Epoch 6:  50%|█████     | 41/82 [00:00<00:00, 113.74it/s, loss=3.71, v_num=266]\n",
      "Validating: 0it [00:00, ?it/s]\u001B[A\n",
      "Epoch 6: 100%|██████████| 82/82 [00:00<00:00, 195.55it/s, loss=3.71, v_num=266]\n",
      "Epoch 7:  50%|█████     | 41/82 [00:00<00:00, 105.07it/s, loss=3.84, v_num=266]\n",
      "Validating: 0it [00:00, ?it/s]\u001B[A\n",
      "Epoch 7: 100%|██████████| 82/82 [00:00<00:00, 182.16it/s, loss=3.84, v_num=266]\n",
      "Epoch 8:  50%|█████     | 41/82 [00:00<00:00, 106.10it/s, loss=3.84, v_num=266]\n",
      "Validating: 0it [00:00, ?it/s]\u001B[A\n",
      "Epoch 8: 100%|██████████| 82/82 [00:00<00:00, 183.12it/s, loss=3.84, v_num=266]\n",
      "Epoch 9:  50%|█████     | 41/82 [00:00<00:00, 105.40it/s, loss=3.52, v_num=266]\n",
      "Validating: 0it [00:00, ?it/s]\u001B[A\n",
      "Epoch 9: 100%|██████████| 82/82 [00:00<00:00, 183.33it/s, loss=3.52, v_num=266]\n",
      "Epoch 9: 100%|██████████| 82/82 [00:00<00:00, 180.23it/s, loss=3.52, v_num=266]\n"
     ]
    },
    {
     "name": "stderr",
     "output_type": "stream",
     "text": [
      "GPU available: True, used: False\n",
      "TPU available: False, using: 0 TPU cores\n",
      "IPU available: False, using: 0 IPUs\n"
     ]
    },
    {
     "name": "stdout",
     "output_type": "stream",
     "text": [
      "0.1\n"
     ]
    },
    {
     "name": "stderr",
     "output_type": "stream",
     "text": [
      "\n",
      "  | Name      | Type    | Params\n",
      "--------------------------------------\n",
      "0 | encoder   | Linear  | 28.8 K\n",
      "1 | act_1     | PReLU   | 1     \n",
      "2 | decoder   | Linear  | 31.6 K\n",
      "3 | act_2     | PReLU   | 1     \n",
      "4 | loss_func | MSELoss | 0     \n",
      "--------------------------------------\n",
      "60.4 K    Trainable params\n",
      "0         Non-trainable params\n",
      "60.4 K    Total params\n",
      "0.242     Total estimated model params size (MB)\n"
     ]
    },
    {
     "name": "stdout",
     "output_type": "stream",
     "text": [
      "Epoch 0:  50%|█████     | 41/82 [00:00<00:00, 98.93it/s, loss=8.87, v_num=267] \n",
      "Validating: 0it [00:00, ?it/s]\u001B[A\n",
      "Epoch 0: 100%|██████████| 82/82 [00:00<00:00, 172.59it/s, loss=8.87, v_num=267]\n",
      "Epoch 1:  50%|█████     | 41/82 [00:00<00:00, 105.83it/s, loss=4.39, v_num=267]\n",
      "Validating: 0it [00:00, ?it/s]\u001B[A\n",
      "Epoch 1: 100%|██████████| 82/82 [00:00<00:00, 182.05it/s, loss=4.39, v_num=267]\n",
      "Epoch 2:  50%|█████     | 41/82 [00:00<00:00, 99.61it/s, loss=3.97, v_num=267] \n",
      "Validating: 0it [00:00, ?it/s]\u001B[A\n",
      "Epoch 2: 100%|██████████| 82/82 [00:00<00:00, 173.17it/s, loss=3.97, v_num=267]\n",
      "Epoch 3:  50%|█████     | 41/82 [00:00<00:00, 109.84it/s, loss=3.46, v_num=267]\n",
      "Validating: 0it [00:00, ?it/s]\u001B[A\n",
      "Epoch 3: 100%|██████████| 82/82 [00:00<00:00, 193.15it/s, loss=3.46, v_num=267]\n",
      "Epoch 4:  50%|█████     | 41/82 [00:00<00:00, 117.30it/s, loss=3.36, v_num=267]\n",
      "Validating: 0it [00:00, ?it/s]\u001B[A\n",
      "Epoch 4: 100%|██████████| 82/82 [00:00<00:00, 200.53it/s, loss=3.36, v_num=267]\n",
      "Epoch 5:  50%|█████     | 41/82 [00:00<00:00, 103.23it/s, loss=4.17, v_num=267]\n",
      "Validating: 0it [00:00, ?it/s]\u001B[A\n",
      "Epoch 5: 100%|██████████| 82/82 [00:00<00:00, 183.16it/s, loss=4.17, v_num=267]\n",
      "Epoch 6:  50%|█████     | 41/82 [00:00<00:00, 105.03it/s, loss=3.39, v_num=267]\n",
      "Validating: 0it [00:00, ?it/s]\u001B[A\n",
      "Epoch 6: 100%|██████████| 82/82 [00:00<00:00, 182.50it/s, loss=3.39, v_num=267]\n",
      "Epoch 7:  50%|█████     | 41/82 [00:00<00:00, 107.68it/s, loss=3.58, v_num=267]\n",
      "Validating: 0it [00:00, ?it/s]\u001B[A\n",
      "Epoch 7: 100%|██████████| 82/82 [00:00<00:00, 185.20it/s, loss=3.58, v_num=267]\n",
      "Epoch 8:  50%|█████     | 41/82 [00:00<00:00, 103.85it/s, loss=3.24, v_num=267]\n",
      "Validating: 0it [00:00, ?it/s]\u001B[A\n",
      "Epoch 8: 100%|██████████| 82/82 [00:00<00:00, 179.68it/s, loss=3.24, v_num=267]\n",
      "Epoch 9:  50%|█████     | 41/82 [00:00<00:00, 104.96it/s, loss=3.39, v_num=267]\n",
      "Validating: 0it [00:00, ?it/s]\u001B[A\n",
      "Epoch 9: 100%|██████████| 82/82 [00:00<00:00, 181.14it/s, loss=3.39, v_num=267]\n",
      "Epoch 9: 100%|██████████| 82/82 [00:00<00:00, 178.39it/s, loss=3.39, v_num=267]\n"
     ]
    },
    {
     "name": "stderr",
     "output_type": "stream",
     "text": [
      "GPU available: True, used: False\n",
      "TPU available: False, using: 0 TPU cores\n",
      "IPU available: False, using: 0 IPUs\n"
     ]
    },
    {
     "name": "stdout",
     "output_type": "stream",
     "text": [
      "1\n"
     ]
    },
    {
     "name": "stderr",
     "output_type": "stream",
     "text": [
      "\n",
      "  | Name      | Type    | Params\n",
      "--------------------------------------\n",
      "0 | encoder   | Linear  | 28.8 K\n",
      "1 | act_1     | PReLU   | 1     \n",
      "2 | decoder   | Linear  | 31.6 K\n",
      "3 | act_2     | PReLU   | 1     \n",
      "4 | loss_func | MSELoss | 0     \n",
      "--------------------------------------\n",
      "60.4 K    Trainable params\n",
      "0         Non-trainable params\n",
      "60.4 K    Total params\n",
      "0.242     Total estimated model params size (MB)\n"
     ]
    },
    {
     "name": "stdout",
     "output_type": "stream",
     "text": [
      "Epoch 0:  50%|█████     | 41/82 [00:00<00:00, 106.62it/s, loss=9.13, v_num=268]\n",
      "Validating: 0it [00:00, ?it/s]\u001B[A\n",
      "Epoch 0: 100%|██████████| 82/82 [00:00<00:00, 189.44it/s, loss=9.13, v_num=268]\n",
      "Epoch 1:  50%|█████     | 41/82 [00:00<00:00, 106.15it/s, loss=5.89, v_num=268]\n",
      "Validating: 0it [00:00, ?it/s]\u001B[A\n",
      "Epoch 1: 100%|██████████| 82/82 [00:00<00:00, 188.75it/s, loss=5.89, v_num=268]\n",
      "Epoch 2:  50%|█████     | 41/82 [00:00<00:00, 105.05it/s, loss=5.61, v_num=268]\n",
      "Validating: 0it [00:00, ?it/s]\u001B[A\n",
      "Epoch 2: 100%|██████████| 82/82 [00:00<00:00, 186.96it/s, loss=5.61, v_num=268]\n",
      "Epoch 3:  50%|█████     | 41/82 [00:00<00:00, 112.10it/s, loss=6.05, v_num=268]\n",
      "Validating: 0it [00:00, ?it/s]\u001B[A\n",
      "Epoch 3: 100%|██████████| 82/82 [00:00<00:00, 193.11it/s, loss=6.05, v_num=268]\n",
      "Epoch 4:  50%|█████     | 41/82 [00:00<00:00, 106.09it/s, loss=6.39, v_num=268]\n",
      "Validating: 0it [00:00, ?it/s]\u001B[A\n",
      "Epoch 4: 100%|██████████| 82/82 [00:00<00:00, 188.88it/s, loss=6.39, v_num=268]\n",
      "Epoch 5:  50%|█████     | 41/82 [00:00<00:00, 107.44it/s, loss=5.91, v_num=268]\n",
      "Validating: 0it [00:00, ?it/s]\u001B[A\n",
      "Epoch 5: 100%|██████████| 82/82 [00:00<00:00, 185.24it/s, loss=5.91, v_num=268]\n",
      "Epoch 6:  50%|█████     | 41/82 [00:00<00:00, 97.01it/s, loss=5.86, v_num=268] \n",
      "Validating: 0it [00:00, ?it/s]\u001B[A\n",
      "Epoch 6: 100%|██████████| 82/82 [00:00<00:00, 173.50it/s, loss=5.86, v_num=268]\n",
      "Epoch 7:  50%|█████     | 41/82 [00:00<00:00, 107.61it/s, loss=6.22, v_num=268]\n",
      "Validating: 0it [00:00, ?it/s]\u001B[A\n",
      "Epoch 7: 100%|██████████| 82/82 [00:00<00:00, 186.64it/s, loss=6.22, v_num=268]\n",
      "Epoch 8:  50%|█████     | 41/82 [00:00<00:00, 106.49it/s, loss=6.35, v_num=268]\n",
      "Validating: 0it [00:00, ?it/s]\u001B[A\n",
      "Epoch 8: 100%|██████████| 82/82 [00:00<00:00, 184.47it/s, loss=6.35, v_num=268]\n",
      "Epoch 9:  50%|█████     | 41/82 [00:00<00:00, 99.82it/s, loss=6.5, v_num=268]  \n",
      "Validating: 0it [00:00, ?it/s]\u001B[A\n",
      "Epoch 9: 100%|██████████| 82/82 [00:00<00:00, 174.07it/s, loss=6.5, v_num=268]\n",
      "Epoch 9: 100%|██████████| 82/82 [00:00<00:00, 171.59it/s, loss=6.5, v_num=268]\n"
     ]
    },
    {
     "name": "stderr",
     "output_type": "stream",
     "text": [
      "GPU available: True, used: False\n",
      "TPU available: False, using: 0 TPU cores\n",
      "IPU available: False, using: 0 IPUs\n"
     ]
    },
    {
     "name": "stdout",
     "output_type": "stream",
     "text": [
      "100\n"
     ]
    },
    {
     "name": "stderr",
     "output_type": "stream",
     "text": [
      "\n",
      "  | Name      | Type    | Params\n",
      "--------------------------------------\n",
      "0 | encoder   | Linear  | 28.8 K\n",
      "1 | act_1     | PReLU   | 1     \n",
      "2 | decoder   | Linear  | 31.6 K\n",
      "3 | act_2     | PReLU   | 1     \n",
      "4 | loss_func | MSELoss | 0     \n",
      "--------------------------------------\n",
      "60.4 K    Trainable params\n",
      "0         Non-trainable params\n",
      "60.4 K    Total params\n",
      "0.242     Total estimated model params size (MB)\n"
     ]
    },
    {
     "name": "stdout",
     "output_type": "stream",
     "text": [
      "Epoch 0:  50%|█████     | 41/82 [00:00<00:00, 104.53it/s, loss=13.4, v_num=269]\n",
      "Validating: 0it [00:00, ?it/s]\u001B[A\n",
      "Epoch 0: 100%|██████████| 82/82 [00:00<00:00, 184.74it/s, loss=13.4, v_num=269]\n",
      "Epoch 1:  50%|█████     | 41/82 [00:00<00:00, 108.02it/s, loss=15, v_num=269]  \n",
      "Validating: 0it [00:00, ?it/s]\u001B[A\n",
      "Epoch 1: 100%|██████████| 82/82 [00:00<00:00, 186.57it/s, loss=15, v_num=269]\n",
      "Epoch 2:  50%|█████     | 41/82 [00:00<00:00, 101.98it/s, loss=15.6, v_num=269]\n",
      "Validating: 0it [00:00, ?it/s]\u001B[A\n",
      "Epoch 2: 100%|██████████| 82/82 [00:00<00:00, 176.32it/s, loss=15.6, v_num=269]\n",
      "Epoch 3:  50%|█████     | 41/82 [00:00<00:00, 106.56it/s, loss=14.7, v_num=269]\n",
      "Validating: 0it [00:00, ?it/s]\u001B[A\n",
      "Epoch 3: 100%|██████████| 82/82 [00:00<00:00, 184.27it/s, loss=14.7, v_num=269]\n",
      "Epoch 4:  50%|█████     | 41/82 [00:00<00:00, 108.32it/s, loss=14.9, v_num=269]\n",
      "Validating: 0it [00:00, ?it/s]\u001B[A\n",
      "Epoch 4: 100%|██████████| 82/82 [00:00<00:00, 189.06it/s, loss=14.9, v_num=269]\n",
      "Epoch 5:  50%|█████     | 41/82 [00:00<00:00, 106.94it/s, loss=15, v_num=269]  \n",
      "Validating: 0it [00:00, ?it/s]\u001B[A\n",
      "Epoch 5: 100%|██████████| 82/82 [00:00<00:00, 185.02it/s, loss=15, v_num=269]\n",
      "Epoch 6:  50%|█████     | 41/82 [00:00<00:00, 94.99it/s, loss=15.6, v_num=269]\n",
      "Validating: 0it [00:00, ?it/s]\u001B[A\n",
      "Epoch 6: 100%|██████████| 82/82 [00:00<00:00, 166.87it/s, loss=15.6, v_num=269]\n",
      "Epoch 7:  50%|█████     | 41/82 [00:00<00:00, 110.04it/s, loss=14.8, v_num=269]\n",
      "Validating: 0it [00:00, ?it/s]\u001B[A\n",
      "Epoch 7: 100%|██████████| 82/82 [00:00<00:00, 193.73it/s, loss=14.8, v_num=269]\n",
      "Epoch 8:  50%|█████     | 41/82 [00:00<00:00, 100.39it/s, loss=14.9, v_num=269]\n",
      "Validating: 0it [00:00, ?it/s]\u001B[A\n",
      "Epoch 8: 100%|██████████| 82/82 [00:00<00:00, 173.63it/s, loss=14.9, v_num=269]\n",
      "Epoch 9:  50%|█████     | 41/82 [00:00<00:00, 92.10it/s, loss=15.1, v_num=269] \n",
      "Validating: 0it [00:00, ?it/s]\u001B[A\n",
      "Epoch 9: 100%|██████████| 82/82 [00:00<00:00, 165.24it/s, loss=15.1, v_num=269]\n",
      "Epoch 9: 100%|██████████| 82/82 [00:00<00:00, 163.07it/s, loss=15.1, v_num=269]\n"
     ]
    },
    {
     "name": "stderr",
     "output_type": "stream",
     "text": [
      "GPU available: True, used: False\n",
      "TPU available: False, using: 0 TPU cores\n",
      "IPU available: False, using: 0 IPUs\n"
     ]
    },
    {
     "name": "stdout",
     "output_type": "stream",
     "text": [
      "0.01\n"
     ]
    },
    {
     "name": "stderr",
     "output_type": "stream",
     "text": [
      "\n",
      "  | Name      | Type    | Params\n",
      "--------------------------------------\n",
      "0 | encoder   | Linear  | 28.8 K\n",
      "1 | act_1     | Sigmoid | 0     \n",
      "2 | decoder   | Linear  | 31.6 K\n",
      "3 | act_2     | Sigmoid | 0     \n",
      "4 | loss_func | MSELoss | 0     \n",
      "--------------------------------------\n",
      "60.4 K    Trainable params\n",
      "0         Non-trainable params\n",
      "60.4 K    Total params\n",
      "0.242     Total estimated model params size (MB)\n"
     ]
    },
    {
     "name": "stdout",
     "output_type": "stream",
     "text": [
      "Epoch 0:   0%|          | 0/82 [00:00<?, ?it/s]               "
     ]
    },
    {
     "name": "stderr",
     "output_type": "stream",
     "text": [
      "GPU available: True, used: False\n",
      "TPU available: False, using: 0 TPU cores\n",
      "IPU available: False, using: 0 IPUs\n",
      "\n",
      "  | Name      | Type    | Params\n",
      "--------------------------------------\n",
      "0 | encoder   | Linear  | 28.8 K\n",
      "1 | act_1     | Sigmoid | 0     \n",
      "2 | decoder   | Linear  | 31.6 K\n",
      "3 | act_2     | Sigmoid | 0     \n",
      "4 | loss_func | MSELoss | 0     \n",
      "--------------------------------------\n",
      "60.4 K    Trainable params\n",
      "0         Non-trainable params\n",
      "60.4 K    Total params\n",
      "0.242     Total estimated model params size (MB)\n"
     ]
    },
    {
     "name": "stdout",
     "output_type": "stream",
     "text": [
      "0.1\n",
      "Epoch 0:   0%|          | 0/82 [00:00<?, ?it/s]               "
     ]
    },
    {
     "name": "stderr",
     "output_type": "stream",
     "text": [
      "GPU available: True, used: False\n",
      "TPU available: False, using: 0 TPU cores\n",
      "IPU available: False, using: 0 IPUs\n"
     ]
    },
    {
     "name": "stdout",
     "output_type": "stream",
     "text": [
      "1\n"
     ]
    },
    {
     "name": "stderr",
     "output_type": "stream",
     "text": [
      "\n",
      "  | Name      | Type    | Params\n",
      "--------------------------------------\n",
      "0 | encoder   | Linear  | 28.8 K\n",
      "1 | act_1     | Sigmoid | 0     \n",
      "2 | decoder   | Linear  | 31.6 K\n",
      "3 | act_2     | Sigmoid | 0     \n",
      "4 | loss_func | MSELoss | 0     \n",
      "--------------------------------------\n",
      "60.4 K    Trainable params\n",
      "0         Non-trainable params\n",
      "60.4 K    Total params\n",
      "0.242     Total estimated model params size (MB)\n"
     ]
    },
    {
     "name": "stdout",
     "output_type": "stream",
     "text": [
      "Epoch 0:   0%|          | 0/82 [00:00<?, ?it/s]               "
     ]
    },
    {
     "name": "stderr",
     "output_type": "stream",
     "text": [
      "GPU available: True, used: False\n",
      "TPU available: False, using: 0 TPU cores\n",
      "IPU available: False, using: 0 IPUs\n",
      "\n",
      "  | Name      | Type    | Params\n",
      "--------------------------------------\n",
      "0 | encoder   | Linear  | 28.8 K\n",
      "1 | act_1     | Sigmoid | 0     \n",
      "2 | decoder   | Linear  | 31.6 K\n",
      "3 | act_2     | Sigmoid | 0     \n",
      "4 | loss_func | MSELoss | 0     \n",
      "--------------------------------------\n",
      "60.4 K    Trainable params\n",
      "0         Non-trainable params\n",
      "60.4 K    Total params\n",
      "0.242     Total estimated model params size (MB)\n"
     ]
    },
    {
     "name": "stdout",
     "output_type": "stream",
     "text": [
      "100\n",
      "Epoch 0:   0%|          | 0/82 [00:00<?, ?it/s]               "
     ]
    },
    {
     "name": "stderr",
     "output_type": "stream",
     "text": [
      "GPU available: True, used: False\n",
      "TPU available: False, using: 0 TPU cores\n",
      "IPU available: False, using: 0 IPUs\n"
     ]
    },
    {
     "name": "stdout",
     "output_type": "stream",
     "text": [
      "0.01\n"
     ]
    },
    {
     "name": "stderr",
     "output_type": "stream",
     "text": [
      "\n",
      "  | Name      | Type    | Params\n",
      "--------------------------------------\n",
      "0 | encoder   | Linear  | 230 K \n",
      "1 | act_1     | PReLU   | 1     \n",
      "2 | decoder   | Linear  | 232 K \n",
      "3 | act_2     | PReLU   | 1     \n",
      "4 | loss_func | MSELoss | 0     \n",
      "--------------------------------------\n",
      "463 K     Trainable params\n",
      "0         Non-trainable params\n",
      "463 K     Total params\n",
      "1.852     Total estimated model params size (MB)\n"
     ]
    },
    {
     "name": "stdout",
     "output_type": "stream",
     "text": [
      "Epoch 0:  50%|█████     | 41/82 [00:00<00:00, 79.56it/s, loss=17.5, v_num=274]\n",
      "Validating: 0it [00:00, ?it/s]\u001B[A\n",
      "Epoch 0: 100%|██████████| 82/82 [00:00<00:00, 141.36it/s, loss=17.5, v_num=274]\n",
      "Epoch 1:  50%|█████     | 41/82 [00:00<00:00, 79.92it/s, loss=6.38, v_num=274] \n",
      "Validating: 0it [00:00, ?it/s]\u001B[A\n",
      "Epoch 1: 100%|██████████| 82/82 [00:00<00:00, 143.41it/s, loss=6.38, v_num=274]\n",
      "Epoch 2:  50%|█████     | 41/82 [00:00<00:00, 86.23it/s, loss=5.39, v_num=274] \n",
      "Validating: 0it [00:00, ?it/s]\u001B[A\n",
      "Epoch 2: 100%|██████████| 82/82 [00:00<00:00, 151.69it/s, loss=5.39, v_num=274]\n",
      "Epoch 3:  50%|█████     | 41/82 [00:00<00:00, 82.25it/s, loss=4.47, v_num=274] \n",
      "Validating: 0it [00:00, ?it/s]\u001B[A\n",
      "Epoch 3: 100%|██████████| 82/82 [00:00<00:00, 145.38it/s, loss=4.47, v_num=274]\n",
      "Epoch 4:  50%|█████     | 41/82 [00:00<00:00, 82.41it/s, loss=3.09, v_num=274] \n",
      "Validating: 0it [00:00, ?it/s]\u001B[A\n",
      "Epoch 4: 100%|██████████| 82/82 [00:00<00:00, 147.68it/s, loss=3.09, v_num=274]\n",
      "Epoch 5:  50%|█████     | 41/82 [00:00<00:00, 85.15it/s, loss=2.58, v_num=274] \n",
      "Validating: 0it [00:00, ?it/s]\u001B[A\n",
      "Epoch 5: 100%|██████████| 82/82 [00:00<00:00, 149.18it/s, loss=2.58, v_num=274]\n",
      "Epoch 6:  50%|█████     | 41/82 [00:00<00:00, 77.81it/s, loss=1.91, v_num=274] \n",
      "Validating: 0it [00:00, ?it/s]\u001B[A\n",
      "Epoch 6: 100%|██████████| 82/82 [00:00<00:00, 136.60it/s, loss=1.91, v_num=274]\n",
      "Epoch 7:  50%|█████     | 41/82 [00:00<00:00, 87.94it/s, loss=1.95, v_num=274] \n",
      "Validating: 0it [00:00, ?it/s]\u001B[A\n",
      "Epoch 7: 100%|██████████| 82/82 [00:00<00:00, 151.84it/s, loss=1.95, v_num=274]\n",
      "Epoch 8:  50%|█████     | 41/82 [00:00<00:00, 86.04it/s, loss=1.73, v_num=274] \n",
      "Validating: 0it [00:00, ?it/s]\u001B[A\n",
      "Epoch 8: 100%|██████████| 82/82 [00:00<00:00, 151.42it/s, loss=1.73, v_num=274]\n",
      "Epoch 9:  50%|█████     | 41/82 [00:00<00:00, 81.21it/s, loss=1.78, v_num=274] \n",
      "Validating: 0it [00:00, ?it/s]\u001B[A\n",
      "Epoch 9: 100%|██████████| 82/82 [00:00<00:00, 146.44it/s, loss=1.78, v_num=274]\n",
      "Epoch 9: 100%|██████████| 82/82 [00:00<00:00, 142.93it/s, loss=1.78, v_num=274]\n"
     ]
    },
    {
     "name": "stderr",
     "output_type": "stream",
     "text": [
      "GPU available: True, used: False\n",
      "TPU available: False, using: 0 TPU cores\n",
      "IPU available: False, using: 0 IPUs\n"
     ]
    },
    {
     "name": "stdout",
     "output_type": "stream",
     "text": [
      "0.1\n"
     ]
    },
    {
     "name": "stderr",
     "output_type": "stream",
     "text": [
      "\n",
      "  | Name      | Type    | Params\n",
      "--------------------------------------\n",
      "0 | encoder   | Linear  | 230 K \n",
      "1 | act_1     | PReLU   | 1     \n",
      "2 | decoder   | Linear  | 232 K \n",
      "3 | act_2     | PReLU   | 1     \n",
      "4 | loss_func | MSELoss | 0     \n",
      "--------------------------------------\n",
      "463 K     Trainable params\n",
      "0         Non-trainable params\n",
      "463 K     Total params\n",
      "1.852     Total estimated model params size (MB)\n"
     ]
    },
    {
     "name": "stdout",
     "output_type": "stream",
     "text": [
      "Epoch 0:  50%|█████     | 41/82 [00:00<00:00, 87.07it/s, loss=14.2, v_num=275]\n",
      "Validating: 0it [00:00, ?it/s]\u001B[A\n",
      "Epoch 0: 100%|██████████| 82/82 [00:00<00:00, 155.84it/s, loss=14.2, v_num=275]\n",
      "Epoch 1:  51%|█████     | 42/82 [00:00<00:00, 84.81it/s, loss=6.39, v_num=275] \n",
      "Validating: 0it [00:00, ?it/s]\u001B[A\n",
      "Epoch 1: 100%|██████████| 82/82 [00:00<00:00, 149.67it/s, loss=6.39, v_num=275]\n",
      "Epoch 2:  51%|█████     | 42/82 [00:00<00:00, 79.79it/s, loss=5.15, v_num=275] \n",
      "Validating: 0it [00:00, ?it/s]\u001B[A\n",
      "Epoch 2: 100%|██████████| 82/82 [00:00<00:00, 139.61it/s, loss=5.15, v_num=275]\n",
      "Epoch 3:  51%|█████     | 42/82 [00:00<00:00, 91.62it/s, loss=5.32, v_num=275] \n",
      "Validating: 0it [00:00, ?it/s]\u001B[A\n",
      "Epoch 3: 100%|██████████| 82/82 [00:00<00:00, 159.21it/s, loss=5.32, v_num=275]\n",
      "Epoch 4:  51%|█████     | 42/82 [00:00<00:00, 84.40it/s, loss=5.18, v_num=275] \n",
      "Validating: 0it [00:00, ?it/s]\u001B[A\n",
      "Epoch 4: 100%|██████████| 82/82 [00:00<00:00, 148.40it/s, loss=5.18, v_num=275]\n",
      "Epoch 5:  51%|█████     | 42/82 [00:00<00:00, 82.53it/s, loss=4.74, v_num=275] \n",
      "Validating: 0it [00:00, ?it/s]\u001B[A\n",
      "Epoch 5: 100%|██████████| 82/82 [00:00<00:00, 144.97it/s, loss=4.74, v_num=275]\n",
      "Epoch 6:  51%|█████     | 42/82 [00:00<00:00, 81.91it/s, loss=4.62, v_num=275] \n",
      "Validating: 0it [00:00, ?it/s]\u001B[A\n",
      "Epoch 6: 100%|██████████| 82/82 [00:00<00:00, 144.06it/s, loss=4.62, v_num=275]\n",
      "Epoch 7:  51%|█████     | 42/82 [00:00<00:00, 85.34it/s, loss=4.09, v_num=275] \n",
      "Validating: 0it [00:00, ?it/s]\u001B[A\n",
      "Epoch 7: 100%|██████████| 82/82 [00:00<00:00, 147.81it/s, loss=4.09, v_num=275]\n",
      "Epoch 8:  51%|█████     | 42/82 [00:00<00:00, 83.09it/s, loss=3.57, v_num=275] \n",
      "Validating: 0it [00:00, ?it/s]\u001B[A\n",
      "Epoch 8: 100%|██████████| 82/82 [00:00<00:00, 145.28it/s, loss=3.57, v_num=275]\n",
      "Epoch 9:  51%|█████     | 42/82 [00:00<00:00, 84.88it/s, loss=4.01, v_num=275] \n",
      "Validating: 0it [00:00, ?it/s]\u001B[A\n",
      "Epoch 9: 100%|██████████| 82/82 [00:00<00:00, 147.18it/s, loss=4.01, v_num=275]\n",
      "Epoch 9: 100%|██████████| 82/82 [00:00<00:00, 143.32it/s, loss=4.01, v_num=275]\n"
     ]
    },
    {
     "name": "stderr",
     "output_type": "stream",
     "text": [
      "GPU available: True, used: False\n",
      "TPU available: False, using: 0 TPU cores\n",
      "IPU available: False, using: 0 IPUs\n"
     ]
    },
    {
     "name": "stdout",
     "output_type": "stream",
     "text": [
      "1\n"
     ]
    },
    {
     "name": "stderr",
     "output_type": "stream",
     "text": [
      "\n",
      "  | Name      | Type    | Params\n",
      "--------------------------------------\n",
      "0 | encoder   | Linear  | 230 K \n",
      "1 | act_1     | PReLU   | 1     \n",
      "2 | decoder   | Linear  | 232 K \n",
      "3 | act_2     | PReLU   | 1     \n",
      "4 | loss_func | MSELoss | 0     \n",
      "--------------------------------------\n",
      "463 K     Trainable params\n",
      "0         Non-trainable params\n",
      "463 K     Total params\n",
      "1.852     Total estimated model params size (MB)\n"
     ]
    },
    {
     "name": "stdout",
     "output_type": "stream",
     "text": [
      "Epoch 0:  50%|█████     | 41/82 [00:00<00:00, 79.09it/s, loss=9.96, v_num=276]\n",
      "Validating: 0it [00:00, ?it/s]\u001B[A\n",
      "Epoch 0: 100%|██████████| 82/82 [00:00<00:00, 138.72it/s, loss=9.96, v_num=276]\n",
      "Epoch 1:  50%|█████     | 41/82 [00:00<00:00, 83.56it/s, loss=6.19, v_num=276] \n",
      "Validating: 0it [00:00, ?it/s]\u001B[A\n",
      "Epoch 1: 100%|██████████| 82/82 [00:00<00:00, 147.88it/s, loss=6.19, v_num=276]\n",
      "Epoch 2:  51%|█████     | 42/82 [00:00<00:00, 91.81it/s, loss=6.16, v_num=276] \n",
      "Validating: 0it [00:00, ?it/s]\u001B[A\n",
      "Epoch 2: 100%|██████████| 82/82 [00:00<00:00, 160.76it/s, loss=6.16, v_num=276]\n",
      "Epoch 3:  51%|█████     | 42/82 [00:00<00:00, 83.39it/s, loss=6.26, v_num=276] \n",
      "Validating: 0it [00:00, ?it/s]\u001B[A\n",
      "Epoch 3: 100%|██████████| 82/82 [00:00<00:00, 144.56it/s, loss=6.26, v_num=276]\n",
      "Epoch 4:  51%|█████     | 42/82 [00:00<00:00, 81.26it/s, loss=6.31, v_num=276] \n",
      "Validating: 0it [00:00, ?it/s]\u001B[A\n",
      "Epoch 4: 100%|██████████| 82/82 [00:00<00:00, 140.86it/s, loss=6.31, v_num=276]\n",
      "Epoch 5:  51%|█████     | 42/82 [00:00<00:00, 80.89it/s, loss=6.67, v_num=276] \n",
      "Validating: 0it [00:00, ?it/s]\u001B[A\n",
      "Epoch 5: 100%|██████████| 82/82 [00:00<00:00, 140.78it/s, loss=6.67, v_num=276]\n",
      "Epoch 6:  51%|█████     | 42/82 [00:00<00:00, 89.39it/s, loss=5.76, v_num=276] \n",
      "Validating: 0it [00:00, ?it/s]\u001B[A\n",
      "Epoch 6: 100%|██████████| 82/82 [00:00<00:00, 157.22it/s, loss=5.76, v_num=276]\n",
      "Epoch 7:  51%|█████     | 42/82 [00:00<00:00, 85.34it/s, loss=4.5, v_num=276]  \n",
      "Validating: 0it [00:00, ?it/s]\u001B[A\n",
      "Epoch 7: 100%|██████████| 82/82 [00:00<00:00, 149.39it/s, loss=4.5, v_num=276]\n",
      "Epoch 8:  51%|█████     | 42/82 [00:00<00:00, 85.53it/s, loss=3.94, v_num=276]\n",
      "Validating: 0it [00:00, ?it/s]\u001B[A\n",
      "Epoch 8: 100%|██████████| 82/82 [00:00<00:00, 146.88it/s, loss=3.94, v_num=276]\n",
      "Epoch 9:  51%|█████     | 42/82 [00:00<00:00, 81.45it/s, loss=3.43, v_num=276] \n",
      "Validating: 0it [00:00, ?it/s]\u001B[A\n",
      "Epoch 9: 100%|██████████| 82/82 [00:00<00:00, 143.41it/s, loss=3.43, v_num=276]\n",
      "Epoch 9: 100%|██████████| 82/82 [00:00<00:00, 140.08it/s, loss=3.43, v_num=276]\n"
     ]
    },
    {
     "name": "stderr",
     "output_type": "stream",
     "text": [
      "GPU available: True, used: False\n",
      "TPU available: False, using: 0 TPU cores\n",
      "IPU available: False, using: 0 IPUs\n"
     ]
    },
    {
     "name": "stdout",
     "output_type": "stream",
     "text": [
      "100\n"
     ]
    },
    {
     "name": "stderr",
     "output_type": "stream",
     "text": [
      "\n",
      "  | Name      | Type    | Params\n",
      "--------------------------------------\n",
      "0 | encoder   | Linear  | 230 K \n",
      "1 | act_1     | PReLU   | 1     \n",
      "2 | decoder   | Linear  | 232 K \n",
      "3 | act_2     | PReLU   | 1     \n",
      "4 | loss_func | MSELoss | 0     \n",
      "--------------------------------------\n",
      "463 K     Trainable params\n",
      "0         Non-trainable params\n",
      "463 K     Total params\n",
      "1.852     Total estimated model params size (MB)\n"
     ]
    },
    {
     "name": "stdout",
     "output_type": "stream",
     "text": [
      "Epoch 0:  50%|█████     | 41/82 [00:00<00:00, 84.37it/s, loss=14.6, v_num=277]\n",
      "Validating: 0it [00:00, ?it/s]\u001B[A\n",
      "Epoch 0: 100%|██████████| 82/82 [00:00<00:00, 151.06it/s, loss=14.6, v_num=277]\n",
      "Epoch 1:  51%|█████     | 42/82 [00:00<00:00, 80.59it/s, loss=15.4, v_num=277] \n",
      "Validating: 0it [00:00, ?it/s]\u001B[A\n",
      "Epoch 1: 100%|██████████| 82/82 [00:00<00:00, 139.56it/s, loss=15.4, v_num=277]\n",
      "Epoch 2:  51%|█████     | 42/82 [00:00<00:00, 87.64it/s, loss=14.7, v_num=277] \n",
      "Validating: 0it [00:00, ?it/s]\u001B[A\n",
      "Epoch 2: 100%|██████████| 82/82 [00:00<00:00, 149.86it/s, loss=14.7, v_num=277]\n",
      "Epoch 3:  51%|█████     | 42/82 [00:00<00:00, 85.46it/s, loss=15, v_num=277]   \n",
      "Validating: 0it [00:00, ?it/s]\u001B[A\n",
      "Epoch 3: 100%|██████████| 82/82 [00:00<00:00, 148.75it/s, loss=15, v_num=277]\n",
      "Epoch 4:  51%|█████     | 42/82 [00:00<00:00, 82.36it/s, loss=14.6, v_num=277]\n",
      "Validating: 0it [00:00, ?it/s]\u001B[A\n",
      "Epoch 4: 100%|██████████| 82/82 [00:00<00:00, 141.48it/s, loss=14.6, v_num=277]\n",
      "Epoch 5:  51%|█████     | 42/82 [00:00<00:00, 82.94it/s, loss=15, v_num=277]   \n",
      "Validating: 0it [00:00, ?it/s]\u001B[A\n",
      "Epoch 5: 100%|██████████| 82/82 [00:00<00:00, 146.17it/s, loss=15, v_num=277]\n",
      "Epoch 6:  51%|█████     | 42/82 [00:00<00:00, 89.98it/s, loss=14.8, v_num=277]\n",
      "Validating: 0it [00:00, ?it/s]\u001B[A\n",
      "Epoch 6: 100%|██████████| 82/82 [00:00<00:00, 156.35it/s, loss=14.8, v_num=277]\n",
      "Epoch 7:  51%|█████     | 42/82 [00:00<00:00, 80.68it/s, loss=14.9, v_num=277] \n",
      "Validating: 0it [00:00, ?it/s]\u001B[A\n",
      "Epoch 7: 100%|██████████| 82/82 [00:00<00:00, 140.09it/s, loss=14.9, v_num=277]\n",
      "Epoch 8:  51%|█████     | 42/82 [00:00<00:00, 90.61it/s, loss=14.9, v_num=277] \n",
      "Validating: 0it [00:00, ?it/s]\u001B[A\n",
      "Epoch 8: 100%|██████████| 82/82 [00:00<00:00, 155.85it/s, loss=14.9, v_num=277]\n",
      "Epoch 9:  51%|█████     | 42/82 [00:00<00:00, 88.90it/s, loss=14.8, v_num=277] \n",
      "Validating: 0it [00:00, ?it/s]\u001B[A\n",
      "Epoch 9: 100%|██████████| 82/82 [00:00<00:00, 153.87it/s, loss=14.8, v_num=277]\n",
      "Epoch 9: 100%|██████████| 82/82 [00:00<00:00, 149.91it/s, loss=14.8, v_num=277]\n"
     ]
    },
    {
     "name": "stderr",
     "output_type": "stream",
     "text": [
      "GPU available: True, used: False\n",
      "TPU available: False, using: 0 TPU cores\n",
      "IPU available: False, using: 0 IPUs\n"
     ]
    },
    {
     "name": "stdout",
     "output_type": "stream",
     "text": [
      "0.01\n"
     ]
    },
    {
     "name": "stderr",
     "output_type": "stream",
     "text": [
      "\n",
      "  | Name      | Type    | Params\n",
      "--------------------------------------\n",
      "0 | encoder   | Linear  | 230 K \n",
      "1 | act_1     | Sigmoid | 0     \n",
      "2 | decoder   | Linear  | 232 K \n",
      "3 | act_2     | Sigmoid | 0     \n",
      "4 | loss_func | MSELoss | 0     \n",
      "--------------------------------------\n",
      "463 K     Trainable params\n",
      "0         Non-trainable params\n",
      "463 K     Total params\n",
      "1.852     Total estimated model params size (MB)\n"
     ]
    },
    {
     "name": "stdout",
     "output_type": "stream",
     "text": [
      "Epoch 0:   0%|          | 0/82 [00:00<?, ?it/s]               "
     ]
    },
    {
     "name": "stderr",
     "output_type": "stream",
     "text": [
      "GPU available: True, used: False\n",
      "TPU available: False, using: 0 TPU cores\n",
      "IPU available: False, using: 0 IPUs\n"
     ]
    },
    {
     "name": "stdout",
     "output_type": "stream",
     "text": [
      "0.1\n"
     ]
    },
    {
     "name": "stderr",
     "output_type": "stream",
     "text": [
      "\n",
      "  | Name      | Type    | Params\n",
      "--------------------------------------\n",
      "0 | encoder   | Linear  | 230 K \n",
      "1 | act_1     | Sigmoid | 0     \n",
      "2 | decoder   | Linear  | 232 K \n",
      "3 | act_2     | Sigmoid | 0     \n",
      "4 | loss_func | MSELoss | 0     \n",
      "--------------------------------------\n",
      "463 K     Trainable params\n",
      "0         Non-trainable params\n",
      "463 K     Total params\n",
      "1.852     Total estimated model params size (MB)\n"
     ]
    },
    {
     "name": "stdout",
     "output_type": "stream",
     "text": [
      "Epoch 0:   0%|          | 0/82 [00:00<?, ?it/s]               "
     ]
    },
    {
     "name": "stderr",
     "output_type": "stream",
     "text": [
      "GPU available: True, used: False\n",
      "TPU available: False, using: 0 TPU cores\n",
      "IPU available: False, using: 0 IPUs\n"
     ]
    },
    {
     "name": "stdout",
     "output_type": "stream",
     "text": [
      "1\n"
     ]
    },
    {
     "name": "stderr",
     "output_type": "stream",
     "text": [
      "\n",
      "  | Name      | Type    | Params\n",
      "--------------------------------------\n",
      "0 | encoder   | Linear  | 230 K \n",
      "1 | act_1     | Sigmoid | 0     \n",
      "2 | decoder   | Linear  | 232 K \n",
      "3 | act_2     | Sigmoid | 0     \n",
      "4 | loss_func | MSELoss | 0     \n",
      "--------------------------------------\n",
      "463 K     Trainable params\n",
      "0         Non-trainable params\n",
      "463 K     Total params\n",
      "1.852     Total estimated model params size (MB)\n"
     ]
    },
    {
     "name": "stdout",
     "output_type": "stream",
     "text": [
      "Epoch 0:   0%|          | 0/82 [00:00<?, ?it/s]               "
     ]
    },
    {
     "name": "stderr",
     "output_type": "stream",
     "text": [
      "GPU available: True, used: False\n",
      "TPU available: False, using: 0 TPU cores\n",
      "IPU available: False, using: 0 IPUs\n"
     ]
    },
    {
     "name": "stdout",
     "output_type": "stream",
     "text": [
      "100\n"
     ]
    },
    {
     "name": "stderr",
     "output_type": "stream",
     "text": [
      "\n",
      "  | Name      | Type    | Params\n",
      "--------------------------------------\n",
      "0 | encoder   | Linear  | 230 K \n",
      "1 | act_1     | Sigmoid | 0     \n",
      "2 | decoder   | Linear  | 232 K \n",
      "3 | act_2     | Sigmoid | 0     \n",
      "4 | loss_func | MSELoss | 0     \n",
      "--------------------------------------\n",
      "463 K     Trainable params\n",
      "0         Non-trainable params\n",
      "463 K     Total params\n",
      "1.852     Total estimated model params size (MB)\n"
     ]
    },
    {
     "name": "stdout",
     "output_type": "stream",
     "text": [
      "Epoch 0:   0%|          | 0/82 [00:00<?, ?it/s]               "
     ]
    },
    {
     "name": "stderr",
     "output_type": "stream",
     "text": [
      "GPU available: True, used: False\n",
      "TPU available: False, using: 0 TPU cores\n",
      "IPU available: False, using: 0 IPUs\n",
      "\n",
      "  | Name      | Type    | Params\n",
      "--------------------------------------\n",
      "0 | encoder   | Linear  | 863 K \n",
      "1 | act_1     | PReLU   | 1     \n",
      "2 | decoder   | Linear  | 865 K \n",
      "3 | act_2     | PReLU   | 1     \n",
      "4 | loss_func | MSELoss | 0     \n",
      "--------------------------------------\n",
      "1.7 M     Trainable params\n",
      "0         Non-trainable params\n",
      "1.7 M     Total params\n",
      "6.915     Total estimated model params size (MB)\n"
     ]
    },
    {
     "name": "stdout",
     "output_type": "stream",
     "text": [
      "0.01\n",
      "Epoch 0:  50%|█████     | 41/82 [00:00<00:00, 52.41it/s, loss=77.2, v_num=282]\n",
      "Validating: 0it [00:00, ?it/s]\u001B[A\n",
      "Epoch 0: 100%|██████████| 82/82 [00:00<00:00, 94.69it/s, loss=77.2, v_num=282]\n",
      "Epoch 1:  50%|█████     | 41/82 [00:00<00:00, 51.78it/s, loss=6.61, v_num=282]\n",
      "Validating: 0it [00:00, ?it/s]\u001B[A\n",
      "Epoch 1: 100%|██████████| 82/82 [00:00<00:00, 92.13it/s, loss=6.61, v_num=282]\n",
      "Epoch 2:  50%|█████     | 41/82 [00:00<00:00, 52.36it/s, loss=5.52, v_num=282]\n",
      "Validating: 0it [00:00, ?it/s]\u001B[A\n",
      "Epoch 2: 100%|██████████| 82/82 [00:00<00:00, 94.99it/s, loss=5.52, v_num=282]\n",
      "Epoch 3:  50%|█████     | 41/82 [00:00<00:00, 47.24it/s, loss=5.26, v_num=282]\n",
      "Validating: 0it [00:00, ?it/s]\u001B[A\n",
      "Epoch 3: 100%|██████████| 82/82 [00:00<00:00, 85.93it/s, loss=5.26, v_num=282]\n",
      "Epoch 4:  50%|█████     | 41/82 [00:00<00:00, 53.54it/s, loss=4.69, v_num=282]\n",
      "Validating: 0it [00:00, ?it/s]\u001B[A\n",
      "Epoch 4: 100%|██████████| 82/82 [00:00<00:00, 97.42it/s, loss=4.69, v_num=282]\n",
      "Epoch 5:  50%|█████     | 41/82 [00:00<00:00, 49.18it/s, loss=3.88, v_num=282]\n",
      "Validating: 0it [00:00, ?it/s]\u001B[A\n",
      "Epoch 5: 100%|██████████| 82/82 [00:00<00:00, 90.38it/s, loss=3.88, v_num=282]\n",
      "Epoch 6:  50%|█████     | 41/82 [00:00<00:00, 50.69it/s, loss=3.6, v_num=282] \n",
      "Validating: 0it [00:00, ?it/s]\u001B[A\n",
      "Epoch 6: 100%|██████████| 82/82 [00:00<00:00, 91.19it/s, loss=3.6, v_num=282]\n",
      "Epoch 7:  50%|█████     | 41/82 [00:00<00:00, 53.77it/s, loss=3.43, v_num=282]\n",
      "Validating: 0it [00:00, ?it/s]\u001B[A\n",
      "Epoch 7: 100%|██████████| 82/82 [00:00<00:00, 95.43it/s, loss=3.43, v_num=282]\n",
      "Epoch 8:  50%|█████     | 41/82 [00:00<00:00, 49.04it/s, loss=3.23, v_num=282]\n",
      "Validating: 0it [00:00, ?it/s]\u001B[A\n",
      "Epoch 8: 100%|██████████| 82/82 [00:00<00:00, 88.80it/s, loss=3.23, v_num=282]\n",
      "Epoch 9:  50%|█████     | 41/82 [00:00<00:00, 52.20it/s, loss=2.79, v_num=282]\n",
      "Validating: 0it [00:00, ?it/s]\u001B[A\n",
      "Epoch 9: 100%|██████████| 82/82 [00:00<00:00, 94.55it/s, loss=2.79, v_num=282]\n",
      "Epoch 9: 100%|██████████| 82/82 [00:00<00:00, 90.92it/s, loss=2.79, v_num=282]\n"
     ]
    },
    {
     "name": "stderr",
     "output_type": "stream",
     "text": [
      "GPU available: True, used: False\n",
      "TPU available: False, using: 0 TPU cores\n",
      "IPU available: False, using: 0 IPUs\n",
      "\n",
      "  | Name      | Type    | Params\n",
      "--------------------------------------\n",
      "0 | encoder   | Linear  | 863 K \n",
      "1 | act_1     | PReLU   | 1     \n",
      "2 | decoder   | Linear  | 865 K \n",
      "3 | act_2     | PReLU   | 1     \n",
      "4 | loss_func | MSELoss | 0     \n",
      "--------------------------------------\n",
      "1.7 M     Trainable params\n",
      "0         Non-trainable params\n",
      "1.7 M     Total params\n",
      "6.915     Total estimated model params size (MB)\n"
     ]
    },
    {
     "name": "stdout",
     "output_type": "stream",
     "text": [
      "0.1\n",
      "Epoch 0:  50%|█████     | 41/82 [00:00<00:00, 51.71it/s, loss=89.8, v_num=283]\n",
      "Validating: 0it [00:00, ?it/s]\u001B[A\n",
      "Epoch 0: 100%|██████████| 82/82 [00:00<00:00, 92.85it/s, loss=89.8, v_num=283]\n",
      "Epoch 1:  50%|█████     | 41/82 [00:00<00:00, 52.60it/s, loss=6.16, v_num=283]\n",
      "Validating: 0it [00:00, ?it/s]\u001B[A\n",
      "Epoch 1: 100%|██████████| 82/82 [00:00<00:00, 94.54it/s, loss=6.16, v_num=283]\n",
      "Epoch 2:  50%|█████     | 41/82 [00:00<00:00, 52.47it/s, loss=3.57, v_num=283]\n",
      "Validating: 0it [00:00, ?it/s]\u001B[A\n",
      "Epoch 2: 100%|██████████| 82/82 [00:00<00:00, 93.13it/s, loss=3.57, v_num=283]\n",
      "Epoch 3:  50%|█████     | 41/82 [00:00<00:00, 51.96it/s, loss=3.07, v_num=283]\n",
      "Validating: 0it [00:00, ?it/s]\u001B[A\n",
      "Epoch 3: 100%|██████████| 82/82 [00:00<00:00, 93.97it/s, loss=3.07, v_num=283]\n",
      "Epoch 4:  50%|█████     | 41/82 [00:00<00:00, 52.28it/s, loss=2.8, v_num=283] \n",
      "Validating: 0it [00:00, ?it/s]\u001B[A\n",
      "Epoch 4: 100%|██████████| 82/82 [00:00<00:00, 93.95it/s, loss=2.8, v_num=283]\n",
      "Epoch 5:  50%|█████     | 41/82 [00:00<00:00, 52.98it/s, loss=3.05, v_num=283]\n",
      "Validating: 0it [00:00, ?it/s]\u001B[A\n",
      "Epoch 5: 100%|██████████| 82/82 [00:00<00:00, 94.96it/s, loss=3.05, v_num=283]\n",
      "Epoch 6:  50%|█████     | 41/82 [00:00<00:00, 53.54it/s, loss=3.54, v_num=283]\n",
      "Validating: 0it [00:00, ?it/s]\u001B[A\n",
      "Epoch 6: 100%|██████████| 82/82 [00:00<00:00, 96.06it/s, loss=3.54, v_num=283]\n",
      "Epoch 7:  50%|█████     | 41/82 [00:00<00:00, 52.63it/s, loss=3.55, v_num=283]\n",
      "Validating: 0it [00:00, ?it/s]\u001B[A\n",
      "Epoch 7: 100%|██████████| 82/82 [00:00<00:00, 94.78it/s, loss=3.55, v_num=283]\n",
      "Epoch 8:  50%|█████     | 41/82 [00:00<00:00, 53.01it/s, loss=3.77, v_num=283]\n",
      "Validating: 0it [00:00, ?it/s]\u001B[A\n",
      "Epoch 8: 100%|██████████| 82/82 [00:00<00:00, 95.39it/s, loss=3.77, v_num=283]\n",
      "Epoch 9:  50%|█████     | 41/82 [00:00<00:00, 51.95it/s, loss=3.74, v_num=283]\n",
      "Validating: 0it [00:00, ?it/s]\u001B[A\n",
      "Epoch 9: 100%|██████████| 82/82 [00:00<00:00, 93.85it/s, loss=3.74, v_num=283]\n",
      "Epoch 9: 100%|██████████| 82/82 [00:00<00:00, 90.35it/s, loss=3.74, v_num=283]\n"
     ]
    },
    {
     "name": "stderr",
     "output_type": "stream",
     "text": [
      "GPU available: True, used: False\n",
      "TPU available: False, using: 0 TPU cores\n",
      "IPU available: False, using: 0 IPUs\n",
      "\n",
      "  | Name      | Type    | Params\n",
      "--------------------------------------\n",
      "0 | encoder   | Linear  | 863 K \n",
      "1 | act_1     | PReLU   | 1     \n",
      "2 | decoder   | Linear  | 865 K \n",
      "3 | act_2     | PReLU   | 1     \n",
      "4 | loss_func | MSELoss | 0     \n",
      "--------------------------------------\n",
      "1.7 M     Trainable params\n",
      "0         Non-trainable params\n",
      "1.7 M     Total params\n",
      "6.915     Total estimated model params size (MB)\n"
     ]
    },
    {
     "name": "stdout",
     "output_type": "stream",
     "text": [
      "1\n",
      "Epoch 0:  50%|█████     | 41/82 [00:00<00:00, 54.22it/s, loss=17.8, v_num=284]\n",
      "Validating: 0it [00:00, ?it/s]\u001B[A\n",
      "Epoch 0: 100%|██████████| 82/82 [00:00<00:00, 96.63it/s, loss=17.8, v_num=284]\n",
      "Epoch 1:  50%|█████     | 41/82 [00:00<00:00, 49.66it/s, loss=7.54, v_num=284]\n",
      "Validating: 0it [00:00, ?it/s]\u001B[A\n",
      "Epoch 1: 100%|██████████| 82/82 [00:00<00:00, 89.25it/s, loss=7.54, v_num=284]\n",
      "Epoch 2:  50%|█████     | 41/82 [00:00<00:00, 49.95it/s, loss=6.25, v_num=284]\n",
      "Validating: 0it [00:00, ?it/s]\u001B[A\n",
      "Epoch 2: 100%|██████████| 82/82 [00:00<00:00, 89.30it/s, loss=6.25, v_num=284]\n",
      "Epoch 3:  50%|█████     | 41/82 [00:00<00:00, 51.16it/s, loss=6.44, v_num=284]\n",
      "Validating: 0it [00:00, ?it/s]\u001B[A\n",
      "Epoch 3: 100%|██████████| 82/82 [00:00<00:00, 92.96it/s, loss=6.44, v_num=284]\n",
      "Epoch 4:  50%|█████     | 41/82 [00:00<00:00, 56.20it/s, loss=6.48, v_num=284]\n",
      "Validating: 0it [00:00, ?it/s]\u001B[A\n",
      "Epoch 4: 100%|██████████| 82/82 [00:00<00:00, 101.17it/s, loss=6.48, v_num=284]\n",
      "Epoch 5:  50%|█████     | 41/82 [00:00<00:00, 57.13it/s, loss=5.49, v_num=284] \n",
      "Validating: 0it [00:00, ?it/s]\u001B[A\n",
      "Epoch 5: 100%|██████████| 82/82 [00:00<00:00, 103.42it/s, loss=5.49, v_num=284]\n",
      "Epoch 6:  50%|█████     | 41/82 [00:00<00:00, 53.15it/s, loss=4.91, v_num=284] \n",
      "Validating: 0it [00:00, ?it/s]\u001B[A\n",
      "Epoch 6: 100%|██████████| 82/82 [00:00<00:00, 96.41it/s, loss=4.91, v_num=284]\n",
      "Epoch 7:  50%|█████     | 41/82 [00:00<00:00, 51.48it/s, loss=4.26, v_num=284]\n",
      "Validating: 0it [00:00, ?it/s]\u001B[A\n",
      "Epoch 7: 100%|██████████| 82/82 [00:00<00:00, 92.84it/s, loss=4.26, v_num=284]\n",
      "Epoch 8:  50%|█████     | 41/82 [00:00<00:00, 55.17it/s, loss=3.91, v_num=284]\n",
      "Validating: 0it [00:00, ?it/s]\u001B[A\n",
      "Epoch 8: 100%|██████████| 82/82 [00:00<00:00, 100.63it/s, loss=3.91, v_num=284]\n",
      "Epoch 9:  50%|█████     | 41/82 [00:00<00:00, 55.36it/s, loss=3.71, v_num=284] \n",
      "Validating: 0it [00:00, ?it/s]\u001B[A\n",
      "Epoch 9: 100%|██████████| 82/82 [00:00<00:00, 99.31it/s, loss=3.71, v_num=284]\n",
      "Epoch 9: 100%|██████████| 82/82 [00:00<00:00, 94.68it/s, loss=3.71, v_num=284]\n"
     ]
    },
    {
     "name": "stderr",
     "output_type": "stream",
     "text": [
      "GPU available: True, used: False\n",
      "TPU available: False, using: 0 TPU cores\n",
      "IPU available: False, using: 0 IPUs\n"
     ]
    },
    {
     "name": "stdout",
     "output_type": "stream",
     "text": [
      "100\n"
     ]
    },
    {
     "name": "stderr",
     "output_type": "stream",
     "text": [
      "\n",
      "  | Name      | Type    | Params\n",
      "--------------------------------------\n",
      "0 | encoder   | Linear  | 863 K \n",
      "1 | act_1     | PReLU   | 1     \n",
      "2 | decoder   | Linear  | 865 K \n",
      "3 | act_2     | PReLU   | 1     \n",
      "4 | loss_func | MSELoss | 0     \n",
      "--------------------------------------\n",
      "1.7 M     Trainable params\n",
      "0         Non-trainable params\n",
      "1.7 M     Total params\n",
      "6.915     Total estimated model params size (MB)\n"
     ]
    },
    {
     "name": "stdout",
     "output_type": "stream",
     "text": [
      "Epoch 0:  50%|█████     | 41/82 [00:00<00:00, 52.95it/s, loss=15.2, v_num=285]\n",
      "Validating: 0it [00:00, ?it/s]\u001B[A\n",
      "Epoch 0: 100%|██████████| 82/82 [00:00<00:00, 95.92it/s, loss=15.2, v_num=285]\n",
      "Epoch 1:  50%|█████     | 41/82 [00:00<00:00, 54.06it/s, loss=14.7, v_num=285]\n",
      "Validating: 0it [00:00, ?it/s]\u001B[A\n",
      "Epoch 1: 100%|██████████| 82/82 [00:00<00:00, 97.41it/s, loss=14.7, v_num=285]\n",
      "Epoch 2:  50%|█████     | 41/82 [00:00<00:00, 54.60it/s, loss=15.6, v_num=285]\n",
      "Validating: 0it [00:00, ?it/s]\u001B[A\n",
      "Epoch 2: 100%|██████████| 82/82 [00:00<00:00, 98.53it/s, loss=15.6, v_num=285]\n",
      "Epoch 3:  50%|█████     | 41/82 [00:00<00:00, 54.48it/s, loss=15, v_num=285]  \n",
      "Validating: 0it [00:00, ?it/s]\u001B[A\n",
      "Epoch 3: 100%|██████████| 82/82 [00:00<00:00, 98.34it/s, loss=15, v_num=285]\n",
      "Epoch 4:  50%|█████     | 41/82 [00:00<00:00, 51.83it/s, loss=14.8, v_num=285]\n",
      "Validating: 0it [00:00, ?it/s]\u001B[A\n",
      "Epoch 4: 100%|██████████| 82/82 [00:00<00:00, 93.83it/s, loss=14.8, v_num=285]\n",
      "Epoch 5:  50%|█████     | 41/82 [00:00<00:00, 51.85it/s, loss=14.9, v_num=285]\n",
      "Validating: 0it [00:00, ?it/s]\u001B[A\n",
      "Epoch 5: 100%|██████████| 82/82 [00:00<00:00, 95.34it/s, loss=14.9, v_num=285]\n",
      "Epoch 6:  50%|█████     | 41/82 [00:00<00:00, 56.01it/s, loss=14.9, v_num=285]\n",
      "Validating: 0it [00:00, ?it/s]\u001B[A\n",
      "Epoch 6: 100%|██████████| 82/82 [00:00<00:00, 100.72it/s, loss=14.9, v_num=285]\n",
      "Epoch 7:  50%|█████     | 41/82 [00:00<00:00, 54.37it/s, loss=15.2, v_num=285] \n",
      "Validating: 0it [00:00, ?it/s]\u001B[A\n",
      "Epoch 7: 100%|██████████| 82/82 [00:00<00:00, 99.93it/s, loss=15.2, v_num=285]\n",
      "Epoch 8:  50%|█████     | 41/82 [00:00<00:00, 55.51it/s, loss=14.6, v_num=285]\n",
      "Validating: 0it [00:00, ?it/s]\u001B[A\n",
      "Epoch 8: 100%|██████████| 82/82 [00:00<00:00, 101.18it/s, loss=14.6, v_num=285]\n",
      "Epoch 9:  50%|█████     | 41/82 [00:00<00:00, 54.84it/s, loss=14.3, v_num=285] \n",
      "Validating: 0it [00:00, ?it/s]\u001B[A\n",
      "Epoch 9: 100%|██████████| 82/82 [00:00<00:00, 97.27it/s, loss=14.3, v_num=285]\n",
      "Epoch 9: 100%|██████████| 82/82 [00:00<00:00, 93.87it/s, loss=14.3, v_num=285]\n"
     ]
    },
    {
     "name": "stderr",
     "output_type": "stream",
     "text": [
      "GPU available: True, used: False\n",
      "TPU available: False, using: 0 TPU cores\n",
      "IPU available: False, using: 0 IPUs\n",
      "\n",
      "  | Name      | Type    | Params\n",
      "--------------------------------------\n",
      "0 | encoder   | Linear  | 863 K \n",
      "1 | act_1     | Sigmoid | 0     \n",
      "2 | decoder   | Linear  | 865 K \n",
      "3 | act_2     | Sigmoid | 0     \n",
      "4 | loss_func | MSELoss | 0     \n",
      "--------------------------------------\n",
      "1.7 M     Trainable params\n",
      "0         Non-trainable params\n",
      "1.7 M     Total params\n",
      "6.915     Total estimated model params size (MB)\n"
     ]
    },
    {
     "name": "stdout",
     "output_type": "stream",
     "text": [
      "0.01\n",
      "Epoch 0:   0%|          | 0/82 [00:00<?, ?it/s]               "
     ]
    },
    {
     "name": "stderr",
     "output_type": "stream",
     "text": [
      "GPU available: True, used: False\n",
      "TPU available: False, using: 0 TPU cores\n",
      "IPU available: False, using: 0 IPUs\n",
      "\n",
      "  | Name      | Type    | Params\n",
      "--------------------------------------\n",
      "0 | encoder   | Linear  | 863 K \n",
      "1 | act_1     | Sigmoid | 0     \n",
      "2 | decoder   | Linear  | 865 K \n",
      "3 | act_2     | Sigmoid | 0     \n",
      "4 | loss_func | MSELoss | 0     \n",
      "--------------------------------------\n",
      "1.7 M     Trainable params\n",
      "0         Non-trainable params\n",
      "1.7 M     Total params\n",
      "6.915     Total estimated model params size (MB)\n"
     ]
    },
    {
     "name": "stdout",
     "output_type": "stream",
     "text": [
      "0.1\n",
      "Epoch 0:   0%|          | 0/82 [00:00<?, ?it/s]               "
     ]
    },
    {
     "name": "stderr",
     "output_type": "stream",
     "text": [
      "GPU available: True, used: False\n",
      "TPU available: False, using: 0 TPU cores\n",
      "IPU available: False, using: 0 IPUs\n"
     ]
    },
    {
     "name": "stdout",
     "output_type": "stream",
     "text": [
      "1\n"
     ]
    },
    {
     "name": "stderr",
     "output_type": "stream",
     "text": [
      "\n",
      "  | Name      | Type    | Params\n",
      "--------------------------------------\n",
      "0 | encoder   | Linear  | 863 K \n",
      "1 | act_1     | Sigmoid | 0     \n",
      "2 | decoder   | Linear  | 865 K \n",
      "3 | act_2     | Sigmoid | 0     \n",
      "4 | loss_func | MSELoss | 0     \n",
      "--------------------------------------\n",
      "1.7 M     Trainable params\n",
      "0         Non-trainable params\n",
      "1.7 M     Total params\n",
      "6.915     Total estimated model params size (MB)\n"
     ]
    },
    {
     "name": "stdout",
     "output_type": "stream",
     "text": [
      "Epoch 0:   0%|          | 0/82 [00:00<?, ?it/s]               "
     ]
    },
    {
     "name": "stderr",
     "output_type": "stream",
     "text": [
      "GPU available: True, used: False\n",
      "TPU available: False, using: 0 TPU cores\n",
      "IPU available: False, using: 0 IPUs\n",
      "\n",
      "  | Name      | Type    | Params\n",
      "--------------------------------------\n",
      "0 | encoder   | Linear  | 863 K \n",
      "1 | act_1     | Sigmoid | 0     \n",
      "2 | decoder   | Linear  | 865 K \n",
      "3 | act_2     | Sigmoid | 0     \n",
      "4 | loss_func | MSELoss | 0     \n",
      "--------------------------------------\n",
      "1.7 M     Trainable params\n",
      "0         Non-trainable params\n",
      "1.7 M     Total params\n",
      "6.915     Total estimated model params size (MB)\n"
     ]
    },
    {
     "name": "stdout",
     "output_type": "stream",
     "text": [
      "100\n",
      "Epoch 0:   0%|          | 0/82 [00:00<?, ?it/s]               "
     ]
    },
    {
     "name": "stderr",
     "output_type": "stream",
     "text": [
      "GPU available: True, used: False\n",
      "TPU available: False, using: 0 TPU cores\n",
      "IPU available: False, using: 0 IPUs\n"
     ]
    },
    {
     "name": "stdout",
     "output_type": "stream",
     "text": [
      "0.01\n"
     ]
    },
    {
     "name": "stderr",
     "output_type": "stream",
     "text": [
      "\n",
      "  | Name          | Type    | Params\n",
      "------------------------------------------\n",
      "0 | encoder       | Linear  | 28.8 K\n",
      "1 | act_1         | PReLU   | 1     \n",
      "2 | decoder       | Linear  | 31.6 K\n",
      "3 | act_2         | PReLU   | 1     \n",
      "4 | loss_func     | MSELoss | 0     \n",
      "5 | log_var_layer | Linear  | 22    \n",
      "6 | mean_layer    | Linear  | 22    \n",
      "7 | bridge_layer  | Linear  | 30    \n",
      "------------------------------------------\n",
      "60.5 K    Trainable params\n",
      "0         Non-trainable params\n",
      "60.5 K    Total params\n",
      "0.242     Total estimated model params size (MB)\n"
     ]
    },
    {
     "name": "stdout",
     "output_type": "stream",
     "text": [
      "Epoch 0:  50%|█████     | 41/82 [00:00<00:00, 90.07it/s, loss=3.53e+03, v_num=290]\n",
      "Validating: 0it [00:00, ?it/s]\u001B[A\n",
      "Epoch 0: 100%|██████████| 82/82 [00:00<00:00, 156.82it/s, loss=3.53e+03, v_num=290]\n",
      "Epoch 1:  50%|█████     | 41/82 [00:00<00:00, 93.95it/s, loss=3.09e+03, v_num=290] \n",
      "Validating: 0it [00:00, ?it/s]\u001B[A\n",
      "Epoch 1: 100%|██████████| 82/82 [00:00<00:00, 167.06it/s, loss=3.09e+03, v_num=290]\n",
      "Epoch 2:  50%|█████     | 41/82 [00:00<00:00, 93.02it/s, loss=2.5e+03, v_num=290]  \n",
      "Validating: 0it [00:00, ?it/s]\u001B[A\n",
      "Epoch 2: 100%|██████████| 82/82 [00:00<00:00, 160.39it/s, loss=2.5e+03, v_num=290]\n",
      "Epoch 3:  50%|█████     | 41/82 [00:00<00:00, 92.04it/s, loss=2.06e+03, v_num=290]\n",
      "Validating: 0it [00:00, ?it/s]\u001B[A\n",
      "Epoch 3: 100%|██████████| 82/82 [00:00<00:00, 160.08it/s, loss=2.06e+03, v_num=290]\n",
      "Epoch 4:  50%|█████     | 41/82 [00:00<00:00, 93.33it/s, loss=1.62e+03, v_num=290] \n",
      "Validating: 0it [00:00, ?it/s]\u001B[A\n",
      "Epoch 4: 100%|██████████| 82/82 [00:00<00:00, 166.36it/s, loss=1.62e+03, v_num=290]\n",
      "Epoch 5:  50%|█████     | 41/82 [00:00<00:00, 92.23it/s, loss=1.26e+03, v_num=290] \n",
      "Validating: 0it [00:00, ?it/s]\u001B[A\n",
      "Epoch 5: 100%|██████████| 82/82 [00:00<00:00, 164.21it/s, loss=1.26e+03, v_num=290]\n",
      "Epoch 6:  50%|█████     | 41/82 [00:00<00:00, 97.53it/s, loss=1.05e+03, v_num=290] \n",
      "Validating: 0it [00:00, ?it/s]\u001B[A\n",
      "Epoch 6: 100%|██████████| 82/82 [00:00<00:00, 169.15it/s, loss=1.05e+03, v_num=290]\n",
      "Epoch 7:  50%|█████     | 41/82 [00:00<00:00, 88.65it/s, loss=893, v_num=290]      \n",
      "Validating: 0it [00:00, ?it/s]\u001B[A\n",
      "Epoch 7: 100%|██████████| 82/82 [00:00<00:00, 157.67it/s, loss=893, v_num=290]\n",
      "Epoch 8:  50%|█████     | 41/82 [00:00<00:00, 92.93it/s, loss=829, v_num=290] \n",
      "Validating: 0it [00:00, ?it/s]\u001B[A\n",
      "Epoch 8: 100%|██████████| 82/82 [00:00<00:00, 160.66it/s, loss=829, v_num=290]\n",
      "Epoch 9:  50%|█████     | 41/82 [00:00<00:00, 89.96it/s, loss=719, v_num=290] \n",
      "Validating: 0it [00:00, ?it/s]\u001B[A\n",
      "Epoch 9: 100%|██████████| 82/82 [00:00<00:00, 156.42it/s, loss=719, v_num=290]\n",
      "Epoch 9: 100%|██████████| 82/82 [00:00<00:00, 154.36it/s, loss=719, v_num=290]\n"
     ]
    },
    {
     "name": "stderr",
     "output_type": "stream",
     "text": [
      "GPU available: True, used: False\n",
      "TPU available: False, using: 0 TPU cores\n",
      "IPU available: False, using: 0 IPUs\n"
     ]
    },
    {
     "name": "stdout",
     "output_type": "stream",
     "text": [
      "0.1\n"
     ]
    },
    {
     "name": "stderr",
     "output_type": "stream",
     "text": [
      "\n",
      "  | Name          | Type    | Params\n",
      "------------------------------------------\n",
      "0 | encoder       | Linear  | 28.8 K\n",
      "1 | act_1         | PReLU   | 1     \n",
      "2 | decoder       | Linear  | 31.6 K\n",
      "3 | act_2         | PReLU   | 1     \n",
      "4 | loss_func     | MSELoss | 0     \n",
      "5 | log_var_layer | Linear  | 22    \n",
      "6 | mean_layer    | Linear  | 22    \n",
      "7 | bridge_layer  | Linear  | 30    \n",
      "------------------------------------------\n",
      "60.5 K    Trainable params\n",
      "0         Non-trainable params\n",
      "60.5 K    Total params\n",
      "0.242     Total estimated model params size (MB)\n"
     ]
    },
    {
     "name": "stdout",
     "output_type": "stream",
     "text": [
      "Epoch 0:  50%|█████     | 41/82 [00:00<00:00, 97.72it/s, loss=3.68e+03, v_num=291] \n",
      "Validating: 0it [00:00, ?it/s]\u001B[A\n",
      "Epoch 0: 100%|██████████| 82/82 [00:00<00:00, 170.70it/s, loss=3.68e+03, v_num=291]\n",
      "Epoch 1:  50%|█████     | 41/82 [00:00<00:00, 93.12it/s, loss=3.15e+03, v_num=291] \n",
      "Validating: 0it [00:00, ?it/s]\u001B[A\n",
      "Epoch 1: 100%|██████████| 82/82 [00:00<00:00, 165.31it/s, loss=3.15e+03, v_num=291]\n",
      "Epoch 2:  50%|█████     | 41/82 [00:00<00:00, 91.00it/s, loss=2.44e+03, v_num=291] \n",
      "Validating: 0it [00:00, ?it/s]\u001B[A\n",
      "Epoch 2: 100%|██████████| 82/82 [00:00<00:00, 157.03it/s, loss=2.44e+03, v_num=291]\n",
      "Epoch 3:  50%|█████     | 41/82 [00:00<00:00, 89.23it/s, loss=1.79e+03, v_num=291] \n",
      "Validating: 0it [00:00, ?it/s]\u001B[A\n",
      "Epoch 3: 100%|██████████| 82/82 [00:00<00:00, 155.37it/s, loss=1.79e+03, v_num=291]\n",
      "Epoch 4:  50%|█████     | 41/82 [00:00<00:00, 93.91it/s, loss=1.4e+03, v_num=291]  \n",
      "Validating: 0it [00:00, ?it/s]\u001B[A\n",
      "Epoch 4: 100%|██████████| 82/82 [00:00<00:00, 162.17it/s, loss=1.4e+03, v_num=291]\n",
      "Epoch 5:  50%|█████     | 41/82 [00:00<00:00, 94.78it/s, loss=1.16e+03, v_num=291]\n",
      "Validating: 0it [00:00, ?it/s]\u001B[A\n",
      "Epoch 5: 100%|██████████| 82/82 [00:00<00:00, 167.34it/s, loss=1.16e+03, v_num=291]\n",
      "Epoch 6:  50%|█████     | 41/82 [00:00<00:00, 94.12it/s, loss=941, v_num=291]      \n",
      "Validating: 0it [00:00, ?it/s]\u001B[A\n",
      "Epoch 6: 100%|██████████| 82/82 [00:00<00:00, 166.78it/s, loss=941, v_num=291]\n",
      "Epoch 7:  50%|█████     | 41/82 [00:00<00:00, 90.64it/s, loss=802, v_num=291] \n",
      "Validating: 0it [00:00, ?it/s]\u001B[A\n",
      "Epoch 7: 100%|██████████| 82/82 [00:00<00:00, 161.10it/s, loss=802, v_num=291]\n",
      "Epoch 8:  50%|█████     | 41/82 [00:00<00:00, 93.70it/s, loss=827, v_num=291] \n",
      "Validating: 0it [00:00, ?it/s]\u001B[A\n",
      "Epoch 8: 100%|██████████| 82/82 [00:00<00:00, 163.24it/s, loss=827, v_num=291]\n",
      "Epoch 9:  50%|█████     | 41/82 [00:00<00:00, 94.81it/s, loss=666, v_num=291] \n",
      "Validating: 0it [00:00, ?it/s]\u001B[A\n",
      "Epoch 9: 100%|██████████| 82/82 [00:00<00:00, 164.09it/s, loss=666, v_num=291]\n",
      "Epoch 9: 100%|██████████| 82/82 [00:00<00:00, 161.78it/s, loss=666, v_num=291]\n"
     ]
    },
    {
     "name": "stderr",
     "output_type": "stream",
     "text": [
      "GPU available: True, used: False\n",
      "TPU available: False, using: 0 TPU cores\n",
      "IPU available: False, using: 0 IPUs\n"
     ]
    },
    {
     "name": "stdout",
     "output_type": "stream",
     "text": [
      "1\n"
     ]
    },
    {
     "name": "stderr",
     "output_type": "stream",
     "text": [
      "\n",
      "  | Name          | Type    | Params\n",
      "------------------------------------------\n",
      "0 | encoder       | Linear  | 28.8 K\n",
      "1 | act_1         | PReLU   | 1     \n",
      "2 | decoder       | Linear  | 31.6 K\n",
      "3 | act_2         | PReLU   | 1     \n",
      "4 | loss_func     | MSELoss | 0     \n",
      "5 | log_var_layer | Linear  | 22    \n",
      "6 | mean_layer    | Linear  | 22    \n",
      "7 | bridge_layer  | Linear  | 30    \n",
      "------------------------------------------\n",
      "60.5 K    Trainable params\n",
      "0         Non-trainable params\n",
      "60.5 K    Total params\n",
      "0.242     Total estimated model params size (MB)\n"
     ]
    },
    {
     "name": "stdout",
     "output_type": "stream",
     "text": [
      "Epoch 0:  50%|█████     | 41/82 [00:00<00:00, 88.47it/s, loss=3.76e+03, v_num=292]\n",
      "Validating: 0it [00:00, ?it/s]\u001B[A\n",
      "Epoch 0: 100%|██████████| 82/82 [00:00<00:00, 154.31it/s, loss=3.76e+03, v_num=292]\n",
      "Epoch 1:  50%|█████     | 41/82 [00:00<00:00, 96.30it/s, loss=3.21e+03, v_num=292] \n",
      "Validating: 0it [00:00, ?it/s]\u001B[A\n",
      "Epoch 1: 100%|██████████| 82/82 [00:00<00:00, 165.09it/s, loss=3.21e+03, v_num=292]\n",
      "Epoch 2:  50%|█████     | 41/82 [00:00<00:00, 80.60it/s, loss=2.49e+03, v_num=292] \n",
      "Validating: 0it [00:00, ?it/s]\u001B[A\n",
      "Epoch 2: 100%|██████████| 82/82 [00:00<00:00, 141.30it/s, loss=2.49e+03, v_num=292]\n",
      "Epoch 3:  50%|█████     | 41/82 [00:00<00:00, 90.07it/s, loss=1.98e+03, v_num=292] \n",
      "Validating: 0it [00:00, ?it/s]\u001B[A\n",
      "Epoch 3: 100%|██████████| 82/82 [00:00<00:00, 156.51it/s, loss=1.98e+03, v_num=292]\n",
      "Epoch 4:  50%|█████     | 41/82 [00:00<00:00, 96.06it/s, loss=1.61e+03, v_num=292] \n",
      "Validating: 0it [00:00, ?it/s]\u001B[A\n",
      "Epoch 4: 100%|██████████| 82/82 [00:00<00:00, 170.04it/s, loss=1.61e+03, v_num=292]\n",
      "Epoch 5:  50%|█████     | 41/82 [00:00<00:00, 87.00it/s, loss=1.14e+03, v_num=292] \n",
      "Validating: 0it [00:00, ?it/s]\u001B[A\n",
      "Epoch 5: 100%|██████████| 82/82 [00:00<00:00, 152.65it/s, loss=1.14e+03, v_num=292]\n",
      "Epoch 6:  50%|█████     | 41/82 [00:00<00:00, 87.93it/s, loss=1.1e+03, v_num=292]  \n",
      "Validating: 0it [00:00, ?it/s]\u001B[A\n",
      "Epoch 6: 100%|██████████| 82/82 [00:00<00:00, 154.01it/s, loss=1.1e+03, v_num=292]\n",
      "Epoch 7:  50%|█████     | 41/82 [00:00<00:00, 95.73it/s, loss=762, v_num=292]     \n",
      "Validating: 0it [00:00, ?it/s]\u001B[A\n",
      "Epoch 7: 100%|██████████| 82/82 [00:00<00:00, 167.84it/s, loss=762, v_num=292]\n",
      "Epoch 8:  50%|█████     | 41/82 [00:00<00:00, 92.77it/s, loss=709, v_num=292] \n",
      "Validating: 0it [00:00, ?it/s]\u001B[A\n",
      "Epoch 8: 100%|██████████| 82/82 [00:00<00:00, 160.65it/s, loss=709, v_num=292]\n",
      "Epoch 9:  50%|█████     | 41/82 [00:00<00:00, 100.86it/s, loss=636, v_num=292]\n",
      "Validating: 0it [00:00, ?it/s]\u001B[A\n",
      "Epoch 9: 100%|██████████| 82/82 [00:00<00:00, 175.57it/s, loss=636, v_num=292]\n",
      "Epoch 9: 100%|██████████| 82/82 [00:00<00:00, 173.02it/s, loss=636, v_num=292]\n"
     ]
    },
    {
     "name": "stderr",
     "output_type": "stream",
     "text": [
      "GPU available: True, used: False\n",
      "TPU available: False, using: 0 TPU cores\n",
      "IPU available: False, using: 0 IPUs\n"
     ]
    },
    {
     "name": "stdout",
     "output_type": "stream",
     "text": [
      "100\n"
     ]
    },
    {
     "name": "stderr",
     "output_type": "stream",
     "text": [
      "\n",
      "  | Name          | Type    | Params\n",
      "------------------------------------------\n",
      "0 | encoder       | Linear  | 28.8 K\n",
      "1 | act_1         | PReLU   | 1     \n",
      "2 | decoder       | Linear  | 31.6 K\n",
      "3 | act_2         | PReLU   | 1     \n",
      "4 | loss_func     | MSELoss | 0     \n",
      "5 | log_var_layer | Linear  | 22    \n",
      "6 | mean_layer    | Linear  | 22    \n",
      "7 | bridge_layer  | Linear  | 30    \n",
      "------------------------------------------\n",
      "60.5 K    Trainable params\n",
      "0         Non-trainable params\n",
      "60.5 K    Total params\n",
      "0.242     Total estimated model params size (MB)\n"
     ]
    },
    {
     "name": "stdout",
     "output_type": "stream",
     "text": [
      "Epoch 0:  50%|█████     | 41/82 [00:00<00:00, 87.87it/s, loss=3.62e+03, v_num=293]\n",
      "Validating: 0it [00:00, ?it/s]\u001B[A\n",
      "Epoch 0: 100%|██████████| 82/82 [00:00<00:00, 154.80it/s, loss=3.62e+03, v_num=293]\n",
      "Epoch 1:  50%|█████     | 41/82 [00:00<00:00, 90.86it/s, loss=3.57e+03, v_num=293] \n",
      "Validating: 0it [00:00, ?it/s]\u001B[A\n",
      "Epoch 1: 100%|██████████| 82/82 [00:00<00:00, 157.37it/s, loss=3.57e+03, v_num=293]\n",
      "Epoch 2:  50%|█████     | 41/82 [00:00<00:00, 93.81it/s, loss=3.24e+03, v_num=293] \n",
      "Validating: 0it [00:00, ?it/s]\u001B[A\n",
      "Epoch 2: 100%|██████████| 82/82 [00:00<00:00, 162.24it/s, loss=3.24e+03, v_num=293]\n",
      "Epoch 3:  50%|█████     | 41/82 [00:00<00:00, 92.35it/s, loss=2.89e+03, v_num=293] \n",
      "Validating: 0it [00:00, ?it/s]\u001B[A\n",
      "Epoch 3: 100%|██████████| 82/82 [00:00<00:00, 160.57it/s, loss=2.89e+03, v_num=293]\n",
      "Epoch 4:  50%|█████     | 41/82 [00:00<00:00, 94.73it/s, loss=2.61e+03, v_num=293] \n",
      "Validating: 0it [00:00, ?it/s]\u001B[A\n",
      "Epoch 4: 100%|██████████| 82/82 [00:00<00:00, 163.72it/s, loss=2.61e+03, v_num=293]\n",
      "Epoch 5:  50%|█████     | 41/82 [00:00<00:00, 92.76it/s, loss=2.3e+03, v_num=293]  \n",
      "Validating: 0it [00:00, ?it/s]\u001B[A\n",
      "Epoch 5: 100%|██████████| 82/82 [00:00<00:00, 164.70it/s, loss=2.3e+03, v_num=293]\n",
      "Epoch 6:  50%|█████     | 41/82 [00:00<00:00, 95.04it/s, loss=1.96e+03, v_num=293]\n",
      "Validating: 0it [00:00, ?it/s]\u001B[A\n",
      "Epoch 6: 100%|██████████| 82/82 [00:00<00:00, 163.69it/s, loss=1.96e+03, v_num=293]\n",
      "Epoch 7:  50%|█████     | 41/82 [00:00<00:00, 98.83it/s, loss=1.76e+03, v_num=293] \n",
      "Validating: 0it [00:00, ?it/s]\u001B[A\n",
      "Epoch 7: 100%|██████████| 82/82 [00:00<00:00, 170.95it/s, loss=1.76e+03, v_num=293]\n",
      "Epoch 8:  50%|█████     | 41/82 [00:00<00:00, 100.30it/s, loss=1.54e+03, v_num=293]\n",
      "Validating: 0it [00:00, ?it/s]\u001B[A\n",
      "Epoch 8: 100%|██████████| 82/82 [00:00<00:00, 172.10it/s, loss=1.54e+03, v_num=293]\n",
      "Epoch 9:  50%|█████     | 41/82 [00:00<00:00, 96.55it/s, loss=1.33e+03, v_num=293] \n",
      "Validating: 0it [00:00, ?it/s]\u001B[A\n",
      "Epoch 9: 100%|██████████| 82/82 [00:00<00:00, 170.49it/s, loss=1.33e+03, v_num=293]\n",
      "Epoch 9: 100%|██████████| 82/82 [00:00<00:00, 168.07it/s, loss=1.33e+03, v_num=293]\n"
     ]
    },
    {
     "name": "stderr",
     "output_type": "stream",
     "text": [
      "GPU available: True, used: False\n",
      "TPU available: False, using: 0 TPU cores\n",
      "IPU available: False, using: 0 IPUs\n"
     ]
    },
    {
     "name": "stdout",
     "output_type": "stream",
     "text": [
      "0.01\n"
     ]
    },
    {
     "name": "stderr",
     "output_type": "stream",
     "text": [
      "\n",
      "  | Name          | Type    | Params\n",
      "------------------------------------------\n",
      "0 | encoder       | Linear  | 28.8 K\n",
      "1 | act_1         | Sigmoid | 0     \n",
      "2 | decoder       | Linear  | 31.6 K\n",
      "3 | act_2         | Sigmoid | 0     \n",
      "4 | loss_func     | MSELoss | 0     \n",
      "5 | log_var_layer | Linear  | 22    \n",
      "6 | mean_layer    | Linear  | 22    \n",
      "7 | bridge_layer  | Linear  | 30    \n",
      "------------------------------------------\n",
      "60.5 K    Trainable params\n",
      "0         Non-trainable params\n",
      "60.5 K    Total params\n",
      "0.242     Total estimated model params size (MB)\n"
     ]
    },
    {
     "name": "stdout",
     "output_type": "stream",
     "text": [
      "Epoch 0:   0%|          | 0/82 [00:00<?, ?it/s]               "
     ]
    },
    {
     "name": "stderr",
     "output_type": "stream",
     "text": [
      "GPU available: True, used: False\n",
      "TPU available: False, using: 0 TPU cores\n",
      "IPU available: False, using: 0 IPUs\n",
      "\n",
      "  | Name          | Type    | Params\n",
      "------------------------------------------\n",
      "0 | encoder       | Linear  | 28.8 K\n",
      "1 | act_1         | Sigmoid | 0     \n",
      "2 | decoder       | Linear  | 31.6 K\n",
      "3 | act_2         | Sigmoid | 0     \n",
      "4 | loss_func     | MSELoss | 0     \n",
      "5 | log_var_layer | Linear  | 22    \n",
      "6 | mean_layer    | Linear  | 22    \n",
      "7 | bridge_layer  | Linear  | 30    \n",
      "------------------------------------------\n",
      "60.5 K    Trainable params\n",
      "0         Non-trainable params\n",
      "60.5 K    Total params\n",
      "0.242     Total estimated model params size (MB)\n"
     ]
    },
    {
     "name": "stdout",
     "output_type": "stream",
     "text": [
      "0.1\n",
      "Epoch 0:   0%|          | 0/82 [00:00<?, ?it/s]               "
     ]
    },
    {
     "name": "stderr",
     "output_type": "stream",
     "text": [
      "GPU available: True, used: False\n",
      "TPU available: False, using: 0 TPU cores\n",
      "IPU available: False, using: 0 IPUs\n",
      "\n",
      "  | Name          | Type    | Params\n",
      "------------------------------------------\n",
      "0 | encoder       | Linear  | 28.8 K\n",
      "1 | act_1         | Sigmoid | 0     \n",
      "2 | decoder       | Linear  | 31.6 K\n",
      "3 | act_2         | Sigmoid | 0     \n",
      "4 | loss_func     | MSELoss | 0     \n",
      "5 | log_var_layer | Linear  | 22    \n",
      "6 | mean_layer    | Linear  | 22    \n",
      "7 | bridge_layer  | Linear  | 30    \n",
      "------------------------------------------\n",
      "60.5 K    Trainable params\n",
      "0         Non-trainable params\n",
      "60.5 K    Total params\n",
      "0.242     Total estimated model params size (MB)\n"
     ]
    },
    {
     "name": "stdout",
     "output_type": "stream",
     "text": [
      "1\n",
      "Epoch 0:   0%|          | 0/82 [00:00<?, ?it/s]               "
     ]
    },
    {
     "name": "stderr",
     "output_type": "stream",
     "text": [
      "GPU available: True, used: False\n",
      "TPU available: False, using: 0 TPU cores\n",
      "IPU available: False, using: 0 IPUs\n"
     ]
    },
    {
     "name": "stdout",
     "output_type": "stream",
     "text": [
      "100\n"
     ]
    },
    {
     "name": "stderr",
     "output_type": "stream",
     "text": [
      "\n",
      "  | Name          | Type    | Params\n",
      "------------------------------------------\n",
      "0 | encoder       | Linear  | 28.8 K\n",
      "1 | act_1         | Sigmoid | 0     \n",
      "2 | decoder       | Linear  | 31.6 K\n",
      "3 | act_2         | Sigmoid | 0     \n",
      "4 | loss_func     | MSELoss | 0     \n",
      "5 | log_var_layer | Linear  | 22    \n",
      "6 | mean_layer    | Linear  | 22    \n",
      "7 | bridge_layer  | Linear  | 30    \n",
      "------------------------------------------\n",
      "60.5 K    Trainable params\n",
      "0         Non-trainable params\n",
      "60.5 K    Total params\n",
      "0.242     Total estimated model params size (MB)\n"
     ]
    },
    {
     "name": "stdout",
     "output_type": "stream",
     "text": [
      "Epoch 0:   0%|          | 0/82 [00:00<?, ?it/s]               "
     ]
    },
    {
     "name": "stderr",
     "output_type": "stream",
     "text": [
      "GPU available: True, used: False\n",
      "TPU available: False, using: 0 TPU cores\n",
      "IPU available: False, using: 0 IPUs\n",
      "\n",
      "  | Name          | Type    | Params\n",
      "------------------------------------------\n",
      "0 | encoder       | Linear  | 230 K \n",
      "1 | act_1         | PReLU   | 1     \n",
      "2 | decoder       | Linear  | 232 K \n",
      "3 | act_2         | PReLU   | 1     \n",
      "4 | loss_func     | MSELoss | 0     \n",
      "5 | log_var_layer | Linear  | 162   \n",
      "6 | mean_layer    | Linear  | 162   \n",
      "7 | bridge_layer  | Linear  | 240   \n",
      "------------------------------------------\n",
      "463 K     Trainable params\n",
      "0         Non-trainable params\n",
      "463 K     Total params\n",
      "1.855     Total estimated model params size (MB)\n"
     ]
    },
    {
     "name": "stdout",
     "output_type": "stream",
     "text": [
      "0.01\n",
      "Epoch 0:  50%|█████     | 41/82 [00:00<00:00, 85.60it/s, loss=2.47e+03, v_num=298]\n",
      "Validating: 0it [00:00, ?it/s]\u001B[A\n",
      "Epoch 0: 100%|██████████| 82/82 [00:00<00:00, 151.62it/s, loss=2.47e+03, v_num=298]\n",
      "Epoch 1:  51%|█████     | 42/82 [00:00<00:00, 84.99it/s, loss=990, v_num=298]      \n",
      "Validating: 0it [00:00, ?it/s]\u001B[A\n",
      "Epoch 1: 100%|██████████| 82/82 [00:00<00:00, 146.12it/s, loss=990, v_num=298]\n",
      "Epoch 2:  51%|█████     | 42/82 [00:00<00:00, 84.13it/s, loss=702, v_num=298] \n",
      "Validating: 0it [00:00, ?it/s]\u001B[A\n",
      "Epoch 2: 100%|██████████| 82/82 [00:00<00:00, 147.24it/s, loss=702, v_num=298]\n",
      "Epoch 3:  51%|█████     | 42/82 [00:00<00:00, 85.60it/s, loss=655, v_num=298] \n",
      "Validating: 0it [00:00, ?it/s]\u001B[A\n",
      "Epoch 3: 100%|██████████| 82/82 [00:00<00:00, 146.67it/s, loss=655, v_num=298]\n",
      "Epoch 4:  51%|█████     | 42/82 [00:00<00:00, 67.80it/s, loss=576, v_num=298] \n",
      "Validating: 0it [00:00, ?it/s]\u001B[A\n",
      "Epoch 4: 100%|██████████| 82/82 [00:00<00:00, 121.47it/s, loss=576, v_num=298]\n",
      "Epoch 5:  51%|█████     | 42/82 [00:00<00:00, 82.44it/s, loss=541, v_num=298] \n",
      "Validating: 0it [00:00, ?it/s]\u001B[A\n",
      "Epoch 5: 100%|██████████| 82/82 [00:00<00:00, 141.76it/s, loss=541, v_num=298]\n",
      "Epoch 6:  51%|█████     | 42/82 [00:00<00:00, 82.84it/s, loss=610, v_num=298] \n",
      "Validating: 0it [00:00, ?it/s]\u001B[A\n",
      "Epoch 6: 100%|██████████| 82/82 [00:00<00:00, 145.26it/s, loss=610, v_num=298]\n",
      "Epoch 7:  51%|█████     | 42/82 [00:00<00:00, 91.13it/s, loss=520, v_num=298] \n",
      "Validating: 0it [00:00, ?it/s]\u001B[A\n",
      "Epoch 7: 100%|██████████| 82/82 [00:00<00:00, 155.34it/s, loss=520, v_num=298]\n",
      "Epoch 8:  51%|█████     | 42/82 [00:00<00:00, 83.35it/s, loss=512, v_num=298] \n",
      "Validating: 0it [00:00, ?it/s]\u001B[A\n",
      "Epoch 8: 100%|██████████| 82/82 [00:00<00:00, 143.22it/s, loss=512, v_num=298]\n",
      "Epoch 9:  51%|█████     | 42/82 [00:00<00:00, 86.52it/s, loss=568, v_num=298] \n",
      "Validating: 0it [00:00, ?it/s]\u001B[A\n",
      "Epoch 9: 100%|██████████| 82/82 [00:00<00:00, 152.09it/s, loss=568, v_num=298]\n",
      "Epoch 9: 100%|██████████| 82/82 [00:00<00:00, 148.39it/s, loss=568, v_num=298]\n"
     ]
    },
    {
     "name": "stderr",
     "output_type": "stream",
     "text": [
      "GPU available: True, used: False\n",
      "TPU available: False, using: 0 TPU cores\n",
      "IPU available: False, using: 0 IPUs\n"
     ]
    },
    {
     "name": "stdout",
     "output_type": "stream",
     "text": [
      "0.1\n"
     ]
    },
    {
     "name": "stderr",
     "output_type": "stream",
     "text": [
      "\n",
      "  | Name          | Type    | Params\n",
      "------------------------------------------\n",
      "0 | encoder       | Linear  | 230 K \n",
      "1 | act_1         | PReLU   | 1     \n",
      "2 | decoder       | Linear  | 232 K \n",
      "3 | act_2         | PReLU   | 1     \n",
      "4 | loss_func     | MSELoss | 0     \n",
      "5 | log_var_layer | Linear  | 162   \n",
      "6 | mean_layer    | Linear  | 162   \n",
      "7 | bridge_layer  | Linear  | 240   \n",
      "------------------------------------------\n",
      "463 K     Trainable params\n",
      "0         Non-trainable params\n",
      "463 K     Total params\n",
      "1.855     Total estimated model params size (MB)\n"
     ]
    },
    {
     "name": "stdout",
     "output_type": "stream",
     "text": [
      "Epoch 0:  50%|█████     | 41/82 [00:00<00:00, 78.29it/s, loss=2.79e+03, v_num=299]\n",
      "Validating: 0it [00:00, ?it/s]\u001B[A\n",
      "Epoch 0: 100%|██████████| 82/82 [00:00<00:00, 137.95it/s, loss=2.79e+03, v_num=299]\n",
      "Epoch 1:  50%|█████     | 41/82 [00:00<00:00, 83.00it/s, loss=1.25e+03, v_num=299] \n",
      "Validating: 0it [00:00, ?it/s]\u001B[A\n",
      "Epoch 1: 100%|██████████| 82/82 [00:00<00:00, 144.32it/s, loss=1.25e+03, v_num=299]\n",
      "Epoch 2:  50%|█████     | 41/82 [00:00<00:00, 80.45it/s, loss=874, v_num=299]      \n",
      "Validating: 0it [00:00, ?it/s]\u001B[A\n",
      "Epoch 2: 100%|██████████| 82/82 [00:00<00:00, 141.40it/s, loss=874, v_num=299]\n",
      "Epoch 3:  50%|█████     | 41/82 [00:00<00:00, 79.88it/s, loss=754, v_num=299] \n",
      "Validating: 0it [00:00, ?it/s]\u001B[A\n",
      "Epoch 3: 100%|██████████| 82/82 [00:00<00:00, 140.72it/s, loss=754, v_num=299]\n",
      "Epoch 4:  50%|█████     | 41/82 [00:00<00:00, 82.24it/s, loss=717, v_num=299] \n",
      "Validating: 0it [00:00, ?it/s]\u001B[A\n",
      "Epoch 4: 100%|██████████| 82/82 [00:00<00:00, 146.88it/s, loss=717, v_num=299]\n",
      "Epoch 5:  50%|█████     | 41/82 [00:00<00:00, 80.80it/s, loss=668, v_num=299] \n",
      "Validating: 0it [00:00, ?it/s]\u001B[A\n",
      "Epoch 5: 100%|██████████| 82/82 [00:00<00:00, 141.70it/s, loss=668, v_num=299]\n",
      "Epoch 6:  50%|█████     | 41/82 [00:00<00:00, 77.67it/s, loss=605, v_num=299] \n",
      "Validating: 0it [00:00, ?it/s]\u001B[A\n",
      "Epoch 6: 100%|██████████| 82/82 [00:00<00:00, 139.19it/s, loss=605, v_num=299]\n",
      "Epoch 7:  51%|█████     | 42/82 [00:00<00:00, 86.01it/s, loss=606, v_num=299] \n",
      "Validating: 0it [00:00, ?it/s]\u001B[A\n",
      "Epoch 7: 100%|██████████| 82/82 [00:00<00:00, 147.71it/s, loss=606, v_num=299]\n",
      "Epoch 8:  51%|█████     | 42/82 [00:00<00:00, 83.93it/s, loss=586, v_num=299] \n",
      "Validating: 0it [00:00, ?it/s]\u001B[A\n",
      "Epoch 8: 100%|██████████| 82/82 [00:00<00:00, 145.43it/s, loss=586, v_num=299]\n",
      "Epoch 9:  51%|█████     | 42/82 [00:00<00:00, 87.68it/s, loss=588, v_num=299] \n",
      "Validating: 0it [00:00, ?it/s]\u001B[A\n",
      "Epoch 9: 100%|██████████| 82/82 [00:00<00:00, 152.82it/s, loss=588, v_num=299]\n",
      "Epoch 9: 100%|██████████| 82/82 [00:00<00:00, 149.35it/s, loss=588, v_num=299]\n"
     ]
    },
    {
     "name": "stderr",
     "output_type": "stream",
     "text": [
      "GPU available: True, used: False\n",
      "TPU available: False, using: 0 TPU cores\n",
      "IPU available: False, using: 0 IPUs\n"
     ]
    },
    {
     "name": "stdout",
     "output_type": "stream",
     "text": [
      "1\n"
     ]
    },
    {
     "name": "stderr",
     "output_type": "stream",
     "text": [
      "\n",
      "  | Name          | Type    | Params\n",
      "------------------------------------------\n",
      "0 | encoder       | Linear  | 230 K \n",
      "1 | act_1         | PReLU   | 1     \n",
      "2 | decoder       | Linear  | 232 K \n",
      "3 | act_2         | PReLU   | 1     \n",
      "4 | loss_func     | MSELoss | 0     \n",
      "5 | log_var_layer | Linear  | 162   \n",
      "6 | mean_layer    | Linear  | 162   \n",
      "7 | bridge_layer  | Linear  | 240   \n",
      "------------------------------------------\n",
      "463 K     Trainable params\n",
      "0         Non-trainable params\n",
      "463 K     Total params\n",
      "1.855     Total estimated model params size (MB)\n"
     ]
    },
    {
     "name": "stdout",
     "output_type": "stream",
     "text": [
      "Epoch 0:  50%|█████     | 41/82 [00:00<00:00, 77.32it/s, loss=2.96e+03, v_num=300]\n",
      "Validating: 0it [00:00, ?it/s]\u001B[A\n",
      "Epoch 0: 100%|██████████| 82/82 [00:00<00:00, 138.07it/s, loss=2.96e+03, v_num=300]\n",
      "Epoch 1:  51%|█████     | 42/82 [00:00<00:00, 86.48it/s, loss=1.45e+03, v_num=300] \n",
      "Validating: 0it [00:00, ?it/s]\u001B[A\n",
      "Epoch 1: 100%|██████████| 82/82 [00:00<00:00, 147.85it/s, loss=1.45e+03, v_num=300]\n",
      "Epoch 2:  51%|█████     | 42/82 [00:00<00:00, 79.01it/s, loss=1.16e+03, v_num=300] \n",
      "Validating: 0it [00:00, ?it/s]\u001B[A\n",
      "Epoch 2: 100%|██████████| 82/82 [00:00<00:00, 134.68it/s, loss=1.16e+03, v_num=300]\n",
      "Epoch 3:  51%|█████     | 42/82 [00:00<00:00, 81.13it/s, loss=1.13e+03, v_num=300] \n",
      "Validating: 0it [00:00, ?it/s]\u001B[A\n",
      "Epoch 3: 100%|██████████| 82/82 [00:00<00:00, 143.43it/s, loss=1.13e+03, v_num=300]\n",
      "Epoch 4:  51%|█████     | 42/82 [00:00<00:00, 81.12it/s, loss=1.13e+03, v_num=300] \n",
      "Validating: 0it [00:00, ?it/s]\u001B[A\n",
      "Epoch 4: 100%|██████████| 82/82 [00:00<00:00, 142.07it/s, loss=1.13e+03, v_num=300]\n",
      "Epoch 5:  51%|█████     | 42/82 [00:00<00:00, 79.58it/s, loss=1.09e+03, v_num=300] \n",
      "Validating: 0it [00:00, ?it/s]\u001B[A\n",
      "Epoch 5: 100%|██████████| 82/82 [00:00<00:00, 137.45it/s, loss=1.09e+03, v_num=300]\n",
      "Epoch 6:  51%|█████     | 42/82 [00:00<00:00, 80.63it/s, loss=1.07e+03, v_num=300] \n",
      "Validating: 0it [00:00, ?it/s]\u001B[A\n",
      "Epoch 6: 100%|██████████| 82/82 [00:00<00:00, 138.67it/s, loss=1.07e+03, v_num=300]\n",
      "Epoch 7:  51%|█████     | 42/82 [00:00<00:00, 86.33it/s, loss=1.11e+03, v_num=300] \n",
      "Validating: 0it [00:00, ?it/s]\u001B[A\n",
      "Epoch 7: 100%|██████████| 82/82 [00:00<00:00, 147.50it/s, loss=1.11e+03, v_num=300]\n",
      "Epoch 8:  51%|█████     | 42/82 [00:00<00:00, 84.11it/s, loss=1.03e+03, v_num=300] \n",
      "Validating: 0it [00:00, ?it/s]\u001B[A\n",
      "Epoch 8: 100%|██████████| 82/82 [00:00<00:00, 144.35it/s, loss=1.03e+03, v_num=300]\n",
      "Epoch 9:  51%|█████     | 42/82 [00:00<00:00, 84.83it/s, loss=1.05e+03, v_num=300] \n",
      "Validating: 0it [00:00, ?it/s]\u001B[A\n",
      "Epoch 9: 100%|██████████| 82/82 [00:00<00:00, 145.10it/s, loss=1.05e+03, v_num=300]\n",
      "Epoch 9: 100%|██████████| 82/82 [00:00<00:00, 140.49it/s, loss=1.05e+03, v_num=300]\n"
     ]
    },
    {
     "name": "stderr",
     "output_type": "stream",
     "text": [
      "GPU available: True, used: False\n",
      "TPU available: False, using: 0 TPU cores\n",
      "IPU available: False, using: 0 IPUs\n"
     ]
    },
    {
     "name": "stdout",
     "output_type": "stream",
     "text": [
      "100\n"
     ]
    },
    {
     "name": "stderr",
     "output_type": "stream",
     "text": [
      "\n",
      "  | Name          | Type    | Params\n",
      "------------------------------------------\n",
      "0 | encoder       | Linear  | 230 K \n",
      "1 | act_1         | PReLU   | 1     \n",
      "2 | decoder       | Linear  | 232 K \n",
      "3 | act_2         | PReLU   | 1     \n",
      "4 | loss_func     | MSELoss | 0     \n",
      "5 | log_var_layer | Linear  | 162   \n",
      "6 | mean_layer    | Linear  | 162   \n",
      "7 | bridge_layer  | Linear  | 240   \n",
      "------------------------------------------\n",
      "463 K     Trainable params\n",
      "0         Non-trainable params\n",
      "463 K     Total params\n",
      "1.855     Total estimated model params size (MB)\n"
     ]
    },
    {
     "name": "stdout",
     "output_type": "stream",
     "text": [
      "Epoch 0:  50%|█████     | 41/82 [00:00<00:00, 76.94it/s, loss=2.87e+03, v_num=301]\n",
      "Validating: 0it [00:00, ?it/s]\u001B[A\n",
      "Epoch 0: 100%|██████████| 82/82 [00:00<00:00, 134.93it/s, loss=2.87e+03, v_num=301]\n",
      "Epoch 1:  51%|█████     | 42/82 [00:00<00:00, 79.35it/s, loss=1.52e+03, v_num=301] \n",
      "Validating: 0it [00:00, ?it/s]\u001B[A\n",
      "Epoch 1: 100%|██████████| 82/82 [00:00<00:00, 139.36it/s, loss=1.52e+03, v_num=301]\n",
      "Epoch 2:  51%|█████     | 42/82 [00:00<00:00, 81.88it/s, loss=1.22e+03, v_num=301] \n",
      "Validating: 0it [00:00, ?it/s]\u001B[A\n",
      "Epoch 2: 100%|██████████| 82/82 [00:00<00:00, 141.17it/s, loss=1.22e+03, v_num=301]\n",
      "Epoch 3:  51%|█████     | 42/82 [00:00<00:00, 84.48it/s, loss=1.21e+03, v_num=301] \n",
      "Validating: 0it [00:00, ?it/s]\u001B[A\n",
      "Epoch 3: 100%|██████████| 82/82 [00:00<00:00, 145.76it/s, loss=1.21e+03, v_num=301]\n",
      "Epoch 4:  51%|█████     | 42/82 [00:00<00:00, 80.29it/s, loss=1.17e+03, v_num=301] \n",
      "Validating: 0it [00:00, ?it/s]\u001B[A\n",
      "Epoch 4: 100%|██████████| 82/82 [00:00<00:00, 138.83it/s, loss=1.17e+03, v_num=301]\n",
      "Epoch 5:  50%|█████     | 41/82 [00:00<00:00, 78.66it/s, loss=1.07e+03, v_num=301] \n",
      "Validating: 0it [00:00, ?it/s]\u001B[A\n",
      "Epoch 5: 100%|██████████| 82/82 [00:00<00:00, 138.07it/s, loss=1.07e+03, v_num=301]\n",
      "Epoch 6:  50%|█████     | 41/82 [00:00<00:00, 78.47it/s, loss=1.12e+03, v_num=301] \n",
      "Validating: 0it [00:00, ?it/s]\u001B[A\n",
      "Epoch 6: 100%|██████████| 82/82 [00:00<00:00, 138.49it/s, loss=1.12e+03, v_num=301]\n",
      "Epoch 7:  50%|█████     | 41/82 [00:00<00:00, 74.43it/s, loss=1.13e+03, v_num=301] \n",
      "Validating: 0it [00:00, ?it/s]\u001B[A\n",
      "Epoch 7: 100%|██████████| 82/82 [00:00<00:00, 133.52it/s, loss=1.13e+03, v_num=301]\n",
      "Epoch 8:  50%|█████     | 41/82 [00:00<00:00, 83.12it/s, loss=1.16e+03, v_num=301] \n",
      "Validating: 0it [00:00, ?it/s]\u001B[A\n",
      "Epoch 8: 100%|██████████| 82/82 [00:00<00:00, 144.53it/s, loss=1.16e+03, v_num=301]\n",
      "Epoch 9:  50%|█████     | 41/82 [00:00<00:00, 81.18it/s, loss=1.1e+03, v_num=301]  \n",
      "Validating: 0it [00:00, ?it/s]\u001B[A\n",
      "Epoch 9: 100%|██████████| 82/82 [00:00<00:00, 145.21it/s, loss=1.1e+03, v_num=301]\n",
      "Epoch 9: 100%|██████████| 82/82 [00:00<00:00, 141.80it/s, loss=1.1e+03, v_num=301]\n"
     ]
    },
    {
     "name": "stderr",
     "output_type": "stream",
     "text": [
      "GPU available: True, used: False\n",
      "TPU available: False, using: 0 TPU cores\n",
      "IPU available: False, using: 0 IPUs\n"
     ]
    },
    {
     "name": "stdout",
     "output_type": "stream",
     "text": [
      "0.01\n"
     ]
    },
    {
     "name": "stderr",
     "output_type": "stream",
     "text": [
      "\n",
      "  | Name          | Type    | Params\n",
      "------------------------------------------\n",
      "0 | encoder       | Linear  | 230 K \n",
      "1 | act_1         | Sigmoid | 0     \n",
      "2 | decoder       | Linear  | 232 K \n",
      "3 | act_2         | Sigmoid | 0     \n",
      "4 | loss_func     | MSELoss | 0     \n",
      "5 | log_var_layer | Linear  | 162   \n",
      "6 | mean_layer    | Linear  | 162   \n",
      "7 | bridge_layer  | Linear  | 240   \n",
      "------------------------------------------\n",
      "463 K     Trainable params\n",
      "0         Non-trainable params\n",
      "463 K     Total params\n",
      "1.855     Total estimated model params size (MB)\n"
     ]
    },
    {
     "name": "stdout",
     "output_type": "stream",
     "text": [
      "Epoch 0:   0%|          | 0/82 [00:00<?, ?it/s]               "
     ]
    },
    {
     "name": "stderr",
     "output_type": "stream",
     "text": [
      "GPU available: True, used: False\n",
      "TPU available: False, using: 0 TPU cores\n",
      "IPU available: False, using: 0 IPUs\n"
     ]
    },
    {
     "name": "stdout",
     "output_type": "stream",
     "text": [
      "0.1\n"
     ]
    },
    {
     "name": "stderr",
     "output_type": "stream",
     "text": [
      "\n",
      "  | Name          | Type    | Params\n",
      "------------------------------------------\n",
      "0 | encoder       | Linear  | 230 K \n",
      "1 | act_1         | Sigmoid | 0     \n",
      "2 | decoder       | Linear  | 232 K \n",
      "3 | act_2         | Sigmoid | 0     \n",
      "4 | loss_func     | MSELoss | 0     \n",
      "5 | log_var_layer | Linear  | 162   \n",
      "6 | mean_layer    | Linear  | 162   \n",
      "7 | bridge_layer  | Linear  | 240   \n",
      "------------------------------------------\n",
      "463 K     Trainable params\n",
      "0         Non-trainable params\n",
      "463 K     Total params\n",
      "1.855     Total estimated model params size (MB)\n"
     ]
    },
    {
     "name": "stdout",
     "output_type": "stream",
     "text": [
      "Epoch 0:   0%|          | 0/82 [00:00<?, ?it/s]               "
     ]
    },
    {
     "name": "stderr",
     "output_type": "stream",
     "text": [
      "GPU available: True, used: False\n",
      "TPU available: False, using: 0 TPU cores\n",
      "IPU available: False, using: 0 IPUs\n"
     ]
    },
    {
     "name": "stdout",
     "output_type": "stream",
     "text": [
      "1\n"
     ]
    },
    {
     "name": "stderr",
     "output_type": "stream",
     "text": [
      "\n",
      "  | Name          | Type    | Params\n",
      "------------------------------------------\n",
      "0 | encoder       | Linear  | 230 K \n",
      "1 | act_1         | Sigmoid | 0     \n",
      "2 | decoder       | Linear  | 232 K \n",
      "3 | act_2         | Sigmoid | 0     \n",
      "4 | loss_func     | MSELoss | 0     \n",
      "5 | log_var_layer | Linear  | 162   \n",
      "6 | mean_layer    | Linear  | 162   \n",
      "7 | bridge_layer  | Linear  | 240   \n",
      "------------------------------------------\n",
      "463 K     Trainable params\n",
      "0         Non-trainable params\n",
      "463 K     Total params\n",
      "1.855     Total estimated model params size (MB)\n"
     ]
    },
    {
     "name": "stdout",
     "output_type": "stream",
     "text": [
      "Epoch 0:   0%|          | 0/82 [00:00<?, ?it/s]               "
     ]
    },
    {
     "name": "stderr",
     "output_type": "stream",
     "text": [
      "GPU available: True, used: False\n",
      "TPU available: False, using: 0 TPU cores\n",
      "IPU available: False, using: 0 IPUs\n",
      "\n",
      "  | Name          | Type    | Params\n",
      "------------------------------------------\n",
      "0 | encoder       | Linear  | 230 K \n",
      "1 | act_1         | Sigmoid | 0     \n",
      "2 | decoder       | Linear  | 232 K \n",
      "3 | act_2         | Sigmoid | 0     \n",
      "4 | loss_func     | MSELoss | 0     \n",
      "5 | log_var_layer | Linear  | 162   \n",
      "6 | mean_layer    | Linear  | 162   \n",
      "7 | bridge_layer  | Linear  | 240   \n",
      "------------------------------------------\n",
      "463 K     Trainable params\n",
      "0         Non-trainable params\n",
      "463 K     Total params\n",
      "1.855     Total estimated model params size (MB)\n"
     ]
    },
    {
     "name": "stdout",
     "output_type": "stream",
     "text": [
      "100\n",
      "Epoch 0:   0%|          | 0/82 [00:00<?, ?it/s]               "
     ]
    },
    {
     "name": "stderr",
     "output_type": "stream",
     "text": [
      "GPU available: True, used: False\n",
      "TPU available: False, using: 0 TPU cores\n",
      "IPU available: False, using: 0 IPUs\n"
     ]
    },
    {
     "name": "stdout",
     "output_type": "stream",
     "text": [
      "0.01\n"
     ]
    },
    {
     "name": "stderr",
     "output_type": "stream",
     "text": [
      "\n",
      "  | Name          | Type    | Params\n",
      "------------------------------------------\n",
      "0 | encoder       | Linear  | 863 K \n",
      "1 | act_1         | PReLU   | 1     \n",
      "2 | decoder       | Linear  | 865 K \n",
      "3 | act_2         | PReLU   | 1     \n",
      "4 | loss_func     | MSELoss | 0     \n",
      "5 | log_var_layer | Linear  | 602   \n",
      "6 | mean_layer    | Linear  | 602   \n",
      "7 | bridge_layer  | Linear  | 900   \n",
      "------------------------------------------\n",
      "1.7 M     Trainable params\n",
      "0         Non-trainable params\n",
      "1.7 M     Total params\n",
      "6.924     Total estimated model params size (MB)\n"
     ]
    },
    {
     "name": "stdout",
     "output_type": "stream",
     "text": [
      "Epoch 0:  50%|█████     | 41/82 [00:00<00:00, 53.45it/s, loss=2.92e+03, v_num=306]\n",
      "Validating: 0it [00:00, ?it/s]\u001B[A\n",
      "Epoch 0: 100%|██████████| 82/82 [00:00<00:00, 95.96it/s, loss=2.92e+03, v_num=306]\n",
      "Epoch 1:  50%|█████     | 41/82 [00:00<00:00, 51.56it/s, loss=3.54e+03, v_num=306]\n",
      "Validating: 0it [00:00, ?it/s]\u001B[A\n",
      "Epoch 1: 100%|██████████| 82/82 [00:00<00:00, 92.85it/s, loss=3.54e+03, v_num=306]\n",
      "Epoch 2:  50%|█████     | 41/82 [00:00<00:00, 51.23it/s, loss=3.33e+03, v_num=306]\n",
      "Validating: 0it [00:00, ?it/s]\u001B[A\n",
      "Epoch 2: 100%|██████████| 82/82 [00:00<00:00, 91.82it/s, loss=3.33e+03, v_num=306]\n",
      "Epoch 3:  50%|█████     | 41/82 [00:00<00:00, 51.55it/s, loss=2.66e+03, v_num=306]\n",
      "Validating: 0it [00:00, ?it/s]\u001B[A\n",
      "Epoch 3: 100%|██████████| 82/82 [00:00<00:00, 92.82it/s, loss=2.66e+03, v_num=306]\n",
      "Epoch 4:  50%|█████     | 41/82 [00:00<00:00, 50.39it/s, loss=2.57e+03, v_num=306]\n",
      "Validating: 0it [00:00, ?it/s]\u001B[A\n",
      "Epoch 4: 100%|██████████| 82/82 [00:00<00:00, 90.74it/s, loss=2.57e+03, v_num=306]\n",
      "Epoch 5:  50%|█████     | 41/82 [00:00<00:00, 52.08it/s, loss=2.14e+03, v_num=306]\n",
      "Validating: 0it [00:00, ?it/s]\u001B[A\n",
      "Epoch 5: 100%|██████████| 82/82 [00:00<00:00, 94.06it/s, loss=2.14e+03, v_num=306]\n",
      "Epoch 6:  50%|█████     | 41/82 [00:00<00:00, 54.07it/s, loss=1.95e+03, v_num=306]\n",
      "Validating: 0it [00:00, ?it/s]\u001B[A\n",
      "Epoch 6: 100%|██████████| 82/82 [00:00<00:00, 98.51it/s, loss=1.95e+03, v_num=306]\n",
      "Epoch 7:  50%|█████     | 41/82 [00:00<00:00, 49.92it/s, loss=1.72e+03, v_num=306]\n",
      "Validating: 0it [00:00, ?it/s]\u001B[A\n",
      "Epoch 7: 100%|██████████| 82/82 [00:00<00:00, 89.89it/s, loss=1.72e+03, v_num=306]\n",
      "Epoch 8:  50%|█████     | 41/82 [00:00<00:00, 49.30it/s, loss=1.63e+03, v_num=306]\n",
      "Validating: 0it [00:00, ?it/s]\u001B[A\n",
      "Epoch 8: 100%|██████████| 82/82 [00:00<00:00, 90.17it/s, loss=1.63e+03, v_num=306]\n",
      "Epoch 9:  50%|█████     | 41/82 [00:00<00:00, 50.78it/s, loss=1.63e+03, v_num=306]\n",
      "Validating: 0it [00:00, ?it/s]\u001B[A\n",
      "Epoch 9: 100%|██████████| 82/82 [00:00<00:00, 91.45it/s, loss=1.63e+03, v_num=306]\n",
      "Epoch 9: 100%|██████████| 82/82 [00:00<00:00, 87.95it/s, loss=1.63e+03, v_num=306]\n"
     ]
    },
    {
     "name": "stderr",
     "output_type": "stream",
     "text": [
      "GPU available: True, used: False\n",
      "TPU available: False, using: 0 TPU cores\n",
      "IPU available: False, using: 0 IPUs\n",
      "\n",
      "  | Name          | Type    | Params\n",
      "------------------------------------------\n",
      "0 | encoder       | Linear  | 863 K \n",
      "1 | act_1         | PReLU   | 1     \n",
      "2 | decoder       | Linear  | 865 K \n",
      "3 | act_2         | PReLU   | 1     \n",
      "4 | loss_func     | MSELoss | 0     \n",
      "5 | log_var_layer | Linear  | 602   \n",
      "6 | mean_layer    | Linear  | 602   \n",
      "7 | bridge_layer  | Linear  | 900   \n",
      "------------------------------------------\n",
      "1.7 M     Trainable params\n",
      "0         Non-trainable params\n",
      "1.7 M     Total params\n",
      "6.924     Total estimated model params size (MB)\n"
     ]
    },
    {
     "name": "stdout",
     "output_type": "stream",
     "text": [
      "0.1\n",
      "Epoch 0:  50%|█████     | 41/82 [00:00<00:00, 51.16it/s, loss=3.38e+03, v_num=307]\n",
      "Validating: 0it [00:00, ?it/s]\u001B[A\n",
      "Epoch 0: 100%|██████████| 82/82 [00:00<00:00, 93.27it/s, loss=3.38e+03, v_num=307]\n",
      "Epoch 1:  50%|█████     | 41/82 [00:00<00:00, 52.19it/s, loss=1.86e+03, v_num=307]\n",
      "Validating: 0it [00:00, ?it/s]\u001B[A\n",
      "Epoch 1: 100%|██████████| 82/82 [00:00<00:00, 95.12it/s, loss=1.86e+03, v_num=307]\n",
      "Epoch 2:  50%|█████     | 41/82 [00:00<00:00, 50.24it/s, loss=1.49e+03, v_num=307]\n",
      "Validating: 0it [00:00, ?it/s]\u001B[A\n",
      "Epoch 2: 100%|██████████| 82/82 [00:00<00:00, 90.50it/s, loss=1.49e+03, v_num=307]\n",
      "Epoch 3:  50%|█████     | 41/82 [00:00<00:00, 47.93it/s, loss=1.43e+03, v_num=307]\n",
      "Validating: 0it [00:00, ?it/s]\u001B[A\n",
      "Epoch 3: 100%|██████████| 82/82 [00:00<00:00, 88.02it/s, loss=1.43e+03, v_num=307]\n",
      "Epoch 4:  50%|█████     | 41/82 [00:00<00:00, 52.32it/s, loss=1.36e+03, v_num=307]\n",
      "Validating: 0it [00:00, ?it/s]\u001B[A\n",
      "Epoch 4: 100%|██████████| 82/82 [00:00<00:00, 93.89it/s, loss=1.36e+03, v_num=307]\n",
      "Epoch 5:  50%|█████     | 41/82 [00:00<00:00, 52.40it/s, loss=1.23e+03, v_num=307]\n",
      "Validating: 0it [00:00, ?it/s]\u001B[A\n",
      "Epoch 5: 100%|██████████| 82/82 [00:00<00:00, 93.71it/s, loss=1.23e+03, v_num=307]\n",
      "Epoch 6:  50%|█████     | 41/82 [00:00<00:00, 51.77it/s, loss=1.27e+03, v_num=307]\n",
      "Validating: 0it [00:00, ?it/s]\u001B[A\n",
      "Epoch 6: 100%|██████████| 82/82 [00:00<00:00, 93.25it/s, loss=1.27e+03, v_num=307]\n",
      "Epoch 7:  50%|█████     | 41/82 [00:00<00:00, 50.84it/s, loss=1.25e+03, v_num=307]\n",
      "Validating: 0it [00:00, ?it/s]\u001B[A\n",
      "Epoch 7: 100%|██████████| 82/82 [00:00<00:00, 92.75it/s, loss=1.25e+03, v_num=307]\n",
      "Epoch 8:  50%|█████     | 41/82 [00:00<00:00, 47.70it/s, loss=1.14e+03, v_num=307]\n",
      "Validating: 0it [00:00, ?it/s]\u001B[A\n",
      "Epoch 8: 100%|██████████| 82/82 [00:00<00:00, 85.44it/s, loss=1.14e+03, v_num=307]\n",
      "Epoch 9:  50%|█████     | 41/82 [00:00<00:00, 50.91it/s, loss=1.23e+03, v_num=307]\n",
      "Validating: 0it [00:00, ?it/s]\u001B[A\n",
      "Epoch 9: 100%|██████████| 82/82 [00:00<00:00, 90.50it/s, loss=1.23e+03, v_num=307]\n",
      "Epoch 9: 100%|██████████| 82/82 [00:00<00:00, 86.60it/s, loss=1.23e+03, v_num=307]\n"
     ]
    },
    {
     "name": "stderr",
     "output_type": "stream",
     "text": [
      "GPU available: True, used: False\n",
      "TPU available: False, using: 0 TPU cores\n",
      "IPU available: False, using: 0 IPUs\n"
     ]
    },
    {
     "name": "stdout",
     "output_type": "stream",
     "text": [
      "1\n"
     ]
    },
    {
     "name": "stderr",
     "output_type": "stream",
     "text": [
      "\n",
      "  | Name          | Type    | Params\n",
      "------------------------------------------\n",
      "0 | encoder       | Linear  | 863 K \n",
      "1 | act_1         | PReLU   | 1     \n",
      "2 | decoder       | Linear  | 865 K \n",
      "3 | act_2         | PReLU   | 1     \n",
      "4 | loss_func     | MSELoss | 0     \n",
      "5 | log_var_layer | Linear  | 602   \n",
      "6 | mean_layer    | Linear  | 602   \n",
      "7 | bridge_layer  | Linear  | 900   \n",
      "------------------------------------------\n",
      "1.7 M     Trainable params\n",
      "0         Non-trainable params\n",
      "1.7 M     Total params\n",
      "6.924     Total estimated model params size (MB)\n"
     ]
    },
    {
     "name": "stdout",
     "output_type": "stream",
     "text": [
      "Epoch 0:  50%|█████     | 41/82 [00:00<00:00, 50.47it/s, loss=3.25e+04, v_num=308]\n",
      "Validating: 0it [00:00, ?it/s]\u001B[A\n",
      "Epoch 0: 100%|██████████| 82/82 [00:00<00:00, 90.18it/s, loss=3.25e+04, v_num=308]\n",
      "Epoch 1:  50%|█████     | 41/82 [00:00<00:00, 49.14it/s, loss=4.14e+04, v_num=308]\n",
      "Validating: 0it [00:00, ?it/s]\u001B[A\n",
      "Epoch 1: 100%|██████████| 82/82 [00:00<00:00, 89.30it/s, loss=4.14e+04, v_num=308]\n",
      "Epoch 2:  50%|█████     | 41/82 [00:00<00:00, 47.31it/s, loss=2.45e+04, v_num=308]\n",
      "Validating: 0it [00:00, ?it/s]\u001B[A\n",
      "Epoch 2: 100%|██████████| 82/82 [00:00<00:00, 85.21it/s, loss=2.45e+04, v_num=308]\n",
      "Epoch 3:  50%|█████     | 41/82 [00:00<00:00, 48.75it/s, loss=1.77e+04, v_num=308]\n",
      "Validating: 0it [00:00, ?it/s]\u001B[A\n",
      "Epoch 3: 100%|██████████| 82/82 [00:00<00:00, 87.16it/s, loss=1.77e+04, v_num=308]\n",
      "Epoch 4:  50%|█████     | 41/82 [00:00<00:00, 49.15it/s, loss=1.15e+04, v_num=308]\n",
      "Validating: 0it [00:00, ?it/s]\u001B[A\n",
      "Epoch 4: 100%|██████████| 82/82 [00:00<00:00, 89.09it/s, loss=1.15e+04, v_num=308]\n",
      "Epoch 5:  50%|█████     | 41/82 [00:00<00:00, 51.14it/s, loss=8.09e+03, v_num=308]\n",
      "Validating: 0it [00:00, ?it/s]\u001B[A\n",
      "Epoch 5: 100%|██████████| 82/82 [00:00<00:00, 91.82it/s, loss=8.09e+03, v_num=308]\n",
      "Epoch 6:  50%|█████     | 41/82 [00:00<00:00, 47.41it/s, loss=5.92e+03, v_num=308]\n",
      "Validating: 0it [00:00, ?it/s]\u001B[A\n",
      "Epoch 6: 100%|██████████| 82/82 [00:00<00:00, 85.43it/s, loss=5.92e+03, v_num=308]\n",
      "Epoch 7:  50%|█████     | 41/82 [00:00<00:00, 47.98it/s, loss=4.52e+03, v_num=308]\n",
      "Validating: 0it [00:00, ?it/s]\u001B[A\n",
      "Epoch 7: 100%|██████████| 82/82 [00:00<00:00, 86.21it/s, loss=4.52e+03, v_num=308]\n",
      "Epoch 8:  50%|█████     | 41/82 [00:00<00:00, 48.66it/s, loss=3.78e+03, v_num=308]\n",
      "Validating: 0it [00:00, ?it/s]\u001B[A\n",
      "Epoch 8: 100%|██████████| 82/82 [00:00<00:00, 87.33it/s, loss=3.78e+03, v_num=308]\n",
      "Epoch 9:  50%|█████     | 41/82 [00:00<00:00, 50.35it/s, loss=3.52e+03, v_num=308]\n",
      "Validating: 0it [00:00, ?it/s]\u001B[A\n",
      "Epoch 9: 100%|██████████| 82/82 [00:00<00:00, 89.49it/s, loss=3.52e+03, v_num=308]\n",
      "Epoch 9: 100%|██████████| 82/82 [00:00<00:00, 85.98it/s, loss=3.52e+03, v_num=308]\n"
     ]
    },
    {
     "name": "stderr",
     "output_type": "stream",
     "text": [
      "GPU available: True, used: False\n",
      "TPU available: False, using: 0 TPU cores\n",
      "IPU available: False, using: 0 IPUs\n",
      "\n",
      "  | Name          | Type    | Params\n",
      "------------------------------------------\n",
      "0 | encoder       | Linear  | 863 K \n",
      "1 | act_1         | PReLU   | 1     \n",
      "2 | decoder       | Linear  | 865 K \n",
      "3 | act_2         | PReLU   | 1     \n",
      "4 | loss_func     | MSELoss | 0     \n",
      "5 | log_var_layer | Linear  | 602   \n",
      "6 | mean_layer    | Linear  | 602   \n",
      "7 | bridge_layer  | Linear  | 900   \n",
      "------------------------------------------\n",
      "1.7 M     Trainable params\n",
      "0         Non-trainable params\n",
      "1.7 M     Total params\n",
      "6.924     Total estimated model params size (MB)\n"
     ]
    },
    {
     "name": "stdout",
     "output_type": "stream",
     "text": [
      "100\n",
      "Epoch 0:  50%|█████     | 41/82 [00:00<00:00, 48.76it/s, loss=7.17e+05, v_num=309]\n",
      "Validating: 0it [00:00, ?it/s]\u001B[A\n",
      "Epoch 0: 100%|██████████| 82/82 [00:00<00:00, 88.56it/s, loss=7.17e+05, v_num=309]\n",
      "Epoch 1:  50%|█████     | 41/82 [00:00<00:00, 45.57it/s, loss=6.25e+04, v_num=309]\n",
      "Validating: 0it [00:00, ?it/s]\u001B[A\n",
      "Epoch 1: 100%|██████████| 82/82 [00:01<00:00, 81.94it/s, loss=6.25e+04, v_num=309]\n",
      "Epoch 2:  50%|█████     | 41/82 [00:00<00:00, 47.72it/s, loss=4.26e+04, v_num=309]\n",
      "Validating: 0it [00:00, ?it/s]\u001B[A\n",
      "Epoch 2: 100%|██████████| 82/82 [00:00<00:00, 84.99it/s, loss=4.26e+04, v_num=309]\n",
      "Epoch 3:  50%|█████     | 41/82 [00:00<00:00, 47.16it/s, loss=3.3e+04, v_num=309] \n",
      "Validating: 0it [00:00, ?it/s]\u001B[A\n",
      "Epoch 3: 100%|██████████| 82/82 [00:00<00:00, 84.94it/s, loss=3.3e+04, v_num=309]\n",
      "Epoch 4:  50%|█████     | 41/82 [00:00<00:00, 47.08it/s, loss=2.93e+04, v_num=309]\n",
      "Validating: 0it [00:00, ?it/s]\u001B[A\n",
      "Epoch 4: 100%|██████████| 82/82 [00:00<00:00, 84.48it/s, loss=2.93e+04, v_num=309]\n",
      "Epoch 5:  50%|█████     | 41/82 [00:00<00:00, 48.19it/s, loss=2.63e+04, v_num=309]\n",
      "Validating: 0it [00:00, ?it/s]\u001B[A\n",
      "Epoch 5: 100%|██████████| 82/82 [00:00<00:00, 87.06it/s, loss=2.63e+04, v_num=309]\n",
      "Epoch 6:  50%|█████     | 41/82 [00:00<00:00, 48.37it/s, loss=2.61e+04, v_num=309]\n",
      "Validating: 0it [00:00, ?it/s]\u001B[A\n",
      "Epoch 6: 100%|██████████| 82/82 [00:00<00:00, 86.67it/s, loss=2.61e+04, v_num=309]\n",
      "Epoch 7:  50%|█████     | 41/82 [00:00<00:00, 50.48it/s, loss=2.58e+04, v_num=309]\n",
      "Validating: 0it [00:00, ?it/s]\u001B[A\n",
      "Epoch 7: 100%|██████████| 82/82 [00:00<00:00, 90.11it/s, loss=2.58e+04, v_num=309]\n",
      "Epoch 8:  50%|█████     | 41/82 [00:00<00:00, 45.09it/s, loss=2.51e+04, v_num=309]\n",
      "Validating: 0it [00:00, ?it/s]\u001B[A\n",
      "Epoch 8: 100%|██████████| 82/82 [00:00<00:00, 82.06it/s, loss=2.51e+04, v_num=309]\n",
      "Epoch 9:  50%|█████     | 41/82 [00:00<00:00, 45.79it/s, loss=2.38e+04, v_num=309]\n",
      "Validating: 0it [00:00, ?it/s]\u001B[A\n",
      "Epoch 9: 100%|██████████| 82/82 [00:01<00:00, 81.85it/s, loss=2.38e+04, v_num=309]\n",
      "Epoch 9: 100%|██████████| 82/82 [00:01<00:00, 78.74it/s, loss=2.38e+04, v_num=309]\n"
     ]
    },
    {
     "name": "stderr",
     "output_type": "stream",
     "text": [
      "GPU available: True, used: False\n",
      "TPU available: False, using: 0 TPU cores\n",
      "IPU available: False, using: 0 IPUs\n",
      "\n",
      "  | Name          | Type    | Params\n",
      "------------------------------------------\n",
      "0 | encoder       | Linear  | 863 K \n",
      "1 | act_1         | Sigmoid | 0     \n",
      "2 | decoder       | Linear  | 865 K \n",
      "3 | act_2         | Sigmoid | 0     \n",
      "4 | loss_func     | MSELoss | 0     \n",
      "5 | log_var_layer | Linear  | 602   \n",
      "6 | mean_layer    | Linear  | 602   \n",
      "7 | bridge_layer  | Linear  | 900   \n",
      "------------------------------------------\n",
      "1.7 M     Trainable params\n",
      "0         Non-trainable params\n",
      "1.7 M     Total params\n",
      "6.924     Total estimated model params size (MB)\n"
     ]
    },
    {
     "name": "stdout",
     "output_type": "stream",
     "text": [
      "0.01\n",
      "Epoch 0:   0%|          | 0/82 [00:00<?, ?it/s]               "
     ]
    },
    {
     "name": "stderr",
     "output_type": "stream",
     "text": [
      "GPU available: True, used: False\n",
      "TPU available: False, using: 0 TPU cores\n",
      "IPU available: False, using: 0 IPUs\n",
      "\n",
      "  | Name          | Type    | Params\n",
      "------------------------------------------\n",
      "0 | encoder       | Linear  | 863 K \n",
      "1 | act_1         | Sigmoid | 0     \n",
      "2 | decoder       | Linear  | 865 K \n",
      "3 | act_2         | Sigmoid | 0     \n",
      "4 | loss_func     | MSELoss | 0     \n",
      "5 | log_var_layer | Linear  | 602   \n",
      "6 | mean_layer    | Linear  | 602   \n",
      "7 | bridge_layer  | Linear  | 900   \n",
      "------------------------------------------\n",
      "1.7 M     Trainable params\n",
      "0         Non-trainable params\n",
      "1.7 M     Total params\n",
      "6.924     Total estimated model params size (MB)\n"
     ]
    },
    {
     "name": "stdout",
     "output_type": "stream",
     "text": [
      "0.1\n",
      "Epoch 0:   0%|          | 0/82 [00:00<?, ?it/s]               "
     ]
    },
    {
     "name": "stderr",
     "output_type": "stream",
     "text": [
      "GPU available: True, used: False\n",
      "TPU available: False, using: 0 TPU cores\n",
      "IPU available: False, using: 0 IPUs\n",
      "\n",
      "  | Name          | Type    | Params\n",
      "------------------------------------------\n",
      "0 | encoder       | Linear  | 863 K \n",
      "1 | act_1         | Sigmoid | 0     \n",
      "2 | decoder       | Linear  | 865 K \n",
      "3 | act_2         | Sigmoid | 0     \n",
      "4 | loss_func     | MSELoss | 0     \n",
      "5 | log_var_layer | Linear  | 602   \n",
      "6 | mean_layer    | Linear  | 602   \n",
      "7 | bridge_layer  | Linear  | 900   \n",
      "------------------------------------------\n",
      "1.7 M     Trainable params\n",
      "0         Non-trainable params\n",
      "1.7 M     Total params\n",
      "6.924     Total estimated model params size (MB)\n"
     ]
    },
    {
     "name": "stdout",
     "output_type": "stream",
     "text": [
      "1\n",
      "Epoch 0:   0%|          | 0/82 [00:00<?, ?it/s]               "
     ]
    },
    {
     "name": "stderr",
     "output_type": "stream",
     "text": [
      "GPU available: True, used: False\n",
      "TPU available: False, using: 0 TPU cores\n",
      "IPU available: False, using: 0 IPUs\n",
      "\n",
      "  | Name          | Type    | Params\n",
      "------------------------------------------\n",
      "0 | encoder       | Linear  | 863 K \n",
      "1 | act_1         | Sigmoid | 0     \n",
      "2 | decoder       | Linear  | 865 K \n",
      "3 | act_2         | Sigmoid | 0     \n",
      "4 | loss_func     | MSELoss | 0     \n",
      "5 | log_var_layer | Linear  | 602   \n",
      "6 | mean_layer    | Linear  | 602   \n",
      "7 | bridge_layer  | Linear  | 900   \n",
      "------------------------------------------\n",
      "1.7 M     Trainable params\n",
      "0         Non-trainable params\n",
      "1.7 M     Total params\n",
      "6.924     Total estimated model params size (MB)\n"
     ]
    },
    {
     "name": "stdout",
     "output_type": "stream",
     "text": [
      "100\n",
      "Epoch 0:   0%|          | 0/82 [00:00<?, ?it/s]               "
     ]
    },
    {
     "name": "stderr",
     "output_type": "stream",
     "text": [
      "GPU available: True, used: False\n",
      "TPU available: False, using: 0 TPU cores\n",
      "IPU available: False, using: 0 IPUs\n",
      "\n",
      "  | Name          | Type    | Params\n",
      "------------------------------------------\n",
      "0 | encoder       | Linear  | 28.8 K\n",
      "1 | act_1         | PReLU   | 1     \n",
      "2 | decoder       | Linear  | 31.6 K\n",
      "3 | act_2         | PReLU   | 1     \n",
      "4 | loss_func     | MSELoss | 0     \n",
      "5 | log_var_layer | Linear  | 22    \n",
      "6 | mean_layer    | Linear  | 22    \n",
      "7 | bridge_layer  | Linear  | 30    \n",
      "------------------------------------------\n",
      "60.5 K    Trainable params\n",
      "0         Non-trainable params\n",
      "60.5 K    Total params\n",
      "0.242     Total estimated model params size (MB)\n"
     ]
    },
    {
     "name": "stdout",
     "output_type": "stream",
     "text": [
      "0.01\n",
      "Epoch 0:  50%|█████     | 41/82 [00:00<00:00, 78.33it/s, loss=1.3e+04, v_num=314] \n",
      "Validating: 0it [00:00, ?it/s]\u001B[A\n",
      "Epoch 0: 100%|██████████| 82/82 [00:00<00:00, 139.93it/s, loss=1.3e+04, v_num=314]\n",
      "Epoch 1:  51%|█████     | 42/82 [00:00<00:00, 81.06it/s, loss=8.48e+03, v_num=314]\n",
      "Validating: 0it [00:00, ?it/s]\u001B[A\n",
      "Epoch 1: 100%|██████████| 82/82 [00:00<00:00, 139.63it/s, loss=8.48e+03, v_num=314]\n",
      "Epoch 2:  51%|█████     | 42/82 [00:00<00:00, 82.22it/s, loss=8.4e+03, v_num=314]  \n",
      "Validating: 0it [00:00, ?it/s]\u001B[A\n",
      "Epoch 2: 100%|██████████| 82/82 [00:00<00:00, 139.81it/s, loss=8.4e+03, v_num=314]\n",
      "Epoch 3:  51%|█████     | 42/82 [00:00<00:00, 80.88it/s, loss=7.65e+03, v_num=314]\n",
      "Validating: 0it [00:00, ?it/s]\u001B[A\n",
      "Epoch 3: 100%|██████████| 82/82 [00:00<00:00, 138.79it/s, loss=7.65e+03, v_num=314]\n",
      "Epoch 4:  51%|█████     | 42/82 [00:00<00:00, 81.89it/s, loss=7.35e+03, v_num=314] \n",
      "Validating: 0it [00:00, ?it/s]\u001B[A\n",
      "Epoch 4: 100%|██████████| 82/82 [00:00<00:00, 140.84it/s, loss=7.35e+03, v_num=314]\n",
      "Epoch 5:  51%|█████     | 42/82 [00:00<00:00, 85.24it/s, loss=7.73e+03, v_num=314] \n",
      "Validating: 0it [00:00, ?it/s]\u001B[A\n",
      "Epoch 5: 100%|██████████| 82/82 [00:00<00:00, 146.04it/s, loss=7.73e+03, v_num=314]\n",
      "Epoch 6:  51%|█████     | 42/82 [00:00<00:00, 80.82it/s, loss=7.65e+03, v_num=314] \n",
      "Validating: 0it [00:00, ?it/s]\u001B[A\n",
      "Epoch 6: 100%|██████████| 82/82 [00:00<00:00, 142.13it/s, loss=7.65e+03, v_num=314]\n",
      "Epoch 7:  51%|█████     | 42/82 [00:00<00:00, 87.76it/s, loss=7.02e+03, v_num=314] \n",
      "Validating: 0it [00:00, ?it/s]\u001B[A\n",
      "Epoch 7: 100%|██████████| 82/82 [00:00<00:00, 153.76it/s, loss=7.02e+03, v_num=314]\n",
      "Epoch 8:  51%|█████     | 42/82 [00:00<00:00, 89.70it/s, loss=6.95e+03, v_num=314] \n",
      "Validating: 0it [00:00, ?it/s]\u001B[A\n",
      "Epoch 8: 100%|██████████| 82/82 [00:00<00:00, 156.41it/s, loss=6.95e+03, v_num=314]\n",
      "Epoch 9:  51%|█████     | 42/82 [00:00<00:00, 79.42it/s, loss=6.97e+03, v_num=314] \n",
      "Validating: 0it [00:00, ?it/s]\u001B[A\n",
      "Epoch 9: 100%|██████████| 82/82 [00:00<00:00, 136.97it/s, loss=6.97e+03, v_num=314]\n",
      "Epoch 9: 100%|██████████| 82/82 [00:00<00:00, 135.01it/s, loss=6.97e+03, v_num=314]\n"
     ]
    },
    {
     "name": "stderr",
     "output_type": "stream",
     "text": [
      "GPU available: True, used: False\n",
      "TPU available: False, using: 0 TPU cores\n",
      "IPU available: False, using: 0 IPUs\n"
     ]
    },
    {
     "name": "stdout",
     "output_type": "stream",
     "text": [
      "0.1\n"
     ]
    },
    {
     "name": "stderr",
     "output_type": "stream",
     "text": [
      "\n",
      "  | Name          | Type    | Params\n",
      "------------------------------------------\n",
      "0 | encoder       | Linear  | 28.8 K\n",
      "1 | act_1         | PReLU   | 1     \n",
      "2 | decoder       | Linear  | 31.6 K\n",
      "3 | act_2         | PReLU   | 1     \n",
      "4 | loss_func     | MSELoss | 0     \n",
      "5 | log_var_layer | Linear  | 22    \n",
      "6 | mean_layer    | Linear  | 22    \n",
      "7 | bridge_layer  | Linear  | 30    \n",
      "------------------------------------------\n",
      "60.5 K    Trainable params\n",
      "0         Non-trainable params\n",
      "60.5 K    Total params\n",
      "0.242     Total estimated model params size (MB)\n"
     ]
    },
    {
     "name": "stdout",
     "output_type": "stream",
     "text": [
      "Epoch 0:  50%|█████     | 41/82 [00:00<00:00, 78.16it/s, loss=1.63e+07, v_num=315]\n",
      "Validating: 0it [00:00, ?it/s]\u001B[A\n",
      "Epoch 0: 100%|██████████| 82/82 [00:00<00:00, 137.97it/s, loss=1.63e+07, v_num=315]\n",
      "Epoch 1:  50%|█████     | 41/82 [00:00<00:00, 87.75it/s, loss=1.25e+05, v_num=315] \n",
      "Validating: 0it [00:00, ?it/s]\u001B[A\n",
      "Epoch 1: 100%|██████████| 82/82 [00:00<00:00, 152.04it/s, loss=1.25e+05, v_num=315]\n",
      "Epoch 2:  50%|█████     | 41/82 [00:00<00:00, 76.72it/s, loss=1.23e+05, v_num=315] \n",
      "Validating: 0it [00:00, ?it/s]\u001B[A\n",
      "Epoch 2: 100%|██████████| 82/82 [00:00<00:00, 137.59it/s, loss=1.23e+05, v_num=315]\n",
      "Epoch 3:  50%|█████     | 41/82 [00:00<00:00, 78.24it/s, loss=1.29e+05, v_num=315] \n",
      "Validating: 0it [00:00, ?it/s]\u001B[A\n",
      "Epoch 3: 100%|██████████| 82/82 [00:00<00:00, 138.01it/s, loss=1.29e+05, v_num=315]\n",
      "Epoch 4:  50%|█████     | 41/82 [00:00<00:00, 84.93it/s, loss=1.24e+05, v_num=315] \n",
      "Validating: 0it [00:00, ?it/s]\u001B[A\n",
      "Epoch 4: 100%|██████████| 82/82 [00:00<00:00, 150.05it/s, loss=1.24e+05, v_num=315]\n",
      "Epoch 5:  50%|█████     | 41/82 [00:00<00:00, 77.31it/s, loss=1.18e+05, v_num=315] \n",
      "Validating: 0it [00:00, ?it/s]\u001B[A\n",
      "Epoch 5: 100%|██████████| 82/82 [00:00<00:00, 136.22it/s, loss=1.18e+05, v_num=315]\n",
      "Epoch 6:  50%|█████     | 41/82 [00:00<00:00, 76.06it/s, loss=1.27e+05, v_num=315] \n",
      "Validating: 0it [00:00, ?it/s]\u001B[A\n",
      "Epoch 6: 100%|██████████| 82/82 [00:00<00:00, 136.75it/s, loss=1.27e+05, v_num=315]\n",
      "Epoch 7:  50%|█████     | 41/82 [00:00<00:00, 82.09it/s, loss=1.17e+05, v_num=315] \n",
      "Validating: 0it [00:00, ?it/s]\u001B[A\n",
      "Epoch 7: 100%|██████████| 82/82 [00:00<00:00, 145.93it/s, loss=1.17e+05, v_num=315]\n",
      "Epoch 8:  50%|█████     | 41/82 [00:00<00:00, 82.29it/s, loss=1.25e+05, v_num=315] \n",
      "Validating: 0it [00:00, ?it/s]\u001B[A\n",
      "Epoch 8: 100%|██████████| 82/82 [00:00<00:00, 143.83it/s, loss=1.25e+05, v_num=315]\n",
      "Epoch 9:  50%|█████     | 41/82 [00:00<00:00, 83.53it/s, loss=1.23e+05, v_num=315] \n",
      "Validating: 0it [00:00, ?it/s]\u001B[A\n",
      "Epoch 9: 100%|██████████| 82/82 [00:00<00:00, 145.82it/s, loss=1.23e+05, v_num=315]\n",
      "Epoch 9: 100%|██████████| 82/82 [00:00<00:00, 143.64it/s, loss=1.23e+05, v_num=315]\n"
     ]
    },
    {
     "name": "stderr",
     "output_type": "stream",
     "text": [
      "GPU available: True, used: False\n",
      "TPU available: False, using: 0 TPU cores\n",
      "IPU available: False, using: 0 IPUs\n"
     ]
    },
    {
     "name": "stdout",
     "output_type": "stream",
     "text": [
      "1\n"
     ]
    },
    {
     "name": "stderr",
     "output_type": "stream",
     "text": [
      "\n",
      "  | Name          | Type    | Params\n",
      "------------------------------------------\n",
      "0 | encoder       | Linear  | 28.8 K\n",
      "1 | act_1         | PReLU   | 1     \n",
      "2 | decoder       | Linear  | 31.6 K\n",
      "3 | act_2         | PReLU   | 1     \n",
      "4 | loss_func     | MSELoss | 0     \n",
      "5 | log_var_layer | Linear  | 22    \n",
      "6 | mean_layer    | Linear  | 22    \n",
      "7 | bridge_layer  | Linear  | 30    \n",
      "------------------------------------------\n",
      "60.5 K    Trainable params\n",
      "0         Non-trainable params\n",
      "60.5 K    Total params\n",
      "0.242     Total estimated model params size (MB)\n"
     ]
    },
    {
     "name": "stdout",
     "output_type": "stream",
     "text": [
      "Epoch 0:  50%|█████     | 41/82 [00:00<00:00, 80.64it/s, loss=3.41e+03, v_num=316]\n",
      "Validating: 0it [00:00, ?it/s]\u001B[A\n",
      "Epoch 0: 100%|██████████| 82/82 [00:00<00:00, 141.52it/s, loss=3.41e+03, v_num=316]\n",
      "Epoch 1:  50%|█████     | 41/82 [00:00<00:00, 82.09it/s, loss=1.88e+03, v_num=316] \n",
      "Validating: 0it [00:00, ?it/s]\u001B[A\n",
      "Epoch 1: 100%|██████████| 82/82 [00:00<00:00, 147.25it/s, loss=1.88e+03, v_num=316]\n",
      "Epoch 2:  50%|█████     | 41/82 [00:00<00:00, 74.15it/s, loss=1.32e+03, v_num=316] \n",
      "Validating: 0it [00:00, ?it/s]\u001B[A\n",
      "Epoch 2: 100%|██████████| 82/82 [00:00<00:00, 131.56it/s, loss=1.32e+03, v_num=316]\n",
      "Epoch 3:  50%|█████     | 41/82 [00:00<00:00, 78.65it/s, loss=891, v_num=316]      \n",
      "Validating: 0it [00:00, ?it/s]\u001B[A\n",
      "Epoch 3: 100%|██████████| 82/82 [00:00<00:00, 138.69it/s, loss=891, v_num=316]\n",
      "Epoch 4:  50%|█████     | 41/82 [00:00<00:00, 80.79it/s, loss=797, v_num=316] \n",
      "Validating: 0it [00:00, ?it/s]\u001B[A\n",
      "Epoch 4: 100%|██████████| 82/82 [00:00<00:00, 141.82it/s, loss=797, v_num=316]\n",
      "Epoch 5:  50%|█████     | 41/82 [00:00<00:00, 82.48it/s, loss=831, v_num=316] \n",
      "Validating: 0it [00:00, ?it/s]\u001B[A\n",
      "Epoch 5: 100%|██████████| 82/82 [00:00<00:00, 144.43it/s, loss=831, v_num=316]\n",
      "Epoch 6:  50%|█████     | 41/82 [00:00<00:00, 83.46it/s, loss=725, v_num=316] \n",
      "Validating: 0it [00:00, ?it/s]\u001B[A\n",
      "Epoch 6: 100%|██████████| 82/82 [00:00<00:00, 146.42it/s, loss=725, v_num=316]\n",
      "Epoch 7:  50%|█████     | 41/82 [00:00<00:00, 85.90it/s, loss=697, v_num=316] \n",
      "Validating: 0it [00:00, ?it/s]\u001B[A\n",
      "Epoch 7: 100%|██████████| 82/82 [00:00<00:00, 145.65it/s, loss=697, v_num=316]\n",
      "Epoch 8:  50%|█████     | 41/82 [00:00<00:00, 86.97it/s, loss=697, v_num=316] \n",
      "Validating: 0it [00:00, ?it/s]\u001B[A\n",
      "Epoch 8: 100%|██████████| 82/82 [00:00<00:00, 152.14it/s, loss=697, v_num=316]\n",
      "Epoch 9:  50%|█████     | 41/82 [00:00<00:00, 92.52it/s, loss=593, v_num=316] \n",
      "Validating: 0it [00:00, ?it/s]\u001B[A\n",
      "Epoch 9: 100%|██████████| 82/82 [00:00<00:00, 159.81it/s, loss=593, v_num=316]\n",
      "Epoch 9: 100%|██████████| 82/82 [00:00<00:00, 156.90it/s, loss=593, v_num=316]\n"
     ]
    },
    {
     "name": "stderr",
     "output_type": "stream",
     "text": [
      "GPU available: True, used: False\n",
      "TPU available: False, using: 0 TPU cores\n",
      "IPU available: False, using: 0 IPUs\n"
     ]
    },
    {
     "name": "stdout",
     "output_type": "stream",
     "text": [
      "100\n"
     ]
    },
    {
     "name": "stderr",
     "output_type": "stream",
     "text": [
      "\n",
      "  | Name          | Type    | Params\n",
      "------------------------------------------\n",
      "0 | encoder       | Linear  | 28.8 K\n",
      "1 | act_1         | PReLU   | 1     \n",
      "2 | decoder       | Linear  | 31.6 K\n",
      "3 | act_2         | PReLU   | 1     \n",
      "4 | loss_func     | MSELoss | 0     \n",
      "5 | log_var_layer | Linear  | 22    \n",
      "6 | mean_layer    | Linear  | 22    \n",
      "7 | bridge_layer  | Linear  | 30    \n",
      "------------------------------------------\n",
      "60.5 K    Trainable params\n",
      "0         Non-trainable params\n",
      "60.5 K    Total params\n",
      "0.242     Total estimated model params size (MB)\n"
     ]
    },
    {
     "name": "stdout",
     "output_type": "stream",
     "text": [
      "Epoch 0:  50%|█████     | 41/82 [00:00<00:00, 78.98it/s, loss=9.12e+25, v_num=317]\n",
      "Validating: 0it [00:00, ?it/s]\u001B[A\n",
      "Epoch 0: 100%|██████████| 82/82 [00:00<00:00, 138.86it/s, loss=9.12e+25, v_num=317]\n",
      "Epoch 1:  50%|█████     | 41/82 [00:00<00:00, 81.15it/s, loss=8.49e+25, v_num=317] \n",
      "Validating: 0it [00:00, ?it/s]\u001B[A\n",
      "Epoch 1: 100%|██████████| 82/82 [00:00<00:00, 144.70it/s, loss=8.49e+25, v_num=317]\n",
      "Epoch 2:  50%|█████     | 41/82 [00:00<00:00, 82.88it/s, loss=9.05e+25, v_num=317] \n",
      "Validating: 0it [00:00, ?it/s]\u001B[A\n",
      "Epoch 2: 100%|██████████| 82/82 [00:00<00:00, 147.55it/s, loss=9.05e+25, v_num=317]\n",
      "Epoch 3:  50%|█████     | 41/82 [00:00<00:00, 74.78it/s, loss=7.74e+25, v_num=317] \n",
      "Validating: 0it [00:00, ?it/s]\u001B[A\n",
      "Epoch 3: 100%|██████████| 82/82 [00:00<00:00, 134.69it/s, loss=7.74e+25, v_num=317]\n",
      "Epoch 4:  50%|█████     | 41/82 [00:00<00:00, 81.18it/s, loss=7.94e+25, v_num=317] \n",
      "Validating: 0it [00:00, ?it/s]\u001B[A\n",
      "Epoch 4: 100%|██████████| 82/82 [00:00<00:00, 141.95it/s, loss=7.94e+25, v_num=317]\n",
      "Epoch 5:  50%|█████     | 41/82 [00:00<00:00, 83.10it/s, loss=1.03e+26, v_num=317] \n",
      "Validating: 0it [00:00, ?it/s]\u001B[A\n",
      "Epoch 5: 100%|██████████| 82/82 [00:00<00:00, 146.07it/s, loss=1.03e+26, v_num=317]\n",
      "Epoch 6:  50%|█████     | 41/82 [00:00<00:00, 77.26it/s, loss=1.01e+26, v_num=317] \n",
      "Validating: 0it [00:00, ?it/s]\u001B[A\n",
      "Epoch 6: 100%|██████████| 82/82 [00:00<00:00, 138.79it/s, loss=1.01e+26, v_num=317]\n",
      "Epoch 7:  50%|█████     | 41/82 [00:00<00:00, 75.89it/s, loss=7.62e+25, v_num=317] \n",
      "Validating: 0it [00:00, ?it/s]\u001B[A\n",
      "Epoch 7: 100%|██████████| 82/82 [00:00<00:00, 135.23it/s, loss=7.62e+25, v_num=317]\n",
      "Epoch 8:  50%|█████     | 41/82 [00:00<00:00, 78.44it/s, loss=7.37e+25, v_num=317] \n",
      "Validating: 0it [00:00, ?it/s]\u001B[A\n",
      "Epoch 8: 100%|██████████| 82/82 [00:00<00:00, 138.30it/s, loss=7.37e+25, v_num=317]\n",
      "Epoch 9:  50%|█████     | 41/82 [00:00<00:00, 71.52it/s, loss=7.33e+25, v_num=317] \n",
      "Validating: 0it [00:00, ?it/s]\u001B[A\n",
      "Epoch 9: 100%|██████████| 82/82 [00:00<00:00, 127.08it/s, loss=7.33e+25, v_num=317]\n",
      "Epoch 9: 100%|██████████| 82/82 [00:00<00:00, 125.66it/s, loss=7.33e+25, v_num=317]\n"
     ]
    },
    {
     "name": "stderr",
     "output_type": "stream",
     "text": [
      "GPU available: True, used: False\n",
      "TPU available: False, using: 0 TPU cores\n",
      "IPU available: False, using: 0 IPUs\n"
     ]
    },
    {
     "name": "stdout",
     "output_type": "stream",
     "text": [
      "0.01\n"
     ]
    },
    {
     "name": "stderr",
     "output_type": "stream",
     "text": [
      "\n",
      "  | Name          | Type    | Params\n",
      "------------------------------------------\n",
      "0 | encoder       | Linear  | 28.8 K\n",
      "1 | act_1         | Sigmoid | 0     \n",
      "2 | decoder       | Linear  | 31.6 K\n",
      "3 | act_2         | Sigmoid | 0     \n",
      "4 | loss_func     | MSELoss | 0     \n",
      "5 | log_var_layer | Linear  | 22    \n",
      "6 | mean_layer    | Linear  | 22    \n",
      "7 | bridge_layer  | Linear  | 30    \n",
      "------------------------------------------\n",
      "60.5 K    Trainable params\n",
      "0         Non-trainable params\n",
      "60.5 K    Total params\n",
      "0.242     Total estimated model params size (MB)\n"
     ]
    },
    {
     "name": "stdout",
     "output_type": "stream",
     "text": [
      "Epoch 0:   0%|          | 0/82 [00:00<?, ?it/s]               "
     ]
    },
    {
     "name": "stderr",
     "output_type": "stream",
     "text": [
      "GPU available: True, used: False\n",
      "TPU available: False, using: 0 TPU cores\n",
      "IPU available: False, using: 0 IPUs\n",
      "\n",
      "  | Name          | Type    | Params\n",
      "------------------------------------------\n",
      "0 | encoder       | Linear  | 28.8 K\n",
      "1 | act_1         | Sigmoid | 0     \n",
      "2 | decoder       | Linear  | 31.6 K\n",
      "3 | act_2         | Sigmoid | 0     \n",
      "4 | loss_func     | MSELoss | 0     \n",
      "5 | log_var_layer | Linear  | 22    \n",
      "6 | mean_layer    | Linear  | 22    \n",
      "7 | bridge_layer  | Linear  | 30    \n",
      "------------------------------------------\n",
      "60.5 K    Trainable params\n",
      "0         Non-trainable params\n",
      "60.5 K    Total params\n",
      "0.242     Total estimated model params size (MB)\n"
     ]
    },
    {
     "name": "stdout",
     "output_type": "stream",
     "text": [
      "0.1\n",
      "Epoch 0:   0%|          | 0/82 [00:00<?, ?it/s]               "
     ]
    },
    {
     "name": "stderr",
     "output_type": "stream",
     "text": [
      "GPU available: True, used: False\n",
      "TPU available: False, using: 0 TPU cores\n",
      "IPU available: False, using: 0 IPUs\n",
      "\n",
      "  | Name          | Type    | Params\n",
      "------------------------------------------\n",
      "0 | encoder       | Linear  | 28.8 K\n",
      "1 | act_1         | Sigmoid | 0     \n",
      "2 | decoder       | Linear  | 31.6 K\n",
      "3 | act_2         | Sigmoid | 0     \n",
      "4 | loss_func     | MSELoss | 0     \n",
      "5 | log_var_layer | Linear  | 22    \n",
      "6 | mean_layer    | Linear  | 22    \n",
      "7 | bridge_layer  | Linear  | 30    \n",
      "------------------------------------------\n",
      "60.5 K    Trainable params\n",
      "0         Non-trainable params\n",
      "60.5 K    Total params\n",
      "0.242     Total estimated model params size (MB)\n"
     ]
    },
    {
     "name": "stdout",
     "output_type": "stream",
     "text": [
      "1\n",
      "Epoch 0:   0%|          | 0/82 [00:00<?, ?it/s]               "
     ]
    },
    {
     "name": "stderr",
     "output_type": "stream",
     "text": [
      "GPU available: True, used: False\n",
      "TPU available: False, using: 0 TPU cores\n",
      "IPU available: False, using: 0 IPUs\n",
      "\n",
      "  | Name          | Type    | Params\n",
      "------------------------------------------\n",
      "0 | encoder       | Linear  | 28.8 K\n",
      "1 | act_1         | Sigmoid | 0     \n",
      "2 | decoder       | Linear  | 31.6 K\n",
      "3 | act_2         | Sigmoid | 0     \n",
      "4 | loss_func     | MSELoss | 0     \n",
      "5 | log_var_layer | Linear  | 22    \n",
      "6 | mean_layer    | Linear  | 22    \n",
      "7 | bridge_layer  | Linear  | 30    \n",
      "------------------------------------------\n",
      "60.5 K    Trainable params\n",
      "0         Non-trainable params\n",
      "60.5 K    Total params\n",
      "0.242     Total estimated model params size (MB)\n"
     ]
    },
    {
     "name": "stdout",
     "output_type": "stream",
     "text": [
      "100\n",
      "Epoch 0:   0%|          | 0/82 [00:00<?, ?it/s]               "
     ]
    },
    {
     "name": "stderr",
     "output_type": "stream",
     "text": [
      "GPU available: True, used: False\n",
      "TPU available: False, using: 0 TPU cores\n",
      "IPU available: False, using: 0 IPUs\n",
      "\n",
      "  | Name          | Type    | Params\n",
      "------------------------------------------\n",
      "0 | encoder       | Linear  | 230 K \n",
      "1 | act_1         | PReLU   | 1     \n",
      "2 | decoder       | Linear  | 232 K \n",
      "3 | act_2         | PReLU   | 1     \n",
      "4 | loss_func     | MSELoss | 0     \n",
      "5 | log_var_layer | Linear  | 162   \n",
      "6 | mean_layer    | Linear  | 162   \n",
      "7 | bridge_layer  | Linear  | 240   \n",
      "------------------------------------------\n",
      "463 K     Trainable params\n",
      "0         Non-trainable params\n",
      "463 K     Total params\n",
      "1.855     Total estimated model params size (MB)\n"
     ]
    },
    {
     "name": "stdout",
     "output_type": "stream",
     "text": [
      "0.01\n",
      "Epoch 0:  50%|█████     | 41/82 [00:00<00:00, 74.55it/s, loss=1.8e+22, v_num=322] \n",
      "Validating: 0it [00:00, ?it/s]\u001B[A\n",
      "Epoch 0: 100%|██████████| 82/82 [00:00<00:00, 131.95it/s, loss=1.8e+22, v_num=322]\n",
      "Epoch 1:  51%|█████     | 42/82 [00:00<00:00, 73.55it/s, loss=3.16e+21, v_num=322]\n",
      "Validating: 0it [00:00, ?it/s]\u001B[A\n",
      "Epoch 1: 100%|██████████| 82/82 [00:00<00:00, 130.07it/s, loss=3.16e+21, v_num=322]\n",
      "Epoch 2:  51%|█████     | 42/82 [00:00<00:00, 76.35it/s, loss=1.72e+21, v_num=322] \n",
      "Validating: 0it [00:00, ?it/s]\u001B[A\n",
      "Epoch 2: 100%|██████████| 82/82 [00:00<00:00, 132.47it/s, loss=1.72e+21, v_num=322]\n",
      "Epoch 3:  51%|█████     | 42/82 [00:00<00:00, 75.12it/s, loss=1.69e+21, v_num=322] \n",
      "Validating: 0it [00:00, ?it/s]\u001B[A\n",
      "Epoch 3: 100%|██████████| 82/82 [00:00<00:00, 132.69it/s, loss=1.69e+21, v_num=322]\n",
      "Epoch 4:  51%|█████     | 42/82 [00:00<00:00, 73.33it/s, loss=8.96e+20, v_num=322] \n",
      "Validating: 0it [00:00, ?it/s]\u001B[A\n",
      "Epoch 4: 100%|██████████| 82/82 [00:00<00:00, 129.65it/s, loss=8.96e+20, v_num=322]\n",
      "Epoch 5:  51%|█████     | 42/82 [00:00<00:00, 77.88it/s, loss=5.14e+20, v_num=322] \n",
      "Validating: 0it [00:00, ?it/s]\u001B[A\n",
      "Epoch 5: 100%|██████████| 82/82 [00:00<00:00, 134.58it/s, loss=5.14e+20, v_num=322]\n",
      "Epoch 6:  51%|█████     | 42/82 [00:00<00:00, 76.16it/s, loss=5.47e+20, v_num=322] \n",
      "Validating: 0it [00:00, ?it/s]\u001B[A\n",
      "Epoch 6: 100%|██████████| 82/82 [00:00<00:00, 134.13it/s, loss=5.47e+20, v_num=322]\n",
      "Epoch 7:  51%|█████     | 42/82 [00:00<00:00, 77.50it/s, loss=3.44e+20, v_num=322] \n",
      "Validating: 0it [00:00, ?it/s]\u001B[A\n",
      "Epoch 7: 100%|██████████| 82/82 [00:00<00:00, 134.21it/s, loss=3.44e+20, v_num=322]\n",
      "Epoch 8:  51%|█████     | 42/82 [00:00<00:00, 75.79it/s, loss=4.37e+20, v_num=322] \n",
      "Validating: 0it [00:00, ?it/s]\u001B[A\n",
      "Epoch 8: 100%|██████████| 82/82 [00:00<00:00, 131.74it/s, loss=4.37e+20, v_num=322]\n",
      "Epoch 9:  51%|█████     | 42/82 [00:00<00:00, 78.74it/s, loss=2.55e+20, v_num=322] \n",
      "Validating: 0it [00:00, ?it/s]\u001B[A\n",
      "Epoch 9: 100%|██████████| 82/82 [00:00<00:00, 136.26it/s, loss=2.55e+20, v_num=322]\n",
      "Epoch 9: 100%|██████████| 82/82 [00:00<00:00, 133.23it/s, loss=2.55e+20, v_num=322]\n"
     ]
    },
    {
     "name": "stderr",
     "output_type": "stream",
     "text": [
      "GPU available: True, used: False\n",
      "TPU available: False, using: 0 TPU cores\n",
      "IPU available: False, using: 0 IPUs\n"
     ]
    },
    {
     "name": "stdout",
     "output_type": "stream",
     "text": [
      "0.1\n"
     ]
    },
    {
     "name": "stderr",
     "output_type": "stream",
     "text": [
      "\n",
      "  | Name          | Type    | Params\n",
      "------------------------------------------\n",
      "0 | encoder       | Linear  | 230 K \n",
      "1 | act_1         | PReLU   | 1     \n",
      "2 | decoder       | Linear  | 232 K \n",
      "3 | act_2         | PReLU   | 1     \n",
      "4 | loss_func     | MSELoss | 0     \n",
      "5 | log_var_layer | Linear  | 162   \n",
      "6 | mean_layer    | Linear  | 162   \n",
      "7 | bridge_layer  | Linear  | 240   \n",
      "------------------------------------------\n",
      "463 K     Trainable params\n",
      "0         Non-trainable params\n",
      "463 K     Total params\n",
      "1.855     Total estimated model params size (MB)\n"
     ]
    },
    {
     "name": "stdout",
     "output_type": "stream",
     "text": [
      "Epoch 0:  50%|█████     | 41/82 [00:00<00:00, 75.99it/s, loss=nan, v_num=323]    \n",
      "Validating: 0it [00:00, ?it/s]\u001B[A\n",
      "Epoch 0: 100%|██████████| 82/82 [00:00<00:00, 133.97it/s, loss=nan, v_num=323]\n",
      "Epoch 1:  50%|█████     | 41/82 [00:00<00:00, 72.17it/s, loss=nan, v_num=323] \n",
      "Validating: 0it [00:00, ?it/s]\u001B[A\n",
      "Epoch 1: 100%|██████████| 82/82 [00:00<00:00, 128.19it/s, loss=nan, v_num=323]\n",
      "Epoch 2:  50%|█████     | 41/82 [00:00<00:00, 76.45it/s, loss=nan, v_num=323] \n",
      "Validating: 0it [00:00, ?it/s]\u001B[A\n",
      "Epoch 2: 100%|██████████| 82/82 [00:00<00:00, 134.32it/s, loss=nan, v_num=323]\n",
      "Epoch 3:  50%|█████     | 41/82 [00:00<00:00, 73.23it/s, loss=nan, v_num=323] \n",
      "Validating: 0it [00:00, ?it/s]\u001B[A\n",
      "Epoch 3: 100%|██████████| 82/82 [00:00<00:00, 129.84it/s, loss=nan, v_num=323]\n",
      "Epoch 4:  50%|█████     | 41/82 [00:00<00:00, 77.22it/s, loss=nan, v_num=323] \n",
      "Validating: 0it [00:00, ?it/s]\u001B[A\n",
      "Epoch 4: 100%|██████████| 82/82 [00:00<00:00, 138.83it/s, loss=nan, v_num=323]\n",
      "Epoch 5:  50%|█████     | 41/82 [00:00<00:00, 72.62it/s, loss=nan, v_num=323] \n",
      "Validating: 0it [00:00, ?it/s]\u001B[A\n",
      "Epoch 5: 100%|██████████| 82/82 [00:00<00:00, 129.00it/s, loss=nan, v_num=323]\n",
      "Epoch 6:  50%|█████     | 41/82 [00:00<00:00, 73.83it/s, loss=nan, v_num=323] \n",
      "Validating: 0it [00:00, ?it/s]\u001B[A\n",
      "Epoch 6: 100%|██████████| 82/82 [00:00<00:00, 131.29it/s, loss=nan, v_num=323]\n",
      "Epoch 7:  50%|█████     | 41/82 [00:00<00:00, 71.51it/s, loss=nan, v_num=323] \n",
      "Validating: 0it [00:00, ?it/s]\u001B[A\n",
      "Epoch 7: 100%|██████████| 82/82 [00:00<00:00, 127.21it/s, loss=nan, v_num=323]\n",
      "Epoch 8:  50%|█████     | 41/82 [00:00<00:00, 73.74it/s, loss=nan, v_num=323] \n",
      "Validating: 0it [00:00, ?it/s]\u001B[A\n",
      "Epoch 8: 100%|██████████| 82/82 [00:00<00:00, 130.77it/s, loss=nan, v_num=323]\n",
      "Epoch 9:  50%|█████     | 41/82 [00:00<00:00, 71.87it/s, loss=nan, v_num=323] \n",
      "Validating: 0it [00:00, ?it/s]\u001B[A\n",
      "Epoch 9: 100%|██████████| 82/82 [00:00<00:00, 129.49it/s, loss=nan, v_num=323]\n",
      "Epoch 9: 100%|██████████| 82/82 [00:00<00:00, 127.15it/s, loss=nan, v_num=323]\n"
     ]
    },
    {
     "name": "stderr",
     "output_type": "stream",
     "text": [
      "GPU available: True, used: False\n",
      "TPU available: False, using: 0 TPU cores\n",
      "IPU available: False, using: 0 IPUs\n"
     ]
    },
    {
     "name": "stdout",
     "output_type": "stream",
     "text": [
      "1\n"
     ]
    },
    {
     "name": "stderr",
     "output_type": "stream",
     "text": [
      "\n",
      "  | Name          | Type    | Params\n",
      "------------------------------------------\n",
      "0 | encoder       | Linear  | 230 K \n",
      "1 | act_1         | PReLU   | 1     \n",
      "2 | decoder       | Linear  | 232 K \n",
      "3 | act_2         | PReLU   | 1     \n",
      "4 | loss_func     | MSELoss | 0     \n",
      "5 | log_var_layer | Linear  | 162   \n",
      "6 | mean_layer    | Linear  | 162   \n",
      "7 | bridge_layer  | Linear  | 240   \n",
      "------------------------------------------\n",
      "463 K     Trainable params\n",
      "0         Non-trainable params\n",
      "463 K     Total params\n",
      "1.855     Total estimated model params size (MB)\n"
     ]
    },
    {
     "name": "stdout",
     "output_type": "stream",
     "text": [
      "Epoch 0:  50%|█████     | 41/82 [00:00<00:00, 75.55it/s, loss=2.05e+05, v_num=324]\n",
      "Validating: 0it [00:00, ?it/s]\u001B[A\n",
      "Epoch 0: 100%|██████████| 82/82 [00:00<00:00, 132.96it/s, loss=2.05e+05, v_num=324]\n",
      "Epoch 1:  50%|█████     | 41/82 [00:00<00:00, 67.70it/s, loss=5.83e+03, v_num=324] \n",
      "Validating: 0it [00:00, ?it/s]\u001B[A\n",
      "Epoch 1: 100%|██████████| 82/82 [00:00<00:00, 120.59it/s, loss=5.83e+03, v_num=324]\n",
      "Epoch 2:  50%|█████     | 41/82 [00:00<00:00, 77.43it/s, loss=2.67e+03, v_num=324] \n",
      "Validating: 0it [00:00, ?it/s]\u001B[A\n",
      "Epoch 2: 100%|██████████| 82/82 [00:00<00:00, 137.34it/s, loss=2.67e+03, v_num=324]\n",
      "Epoch 3:  50%|█████     | 41/82 [00:00<00:00, 79.78it/s, loss=2.35e+03, v_num=324] \n",
      "Validating: 0it [00:00, ?it/s]\u001B[A\n",
      "Epoch 3: 100%|██████████| 82/82 [00:00<00:00, 143.11it/s, loss=2.35e+03, v_num=324]\n",
      "Epoch 4:  50%|█████     | 41/82 [00:00<00:00, 79.04it/s, loss=2.14e+03, v_num=324] \n",
      "Validating: 0it [00:00, ?it/s]\u001B[A\n",
      "Epoch 4: 100%|██████████| 82/82 [00:00<00:00, 142.43it/s, loss=2.14e+03, v_num=324]\n",
      "Epoch 5:  50%|█████     | 41/82 [00:00<00:00, 75.20it/s, loss=2.17e+03, v_num=324] \n",
      "Validating: 0it [00:00, ?it/s]\u001B[A\n",
      "Epoch 5: 100%|██████████| 82/82 [00:00<00:00, 133.49it/s, loss=2.17e+03, v_num=324]\n",
      "Epoch 6:  50%|█████     | 41/82 [00:00<00:00, 76.55it/s, loss=1.92e+03, v_num=324] \n",
      "Validating: 0it [00:00, ?it/s]\u001B[A\n",
      "Epoch 6: 100%|██████████| 82/82 [00:00<00:00, 135.16it/s, loss=1.92e+03, v_num=324]\n",
      "Epoch 7:  50%|█████     | 41/82 [00:00<00:00, 78.95it/s, loss=1.77e+03, v_num=324] \n",
      "Validating: 0it [00:00, ?it/s]\u001B[A\n",
      "Epoch 7: 100%|██████████| 82/82 [00:00<00:00, 139.41it/s, loss=1.77e+03, v_num=324]\n",
      "Epoch 8:  50%|█████     | 41/82 [00:00<00:00, 74.75it/s, loss=1.65e+03, v_num=324] \n",
      "Validating: 0it [00:00, ?it/s]\u001B[A\n",
      "Epoch 8: 100%|██████████| 82/82 [00:00<00:00, 134.13it/s, loss=1.65e+03, v_num=324]\n",
      "Epoch 9:  50%|█████     | 41/82 [00:00<00:00, 77.76it/s, loss=1.54e+03, v_num=324] \n",
      "Validating: 0it [00:00, ?it/s]\u001B[A\n",
      "Epoch 9: 100%|██████████| 82/82 [00:00<00:00, 136.48it/s, loss=1.54e+03, v_num=324]\n",
      "Epoch 9: 100%|██████████| 82/82 [00:00<00:00, 133.42it/s, loss=1.54e+03, v_num=324]\n"
     ]
    },
    {
     "name": "stderr",
     "output_type": "stream",
     "text": [
      "GPU available: True, used: False\n",
      "TPU available: False, using: 0 TPU cores\n",
      "IPU available: False, using: 0 IPUs\n"
     ]
    },
    {
     "name": "stdout",
     "output_type": "stream",
     "text": [
      "100\n"
     ]
    },
    {
     "name": "stderr",
     "output_type": "stream",
     "text": [
      "\n",
      "  | Name          | Type    | Params\n",
      "------------------------------------------\n",
      "0 | encoder       | Linear  | 230 K \n",
      "1 | act_1         | PReLU   | 1     \n",
      "2 | decoder       | Linear  | 232 K \n",
      "3 | act_2         | PReLU   | 1     \n",
      "4 | loss_func     | MSELoss | 0     \n",
      "5 | log_var_layer | Linear  | 162   \n",
      "6 | mean_layer    | Linear  | 162   \n",
      "7 | bridge_layer  | Linear  | 240   \n",
      "------------------------------------------\n",
      "463 K     Trainable params\n",
      "0         Non-trainable params\n",
      "463 K     Total params\n",
      "1.855     Total estimated model params size (MB)\n"
     ]
    },
    {
     "name": "stdout",
     "output_type": "stream",
     "text": [
      "Epoch 0:  50%|█████     | 41/82 [00:00<00:00, 72.00it/s, loss=nan, v_num=325]    \n",
      "Validating: 0it [00:00, ?it/s]\u001B[A\n",
      "Epoch 0: 100%|██████████| 82/82 [00:00<00:00, 127.38it/s, loss=nan, v_num=325]\n",
      "Epoch 1:  50%|█████     | 41/82 [00:00<00:00, 74.89it/s, loss=nan, v_num=325] \n",
      "Validating: 0it [00:00, ?it/s]\u001B[A\n",
      "Epoch 1: 100%|██████████| 82/82 [00:00<00:00, 132.54it/s, loss=nan, v_num=325]\n",
      "Epoch 2:  50%|█████     | 41/82 [00:00<00:00, 74.12it/s, loss=nan, v_num=325] \n",
      "Validating: 0it [00:00, ?it/s]\u001B[A\n",
      "Epoch 2: 100%|██████████| 82/82 [00:00<00:00, 133.90it/s, loss=nan, v_num=325]\n",
      "Epoch 3:  50%|█████     | 41/82 [00:00<00:00, 74.03it/s, loss=nan, v_num=325] \n",
      "Validating: 0it [00:00, ?it/s]\u001B[A\n",
      "Epoch 3: 100%|██████████| 82/82 [00:00<00:00, 131.51it/s, loss=nan, v_num=325]\n",
      "Epoch 4:  50%|█████     | 41/82 [00:00<00:00, 76.37it/s, loss=nan, v_num=325] \n",
      "Validating: 0it [00:00, ?it/s]\u001B[A\n",
      "Epoch 4: 100%|██████████| 82/82 [00:00<00:00, 135.53it/s, loss=nan, v_num=325]\n",
      "Epoch 5:  50%|█████     | 41/82 [00:00<00:00, 72.50it/s, loss=nan, v_num=325] \n",
      "Validating: 0it [00:00, ?it/s]\u001B[A\n",
      "Epoch 5: 100%|██████████| 82/82 [00:00<00:00, 129.41it/s, loss=nan, v_num=325]\n",
      "Epoch 6:  50%|█████     | 41/82 [00:00<00:00, 76.13it/s, loss=nan, v_num=325] \n",
      "Validating: 0it [00:00, ?it/s]\u001B[A\n",
      "Epoch 6: 100%|██████████| 82/82 [00:00<00:00, 136.88it/s, loss=nan, v_num=325]\n",
      "Epoch 7:  50%|█████     | 41/82 [00:00<00:00, 72.18it/s, loss=nan, v_num=325] \n",
      "Validating: 0it [00:00, ?it/s]\u001B[A\n",
      "Epoch 7: 100%|██████████| 82/82 [00:00<00:00, 131.30it/s, loss=nan, v_num=325]\n",
      "Epoch 8:  50%|█████     | 41/82 [00:00<00:00, 72.99it/s, loss=nan, v_num=325] \n",
      "Validating: 0it [00:00, ?it/s]\u001B[A\n",
      "Epoch 8: 100%|██████████| 82/82 [00:00<00:00, 125.81it/s, loss=nan, v_num=325]\n",
      "Epoch 9:  50%|█████     | 41/82 [00:00<00:00, 73.50it/s, loss=nan, v_num=325] \n",
      "Validating: 0it [00:00, ?it/s]\u001B[A\n",
      "Epoch 9: 100%|██████████| 82/82 [00:00<00:00, 133.48it/s, loss=nan, v_num=325]\n",
      "Epoch 9: 100%|██████████| 82/82 [00:00<00:00, 130.61it/s, loss=nan, v_num=325]\n"
     ]
    },
    {
     "name": "stderr",
     "output_type": "stream",
     "text": [
      "GPU available: True, used: False\n",
      "TPU available: False, using: 0 TPU cores\n",
      "IPU available: False, using: 0 IPUs\n"
     ]
    },
    {
     "name": "stdout",
     "output_type": "stream",
     "text": [
      "0.01\n"
     ]
    },
    {
     "name": "stderr",
     "output_type": "stream",
     "text": [
      "\n",
      "  | Name          | Type    | Params\n",
      "------------------------------------------\n",
      "0 | encoder       | Linear  | 230 K \n",
      "1 | act_1         | Sigmoid | 0     \n",
      "2 | decoder       | Linear  | 232 K \n",
      "3 | act_2         | Sigmoid | 0     \n",
      "4 | loss_func     | MSELoss | 0     \n",
      "5 | log_var_layer | Linear  | 162   \n",
      "6 | mean_layer    | Linear  | 162   \n",
      "7 | bridge_layer  | Linear  | 240   \n",
      "------------------------------------------\n",
      "463 K     Trainable params\n",
      "0         Non-trainable params\n",
      "463 K     Total params\n",
      "1.855     Total estimated model params size (MB)\n"
     ]
    },
    {
     "name": "stdout",
     "output_type": "stream",
     "text": [
      "Epoch 0:   0%|          | 0/82 [00:00<?, ?it/s]               "
     ]
    },
    {
     "name": "stderr",
     "output_type": "stream",
     "text": [
      "GPU available: True, used: False\n",
      "TPU available: False, using: 0 TPU cores\n",
      "IPU available: False, using: 0 IPUs\n",
      "\n",
      "  | Name          | Type    | Params\n",
      "------------------------------------------\n",
      "0 | encoder       | Linear  | 230 K \n",
      "1 | act_1         | Sigmoid | 0     \n",
      "2 | decoder       | Linear  | 232 K \n",
      "3 | act_2         | Sigmoid | 0     \n",
      "4 | loss_func     | MSELoss | 0     \n",
      "5 | log_var_layer | Linear  | 162   \n",
      "6 | mean_layer    | Linear  | 162   \n",
      "7 | bridge_layer  | Linear  | 240   \n",
      "------------------------------------------\n",
      "463 K     Trainable params\n",
      "0         Non-trainable params\n",
      "463 K     Total params\n",
      "1.855     Total estimated model params size (MB)\n"
     ]
    },
    {
     "name": "stdout",
     "output_type": "stream",
     "text": [
      "0.1\n",
      "Epoch 0:   0%|          | 0/82 [00:00<?, ?it/s]               "
     ]
    },
    {
     "name": "stderr",
     "output_type": "stream",
     "text": [
      "GPU available: True, used: False\n",
      "TPU available: False, using: 0 TPU cores\n",
      "IPU available: False, using: 0 IPUs\n",
      "\n",
      "  | Name          | Type    | Params\n",
      "------------------------------------------\n",
      "0 | encoder       | Linear  | 230 K \n",
      "1 | act_1         | Sigmoid | 0     \n",
      "2 | decoder       | Linear  | 232 K \n",
      "3 | act_2         | Sigmoid | 0     \n",
      "4 | loss_func     | MSELoss | 0     \n",
      "5 | log_var_layer | Linear  | 162   \n",
      "6 | mean_layer    | Linear  | 162   \n",
      "7 | bridge_layer  | Linear  | 240   \n",
      "------------------------------------------\n",
      "463 K     Trainable params\n",
      "0         Non-trainable params\n",
      "463 K     Total params\n",
      "1.855     Total estimated model params size (MB)\n"
     ]
    },
    {
     "name": "stdout",
     "output_type": "stream",
     "text": [
      "1\n",
      "Epoch 0:   0%|          | 0/82 [00:00<?, ?it/s]               "
     ]
    },
    {
     "name": "stderr",
     "output_type": "stream",
     "text": [
      "GPU available: True, used: False\n",
      "TPU available: False, using: 0 TPU cores\n",
      "IPU available: False, using: 0 IPUs\n",
      "\n",
      "  | Name          | Type    | Params\n",
      "------------------------------------------\n",
      "0 | encoder       | Linear  | 230 K \n",
      "1 | act_1         | Sigmoid | 0     \n",
      "2 | decoder       | Linear  | 232 K \n",
      "3 | act_2         | Sigmoid | 0     \n",
      "4 | loss_func     | MSELoss | 0     \n",
      "5 | log_var_layer | Linear  | 162   \n",
      "6 | mean_layer    | Linear  | 162   \n",
      "7 | bridge_layer  | Linear  | 240   \n",
      "------------------------------------------\n",
      "463 K     Trainable params\n",
      "0         Non-trainable params\n",
      "463 K     Total params\n",
      "1.855     Total estimated model params size (MB)\n"
     ]
    },
    {
     "name": "stdout",
     "output_type": "stream",
     "text": [
      "100\n",
      "Epoch 0:   0%|          | 0/82 [00:00<?, ?it/s]               "
     ]
    },
    {
     "name": "stderr",
     "output_type": "stream",
     "text": [
      "GPU available: True, used: False\n",
      "TPU available: False, using: 0 TPU cores\n",
      "IPU available: False, using: 0 IPUs\n",
      "\n",
      "  | Name          | Type    | Params\n",
      "------------------------------------------\n",
      "0 | encoder       | Linear  | 863 K \n",
      "1 | act_1         | PReLU   | 1     \n",
      "2 | decoder       | Linear  | 865 K \n",
      "3 | act_2         | PReLU   | 1     \n",
      "4 | loss_func     | MSELoss | 0     \n",
      "5 | log_var_layer | Linear  | 602   \n",
      "6 | mean_layer    | Linear  | 602   \n",
      "7 | bridge_layer  | Linear  | 900   \n",
      "------------------------------------------\n",
      "1.7 M     Trainable params\n",
      "0         Non-trainable params\n",
      "1.7 M     Total params\n",
      "6.924     Total estimated model params size (MB)\n"
     ]
    },
    {
     "name": "stdout",
     "output_type": "stream",
     "text": [
      "0.01\n",
      "Epoch 0:  50%|█████     | 41/82 [00:00<00:00, 47.69it/s, loss=nan, v_num=330]    \n",
      "Validating: 0it [00:00, ?it/s]\u001B[A\n",
      "Epoch 0: 100%|██████████| 82/82 [00:00<00:00, 86.25it/s, loss=nan, v_num=330]\n",
      "Epoch 1:  50%|█████     | 41/82 [00:00<00:00, 46.46it/s, loss=nan, v_num=330]\n",
      "Validating: 0it [00:00, ?it/s]\u001B[A\n",
      "Epoch 1: 100%|██████████| 82/82 [00:00<00:00, 85.57it/s, loss=nan, v_num=330]\n",
      "Epoch 2:  50%|█████     | 41/82 [00:00<00:00, 46.49it/s, loss=nan, v_num=330]\n",
      "Validating: 0it [00:00, ?it/s]\u001B[A\n",
      "Epoch 2: 100%|██████████| 82/82 [00:00<00:00, 85.47it/s, loss=nan, v_num=330]\n",
      "Epoch 3:  50%|█████     | 41/82 [00:00<00:00, 44.27it/s, loss=nan, v_num=330]\n",
      "Validating: 0it [00:00, ?it/s]\u001B[A\n",
      "Epoch 3: 100%|██████████| 82/82 [00:01<00:00, 80.91it/s, loss=nan, v_num=330]\n",
      "Epoch 4:  50%|█████     | 41/82 [00:00<00:00, 49.32it/s, loss=nan, v_num=330]\n",
      "Validating: 0it [00:00, ?it/s]\u001B[A\n",
      "Epoch 4: 100%|██████████| 82/82 [00:00<00:00, 90.45it/s, loss=nan, v_num=330]\n",
      "Epoch 5:  50%|█████     | 41/82 [00:00<00:00, 47.78it/s, loss=nan, v_num=330]\n",
      "Validating: 0it [00:00, ?it/s]\u001B[A\n",
      "Epoch 5: 100%|██████████| 82/82 [00:00<00:00, 86.65it/s, loss=nan, v_num=330]\n",
      "Epoch 6:  50%|█████     | 41/82 [00:00<00:00, 47.25it/s, loss=nan, v_num=330]\n",
      "Validating: 0it [00:00, ?it/s]\u001B[A\n",
      "Epoch 6: 100%|██████████| 82/82 [00:00<00:00, 86.07it/s, loss=nan, v_num=330]\n",
      "Epoch 7:  50%|█████     | 41/82 [00:00<00:00, 46.99it/s, loss=nan, v_num=330]\n",
      "Validating: 0it [00:00, ?it/s]\u001B[A\n",
      "Epoch 7: 100%|██████████| 82/82 [00:00<00:00, 85.04it/s, loss=nan, v_num=330]\n",
      "Epoch 8:  50%|█████     | 41/82 [00:00<00:00, 47.13it/s, loss=nan, v_num=330]\n",
      "Validating: 0it [00:00, ?it/s]\u001B[A\n",
      "Epoch 8: 100%|██████████| 82/82 [00:00<00:00, 85.64it/s, loss=nan, v_num=330]\n",
      "Epoch 9:  50%|█████     | 41/82 [00:00<00:00, 48.68it/s, loss=nan, v_num=330]\n",
      "Validating: 0it [00:00, ?it/s]\u001B[A\n",
      "Epoch 9: 100%|██████████| 82/82 [00:00<00:00, 88.11it/s, loss=nan, v_num=330]\n",
      "Epoch 9: 100%|██████████| 82/82 [00:00<00:00, 85.03it/s, loss=nan, v_num=330]\n"
     ]
    },
    {
     "name": "stderr",
     "output_type": "stream",
     "text": [
      "GPU available: True, used: False\n",
      "TPU available: False, using: 0 TPU cores\n",
      "IPU available: False, using: 0 IPUs\n",
      "\n",
      "  | Name          | Type    | Params\n",
      "------------------------------------------\n",
      "0 | encoder       | Linear  | 863 K \n",
      "1 | act_1         | PReLU   | 1     \n",
      "2 | decoder       | Linear  | 865 K \n",
      "3 | act_2         | PReLU   | 1     \n",
      "4 | loss_func     | MSELoss | 0     \n",
      "5 | log_var_layer | Linear  | 602   \n",
      "6 | mean_layer    | Linear  | 602   \n",
      "7 | bridge_layer  | Linear  | 900   \n",
      "------------------------------------------\n",
      "1.7 M     Trainable params\n",
      "0         Non-trainable params\n",
      "1.7 M     Total params\n",
      "6.924     Total estimated model params size (MB)\n"
     ]
    },
    {
     "name": "stdout",
     "output_type": "stream",
     "text": [
      "0.1\n",
      "Epoch 0:  50%|█████     | 41/82 [00:00<00:00, 45.32it/s, loss=nan, v_num=331]    \n",
      "Validating: 0it [00:00, ?it/s]\u001B[A\n",
      "Epoch 0: 100%|██████████| 82/82 [00:00<00:00, 82.45it/s, loss=nan, v_num=331]\n",
      "Epoch 1:  51%|█████     | 42/82 [00:00<00:00, 48.75it/s, loss=nan, v_num=331]\n",
      "Validating: 0it [00:00, ?it/s]\u001B[A\n",
      "Epoch 1: 100%|██████████| 82/82 [00:00<00:00, 87.67it/s, loss=nan, v_num=331]\n",
      "Epoch 2:  51%|█████     | 42/82 [00:00<00:00, 48.56it/s, loss=nan, v_num=331]\n",
      "Validating: 0it [00:00, ?it/s]\u001B[A\n",
      "Epoch 2: 100%|██████████| 82/82 [00:00<00:00, 87.06it/s, loss=nan, v_num=331]\n",
      "Epoch 3:  51%|█████     | 42/82 [00:00<00:00, 46.72it/s, loss=nan, v_num=331]\n",
      "Validating: 0it [00:00, ?it/s]\u001B[A\n",
      "Epoch 3: 100%|██████████| 82/82 [00:00<00:00, 84.17it/s, loss=nan, v_num=331]\n",
      "Epoch 4:  51%|█████     | 42/82 [00:00<00:00, 49.14it/s, loss=nan, v_num=331]\n",
      "Validating: 0it [00:00, ?it/s]\u001B[A\n",
      "Epoch 4: 100%|██████████| 82/82 [00:00<00:00, 86.51it/s, loss=nan, v_num=331]\n",
      "Epoch 5:  51%|█████     | 42/82 [00:00<00:00, 50.05it/s, loss=nan, v_num=331]\n",
      "Validating: 0it [00:00, ?it/s]\u001B[A\n",
      "Epoch 5: 100%|██████████| 82/82 [00:00<00:00, 88.74it/s, loss=nan, v_num=331]\n",
      "Epoch 6:  51%|█████     | 42/82 [00:00<00:00, 48.03it/s, loss=nan, v_num=331]\n",
      "Validating: 0it [00:00, ?it/s]\u001B[A\n",
      "Epoch 6: 100%|██████████| 82/82 [00:00<00:00, 85.78it/s, loss=nan, v_num=331]\n",
      "Epoch 7:  51%|█████     | 42/82 [00:00<00:00, 47.67it/s, loss=nan, v_num=331]\n",
      "Validating: 0it [00:00, ?it/s]\u001B[A\n",
      "Epoch 7: 100%|██████████| 82/82 [00:00<00:00, 85.71it/s, loss=nan, v_num=331]\n",
      "Epoch 8:  51%|█████     | 42/82 [00:00<00:00, 47.60it/s, loss=nan, v_num=331]\n",
      "Validating: 0it [00:00, ?it/s]\u001B[A\n",
      "Epoch 8: 100%|██████████| 82/82 [00:00<00:00, 84.86it/s, loss=nan, v_num=331]\n",
      "Epoch 9:  51%|█████     | 42/82 [00:00<00:00, 46.70it/s, loss=nan, v_num=331]\n",
      "Validating: 0it [00:00, ?it/s]\u001B[A\n",
      "Epoch 9: 100%|██████████| 82/82 [00:00<00:00, 83.39it/s, loss=nan, v_num=331]\n",
      "Epoch 9: 100%|██████████| 82/82 [00:01<00:00, 80.87it/s, loss=nan, v_num=331]\n"
     ]
    },
    {
     "name": "stderr",
     "output_type": "stream",
     "text": [
      "GPU available: True, used: False\n",
      "TPU available: False, using: 0 TPU cores\n",
      "IPU available: False, using: 0 IPUs\n"
     ]
    },
    {
     "name": "stdout",
     "output_type": "stream",
     "text": [
      "1\n"
     ]
    },
    {
     "name": "stderr",
     "output_type": "stream",
     "text": [
      "\n",
      "  | Name          | Type    | Params\n",
      "------------------------------------------\n",
      "0 | encoder       | Linear  | 863 K \n",
      "1 | act_1         | PReLU   | 1     \n",
      "2 | decoder       | Linear  | 865 K \n",
      "3 | act_2         | PReLU   | 1     \n",
      "4 | loss_func     | MSELoss | 0     \n",
      "5 | log_var_layer | Linear  | 602   \n",
      "6 | mean_layer    | Linear  | 602   \n",
      "7 | bridge_layer  | Linear  | 900   \n",
      "------------------------------------------\n",
      "1.7 M     Trainable params\n",
      "0         Non-trainable params\n",
      "1.7 M     Total params\n",
      "6.924     Total estimated model params size (MB)\n"
     ]
    },
    {
     "name": "stdout",
     "output_type": "stream",
     "text": [
      "Epoch 0:  50%|█████     | 41/82 [00:00<00:00, 46.56it/s, loss=nan, v_num=332]    \n",
      "Validating: 0it [00:00, ?it/s]\u001B[A\n",
      "Epoch 0: 100%|██████████| 82/82 [00:00<00:00, 85.77it/s, loss=nan, v_num=332]\n",
      "Epoch 1:  51%|█████     | 42/82 [00:00<00:00, 48.77it/s, loss=nan, v_num=332]\n",
      "Validating: 0it [00:00, ?it/s]\u001B[A\n",
      "Epoch 1: 100%|██████████| 82/82 [00:00<00:00, 87.62it/s, loss=nan, v_num=332]\n",
      "Epoch 2:  51%|█████     | 42/82 [00:00<00:00, 45.97it/s, loss=nan, v_num=332]\n",
      "Validating: 0it [00:00, ?it/s]\u001B[A\n",
      "Epoch 2: 100%|██████████| 82/82 [00:01<00:00, 81.72it/s, loss=nan, v_num=332]\n",
      "Epoch 3:  51%|█████     | 42/82 [00:00<00:00, 48.24it/s, loss=nan, v_num=332]\n",
      "Validating: 0it [00:00, ?it/s]\u001B[A\n",
      "Epoch 3: 100%|██████████| 82/82 [00:00<00:00, 86.73it/s, loss=nan, v_num=332]\n",
      "Epoch 4:  51%|█████     | 42/82 [00:00<00:00, 48.21it/s, loss=nan, v_num=332]\n",
      "Validating: 0it [00:00, ?it/s]\u001B[A\n",
      "Epoch 4: 100%|██████████| 82/82 [00:00<00:00, 87.29it/s, loss=nan, v_num=332]\n",
      "Epoch 5:  51%|█████     | 42/82 [00:00<00:00, 48.00it/s, loss=nan, v_num=332]\n",
      "Validating: 0it [00:00, ?it/s]\u001B[A\n",
      "Epoch 5: 100%|██████████| 82/82 [00:00<00:00, 86.77it/s, loss=nan, v_num=332]\n",
      "Epoch 6:  51%|█████     | 42/82 [00:00<00:00, 46.39it/s, loss=nan, v_num=332]\n",
      "Validating: 0it [00:00, ?it/s]\u001B[A\n",
      "Epoch 6: 100%|██████████| 82/82 [00:00<00:00, 83.08it/s, loss=nan, v_num=332]\n",
      "Epoch 7:  51%|█████     | 42/82 [00:00<00:00, 47.21it/s, loss=nan, v_num=332]\n",
      "Validating: 0it [00:00, ?it/s]\u001B[A\n",
      "Epoch 7: 100%|██████████| 82/82 [00:00<00:00, 84.94it/s, loss=nan, v_num=332]\n",
      "Epoch 8:  51%|█████     | 42/82 [00:00<00:00, 49.05it/s, loss=nan, v_num=332]\n",
      "Validating: 0it [00:00, ?it/s]\u001B[A\n",
      "Epoch 8: 100%|██████████| 82/82 [00:00<00:00, 87.94it/s, loss=nan, v_num=332]\n",
      "Epoch 9:  51%|█████     | 42/82 [00:00<00:00, 48.01it/s, loss=nan, v_num=332]\n",
      "Validating: 0it [00:00, ?it/s]\u001B[A\n",
      "Epoch 9: 100%|██████████| 82/82 [00:00<00:00, 85.97it/s, loss=nan, v_num=332]\n",
      "Epoch 9: 100%|██████████| 82/82 [00:00<00:00, 83.37it/s, loss=nan, v_num=332]\n"
     ]
    },
    {
     "name": "stderr",
     "output_type": "stream",
     "text": [
      "GPU available: True, used: False\n",
      "TPU available: False, using: 0 TPU cores\n",
      "IPU available: False, using: 0 IPUs\n"
     ]
    },
    {
     "name": "stdout",
     "output_type": "stream",
     "text": [
      "100\n"
     ]
    },
    {
     "name": "stderr",
     "output_type": "stream",
     "text": [
      "\n",
      "  | Name          | Type    | Params\n",
      "------------------------------------------\n",
      "0 | encoder       | Linear  | 863 K \n",
      "1 | act_1         | PReLU   | 1     \n",
      "2 | decoder       | Linear  | 865 K \n",
      "3 | act_2         | PReLU   | 1     \n",
      "4 | loss_func     | MSELoss | 0     \n",
      "5 | log_var_layer | Linear  | 602   \n",
      "6 | mean_layer    | Linear  | 602   \n",
      "7 | bridge_layer  | Linear  | 900   \n",
      "------------------------------------------\n",
      "1.7 M     Trainable params\n",
      "0         Non-trainable params\n",
      "1.7 M     Total params\n",
      "6.924     Total estimated model params size (MB)\n"
     ]
    },
    {
     "name": "stdout",
     "output_type": "stream",
     "text": [
      "Epoch 0:  51%|█████     | 42/82 [00:00<00:00, 49.27it/s, loss=nan, v_num=333]   \n",
      "Validating: 0it [00:00, ?it/s]\u001B[A\n",
      "Epoch 0: 100%|██████████| 82/82 [00:00<00:00, 87.41it/s, loss=nan, v_num=333]\n",
      "Epoch 1:  51%|█████     | 42/82 [00:00<00:00, 47.92it/s, loss=nan, v_num=333]\n",
      "Validating: 0it [00:00, ?it/s]\u001B[A\n",
      "Epoch 1: 100%|██████████| 82/82 [00:00<00:00, 86.76it/s, loss=nan, v_num=333]\n",
      "Epoch 2:  51%|█████     | 42/82 [00:00<00:00, 47.65it/s, loss=nan, v_num=333]\n",
      "Validating: 0it [00:00, ?it/s]\u001B[A\n",
      "Epoch 2: 100%|██████████| 82/82 [00:00<00:00, 86.21it/s, loss=nan, v_num=333]\n",
      "Epoch 3:  50%|█████     | 41/82 [00:00<00:00, 45.51it/s, loss=nan, v_num=333]\n",
      "Validating: 0it [00:00, ?it/s]\u001B[A\n",
      "Epoch 3: 100%|██████████| 82/82 [00:00<00:00, 82.74it/s, loss=nan, v_num=333]\n",
      "Epoch 4:  50%|█████     | 41/82 [00:00<00:00, 45.12it/s, loss=nan, v_num=333]\n",
      "Validating: 0it [00:00, ?it/s]\u001B[A\n",
      "Epoch 4: 100%|██████████| 82/82 [00:00<00:00, 82.05it/s, loss=nan, v_num=333]\n",
      "Epoch 5:  50%|█████     | 41/82 [00:00<00:00, 47.52it/s, loss=nan, v_num=333]\n",
      "Validating: 0it [00:00, ?it/s]\u001B[A\n",
      "Epoch 5: 100%|██████████| 82/82 [00:00<00:00, 86.34it/s, loss=nan, v_num=333]\n",
      "Epoch 6:  50%|█████     | 41/82 [00:00<00:00, 45.96it/s, loss=nan, v_num=333]\n",
      "Validating: 0it [00:00, ?it/s]\u001B[A\n",
      "Epoch 6: 100%|██████████| 82/82 [00:00<00:00, 83.71it/s, loss=nan, v_num=333]\n",
      "Epoch 7:  50%|█████     | 41/82 [00:00<00:00, 45.70it/s, loss=nan, v_num=333]\n",
      "Validating: 0it [00:00, ?it/s]\u001B[A\n",
      "Epoch 7: 100%|██████████| 82/82 [00:00<00:00, 83.77it/s, loss=nan, v_num=333]\n",
      "Epoch 8:  50%|█████     | 41/82 [00:00<00:00, 45.65it/s, loss=nan, v_num=333]\n",
      "Validating: 0it [00:00, ?it/s]\u001B[A\n",
      "Epoch 8: 100%|██████████| 82/82 [00:00<00:00, 83.02it/s, loss=nan, v_num=333]\n",
      "Epoch 9:  50%|█████     | 41/82 [00:00<00:00, 47.00it/s, loss=nan, v_num=333]\n",
      "Validating: 0it [00:00, ?it/s]\u001B[A\n",
      "Epoch 9: 100%|██████████| 82/82 [00:00<00:00, 86.14it/s, loss=nan, v_num=333]\n",
      "Epoch 9: 100%|██████████| 82/82 [00:00<00:00, 82.58it/s, loss=nan, v_num=333]\n"
     ]
    },
    {
     "name": "stderr",
     "output_type": "stream",
     "text": [
      "GPU available: True, used: False\n",
      "TPU available: False, using: 0 TPU cores\n",
      "IPU available: False, using: 0 IPUs\n",
      "\n",
      "  | Name          | Type    | Params\n",
      "------------------------------------------\n",
      "0 | encoder       | Linear  | 863 K \n",
      "1 | act_1         | Sigmoid | 0     \n",
      "2 | decoder       | Linear  | 865 K \n",
      "3 | act_2         | Sigmoid | 0     \n",
      "4 | loss_func     | MSELoss | 0     \n",
      "5 | log_var_layer | Linear  | 602   \n",
      "6 | mean_layer    | Linear  | 602   \n",
      "7 | bridge_layer  | Linear  | 900   \n",
      "------------------------------------------\n",
      "1.7 M     Trainable params\n",
      "0         Non-trainable params\n",
      "1.7 M     Total params\n",
      "6.924     Total estimated model params size (MB)\n"
     ]
    },
    {
     "name": "stdout",
     "output_type": "stream",
     "text": [
      "0.01\n",
      "Epoch 0:   0%|          | 0/82 [00:00<?, ?it/s]               "
     ]
    },
    {
     "name": "stderr",
     "output_type": "stream",
     "text": [
      "GPU available: True, used: False\n",
      "TPU available: False, using: 0 TPU cores\n",
      "IPU available: False, using: 0 IPUs\n",
      "\n",
      "  | Name          | Type    | Params\n",
      "------------------------------------------\n",
      "0 | encoder       | Linear  | 863 K \n",
      "1 | act_1         | Sigmoid | 0     \n",
      "2 | decoder       | Linear  | 865 K \n",
      "3 | act_2         | Sigmoid | 0     \n",
      "4 | loss_func     | MSELoss | 0     \n",
      "5 | log_var_layer | Linear  | 602   \n",
      "6 | mean_layer    | Linear  | 602   \n",
      "7 | bridge_layer  | Linear  | 900   \n",
      "------------------------------------------\n",
      "1.7 M     Trainable params\n",
      "0         Non-trainable params\n",
      "1.7 M     Total params\n",
      "6.924     Total estimated model params size (MB)\n"
     ]
    },
    {
     "name": "stdout",
     "output_type": "stream",
     "text": [
      "0.1\n",
      "Epoch 0:   0%|          | 0/82 [00:00<?, ?it/s]               "
     ]
    },
    {
     "name": "stderr",
     "output_type": "stream",
     "text": [
      "GPU available: True, used: False\n",
      "TPU available: False, using: 0 TPU cores\n",
      "IPU available: False, using: 0 IPUs\n",
      "\n",
      "  | Name          | Type    | Params\n",
      "------------------------------------------\n",
      "0 | encoder       | Linear  | 863 K \n",
      "1 | act_1         | Sigmoid | 0     \n",
      "2 | decoder       | Linear  | 865 K \n",
      "3 | act_2         | Sigmoid | 0     \n",
      "4 | loss_func     | MSELoss | 0     \n",
      "5 | log_var_layer | Linear  | 602   \n",
      "6 | mean_layer    | Linear  | 602   \n",
      "7 | bridge_layer  | Linear  | 900   \n",
      "------------------------------------------\n",
      "1.7 M     Trainable params\n",
      "0         Non-trainable params\n",
      "1.7 M     Total params\n",
      "6.924     Total estimated model params size (MB)\n"
     ]
    },
    {
     "name": "stdout",
     "output_type": "stream",
     "text": [
      "1\n",
      "Epoch 0:   0%|          | 0/82 [00:00<?, ?it/s]               "
     ]
    },
    {
     "name": "stderr",
     "output_type": "stream",
     "text": [
      "GPU available: True, used: False\n",
      "TPU available: False, using: 0 TPU cores\n",
      "IPU available: False, using: 0 IPUs\n",
      "\n",
      "  | Name          | Type    | Params\n",
      "------------------------------------------\n",
      "0 | encoder       | Linear  | 863 K \n",
      "1 | act_1         | Sigmoid | 0     \n",
      "2 | decoder       | Linear  | 865 K \n",
      "3 | act_2         | Sigmoid | 0     \n",
      "4 | loss_func     | MSELoss | 0     \n",
      "5 | log_var_layer | Linear  | 602   \n",
      "6 | mean_layer    | Linear  | 602   \n",
      "7 | bridge_layer  | Linear  | 900   \n",
      "------------------------------------------\n",
      "1.7 M     Trainable params\n",
      "0         Non-trainable params\n",
      "1.7 M     Total params\n",
      "6.924     Total estimated model params size (MB)\n"
     ]
    },
    {
     "name": "stdout",
     "output_type": "stream",
     "text": [
      "100\n",
      "Epoch 0:   0%|          | 0/82 [00:00<?, ?it/s]               "
     ]
    },
    {
     "name": "stderr",
     "output_type": "stream",
     "text": [
      "GPU available: True, used: False\n",
      "TPU available: False, using: 0 TPU cores\n",
      "IPU available: False, using: 0 IPUs\n",
      "\n",
      "  | Name          | Type    | Params\n",
      "------------------------------------------\n",
      "0 | encoder       | Linear  | 28.8 K\n",
      "1 | act_1         | PReLU   | 1     \n",
      "2 | decoder       | Linear  | 31.6 K\n",
      "3 | act_2         | PReLU   | 1     \n",
      "4 | loss_func     | MSELoss | 0     \n",
      "5 | log_var_layer | Linear  | 22    \n",
      "6 | mean_layer    | Linear  | 22    \n",
      "7 | bridge_layer  | Linear  | 30    \n",
      "------------------------------------------\n",
      "60.5 K    Trainable params\n",
      "0         Non-trainable params\n",
      "60.5 K    Total params\n",
      "0.242     Total estimated model params size (MB)\n"
     ]
    },
    {
     "name": "stdout",
     "output_type": "stream",
     "text": [
      "0.01\n",
      "Epoch 0:  50%|█████     | 41/82 [00:00<00:00, 83.69it/s, loss=1.28e+26, v_num=338]\n",
      "Validating: 0it [00:00, ?it/s]\u001B[A\n",
      "Epoch 0: 100%|██████████| 82/82 [00:00<00:00, 146.96it/s, loss=1.28e+26, v_num=338]\n",
      "Epoch 1:  50%|█████     | 41/82 [00:00<00:00, 87.00it/s, loss=1.46e+26, v_num=338] \n",
      "Validating: 0it [00:00, ?it/s]\u001B[A\n",
      "Epoch 1: 100%|██████████| 82/82 [00:00<00:00, 151.76it/s, loss=1.46e+26, v_num=338]\n",
      "Epoch 2:  50%|█████     | 41/82 [00:00<00:00, 87.77it/s, loss=1.46e+26, v_num=338] \n",
      "Validating: 0it [00:00, ?it/s]\u001B[A\n",
      "Epoch 2: 100%|██████████| 82/82 [00:00<00:00, 153.74it/s, loss=1.46e+26, v_num=338]\n",
      "Epoch 3:  50%|█████     | 41/82 [00:00<00:00, 82.86it/s, loss=1.36e+26, v_num=338] \n",
      "Validating: 0it [00:00, ?it/s]\u001B[A\n",
      "Epoch 3: 100%|██████████| 82/82 [00:00<00:00, 146.85it/s, loss=1.36e+26, v_num=338]\n",
      "Epoch 4:  50%|█████     | 41/82 [00:00<00:00, 83.42it/s, loss=1.64e+26, v_num=338] \n",
      "Validating: 0it [00:00, ?it/s]\u001B[A\n",
      "Epoch 4: 100%|██████████| 82/82 [00:00<00:00, 147.02it/s, loss=1.64e+26, v_num=338]\n",
      "Epoch 5:  50%|█████     | 41/82 [00:00<00:00, 78.45it/s, loss=1.34e+26, v_num=338] \n",
      "Validating: 0it [00:00, ?it/s]\u001B[A\n",
      "Epoch 5: 100%|██████████| 82/82 [00:00<00:00, 138.45it/s, loss=1.34e+26, v_num=338]\n",
      "Epoch 6:  50%|█████     | 41/82 [00:00<00:00, 83.86it/s, loss=1.62e+26, v_num=338] \n",
      "Validating: 0it [00:00, ?it/s]\u001B[A\n",
      "Epoch 6: 100%|██████████| 82/82 [00:00<00:00, 146.82it/s, loss=1.62e+26, v_num=338]\n",
      "Epoch 7:  50%|█████     | 41/82 [00:00<00:00, 85.45it/s, loss=1.36e+26, v_num=338] \n",
      "Validating: 0it [00:00, ?it/s]\u001B[A\n",
      "Epoch 7: 100%|██████████| 82/82 [00:00<00:00, 149.67it/s, loss=1.36e+26, v_num=338]\n",
      "Epoch 8:  50%|█████     | 41/82 [00:00<00:00, 79.07it/s, loss=1.33e+26, v_num=338] \n",
      "Validating: 0it [00:00, ?it/s]\u001B[A\n",
      "Epoch 8: 100%|██████████| 82/82 [00:00<00:00, 140.02it/s, loss=1.33e+26, v_num=338]\n",
      "Epoch 9:  50%|█████     | 41/82 [00:00<00:00, 84.68it/s, loss=1.55e+26, v_num=338] \n",
      "Validating: 0it [00:00, ?it/s]\u001B[A\n",
      "Epoch 9: 100%|██████████| 82/82 [00:00<00:00, 149.78it/s, loss=1.55e+26, v_num=338]\n",
      "Epoch 9: 100%|██████████| 82/82 [00:00<00:00, 148.03it/s, loss=1.55e+26, v_num=338]\n"
     ]
    },
    {
     "name": "stderr",
     "output_type": "stream",
     "text": [
      "GPU available: True, used: False\n",
      "TPU available: False, using: 0 TPU cores\n",
      "IPU available: False, using: 0 IPUs\n"
     ]
    },
    {
     "name": "stdout",
     "output_type": "stream",
     "text": [
      "0.1\n"
     ]
    },
    {
     "name": "stderr",
     "output_type": "stream",
     "text": [
      "\n",
      "  | Name          | Type    | Params\n",
      "------------------------------------------\n",
      "0 | encoder       | Linear  | 28.8 K\n",
      "1 | act_1         | PReLU   | 1     \n",
      "2 | decoder       | Linear  | 31.6 K\n",
      "3 | act_2         | PReLU   | 1     \n",
      "4 | loss_func     | MSELoss | 0     \n",
      "5 | log_var_layer | Linear  | 22    \n",
      "6 | mean_layer    | Linear  | 22    \n",
      "7 | bridge_layer  | Linear  | 30    \n",
      "------------------------------------------\n",
      "60.5 K    Trainable params\n",
      "0         Non-trainable params\n",
      "60.5 K    Total params\n",
      "0.242     Total estimated model params size (MB)\n"
     ]
    },
    {
     "name": "stdout",
     "output_type": "stream",
     "text": [
      "Epoch 0:  50%|█████     | 41/82 [00:00<00:00, 80.72it/s, loss=nan, v_num=339]    \n",
      "Validating: 0it [00:00, ?it/s]\u001B[A\n",
      "Epoch 0: 100%|██████████| 82/82 [00:00<00:00, 145.19it/s, loss=nan, v_num=339]\n",
      "Epoch 1:  50%|█████     | 41/82 [00:00<00:00, 77.66it/s, loss=nan, v_num=339] \n",
      "Validating: 0it [00:00, ?it/s]\u001B[A\n",
      "Epoch 1: 100%|██████████| 82/82 [00:00<00:00, 140.09it/s, loss=nan, v_num=339]\n",
      "Epoch 2:  50%|█████     | 41/82 [00:00<00:00, 83.45it/s, loss=nan, v_num=339] \n",
      "Validating: 0it [00:00, ?it/s]\u001B[A\n",
      "Epoch 2: 100%|██████████| 82/82 [00:00<00:00, 146.16it/s, loss=nan, v_num=339]\n",
      "Epoch 3:  50%|█████     | 41/82 [00:00<00:00, 81.56it/s, loss=nan, v_num=339] \n",
      "Validating: 0it [00:00, ?it/s]\u001B[A\n",
      "Epoch 3: 100%|██████████| 82/82 [00:00<00:00, 146.50it/s, loss=nan, v_num=339]\n",
      "Epoch 4:  50%|█████     | 41/82 [00:00<00:00, 83.19it/s, loss=nan, v_num=339] \n",
      "Validating: 0it [00:00, ?it/s]\u001B[A\n",
      "Epoch 4: 100%|██████████| 82/82 [00:00<00:00, 148.17it/s, loss=nan, v_num=339]\n",
      "Epoch 5:  50%|█████     | 41/82 [00:00<00:00, 83.02it/s, loss=nan, v_num=339] \n",
      "Validating: 0it [00:00, ?it/s]\u001B[A\n",
      "Epoch 5: 100%|██████████| 82/82 [00:00<00:00, 148.50it/s, loss=nan, v_num=339]\n",
      "Epoch 6:  50%|█████     | 41/82 [00:00<00:00, 83.33it/s, loss=nan, v_num=339] \n",
      "Validating: 0it [00:00, ?it/s]\u001B[A\n",
      "Epoch 6: 100%|██████████| 82/82 [00:00<00:00, 146.21it/s, loss=nan, v_num=339]\n",
      "Epoch 7:  50%|█████     | 41/82 [00:00<00:00, 86.08it/s, loss=nan, v_num=339] \n",
      "Validating: 0it [00:00, ?it/s]\u001B[A\n",
      "Epoch 7: 100%|██████████| 82/82 [00:00<00:00, 150.74it/s, loss=nan, v_num=339]\n",
      "Epoch 8:  50%|█████     | 41/82 [00:00<00:00, 85.81it/s, loss=nan, v_num=339] \n",
      "Validating: 0it [00:00, ?it/s]\u001B[A\n",
      "Epoch 8: 100%|██████████| 82/82 [00:00<00:00, 150.46it/s, loss=nan, v_num=339]\n",
      "Epoch 9:  50%|█████     | 41/82 [00:00<00:00, 80.01it/s, loss=nan, v_num=339] \n",
      "Validating: 0it [00:00, ?it/s]\u001B[A\n",
      "Epoch 9: 100%|██████████| 82/82 [00:00<00:00, 141.26it/s, loss=nan, v_num=339]\n",
      "Epoch 9: 100%|██████████| 82/82 [00:00<00:00, 139.11it/s, loss=nan, v_num=339]\n"
     ]
    },
    {
     "name": "stderr",
     "output_type": "stream",
     "text": [
      "GPU available: True, used: False\n",
      "TPU available: False, using: 0 TPU cores\n",
      "IPU available: False, using: 0 IPUs\n"
     ]
    },
    {
     "name": "stdout",
     "output_type": "stream",
     "text": [
      "1\n"
     ]
    },
    {
     "name": "stderr",
     "output_type": "stream",
     "text": [
      "\n",
      "  | Name          | Type    | Params\n",
      "------------------------------------------\n",
      "0 | encoder       | Linear  | 28.8 K\n",
      "1 | act_1         | PReLU   | 1     \n",
      "2 | decoder       | Linear  | 31.6 K\n",
      "3 | act_2         | PReLU   | 1     \n",
      "4 | loss_func     | MSELoss | 0     \n",
      "5 | log_var_layer | Linear  | 22    \n",
      "6 | mean_layer    | Linear  | 22    \n",
      "7 | bridge_layer  | Linear  | 30    \n",
      "------------------------------------------\n",
      "60.5 K    Trainable params\n",
      "0         Non-trainable params\n",
      "60.5 K    Total params\n",
      "0.242     Total estimated model params size (MB)\n"
     ]
    },
    {
     "name": "stdout",
     "output_type": "stream",
     "text": [
      "Epoch 0:  50%|█████     | 41/82 [00:00<00:00, 70.66it/s, loss=nan, v_num=340]    \n",
      "Validating: 0it [00:00, ?it/s]\u001B[A\n",
      "Epoch 0: 100%|██████████| 82/82 [00:00<00:00, 126.04it/s, loss=nan, v_num=340]\n",
      "Epoch 1:  50%|█████     | 41/82 [00:00<00:00, 78.11it/s, loss=nan, v_num=340] \n",
      "Validating: 0it [00:00, ?it/s]\u001B[A\n",
      "Epoch 1: 100%|██████████| 82/82 [00:00<00:00, 137.75it/s, loss=nan, v_num=340]\n",
      "Epoch 2:  50%|█████     | 41/82 [00:00<00:00, 76.54it/s, loss=nan, v_num=340] \n",
      "Validating: 0it [00:00, ?it/s]\u001B[A\n",
      "Epoch 2: 100%|██████████| 82/82 [00:00<00:00, 134.93it/s, loss=nan, v_num=340]\n",
      "Epoch 3:  50%|█████     | 41/82 [00:00<00:00, 79.24it/s, loss=nan, v_num=340] \n",
      "Validating: 0it [00:00, ?it/s]\u001B[A\n",
      "Epoch 3: 100%|██████████| 82/82 [00:00<00:00, 141.84it/s, loss=nan, v_num=340]\n",
      "Epoch 4:  50%|█████     | 41/82 [00:00<00:00, 72.63it/s, loss=nan, v_num=340] \n",
      "Validating: 0it [00:00, ?it/s]\u001B[A\n",
      "Epoch 4: 100%|██████████| 82/82 [00:00<00:00, 128.87it/s, loss=nan, v_num=340]\n",
      "Epoch 5:  50%|█████     | 41/82 [00:00<00:00, 77.77it/s, loss=nan, v_num=340] \n",
      "Validating: 0it [00:00, ?it/s]\u001B[A\n",
      "Epoch 5: 100%|██████████| 82/82 [00:00<00:00, 137.28it/s, loss=nan, v_num=340]\n",
      "Epoch 6:  50%|█████     | 41/82 [00:00<00:00, 81.54it/s, loss=nan, v_num=340] \n",
      "Validating: 0it [00:00, ?it/s]\u001B[A\n",
      "Epoch 6: 100%|██████████| 82/82 [00:00<00:00, 146.04it/s, loss=nan, v_num=340]\n",
      "Epoch 7:  50%|█████     | 41/82 [00:00<00:00, 73.16it/s, loss=nan, v_num=340] \n",
      "Validating: 0it [00:00, ?it/s]\u001B[A\n",
      "Epoch 7: 100%|██████████| 82/82 [00:00<00:00, 129.53it/s, loss=nan, v_num=340]\n",
      "Epoch 8:  50%|█████     | 41/82 [00:00<00:00, 77.46it/s, loss=nan, v_num=340] \n",
      "Validating: 0it [00:00, ?it/s]\u001B[A\n",
      "Epoch 8: 100%|██████████| 82/82 [00:00<00:00, 139.59it/s, loss=nan, v_num=340]\n",
      "Epoch 9:  50%|█████     | 41/82 [00:00<00:00, 78.19it/s, loss=nan, v_num=340] \n",
      "Validating: 0it [00:00, ?it/s]\u001B[A\n",
      "Epoch 9: 100%|██████████| 82/82 [00:00<00:00, 137.26it/s, loss=nan, v_num=340]\n",
      "Epoch 9: 100%|██████████| 82/82 [00:00<00:00, 135.54it/s, loss=nan, v_num=340]\n"
     ]
    },
    {
     "name": "stderr",
     "output_type": "stream",
     "text": [
      "GPU available: True, used: False\n",
      "TPU available: False, using: 0 TPU cores\n",
      "IPU available: False, using: 0 IPUs\n"
     ]
    },
    {
     "name": "stdout",
     "output_type": "stream",
     "text": [
      "100\n"
     ]
    },
    {
     "name": "stderr",
     "output_type": "stream",
     "text": [
      "\n",
      "  | Name          | Type    | Params\n",
      "------------------------------------------\n",
      "0 | encoder       | Linear  | 28.8 K\n",
      "1 | act_1         | PReLU   | 1     \n",
      "2 | decoder       | Linear  | 31.6 K\n",
      "3 | act_2         | PReLU   | 1     \n",
      "4 | loss_func     | MSELoss | 0     \n",
      "5 | log_var_layer | Linear  | 22    \n",
      "6 | mean_layer    | Linear  | 22    \n",
      "7 | bridge_layer  | Linear  | 30    \n",
      "------------------------------------------\n",
      "60.5 K    Trainable params\n",
      "0         Non-trainable params\n",
      "60.5 K    Total params\n",
      "0.242     Total estimated model params size (MB)\n"
     ]
    },
    {
     "name": "stdout",
     "output_type": "stream",
     "text": [
      "Epoch 0:  50%|█████     | 41/82 [00:00<00:00, 76.38it/s, loss=3.15e+03, v_num=341]\n",
      "Validating: 0it [00:00, ?it/s]\u001B[A\n",
      "Epoch 0: 100%|██████████| 82/82 [00:00<00:00, 135.32it/s, loss=3.15e+03, v_num=341]\n",
      "Epoch 1:  50%|█████     | 41/82 [00:00<00:00, 82.39it/s, loss=1.96e+03, v_num=341] \n",
      "Validating: 0it [00:00, ?it/s]\u001B[A\n",
      "Epoch 1: 100%|██████████| 82/82 [00:00<00:00, 143.37it/s, loss=1.96e+03, v_num=341]\n",
      "Epoch 2:  50%|█████     | 41/82 [00:00<00:00, 81.11it/s, loss=1.87e+03, v_num=341] \n",
      "Validating: 0it [00:00, ?it/s]\u001B[A\n",
      "Epoch 2: 100%|██████████| 82/82 [00:00<00:00, 142.66it/s, loss=1.87e+03, v_num=341]\n",
      "Epoch 3:  50%|█████     | 41/82 [00:00<00:00, 86.27it/s, loss=1.78e+03, v_num=341] \n",
      "Validating: 0it [00:00, ?it/s]\u001B[A\n",
      "Epoch 3: 100%|██████████| 82/82 [00:00<00:00, 150.76it/s, loss=1.78e+03, v_num=341]\n",
      "Epoch 4:  50%|█████     | 41/82 [00:00<00:00, 80.18it/s, loss=1.74e+03, v_num=341] \n",
      "Validating: 0it [00:00, ?it/s]\u001B[A\n",
      "Epoch 4: 100%|██████████| 82/82 [00:00<00:00, 141.89it/s, loss=1.74e+03, v_num=341]\n",
      "Epoch 5:  50%|█████     | 41/82 [00:00<00:00, 79.62it/s, loss=1.83e+03, v_num=341] \n",
      "Validating: 0it [00:00, ?it/s]\u001B[A\n",
      "Epoch 5: 100%|██████████| 82/82 [00:00<00:00, 142.68it/s, loss=1.83e+03, v_num=341]\n",
      "Epoch 6:  50%|█████     | 41/82 [00:00<00:00, 82.99it/s, loss=2.07e+03, v_num=341] \n",
      "Validating: 0it [00:00, ?it/s]\u001B[A\n",
      "Epoch 6: 100%|██████████| 82/82 [00:00<00:00, 148.31it/s, loss=2.07e+03, v_num=341]\n",
      "Epoch 7:  50%|█████     | 41/82 [00:00<00:00, 82.20it/s, loss=2.02e+03, v_num=341] \n",
      "Validating: 0it [00:00, ?it/s]\u001B[A\n",
      "Epoch 7: 100%|██████████| 82/82 [00:00<00:00, 143.88it/s, loss=2.02e+03, v_num=341]\n",
      "Epoch 8:  50%|█████     | 41/82 [00:00<00:00, 77.91it/s, loss=1.97e+03, v_num=341] \n",
      "Validating: 0it [00:00, ?it/s]\u001B[A\n",
      "Epoch 8: 100%|██████████| 82/82 [00:00<00:00, 137.35it/s, loss=1.97e+03, v_num=341]\n",
      "Epoch 9:  50%|█████     | 41/82 [00:00<00:00, 81.57it/s, loss=2e+03, v_num=341]    \n",
      "Validating: 0it [00:00, ?it/s]\u001B[A\n",
      "Epoch 9: 100%|██████████| 82/82 [00:00<00:00, 144.90it/s, loss=2e+03, v_num=341]\n",
      "Epoch 9: 100%|██████████| 82/82 [00:00<00:00, 142.50it/s, loss=2e+03, v_num=341]\n"
     ]
    },
    {
     "name": "stderr",
     "output_type": "stream",
     "text": [
      "GPU available: True, used: False\n",
      "TPU available: False, using: 0 TPU cores\n",
      "IPU available: False, using: 0 IPUs\n"
     ]
    },
    {
     "name": "stdout",
     "output_type": "stream",
     "text": [
      "0.01\n"
     ]
    },
    {
     "name": "stderr",
     "output_type": "stream",
     "text": [
      "\n",
      "  | Name          | Type    | Params\n",
      "------------------------------------------\n",
      "0 | encoder       | Linear  | 28.8 K\n",
      "1 | act_1         | Sigmoid | 0     \n",
      "2 | decoder       | Linear  | 31.6 K\n",
      "3 | act_2         | Sigmoid | 0     \n",
      "4 | loss_func     | MSELoss | 0     \n",
      "5 | log_var_layer | Linear  | 22    \n",
      "6 | mean_layer    | Linear  | 22    \n",
      "7 | bridge_layer  | Linear  | 30    \n",
      "------------------------------------------\n",
      "60.5 K    Trainable params\n",
      "0         Non-trainable params\n",
      "60.5 K    Total params\n",
      "0.242     Total estimated model params size (MB)\n"
     ]
    },
    {
     "name": "stdout",
     "output_type": "stream",
     "text": [
      "Epoch 0:   0%|          | 0/82 [00:00<?, ?it/s]               "
     ]
    },
    {
     "name": "stderr",
     "output_type": "stream",
     "text": [
      "GPU available: True, used: False\n",
      "TPU available: False, using: 0 TPU cores\n",
      "IPU available: False, using: 0 IPUs\n",
      "\n",
      "  | Name          | Type    | Params\n",
      "------------------------------------------\n",
      "0 | encoder       | Linear  | 28.8 K\n",
      "1 | act_1         | Sigmoid | 0     \n",
      "2 | decoder       | Linear  | 31.6 K\n",
      "3 | act_2         | Sigmoid | 0     \n",
      "4 | loss_func     | MSELoss | 0     \n",
      "5 | log_var_layer | Linear  | 22    \n",
      "6 | mean_layer    | Linear  | 22    \n",
      "7 | bridge_layer  | Linear  | 30    \n",
      "------------------------------------------\n",
      "60.5 K    Trainable params\n",
      "0         Non-trainable params\n",
      "60.5 K    Total params\n",
      "0.242     Total estimated model params size (MB)\n"
     ]
    },
    {
     "name": "stdout",
     "output_type": "stream",
     "text": [
      "0.1\n",
      "Epoch 0:   0%|          | 0/82 [00:00<?, ?it/s]               "
     ]
    },
    {
     "name": "stderr",
     "output_type": "stream",
     "text": [
      "GPU available: True, used: False\n",
      "TPU available: False, using: 0 TPU cores\n",
      "IPU available: False, using: 0 IPUs\n",
      "\n",
      "  | Name          | Type    | Params\n",
      "------------------------------------------\n",
      "0 | encoder       | Linear  | 28.8 K\n",
      "1 | act_1         | Sigmoid | 0     \n",
      "2 | decoder       | Linear  | 31.6 K\n",
      "3 | act_2         | Sigmoid | 0     \n",
      "4 | loss_func     | MSELoss | 0     \n",
      "5 | log_var_layer | Linear  | 22    \n",
      "6 | mean_layer    | Linear  | 22    \n",
      "7 | bridge_layer  | Linear  | 30    \n",
      "------------------------------------------\n",
      "60.5 K    Trainable params\n",
      "0         Non-trainable params\n",
      "60.5 K    Total params\n",
      "0.242     Total estimated model params size (MB)\n"
     ]
    },
    {
     "name": "stdout",
     "output_type": "stream",
     "text": [
      "1\n",
      "Epoch 0:   0%|          | 0/82 [00:00<?, ?it/s]               "
     ]
    },
    {
     "name": "stderr",
     "output_type": "stream",
     "text": [
      "GPU available: True, used: False\n",
      "TPU available: False, using: 0 TPU cores\n",
      "IPU available: False, using: 0 IPUs\n",
      "\n",
      "  | Name          | Type    | Params\n",
      "------------------------------------------\n",
      "0 | encoder       | Linear  | 28.8 K\n",
      "1 | act_1         | Sigmoid | 0     \n",
      "2 | decoder       | Linear  | 31.6 K\n",
      "3 | act_2         | Sigmoid | 0     \n",
      "4 | loss_func     | MSELoss | 0     \n",
      "5 | log_var_layer | Linear  | 22    \n",
      "6 | mean_layer    | Linear  | 22    \n",
      "7 | bridge_layer  | Linear  | 30    \n",
      "------------------------------------------\n",
      "60.5 K    Trainable params\n",
      "0         Non-trainable params\n",
      "60.5 K    Total params\n",
      "0.242     Total estimated model params size (MB)\n"
     ]
    },
    {
     "name": "stdout",
     "output_type": "stream",
     "text": [
      "100\n",
      "Epoch 0:   0%|          | 0/82 [00:00<?, ?it/s]               "
     ]
    },
    {
     "name": "stderr",
     "output_type": "stream",
     "text": [
      "GPU available: True, used: False\n",
      "TPU available: False, using: 0 TPU cores\n",
      "IPU available: False, using: 0 IPUs\n",
      "\n",
      "  | Name          | Type    | Params\n",
      "------------------------------------------\n",
      "0 | encoder       | Linear  | 230 K \n",
      "1 | act_1         | PReLU   | 1     \n",
      "2 | decoder       | Linear  | 232 K \n",
      "3 | act_2         | PReLU   | 1     \n",
      "4 | loss_func     | MSELoss | 0     \n",
      "5 | log_var_layer | Linear  | 162   \n",
      "6 | mean_layer    | Linear  | 162   \n",
      "7 | bridge_layer  | Linear  | 240   \n",
      "------------------------------------------\n",
      "463 K     Trainable params\n",
      "0         Non-trainable params\n",
      "463 K     Total params\n",
      "1.855     Total estimated model params size (MB)\n"
     ]
    },
    {
     "name": "stdout",
     "output_type": "stream",
     "text": [
      "0.01\n",
      "Epoch 0:  51%|█████     | 42/82 [00:00<00:00, 65.78it/s, loss=3.02e+06, v_num=346]\n",
      "Validating: 0it [00:00, ?it/s]\u001B[A\n",
      "Epoch 0: 100%|██████████| 82/82 [00:00<00:00, 117.19it/s, loss=3.02e+06, v_num=346]\n",
      "Epoch 1:  50%|█████     | 41/82 [00:00<00:00, 72.00it/s, loss=1.92e+06, v_num=346] \n",
      "Validating: 0it [00:00, ?it/s]\u001B[A\n",
      "Epoch 1: 100%|██████████| 82/82 [00:00<00:00, 126.79it/s, loss=1.92e+06, v_num=346]\n",
      "Epoch 2:  50%|█████     | 41/82 [00:00<00:00, 71.63it/s, loss=5.15e+05, v_num=346] \n",
      "Validating: 0it [00:00, ?it/s]\u001B[A\n",
      "Epoch 2: 100%|██████████| 82/82 [00:00<00:00, 126.03it/s, loss=5.15e+05, v_num=346]\n",
      "Epoch 3:  50%|█████     | 41/82 [00:00<00:00, 75.99it/s, loss=2.39e+05, v_num=346] \n",
      "Validating: 0it [00:00, ?it/s]\u001B[A\n",
      "Epoch 3: 100%|██████████| 82/82 [00:00<00:00, 131.57it/s, loss=2.39e+05, v_num=346]\n",
      "Epoch 4:  50%|█████     | 41/82 [00:00<00:00, 70.86it/s, loss=1.67e+05, v_num=346] \n",
      "Validating: 0it [00:00, ?it/s]\u001B[A\n",
      "Epoch 4: 100%|██████████| 82/82 [00:00<00:00, 124.15it/s, loss=1.67e+05, v_num=346]\n",
      "Epoch 5:  50%|█████     | 41/82 [00:00<00:00, 72.63it/s, loss=1.44e+05, v_num=346] \n",
      "Validating: 0it [00:00, ?it/s]\u001B[A\n",
      "Epoch 5: 100%|██████████| 82/82 [00:00<00:00, 130.21it/s, loss=1.44e+05, v_num=346]\n",
      "Epoch 6:  50%|█████     | 41/82 [00:00<00:00, 69.57it/s, loss=1.06e+05, v_num=346] \n",
      "Validating: 0it [00:00, ?it/s]\u001B[A\n",
      "Epoch 6: 100%|██████████| 82/82 [00:00<00:00, 125.75it/s, loss=1.06e+05, v_num=346]\n",
      "Epoch 7:  50%|█████     | 41/82 [00:00<00:00, 69.48it/s, loss=9.32e+04, v_num=346] \n",
      "Validating: 0it [00:00, ?it/s]\u001B[A\n",
      "Epoch 7: 100%|██████████| 82/82 [00:00<00:00, 123.23it/s, loss=9.32e+04, v_num=346]\n",
      "Epoch 8:  50%|█████     | 41/82 [00:00<00:00, 72.91it/s, loss=7.3e+05, v_num=346]  \n",
      "Validating: 0it [00:00, ?it/s]\u001B[A\n",
      "Epoch 8: 100%|██████████| 82/82 [00:00<00:00, 130.52it/s, loss=7.3e+05, v_num=346]\n",
      "Epoch 9:  50%|█████     | 41/82 [00:00<00:00, 69.93it/s, loss=4.4e+05, v_num=346] \n",
      "Validating: 0it [00:00, ?it/s]\u001B[A\n",
      "Epoch 9: 100%|██████████| 82/82 [00:00<00:00, 123.66it/s, loss=4.4e+05, v_num=346]\n",
      "Epoch 9: 100%|██████████| 82/82 [00:00<00:00, 120.61it/s, loss=4.4e+05, v_num=346]\n"
     ]
    },
    {
     "name": "stderr",
     "output_type": "stream",
     "text": [
      "GPU available: True, used: False\n",
      "TPU available: False, using: 0 TPU cores\n",
      "IPU available: False, using: 0 IPUs\n"
     ]
    },
    {
     "name": "stdout",
     "output_type": "stream",
     "text": [
      "0.1\n"
     ]
    },
    {
     "name": "stderr",
     "output_type": "stream",
     "text": [
      "\n",
      "  | Name          | Type    | Params\n",
      "------------------------------------------\n",
      "0 | encoder       | Linear  | 230 K \n",
      "1 | act_1         | PReLU   | 1     \n",
      "2 | decoder       | Linear  | 232 K \n",
      "3 | act_2         | PReLU   | 1     \n",
      "4 | loss_func     | MSELoss | 0     \n",
      "5 | log_var_layer | Linear  | 162   \n",
      "6 | mean_layer    | Linear  | 162   \n",
      "7 | bridge_layer  | Linear  | 240   \n",
      "------------------------------------------\n",
      "463 K     Trainable params\n",
      "0         Non-trainable params\n",
      "463 K     Total params\n",
      "1.855     Total estimated model params size (MB)\n"
     ]
    },
    {
     "name": "stdout",
     "output_type": "stream",
     "text": [
      "Epoch 0:  50%|█████     | 41/82 [00:00<00:00, 62.34it/s, loss=1.3e+27, v_num=347] \n",
      "Validating: 0it [00:00, ?it/s]\u001B[A\n",
      "Epoch 0: 100%|██████████| 82/82 [00:00<00:00, 111.12it/s, loss=1.3e+27, v_num=347]\n",
      "Epoch 1:  50%|█████     | 41/82 [00:00<00:00, 65.70it/s, loss=1.42e+27, v_num=347]\n",
      "Validating: 0it [00:00, ?it/s]\u001B[A\n",
      "Epoch 1: 100%|██████████| 82/82 [00:00<00:00, 114.19it/s, loss=1.42e+27, v_num=347]\n",
      "Epoch 2:  50%|█████     | 41/82 [00:00<00:00, 64.48it/s, loss=1.64e+27, v_num=347] \n",
      "Validating: 0it [00:00, ?it/s]\u001B[A\n",
      "Epoch 2: 100%|██████████| 82/82 [00:00<00:00, 114.90it/s, loss=1.64e+27, v_num=347]\n",
      "Epoch 3:  50%|█████     | 41/82 [00:00<00:00, 59.24it/s, loss=1.82e+27, v_num=347] \n",
      "Validating: 0it [00:00, ?it/s]\u001B[A\n",
      "Epoch 3:  68%|██████▊   | 56/82 [00:00<00:00, 71.48it/s, loss=1.82e+27, v_num=347]\n",
      "Epoch 3: 100%|██████████| 82/82 [00:00<00:00, 97.48it/s, loss=1.82e+27, v_num=347]\n",
      "Epoch 4:  50%|█████     | 41/82 [00:00<00:00, 65.81it/s, loss=1.67e+27, v_num=347]\n",
      "Validating: 0it [00:00, ?it/s]\u001B[A\n",
      "Epoch 4: 100%|██████████| 82/82 [00:00<00:00, 117.02it/s, loss=1.67e+27, v_num=347]\n",
      "Epoch 5:  50%|█████     | 41/82 [00:00<00:00, 70.56it/s, loss=1.36e+27, v_num=347] \n",
      "Validating: 0it [00:00, ?it/s]\u001B[A\n",
      "Epoch 5: 100%|██████████| 82/82 [00:00<00:00, 126.90it/s, loss=1.36e+27, v_num=347]\n",
      "Epoch 6:  50%|█████     | 41/82 [00:00<00:00, 66.72it/s, loss=1.51e+27, v_num=347] \n",
      "Validating: 0it [00:00, ?it/s]\u001B[A\n",
      "Epoch 6: 100%|██████████| 82/82 [00:00<00:00, 119.11it/s, loss=1.51e+27, v_num=347]\n",
      "Epoch 7:  50%|█████     | 41/82 [00:00<00:00, 62.54it/s, loss=1.66e+27, v_num=347] \n",
      "Validating: 0it [00:00, ?it/s]\u001B[A\n",
      "Epoch 7: 100%|██████████| 82/82 [00:00<00:00, 112.18it/s, loss=1.66e+27, v_num=347]\n",
      "Epoch 8:  50%|█████     | 41/82 [00:00<00:00, 66.71it/s, loss=1.62e+27, v_num=347] \n",
      "Validating: 0it [00:00, ?it/s]\u001B[A\n",
      "Epoch 8: 100%|██████████| 82/82 [00:00<00:00, 118.56it/s, loss=1.62e+27, v_num=347]\n",
      "Epoch 9:  50%|█████     | 41/82 [00:00<00:00, 71.34it/s, loss=1.34e+27, v_num=347] \n",
      "Validating: 0it [00:00, ?it/s]\u001B[A\n",
      "Epoch 9: 100%|██████████| 82/82 [00:00<00:00, 128.78it/s, loss=1.34e+27, v_num=347]\n",
      "Epoch 9: 100%|██████████| 82/82 [00:00<00:00, 126.25it/s, loss=1.34e+27, v_num=347]\n"
     ]
    },
    {
     "name": "stderr",
     "output_type": "stream",
     "text": [
      "GPU available: True, used: False\n",
      "TPU available: False, using: 0 TPU cores\n",
      "IPU available: False, using: 0 IPUs\n"
     ]
    },
    {
     "name": "stdout",
     "output_type": "stream",
     "text": [
      "1\n"
     ]
    },
    {
     "name": "stderr",
     "output_type": "stream",
     "text": [
      "\n",
      "  | Name          | Type    | Params\n",
      "------------------------------------------\n",
      "0 | encoder       | Linear  | 230 K \n",
      "1 | act_1         | PReLU   | 1     \n",
      "2 | decoder       | Linear  | 232 K \n",
      "3 | act_2         | PReLU   | 1     \n",
      "4 | loss_func     | MSELoss | 0     \n",
      "5 | log_var_layer | Linear  | 162   \n",
      "6 | mean_layer    | Linear  | 162   \n",
      "7 | bridge_layer  | Linear  | 240   \n",
      "------------------------------------------\n",
      "463 K     Trainable params\n",
      "0         Non-trainable params\n",
      "463 K     Total params\n",
      "1.855     Total estimated model params size (MB)\n"
     ]
    },
    {
     "name": "stdout",
     "output_type": "stream",
     "text": [
      "Epoch 0:  50%|█████     | 41/82 [00:00<00:00, 67.78it/s, loss=nan, v_num=348]    \n",
      "Validating: 0it [00:00, ?it/s]\u001B[A\n",
      "Epoch 0: 100%|██████████| 82/82 [00:00<00:00, 120.98it/s, loss=nan, v_num=348]\n",
      "Epoch 1:  50%|█████     | 41/82 [00:00<00:00, 66.13it/s, loss=nan, v_num=348] \n",
      "Validating: 0it [00:00, ?it/s]\u001B[A\n",
      "Epoch 1: 100%|██████████| 82/82 [00:00<00:00, 118.42it/s, loss=nan, v_num=348]\n",
      "Epoch 2:  50%|█████     | 41/82 [00:00<00:00, 67.09it/s, loss=nan, v_num=348] \n",
      "Validating: 0it [00:00, ?it/s]\u001B[A\n",
      "Epoch 2: 100%|██████████| 82/82 [00:00<00:00, 117.67it/s, loss=nan, v_num=348]\n",
      "Epoch 3:  50%|█████     | 41/82 [00:00<00:00, 65.27it/s, loss=nan, v_num=348] \n",
      "Validating: 0it [00:00, ?it/s]\u001B[A\n",
      "Epoch 3: 100%|██████████| 82/82 [00:00<00:00, 116.53it/s, loss=nan, v_num=348]\n",
      "Epoch 4:  50%|█████     | 41/82 [00:00<00:00, 61.09it/s, loss=nan, v_num=348] \n",
      "Validating: 0it [00:00, ?it/s]\u001B[A\n",
      "Epoch 4: 100%|██████████| 82/82 [00:00<00:00, 111.58it/s, loss=nan, v_num=348]\n",
      "Epoch 5:  50%|█████     | 41/82 [00:00<00:00, 63.88it/s, loss=nan, v_num=348] \n",
      "Validating: 0it [00:00, ?it/s]\u001B[A\n",
      "Epoch 5: 100%|██████████| 82/82 [00:00<00:00, 113.29it/s, loss=nan, v_num=348]\n",
      "Epoch 6:  50%|█████     | 41/82 [00:00<00:00, 62.16it/s, loss=nan, v_num=348] \n",
      "Validating: 0it [00:00, ?it/s]\u001B[A\n",
      "Epoch 6: 100%|██████████| 82/82 [00:00<00:00, 112.13it/s, loss=nan, v_num=348]\n",
      "Epoch 7:  50%|█████     | 41/82 [00:00<00:00, 63.24it/s, loss=nan, v_num=348] \n",
      "Validating: 0it [00:00, ?it/s]\u001B[A\n",
      "Epoch 7: 100%|██████████| 82/82 [00:00<00:00, 113.11it/s, loss=nan, v_num=348]\n",
      "Epoch 8:  50%|█████     | 41/82 [00:00<00:00, 67.33it/s, loss=nan, v_num=348] \n",
      "Validating: 0it [00:00, ?it/s]\u001B[A\n",
      "Epoch 8: 100%|██████████| 82/82 [00:00<00:00, 119.95it/s, loss=nan, v_num=348]\n",
      "Epoch 9:  50%|█████     | 41/82 [00:00<00:00, 66.81it/s, loss=nan, v_num=348] \n",
      "Validating: 0it [00:00, ?it/s]\u001B[A\n",
      "Epoch 9: 100%|██████████| 82/82 [00:00<00:00, 117.20it/s, loss=nan, v_num=348]\n",
      "Epoch 9: 100%|██████████| 82/82 [00:00<00:00, 114.85it/s, loss=nan, v_num=348]\n"
     ]
    },
    {
     "name": "stderr",
     "output_type": "stream",
     "text": [
      "GPU available: True, used: False\n",
      "TPU available: False, using: 0 TPU cores\n",
      "IPU available: False, using: 0 IPUs\n"
     ]
    },
    {
     "name": "stdout",
     "output_type": "stream",
     "text": [
      "100\n"
     ]
    },
    {
     "name": "stderr",
     "output_type": "stream",
     "text": [
      "\n",
      "  | Name          | Type    | Params\n",
      "------------------------------------------\n",
      "0 | encoder       | Linear  | 230 K \n",
      "1 | act_1         | PReLU   | 1     \n",
      "2 | decoder       | Linear  | 232 K \n",
      "3 | act_2         | PReLU   | 1     \n",
      "4 | loss_func     | MSELoss | 0     \n",
      "5 | log_var_layer | Linear  | 162   \n",
      "6 | mean_layer    | Linear  | 162   \n",
      "7 | bridge_layer  | Linear  | 240   \n",
      "------------------------------------------\n",
      "463 K     Trainable params\n",
      "0         Non-trainable params\n",
      "463 K     Total params\n",
      "1.855     Total estimated model params size (MB)\n"
     ]
    },
    {
     "name": "stdout",
     "output_type": "stream",
     "text": [
      "Epoch 0:  50%|█████     | 41/82 [00:00<00:00, 65.95it/s, loss=1.1e+06, v_num=349] \n",
      "Validating: 0it [00:00, ?it/s]\u001B[A\n",
      "Epoch 0: 100%|██████████| 82/82 [00:00<00:00, 117.31it/s, loss=1.1e+06, v_num=349]\n",
      "Epoch 1:  50%|█████     | 41/82 [00:00<00:00, 70.60it/s, loss=1.71e+04, v_num=349]\n",
      "Validating: 0it [00:00, ?it/s]\u001B[A\n",
      "Epoch 1: 100%|██████████| 82/82 [00:00<00:00, 123.39it/s, loss=1.71e+04, v_num=349]\n",
      "Epoch 2:  50%|█████     | 41/82 [00:00<00:00, 67.00it/s, loss=2.67e+03, v_num=349] \n",
      "Validating: 0it [00:00, ?it/s]\u001B[A\n",
      "Epoch 2: 100%|██████████| 82/82 [00:00<00:00, 121.20it/s, loss=2.67e+03, v_num=349]\n",
      "Epoch 3:  50%|█████     | 41/82 [00:00<00:00, 73.70it/s, loss=2.55e+03, v_num=349] \n",
      "Validating: 0it [00:00, ?it/s]\u001B[A\n",
      "Epoch 3: 100%|██████████| 82/82 [00:00<00:00, 129.63it/s, loss=2.55e+03, v_num=349]\n",
      "Epoch 4:  50%|█████     | 41/82 [00:00<00:00, 64.79it/s, loss=2.42e+03, v_num=349] \n",
      "Validating: 0it [00:00, ?it/s]\u001B[A\n",
      "Epoch 4: 100%|██████████| 82/82 [00:00<00:00, 117.10it/s, loss=2.42e+03, v_num=349]\n",
      "Epoch 5:  50%|█████     | 41/82 [00:00<00:00, 73.83it/s, loss=2.57e+03, v_num=349] \n",
      "Validating: 0it [00:00, ?it/s]\u001B[A\n",
      "Epoch 5: 100%|██████████| 82/82 [00:00<00:00, 129.70it/s, loss=2.57e+03, v_num=349]\n",
      "Epoch 6:  50%|█████     | 41/82 [00:00<00:00, 64.86it/s, loss=2.5e+03, v_num=349]  \n",
      "Validating: 0it [00:00, ?it/s]\u001B[A\n",
      "Epoch 6: 100%|██████████| 82/82 [00:00<00:00, 116.18it/s, loss=2.5e+03, v_num=349]\n",
      "Epoch 7:  50%|█████     | 41/82 [00:00<00:00, 66.59it/s, loss=2.4e+03, v_num=349] \n",
      "Validating: 0it [00:00, ?it/s]\u001B[A\n",
      "Epoch 7: 100%|██████████| 82/82 [00:00<00:00, 118.71it/s, loss=2.4e+03, v_num=349]\n",
      "Epoch 8:  50%|█████     | 41/82 [00:00<00:00, 68.97it/s, loss=2.4e+03, v_num=349] \n",
      "Validating: 0it [00:00, ?it/s]\u001B[A\n",
      "Epoch 8: 100%|██████████| 82/82 [00:00<00:00, 124.92it/s, loss=2.4e+03, v_num=349]\n",
      "Epoch 9:  50%|█████     | 41/82 [00:00<00:00, 68.86it/s, loss=2.51e+03, v_num=349]\n",
      "Validating: 0it [00:00, ?it/s]\u001B[A\n",
      "Epoch 9: 100%|██████████| 82/82 [00:00<00:00, 121.94it/s, loss=2.51e+03, v_num=349]\n",
      "Epoch 9: 100%|██████████| 82/82 [00:00<00:00, 118.98it/s, loss=2.51e+03, v_num=349]\n"
     ]
    },
    {
     "name": "stderr",
     "output_type": "stream",
     "text": [
      "GPU available: True, used: False\n",
      "TPU available: False, using: 0 TPU cores\n",
      "IPU available: False, using: 0 IPUs\n"
     ]
    },
    {
     "name": "stdout",
     "output_type": "stream",
     "text": [
      "0.01\n"
     ]
    },
    {
     "name": "stderr",
     "output_type": "stream",
     "text": [
      "\n",
      "  | Name          | Type    | Params\n",
      "------------------------------------------\n",
      "0 | encoder       | Linear  | 230 K \n",
      "1 | act_1         | Sigmoid | 0     \n",
      "2 | decoder       | Linear  | 232 K \n",
      "3 | act_2         | Sigmoid | 0     \n",
      "4 | loss_func     | MSELoss | 0     \n",
      "5 | log_var_layer | Linear  | 162   \n",
      "6 | mean_layer    | Linear  | 162   \n",
      "7 | bridge_layer  | Linear  | 240   \n",
      "------------------------------------------\n",
      "463 K     Trainable params\n",
      "0         Non-trainable params\n",
      "463 K     Total params\n",
      "1.855     Total estimated model params size (MB)\n"
     ]
    },
    {
     "name": "stdout",
     "output_type": "stream",
     "text": [
      "Epoch 0:   0%|          | 0/82 [00:00<?, ?it/s]               "
     ]
    },
    {
     "name": "stderr",
     "output_type": "stream",
     "text": [
      "GPU available: True, used: False\n",
      "TPU available: False, using: 0 TPU cores\n",
      "IPU available: False, using: 0 IPUs\n",
      "\n",
      "  | Name          | Type    | Params\n",
      "------------------------------------------\n",
      "0 | encoder       | Linear  | 230 K \n",
      "1 | act_1         | Sigmoid | 0     \n",
      "2 | decoder       | Linear  | 232 K \n",
      "3 | act_2         | Sigmoid | 0     \n",
      "4 | loss_func     | MSELoss | 0     \n",
      "5 | log_var_layer | Linear  | 162   \n",
      "6 | mean_layer    | Linear  | 162   \n",
      "7 | bridge_layer  | Linear  | 240   \n",
      "------------------------------------------\n",
      "463 K     Trainable params\n",
      "0         Non-trainable params\n",
      "463 K     Total params\n",
      "1.855     Total estimated model params size (MB)\n"
     ]
    },
    {
     "name": "stdout",
     "output_type": "stream",
     "text": [
      "0.1\n",
      "Epoch 0:   0%|          | 0/82 [00:00<?, ?it/s]               "
     ]
    },
    {
     "name": "stderr",
     "output_type": "stream",
     "text": [
      "GPU available: True, used: False\n",
      "TPU available: False, using: 0 TPU cores\n",
      "IPU available: False, using: 0 IPUs\n",
      "\n",
      "  | Name          | Type    | Params\n",
      "------------------------------------------\n",
      "0 | encoder       | Linear  | 230 K \n",
      "1 | act_1         | Sigmoid | 0     \n",
      "2 | decoder       | Linear  | 232 K \n",
      "3 | act_2         | Sigmoid | 0     \n",
      "4 | loss_func     | MSELoss | 0     \n",
      "5 | log_var_layer | Linear  | 162   \n",
      "6 | mean_layer    | Linear  | 162   \n",
      "7 | bridge_layer  | Linear  | 240   \n",
      "------------------------------------------\n",
      "463 K     Trainable params\n",
      "0         Non-trainable params\n",
      "463 K     Total params\n",
      "1.855     Total estimated model params size (MB)\n"
     ]
    },
    {
     "name": "stdout",
     "output_type": "stream",
     "text": [
      "1\n",
      "Epoch 0:   0%|          | 0/82 [00:00<?, ?it/s]               "
     ]
    },
    {
     "name": "stderr",
     "output_type": "stream",
     "text": [
      "GPU available: True, used: False\n",
      "TPU available: False, using: 0 TPU cores\n",
      "IPU available: False, using: 0 IPUs\n",
      "\n",
      "  | Name          | Type    | Params\n",
      "------------------------------------------\n",
      "0 | encoder       | Linear  | 230 K \n",
      "1 | act_1         | Sigmoid | 0     \n",
      "2 | decoder       | Linear  | 232 K \n",
      "3 | act_2         | Sigmoid | 0     \n",
      "4 | loss_func     | MSELoss | 0     \n",
      "5 | log_var_layer | Linear  | 162   \n",
      "6 | mean_layer    | Linear  | 162   \n",
      "7 | bridge_layer  | Linear  | 240   \n",
      "------------------------------------------\n",
      "463 K     Trainable params\n",
      "0         Non-trainable params\n",
      "463 K     Total params\n",
      "1.855     Total estimated model params size (MB)\n"
     ]
    },
    {
     "name": "stdout",
     "output_type": "stream",
     "text": [
      "100\n",
      "Epoch 0:   0%|          | 0/82 [00:00<?, ?it/s]               "
     ]
    },
    {
     "name": "stderr",
     "output_type": "stream",
     "text": [
      "GPU available: True, used: False\n",
      "TPU available: False, using: 0 TPU cores\n",
      "IPU available: False, using: 0 IPUs\n",
      "\n",
      "  | Name          | Type    | Params\n",
      "------------------------------------------\n",
      "0 | encoder       | Linear  | 863 K \n",
      "1 | act_1         | PReLU   | 1     \n",
      "2 | decoder       | Linear  | 865 K \n",
      "3 | act_2         | PReLU   | 1     \n",
      "4 | loss_func     | MSELoss | 0     \n",
      "5 | log_var_layer | Linear  | 602   \n",
      "6 | mean_layer    | Linear  | 602   \n",
      "7 | bridge_layer  | Linear  | 900   \n",
      "------------------------------------------\n",
      "1.7 M     Trainable params\n",
      "0         Non-trainable params\n",
      "1.7 M     Total params\n",
      "6.924     Total estimated model params size (MB)\n"
     ]
    },
    {
     "name": "stdout",
     "output_type": "stream",
     "text": [
      "0.01\n",
      "Epoch 0:  51%|█████     | 42/82 [00:00<00:00, 43.64it/s, loss=nan, v_num=354]    \n",
      "Validating: 0it [00:00, ?it/s]\u001B[A\n",
      "Epoch 0: 100%|██████████| 82/82 [00:01<00:00, 78.07it/s, loss=nan, v_num=354]\n",
      "Epoch 1:  51%|█████     | 42/82 [00:00<00:00, 42.88it/s, loss=nan, v_num=354]\n",
      "Validating: 0it [00:00, ?it/s]\u001B[A\n",
      "Epoch 1: 100%|██████████| 82/82 [00:01<00:00, 77.14it/s, loss=nan, v_num=354]\n",
      "Epoch 2:  51%|█████     | 42/82 [00:00<00:00, 47.64it/s, loss=nan, v_num=354]\n",
      "Validating: 0it [00:00, ?it/s]\u001B[A\n",
      "Epoch 2: 100%|██████████| 82/82 [00:00<00:00, 84.78it/s, loss=nan, v_num=354]\n",
      "Epoch 3:  51%|█████     | 42/82 [00:00<00:00, 49.30it/s, loss=nan, v_num=354]\n",
      "Validating: 0it [00:00, ?it/s]\u001B[A\n",
      "Epoch 3: 100%|██████████| 82/82 [00:00<00:00, 88.33it/s, loss=nan, v_num=354]\n",
      "Epoch 4:  51%|█████     | 42/82 [00:00<00:00, 47.17it/s, loss=nan, v_num=354]\n",
      "Validating: 0it [00:00, ?it/s]\u001B[A\n",
      "Epoch 4: 100%|██████████| 82/82 [00:00<00:00, 85.92it/s, loss=nan, v_num=354]\n",
      "Epoch 5:  51%|█████     | 42/82 [00:00<00:00, 48.89it/s, loss=nan, v_num=354]\n",
      "Validating: 0it [00:00, ?it/s]\u001B[A\n",
      "Epoch 5: 100%|██████████| 82/82 [00:00<00:00, 87.03it/s, loss=nan, v_num=354]\n",
      "Epoch 6:  51%|█████     | 42/82 [00:00<00:00, 49.12it/s, loss=nan, v_num=354]\n",
      "Validating: 0it [00:00, ?it/s]\u001B[A\n",
      "Epoch 6: 100%|██████████| 82/82 [00:00<00:00, 87.32it/s, loss=nan, v_num=354]\n",
      "Epoch 7:  51%|█████     | 42/82 [00:00<00:00, 48.20it/s, loss=nan, v_num=354]\n",
      "Validating: 0it [00:00, ?it/s]\u001B[A\n",
      "Epoch 7: 100%|██████████| 82/82 [00:00<00:00, 86.93it/s, loss=nan, v_num=354]\n",
      "Epoch 8:  51%|█████     | 42/82 [00:00<00:00, 49.19it/s, loss=nan, v_num=354]\n",
      "Validating: 0it [00:00, ?it/s]\u001B[A\n",
      "Epoch 8: 100%|██████████| 82/82 [00:00<00:00, 89.26it/s, loss=nan, v_num=354]\n",
      "Epoch 9:  51%|█████     | 42/82 [00:00<00:00, 49.78it/s, loss=nan, v_num=354]\n",
      "Validating: 0it [00:00, ?it/s]\u001B[A\n",
      "Epoch 9: 100%|██████████| 82/82 [00:00<00:00, 89.68it/s, loss=nan, v_num=354]\n",
      "Epoch 9: 100%|██████████| 82/82 [00:00<00:00, 86.90it/s, loss=nan, v_num=354]\n"
     ]
    },
    {
     "name": "stderr",
     "output_type": "stream",
     "text": [
      "GPU available: True, used: False\n",
      "TPU available: False, using: 0 TPU cores\n",
      "IPU available: False, using: 0 IPUs\n"
     ]
    },
    {
     "name": "stdout",
     "output_type": "stream",
     "text": [
      "0.1\n"
     ]
    },
    {
     "name": "stderr",
     "output_type": "stream",
     "text": [
      "\n",
      "  | Name          | Type    | Params\n",
      "------------------------------------------\n",
      "0 | encoder       | Linear  | 863 K \n",
      "1 | act_1         | PReLU   | 1     \n",
      "2 | decoder       | Linear  | 865 K \n",
      "3 | act_2         | PReLU   | 1     \n",
      "4 | loss_func     | MSELoss | 0     \n",
      "5 | log_var_layer | Linear  | 602   \n",
      "6 | mean_layer    | Linear  | 602   \n",
      "7 | bridge_layer  | Linear  | 900   \n",
      "------------------------------------------\n",
      "1.7 M     Trainable params\n",
      "0         Non-trainable params\n",
      "1.7 M     Total params\n",
      "6.924     Total estimated model params size (MB)\n"
     ]
    },
    {
     "name": "stdout",
     "output_type": "stream",
     "text": [
      "Epoch 0:  50%|█████     | 41/82 [00:00<00:00, 47.30it/s, loss=nan, v_num=355]    \n",
      "Validating: 0it [00:00, ?it/s]\u001B[A\n",
      "Epoch 0: 100%|██████████| 82/82 [00:00<00:00, 86.27it/s, loss=nan, v_num=355]\n",
      "Epoch 1:  51%|█████     | 42/82 [00:00<00:00, 49.75it/s, loss=nan, v_num=355]\n",
      "Validating: 0it [00:00, ?it/s]\u001B[A\n",
      "Epoch 1: 100%|██████████| 82/82 [00:00<00:00, 89.32it/s, loss=nan, v_num=355]\n",
      "Epoch 2:  51%|█████     | 42/82 [00:00<00:00, 49.09it/s, loss=nan, v_num=355]\n",
      "Validating: 0it [00:00, ?it/s]\u001B[A\n",
      "Epoch 2: 100%|██████████| 82/82 [00:00<00:00, 87.27it/s, loss=nan, v_num=355]\n",
      "Epoch 3:  50%|█████     | 41/82 [00:00<00:00, 49.80it/s, loss=nan, v_num=355]\n",
      "Validating: 0it [00:00, ?it/s]\u001B[A\n",
      "Epoch 3: 100%|██████████| 82/82 [00:00<00:00, 90.20it/s, loss=nan, v_num=355]\n",
      "Epoch 4:  50%|█████     | 41/82 [00:00<00:00, 49.29it/s, loss=nan, v_num=355]\n",
      "Validating: 0it [00:00, ?it/s]\u001B[A\n",
      "Epoch 4: 100%|██████████| 82/82 [00:00<00:00, 90.57it/s, loss=nan, v_num=355]\n",
      "Epoch 5:  50%|█████     | 41/82 [00:00<00:00, 47.39it/s, loss=nan, v_num=355]\n",
      "Validating: 0it [00:00, ?it/s]\u001B[A\n",
      "Epoch 5: 100%|██████████| 82/82 [00:00<00:00, 85.93it/s, loss=nan, v_num=355]\n",
      "Epoch 6:  50%|█████     | 41/82 [00:00<00:00, 49.21it/s, loss=nan, v_num=355]\n",
      "Validating: 0it [00:00, ?it/s]\u001B[A\n",
      "Epoch 6: 100%|██████████| 82/82 [00:00<00:00, 90.37it/s, loss=nan, v_num=355]\n",
      "Epoch 7:  50%|█████     | 41/82 [00:00<00:00, 46.87it/s, loss=nan, v_num=355]\n",
      "Validating: 0it [00:00, ?it/s]\u001B[A\n",
      "Epoch 7: 100%|██████████| 82/82 [00:00<00:00, 85.24it/s, loss=nan, v_num=355]\n",
      "Epoch 8:  50%|█████     | 41/82 [00:00<00:00, 48.93it/s, loss=nan, v_num=355]\n",
      "Validating: 0it [00:00, ?it/s]\u001B[A\n",
      "Epoch 8: 100%|██████████| 82/82 [00:00<00:00, 88.84it/s, loss=nan, v_num=355]\n",
      "Epoch 9:  50%|█████     | 41/82 [00:00<00:00, 45.80it/s, loss=nan, v_num=355]\n",
      "Validating: 0it [00:00, ?it/s]\u001B[A\n",
      "Epoch 9: 100%|██████████| 82/82 [00:00<00:00, 83.55it/s, loss=nan, v_num=355]\n",
      "Epoch 9: 100%|██████████| 82/82 [00:01<00:00, 79.89it/s, loss=nan, v_num=355]\n"
     ]
    },
    {
     "name": "stderr",
     "output_type": "stream",
     "text": [
      "GPU available: True, used: False\n",
      "TPU available: False, using: 0 TPU cores\n",
      "IPU available: False, using: 0 IPUs\n",
      "\n",
      "  | Name          | Type    | Params\n",
      "------------------------------------------\n",
      "0 | encoder       | Linear  | 863 K \n",
      "1 | act_1         | PReLU   | 1     \n",
      "2 | decoder       | Linear  | 865 K \n",
      "3 | act_2         | PReLU   | 1     \n",
      "4 | loss_func     | MSELoss | 0     \n",
      "5 | log_var_layer | Linear  | 602   \n",
      "6 | mean_layer    | Linear  | 602   \n",
      "7 | bridge_layer  | Linear  | 900   \n",
      "------------------------------------------\n",
      "1.7 M     Trainable params\n",
      "0         Non-trainable params\n",
      "1.7 M     Total params\n",
      "6.924     Total estimated model params size (MB)\n"
     ]
    },
    {
     "name": "stdout",
     "output_type": "stream",
     "text": [
      "1\n",
      "Epoch 0:  50%|█████     | 41/82 [00:00<00:00, 45.87it/s, loss=nan, v_num=356]    \n",
      "Validating: 0it [00:00, ?it/s]\u001B[A\n",
      "Epoch 0: 100%|██████████| 82/82 [00:00<00:00, 85.00it/s, loss=nan, v_num=356]\n",
      "Epoch 1:  51%|█████     | 42/82 [00:00<00:00, 48.04it/s, loss=nan, v_num=356]\n",
      "Validating: 0it [00:00, ?it/s]\u001B[A\n",
      "Epoch 1: 100%|██████████| 82/82 [00:00<00:00, 87.05it/s, loss=nan, v_num=356]\n",
      "Epoch 2:  51%|█████     | 42/82 [00:00<00:00, 49.90it/s, loss=nan, v_num=356]\n",
      "Validating: 0it [00:00, ?it/s]\u001B[A\n",
      "Epoch 2: 100%|██████████| 82/82 [00:00<00:00, 88.63it/s, loss=nan, v_num=356]\n",
      "Epoch 3:  51%|█████     | 42/82 [00:00<00:00, 48.15it/s, loss=nan, v_num=356]\n",
      "Validating: 0it [00:00, ?it/s]\u001B[A\n",
      "Epoch 3: 100%|██████████| 82/82 [00:00<00:00, 87.22it/s, loss=nan, v_num=356]\n",
      "Epoch 4:  51%|█████     | 42/82 [00:00<00:00, 44.57it/s, loss=nan, v_num=356]\n",
      "Validating: 0it [00:00, ?it/s]\u001B[A\n",
      "Epoch 4: 100%|██████████| 82/82 [00:01<00:00, 80.08it/s, loss=nan, v_num=356]\n",
      "Epoch 5:  51%|█████     | 42/82 [00:00<00:00, 48.90it/s, loss=nan, v_num=356]\n",
      "Validating: 0it [00:00, ?it/s]\u001B[A\n",
      "Epoch 5: 100%|██████████| 82/82 [00:00<00:00, 87.10it/s, loss=nan, v_num=356]\n",
      "Epoch 6:  51%|█████     | 42/82 [00:00<00:00, 48.81it/s, loss=nan, v_num=356]\n",
      "Validating: 0it [00:00, ?it/s]\u001B[A\n",
      "Epoch 6: 100%|██████████| 82/82 [00:00<00:00, 88.47it/s, loss=nan, v_num=356]\n",
      "Epoch 7:  51%|█████     | 42/82 [00:00<00:00, 47.16it/s, loss=nan, v_num=356]\n",
      "Validating: 0it [00:00, ?it/s]\u001B[A\n",
      "Epoch 7: 100%|██████████| 82/82 [00:00<00:00, 84.34it/s, loss=nan, v_num=356]\n",
      "Epoch 8:  51%|█████     | 42/82 [00:00<00:00, 49.07it/s, loss=nan, v_num=356]\n",
      "Validating: 0it [00:00, ?it/s]\u001B[A\n",
      "Epoch 8: 100%|██████████| 82/82 [00:00<00:00, 88.81it/s, loss=nan, v_num=356]\n",
      "Epoch 9:  50%|█████     | 41/82 [00:00<00:00, 50.77it/s, loss=nan, v_num=356]\n",
      "Validating: 0it [00:00, ?it/s]\u001B[A\n",
      "Epoch 9: 100%|██████████| 82/82 [00:00<00:00, 92.48it/s, loss=nan, v_num=356]\n",
      "Epoch 9: 100%|██████████| 82/82 [00:00<00:00, 88.99it/s, loss=nan, v_num=356]\n"
     ]
    },
    {
     "name": "stderr",
     "output_type": "stream",
     "text": [
      "GPU available: True, used: False\n",
      "TPU available: False, using: 0 TPU cores\n",
      "IPU available: False, using: 0 IPUs\n",
      "\n",
      "  | Name          | Type    | Params\n",
      "------------------------------------------\n",
      "0 | encoder       | Linear  | 863 K \n",
      "1 | act_1         | PReLU   | 1     \n",
      "2 | decoder       | Linear  | 865 K \n",
      "3 | act_2         | PReLU   | 1     \n",
      "4 | loss_func     | MSELoss | 0     \n",
      "5 | log_var_layer | Linear  | 602   \n",
      "6 | mean_layer    | Linear  | 602   \n",
      "7 | bridge_layer  | Linear  | 900   \n",
      "------------------------------------------\n",
      "1.7 M     Trainable params\n",
      "0         Non-trainable params\n",
      "1.7 M     Total params\n",
      "6.924     Total estimated model params size (MB)\n"
     ]
    },
    {
     "name": "stdout",
     "output_type": "stream",
     "text": [
      "100\n",
      "Epoch 0:  50%|█████     | 41/82 [00:00<00:00, 48.17it/s, loss=nan, v_num=357]    \n",
      "Validating: 0it [00:00, ?it/s]\u001B[A\n",
      "Epoch 0: 100%|██████████| 82/82 [00:00<00:00, 87.73it/s, loss=nan, v_num=357]\n",
      "Epoch 1:  51%|█████     | 42/82 [00:00<00:00, 48.57it/s, loss=nan, v_num=357]\n",
      "Validating: 0it [00:00, ?it/s]\u001B[A\n",
      "Epoch 1: 100%|██████████| 82/82 [00:00<00:00, 87.82it/s, loss=nan, v_num=357]\n",
      "Epoch 2:  50%|█████     | 41/82 [00:00<00:00, 47.79it/s, loss=nan, v_num=357]\n",
      "Validating: 0it [00:00, ?it/s]\u001B[A\n",
      "Epoch 2: 100%|██████████| 82/82 [00:00<00:00, 86.28it/s, loss=nan, v_num=357]\n",
      "Epoch 3:  50%|█████     | 41/82 [00:00<00:00, 48.01it/s, loss=nan, v_num=357]\n",
      "Validating: 0it [00:00, ?it/s]\u001B[A\n",
      "Epoch 3: 100%|██████████| 82/82 [00:00<00:00, 87.37it/s, loss=nan, v_num=357]\n",
      "Epoch 4:  50%|█████     | 41/82 [00:00<00:00, 46.48it/s, loss=nan, v_num=357]\n",
      "Validating: 0it [00:00, ?it/s]\u001B[A\n",
      "Epoch 4: 100%|██████████| 82/82 [00:00<00:00, 84.18it/s, loss=nan, v_num=357]\n",
      "Epoch 5:  50%|█████     | 41/82 [00:00<00:00, 49.33it/s, loss=nan, v_num=357]\n",
      "Validating: 0it [00:00, ?it/s]\u001B[A\n",
      "Epoch 5: 100%|██████████| 82/82 [00:00<00:00, 89.01it/s, loss=nan, v_num=357]\n",
      "Epoch 6:  50%|█████     | 41/82 [00:00<00:00, 46.79it/s, loss=nan, v_num=357]\n",
      "Validating: 0it [00:00, ?it/s]\u001B[A\n",
      "Epoch 6: 100%|██████████| 82/82 [00:00<00:00, 85.55it/s, loss=nan, v_num=357]\n",
      "Epoch 7:  50%|█████     | 41/82 [00:00<00:00, 49.36it/s, loss=nan, v_num=357]\n",
      "Validating: 0it [00:00, ?it/s]\u001B[A\n",
      "Epoch 7: 100%|██████████| 82/82 [00:00<00:00, 90.70it/s, loss=nan, v_num=357]\n",
      "Epoch 8:  50%|█████     | 41/82 [00:00<00:00, 46.18it/s, loss=nan, v_num=357]\n",
      "Validating: 0it [00:00, ?it/s]\u001B[A\n",
      "Epoch 8: 100%|██████████| 82/82 [00:00<00:00, 85.53it/s, loss=nan, v_num=357]\n",
      "Epoch 9:  50%|█████     | 41/82 [00:00<00:00, 47.48it/s, loss=nan, v_num=357]\n",
      "Validating: 0it [00:00, ?it/s]\u001B[A\n",
      "Epoch 9: 100%|██████████| 82/82 [00:00<00:00, 87.91it/s, loss=nan, v_num=357]\n",
      "Epoch 9: 100%|██████████| 82/82 [00:00<00:00, 85.31it/s, loss=nan, v_num=357]\n"
     ]
    },
    {
     "name": "stderr",
     "output_type": "stream",
     "text": [
      "GPU available: True, used: False\n",
      "TPU available: False, using: 0 TPU cores\n",
      "IPU available: False, using: 0 IPUs\n"
     ]
    },
    {
     "name": "stdout",
     "output_type": "stream",
     "text": [
      "0.01\n"
     ]
    },
    {
     "name": "stderr",
     "output_type": "stream",
     "text": [
      "\n",
      "  | Name          | Type    | Params\n",
      "------------------------------------------\n",
      "0 | encoder       | Linear  | 863 K \n",
      "1 | act_1         | Sigmoid | 0     \n",
      "2 | decoder       | Linear  | 865 K \n",
      "3 | act_2         | Sigmoid | 0     \n",
      "4 | loss_func     | MSELoss | 0     \n",
      "5 | log_var_layer | Linear  | 602   \n",
      "6 | mean_layer    | Linear  | 602   \n",
      "7 | bridge_layer  | Linear  | 900   \n",
      "------------------------------------------\n",
      "1.7 M     Trainable params\n",
      "0         Non-trainable params\n",
      "1.7 M     Total params\n",
      "6.924     Total estimated model params size (MB)\n"
     ]
    },
    {
     "name": "stdout",
     "output_type": "stream",
     "text": [
      "Epoch 0:   0%|          | 0/82 [00:00<?, ?it/s]               "
     ]
    },
    {
     "name": "stderr",
     "output_type": "stream",
     "text": [
      "GPU available: True, used: False\n",
      "TPU available: False, using: 0 TPU cores\n",
      "IPU available: False, using: 0 IPUs\n",
      "\n",
      "  | Name          | Type    | Params\n",
      "------------------------------------------\n",
      "0 | encoder       | Linear  | 863 K \n",
      "1 | act_1         | Sigmoid | 0     \n",
      "2 | decoder       | Linear  | 865 K \n",
      "3 | act_2         | Sigmoid | 0     \n",
      "4 | loss_func     | MSELoss | 0     \n",
      "5 | log_var_layer | Linear  | 602   \n",
      "6 | mean_layer    | Linear  | 602   \n",
      "7 | bridge_layer  | Linear  | 900   \n",
      "------------------------------------------\n",
      "1.7 M     Trainable params\n",
      "0         Non-trainable params\n",
      "1.7 M     Total params\n",
      "6.924     Total estimated model params size (MB)\n"
     ]
    },
    {
     "name": "stdout",
     "output_type": "stream",
     "text": [
      "0.1\n",
      "Epoch 0:   0%|          | 0/82 [00:00<?, ?it/s]               "
     ]
    },
    {
     "name": "stderr",
     "output_type": "stream",
     "text": [
      "GPU available: True, used: False\n",
      "TPU available: False, using: 0 TPU cores\n",
      "IPU available: False, using: 0 IPUs\n",
      "\n",
      "  | Name          | Type    | Params\n",
      "------------------------------------------\n",
      "0 | encoder       | Linear  | 863 K \n",
      "1 | act_1         | Sigmoid | 0     \n",
      "2 | decoder       | Linear  | 865 K \n",
      "3 | act_2         | Sigmoid | 0     \n",
      "4 | loss_func     | MSELoss | 0     \n",
      "5 | log_var_layer | Linear  | 602   \n",
      "6 | mean_layer    | Linear  | 602   \n",
      "7 | bridge_layer  | Linear  | 900   \n",
      "------------------------------------------\n",
      "1.7 M     Trainable params\n",
      "0         Non-trainable params\n",
      "1.7 M     Total params\n",
      "6.924     Total estimated model params size (MB)\n"
     ]
    },
    {
     "name": "stdout",
     "output_type": "stream",
     "text": [
      "1\n",
      "Epoch 0:   0%|          | 0/82 [00:00<?, ?it/s]               "
     ]
    },
    {
     "name": "stderr",
     "output_type": "stream",
     "text": [
      "GPU available: True, used: False\n",
      "TPU available: False, using: 0 TPU cores\n",
      "IPU available: False, using: 0 IPUs\n",
      "\n",
      "  | Name          | Type    | Params\n",
      "------------------------------------------\n",
      "0 | encoder       | Linear  | 863 K \n",
      "1 | act_1         | Sigmoid | 0     \n",
      "2 | decoder       | Linear  | 865 K \n",
      "3 | act_2         | Sigmoid | 0     \n",
      "4 | loss_func     | MSELoss | 0     \n",
      "5 | log_var_layer | Linear  | 602   \n",
      "6 | mean_layer    | Linear  | 602   \n",
      "7 | bridge_layer  | Linear  | 900   \n",
      "------------------------------------------\n",
      "1.7 M     Trainable params\n",
      "0         Non-trainable params\n",
      "1.7 M     Total params\n",
      "6.924     Total estimated model params size (MB)\n"
     ]
    },
    {
     "name": "stdout",
     "output_type": "stream",
     "text": [
      "100\n",
      "Epoch 0:   0%|          | 0/82 [00:00<?, ?it/s]               "
     ]
    },
    {
     "name": "stderr",
     "output_type": "stream",
     "text": [
      "GPU available: True, used: False\n",
      "TPU available: False, using: 0 TPU cores\n",
      "IPU available: False, using: 0 IPUs\n",
      "\n",
      "  | Name              | Type      | Params\n",
      "------------------------------------------------\n",
      "0 | embedding_user_mf | Embedding | 4.0 K \n",
      "1 | embedding_item_mf | Embedding | 28.8 K\n",
      "2 | l_0               | Linear    | 11    \n",
      "3 | loss_func         | L1Loss    | 0     \n",
      "------------------------------------------------\n",
      "32.8 K    Trainable params\n",
      "0         Non-trainable params\n",
      "32.8 K    Total params\n",
      "0.131     Total estimated model params size (MB)\n"
     ]
    },
    {
     "name": "stdout",
     "output_type": "stream",
     "text": [
      "                                                              "
     ]
    },
    {
     "name": "stderr",
     "output_type": "stream",
     "text": [
      "/home/ido/anaconda3/envs/rs/lib/python3.7/site-packages/pytorch_lightning/trainer/data_loading.py:133: UserWarning: The dataloader, train_dataloader, does not have many workers which may be a bottleneck. Consider increasing the value of the `num_workers` argument` (try 12 which is the number of cpus on this machine) in the `DataLoader` init to improve performance.\n",
      "  f\"The dataloader, {name}, does not have many workers which may be a bottleneck.\"\n"
     ]
    },
    {
     "name": "stdout",
     "output_type": "stream",
     "text": [
      "Epoch 0:   0%|          | 5/2445 [00:00<00:09, 259.08it/s, loss=4.42, v_num=362]"
     ]
    },
    {
     "name": "stderr",
     "output_type": "stream",
     "text": [
      "GPU available: True, used: False\n",
      "TPU available: False, using: 0 TPU cores\n",
      "IPU available: False, using: 0 IPUs\n",
      "\n",
      "  | Name              | Type      | Params\n",
      "------------------------------------------------\n",
      "0 | embedding_user_mf | Embedding | 4.0 K \n",
      "1 | embedding_item_mf | Embedding | 28.8 K\n",
      "2 | l_0               | Linear    | 11    \n",
      "3 | loss_func         | L1Loss    | 0     \n",
      "------------------------------------------------\n",
      "32.8 K    Trainable params\n",
      "0         Non-trainable params\n",
      "32.8 K    Total params\n",
      "0.131     Total estimated model params size (MB)\n"
     ]
    },
    {
     "name": "stdout",
     "output_type": "stream",
     "text": [
      "Epoch 0:   0%|          | 5/2445 [00:00<00:10, 241.75it/s, loss=4.1, v_num=363] "
     ]
    },
    {
     "name": "stderr",
     "output_type": "stream",
     "text": [
      "GPU available: True, used: False\n",
      "TPU available: False, using: 0 TPU cores\n",
      "IPU available: False, using: 0 IPUs\n",
      "\n",
      "  | Name              | Type      | Params\n",
      "------------------------------------------------\n",
      "0 | embedding_user_mf | Embedding | 4.0 K \n",
      "1 | embedding_item_mf | Embedding | 28.8 K\n",
      "2 | l_0               | Linear    | 11    \n",
      "3 | loss_func         | L1Loss    | 0     \n",
      "------------------------------------------------\n",
      "32.8 K    Trainable params\n",
      "0         Non-trainable params\n",
      "32.8 K    Total params\n",
      "0.131     Total estimated model params size (MB)\n"
     ]
    },
    {
     "name": "stdout",
     "output_type": "stream",
     "text": [
      "Epoch 0:   0%|          | 5/2445 [00:00<00:10, 233.51it/s, loss=4.13, v_num=364]"
     ]
    },
    {
     "name": "stderr",
     "output_type": "stream",
     "text": [
      "GPU available: True, used: False\n",
      "TPU available: False, using: 0 TPU cores\n",
      "IPU available: False, using: 0 IPUs\n",
      "\n",
      "  | Name              | Type      | Params\n",
      "------------------------------------------------\n",
      "0 | embedding_user_mf | Embedding | 4.0 K \n",
      "1 | embedding_item_mf | Embedding | 28.8 K\n",
      "2 | l_0               | Linear    | 11    \n",
      "3 | loss_func         | L1Loss    | 0     \n",
      "------------------------------------------------\n",
      "32.8 K    Trainable params\n",
      "0         Non-trainable params\n",
      "32.8 K    Total params\n",
      "0.131     Total estimated model params size (MB)\n"
     ]
    },
    {
     "name": "stdout",
     "output_type": "stream",
     "text": [
      "Epoch 0:   0%|          | 5/2445 [00:00<00:09, 247.27it/s, loss=4.54, v_num=365]"
     ]
    },
    {
     "name": "stderr",
     "output_type": "stream",
     "text": [
      "GPU available: True, used: False\n",
      "TPU available: False, using: 0 TPU cores\n",
      "IPU available: False, using: 0 IPUs\n",
      "\n",
      "  | Name              | Type      | Params\n",
      "------------------------------------------------\n",
      "0 | embedding_user_mf | Embedding | 4.0 K \n",
      "1 | embedding_item_mf | Embedding | 28.8 K\n",
      "2 | l_0               | Linear    | 11    \n",
      "3 | loss_func         | L1Loss    | 0     \n",
      "------------------------------------------------\n",
      "32.8 K    Trainable params\n",
      "0         Non-trainable params\n",
      "32.8 K    Total params\n",
      "0.131     Total estimated model params size (MB)\n"
     ]
    },
    {
     "name": "stdout",
     "output_type": "stream",
     "text": [
      "Epoch 0:   0%|          | 5/2445 [00:00<00:09, 248.10it/s, loss=3.99, v_num=366]"
     ]
    },
    {
     "name": "stderr",
     "output_type": "stream",
     "text": [
      "GPU available: True, used: False\n",
      "TPU available: False, using: 0 TPU cores\n",
      "IPU available: False, using: 0 IPUs\n",
      "\n",
      "  | Name              | Type      | Params\n",
      "------------------------------------------------\n",
      "0 | embedding_user_mf | Embedding | 4.0 K \n",
      "1 | embedding_item_mf | Embedding | 28.8 K\n",
      "2 | l_0               | Linear    | 11    \n",
      "3 | loss_func         | L1Loss    | 0     \n",
      "------------------------------------------------\n",
      "32.8 K    Trainable params\n",
      "0         Non-trainable params\n",
      "32.8 K    Total params\n",
      "0.131     Total estimated model params size (MB)\n"
     ]
    },
    {
     "name": "stdout",
     "output_type": "stream",
     "text": [
      "Epoch 0:   0%|          | 5/2445 [00:00<00:09, 249.64it/s, loss=4.42, v_num=367]"
     ]
    },
    {
     "name": "stderr",
     "output_type": "stream",
     "text": [
      "GPU available: True, used: False\n",
      "TPU available: False, using: 0 TPU cores\n",
      "IPU available: False, using: 0 IPUs\n",
      "\n",
      "  | Name              | Type      | Params\n",
      "------------------------------------------------\n",
      "0 | embedding_user_mf | Embedding | 4.0 K \n",
      "1 | embedding_item_mf | Embedding | 28.8 K\n",
      "2 | l_0               | Linear    | 11    \n",
      "3 | loss_func         | L1Loss    | 0     \n",
      "------------------------------------------------\n",
      "32.8 K    Trainable params\n",
      "0         Non-trainable params\n",
      "32.8 K    Total params\n",
      "0.131     Total estimated model params size (MB)\n"
     ]
    },
    {
     "name": "stdout",
     "output_type": "stream",
     "text": [
      "Epoch 0:   0%|          | 5/2445 [00:00<00:10, 239.63it/s, loss=4.54, v_num=368]"
     ]
    },
    {
     "name": "stderr",
     "output_type": "stream",
     "text": [
      "GPU available: True, used: False\n",
      "TPU available: False, using: 0 TPU cores\n",
      "IPU available: False, using: 0 IPUs\n",
      "\n",
      "  | Name              | Type      | Params\n",
      "------------------------------------------------\n",
      "0 | embedding_user_mf | Embedding | 4.0 K \n",
      "1 | embedding_item_mf | Embedding | 28.8 K\n",
      "2 | l_0               | Linear    | 11    \n",
      "3 | loss_func         | L1Loss    | 0     \n",
      "------------------------------------------------\n",
      "32.8 K    Trainable params\n",
      "0         Non-trainable params\n",
      "32.8 K    Total params\n",
      "0.131     Total estimated model params size (MB)\n"
     ]
    },
    {
     "name": "stdout",
     "output_type": "stream",
     "text": [
      "Epoch 0:   0%|          | 5/2445 [00:00<00:09, 244.17it/s, loss=4.5, v_num=369] "
     ]
    },
    {
     "name": "stderr",
     "output_type": "stream",
     "text": [
      "GPU available: True, used: False\n",
      "TPU available: False, using: 0 TPU cores\n",
      "IPU available: False, using: 0 IPUs\n",
      "\n",
      "  | Name              | Type      | Params\n",
      "------------------------------------------------\n",
      "0 | embedding_user_mf | Embedding | 32.2 K\n",
      "1 | embedding_item_mf | Embedding | 230 K \n",
      "2 | l_0               | Linear    | 81    \n",
      "3 | loss_func         | L1Loss    | 0     \n",
      "------------------------------------------------\n",
      "262 K     Trainable params\n",
      "0         Non-trainable params\n",
      "262 K     Total params\n",
      "1.049     Total estimated model params size (MB)\n"
     ]
    },
    {
     "name": "stdout",
     "output_type": "stream",
     "text": [
      "Epoch 0:   0%|          | 5/2445 [00:00<00:12, 197.19it/s, loss=4.21, v_num=370]"
     ]
    },
    {
     "name": "stderr",
     "output_type": "stream",
     "text": [
      "GPU available: True, used: False\n",
      "TPU available: False, using: 0 TPU cores\n",
      "IPU available: False, using: 0 IPUs\n",
      "\n",
      "  | Name              | Type      | Params\n",
      "------------------------------------------------\n",
      "0 | embedding_user_mf | Embedding | 32.2 K\n",
      "1 | embedding_item_mf | Embedding | 230 K \n",
      "2 | l_0               | Linear    | 81    \n",
      "3 | loss_func         | L1Loss    | 0     \n",
      "------------------------------------------------\n",
      "262 K     Trainable params\n",
      "0         Non-trainable params\n",
      "262 K     Total params\n",
      "1.049     Total estimated model params size (MB)\n"
     ]
    },
    {
     "name": "stdout",
     "output_type": "stream",
     "text": [
      "Epoch 0:   0%|          | 5/2445 [00:00<00:12, 198.35it/s, loss=4.38, v_num=371]"
     ]
    },
    {
     "name": "stderr",
     "output_type": "stream",
     "text": [
      "GPU available: True, used: False\n",
      "TPU available: False, using: 0 TPU cores\n",
      "IPU available: False, using: 0 IPUs\n",
      "\n",
      "  | Name              | Type      | Params\n",
      "------------------------------------------------\n",
      "0 | embedding_user_mf | Embedding | 32.2 K\n",
      "1 | embedding_item_mf | Embedding | 230 K \n",
      "2 | l_0               | Linear    | 81    \n",
      "3 | loss_func         | L1Loss    | 0     \n",
      "------------------------------------------------\n",
      "262 K     Trainable params\n",
      "0         Non-trainable params\n",
      "262 K     Total params\n",
      "1.049     Total estimated model params size (MB)\n"
     ]
    },
    {
     "name": "stdout",
     "output_type": "stream",
     "text": [
      "Epoch 0:   0%|          | 5/2445 [00:00<00:12, 197.40it/s, loss=4.38, v_num=372]"
     ]
    },
    {
     "name": "stderr",
     "output_type": "stream",
     "text": [
      "GPU available: True, used: False\n",
      "TPU available: False, using: 0 TPU cores\n",
      "IPU available: False, using: 0 IPUs\n",
      "\n",
      "  | Name              | Type      | Params\n",
      "------------------------------------------------\n",
      "0 | embedding_user_mf | Embedding | 32.2 K\n",
      "1 | embedding_item_mf | Embedding | 230 K \n",
      "2 | l_0               | Linear    | 81    \n",
      "3 | loss_func         | L1Loss    | 0     \n",
      "------------------------------------------------\n",
      "262 K     Trainable params\n",
      "0         Non-trainable params\n",
      "262 K     Total params\n",
      "1.049     Total estimated model params size (MB)\n"
     ]
    },
    {
     "name": "stdout",
     "output_type": "stream",
     "text": [
      "Epoch 0:   0%|          | 5/2445 [00:00<00:13, 184.86it/s, loss=4.56, v_num=373]"
     ]
    },
    {
     "name": "stderr",
     "output_type": "stream",
     "text": [
      "GPU available: True, used: False\n",
      "TPU available: False, using: 0 TPU cores\n",
      "IPU available: False, using: 0 IPUs\n",
      "\n",
      "  | Name              | Type      | Params\n",
      "------------------------------------------------\n",
      "0 | embedding_user_mf | Embedding | 32.2 K\n",
      "1 | embedding_item_mf | Embedding | 230 K \n",
      "2 | l_0               | Linear    | 81    \n",
      "3 | loss_func         | L1Loss    | 0     \n",
      "------------------------------------------------\n",
      "262 K     Trainable params\n",
      "0         Non-trainable params\n",
      "262 K     Total params\n",
      "1.049     Total estimated model params size (MB)\n"
     ]
    },
    {
     "name": "stdout",
     "output_type": "stream",
     "text": [
      "Epoch 0:   0%|          | 5/2445 [00:00<00:12, 192.44it/s, loss=4.29, v_num=374]"
     ]
    },
    {
     "name": "stderr",
     "output_type": "stream",
     "text": [
      "GPU available: True, used: False\n",
      "TPU available: False, using: 0 TPU cores\n",
      "IPU available: False, using: 0 IPUs\n",
      "\n",
      "  | Name              | Type      | Params\n",
      "------------------------------------------------\n",
      "0 | embedding_user_mf | Embedding | 32.2 K\n",
      "1 | embedding_item_mf | Embedding | 230 K \n",
      "2 | l_0               | Linear    | 81    \n",
      "3 | loss_func         | L1Loss    | 0     \n",
      "------------------------------------------------\n",
      "262 K     Trainable params\n",
      "0         Non-trainable params\n",
      "262 K     Total params\n",
      "1.049     Total estimated model params size (MB)\n"
     ]
    },
    {
     "name": "stdout",
     "output_type": "stream",
     "text": [
      "Epoch 0:   0%|          | 5/2445 [00:00<00:13, 183.34it/s, loss=4.39, v_num=375]"
     ]
    },
    {
     "name": "stderr",
     "output_type": "stream",
     "text": [
      "GPU available: True, used: False\n",
      "TPU available: False, using: 0 TPU cores\n",
      "IPU available: False, using: 0 IPUs\n",
      "\n",
      "  | Name              | Type      | Params\n",
      "------------------------------------------------\n",
      "0 | embedding_user_mf | Embedding | 32.2 K\n",
      "1 | embedding_item_mf | Embedding | 230 K \n",
      "2 | l_0               | Linear    | 81    \n",
      "3 | loss_func         | L1Loss    | 0     \n",
      "------------------------------------------------\n",
      "262 K     Trainable params\n",
      "0         Non-trainable params\n",
      "262 K     Total params\n",
      "1.049     Total estimated model params size (MB)\n"
     ]
    },
    {
     "name": "stdout",
     "output_type": "stream",
     "text": [
      "Epoch 0:   0%|          | 5/2445 [00:00<00:13, 184.75it/s, loss=4.32, v_num=376]"
     ]
    },
    {
     "name": "stderr",
     "output_type": "stream",
     "text": [
      "GPU available: True, used: False\n",
      "TPU available: False, using: 0 TPU cores\n",
      "IPU available: False, using: 0 IPUs\n",
      "\n",
      "  | Name              | Type      | Params\n",
      "------------------------------------------------\n",
      "0 | embedding_user_mf | Embedding | 32.2 K\n",
      "1 | embedding_item_mf | Embedding | 230 K \n",
      "2 | l_0               | Linear    | 81    \n",
      "3 | loss_func         | L1Loss    | 0     \n",
      "------------------------------------------------\n",
      "262 K     Trainable params\n",
      "0         Non-trainable params\n",
      "262 K     Total params\n",
      "1.049     Total estimated model params size (MB)\n"
     ]
    },
    {
     "name": "stdout",
     "output_type": "stream",
     "text": [
      "Epoch 0:   0%|          | 5/2445 [00:00<00:12, 198.66it/s, loss=4.44, v_num=377]"
     ]
    },
    {
     "name": "stderr",
     "output_type": "stream",
     "text": [
      "GPU available: True, used: False\n",
      "TPU available: False, using: 0 TPU cores\n",
      "IPU available: False, using: 0 IPUs\n",
      "\n",
      "  | Name              | Type      | Params\n",
      "------------------------------------------------\n",
      "0 | embedding_user_mf | Embedding | 120 K \n",
      "1 | embedding_item_mf | Embedding | 862 K \n",
      "2 | l_0               | Linear    | 301   \n",
      "3 | loss_func         | L1Loss    | 0     \n",
      "------------------------------------------------\n",
      "983 K     Trainable params\n",
      "0         Non-trainable params\n",
      "983 K     Total params\n",
      "3.935     Total estimated model params size (MB)\n"
     ]
    },
    {
     "name": "stdout",
     "output_type": "stream",
     "text": [
      "Epoch 0:   0%|          | 5/2445 [00:00<00:20, 117.90it/s, loss=4.26, v_num=378]"
     ]
    },
    {
     "name": "stderr",
     "output_type": "stream",
     "text": [
      "GPU available: True, used: False\n",
      "TPU available: False, using: 0 TPU cores\n",
      "IPU available: False, using: 0 IPUs\n",
      "\n",
      "  | Name              | Type      | Params\n",
      "------------------------------------------------\n",
      "0 | embedding_user_mf | Embedding | 120 K \n",
      "1 | embedding_item_mf | Embedding | 862 K \n",
      "2 | l_0               | Linear    | 301   \n",
      "3 | loss_func         | L1Loss    | 0     \n",
      "------------------------------------------------\n",
      "983 K     Trainable params\n",
      "0         Non-trainable params\n",
      "983 K     Total params\n",
      "3.935     Total estimated model params size (MB)\n"
     ]
    },
    {
     "name": "stdout",
     "output_type": "stream",
     "text": [
      "Epoch 0:   0%|          | 5/2445 [00:00<00:20, 119.57it/s, loss=4.34, v_num=379]"
     ]
    },
    {
     "name": "stderr",
     "output_type": "stream",
     "text": [
      "GPU available: True, used: False\n",
      "TPU available: False, using: 0 TPU cores\n",
      "IPU available: False, using: 0 IPUs\n",
      "\n",
      "  | Name              | Type      | Params\n",
      "------------------------------------------------\n",
      "0 | embedding_user_mf | Embedding | 120 K \n",
      "1 | embedding_item_mf | Embedding | 862 K \n",
      "2 | l_0               | Linear    | 301   \n",
      "3 | loss_func         | L1Loss    | 0     \n",
      "------------------------------------------------\n",
      "983 K     Trainable params\n",
      "0         Non-trainable params\n",
      "983 K     Total params\n",
      "3.935     Total estimated model params size (MB)\n"
     ]
    },
    {
     "name": "stdout",
     "output_type": "stream",
     "text": [
      "Epoch 0:   0%|          | 5/2445 [00:00<00:20, 120.84it/s, loss=4.23, v_num=380]"
     ]
    },
    {
     "name": "stderr",
     "output_type": "stream",
     "text": [
      "GPU available: True, used: False\n",
      "TPU available: False, using: 0 TPU cores\n",
      "IPU available: False, using: 0 IPUs\n",
      "\n",
      "  | Name              | Type      | Params\n",
      "------------------------------------------------\n",
      "0 | embedding_user_mf | Embedding | 120 K \n",
      "1 | embedding_item_mf | Embedding | 862 K \n",
      "2 | l_0               | Linear    | 301   \n",
      "3 | loss_func         | L1Loss    | 0     \n",
      "------------------------------------------------\n",
      "983 K     Trainable params\n",
      "0         Non-trainable params\n",
      "983 K     Total params\n",
      "3.935     Total estimated model params size (MB)\n"
     ]
    },
    {
     "name": "stdout",
     "output_type": "stream",
     "text": [
      "Epoch 0:   0%|          | 5/2445 [00:00<00:21, 115.55it/s, loss=4.34, v_num=381]"
     ]
    },
    {
     "name": "stderr",
     "output_type": "stream",
     "text": [
      "GPU available: True, used: False\n",
      "TPU available: False, using: 0 TPU cores\n",
      "IPU available: False, using: 0 IPUs\n",
      "\n",
      "  | Name              | Type      | Params\n",
      "------------------------------------------------\n",
      "0 | embedding_user_mf | Embedding | 120 K \n",
      "1 | embedding_item_mf | Embedding | 862 K \n",
      "2 | l_0               | Linear    | 301   \n",
      "3 | loss_func         | L1Loss    | 0     \n",
      "------------------------------------------------\n",
      "983 K     Trainable params\n",
      "0         Non-trainable params\n",
      "983 K     Total params\n",
      "3.935     Total estimated model params size (MB)\n"
     ]
    },
    {
     "name": "stdout",
     "output_type": "stream",
     "text": [
      "Epoch 0:   0%|          | 5/2445 [00:00<00:20, 119.80it/s, loss=4.41, v_num=382]"
     ]
    },
    {
     "name": "stderr",
     "output_type": "stream",
     "text": [
      "GPU available: True, used: False\n",
      "TPU available: False, using: 0 TPU cores\n",
      "IPU available: False, using: 0 IPUs\n",
      "\n",
      "  | Name              | Type      | Params\n",
      "------------------------------------------------\n",
      "0 | embedding_user_mf | Embedding | 120 K \n",
      "1 | embedding_item_mf | Embedding | 862 K \n",
      "2 | l_0               | Linear    | 301   \n",
      "3 | loss_func         | L1Loss    | 0     \n",
      "------------------------------------------------\n",
      "983 K     Trainable params\n",
      "0         Non-trainable params\n",
      "983 K     Total params\n",
      "3.935     Total estimated model params size (MB)\n"
     ]
    },
    {
     "name": "stdout",
     "output_type": "stream",
     "text": [
      "Epoch 0:   0%|          | 5/2445 [00:00<00:17, 142.41it/s, loss=4.36, v_num=383]"
     ]
    },
    {
     "name": "stderr",
     "output_type": "stream",
     "text": [
      "GPU available: True, used: False\n",
      "TPU available: False, using: 0 TPU cores\n",
      "IPU available: False, using: 0 IPUs\n",
      "\n",
      "  | Name              | Type      | Params\n",
      "------------------------------------------------\n",
      "0 | embedding_user_mf | Embedding | 120 K \n",
      "1 | embedding_item_mf | Embedding | 862 K \n",
      "2 | l_0               | Linear    | 301   \n",
      "3 | loss_func         | L1Loss    | 0     \n",
      "------------------------------------------------\n",
      "983 K     Trainable params\n",
      "0         Non-trainable params\n",
      "983 K     Total params\n",
      "3.935     Total estimated model params size (MB)\n"
     ]
    },
    {
     "name": "stdout",
     "output_type": "stream",
     "text": [
      "Epoch 0:   0%|          | 5/2445 [00:00<00:19, 124.55it/s, loss=4.48, v_num=384]"
     ]
    },
    {
     "name": "stderr",
     "output_type": "stream",
     "text": [
      "GPU available: True, used: False\n",
      "TPU available: False, using: 0 TPU cores\n",
      "IPU available: False, using: 0 IPUs\n",
      "\n",
      "  | Name              | Type      | Params\n",
      "------------------------------------------------\n",
      "0 | embedding_user_mf | Embedding | 120 K \n",
      "1 | embedding_item_mf | Embedding | 862 K \n",
      "2 | l_0               | Linear    | 301   \n",
      "3 | loss_func         | L1Loss    | 0     \n",
      "------------------------------------------------\n",
      "983 K     Trainable params\n",
      "0         Non-trainable params\n",
      "983 K     Total params\n",
      "3.935     Total estimated model params size (MB)\n"
     ]
    },
    {
     "name": "stdout",
     "output_type": "stream",
     "text": [
      "Epoch 0:   0%|          | 5/2445 [00:00<00:20, 120.33it/s, loss=4.24, v_num=385]"
     ]
    },
    {
     "name": "stderr",
     "output_type": "stream",
     "text": [
      "GPU available: True, used: False\n",
      "TPU available: False, using: 0 TPU cores\n",
      "IPU available: False, using: 0 IPUs\n",
      "\n",
      "  | Name              | Type      | Params\n",
      "------------------------------------------------\n",
      "0 | embedding_user_mf | Embedding | 4.0 K \n",
      "1 | embedding_item_mf | Embedding | 28.8 K\n",
      "2 | l_0               | Linear    | 11    \n",
      "3 | loss_func         | L1Loss    | 0     \n",
      "------------------------------------------------\n",
      "32.8 K    Trainable params\n",
      "0         Non-trainable params\n",
      "32.8 K    Total params\n",
      "0.131     Total estimated model params size (MB)\n"
     ]
    },
    {
     "name": "stdout",
     "output_type": "stream",
     "text": [
      "Epoch 0:   0%|          | 5/2445 [00:00<00:09, 245.19it/s, loss=4.38, v_num=386]"
     ]
    },
    {
     "name": "stderr",
     "output_type": "stream",
     "text": [
      "GPU available: True, used: False\n",
      "TPU available: False, using: 0 TPU cores\n",
      "IPU available: False, using: 0 IPUs\n",
      "\n",
      "  | Name              | Type      | Params\n",
      "------------------------------------------------\n",
      "0 | embedding_user_mf | Embedding | 4.0 K \n",
      "1 | embedding_item_mf | Embedding | 28.8 K\n",
      "2 | l_0               | Linear    | 11    \n",
      "3 | loss_func         | L1Loss    | 0     \n",
      "------------------------------------------------\n",
      "32.8 K    Trainable params\n",
      "0         Non-trainable params\n",
      "32.8 K    Total params\n",
      "0.131     Total estimated model params size (MB)\n"
     ]
    },
    {
     "name": "stdout",
     "output_type": "stream",
     "text": [
      "Epoch 0:   0%|          | 5/2445 [00:00<00:09, 261.88it/s, loss=4.64, v_num=387]"
     ]
    },
    {
     "name": "stderr",
     "output_type": "stream",
     "text": [
      "GPU available: True, used: False\n",
      "TPU available: False, using: 0 TPU cores\n",
      "IPU available: False, using: 0 IPUs\n",
      "\n",
      "  | Name              | Type      | Params\n",
      "------------------------------------------------\n",
      "0 | embedding_user_mf | Embedding | 4.0 K \n",
      "1 | embedding_item_mf | Embedding | 28.8 K\n",
      "2 | l_0               | Linear    | 11    \n",
      "3 | loss_func         | L1Loss    | 0     \n",
      "------------------------------------------------\n",
      "32.8 K    Trainable params\n",
      "0         Non-trainable params\n",
      "32.8 K    Total params\n",
      "0.131     Total estimated model params size (MB)\n"
     ]
    },
    {
     "name": "stdout",
     "output_type": "stream",
     "text": [
      "Epoch 0:   0%|          | 5/2445 [00:00<00:10, 241.85it/s, loss=4.34, v_num=388]"
     ]
    },
    {
     "name": "stderr",
     "output_type": "stream",
     "text": [
      "GPU available: True, used: False\n",
      "TPU available: False, using: 0 TPU cores\n",
      "IPU available: False, using: 0 IPUs\n",
      "\n",
      "  | Name              | Type      | Params\n",
      "------------------------------------------------\n",
      "0 | embedding_user_mf | Embedding | 4.0 K \n",
      "1 | embedding_item_mf | Embedding | 28.8 K\n",
      "2 | l_0               | Linear    | 11    \n",
      "3 | loss_func         | L1Loss    | 0     \n",
      "------------------------------------------------\n",
      "32.8 K    Trainable params\n",
      "0         Non-trainable params\n",
      "32.8 K    Total params\n",
      "0.131     Total estimated model params size (MB)\n"
     ]
    },
    {
     "name": "stdout",
     "output_type": "stream",
     "text": [
      "Epoch 0:   0%|          | 5/2445 [00:00<00:09, 263.15it/s, loss=4.47, v_num=389]"
     ]
    },
    {
     "name": "stderr",
     "output_type": "stream",
     "text": [
      "GPU available: True, used: False\n",
      "TPU available: False, using: 0 TPU cores\n",
      "IPU available: False, using: 0 IPUs\n",
      "\n",
      "  | Name              | Type      | Params\n",
      "------------------------------------------------\n",
      "0 | embedding_user_mf | Embedding | 4.0 K \n",
      "1 | embedding_item_mf | Embedding | 28.8 K\n",
      "2 | l_0               | Linear    | 11    \n",
      "3 | loss_func         | L1Loss    | 0     \n",
      "------------------------------------------------\n",
      "32.8 K    Trainable params\n",
      "0         Non-trainable params\n",
      "32.8 K    Total params\n",
      "0.131     Total estimated model params size (MB)\n"
     ]
    },
    {
     "name": "stdout",
     "output_type": "stream",
     "text": [
      "Epoch 0:   0%|          | 5/2445 [00:00<00:10, 240.95it/s, loss=4.51, v_num=390]"
     ]
    },
    {
     "name": "stderr",
     "output_type": "stream",
     "text": [
      "GPU available: True, used: False\n",
      "TPU available: False, using: 0 TPU cores\n",
      "IPU available: False, using: 0 IPUs\n",
      "\n",
      "  | Name              | Type      | Params\n",
      "------------------------------------------------\n",
      "0 | embedding_user_mf | Embedding | 4.0 K \n",
      "1 | embedding_item_mf | Embedding | 28.8 K\n",
      "2 | l_0               | Linear    | 11    \n",
      "3 | loss_func         | L1Loss    | 0     \n",
      "------------------------------------------------\n",
      "32.8 K    Trainable params\n",
      "0         Non-trainable params\n",
      "32.8 K    Total params\n",
      "0.131     Total estimated model params size (MB)\n"
     ]
    },
    {
     "name": "stdout",
     "output_type": "stream",
     "text": [
      "Epoch 0:   0%|          | 5/2445 [00:00<00:09, 268.46it/s, loss=4.41, v_num=391]"
     ]
    },
    {
     "name": "stderr",
     "output_type": "stream",
     "text": [
      "GPU available: True, used: False\n",
      "TPU available: False, using: 0 TPU cores\n",
      "IPU available: False, using: 0 IPUs\n",
      "\n",
      "  | Name              | Type      | Params\n",
      "------------------------------------------------\n",
      "0 | embedding_user_mf | Embedding | 4.0 K \n",
      "1 | embedding_item_mf | Embedding | 28.8 K\n",
      "2 | l_0               | Linear    | 11    \n",
      "3 | loss_func         | L1Loss    | 0     \n",
      "------------------------------------------------\n",
      "32.8 K    Trainable params\n",
      "0         Non-trainable params\n",
      "32.8 K    Total params\n",
      "0.131     Total estimated model params size (MB)\n"
     ]
    },
    {
     "name": "stdout",
     "output_type": "stream",
     "text": [
      "Epoch 0:   0%|          | 5/2445 [00:00<00:10, 243.63it/s, loss=4.1, v_num=392] "
     ]
    },
    {
     "name": "stderr",
     "output_type": "stream",
     "text": [
      "GPU available: True, used: False\n",
      "TPU available: False, using: 0 TPU cores\n",
      "IPU available: False, using: 0 IPUs\n",
      "\n",
      "  | Name              | Type      | Params\n",
      "------------------------------------------------\n",
      "0 | embedding_user_mf | Embedding | 4.0 K \n",
      "1 | embedding_item_mf | Embedding | 28.8 K\n",
      "2 | l_0               | Linear    | 11    \n",
      "3 | loss_func         | L1Loss    | 0     \n",
      "------------------------------------------------\n",
      "32.8 K    Trainable params\n",
      "0         Non-trainable params\n",
      "32.8 K    Total params\n",
      "0.131     Total estimated model params size (MB)\n"
     ]
    },
    {
     "name": "stdout",
     "output_type": "stream",
     "text": [
      "Epoch 0:   0%|          | 5/2445 [00:00<00:09, 247.65it/s, loss=4.27, v_num=393]"
     ]
    },
    {
     "name": "stderr",
     "output_type": "stream",
     "text": [
      "GPU available: True, used: False\n",
      "TPU available: False, using: 0 TPU cores\n",
      "IPU available: False, using: 0 IPUs\n",
      "\n",
      "  | Name              | Type      | Params\n",
      "------------------------------------------------\n",
      "0 | embedding_user_mf | Embedding | 32.2 K\n",
      "1 | embedding_item_mf | Embedding | 230 K \n",
      "2 | l_0               | Linear    | 81    \n",
      "3 | loss_func         | L1Loss    | 0     \n",
      "------------------------------------------------\n",
      "262 K     Trainable params\n",
      "0         Non-trainable params\n",
      "262 K     Total params\n",
      "1.049     Total estimated model params size (MB)\n"
     ]
    },
    {
     "name": "stdout",
     "output_type": "stream",
     "text": [
      "Epoch 0:   0%|          | 5/2445 [00:00<00:11, 211.20it/s, loss=4.49, v_num=394]"
     ]
    },
    {
     "name": "stderr",
     "output_type": "stream",
     "text": [
      "GPU available: True, used: False\n",
      "TPU available: False, using: 0 TPU cores\n",
      "IPU available: False, using: 0 IPUs\n",
      "\n",
      "  | Name              | Type      | Params\n",
      "------------------------------------------------\n",
      "0 | embedding_user_mf | Embedding | 32.2 K\n",
      "1 | embedding_item_mf | Embedding | 230 K \n",
      "2 | l_0               | Linear    | 81    \n",
      "3 | loss_func         | L1Loss    | 0     \n",
      "------------------------------------------------\n",
      "262 K     Trainable params\n",
      "0         Non-trainable params\n",
      "262 K     Total params\n",
      "1.049     Total estimated model params size (MB)\n"
     ]
    },
    {
     "name": "stdout",
     "output_type": "stream",
     "text": [
      "Epoch 0:   0%|          | 5/2445 [00:00<00:13, 184.55it/s, loss=4.34, v_num=395]"
     ]
    },
    {
     "name": "stderr",
     "output_type": "stream",
     "text": [
      "GPU available: True, used: False\n",
      "TPU available: False, using: 0 TPU cores\n",
      "IPU available: False, using: 0 IPUs\n",
      "\n",
      "  | Name              | Type      | Params\n",
      "------------------------------------------------\n",
      "0 | embedding_user_mf | Embedding | 32.2 K\n",
      "1 | embedding_item_mf | Embedding | 230 K \n",
      "2 | l_0               | Linear    | 81    \n",
      "3 | loss_func         | L1Loss    | 0     \n",
      "------------------------------------------------\n",
      "262 K     Trainable params\n",
      "0         Non-trainable params\n",
      "262 K     Total params\n",
      "1.049     Total estimated model params size (MB)\n"
     ]
    },
    {
     "name": "stdout",
     "output_type": "stream",
     "text": [
      "Epoch 0:   0%|          | 5/2445 [00:00<00:13, 183.20it/s, loss=4.34, v_num=396]"
     ]
    },
    {
     "name": "stderr",
     "output_type": "stream",
     "text": [
      "GPU available: True, used: False\n",
      "TPU available: False, using: 0 TPU cores\n",
      "IPU available: False, using: 0 IPUs\n",
      "\n",
      "  | Name              | Type      | Params\n",
      "------------------------------------------------\n",
      "0 | embedding_user_mf | Embedding | 32.2 K\n",
      "1 | embedding_item_mf | Embedding | 230 K \n",
      "2 | l_0               | Linear    | 81    \n",
      "3 | loss_func         | L1Loss    | 0     \n",
      "------------------------------------------------\n",
      "262 K     Trainable params\n",
      "0         Non-trainable params\n",
      "262 K     Total params\n",
      "1.049     Total estimated model params size (MB)\n"
     ]
    },
    {
     "name": "stdout",
     "output_type": "stream",
     "text": [
      "Epoch 0:   0%|          | 5/2445 [00:00<00:10, 238.51it/s, loss=4.29, v_num=397]"
     ]
    },
    {
     "name": "stderr",
     "output_type": "stream",
     "text": [
      "GPU available: True, used: False\n",
      "TPU available: False, using: 0 TPU cores\n",
      "IPU available: False, using: 0 IPUs\n",
      "\n",
      "  | Name              | Type      | Params\n",
      "------------------------------------------------\n",
      "0 | embedding_user_mf | Embedding | 32.2 K\n",
      "1 | embedding_item_mf | Embedding | 230 K \n",
      "2 | l_0               | Linear    | 81    \n",
      "3 | loss_func         | L1Loss    | 0     \n",
      "------------------------------------------------\n",
      "262 K     Trainable params\n",
      "0         Non-trainable params\n",
      "262 K     Total params\n",
      "1.049     Total estimated model params size (MB)\n"
     ]
    },
    {
     "name": "stdout",
     "output_type": "stream",
     "text": [
      "Epoch 0:   0%|          | 5/2445 [00:00<00:12, 203.05it/s, loss=4.37, v_num=398]"
     ]
    },
    {
     "name": "stderr",
     "output_type": "stream",
     "text": [
      "GPU available: True, used: False\n",
      "TPU available: False, using: 0 TPU cores\n",
      "IPU available: False, using: 0 IPUs\n",
      "\n",
      "  | Name              | Type      | Params\n",
      "------------------------------------------------\n",
      "0 | embedding_user_mf | Embedding | 32.2 K\n",
      "1 | embedding_item_mf | Embedding | 230 K \n",
      "2 | l_0               | Linear    | 81    \n",
      "3 | loss_func         | L1Loss    | 0     \n",
      "------------------------------------------------\n",
      "262 K     Trainable params\n",
      "0         Non-trainable params\n",
      "262 K     Total params\n",
      "1.049     Total estimated model params size (MB)\n"
     ]
    },
    {
     "name": "stdout",
     "output_type": "stream",
     "text": [
      "Epoch 0:   0%|          | 5/2445 [00:00<00:11, 210.58it/s, loss=4.3, v_num=399] "
     ]
    },
    {
     "name": "stderr",
     "output_type": "stream",
     "text": [
      "GPU available: True, used: False\n",
      "TPU available: False, using: 0 TPU cores\n",
      "IPU available: False, using: 0 IPUs\n",
      "\n",
      "  | Name              | Type      | Params\n",
      "------------------------------------------------\n",
      "0 | embedding_user_mf | Embedding | 32.2 K\n",
      "1 | embedding_item_mf | Embedding | 230 K \n",
      "2 | l_0               | Linear    | 81    \n",
      "3 | loss_func         | L1Loss    | 0     \n",
      "------------------------------------------------\n",
      "262 K     Trainable params\n",
      "0         Non-trainable params\n",
      "262 K     Total params\n",
      "1.049     Total estimated model params size (MB)\n"
     ]
    },
    {
     "name": "stdout",
     "output_type": "stream",
     "text": [
      "Epoch 0:   0%|          | 5/2445 [00:00<00:12, 193.06it/s, loss=4.23, v_num=400]"
     ]
    },
    {
     "name": "stderr",
     "output_type": "stream",
     "text": [
      "GPU available: True, used: False\n",
      "TPU available: False, using: 0 TPU cores\n",
      "IPU available: False, using: 0 IPUs\n",
      "\n",
      "  | Name              | Type      | Params\n",
      "------------------------------------------------\n",
      "0 | embedding_user_mf | Embedding | 32.2 K\n",
      "1 | embedding_item_mf | Embedding | 230 K \n",
      "2 | l_0               | Linear    | 81    \n",
      "3 | loss_func         | L1Loss    | 0     \n",
      "------------------------------------------------\n",
      "262 K     Trainable params\n",
      "0         Non-trainable params\n",
      "262 K     Total params\n",
      "1.049     Total estimated model params size (MB)\n"
     ]
    },
    {
     "name": "stdout",
     "output_type": "stream",
     "text": [
      "Epoch 0:   0%|          | 5/2445 [00:00<00:12, 196.38it/s, loss=4.31, v_num=401]"
     ]
    },
    {
     "name": "stderr",
     "output_type": "stream",
     "text": [
      "GPU available: True, used: False\n",
      "TPU available: False, using: 0 TPU cores\n",
      "IPU available: False, using: 0 IPUs\n",
      "\n",
      "  | Name              | Type      | Params\n",
      "------------------------------------------------\n",
      "0 | embedding_user_mf | Embedding | 120 K \n",
      "1 | embedding_item_mf | Embedding | 862 K \n",
      "2 | l_0               | Linear    | 301   \n",
      "3 | loss_func         | L1Loss    | 0     \n",
      "------------------------------------------------\n",
      "983 K     Trainable params\n",
      "0         Non-trainable params\n",
      "983 K     Total params\n",
      "3.935     Total estimated model params size (MB)\n"
     ]
    },
    {
     "name": "stdout",
     "output_type": "stream",
     "text": [
      "Epoch 0:   0%|          | 5/2445 [00:00<00:21, 112.86it/s, loss=4.38, v_num=402]"
     ]
    },
    {
     "name": "stderr",
     "output_type": "stream",
     "text": [
      "GPU available: True, used: False\n",
      "TPU available: False, using: 0 TPU cores\n",
      "IPU available: False, using: 0 IPUs\n",
      "\n",
      "  | Name              | Type      | Params\n",
      "------------------------------------------------\n",
      "0 | embedding_user_mf | Embedding | 120 K \n",
      "1 | embedding_item_mf | Embedding | 862 K \n",
      "2 | l_0               | Linear    | 301   \n",
      "3 | loss_func         | L1Loss    | 0     \n",
      "------------------------------------------------\n",
      "983 K     Trainable params\n",
      "0         Non-trainable params\n",
      "983 K     Total params\n",
      "3.935     Total estimated model params size (MB)\n"
     ]
    },
    {
     "name": "stdout",
     "output_type": "stream",
     "text": [
      "Epoch 0:   0%|          | 5/2445 [00:00<00:16, 143.56it/s, loss=4.39, v_num=403]"
     ]
    },
    {
     "name": "stderr",
     "output_type": "stream",
     "text": [
      "GPU available: True, used: False\n",
      "TPU available: False, using: 0 TPU cores\n",
      "IPU available: False, using: 0 IPUs\n",
      "\n",
      "  | Name              | Type      | Params\n",
      "------------------------------------------------\n",
      "0 | embedding_user_mf | Embedding | 120 K \n",
      "1 | embedding_item_mf | Embedding | 862 K \n",
      "2 | l_0               | Linear    | 301   \n",
      "3 | loss_func         | L1Loss    | 0     \n",
      "------------------------------------------------\n",
      "983 K     Trainable params\n",
      "0         Non-trainable params\n",
      "983 K     Total params\n",
      "3.935     Total estimated model params size (MB)\n"
     ]
    },
    {
     "name": "stdout",
     "output_type": "stream",
     "text": [
      "Epoch 0:   0%|          | 5/2445 [00:00<00:20, 121.10it/s, loss=4.28, v_num=404]"
     ]
    },
    {
     "name": "stderr",
     "output_type": "stream",
     "text": [
      "GPU available: True, used: False\n",
      "TPU available: False, using: 0 TPU cores\n",
      "IPU available: False, using: 0 IPUs\n",
      "\n",
      "  | Name              | Type      | Params\n",
      "------------------------------------------------\n",
      "0 | embedding_user_mf | Embedding | 120 K \n",
      "1 | embedding_item_mf | Embedding | 862 K \n",
      "2 | l_0               | Linear    | 301   \n",
      "3 | loss_func         | L1Loss    | 0     \n",
      "------------------------------------------------\n",
      "983 K     Trainable params\n",
      "0         Non-trainable params\n",
      "983 K     Total params\n",
      "3.935     Total estimated model params size (MB)\n"
     ]
    },
    {
     "name": "stdout",
     "output_type": "stream",
     "text": [
      "Epoch 0:   0%|          | 5/2445 [00:00<00:19, 122.57it/s, loss=4.29, v_num=405]"
     ]
    },
    {
     "name": "stderr",
     "output_type": "stream",
     "text": [
      "GPU available: True, used: False\n",
      "TPU available: False, using: 0 TPU cores\n",
      "IPU available: False, using: 0 IPUs\n",
      "\n",
      "  | Name              | Type      | Params\n",
      "------------------------------------------------\n",
      "0 | embedding_user_mf | Embedding | 120 K \n",
      "1 | embedding_item_mf | Embedding | 862 K \n",
      "2 | l_0               | Linear    | 301   \n",
      "3 | loss_func         | L1Loss    | 0     \n",
      "------------------------------------------------\n",
      "983 K     Trainable params\n",
      "0         Non-trainable params\n",
      "983 K     Total params\n",
      "3.935     Total estimated model params size (MB)\n"
     ]
    },
    {
     "name": "stdout",
     "output_type": "stream",
     "text": [
      "Epoch 0:   0%|          | 5/2445 [00:00<00:20, 120.32it/s, loss=4.55, v_num=406]"
     ]
    },
    {
     "name": "stderr",
     "output_type": "stream",
     "text": [
      "GPU available: True, used: False\n",
      "TPU available: False, using: 0 TPU cores\n",
      "IPU available: False, using: 0 IPUs\n",
      "\n",
      "  | Name              | Type      | Params\n",
      "------------------------------------------------\n",
      "0 | embedding_user_mf | Embedding | 120 K \n",
      "1 | embedding_item_mf | Embedding | 862 K \n",
      "2 | l_0               | Linear    | 301   \n",
      "3 | loss_func         | L1Loss    | 0     \n",
      "------------------------------------------------\n",
      "983 K     Trainable params\n",
      "0         Non-trainable params\n",
      "983 K     Total params\n",
      "3.935     Total estimated model params size (MB)\n"
     ]
    },
    {
     "name": "stdout",
     "output_type": "stream",
     "text": [
      "Epoch 0:   0%|          | 5/2445 [00:00<00:18, 131.31it/s, loss=4.37, v_num=407]"
     ]
    },
    {
     "name": "stderr",
     "output_type": "stream",
     "text": [
      "GPU available: True, used: False\n",
      "TPU available: False, using: 0 TPU cores\n",
      "IPU available: False, using: 0 IPUs\n",
      "\n",
      "  | Name              | Type      | Params\n",
      "------------------------------------------------\n",
      "0 | embedding_user_mf | Embedding | 120 K \n",
      "1 | embedding_item_mf | Embedding | 862 K \n",
      "2 | l_0               | Linear    | 301   \n",
      "3 | loss_func         | L1Loss    | 0     \n",
      "------------------------------------------------\n",
      "983 K     Trainable params\n",
      "0         Non-trainable params\n",
      "983 K     Total params\n",
      "3.935     Total estimated model params size (MB)\n"
     ]
    },
    {
     "name": "stdout",
     "output_type": "stream",
     "text": [
      "Epoch 0:   0%|          | 5/2445 [00:00<00:19, 122.86it/s, loss=4.42, v_num=408]"
     ]
    },
    {
     "name": "stderr",
     "output_type": "stream",
     "text": [
      "GPU available: True, used: False\n",
      "TPU available: False, using: 0 TPU cores\n",
      "IPU available: False, using: 0 IPUs\n",
      "\n",
      "  | Name              | Type      | Params\n",
      "------------------------------------------------\n",
      "0 | embedding_user_mf | Embedding | 120 K \n",
      "1 | embedding_item_mf | Embedding | 862 K \n",
      "2 | l_0               | Linear    | 301   \n",
      "3 | loss_func         | L1Loss    | 0     \n",
      "------------------------------------------------\n",
      "983 K     Trainable params\n",
      "0         Non-trainable params\n",
      "983 K     Total params\n",
      "3.935     Total estimated model params size (MB)\n"
     ]
    },
    {
     "name": "stdout",
     "output_type": "stream",
     "text": [
      "Epoch 0:   0%|          | 5/2445 [00:00<00:20, 121.77it/s, loss=4.36, v_num=409]"
     ]
    },
    {
     "name": "stderr",
     "output_type": "stream",
     "text": [
      "GPU available: True, used: False\n",
      "TPU available: False, using: 0 TPU cores\n",
      "IPU available: False, using: 0 IPUs\n",
      "\n",
      "  | Name              | Type      | Params\n",
      "------------------------------------------------\n",
      "0 | embedding_user_mf | Embedding | 4.0 K \n",
      "1 | embedding_item_mf | Embedding | 28.8 K\n",
      "2 | l_0               | Linear    | 11    \n",
      "3 | loss_func         | L1Loss    | 0     \n",
      "------------------------------------------------\n",
      "32.8 K    Trainable params\n",
      "0         Non-trainable params\n",
      "32.8 K    Total params\n",
      "0.131     Total estimated model params size (MB)\n"
     ]
    },
    {
     "name": "stdout",
     "output_type": "stream",
     "text": [
      "Epoch 0:   0%|          | 5/2445 [00:00<00:09, 261.29it/s, loss=4.31, v_num=410]"
     ]
    },
    {
     "name": "stderr",
     "output_type": "stream",
     "text": [
      "GPU available: True, used: False\n",
      "TPU available: False, using: 0 TPU cores\n",
      "IPU available: False, using: 0 IPUs\n",
      "\n",
      "  | Name              | Type      | Params\n",
      "------------------------------------------------\n",
      "0 | embedding_user_mf | Embedding | 4.0 K \n",
      "1 | embedding_item_mf | Embedding | 28.8 K\n",
      "2 | l_0               | Linear    | 11    \n",
      "3 | loss_func         | L1Loss    | 0     \n",
      "------------------------------------------------\n",
      "32.8 K    Trainable params\n",
      "0         Non-trainable params\n",
      "32.8 K    Total params\n",
      "0.131     Total estimated model params size (MB)\n"
     ]
    },
    {
     "name": "stdout",
     "output_type": "stream",
     "text": [
      "Epoch 0:   0%|          | 5/2445 [00:00<00:09, 261.89it/s, loss=4.63, v_num=411]"
     ]
    },
    {
     "name": "stderr",
     "output_type": "stream",
     "text": [
      "GPU available: True, used: False\n",
      "TPU available: False, using: 0 TPU cores\n",
      "IPU available: False, using: 0 IPUs\n",
      "\n",
      "  | Name              | Type      | Params\n",
      "------------------------------------------------\n",
      "0 | embedding_user_mf | Embedding | 4.0 K \n",
      "1 | embedding_item_mf | Embedding | 28.8 K\n",
      "2 | l_0               | Linear    | 11    \n",
      "3 | loss_func         | L1Loss    | 0     \n",
      "------------------------------------------------\n",
      "32.8 K    Trainable params\n",
      "0         Non-trainable params\n",
      "32.8 K    Total params\n",
      "0.131     Total estimated model params size (MB)\n"
     ]
    },
    {
     "name": "stdout",
     "output_type": "stream",
     "text": [
      "Epoch 0:   0%|          | 5/2445 [00:00<00:09, 257.54it/s, loss=4.36, v_num=412]"
     ]
    },
    {
     "name": "stderr",
     "output_type": "stream",
     "text": [
      "GPU available: True, used: False\n",
      "TPU available: False, using: 0 TPU cores\n",
      "IPU available: False, using: 0 IPUs\n",
      "\n",
      "  | Name              | Type      | Params\n",
      "------------------------------------------------\n",
      "0 | embedding_user_mf | Embedding | 4.0 K \n",
      "1 | embedding_item_mf | Embedding | 28.8 K\n",
      "2 | l_0               | Linear    | 11    \n",
      "3 | loss_func         | L1Loss    | 0     \n",
      "------------------------------------------------\n",
      "32.8 K    Trainable params\n",
      "0         Non-trainable params\n",
      "32.8 K    Total params\n",
      "0.131     Total estimated model params size (MB)\n"
     ]
    },
    {
     "name": "stdout",
     "output_type": "stream",
     "text": [
      "Epoch 0:   0%|          | 5/2445 [00:00<00:09, 268.74it/s, loss=4.66, v_num=413]"
     ]
    },
    {
     "name": "stderr",
     "output_type": "stream",
     "text": [
      "GPU available: True, used: False\n",
      "TPU available: False, using: 0 TPU cores\n",
      "IPU available: False, using: 0 IPUs\n",
      "\n",
      "  | Name              | Type      | Params\n",
      "------------------------------------------------\n",
      "0 | embedding_user_mf | Embedding | 4.0 K \n",
      "1 | embedding_item_mf | Embedding | 28.8 K\n",
      "2 | l_0               | Linear    | 11    \n",
      "3 | loss_func         | L1Loss    | 0     \n",
      "------------------------------------------------\n",
      "32.8 K    Trainable params\n",
      "0         Non-trainable params\n",
      "32.8 K    Total params\n",
      "0.131     Total estimated model params size (MB)\n"
     ]
    },
    {
     "name": "stdout",
     "output_type": "stream",
     "text": [
      "Epoch 0:   0%|          | 5/2445 [00:00<00:08, 281.13it/s, loss=4.54, v_num=414]"
     ]
    },
    {
     "name": "stderr",
     "output_type": "stream",
     "text": [
      "GPU available: True, used: False\n",
      "TPU available: False, using: 0 TPU cores\n",
      "IPU available: False, using: 0 IPUs\n",
      "\n",
      "  | Name              | Type      | Params\n",
      "------------------------------------------------\n",
      "0 | embedding_user_mf | Embedding | 4.0 K \n",
      "1 | embedding_item_mf | Embedding | 28.8 K\n",
      "2 | l_0               | Linear    | 11    \n",
      "3 | loss_func         | L1Loss    | 0     \n",
      "------------------------------------------------\n",
      "32.8 K    Trainable params\n",
      "0         Non-trainable params\n",
      "32.8 K    Total params\n",
      "0.131     Total estimated model params size (MB)\n"
     ]
    },
    {
     "name": "stdout",
     "output_type": "stream",
     "text": [
      "Epoch 0:   0%|          | 5/2445 [00:00<00:09, 267.69it/s, loss=4.41, v_num=415]"
     ]
    },
    {
     "name": "stderr",
     "output_type": "stream",
     "text": [
      "GPU available: True, used: False\n",
      "TPU available: False, using: 0 TPU cores\n",
      "IPU available: False, using: 0 IPUs\n",
      "\n",
      "  | Name              | Type      | Params\n",
      "------------------------------------------------\n",
      "0 | embedding_user_mf | Embedding | 4.0 K \n",
      "1 | embedding_item_mf | Embedding | 28.8 K\n",
      "2 | l_0               | Linear    | 11    \n",
      "3 | loss_func         | L1Loss    | 0     \n",
      "------------------------------------------------\n",
      "32.8 K    Trainable params\n",
      "0         Non-trainable params\n",
      "32.8 K    Total params\n",
      "0.131     Total estimated model params size (MB)\n"
     ]
    },
    {
     "name": "stdout",
     "output_type": "stream",
     "text": [
      "Epoch 0:   0%|          | 5/2445 [00:00<00:09, 250.60it/s, loss=4.6, v_num=416] "
     ]
    },
    {
     "name": "stderr",
     "output_type": "stream",
     "text": [
      "GPU available: True, used: False\n",
      "TPU available: False, using: 0 TPU cores\n",
      "IPU available: False, using: 0 IPUs\n",
      "\n",
      "  | Name              | Type      | Params\n",
      "------------------------------------------------\n",
      "0 | embedding_user_mf | Embedding | 4.0 K \n",
      "1 | embedding_item_mf | Embedding | 28.8 K\n",
      "2 | l_0               | Linear    | 11    \n",
      "3 | loss_func         | L1Loss    | 0     \n",
      "------------------------------------------------\n",
      "32.8 K    Trainable params\n",
      "0         Non-trainable params\n",
      "32.8 K    Total params\n",
      "0.131     Total estimated model params size (MB)\n"
     ]
    },
    {
     "name": "stdout",
     "output_type": "stream",
     "text": [
      "Epoch 0:   0%|          | 5/2445 [00:00<00:10, 237.08it/s, loss=4.23, v_num=417]"
     ]
    },
    {
     "name": "stderr",
     "output_type": "stream",
     "text": [
      "GPU available: True, used: False\n",
      "TPU available: False, using: 0 TPU cores\n",
      "IPU available: False, using: 0 IPUs\n",
      "\n",
      "  | Name              | Type      | Params\n",
      "------------------------------------------------\n",
      "0 | embedding_user_mf | Embedding | 32.2 K\n",
      "1 | embedding_item_mf | Embedding | 230 K \n",
      "2 | l_0               | Linear    | 81    \n",
      "3 | loss_func         | L1Loss    | 0     \n",
      "------------------------------------------------\n",
      "262 K     Trainable params\n",
      "0         Non-trainable params\n",
      "262 K     Total params\n",
      "1.049     Total estimated model params size (MB)\n"
     ]
    },
    {
     "name": "stdout",
     "output_type": "stream",
     "text": [
      "Epoch 0:   0%|          | 5/2445 [00:00<00:13, 186.31it/s, loss=4.31, v_num=418]"
     ]
    },
    {
     "name": "stderr",
     "output_type": "stream",
     "text": [
      "GPU available: True, used: False\n",
      "TPU available: False, using: 0 TPU cores\n",
      "IPU available: False, using: 0 IPUs\n",
      "\n",
      "  | Name              | Type      | Params\n",
      "------------------------------------------------\n",
      "0 | embedding_user_mf | Embedding | 32.2 K\n",
      "1 | embedding_item_mf | Embedding | 230 K \n",
      "2 | l_0               | Linear    | 81    \n",
      "3 | loss_func         | L1Loss    | 0     \n",
      "------------------------------------------------\n",
      "262 K     Trainable params\n",
      "0         Non-trainable params\n",
      "262 K     Total params\n",
      "1.049     Total estimated model params size (MB)\n"
     ]
    },
    {
     "name": "stdout",
     "output_type": "stream",
     "text": [
      "Epoch 0:   0%|          | 5/2445 [00:00<00:12, 193.45it/s, loss=4.32, v_num=419]"
     ]
    },
    {
     "name": "stderr",
     "output_type": "stream",
     "text": [
      "GPU available: True, used: False\n",
      "TPU available: False, using: 0 TPU cores\n",
      "IPU available: False, using: 0 IPUs\n",
      "\n",
      "  | Name              | Type      | Params\n",
      "------------------------------------------------\n",
      "0 | embedding_user_mf | Embedding | 32.2 K\n",
      "1 | embedding_item_mf | Embedding | 230 K \n",
      "2 | l_0               | Linear    | 81    \n",
      "3 | loss_func         | L1Loss    | 0     \n",
      "------------------------------------------------\n",
      "262 K     Trainable params\n",
      "0         Non-trainable params\n",
      "262 K     Total params\n",
      "1.049     Total estimated model params size (MB)\n"
     ]
    },
    {
     "name": "stdout",
     "output_type": "stream",
     "text": [
      "Epoch 0:   0%|          | 5/2445 [00:00<00:12, 192.55it/s, loss=4.42, v_num=420]"
     ]
    },
    {
     "name": "stderr",
     "output_type": "stream",
     "text": [
      "GPU available: True, used: False\n",
      "TPU available: False, using: 0 TPU cores\n",
      "IPU available: False, using: 0 IPUs\n",
      "\n",
      "  | Name              | Type      | Params\n",
      "------------------------------------------------\n",
      "0 | embedding_user_mf | Embedding | 32.2 K\n",
      "1 | embedding_item_mf | Embedding | 230 K \n",
      "2 | l_0               | Linear    | 81    \n",
      "3 | loss_func         | L1Loss    | 0     \n",
      "------------------------------------------------\n",
      "262 K     Trainable params\n",
      "0         Non-trainable params\n",
      "262 K     Total params\n",
      "1.049     Total estimated model params size (MB)\n"
     ]
    },
    {
     "name": "stdout",
     "output_type": "stream",
     "text": [
      "Epoch 0:   0%|          | 5/2445 [00:00<00:10, 223.67it/s, loss=4.41, v_num=421]"
     ]
    },
    {
     "name": "stderr",
     "output_type": "stream",
     "text": [
      "GPU available: True, used: False\n",
      "TPU available: False, using: 0 TPU cores\n",
      "IPU available: False, using: 0 IPUs\n",
      "\n",
      "  | Name              | Type      | Params\n",
      "------------------------------------------------\n",
      "0 | embedding_user_mf | Embedding | 32.2 K\n",
      "1 | embedding_item_mf | Embedding | 230 K \n",
      "2 | l_0               | Linear    | 81    \n",
      "3 | loss_func         | L1Loss    | 0     \n",
      "------------------------------------------------\n",
      "262 K     Trainable params\n",
      "0         Non-trainable params\n",
      "262 K     Total params\n",
      "1.049     Total estimated model params size (MB)\n"
     ]
    },
    {
     "name": "stdout",
     "output_type": "stream",
     "text": [
      "Epoch 0:   0%|          | 5/2445 [00:00<00:12, 199.07it/s, loss=4.44, v_num=422]"
     ]
    },
    {
     "name": "stderr",
     "output_type": "stream",
     "text": [
      "GPU available: True, used: False\n",
      "TPU available: False, using: 0 TPU cores\n",
      "IPU available: False, using: 0 IPUs\n",
      "\n",
      "  | Name              | Type      | Params\n",
      "------------------------------------------------\n",
      "0 | embedding_user_mf | Embedding | 32.2 K\n",
      "1 | embedding_item_mf | Embedding | 230 K \n",
      "2 | l_0               | Linear    | 81    \n",
      "3 | loss_func         | L1Loss    | 0     \n",
      "------------------------------------------------\n",
      "262 K     Trainable params\n",
      "0         Non-trainable params\n",
      "262 K     Total params\n",
      "1.049     Total estimated model params size (MB)\n"
     ]
    },
    {
     "name": "stdout",
     "output_type": "stream",
     "text": [
      "Epoch 0:   0%|          | 5/2445 [00:00<00:12, 189.75it/s, loss=4.09, v_num=423]"
     ]
    },
    {
     "name": "stderr",
     "output_type": "stream",
     "text": [
      "GPU available: True, used: False\n",
      "TPU available: False, using: 0 TPU cores\n",
      "IPU available: False, using: 0 IPUs\n",
      "\n",
      "  | Name              | Type      | Params\n",
      "------------------------------------------------\n",
      "0 | embedding_user_mf | Embedding | 32.2 K\n",
      "1 | embedding_item_mf | Embedding | 230 K \n",
      "2 | l_0               | Linear    | 81    \n",
      "3 | loss_func         | L1Loss    | 0     \n",
      "------------------------------------------------\n",
      "262 K     Trainable params\n",
      "0         Non-trainable params\n",
      "262 K     Total params\n",
      "1.049     Total estimated model params size (MB)\n"
     ]
    },
    {
     "name": "stdout",
     "output_type": "stream",
     "text": [
      "Epoch 0:   0%|          | 5/2445 [00:00<00:12, 189.25it/s, loss=4.41, v_num=424]"
     ]
    },
    {
     "name": "stderr",
     "output_type": "stream",
     "text": [
      "GPU available: True, used: False\n",
      "TPU available: False, using: 0 TPU cores\n",
      "IPU available: False, using: 0 IPUs\n",
      "\n",
      "  | Name              | Type      | Params\n",
      "------------------------------------------------\n",
      "0 | embedding_user_mf | Embedding | 32.2 K\n",
      "1 | embedding_item_mf | Embedding | 230 K \n",
      "2 | l_0               | Linear    | 81    \n",
      "3 | loss_func         | L1Loss    | 0     \n",
      "------------------------------------------------\n",
      "262 K     Trainable params\n",
      "0         Non-trainable params\n",
      "262 K     Total params\n",
      "1.049     Total estimated model params size (MB)\n"
     ]
    },
    {
     "name": "stdout",
     "output_type": "stream",
     "text": [
      "Epoch 0:   0%|          | 5/2445 [00:00<00:13, 185.78it/s, loss=4.22, v_num=425]"
     ]
    },
    {
     "name": "stderr",
     "output_type": "stream",
     "text": [
      "GPU available: True, used: False\n",
      "TPU available: False, using: 0 TPU cores\n",
      "IPU available: False, using: 0 IPUs\n",
      "\n",
      "  | Name              | Type      | Params\n",
      "------------------------------------------------\n",
      "0 | embedding_user_mf | Embedding | 120 K \n",
      "1 | embedding_item_mf | Embedding | 862 K \n",
      "2 | l_0               | Linear    | 301   \n",
      "3 | loss_func         | L1Loss    | 0     \n",
      "------------------------------------------------\n",
      "983 K     Trainable params\n",
      "0         Non-trainable params\n",
      "983 K     Total params\n",
      "3.935     Total estimated model params size (MB)\n"
     ]
    },
    {
     "name": "stdout",
     "output_type": "stream",
     "text": [
      "Epoch 0:   0%|          | 5/2445 [00:00<00:20, 119.81it/s, loss=4.14, v_num=426]"
     ]
    },
    {
     "name": "stderr",
     "output_type": "stream",
     "text": [
      "GPU available: True, used: False\n",
      "TPU available: False, using: 0 TPU cores\n",
      "IPU available: False, using: 0 IPUs\n",
      "\n",
      "  | Name              | Type      | Params\n",
      "------------------------------------------------\n",
      "0 | embedding_user_mf | Embedding | 120 K \n",
      "1 | embedding_item_mf | Embedding | 862 K \n",
      "2 | l_0               | Linear    | 301   \n",
      "3 | loss_func         | L1Loss    | 0     \n",
      "------------------------------------------------\n",
      "983 K     Trainable params\n",
      "0         Non-trainable params\n",
      "983 K     Total params\n",
      "3.935     Total estimated model params size (MB)\n"
     ]
    },
    {
     "name": "stdout",
     "output_type": "stream",
     "text": [
      "Epoch 0:   0%|          | 5/2445 [00:00<00:20, 120.51it/s, loss=4.37, v_num=427]"
     ]
    },
    {
     "name": "stderr",
     "output_type": "stream",
     "text": [
      "GPU available: True, used: False\n",
      "TPU available: False, using: 0 TPU cores\n",
      "IPU available: False, using: 0 IPUs\n",
      "\n",
      "  | Name              | Type      | Params\n",
      "------------------------------------------------\n",
      "0 | embedding_user_mf | Embedding | 120 K \n",
      "1 | embedding_item_mf | Embedding | 862 K \n",
      "2 | l_0               | Linear    | 301   \n",
      "3 | loss_func         | L1Loss    | 0     \n",
      "------------------------------------------------\n",
      "983 K     Trainable params\n",
      "0         Non-trainable params\n",
      "983 K     Total params\n",
      "3.935     Total estimated model params size (MB)\n"
     ]
    },
    {
     "name": "stdout",
     "output_type": "stream",
     "text": [
      "Epoch 0:   0%|          | 5/2445 [00:00<00:20, 118.29it/s, loss=4.31, v_num=428]"
     ]
    },
    {
     "name": "stderr",
     "output_type": "stream",
     "text": [
      "GPU available: True, used: False\n",
      "TPU available: False, using: 0 TPU cores\n",
      "IPU available: False, using: 0 IPUs\n",
      "\n",
      "  | Name              | Type      | Params\n",
      "------------------------------------------------\n",
      "0 | embedding_user_mf | Embedding | 120 K \n",
      "1 | embedding_item_mf | Embedding | 862 K \n",
      "2 | l_0               | Linear    | 301   \n",
      "3 | loss_func         | L1Loss    | 0     \n",
      "------------------------------------------------\n",
      "983 K     Trainable params\n",
      "0         Non-trainable params\n",
      "983 K     Total params\n",
      "3.935     Total estimated model params size (MB)\n"
     ]
    },
    {
     "name": "stdout",
     "output_type": "stream",
     "text": [
      "Epoch 0:   0%|          | 5/2445 [00:00<00:19, 124.38it/s, loss=4.22, v_num=429]"
     ]
    },
    {
     "name": "stderr",
     "output_type": "stream",
     "text": [
      "GPU available: True, used: False\n",
      "TPU available: False, using: 0 TPU cores\n",
      "IPU available: False, using: 0 IPUs\n",
      "\n",
      "  | Name              | Type      | Params\n",
      "------------------------------------------------\n",
      "0 | embedding_user_mf | Embedding | 120 K \n",
      "1 | embedding_item_mf | Embedding | 862 K \n",
      "2 | l_0               | Linear    | 301   \n",
      "3 | loss_func         | L1Loss    | 0     \n",
      "------------------------------------------------\n",
      "983 K     Trainable params\n",
      "0         Non-trainable params\n",
      "983 K     Total params\n",
      "3.935     Total estimated model params size (MB)\n"
     ]
    },
    {
     "name": "stdout",
     "output_type": "stream",
     "text": [
      "Epoch 0:   0%|          | 5/2445 [00:00<00:20, 121.70it/s, loss=4.31, v_num=430]"
     ]
    },
    {
     "name": "stderr",
     "output_type": "stream",
     "text": [
      "GPU available: True, used: False\n",
      "TPU available: False, using: 0 TPU cores\n",
      "IPU available: False, using: 0 IPUs\n",
      "\n",
      "  | Name              | Type      | Params\n",
      "------------------------------------------------\n",
      "0 | embedding_user_mf | Embedding | 120 K \n",
      "1 | embedding_item_mf | Embedding | 862 K \n",
      "2 | l_0               | Linear    | 301   \n",
      "3 | loss_func         | L1Loss    | 0     \n",
      "------------------------------------------------\n",
      "983 K     Trainable params\n",
      "0         Non-trainable params\n",
      "983 K     Total params\n",
      "3.935     Total estimated model params size (MB)\n"
     ]
    },
    {
     "name": "stdout",
     "output_type": "stream",
     "text": [
      "Epoch 0:   0%|          | 5/2445 [00:00<00:20, 116.88it/s, loss=4.36, v_num=431]"
     ]
    },
    {
     "name": "stderr",
     "output_type": "stream",
     "text": [
      "GPU available: True, used: False\n",
      "TPU available: False, using: 0 TPU cores\n",
      "IPU available: False, using: 0 IPUs\n",
      "\n",
      "  | Name              | Type      | Params\n",
      "------------------------------------------------\n",
      "0 | embedding_user_mf | Embedding | 120 K \n",
      "1 | embedding_item_mf | Embedding | 862 K \n",
      "2 | l_0               | Linear    | 301   \n",
      "3 | loss_func         | L1Loss    | 0     \n",
      "------------------------------------------------\n",
      "983 K     Trainable params\n",
      "0         Non-trainable params\n",
      "983 K     Total params\n",
      "3.935     Total estimated model params size (MB)\n"
     ]
    },
    {
     "name": "stdout",
     "output_type": "stream",
     "text": [
      "Epoch 0:   0%|          | 5/2445 [00:00<00:19, 126.20it/s, loss=4.29, v_num=432]"
     ]
    },
    {
     "name": "stderr",
     "output_type": "stream",
     "text": [
      "GPU available: True, used: False\n",
      "TPU available: False, using: 0 TPU cores\n",
      "IPU available: False, using: 0 IPUs\n",
      "\n",
      "  | Name              | Type      | Params\n",
      "------------------------------------------------\n",
      "0 | embedding_user_mf | Embedding | 120 K \n",
      "1 | embedding_item_mf | Embedding | 862 K \n",
      "2 | l_0               | Linear    | 301   \n",
      "3 | loss_func         | L1Loss    | 0     \n",
      "------------------------------------------------\n",
      "983 K     Trainable params\n",
      "0         Non-trainable params\n",
      "983 K     Total params\n",
      "3.935     Total estimated model params size (MB)\n"
     ]
    },
    {
     "name": "stdout",
     "output_type": "stream",
     "text": [
      "Epoch 0:   0%|          | 5/2445 [00:00<00:20, 118.54it/s, loss=4.31, v_num=433]"
     ]
    },
    {
     "name": "stderr",
     "output_type": "stream",
     "text": [
      "GPU available: True, used: False\n",
      "TPU available: False, using: 0 TPU cores\n",
      "IPU available: False, using: 0 IPUs\n"
     ]
    },
    {
     "name": "stdout",
     "output_type": "stream",
     "text": [
      "0.01\n"
     ]
    },
    {
     "name": "stderr",
     "output_type": "stream",
     "text": [
      "\n",
      "  | Name      | Type    | Params\n",
      "--------------------------------------\n",
      "0 | encoder   | Linear  | 28.8 K\n",
      "1 | act_1     | PReLU   | 1     \n",
      "2 | decoder   | Linear  | 31.6 K\n",
      "3 | act_2     | PReLU   | 1     \n",
      "4 | loss_func | MSELoss | 0     \n",
      "--------------------------------------\n",
      "60.4 K    Trainable params\n",
      "0         Non-trainable params\n",
      "60.4 K    Total params\n",
      "0.242     Total estimated model params size (MB)\n"
     ]
    },
    {
     "name": "stdout",
     "output_type": "stream",
     "text": [
      "Epoch 0:  50%|█████     | 41/82 [00:00<00:00, 73.76it/s, loss=1.53, v_num=434]\n",
      "Validating: 0it [00:00, ?it/s]\u001B[A\n",
      "Epoch 0: 100%|██████████| 82/82 [00:00<00:00, 134.60it/s, loss=1.53, v_num=434]\n",
      "Epoch 1:  50%|█████     | 41/82 [00:00<00:00, 82.65it/s, loss=1.51, v_num=434] \n",
      "Validating: 0it [00:00, ?it/s]\u001B[A\n",
      "Epoch 1: 100%|██████████| 82/82 [00:00<00:00, 147.98it/s, loss=1.51, v_num=434]\n",
      "Epoch 2:  50%|█████     | 41/82 [00:00<00:00, 75.51it/s, loss=1.41, v_num=434] \n",
      "Validating: 0it [00:00, ?it/s]\u001B[A\n",
      "Epoch 2: 100%|██████████| 82/82 [00:00<00:00, 133.02it/s, loss=1.41, v_num=434]\n",
      "Epoch 3:  50%|█████     | 41/82 [00:00<00:00, 78.74it/s, loss=1.36, v_num=434] \n",
      "Validating: 0it [00:00, ?it/s]\u001B[A\n",
      "Epoch 3: 100%|██████████| 82/82 [00:00<00:00, 138.61it/s, loss=1.36, v_num=434]\n",
      "Epoch 4:  50%|█████     | 41/82 [00:00<00:00, 77.10it/s, loss=1.31, v_num=434] \n",
      "Validating: 0it [00:00, ?it/s]\u001B[A\n",
      "Epoch 4: 100%|██████████| 82/82 [00:00<00:00, 139.55it/s, loss=1.31, v_num=434]\n",
      "Epoch 5:  50%|█████     | 41/82 [00:00<00:00, 80.58it/s, loss=1.16, v_num=434] \n",
      "Validating: 0it [00:00, ?it/s]\u001B[A\n",
      "Epoch 5: 100%|██████████| 82/82 [00:00<00:00, 144.62it/s, loss=1.16, v_num=434]\n",
      "Epoch 6:  50%|█████     | 41/82 [00:00<00:00, 82.02it/s, loss=1.14, v_num=434] \n",
      "Validating: 0it [00:00, ?it/s]\u001B[A\n",
      "Epoch 6: 100%|██████████| 82/82 [00:00<00:00, 143.64it/s, loss=1.14, v_num=434]\n",
      "Epoch 7:  50%|█████     | 41/82 [00:00<00:00, 80.42it/s, loss=1.09, v_num=434] \n",
      "Validating: 0it [00:00, ?it/s]\u001B[A\n",
      "Epoch 7: 100%|██████████| 82/82 [00:00<00:00, 145.32it/s, loss=1.09, v_num=434]\n",
      "Epoch 8:  50%|█████     | 41/82 [00:00<00:00, 74.39it/s, loss=1.01, v_num=434] \n",
      "Validating: 0it [00:00, ?it/s]\u001B[A\n",
      "Epoch 8: 100%|██████████| 82/82 [00:00<00:00, 131.84it/s, loss=1.01, v_num=434]\n",
      "Epoch 9:  50%|█████     | 41/82 [00:00<00:00, 75.95it/s, loss=0.939, v_num=434]\n",
      "Validating: 0it [00:00, ?it/s]\u001B[A\n",
      "Epoch 9: 100%|██████████| 82/82 [00:00<00:00, 137.60it/s, loss=0.939, v_num=434]\n",
      "Epoch 9: 100%|██████████| 82/82 [00:00<00:00, 136.13it/s, loss=0.939, v_num=434]\n"
     ]
    },
    {
     "name": "stderr",
     "output_type": "stream",
     "text": [
      "GPU available: True, used: False\n",
      "TPU available: False, using: 0 TPU cores\n",
      "IPU available: False, using: 0 IPUs\n"
     ]
    },
    {
     "name": "stdout",
     "output_type": "stream",
     "text": [
      "0.1\n"
     ]
    },
    {
     "name": "stderr",
     "output_type": "stream",
     "text": [
      "\n",
      "  | Name      | Type    | Params\n",
      "--------------------------------------\n",
      "0 | encoder   | Linear  | 28.8 K\n",
      "1 | act_1     | PReLU   | 1     \n",
      "2 | decoder   | Linear  | 31.6 K\n",
      "3 | act_2     | PReLU   | 1     \n",
      "4 | loss_func | MSELoss | 0     \n",
      "--------------------------------------\n",
      "60.4 K    Trainable params\n",
      "0         Non-trainable params\n",
      "60.4 K    Total params\n",
      "0.242     Total estimated model params size (MB)\n"
     ]
    },
    {
     "name": "stdout",
     "output_type": "stream",
     "text": [
      "Epoch 0:  50%|█████     | 41/82 [00:00<00:00, 80.90it/s, loss=1.55, v_num=435]\n",
      "Validating: 0it [00:00, ?it/s]\u001B[A\n",
      "Epoch 0: 100%|██████████| 82/82 [00:00<00:00, 144.67it/s, loss=1.55, v_num=435]\n",
      "Epoch 1:  50%|█████     | 41/82 [00:00<00:00, 75.15it/s, loss=1.44, v_num=435] \n",
      "Validating: 0it [00:00, ?it/s]\u001B[A\n",
      "Epoch 1: 100%|██████████| 82/82 [00:00<00:00, 133.52it/s, loss=1.44, v_num=435]\n",
      "Epoch 2:  50%|█████     | 41/82 [00:00<00:00, 76.04it/s, loss=1.54, v_num=435] \n",
      "Validating: 0it [00:00, ?it/s]\u001B[A\n",
      "Epoch 2: 100%|██████████| 82/82 [00:00<00:00, 134.61it/s, loss=1.54, v_num=435]\n",
      "Epoch 3:  50%|█████     | 41/82 [00:00<00:00, 82.19it/s, loss=1.4, v_num=435]  \n",
      "Validating: 0it [00:00, ?it/s]\u001B[A\n",
      "Epoch 3: 100%|██████████| 82/82 [00:00<00:00, 147.03it/s, loss=1.4, v_num=435]\n",
      "Epoch 4:  50%|█████     | 41/82 [00:00<00:00, 67.42it/s, loss=1.4, v_num=435] \n",
      "Validating: 0it [00:00, ?it/s]\u001B[A\n",
      "Epoch 4: 100%|██████████| 82/82 [00:00<00:00, 121.05it/s, loss=1.4, v_num=435]\n",
      "Epoch 5:  50%|█████     | 41/82 [00:00<00:00, 71.18it/s, loss=1.32, v_num=435]\n",
      "Validating: 0it [00:00, ?it/s]\u001B[A\n",
      "Epoch 5: 100%|██████████| 82/82 [00:00<00:00, 130.04it/s, loss=1.32, v_num=435]\n",
      "Epoch 6:  50%|█████     | 41/82 [00:00<00:00, 76.93it/s, loss=1.28, v_num=435] \n",
      "Validating: 0it [00:00, ?it/s]\u001B[A\n",
      "Epoch 6: 100%|██████████| 82/82 [00:00<00:00, 132.41it/s, loss=1.28, v_num=435]\n",
      "Epoch 7:  50%|█████     | 41/82 [00:00<00:00, 75.82it/s, loss=1.22, v_num=435] \n",
      "Validating: 0it [00:00, ?it/s]\u001B[A\n",
      "Epoch 7: 100%|██████████| 82/82 [00:00<00:00, 134.48it/s, loss=1.22, v_num=435]\n",
      "Epoch 8:  50%|█████     | 41/82 [00:00<00:00, 78.87it/s, loss=1.11, v_num=435] \n",
      "Validating: 0it [00:00, ?it/s]\u001B[A\n",
      "Epoch 8: 100%|██████████| 82/82 [00:00<00:00, 139.49it/s, loss=1.11, v_num=435]\n",
      "Epoch 9:  50%|█████     | 41/82 [00:00<00:00, 65.79it/s, loss=1.17, v_num=435] \n",
      "Validating: 0it [00:00, ?it/s]\u001B[A\n",
      "Epoch 9: 100%|██████████| 82/82 [00:00<00:00, 118.75it/s, loss=1.17, v_num=435]\n",
      "Epoch 9: 100%|██████████| 82/82 [00:00<00:00, 117.60it/s, loss=1.17, v_num=435]\n"
     ]
    },
    {
     "name": "stderr",
     "output_type": "stream",
     "text": [
      "GPU available: True, used: False\n",
      "TPU available: False, using: 0 TPU cores\n",
      "IPU available: False, using: 0 IPUs\n"
     ]
    },
    {
     "name": "stdout",
     "output_type": "stream",
     "text": [
      "1\n"
     ]
    },
    {
     "name": "stderr",
     "output_type": "stream",
     "text": [
      "\n",
      "  | Name      | Type    | Params\n",
      "--------------------------------------\n",
      "0 | encoder   | Linear  | 28.8 K\n",
      "1 | act_1     | PReLU   | 1     \n",
      "2 | decoder   | Linear  | 31.6 K\n",
      "3 | act_2     | PReLU   | 1     \n",
      "4 | loss_func | MSELoss | 0     \n",
      "--------------------------------------\n",
      "60.4 K    Trainable params\n",
      "0         Non-trainable params\n",
      "60.4 K    Total params\n",
      "0.242     Total estimated model params size (MB)\n"
     ]
    },
    {
     "name": "stdout",
     "output_type": "stream",
     "text": [
      "Epoch 0:  50%|█████     | 41/82 [00:00<00:00, 75.27it/s, loss=1.49, v_num=436]\n",
      "Validating: 0it [00:00, ?it/s]\u001B[A\n",
      "Epoch 0: 100%|██████████| 82/82 [00:00<00:00, 136.09it/s, loss=1.49, v_num=436]\n",
      "Epoch 1:  50%|█████     | 41/82 [00:00<00:00, 78.30it/s, loss=1.5, v_num=436]  \n",
      "Validating: 0it [00:00, ?it/s]\u001B[A\n",
      "Epoch 1: 100%|██████████| 82/82 [00:00<00:00, 138.54it/s, loss=1.5, v_num=436]\n",
      "Epoch 2:  50%|█████     | 41/82 [00:00<00:00, 76.48it/s, loss=1.53, v_num=436]\n",
      "Validating: 0it [00:00, ?it/s]\u001B[A\n",
      "Epoch 2: 100%|██████████| 82/82 [00:00<00:00, 135.32it/s, loss=1.53, v_num=436]\n",
      "Epoch 3:  50%|█████     | 41/82 [00:00<00:00, 81.23it/s, loss=1.48, v_num=436] \n",
      "Validating: 0it [00:00, ?it/s]\u001B[A\n",
      "Epoch 3: 100%|██████████| 82/82 [00:00<00:00, 145.65it/s, loss=1.48, v_num=436]\n",
      "Epoch 4:  50%|█████     | 41/82 [00:00<00:00, 77.34it/s, loss=1.48, v_num=436] \n",
      "Validating: 0it [00:00, ?it/s]\u001B[A\n",
      "Epoch 4: 100%|██████████| 82/82 [00:00<00:00, 137.16it/s, loss=1.48, v_num=436]\n",
      "Epoch 5:  50%|█████     | 41/82 [00:00<00:00, 79.29it/s, loss=1.52, v_num=436] \n",
      "Validating: 0it [00:00, ?it/s]\u001B[A\n",
      "Epoch 5: 100%|██████████| 82/82 [00:00<00:00, 140.26it/s, loss=1.52, v_num=436]\n",
      "Epoch 6:  50%|█████     | 41/82 [00:00<00:00, 77.18it/s, loss=1.47, v_num=436] \n",
      "Validating: 0it [00:00, ?it/s]\u001B[A\n",
      "Epoch 6: 100%|██████████| 82/82 [00:00<00:00, 137.80it/s, loss=1.47, v_num=436]\n",
      "Epoch 7:  50%|█████     | 41/82 [00:00<00:00, 78.28it/s, loss=1.52, v_num=436] \n",
      "Validating: 0it [00:00, ?it/s]\u001B[A\n",
      "Epoch 7: 100%|██████████| 82/82 [00:00<00:00, 138.93it/s, loss=1.52, v_num=436]\n",
      "Epoch 8:  50%|█████     | 41/82 [00:00<00:00, 76.92it/s, loss=1.32, v_num=436] \n",
      "Validating: 0it [00:00, ?it/s]\u001B[A\n",
      "Epoch 8: 100%|██████████| 82/82 [00:00<00:00, 137.87it/s, loss=1.32, v_num=436]\n",
      "Epoch 9:  50%|█████     | 41/82 [00:00<00:00, 76.09it/s, loss=1.26, v_num=436] \n",
      "Validating: 0it [00:00, ?it/s]\u001B[A\n",
      "Epoch 9: 100%|██████████| 82/82 [00:00<00:00, 138.22it/s, loss=1.26, v_num=436]\n",
      "Epoch 9: 100%|██████████| 82/82 [00:00<00:00, 136.83it/s, loss=1.26, v_num=436]\n"
     ]
    },
    {
     "name": "stderr",
     "output_type": "stream",
     "text": [
      "GPU available: True, used: False\n",
      "TPU available: False, using: 0 TPU cores\n",
      "IPU available: False, using: 0 IPUs\n"
     ]
    },
    {
     "name": "stdout",
     "output_type": "stream",
     "text": [
      "100\n"
     ]
    },
    {
     "name": "stderr",
     "output_type": "stream",
     "text": [
      "\n",
      "  | Name      | Type    | Params\n",
      "--------------------------------------\n",
      "0 | encoder   | Linear  | 28.8 K\n",
      "1 | act_1     | PReLU   | 1     \n",
      "2 | decoder   | Linear  | 31.6 K\n",
      "3 | act_2     | PReLU   | 1     \n",
      "4 | loss_func | MSELoss | 0     \n",
      "--------------------------------------\n",
      "60.4 K    Trainable params\n",
      "0         Non-trainable params\n",
      "60.4 K    Total params\n",
      "0.242     Total estimated model params size (MB)\n"
     ]
    },
    {
     "name": "stdout",
     "output_type": "stream",
     "text": [
      "Epoch 0:  50%|█████     | 41/82 [00:00<00:00, 72.33it/s, loss=1.47, v_num=437]\n",
      "Validating: 0it [00:00, ?it/s]\u001B[A\n",
      "Epoch 0: 100%|██████████| 82/82 [00:00<00:00, 131.64it/s, loss=1.47, v_num=437]\n",
      "Epoch 1:  50%|█████     | 41/82 [00:00<00:00, 75.18it/s, loss=1.55, v_num=437] \n",
      "Validating: 0it [00:00, ?it/s]\u001B[A\n",
      "Epoch 1: 100%|██████████| 82/82 [00:00<00:00, 133.54it/s, loss=1.55, v_num=437]\n",
      "Epoch 2:  50%|█████     | 41/82 [00:00<00:00, 80.62it/s, loss=1.57, v_num=437] \n",
      "Validating: 0it [00:00, ?it/s]\u001B[A\n",
      "Epoch 2: 100%|██████████| 82/82 [00:00<00:00, 145.14it/s, loss=1.57, v_num=437]\n",
      "Epoch 3:  50%|█████     | 41/82 [00:00<00:00, 78.61it/s, loss=1.48, v_num=437] \n",
      "Validating: 0it [00:00, ?it/s]\u001B[A\n",
      "Epoch 3: 100%|██████████| 82/82 [00:00<00:00, 138.77it/s, loss=1.48, v_num=437]\n",
      "Epoch 4:  50%|█████     | 41/82 [00:00<00:00, 75.39it/s, loss=1.5, v_num=437]  \n",
      "Validating: 0it [00:00, ?it/s]\u001B[A\n",
      "Epoch 4: 100%|██████████| 82/82 [00:00<00:00, 136.42it/s, loss=1.5, v_num=437]\n",
      "Epoch 5:  50%|█████     | 41/82 [00:00<00:00, 75.22it/s, loss=1.51, v_num=437]\n",
      "Validating: 0it [00:00, ?it/s]\u001B[A\n",
      "Epoch 5: 100%|██████████| 82/82 [00:00<00:00, 133.27it/s, loss=1.51, v_num=437]\n",
      "Epoch 6:  50%|█████     | 41/82 [00:00<00:00, 78.37it/s, loss=1.56, v_num=437] \n",
      "Validating: 0it [00:00, ?it/s]\u001B[A\n",
      "Epoch 6: 100%|██████████| 82/82 [00:00<00:00, 140.75it/s, loss=1.56, v_num=437]\n",
      "Epoch 7:  50%|█████     | 41/82 [00:00<00:00, 79.31it/s, loss=1.54, v_num=437] \n",
      "Validating: 0it [00:00, ?it/s]\u001B[A\n",
      "Epoch 7: 100%|██████████| 82/82 [00:00<00:00, 142.57it/s, loss=1.54, v_num=437]\n",
      "Epoch 8:  50%|█████     | 41/82 [00:00<00:00, 78.45it/s, loss=1.7, v_num=437]  \n",
      "Validating: 0it [00:00, ?it/s]\u001B[A\n",
      "Epoch 8: 100%|██████████| 82/82 [00:00<00:00, 138.63it/s, loss=1.7, v_num=437]\n",
      "Epoch 9:  50%|█████     | 41/82 [00:00<00:00, 82.32it/s, loss=1.64, v_num=437]\n",
      "Validating: 0it [00:00, ?it/s]\u001B[A\n",
      "Epoch 9: 100%|██████████| 82/82 [00:00<00:00, 144.85it/s, loss=1.64, v_num=437]\n",
      "Epoch 9: 100%|██████████| 82/82 [00:00<00:00, 142.93it/s, loss=1.64, v_num=437]\n"
     ]
    },
    {
     "name": "stderr",
     "output_type": "stream",
     "text": [
      "GPU available: True, used: False\n",
      "TPU available: False, using: 0 TPU cores\n",
      "IPU available: False, using: 0 IPUs\n"
     ]
    },
    {
     "name": "stdout",
     "output_type": "stream",
     "text": [
      "0.01\n"
     ]
    },
    {
     "name": "stderr",
     "output_type": "stream",
     "text": [
      "\n",
      "  | Name      | Type    | Params\n",
      "--------------------------------------\n",
      "0 | encoder   | Linear  | 28.8 K\n",
      "1 | act_1     | Sigmoid | 0     \n",
      "2 | decoder   | Linear  | 31.6 K\n",
      "3 | act_2     | Sigmoid | 0     \n",
      "4 | loss_func | MSELoss | 0     \n",
      "--------------------------------------\n",
      "60.4 K    Trainable params\n",
      "0         Non-trainable params\n",
      "60.4 K    Total params\n",
      "0.242     Total estimated model params size (MB)\n"
     ]
    },
    {
     "name": "stdout",
     "output_type": "stream",
     "text": [
      "Epoch 0:  50%|█████     | 41/82 [00:00<00:00, 82.07it/s, loss=1.11, v_num=438]\n",
      "Validating: 0it [00:00, ?it/s]\u001B[A\n",
      "Epoch 0: 100%|██████████| 82/82 [00:00<00:00, 144.23it/s, loss=1.11, v_num=438]\n",
      "Epoch 1:  50%|█████     | 41/82 [00:00<00:00, 79.20it/s, loss=1.05, v_num=438] \n",
      "Validating: 0it [00:00, ?it/s]\u001B[A\n",
      "Epoch 1: 100%|██████████| 82/82 [00:00<00:00, 139.94it/s, loss=1.05, v_num=438]\n",
      "Epoch 2:  50%|█████     | 41/82 [00:00<00:00, 79.20it/s, loss=1.17, v_num=438] \n",
      "Validating: 0it [00:00, ?it/s]\u001B[A\n",
      "Epoch 2: 100%|██████████| 82/82 [00:00<00:00, 141.92it/s, loss=1.17, v_num=438]\n",
      "Epoch 3:  50%|█████     | 41/82 [00:00<00:00, 88.79it/s, loss=1.15, v_num=438] \n",
      "Validating: 0it [00:00, ?it/s]\u001B[A\n",
      "Epoch 3: 100%|██████████| 82/82 [00:00<00:00, 154.99it/s, loss=1.15, v_num=438]\n",
      "Epoch 4:  50%|█████     | 41/82 [00:00<00:00, 75.56it/s, loss=1.15, v_num=438] \n",
      "Validating: 0it [00:00, ?it/s]\u001B[A\n",
      "Epoch 4: 100%|██████████| 82/82 [00:00<00:00, 134.30it/s, loss=1.15, v_num=438]\n",
      "Epoch 5:  50%|█████     | 41/82 [00:00<00:00, 81.52it/s, loss=1.14, v_num=438] \n",
      "Validating: 0it [00:00, ?it/s]\u001B[A\n",
      "Epoch 5: 100%|██████████| 82/82 [00:00<00:00, 145.88it/s, loss=1.14, v_num=438]\n",
      "Epoch 6:  50%|█████     | 41/82 [00:00<00:00, 79.90it/s, loss=1.06, v_num=438] \n",
      "Validating: 0it [00:00, ?it/s]\u001B[A\n",
      "Epoch 6: 100%|██████████| 82/82 [00:00<00:00, 143.25it/s, loss=1.06, v_num=438]\n",
      "Epoch 7:  50%|█████     | 41/82 [00:00<00:00, 79.53it/s, loss=1.17, v_num=438] \n",
      "Validating: 0it [00:00, ?it/s]\u001B[A\n",
      "Epoch 7: 100%|██████████| 82/82 [00:00<00:00, 143.78it/s, loss=1.17, v_num=438]\n",
      "Epoch 8:  50%|█████     | 41/82 [00:00<00:00, 78.60it/s, loss=1.1, v_num=438]  \n",
      "Validating: 0it [00:00, ?it/s]\u001B[A\n",
      "Epoch 8: 100%|██████████| 82/82 [00:00<00:00, 138.95it/s, loss=1.1, v_num=438]\n",
      "Epoch 9:  50%|█████     | 41/82 [00:00<00:00, 78.05it/s, loss=1.11, v_num=438]\n",
      "Validating: 0it [00:00, ?it/s]\u001B[A\n",
      "Epoch 9: 100%|██████████| 82/82 [00:00<00:00, 139.11it/s, loss=1.11, v_num=438]\n",
      "Epoch 9: 100%|██████████| 82/82 [00:00<00:00, 137.71it/s, loss=1.11, v_num=438]\n"
     ]
    },
    {
     "name": "stderr",
     "output_type": "stream",
     "text": [
      "GPU available: True, used: False\n",
      "TPU available: False, using: 0 TPU cores\n",
      "IPU available: False, using: 0 IPUs\n"
     ]
    },
    {
     "name": "stdout",
     "output_type": "stream",
     "text": [
      "0.1\n"
     ]
    },
    {
     "name": "stderr",
     "output_type": "stream",
     "text": [
      "\n",
      "  | Name      | Type    | Params\n",
      "--------------------------------------\n",
      "0 | encoder   | Linear  | 28.8 K\n",
      "1 | act_1     | Sigmoid | 0     \n",
      "2 | decoder   | Linear  | 31.6 K\n",
      "3 | act_2     | Sigmoid | 0     \n",
      "4 | loss_func | MSELoss | 0     \n",
      "--------------------------------------\n",
      "60.4 K    Trainable params\n",
      "0         Non-trainable params\n",
      "60.4 K    Total params\n",
      "0.242     Total estimated model params size (MB)\n"
     ]
    },
    {
     "name": "stdout",
     "output_type": "stream",
     "text": [
      "Epoch 0:  50%|█████     | 41/82 [00:00<00:00, 81.75it/s, loss=1.05, v_num=439]\n",
      "Validating: 0it [00:00, ?it/s]\u001B[A\n",
      "Epoch 0: 100%|██████████| 82/82 [00:00<00:00, 146.71it/s, loss=1.05, v_num=439]\n",
      "Epoch 1:  50%|█████     | 41/82 [00:00<00:00, 83.81it/s, loss=1.16, v_num=439] \n",
      "Validating: 0it [00:00, ?it/s]\u001B[A\n",
      "Epoch 1: 100%|██████████| 82/82 [00:00<00:00, 149.69it/s, loss=1.16, v_num=439]\n",
      "Epoch 2:  50%|█████     | 41/82 [00:00<00:00, 76.33it/s, loss=1.14, v_num=439] \n",
      "Validating: 0it [00:00, ?it/s]\u001B[A\n",
      "Epoch 2: 100%|██████████| 82/82 [00:00<00:00, 134.96it/s, loss=1.14, v_num=439]\n",
      "Epoch 3:  50%|█████     | 41/82 [00:00<00:00, 78.53it/s, loss=1.14, v_num=439] \n",
      "Validating: 0it [00:00, ?it/s]\u001B[A\n",
      "Epoch 3: 100%|██████████| 82/82 [00:00<00:00, 142.20it/s, loss=1.14, v_num=439]\n",
      "Epoch 4:  50%|█████     | 41/82 [00:00<00:00, 76.10it/s, loss=1.11, v_num=439] \n",
      "Validating: 0it [00:00, ?it/s]\u001B[A\n",
      "Epoch 4: 100%|██████████| 82/82 [00:00<00:00, 136.99it/s, loss=1.11, v_num=439]\n",
      "Epoch 5:  50%|█████     | 41/82 [00:00<00:00, 76.23it/s, loss=1.15, v_num=439] \n",
      "Validating: 0it [00:00, ?it/s]\u001B[A\n",
      "Epoch 5: 100%|██████████| 82/82 [00:00<00:00, 135.13it/s, loss=1.15, v_num=439]\n",
      "Epoch 6:  50%|█████     | 41/82 [00:00<00:00, 83.04it/s, loss=1.05, v_num=439] \n",
      "Validating: 0it [00:00, ?it/s]\u001B[A\n",
      "Epoch 6: 100%|██████████| 82/82 [00:00<00:00, 145.97it/s, loss=1.05, v_num=439]\n",
      "Epoch 7:  50%|█████     | 41/82 [00:00<00:00, 80.60it/s, loss=1.17, v_num=439] \n",
      "Validating: 0it [00:00, ?it/s]\u001B[A\n",
      "Epoch 7: 100%|██████████| 82/82 [00:00<00:00, 144.74it/s, loss=1.17, v_num=439]\n",
      "Epoch 8:  50%|█████     | 41/82 [00:00<00:00, 79.58it/s, loss=1.07, v_num=439] \n",
      "Validating: 0it [00:00, ?it/s]\u001B[A\n",
      "Epoch 8: 100%|██████████| 82/82 [00:00<00:00, 140.51it/s, loss=1.07, v_num=439]\n",
      "Epoch 9:  50%|█████     | 41/82 [00:00<00:00, 78.78it/s, loss=1.2, v_num=439]  \n",
      "Validating: 0it [00:00, ?it/s]\u001B[A\n",
      "Epoch 9: 100%|██████████| 82/82 [00:00<00:00, 142.54it/s, loss=1.2, v_num=439]\n",
      "Epoch 9: 100%|██████████| 82/82 [00:00<00:00, 140.81it/s, loss=1.2, v_num=439]\n"
     ]
    },
    {
     "name": "stderr",
     "output_type": "stream",
     "text": [
      "GPU available: True, used: False\n",
      "TPU available: False, using: 0 TPU cores\n",
      "IPU available: False, using: 0 IPUs\n"
     ]
    },
    {
     "name": "stdout",
     "output_type": "stream",
     "text": [
      "1\n"
     ]
    },
    {
     "name": "stderr",
     "output_type": "stream",
     "text": [
      "\n",
      "  | Name      | Type    | Params\n",
      "--------------------------------------\n",
      "0 | encoder   | Linear  | 28.8 K\n",
      "1 | act_1     | Sigmoid | 0     \n",
      "2 | decoder   | Linear  | 31.6 K\n",
      "3 | act_2     | Sigmoid | 0     \n",
      "4 | loss_func | MSELoss | 0     \n",
      "--------------------------------------\n",
      "60.4 K    Trainable params\n",
      "0         Non-trainable params\n",
      "60.4 K    Total params\n",
      "0.242     Total estimated model params size (MB)\n"
     ]
    },
    {
     "name": "stdout",
     "output_type": "stream",
     "text": [
      "Epoch 0:  50%|█████     | 41/82 [00:00<00:00, 79.66it/s, loss=1.15, v_num=440]\n",
      "Validating: 0it [00:00, ?it/s]\u001B[A\n",
      "Epoch 0: 100%|██████████| 82/82 [00:00<00:00, 143.61it/s, loss=1.15, v_num=440]\n",
      "Epoch 1:  50%|█████     | 41/82 [00:00<00:00, 62.89it/s, loss=1.11, v_num=440] \n",
      "Validating: 0it [00:00, ?it/s]\u001B[A\n",
      "Epoch 1: 100%|██████████| 82/82 [00:00<00:00, 113.14it/s, loss=1.11, v_num=440]\n",
      "Epoch 2:  50%|█████     | 41/82 [00:00<00:00, 83.27it/s, loss=1.11, v_num=440] \n",
      "Validating: 0it [00:00, ?it/s]\u001B[A\n",
      "Epoch 2: 100%|██████████| 82/82 [00:00<00:00, 145.01it/s, loss=1.11, v_num=440]\n",
      "Epoch 3:  50%|█████     | 41/82 [00:00<00:00, 80.83it/s, loss=1.07, v_num=440] \n",
      "Validating: 0it [00:00, ?it/s]\u001B[A\n",
      "Epoch 3: 100%|██████████| 82/82 [00:00<00:00, 144.68it/s, loss=1.07, v_num=440]\n",
      "Epoch 4:  50%|█████     | 41/82 [00:00<00:00, 77.89it/s, loss=1.08, v_num=440] \n",
      "Validating: 0it [00:00, ?it/s]\u001B[A\n",
      "Epoch 4: 100%|██████████| 82/82 [00:00<00:00, 138.22it/s, loss=1.08, v_num=440]\n",
      "Epoch 5:  50%|█████     | 41/82 [00:00<00:00, 79.06it/s, loss=1.12, v_num=440] \n",
      "Validating: 0it [00:00, ?it/s]\u001B[A\n",
      "Epoch 5: 100%|██████████| 82/82 [00:00<00:00, 142.92it/s, loss=1.12, v_num=440]\n",
      "Epoch 6:  50%|█████     | 41/82 [00:00<00:00, 76.99it/s, loss=1.13, v_num=440] \n",
      "Validating: 0it [00:00, ?it/s]\u001B[A\n",
      "Epoch 6: 100%|██████████| 82/82 [00:00<00:00, 136.52it/s, loss=1.13, v_num=440]\n",
      "Epoch 7:  50%|█████     | 41/82 [00:00<00:00, 75.13it/s, loss=1.14, v_num=440] \n",
      "Validating: 0it [00:00, ?it/s]\u001B[A\n",
      "Epoch 7: 100%|██████████| 82/82 [00:00<00:00, 135.12it/s, loss=1.14, v_num=440]\n",
      "Epoch 8:  50%|█████     | 41/82 [00:00<00:00, 75.63it/s, loss=1.07, v_num=440] \n",
      "Validating: 0it [00:00, ?it/s]\u001B[A\n",
      "Epoch 8: 100%|██████████| 82/82 [00:00<00:00, 133.80it/s, loss=1.07, v_num=440]\n",
      "Epoch 9:  50%|█████     | 41/82 [00:00<00:00, 74.90it/s, loss=1.14, v_num=440] \n",
      "Validating: 0it [00:00, ?it/s]\u001B[A\n",
      "Epoch 9: 100%|██████████| 82/82 [00:00<00:00, 132.98it/s, loss=1.14, v_num=440]\n",
      "Epoch 9: 100%|██████████| 82/82 [00:00<00:00, 131.58it/s, loss=1.14, v_num=440]\n"
     ]
    },
    {
     "name": "stderr",
     "output_type": "stream",
     "text": [
      "GPU available: True, used: False\n",
      "TPU available: False, using: 0 TPU cores\n",
      "IPU available: False, using: 0 IPUs\n"
     ]
    },
    {
     "name": "stdout",
     "output_type": "stream",
     "text": [
      "100\n"
     ]
    },
    {
     "name": "stderr",
     "output_type": "stream",
     "text": [
      "\n",
      "  | Name      | Type    | Params\n",
      "--------------------------------------\n",
      "0 | encoder   | Linear  | 28.8 K\n",
      "1 | act_1     | Sigmoid | 0     \n",
      "2 | decoder   | Linear  | 31.6 K\n",
      "3 | act_2     | Sigmoid | 0     \n",
      "4 | loss_func | MSELoss | 0     \n",
      "--------------------------------------\n",
      "60.4 K    Trainable params\n",
      "0         Non-trainable params\n",
      "60.4 K    Total params\n",
      "0.242     Total estimated model params size (MB)\n"
     ]
    },
    {
     "name": "stdout",
     "output_type": "stream",
     "text": [
      "Epoch 0:  50%|█████     | 41/82 [00:00<00:00, 71.59it/s, loss=1.09, v_num=441]\n",
      "Validating: 0it [00:00, ?it/s]\u001B[A\n",
      "Epoch 0: 100%|██████████| 82/82 [00:00<00:00, 127.36it/s, loss=1.09, v_num=441]\n",
      "Epoch 1:  50%|█████     | 41/82 [00:00<00:00, 67.96it/s, loss=1.15, v_num=441] \n",
      "Validating: 0it [00:00, ?it/s]\u001B[A\n",
      "Epoch 1: 100%|██████████| 82/82 [00:00<00:00, 121.18it/s, loss=1.15, v_num=441]\n",
      "Epoch 2:  50%|█████     | 41/82 [00:00<00:00, 67.06it/s, loss=1.1, v_num=441]  \n",
      "Validating: 0it [00:00, ?it/s]\u001B[A\n",
      "Epoch 2: 100%|██████████| 82/82 [00:00<00:00, 122.84it/s, loss=1.1, v_num=441]\n",
      "Epoch 3:  50%|█████     | 41/82 [00:00<00:00, 74.57it/s, loss=1.15, v_num=441]\n",
      "Validating: 0it [00:00, ?it/s]\u001B[A\n",
      "Epoch 3: 100%|██████████| 82/82 [00:00<00:00, 134.50it/s, loss=1.15, v_num=441]\n",
      "Epoch 4:  50%|█████     | 41/82 [00:00<00:00, 73.42it/s, loss=1.16, v_num=441] \n",
      "Validating: 0it [00:00, ?it/s]\u001B[A\n",
      "Epoch 4: 100%|██████████| 82/82 [00:00<00:00, 130.25it/s, loss=1.16, v_num=441]\n",
      "Epoch 5:  50%|█████     | 41/82 [00:00<00:00, 72.47it/s, loss=1.14, v_num=441] \n",
      "Validating: 0it [00:00, ?it/s]\u001B[A\n",
      "Epoch 5: 100%|██████████| 82/82 [00:00<00:00, 131.33it/s, loss=1.14, v_num=441]\n",
      "Epoch 6:  50%|█████     | 41/82 [00:00<00:00, 81.42it/s, loss=1.09, v_num=441] \n",
      "Validating: 0it [00:00, ?it/s]\u001B[A\n",
      "Epoch 6: 100%|██████████| 82/82 [00:00<00:00, 140.76it/s, loss=1.09, v_num=441]\n",
      "Epoch 7:  50%|█████     | 41/82 [00:00<00:00, 75.66it/s, loss=1.12, v_num=441] \n",
      "Validating: 0it [00:00, ?it/s]\u001B[A\n",
      "Epoch 7: 100%|██████████| 82/82 [00:00<00:00, 132.06it/s, loss=1.12, v_num=441]\n",
      "Epoch 8:  50%|█████     | 41/82 [00:00<00:00, 79.19it/s, loss=1.12, v_num=441] \n",
      "Validating: 0it [00:00, ?it/s]\u001B[A\n",
      "Epoch 8: 100%|██████████| 82/82 [00:00<00:00, 142.93it/s, loss=1.12, v_num=441]\n",
      "Epoch 9:  50%|█████     | 41/82 [00:00<00:00, 76.01it/s, loss=1.11, v_num=441] \n",
      "Validating: 0it [00:00, ?it/s]\u001B[A\n",
      "Epoch 9: 100%|██████████| 82/82 [00:00<00:00, 136.71it/s, loss=1.11, v_num=441]\n",
      "Epoch 9: 100%|██████████| 82/82 [00:00<00:00, 134.85it/s, loss=1.11, v_num=441]\n"
     ]
    },
    {
     "name": "stderr",
     "output_type": "stream",
     "text": [
      "GPU available: True, used: False\n",
      "TPU available: False, using: 0 TPU cores\n",
      "IPU available: False, using: 0 IPUs\n"
     ]
    },
    {
     "name": "stdout",
     "output_type": "stream",
     "text": [
      "0.01\n"
     ]
    },
    {
     "name": "stderr",
     "output_type": "stream",
     "text": [
      "\n",
      "  | Name      | Type    | Params\n",
      "--------------------------------------\n",
      "0 | encoder   | Linear  | 230 K \n",
      "1 | act_1     | PReLU   | 1     \n",
      "2 | decoder   | Linear  | 232 K \n",
      "3 | act_2     | PReLU   | 1     \n",
      "4 | loss_func | MSELoss | 0     \n",
      "--------------------------------------\n",
      "463 K     Trainable params\n",
      "0         Non-trainable params\n",
      "463 K     Total params\n",
      "1.852     Total estimated model params size (MB)\n"
     ]
    },
    {
     "name": "stdout",
     "output_type": "stream",
     "text": [
      "Epoch 0:  50%|█████     | 41/82 [00:00<00:00, 63.40it/s, loss=1.67, v_num=442]\n",
      "Validating: 0it [00:00, ?it/s]\u001B[A\n",
      "Epoch 0: 100%|██████████| 82/82 [00:00<00:00, 113.32it/s, loss=1.67, v_num=442]\n",
      "Epoch 1:  50%|█████     | 41/82 [00:00<00:00, 64.80it/s, loss=1.22, v_num=442] \n",
      "Validating: 0it [00:00, ?it/s]\u001B[A\n",
      "Epoch 1: 100%|██████████| 82/82 [00:00<00:00, 115.84it/s, loss=1.22, v_num=442]\n",
      "Epoch 2:  50%|█████     | 41/82 [00:00<00:00, 65.35it/s, loss=1.1, v_num=442]  \n",
      "Validating: 0it [00:00, ?it/s]\u001B[A\n",
      "Epoch 2: 100%|██████████| 82/82 [00:00<00:00, 118.67it/s, loss=1.1, v_num=442]\n",
      "Epoch 3:  50%|█████     | 41/82 [00:00<00:00, 65.62it/s, loss=1.01, v_num=442] \n",
      "Validating: 0it [00:00, ?it/s]\u001B[A\n",
      "Epoch 3: 100%|██████████| 82/82 [00:00<00:00, 117.60it/s, loss=1.01, v_num=442]\n",
      "Epoch 4:  50%|█████     | 41/82 [00:00<00:00, 61.36it/s, loss=1.09, v_num=442] \n",
      "Validating: 0it [00:00, ?it/s]\u001B[A\n",
      "Epoch 4: 100%|██████████| 82/82 [00:00<00:00, 110.42it/s, loss=1.09, v_num=442]\n",
      "Epoch 5:  50%|█████     | 41/82 [00:00<00:00, 68.02it/s, loss=0.984, v_num=442]\n",
      "Validating: 0it [00:00, ?it/s]\u001B[A\n",
      "Epoch 5: 100%|██████████| 82/82 [00:00<00:00, 120.90it/s, loss=0.984, v_num=442]\n",
      "Epoch 6:  50%|█████     | 41/82 [00:00<00:00, 67.90it/s, loss=1.03, v_num=442]  \n",
      "Validating: 0it [00:00, ?it/s]\u001B[A\n",
      "Epoch 6: 100%|██████████| 82/82 [00:00<00:00, 121.22it/s, loss=1.03, v_num=442]\n",
      "Epoch 7:  50%|█████     | 41/82 [00:00<00:00, 66.87it/s, loss=1.08, v_num=442] \n",
      "Validating: 0it [00:00, ?it/s]\u001B[A\n",
      "Epoch 7: 100%|██████████| 82/82 [00:00<00:00, 119.22it/s, loss=1.08, v_num=442]\n",
      "Epoch 8:  50%|█████     | 41/82 [00:00<00:00, 61.66it/s, loss=0.989, v_num=442]\n",
      "Validating: 0it [00:00, ?it/s]\u001B[A\n",
      "Epoch 8: 100%|██████████| 82/82 [00:00<00:00, 111.21it/s, loss=0.989, v_num=442]\n",
      "Epoch 9:  50%|█████     | 41/82 [00:00<00:00, 63.76it/s, loss=0.963, v_num=442] \n",
      "Validating: 0it [00:00, ?it/s]\u001B[A\n",
      "Epoch 9: 100%|██████████| 82/82 [00:00<00:00, 114.35it/s, loss=0.963, v_num=442]\n",
      "Epoch 9: 100%|██████████| 82/82 [00:00<00:00, 112.18it/s, loss=0.963, v_num=442]\n"
     ]
    },
    {
     "name": "stderr",
     "output_type": "stream",
     "text": [
      "GPU available: True, used: False\n",
      "TPU available: False, using: 0 TPU cores\n",
      "IPU available: False, using: 0 IPUs\n"
     ]
    },
    {
     "name": "stdout",
     "output_type": "stream",
     "text": [
      "0.1\n"
     ]
    },
    {
     "name": "stderr",
     "output_type": "stream",
     "text": [
      "\n",
      "  | Name      | Type    | Params\n",
      "--------------------------------------\n",
      "0 | encoder   | Linear  | 230 K \n",
      "1 | act_1     | PReLU   | 1     \n",
      "2 | decoder   | Linear  | 232 K \n",
      "3 | act_2     | PReLU   | 1     \n",
      "4 | loss_func | MSELoss | 0     \n",
      "--------------------------------------\n",
      "463 K     Trainable params\n",
      "0         Non-trainable params\n",
      "463 K     Total params\n",
      "1.852     Total estimated model params size (MB)\n"
     ]
    },
    {
     "name": "stdout",
     "output_type": "stream",
     "text": [
      "Epoch 0:  50%|█████     | 41/82 [00:00<00:00, 66.31it/s, loss=1.53, v_num=443]\n",
      "Validating: 0it [00:00, ?it/s]\u001B[A\n",
      "Epoch 0: 100%|██████████| 82/82 [00:00<00:00, 117.94it/s, loss=1.53, v_num=443]\n",
      "Epoch 1:  51%|█████     | 42/82 [00:00<00:00, 65.19it/s, loss=1.27, v_num=443] \n",
      "Validating: 0it [00:00, ?it/s]\u001B[A\n",
      "Epoch 1: 100%|██████████| 82/82 [00:00<00:00, 114.83it/s, loss=1.27, v_num=443]\n",
      "Epoch 2:  51%|█████     | 42/82 [00:00<00:00, 66.05it/s, loss=1.19, v_num=443] \n",
      "Validating: 0it [00:00, ?it/s]\u001B[A\n",
      "Epoch 2: 100%|██████████| 82/82 [00:00<00:00, 114.25it/s, loss=1.19, v_num=443]\n",
      "Epoch 3:  51%|█████     | 42/82 [00:00<00:00, 64.98it/s, loss=1.13, v_num=443] \n",
      "Validating: 0it [00:00, ?it/s]\u001B[A\n",
      "Epoch 3: 100%|██████████| 82/82 [00:00<00:00, 114.30it/s, loss=1.13, v_num=443]\n",
      "Epoch 4:  51%|█████     | 42/82 [00:00<00:00, 61.07it/s, loss=1.09, v_num=443] \n",
      "Validating: 0it [00:00, ?it/s]\u001B[A\n",
      "Epoch 4: 100%|██████████| 82/82 [00:00<00:00, 109.31it/s, loss=1.09, v_num=443]\n",
      "Epoch 5:  51%|█████     | 42/82 [00:00<00:00, 65.28it/s, loss=1.17, v_num=443] \n",
      "Validating: 0it [00:00, ?it/s]\u001B[A\n",
      "Epoch 5: 100%|██████████| 82/82 [00:00<00:00, 116.31it/s, loss=1.17, v_num=443]\n",
      "Epoch 6:  51%|█████     | 42/82 [00:00<00:00, 68.40it/s, loss=1.07, v_num=443] \n",
      "Validating: 0it [00:00, ?it/s]\u001B[A\n",
      "Epoch 6: 100%|██████████| 82/82 [00:00<00:00, 119.77it/s, loss=1.07, v_num=443]\n",
      "Epoch 7:  51%|█████     | 42/82 [00:00<00:00, 64.70it/s, loss=1.08, v_num=443] \n",
      "Validating: 0it [00:00, ?it/s]\u001B[A\n",
      "Epoch 7: 100%|██████████| 82/82 [00:00<00:00, 112.00it/s, loss=1.08, v_num=443]\n",
      "Epoch 8:  51%|█████     | 42/82 [00:00<00:00, 64.37it/s, loss=1.08, v_num=443] \n",
      "Validating: 0it [00:00, ?it/s]\u001B[A\n",
      "Epoch 8: 100%|██████████| 82/82 [00:00<00:00, 113.42it/s, loss=1.08, v_num=443]\n",
      "Epoch 9:  51%|█████     | 42/82 [00:00<00:00, 62.47it/s, loss=1.07, v_num=443] \n",
      "Validating: 0it [00:00, ?it/s]\u001B[A\n",
      "Epoch 9: 100%|██████████| 82/82 [00:00<00:00, 110.35it/s, loss=1.07, v_num=443]\n",
      "Epoch 9: 100%|██████████| 82/82 [00:00<00:00, 108.51it/s, loss=1.07, v_num=443]\n"
     ]
    },
    {
     "name": "stderr",
     "output_type": "stream",
     "text": [
      "GPU available: True, used: False\n",
      "TPU available: False, using: 0 TPU cores\n",
      "IPU available: False, using: 0 IPUs\n"
     ]
    },
    {
     "name": "stdout",
     "output_type": "stream",
     "text": [
      "1\n"
     ]
    },
    {
     "name": "stderr",
     "output_type": "stream",
     "text": [
      "\n",
      "  | Name      | Type    | Params\n",
      "--------------------------------------\n",
      "0 | encoder   | Linear  | 230 K \n",
      "1 | act_1     | PReLU   | 1     \n",
      "2 | decoder   | Linear  | 232 K \n",
      "3 | act_2     | PReLU   | 1     \n",
      "4 | loss_func | MSELoss | 0     \n",
      "--------------------------------------\n",
      "463 K     Trainable params\n",
      "0         Non-trainable params\n",
      "463 K     Total params\n",
      "1.852     Total estimated model params size (MB)\n"
     ]
    },
    {
     "name": "stdout",
     "output_type": "stream",
     "text": [
      "Epoch 0:  50%|█████     | 41/82 [00:00<00:00, 66.43it/s, loss=1.54, v_num=444]\n",
      "Validating: 0it [00:00, ?it/s]\u001B[A\n",
      "Epoch 0: 100%|██████████| 82/82 [00:00<00:00, 120.98it/s, loss=1.54, v_num=444]\n",
      "Epoch 1:  51%|█████     | 42/82 [00:00<00:00, 65.36it/s, loss=1.45, v_num=444] \n",
      "Validating: 0it [00:00, ?it/s]\u001B[A\n",
      "Epoch 1: 100%|██████████| 82/82 [00:00<00:00, 116.54it/s, loss=1.45, v_num=444]\n",
      "Epoch 2:  51%|█████     | 42/82 [00:00<00:00, 69.17it/s, loss=1.29, v_num=444] \n",
      "Validating: 0it [00:00, ?it/s]\u001B[A\n",
      "Epoch 2: 100%|██████████| 82/82 [00:00<00:00, 122.66it/s, loss=1.29, v_num=444]\n",
      "Epoch 3:  51%|█████     | 42/82 [00:00<00:00, 69.42it/s, loss=1.27, v_num=444] \n",
      "Validating: 0it [00:00, ?it/s]\u001B[A\n",
      "Epoch 3: 100%|██████████| 82/82 [00:00<00:00, 123.73it/s, loss=1.27, v_num=444]\n",
      "Epoch 4:  51%|█████     | 42/82 [00:00<00:00, 68.52it/s, loss=1.18, v_num=444] \n",
      "Validating: 0it [00:00, ?it/s]\u001B[A\n",
      "Epoch 4: 100%|██████████| 82/82 [00:00<00:00, 119.67it/s, loss=1.18, v_num=444]\n",
      "Epoch 5:  51%|█████     | 42/82 [00:00<00:00, 66.50it/s, loss=1.18, v_num=444] \n",
      "Validating: 0it [00:00, ?it/s]\u001B[A\n",
      "Epoch 5: 100%|██████████| 82/82 [00:00<00:00, 115.28it/s, loss=1.18, v_num=444]\n",
      "Epoch 6:  51%|█████     | 42/82 [00:00<00:00, 57.40it/s, loss=1.12, v_num=444] \n",
      "Validating: 0it [00:00, ?it/s]\u001B[A\n",
      "Epoch 6: 100%|██████████| 82/82 [00:00<00:00, 101.34it/s, loss=1.12, v_num=444]\n",
      "Epoch 7:  51%|█████     | 42/82 [00:00<00:00, 67.45it/s, loss=1.15, v_num=444] \n",
      "Validating: 0it [00:00, ?it/s]\u001B[A\n",
      "Epoch 7: 100%|██████████| 82/82 [00:00<00:00, 120.12it/s, loss=1.15, v_num=444]\n",
      "Epoch 8:  51%|█████     | 42/82 [00:00<00:00, 67.56it/s, loss=1.03, v_num=444] \n",
      "Validating: 0it [00:00, ?it/s]\u001B[A\n",
      "Epoch 8: 100%|██████████| 82/82 [00:00<00:00, 120.51it/s, loss=1.03, v_num=444]\n",
      "Epoch 9:  51%|█████     | 42/82 [00:00<00:00, 70.14it/s, loss=1.09, v_num=444] \n",
      "Validating: 0it [00:00, ?it/s]\u001B[A\n",
      "Epoch 9: 100%|██████████| 82/82 [00:00<00:00, 122.37it/s, loss=1.09, v_num=444]\n",
      "Epoch 9: 100%|██████████| 82/82 [00:00<00:00, 119.94it/s, loss=1.09, v_num=444]\n"
     ]
    },
    {
     "name": "stderr",
     "output_type": "stream",
     "text": [
      "GPU available: True, used: False\n",
      "TPU available: False, using: 0 TPU cores\n",
      "IPU available: False, using: 0 IPUs\n"
     ]
    },
    {
     "name": "stdout",
     "output_type": "stream",
     "text": [
      "100\n"
     ]
    },
    {
     "name": "stderr",
     "output_type": "stream",
     "text": [
      "\n",
      "  | Name      | Type    | Params\n",
      "--------------------------------------\n",
      "0 | encoder   | Linear  | 230 K \n",
      "1 | act_1     | PReLU   | 1     \n",
      "2 | decoder   | Linear  | 232 K \n",
      "3 | act_2     | PReLU   | 1     \n",
      "4 | loss_func | MSELoss | 0     \n",
      "--------------------------------------\n",
      "463 K     Trainable params\n",
      "0         Non-trainable params\n",
      "463 K     Total params\n",
      "1.852     Total estimated model params size (MB)\n"
     ]
    },
    {
     "name": "stdout",
     "output_type": "stream",
     "text": [
      "Epoch 0:  50%|█████     | 41/82 [00:00<00:00, 63.66it/s, loss=1.53, v_num=445]\n",
      "Validating: 0it [00:00, ?it/s]\u001B[A\n",
      "Epoch 0: 100%|██████████| 82/82 [00:00<00:00, 113.99it/s, loss=1.53, v_num=445]\n",
      "Epoch 1:  50%|█████     | 41/82 [00:00<00:00, 63.01it/s, loss=1.66, v_num=445] \n",
      "Validating: 0it [00:00, ?it/s]\u001B[A\n",
      "Epoch 1: 100%|██████████| 82/82 [00:00<00:00, 112.01it/s, loss=1.66, v_num=445]\n",
      "Epoch 2:  50%|█████     | 41/82 [00:00<00:00, 66.16it/s, loss=1.76, v_num=445] \n",
      "Validating: 0it [00:00, ?it/s]\u001B[A\n",
      "Epoch 2: 100%|██████████| 82/82 [00:00<00:00, 117.98it/s, loss=1.76, v_num=445]\n",
      "Epoch 3:  50%|█████     | 41/82 [00:00<00:00, 65.34it/s, loss=1.56, v_num=445] \n",
      "Validating: 0it [00:00, ?it/s]\u001B[A\n",
      "Epoch 3: 100%|██████████| 82/82 [00:00<00:00, 116.74it/s, loss=1.56, v_num=445]\n",
      "Epoch 4:  50%|█████     | 41/82 [00:00<00:00, 63.90it/s, loss=1.55, v_num=445] \n",
      "Validating: 0it [00:00, ?it/s]\u001B[A\n",
      "Epoch 4: 100%|██████████| 82/82 [00:00<00:00, 114.86it/s, loss=1.55, v_num=445]\n",
      "Epoch 5:  50%|█████     | 41/82 [00:00<00:00, 65.41it/s, loss=1.62, v_num=445] \n",
      "Validating: 0it [00:00, ?it/s]\u001B[A\n",
      "Epoch 5: 100%|██████████| 82/82 [00:00<00:00, 116.62it/s, loss=1.62, v_num=445]\n",
      "Epoch 6:  50%|█████     | 41/82 [00:00<00:00, 67.22it/s, loss=1.63, v_num=445] \n",
      "Validating: 0it [00:00, ?it/s]\u001B[A\n",
      "Epoch 6: 100%|██████████| 82/82 [00:00<00:00, 119.04it/s, loss=1.63, v_num=445]\n",
      "Epoch 7:  50%|█████     | 41/82 [00:00<00:00, 64.10it/s, loss=1.6, v_num=445]  \n",
      "Validating: 0it [00:00, ?it/s]\u001B[A\n",
      "Epoch 7: 100%|██████████| 82/82 [00:00<00:00, 116.40it/s, loss=1.6, v_num=445]\n",
      "Epoch 8:  50%|█████     | 41/82 [00:00<00:00, 66.75it/s, loss=1.7, v_num=445] \n",
      "Validating: 0it [00:00, ?it/s]\u001B[A\n",
      "Epoch 8: 100%|██████████| 82/82 [00:00<00:00, 119.10it/s, loss=1.7, v_num=445]\n",
      "Epoch 9:  50%|█████     | 41/82 [00:00<00:00, 63.37it/s, loss=1.56, v_num=445]\n",
      "Validating: 0it [00:00, ?it/s]\u001B[A\n",
      "Epoch 9: 100%|██████████| 82/82 [00:00<00:00, 113.73it/s, loss=1.56, v_num=445]\n",
      "Epoch 9: 100%|██████████| 82/82 [00:00<00:00, 111.35it/s, loss=1.56, v_num=445]\n"
     ]
    },
    {
     "name": "stderr",
     "output_type": "stream",
     "text": [
      "GPU available: True, used: False\n",
      "TPU available: False, using: 0 TPU cores\n",
      "IPU available: False, using: 0 IPUs\n"
     ]
    },
    {
     "name": "stdout",
     "output_type": "stream",
     "text": [
      "0.01\n"
     ]
    },
    {
     "name": "stderr",
     "output_type": "stream",
     "text": [
      "\n",
      "  | Name      | Type    | Params\n",
      "--------------------------------------\n",
      "0 | encoder   | Linear  | 230 K \n",
      "1 | act_1     | Sigmoid | 0     \n",
      "2 | decoder   | Linear  | 232 K \n",
      "3 | act_2     | Sigmoid | 0     \n",
      "4 | loss_func | MSELoss | 0     \n",
      "--------------------------------------\n",
      "463 K     Trainable params\n",
      "0         Non-trainable params\n",
      "463 K     Total params\n",
      "1.852     Total estimated model params size (MB)\n"
     ]
    },
    {
     "name": "stdout",
     "output_type": "stream",
     "text": [
      "Epoch 0:  50%|█████     | 41/82 [00:00<00:00, 68.67it/s, loss=1.09, v_num=446]\n",
      "Validating: 0it [00:00, ?it/s]\u001B[A\n",
      "Epoch 0: 100%|██████████| 82/82 [00:00<00:00, 124.08it/s, loss=1.09, v_num=446]\n",
      "Epoch 1:  51%|█████     | 42/82 [00:00<00:00, 68.09it/s, loss=1.12, v_num=446] \n",
      "Validating: 0it [00:00, ?it/s]\u001B[A\n",
      "Epoch 1: 100%|██████████| 82/82 [00:00<00:00, 118.42it/s, loss=1.12, v_num=446]\n",
      "Epoch 2:  51%|█████     | 42/82 [00:00<00:00, 67.19it/s, loss=1.01, v_num=446] \n",
      "Validating: 0it [00:00, ?it/s]\u001B[A\n",
      "Epoch 2: 100%|██████████| 82/82 [00:00<00:00, 115.61it/s, loss=1.01, v_num=446]\n",
      "Epoch 3:  51%|█████     | 42/82 [00:00<00:00, 67.51it/s, loss=1.07, v_num=446] \n",
      "Validating: 0it [00:00, ?it/s]\u001B[A\n",
      "Epoch 3: 100%|██████████| 82/82 [00:00<00:00, 118.21it/s, loss=1.07, v_num=446]\n",
      "Epoch 4:  51%|█████     | 42/82 [00:00<00:00, 66.12it/s, loss=1.1, v_num=446]  \n",
      "Validating: 0it [00:00, ?it/s]\u001B[A\n",
      "Epoch 4: 100%|██████████| 82/82 [00:00<00:00, 116.28it/s, loss=1.1, v_num=446]\n",
      "Epoch 5:  51%|█████     | 42/82 [00:00<00:00, 63.81it/s, loss=0.983, v_num=446]\n",
      "Validating: 0it [00:00, ?it/s]\u001B[A\n",
      "Epoch 5: 100%|██████████| 82/82 [00:00<00:00, 111.52it/s, loss=0.983, v_num=446]\n",
      "Epoch 6:  51%|█████     | 42/82 [00:00<00:00, 59.51it/s, loss=1.03, v_num=446]  \n",
      "Validating: 0it [00:00, ?it/s]\u001B[A\n",
      "Epoch 6: 100%|██████████| 82/82 [00:00<00:00, 104.53it/s, loss=1.03, v_num=446]\n",
      "Epoch 7:  50%|█████     | 41/82 [00:00<00:00, 69.38it/s, loss=0.982, v_num=446]\n",
      "Validating: 0it [00:00, ?it/s]\u001B[A\n",
      "Epoch 7: 100%|██████████| 82/82 [00:00<00:00, 126.56it/s, loss=0.982, v_num=446]\n",
      "Epoch 8:  50%|█████     | 41/82 [00:00<00:00, 72.71it/s, loss=1.07, v_num=446]  \n",
      "Validating: 0it [00:00, ?it/s]\u001B[A\n",
      "Epoch 8: 100%|██████████| 82/82 [00:00<00:00, 128.89it/s, loss=1.07, v_num=446]\n",
      "Epoch 9:  50%|█████     | 41/82 [00:00<00:00, 74.17it/s, loss=1, v_num=446]    \n",
      "Validating: 0it [00:00, ?it/s]\u001B[A\n",
      "Epoch 9: 100%|██████████| 82/82 [00:00<00:00, 133.91it/s, loss=1, v_num=446]\n",
      "Epoch 9: 100%|██████████| 82/82 [00:00<00:00, 131.25it/s, loss=1, v_num=446]\n"
     ]
    },
    {
     "name": "stderr",
     "output_type": "stream",
     "text": [
      "GPU available: True, used: False\n",
      "TPU available: False, using: 0 TPU cores\n",
      "IPU available: False, using: 0 IPUs\n"
     ]
    },
    {
     "name": "stdout",
     "output_type": "stream",
     "text": [
      "0.1\n"
     ]
    },
    {
     "name": "stderr",
     "output_type": "stream",
     "text": [
      "\n",
      "  | Name      | Type    | Params\n",
      "--------------------------------------\n",
      "0 | encoder   | Linear  | 230 K \n",
      "1 | act_1     | Sigmoid | 0     \n",
      "2 | decoder   | Linear  | 232 K \n",
      "3 | act_2     | Sigmoid | 0     \n",
      "4 | loss_func | MSELoss | 0     \n",
      "--------------------------------------\n",
      "463 K     Trainable params\n",
      "0         Non-trainable params\n",
      "463 K     Total params\n",
      "1.852     Total estimated model params size (MB)\n"
     ]
    },
    {
     "name": "stdout",
     "output_type": "stream",
     "text": [
      "Epoch 0:  50%|█████     | 41/82 [00:00<00:00, 71.04it/s, loss=1.1, v_num=447] \n",
      "Validating: 0it [00:00, ?it/s]\u001B[A\n",
      "Epoch 0: 100%|██████████| 82/82 [00:00<00:00, 126.47it/s, loss=1.1, v_num=447]\n",
      "Epoch 1:  50%|█████     | 41/82 [00:00<00:00, 68.17it/s, loss=1.17, v_num=447]\n",
      "Validating: 0it [00:00, ?it/s]\u001B[A\n",
      "Epoch 1: 100%|██████████| 82/82 [00:00<00:00, 121.98it/s, loss=1.17, v_num=447]\n",
      "Epoch 2:  50%|█████     | 41/82 [00:00<00:00, 68.86it/s, loss=1.08, v_num=447] \n",
      "Validating: 0it [00:00, ?it/s]\u001B[A\n",
      "Epoch 2: 100%|██████████| 82/82 [00:00<00:00, 122.09it/s, loss=1.08, v_num=447]\n",
      "Epoch 3:  50%|█████     | 41/82 [00:00<00:00, 67.31it/s, loss=1.19, v_num=447] \n",
      "Validating: 0it [00:00, ?it/s]\u001B[A\n",
      "Epoch 3: 100%|██████████| 82/82 [00:00<00:00, 120.72it/s, loss=1.19, v_num=447]\n",
      "Epoch 4:  50%|█████     | 41/82 [00:00<00:00, 73.11it/s, loss=1.13, v_num=447] \n",
      "Validating: 0it [00:00, ?it/s]\u001B[A\n",
      "Epoch 4: 100%|██████████| 82/82 [00:00<00:00, 132.10it/s, loss=1.13, v_num=447]\n",
      "Epoch 5:  50%|█████     | 41/82 [00:00<00:00, 71.18it/s, loss=1.2, v_num=447]  \n",
      "Validating: 0it [00:00, ?it/s]\u001B[A\n",
      "Epoch 5: 100%|██████████| 82/82 [00:00<00:00, 126.87it/s, loss=1.2, v_num=447]\n",
      "Epoch 6:  50%|█████     | 41/82 [00:00<00:00, 68.97it/s, loss=1.09, v_num=447]\n",
      "Validating: 0it [00:00, ?it/s]\u001B[A\n",
      "Epoch 6: 100%|██████████| 82/82 [00:00<00:00, 123.27it/s, loss=1.09, v_num=447]\n",
      "Epoch 7:  50%|█████     | 41/82 [00:00<00:00, 68.16it/s, loss=1.08, v_num=447] \n",
      "Validating: 0it [00:00, ?it/s]\u001B[A\n",
      "Epoch 7: 100%|██████████| 82/82 [00:00<00:00, 121.59it/s, loss=1.08, v_num=447]\n",
      "Epoch 8:  50%|█████     | 41/82 [00:00<00:00, 69.72it/s, loss=1.07, v_num=447] \n",
      "Validating: 0it [00:00, ?it/s]\u001B[A\n",
      "Epoch 8: 100%|██████████| 82/82 [00:00<00:00, 126.78it/s, loss=1.07, v_num=447]\n",
      "Epoch 9:  50%|█████     | 41/82 [00:00<00:00, 67.43it/s, loss=1.14, v_num=447] \n",
      "Validating: 0it [00:00, ?it/s]\u001B[A\n",
      "Epoch 9: 100%|██████████| 82/82 [00:00<00:00, 122.46it/s, loss=1.14, v_num=447]\n",
      "Epoch 9: 100%|██████████| 82/82 [00:00<00:00, 120.39it/s, loss=1.14, v_num=447]\n"
     ]
    },
    {
     "name": "stderr",
     "output_type": "stream",
     "text": [
      "GPU available: True, used: False\n",
      "TPU available: False, using: 0 TPU cores\n",
      "IPU available: False, using: 0 IPUs\n"
     ]
    },
    {
     "name": "stdout",
     "output_type": "stream",
     "text": [
      "1\n"
     ]
    },
    {
     "name": "stderr",
     "output_type": "stream",
     "text": [
      "\n",
      "  | Name      | Type    | Params\n",
      "--------------------------------------\n",
      "0 | encoder   | Linear  | 230 K \n",
      "1 | act_1     | Sigmoid | 0     \n",
      "2 | decoder   | Linear  | 232 K \n",
      "3 | act_2     | Sigmoid | 0     \n",
      "4 | loss_func | MSELoss | 0     \n",
      "--------------------------------------\n",
      "463 K     Trainable params\n",
      "0         Non-trainable params\n",
      "463 K     Total params\n",
      "1.852     Total estimated model params size (MB)\n"
     ]
    },
    {
     "name": "stdout",
     "output_type": "stream",
     "text": [
      "Epoch 0:  50%|█████     | 41/82 [00:00<00:00, 67.55it/s, loss=1.16, v_num=448]\n",
      "Validating: 0it [00:00, ?it/s]\u001B[A\n",
      "Epoch 0: 100%|██████████| 82/82 [00:00<00:00, 121.90it/s, loss=1.16, v_num=448]\n",
      "Epoch 1:  50%|█████     | 41/82 [00:00<00:00, 68.33it/s, loss=1.22, v_num=448] \n",
      "Validating: 0it [00:00, ?it/s]\u001B[A\n",
      "Epoch 1: 100%|██████████| 82/82 [00:00<00:00, 121.97it/s, loss=1.22, v_num=448]\n",
      "Epoch 2:  50%|█████     | 41/82 [00:00<00:00, 70.06it/s, loss=1.07, v_num=448] \n",
      "Validating: 0it [00:00, ?it/s]\u001B[A\n",
      "Epoch 2: 100%|██████████| 82/82 [00:00<00:00, 124.40it/s, loss=1.07, v_num=448]\n",
      "Epoch 3:  50%|█████     | 41/82 [00:00<00:00, 72.21it/s, loss=1.15, v_num=448] \n",
      "Validating: 0it [00:00, ?it/s]\u001B[A\n",
      "Epoch 3: 100%|██████████| 82/82 [00:00<00:00, 128.32it/s, loss=1.15, v_num=448]\n",
      "Epoch 4:  50%|█████     | 41/82 [00:00<00:00, 61.84it/s, loss=1.11, v_num=448] \n",
      "Validating: 0it [00:00, ?it/s]\u001B[A\n",
      "Epoch 4: 100%|██████████| 82/82 [00:00<00:00, 113.64it/s, loss=1.11, v_num=448]\n",
      "Epoch 5:  50%|█████     | 41/82 [00:00<00:00, 69.72it/s, loss=1.15, v_num=448] \n",
      "Validating: 0it [00:00, ?it/s]\u001B[A\n",
      "Epoch 5: 100%|██████████| 82/82 [00:00<00:00, 124.02it/s, loss=1.15, v_num=448]\n",
      "Epoch 6:  50%|█████     | 41/82 [00:00<00:00, 67.46it/s, loss=1.11, v_num=448] \n",
      "Validating: 0it [00:00, ?it/s]\u001B[A\n",
      "Epoch 6: 100%|██████████| 82/82 [00:00<00:00, 120.89it/s, loss=1.11, v_num=448]\n",
      "Epoch 7:  50%|█████     | 41/82 [00:00<00:00, 72.63it/s, loss=1.09, v_num=448] \n",
      "Validating: 0it [00:00, ?it/s]\u001B[A\n",
      "Epoch 7: 100%|██████████| 82/82 [00:00<00:00, 129.06it/s, loss=1.09, v_num=448]\n",
      "Epoch 8:  50%|█████     | 41/82 [00:00<00:00, 71.80it/s, loss=1.02, v_num=448] \n",
      "Validating: 0it [00:00, ?it/s]\u001B[A\n",
      "Epoch 8: 100%|██████████| 82/82 [00:00<00:00, 130.19it/s, loss=1.02, v_num=448]\n",
      "Epoch 9:  50%|█████     | 41/82 [00:00<00:00, 68.76it/s, loss=1.16, v_num=448] \n",
      "Validating: 0it [00:00, ?it/s]\u001B[A\n",
      "Epoch 9: 100%|██████████| 82/82 [00:00<00:00, 124.75it/s, loss=1.16, v_num=448]\n",
      "Epoch 9: 100%|██████████| 82/82 [00:00<00:00, 122.30it/s, loss=1.16, v_num=448]\n"
     ]
    },
    {
     "name": "stderr",
     "output_type": "stream",
     "text": [
      "GPU available: True, used: False\n",
      "TPU available: False, using: 0 TPU cores\n",
      "IPU available: False, using: 0 IPUs\n"
     ]
    },
    {
     "name": "stdout",
     "output_type": "stream",
     "text": [
      "100\n"
     ]
    },
    {
     "name": "stderr",
     "output_type": "stream",
     "text": [
      "\n",
      "  | Name      | Type    | Params\n",
      "--------------------------------------\n",
      "0 | encoder   | Linear  | 230 K \n",
      "1 | act_1     | Sigmoid | 0     \n",
      "2 | decoder   | Linear  | 232 K \n",
      "3 | act_2     | Sigmoid | 0     \n",
      "4 | loss_func | MSELoss | 0     \n",
      "--------------------------------------\n",
      "463 K     Trainable params\n",
      "0         Non-trainable params\n",
      "463 K     Total params\n",
      "1.852     Total estimated model params size (MB)\n"
     ]
    },
    {
     "name": "stdout",
     "output_type": "stream",
     "text": [
      "Epoch 0:  50%|█████     | 41/82 [00:00<00:00, 72.13it/s, loss=1.1, v_num=449] \n",
      "Validating: 0it [00:00, ?it/s]\u001B[A\n",
      "Epoch 0: 100%|██████████| 82/82 [00:00<00:00, 127.64it/s, loss=1.1, v_num=449]\n",
      "Epoch 1:  50%|█████     | 41/82 [00:00<00:00, 67.24it/s, loss=1.1, v_num=449] \n",
      "Validating: 0it [00:00, ?it/s]\u001B[A\n",
      "Epoch 1: 100%|██████████| 82/82 [00:00<00:00, 120.22it/s, loss=1.1, v_num=449]\n",
      "Epoch 2:  50%|█████     | 41/82 [00:00<00:00, 67.12it/s, loss=1.12, v_num=449]\n",
      "Validating: 0it [00:00, ?it/s]\u001B[A\n",
      "Epoch 2: 100%|██████████| 82/82 [00:00<00:00, 122.01it/s, loss=1.12, v_num=449]\n",
      "Epoch 3:  50%|█████     | 41/82 [00:00<00:00, 69.40it/s, loss=1.14, v_num=449] \n",
      "Validating: 0it [00:00, ?it/s]\u001B[A\n",
      "Epoch 3: 100%|██████████| 82/82 [00:00<00:00, 123.81it/s, loss=1.14, v_num=449]\n",
      "Epoch 4:  50%|█████     | 41/82 [00:00<00:00, 73.22it/s, loss=1.05, v_num=449] \n",
      "Validating: 0it [00:00, ?it/s]\u001B[A\n",
      "Epoch 4: 100%|██████████| 82/82 [00:00<00:00, 131.94it/s, loss=1.05, v_num=449]\n",
      "Epoch 5:  50%|█████     | 41/82 [00:00<00:00, 71.56it/s, loss=1.14, v_num=449] \n",
      "Validating: 0it [00:00, ?it/s]\u001B[A\n",
      "Epoch 5: 100%|██████████| 82/82 [00:00<00:00, 126.82it/s, loss=1.14, v_num=449]\n",
      "Epoch 6:  50%|█████     | 41/82 [00:00<00:00, 71.46it/s, loss=1.11, v_num=449] \n",
      "Validating: 0it [00:00, ?it/s]\u001B[A\n",
      "Epoch 6: 100%|██████████| 82/82 [00:00<00:00, 129.70it/s, loss=1.11, v_num=449]\n",
      "Epoch 7:  50%|█████     | 41/82 [00:00<00:00, 70.02it/s, loss=1.22, v_num=449] \n",
      "Validating: 0it [00:00, ?it/s]\u001B[A\n",
      "Epoch 7: 100%|██████████| 82/82 [00:00<00:00, 124.86it/s, loss=1.22, v_num=449]\n",
      "Epoch 8:  50%|█████     | 41/82 [00:00<00:00, 68.31it/s, loss=1.1, v_num=449]  \n",
      "Validating: 0it [00:00, ?it/s]\u001B[A\n",
      "Epoch 8: 100%|██████████| 82/82 [00:00<00:00, 124.71it/s, loss=1.1, v_num=449]\n",
      "Epoch 9:  50%|█████     | 41/82 [00:00<00:00, 69.45it/s, loss=1.08, v_num=449]\n",
      "Validating: 0it [00:00, ?it/s]\u001B[A\n",
      "Epoch 9: 100%|██████████| 82/82 [00:00<00:00, 123.69it/s, loss=1.08, v_num=449]\n",
      "Epoch 9: 100%|██████████| 82/82 [00:00<00:00, 121.12it/s, loss=1.08, v_num=449]\n"
     ]
    },
    {
     "name": "stderr",
     "output_type": "stream",
     "text": [
      "GPU available: True, used: False\n",
      "TPU available: False, using: 0 TPU cores\n",
      "IPU available: False, using: 0 IPUs\n"
     ]
    },
    {
     "name": "stdout",
     "output_type": "stream",
     "text": [
      "0.01\n"
     ]
    },
    {
     "name": "stderr",
     "output_type": "stream",
     "text": [
      "\n",
      "  | Name      | Type    | Params\n",
      "--------------------------------------\n",
      "0 | encoder   | Linear  | 863 K \n",
      "1 | act_1     | PReLU   | 1     \n",
      "2 | decoder   | Linear  | 865 K \n",
      "3 | act_2     | PReLU   | 1     \n",
      "4 | loss_func | MSELoss | 0     \n",
      "--------------------------------------\n",
      "1.7 M     Trainable params\n",
      "0         Non-trainable params\n",
      "1.7 M     Total params\n",
      "6.915     Total estimated model params size (MB)\n"
     ]
    },
    {
     "name": "stdout",
     "output_type": "stream",
     "text": [
      "Epoch 0:  50%|█████     | 41/82 [00:00<00:00, 49.37it/s, loss=2.16, v_num=450]\n",
      "Validating: 0it [00:00, ?it/s]\u001B[A\n",
      "Epoch 0: 100%|██████████| 82/82 [00:00<00:00, 89.09it/s, loss=2.16, v_num=450]\n",
      "Epoch 1:  50%|█████     | 41/82 [00:00<00:00, 50.07it/s, loss=1.52, v_num=450]\n",
      "Validating: 0it [00:00, ?it/s]\u001B[A\n",
      "Epoch 1: 100%|██████████| 82/82 [00:00<00:00, 90.26it/s, loss=1.52, v_num=450]\n",
      "Epoch 2:  50%|█████     | 41/82 [00:00<00:00, 48.56it/s, loss=1.38, v_num=450]\n",
      "Validating: 0it [00:00, ?it/s]\u001B[A\n",
      "Epoch 2: 100%|██████████| 82/82 [00:00<00:00, 87.43it/s, loss=1.38, v_num=450]\n",
      "Epoch 3:  50%|█████     | 41/82 [00:00<00:00, 47.13it/s, loss=1.41, v_num=450]\n",
      "Validating: 0it [00:00, ?it/s]\u001B[A\n",
      "Epoch 3: 100%|██████████| 82/82 [00:00<00:00, 86.37it/s, loss=1.41, v_num=450]\n",
      "Epoch 4:  50%|█████     | 41/82 [00:00<00:00, 49.70it/s, loss=1.33, v_num=450]\n",
      "Validating: 0it [00:00, ?it/s]\u001B[A\n",
      "Epoch 4: 100%|██████████| 82/82 [00:00<00:00, 89.93it/s, loss=1.33, v_num=450]\n",
      "Epoch 5:  50%|█████     | 41/82 [00:00<00:00, 48.31it/s, loss=1.18, v_num=450]\n",
      "Validating: 0it [00:00, ?it/s]\u001B[A\n",
      "Epoch 5: 100%|██████████| 82/82 [00:00<00:00, 89.26it/s, loss=1.18, v_num=450]\n",
      "Epoch 6:  50%|█████     | 41/82 [00:00<00:00, 47.91it/s, loss=1.16, v_num=450]\n",
      "Validating: 0it [00:00, ?it/s]\u001B[A\n",
      "Epoch 6: 100%|██████████| 82/82 [00:00<00:00, 86.76it/s, loss=1.16, v_num=450]\n",
      "Epoch 7:  50%|█████     | 41/82 [00:00<00:00, 47.12it/s, loss=1.05, v_num=450]\n",
      "Validating: 0it [00:00, ?it/s]\u001B[A\n",
      "Epoch 7: 100%|██████████| 82/82 [00:00<00:00, 86.12it/s, loss=1.05, v_num=450]\n",
      "Epoch 8:  50%|█████     | 41/82 [00:00<00:00, 46.56it/s, loss=1.03, v_num=450] \n",
      "Validating: 0it [00:00, ?it/s]\u001B[A\n",
      "Epoch 8: 100%|██████████| 82/82 [00:00<00:00, 84.77it/s, loss=1.03, v_num=450]\n",
      "Epoch 9:  50%|█████     | 41/82 [00:00<00:00, 48.67it/s, loss=1, v_num=450]    \n",
      "Validating: 0it [00:00, ?it/s]\u001B[A\n",
      "Epoch 9: 100%|██████████| 82/82 [00:00<00:00, 89.93it/s, loss=1, v_num=450]\n",
      "Epoch 9: 100%|██████████| 82/82 [00:00<00:00, 87.17it/s, loss=1, v_num=450]\n"
     ]
    },
    {
     "name": "stderr",
     "output_type": "stream",
     "text": [
      "GPU available: True, used: False\n",
      "TPU available: False, using: 0 TPU cores\n",
      "IPU available: False, using: 0 IPUs\n",
      "\n",
      "  | Name      | Type    | Params\n",
      "--------------------------------------\n",
      "0 | encoder   | Linear  | 863 K \n",
      "1 | act_1     | PReLU   | 1     \n",
      "2 | decoder   | Linear  | 865 K \n",
      "3 | act_2     | PReLU   | 1     \n",
      "4 | loss_func | MSELoss | 0     \n",
      "--------------------------------------\n",
      "1.7 M     Trainable params\n",
      "0         Non-trainable params\n",
      "1.7 M     Total params\n",
      "6.915     Total estimated model params size (MB)\n"
     ]
    },
    {
     "name": "stdout",
     "output_type": "stream",
     "text": [
      "0.1\n",
      "Epoch 0:  50%|█████     | 41/82 [00:00<00:00, 45.83it/s, loss=1.8, v_num=451] \n",
      "Validating: 0it [00:00, ?it/s]\u001B[A\n",
      "Epoch 0: 100%|██████████| 82/82 [00:00<00:00, 83.78it/s, loss=1.8, v_num=451]\n",
      "Epoch 1:  50%|█████     | 41/82 [00:00<00:00, 48.28it/s, loss=1.36, v_num=451]\n",
      "Validating: 0it [00:00, ?it/s]\u001B[A\n",
      "Epoch 1: 100%|██████████| 82/82 [00:00<00:00, 86.97it/s, loss=1.36, v_num=451]\n",
      "Epoch 2:  50%|█████     | 41/82 [00:00<00:00, 48.03it/s, loss=1.27, v_num=451]\n",
      "Validating: 0it [00:00, ?it/s]\u001B[A\n",
      "Epoch 2: 100%|██████████| 82/82 [00:00<00:00, 87.21it/s, loss=1.27, v_num=451]\n",
      "Epoch 3:  50%|█████     | 41/82 [00:00<00:00, 47.27it/s, loss=1.15, v_num=451]\n",
      "Validating: 0it [00:00, ?it/s]\u001B[A\n",
      "Epoch 3: 100%|██████████| 82/82 [00:00<00:00, 86.62it/s, loss=1.15, v_num=451]\n",
      "Epoch 4:  50%|█████     | 41/82 [00:00<00:00, 47.50it/s, loss=1.17, v_num=451]\n",
      "Validating: 0it [00:00, ?it/s]\u001B[A\n",
      "Epoch 4: 100%|██████████| 82/82 [00:00<00:00, 87.86it/s, loss=1.17, v_num=451]\n",
      "Epoch 5:  50%|█████     | 41/82 [00:00<00:00, 49.81it/s, loss=1.22, v_num=451]\n",
      "Validating: 0it [00:00, ?it/s]\u001B[A\n",
      "Epoch 5: 100%|██████████| 82/82 [00:00<00:00, 91.35it/s, loss=1.22, v_num=451]\n",
      "Epoch 6:  50%|█████     | 41/82 [00:00<00:00, 48.97it/s, loss=1.1, v_num=451] \n",
      "Validating: 0it [00:00, ?it/s]\u001B[A\n",
      "Epoch 6: 100%|██████████| 82/82 [00:00<00:00, 89.37it/s, loss=1.1, v_num=451]\n",
      "Epoch 7:  50%|█████     | 41/82 [00:00<00:00, 47.29it/s, loss=1.09, v_num=451]\n",
      "Validating: 0it [00:00, ?it/s]\u001B[A\n",
      "Epoch 7: 100%|██████████| 82/82 [00:00<00:00, 85.53it/s, loss=1.09, v_num=451]\n",
      "Epoch 8:  50%|█████     | 41/82 [00:00<00:00, 45.84it/s, loss=1.1, v_num=451] \n",
      "Validating: 0it [00:00, ?it/s]\u001B[A\n",
      "Epoch 8: 100%|██████████| 82/82 [00:00<00:00, 82.61it/s, loss=1.1, v_num=451]\n",
      "Epoch 9:  50%|█████     | 41/82 [00:00<00:00, 46.68it/s, loss=1.06, v_num=451]\n",
      "Validating: 0it [00:00, ?it/s]\u001B[A\n",
      "Epoch 9: 100%|██████████| 82/82 [00:00<00:00, 84.94it/s, loss=1.06, v_num=451]\n",
      "Epoch 9: 100%|██████████| 82/82 [00:00<00:00, 82.03it/s, loss=1.06, v_num=451]\n"
     ]
    },
    {
     "name": "stderr",
     "output_type": "stream",
     "text": [
      "GPU available: True, used: False\n",
      "TPU available: False, using: 0 TPU cores\n",
      "IPU available: False, using: 0 IPUs\n",
      "\n",
      "  | Name      | Type    | Params\n",
      "--------------------------------------\n",
      "0 | encoder   | Linear  | 863 K \n",
      "1 | act_1     | PReLU   | 1     \n",
      "2 | decoder   | Linear  | 865 K \n",
      "3 | act_2     | PReLU   | 1     \n",
      "4 | loss_func | MSELoss | 0     \n",
      "--------------------------------------\n",
      "1.7 M     Trainable params\n",
      "0         Non-trainable params\n",
      "1.7 M     Total params\n",
      "6.915     Total estimated model params size (MB)\n"
     ]
    },
    {
     "name": "stdout",
     "output_type": "stream",
     "text": [
      "1\n",
      "Epoch 0:  50%|█████     | 41/82 [00:00<00:00, 47.24it/s, loss=1.55, v_num=452]\n",
      "Validating: 0it [00:00, ?it/s]\u001B[A\n",
      "Epoch 0: 100%|██████████| 82/82 [00:00<00:00, 85.07it/s, loss=1.55, v_num=452]\n",
      "Epoch 1:  50%|█████     | 41/82 [00:00<00:00, 47.88it/s, loss=1.31, v_num=452]\n",
      "Validating: 0it [00:00, ?it/s]\u001B[A\n",
      "Epoch 1: 100%|██████████| 82/82 [00:00<00:00, 87.17it/s, loss=1.31, v_num=452]\n",
      "Epoch 2:  50%|█████     | 41/82 [00:00<00:00, 47.76it/s, loss=1.19, v_num=452]\n",
      "Validating: 0it [00:00, ?it/s]\u001B[A\n",
      "Epoch 2: 100%|██████████| 82/82 [00:00<00:00, 88.06it/s, loss=1.19, v_num=452]\n",
      "Epoch 3:  50%|█████     | 41/82 [00:00<00:00, 48.59it/s, loss=1.2, v_num=452]  \n",
      "Validating: 0it [00:00, ?it/s]\u001B[A\n",
      "Epoch 3: 100%|██████████| 82/82 [00:00<00:00, 89.88it/s, loss=1.2, v_num=452]\n",
      "Epoch 4:  50%|█████     | 41/82 [00:00<00:00, 48.01it/s, loss=1.11, v_num=452] \n",
      "Validating: 0it [00:00, ?it/s]\u001B[A\n",
      "Epoch 4: 100%|██████████| 82/82 [00:00<00:00, 86.29it/s, loss=1.11, v_num=452]\n",
      "Epoch 5:  50%|█████     | 41/82 [00:00<00:00, 48.81it/s, loss=1.09, v_num=452] \n",
      "Validating: 0it [00:00, ?it/s]\u001B[A\n",
      "Epoch 5: 100%|██████████| 82/82 [00:00<00:00, 88.45it/s, loss=1.09, v_num=452]\n",
      "Epoch 6:  50%|█████     | 41/82 [00:00<00:00, 48.27it/s, loss=1.09, v_num=452] \n",
      "Validating: 0it [00:00, ?it/s]\u001B[A\n",
      "Epoch 6: 100%|██████████| 82/82 [00:00<00:00, 88.42it/s, loss=1.09, v_num=452]\n",
      "Epoch 7:  50%|█████     | 41/82 [00:00<00:00, 48.15it/s, loss=0.997, v_num=452]\n",
      "Validating: 0it [00:00, ?it/s]\u001B[A\n",
      "Epoch 7: 100%|██████████| 82/82 [00:00<00:00, 88.08it/s, loss=0.997, v_num=452]\n",
      "Epoch 8:  50%|█████     | 41/82 [00:00<00:00, 46.76it/s, loss=1.12, v_num=452] \n",
      "Validating: 0it [00:00, ?it/s]\u001B[A\n",
      "Epoch 8: 100%|██████████| 82/82 [00:00<00:00, 85.55it/s, loss=1.12, v_num=452]\n",
      "Epoch 9:  50%|█████     | 41/82 [00:00<00:00, 46.72it/s, loss=1.13, v_num=452] \n",
      "Validating: 0it [00:00, ?it/s]\u001B[A\n",
      "Epoch 9: 100%|██████████| 82/82 [00:00<00:00, 86.58it/s, loss=1.13, v_num=452]\n",
      "Epoch 9: 100%|██████████| 82/82 [00:00<00:00, 83.23it/s, loss=1.13, v_num=452]"
     ]
    },
    {
     "name": "stderr",
     "output_type": "stream",
     "text": [
      "GPU available: True, used: False\n",
      "TPU available: False, using: 0 TPU cores\n",
      "IPU available: False, using: 0 IPUs\n",
      "\n",
      "  | Name      | Type    | Params\n",
      "--------------------------------------\n",
      "0 | encoder   | Linear  | 863 K \n",
      "1 | act_1     | PReLU   | 1     \n",
      "2 | decoder   | Linear  | 865 K \n",
      "3 | act_2     | PReLU   | 1     \n",
      "4 | loss_func | MSELoss | 0     \n",
      "--------------------------------------\n",
      "1.7 M     Trainable params\n",
      "0         Non-trainable params\n",
      "1.7 M     Total params\n",
      "6.915     Total estimated model params size (MB)\n"
     ]
    },
    {
     "name": "stdout",
     "output_type": "stream",
     "text": [
      "\n",
      "100\n",
      "Epoch 0:  50%|█████     | 41/82 [00:00<00:00, 48.34it/s, loss=1.51, v_num=453]\n",
      "Validating: 0it [00:00, ?it/s]\u001B[A\n",
      "Epoch 0: 100%|██████████| 82/82 [00:00<00:00, 87.62it/s, loss=1.51, v_num=453]\n",
      "Epoch 1:  50%|█████     | 41/82 [00:00<00:00, 46.03it/s, loss=1.56, v_num=453]\n",
      "Validating: 0it [00:00, ?it/s]\u001B[A\n",
      "Epoch 1: 100%|██████████| 82/82 [00:00<00:00, 84.93it/s, loss=1.56, v_num=453]\n",
      "Epoch 2:  50%|█████     | 41/82 [00:00<00:00, 47.66it/s, loss=1.6, v_num=453] \n",
      "Validating: 0it [00:00, ?it/s]\u001B[A\n",
      "Epoch 2: 100%|██████████| 82/82 [00:00<00:00, 87.64it/s, loss=1.6, v_num=453]\n",
      "Epoch 3:  50%|█████     | 41/82 [00:00<00:00, 46.56it/s, loss=1.52, v_num=453]\n",
      "Validating: 0it [00:00, ?it/s]\u001B[A\n",
      "Epoch 3: 100%|██████████| 82/82 [00:00<00:00, 84.61it/s, loss=1.52, v_num=453]\n",
      "Epoch 4:  50%|█████     | 41/82 [00:00<00:00, 46.36it/s, loss=1.55, v_num=453]\n",
      "Validating: 0it [00:00, ?it/s]\u001B[A\n",
      "Epoch 4: 100%|██████████| 82/82 [00:00<00:00, 83.99it/s, loss=1.55, v_num=453]\n",
      "Epoch 5:  50%|█████     | 41/82 [00:00<00:00, 49.48it/s, loss=1.63, v_num=453]\n",
      "Validating: 0it [00:00, ?it/s]\u001B[A\n",
      "Epoch 5: 100%|██████████| 82/82 [00:00<00:00, 91.27it/s, loss=1.63, v_num=453]\n",
      "Epoch 6:  50%|█████     | 41/82 [00:00<00:00, 47.53it/s, loss=1.66, v_num=453]\n",
      "Validating: 0it [00:00, ?it/s]\u001B[A\n",
      "Epoch 6: 100%|██████████| 82/82 [00:00<00:00, 86.23it/s, loss=1.66, v_num=453]\n",
      "Epoch 7:  50%|█████     | 41/82 [00:00<00:00, 46.79it/s, loss=1.65, v_num=453]\n",
      "Validating: 0it [00:00, ?it/s]\u001B[A\n",
      "Epoch 7: 100%|██████████| 82/82 [00:00<00:00, 86.64it/s, loss=1.65, v_num=453]\n",
      "Epoch 8:  50%|█████     | 41/82 [00:00<00:00, 47.37it/s, loss=1.64, v_num=453]\n",
      "Validating: 0it [00:00, ?it/s]\u001B[A\n",
      "Epoch 8: 100%|██████████| 82/82 [00:00<00:00, 86.74it/s, loss=1.64, v_num=453]\n",
      "Epoch 9:  50%|█████     | 41/82 [00:00<00:00, 48.17it/s, loss=1.56, v_num=453]\n",
      "Validating: 0it [00:00, ?it/s]\u001B[A\n",
      "Epoch 9: 100%|██████████| 82/82 [00:00<00:00, 89.12it/s, loss=1.56, v_num=453]\n",
      "Epoch 9: 100%|██████████| 82/82 [00:00<00:00, 86.44it/s, loss=1.56, v_num=453]\n"
     ]
    },
    {
     "name": "stderr",
     "output_type": "stream",
     "text": [
      "GPU available: True, used: False\n",
      "TPU available: False, using: 0 TPU cores\n",
      "IPU available: False, using: 0 IPUs\n",
      "\n",
      "  | Name      | Type    | Params\n",
      "--------------------------------------\n",
      "0 | encoder   | Linear  | 863 K \n",
      "1 | act_1     | Sigmoid | 0     \n",
      "2 | decoder   | Linear  | 865 K \n",
      "3 | act_2     | Sigmoid | 0     \n",
      "4 | loss_func | MSELoss | 0     \n",
      "--------------------------------------\n",
      "1.7 M     Trainable params\n",
      "0         Non-trainable params\n",
      "1.7 M     Total params\n",
      "6.915     Total estimated model params size (MB)\n"
     ]
    },
    {
     "name": "stdout",
     "output_type": "stream",
     "text": [
      "0.01\n",
      "Epoch 0:  50%|█████     | 41/82 [00:00<00:00, 48.62it/s, loss=1.09, v_num=454]\n",
      "Validating: 0it [00:00, ?it/s]\u001B[A\n",
      "Epoch 0: 100%|██████████| 82/82 [00:00<00:00, 88.58it/s, loss=1.09, v_num=454]\n",
      "Epoch 1:  50%|█████     | 41/82 [00:00<00:00, 47.49it/s, loss=1.03, v_num=454] \n",
      "Validating: 0it [00:00, ?it/s]\u001B[A\n",
      "Epoch 1: 100%|██████████| 82/82 [00:00<00:00, 87.56it/s, loss=1.03, v_num=454]\n",
      "Epoch 2:  50%|█████     | 41/82 [00:00<00:00, 46.03it/s, loss=1.04, v_num=454] \n",
      "Validating: 0it [00:00, ?it/s]\u001B[A\n",
      "Epoch 2: 100%|██████████| 82/82 [00:00<00:00, 85.07it/s, loss=1.04, v_num=454]\n",
      "Epoch 3:  50%|█████     | 41/82 [00:00<00:00, 49.61it/s, loss=1.04, v_num=454] \n",
      "Validating: 0it [00:00, ?it/s]\u001B[A\n",
      "Epoch 3: 100%|██████████| 82/82 [00:00<00:00, 89.65it/s, loss=1.04, v_num=454]\n",
      "Epoch 4:  50%|█████     | 41/82 [00:00<00:00, 48.31it/s, loss=1.07, v_num=454] \n",
      "Validating: 0it [00:00, ?it/s]\u001B[A\n",
      "Epoch 4: 100%|██████████| 82/82 [00:00<00:00, 87.59it/s, loss=1.07, v_num=454]\n",
      "Epoch 5:  50%|█████     | 41/82 [00:00<00:00, 47.08it/s, loss=0.988, v_num=454]\n",
      "Validating: 0it [00:00, ?it/s]\u001B[A\n",
      "Epoch 5: 100%|██████████| 82/82 [00:00<00:00, 87.03it/s, loss=0.988, v_num=454]\n",
      "Epoch 6:  50%|█████     | 41/82 [00:00<00:00, 45.41it/s, loss=0.971, v_num=454]\n",
      "Validating: 0it [00:00, ?it/s]\u001B[A\n",
      "Epoch 6: 100%|██████████| 82/82 [00:00<00:00, 83.59it/s, loss=0.971, v_num=454]\n",
      "Epoch 7:  50%|█████     | 41/82 [00:00<00:00, 47.85it/s, loss=0.986, v_num=454]\n",
      "Validating: 0it [00:00, ?it/s]\u001B[A\n",
      "Epoch 7: 100%|██████████| 82/82 [00:00<00:00, 88.12it/s, loss=0.986, v_num=454]\n",
      "Epoch 8:  50%|█████     | 41/82 [00:00<00:00, 46.49it/s, loss=0.984, v_num=454]\n",
      "Validating: 0it [00:00, ?it/s]\u001B[A\n",
      "Epoch 8: 100%|██████████| 82/82 [00:00<00:00, 84.71it/s, loss=0.984, v_num=454]\n",
      "Epoch 9:  50%|█████     | 41/82 [00:00<00:00, 48.16it/s, loss=1.08, v_num=454] \n",
      "Validating: 0it [00:00, ?it/s]\u001B[A\n",
      "Epoch 9: 100%|██████████| 82/82 [00:00<00:00, 86.83it/s, loss=1.08, v_num=454]\n",
      "Epoch 9: 100%|██████████| 82/82 [00:00<00:00, 83.33it/s, loss=1.08, v_num=454]\n"
     ]
    },
    {
     "name": "stderr",
     "output_type": "stream",
     "text": [
      "GPU available: True, used: False\n",
      "TPU available: False, using: 0 TPU cores\n",
      "IPU available: False, using: 0 IPUs\n",
      "\n",
      "  | Name      | Type    | Params\n",
      "--------------------------------------\n",
      "0 | encoder   | Linear  | 863 K \n",
      "1 | act_1     | Sigmoid | 0     \n",
      "2 | decoder   | Linear  | 865 K \n",
      "3 | act_2     | Sigmoid | 0     \n",
      "4 | loss_func | MSELoss | 0     \n",
      "--------------------------------------\n",
      "1.7 M     Trainable params\n",
      "0         Non-trainable params\n",
      "1.7 M     Total params\n",
      "6.915     Total estimated model params size (MB)\n"
     ]
    },
    {
     "name": "stdout",
     "output_type": "stream",
     "text": [
      "0.1\n",
      "Epoch 0:  50%|█████     | 41/82 [00:00<00:00, 46.98it/s, loss=1.08, v_num=455]\n",
      "Validating: 0it [00:00, ?it/s]\u001B[A\n",
      "Epoch 0: 100%|██████████| 82/82 [00:00<00:00, 86.50it/s, loss=1.08, v_num=455]\n",
      "Epoch 1:  50%|█████     | 41/82 [00:00<00:00, 48.04it/s, loss=1.02, v_num=455] \n",
      "Validating: 0it [00:00, ?it/s]\u001B[A\n",
      "Epoch 1: 100%|██████████| 82/82 [00:00<00:00, 88.52it/s, loss=1.02, v_num=455]\n",
      "Epoch 2:  50%|█████     | 41/82 [00:00<00:00, 47.39it/s, loss=1.16, v_num=455] \n",
      "Validating: 0it [00:00, ?it/s]\u001B[A\n",
      "Epoch 2: 100%|██████████| 82/82 [00:00<00:00, 85.62it/s, loss=1.16, v_num=455]\n",
      "Epoch 3:  50%|█████     | 41/82 [00:00<00:00, 43.99it/s, loss=1.19, v_num=455]\n",
      "Validating: 0it [00:00, ?it/s]\u001B[A\n",
      "Epoch 3: 100%|██████████| 82/82 [00:01<00:00, 81.31it/s, loss=1.19, v_num=455]\n",
      "Epoch 4:  50%|█████     | 41/82 [00:00<00:00, 47.81it/s, loss=1.19, v_num=455]\n",
      "Validating: 0it [00:00, ?it/s]\u001B[A\n",
      "Epoch 4: 100%|██████████| 82/82 [00:00<00:00, 88.04it/s, loss=1.19, v_num=455]\n",
      "Epoch 5:  50%|█████     | 41/82 [00:00<00:00, 47.61it/s, loss=1.14, v_num=455]\n",
      "Validating: 0it [00:00, ?it/s]\u001B[A\n",
      "Epoch 5: 100%|██████████| 82/82 [00:00<00:00, 87.76it/s, loss=1.14, v_num=455]\n",
      "Epoch 6:  50%|█████     | 41/82 [00:00<00:00, 49.08it/s, loss=1.13, v_num=455]\n",
      "Validating: 0it [00:00, ?it/s]\u001B[A\n",
      "Epoch 6: 100%|██████████| 82/82 [00:00<00:00, 90.60it/s, loss=1.13, v_num=455]\n",
      "Epoch 7:  50%|█████     | 41/82 [00:00<00:00, 47.94it/s, loss=1.06, v_num=455]\n",
      "Validating: 0it [00:00, ?it/s]\u001B[A\n",
      "Epoch 7: 100%|██████████| 82/82 [00:00<00:00, 86.84it/s, loss=1.06, v_num=455]\n",
      "Epoch 8:  50%|█████     | 41/82 [00:00<00:00, 46.73it/s, loss=1.14, v_num=455]\n",
      "Validating: 0it [00:00, ?it/s]\u001B[A\n",
      "Epoch 8: 100%|██████████| 82/82 [00:00<00:00, 86.18it/s, loss=1.14, v_num=455]\n",
      "Epoch 9:  50%|█████     | 41/82 [00:00<00:00, 47.88it/s, loss=1.1, v_num=455] \n",
      "Validating: 0it [00:00, ?it/s]\u001B[A\n",
      "Epoch 9: 100%|██████████| 82/82 [00:00<00:00, 86.72it/s, loss=1.1, v_num=455]\n",
      "Epoch 9: 100%|██████████| 82/82 [00:00<00:00, 83.19it/s, loss=1.1, v_num=455]\n"
     ]
    },
    {
     "name": "stderr",
     "output_type": "stream",
     "text": [
      "GPU available: True, used: False\n",
      "TPU available: False, using: 0 TPU cores\n",
      "IPU available: False, using: 0 IPUs\n",
      "\n",
      "  | Name      | Type    | Params\n",
      "--------------------------------------\n",
      "0 | encoder   | Linear  | 863 K \n",
      "1 | act_1     | Sigmoid | 0     \n",
      "2 | decoder   | Linear  | 865 K \n",
      "3 | act_2     | Sigmoid | 0     \n",
      "4 | loss_func | MSELoss | 0     \n",
      "--------------------------------------\n",
      "1.7 M     Trainable params\n",
      "0         Non-trainable params\n",
      "1.7 M     Total params\n",
      "6.915     Total estimated model params size (MB)\n"
     ]
    },
    {
     "name": "stdout",
     "output_type": "stream",
     "text": [
      "1\n",
      "Epoch 0:  50%|█████     | 41/82 [00:00<00:00, 46.81it/s, loss=1.09, v_num=456]\n",
      "Validating: 0it [00:00, ?it/s]\u001B[A\n",
      "Epoch 0: 100%|██████████| 82/82 [00:00<00:00, 84.37it/s, loss=1.09, v_num=456]\n",
      "Epoch 1:  50%|█████     | 41/82 [00:00<00:00, 47.49it/s, loss=1.1, v_num=456] \n",
      "Validating: 0it [00:00, ?it/s]\u001B[A\n",
      "Epoch 1: 100%|██████████| 82/82 [00:00<00:00, 86.38it/s, loss=1.1, v_num=456]\n",
      "Epoch 2:  50%|█████     | 41/82 [00:00<00:00, 46.01it/s, loss=1.1, v_num=456] \n",
      "Validating: 0it [00:00, ?it/s]\u001B[A\n",
      "Epoch 2: 100%|██████████| 82/82 [00:00<00:00, 84.50it/s, loss=1.1, v_num=456]\n",
      "Epoch 3:  50%|█████     | 41/82 [00:00<00:00, 47.40it/s, loss=1.08, v_num=456]\n",
      "Validating: 0it [00:00, ?it/s]\u001B[A\n",
      "Epoch 3: 100%|██████████| 82/82 [00:00<00:00, 87.71it/s, loss=1.08, v_num=456]\n",
      "Epoch 4:  50%|█████     | 41/82 [00:00<00:00, 46.62it/s, loss=1.1, v_num=456] \n",
      "Validating: 0it [00:00, ?it/s]\u001B[A\n",
      "Epoch 4: 100%|██████████| 82/82 [00:00<00:00, 86.05it/s, loss=1.1, v_num=456]\n",
      "Epoch 5:  50%|█████     | 41/82 [00:00<00:00, 49.85it/s, loss=1.12, v_num=456]\n",
      "Validating: 0it [00:00, ?it/s]\u001B[A\n",
      "Epoch 5: 100%|██████████| 82/82 [00:00<00:00, 91.21it/s, loss=1.12, v_num=456]\n",
      "Epoch 6:  50%|█████     | 41/82 [00:00<00:00, 45.52it/s, loss=1.07, v_num=456]\n",
      "Validating: 0it [00:00, ?it/s]\u001B[A\n",
      "Epoch 6: 100%|██████████| 82/82 [00:00<00:00, 83.31it/s, loss=1.07, v_num=456]\n",
      "Epoch 7:  50%|█████     | 41/82 [00:00<00:00, 44.46it/s, loss=1.06, v_num=456]\n",
      "Validating: 0it [00:00, ?it/s]\u001B[A\n",
      "Epoch 7: 100%|██████████| 82/82 [00:01<00:00, 80.90it/s, loss=1.06, v_num=456]\n",
      "Epoch 8:  50%|█████     | 41/82 [00:00<00:00, 44.88it/s, loss=1.11, v_num=456]\n",
      "Validating: 0it [00:00, ?it/s]\u001B[A\n",
      "Epoch 8: 100%|██████████| 82/82 [00:01<00:00, 81.14it/s, loss=1.11, v_num=456]\n",
      "Epoch 9:  50%|█████     | 41/82 [00:00<00:00, 47.00it/s, loss=1.11, v_num=456]\n",
      "Validating: 0it [00:00, ?it/s]\u001B[A\n",
      "Epoch 9: 100%|██████████| 82/82 [00:00<00:00, 85.23it/s, loss=1.11, v_num=456]\n",
      "Epoch 9: 100%|██████████| 82/82 [00:00<00:00, 82.31it/s, loss=1.11, v_num=456]\n"
     ]
    },
    {
     "name": "stderr",
     "output_type": "stream",
     "text": [
      "GPU available: True, used: False\n",
      "TPU available: False, using: 0 TPU cores\n",
      "IPU available: False, using: 0 IPUs\n",
      "\n",
      "  | Name      | Type    | Params\n",
      "--------------------------------------\n",
      "0 | encoder   | Linear  | 863 K \n",
      "1 | act_1     | Sigmoid | 0     \n",
      "2 | decoder   | Linear  | 865 K \n",
      "3 | act_2     | Sigmoid | 0     \n",
      "4 | loss_func | MSELoss | 0     \n",
      "--------------------------------------\n",
      "1.7 M     Trainable params\n",
      "0         Non-trainable params\n",
      "1.7 M     Total params\n",
      "6.915     Total estimated model params size (MB)\n"
     ]
    },
    {
     "name": "stdout",
     "output_type": "stream",
     "text": [
      "100\n",
      "Epoch 0:  50%|█████     | 41/82 [00:00<00:00, 44.92it/s, loss=1.11, v_num=457]\n",
      "Validating: 0it [00:00, ?it/s]\u001B[A\n",
      "Epoch 0: 100%|██████████| 82/82 [00:01<00:00, 81.63it/s, loss=1.11, v_num=457]\n",
      "Epoch 1:  50%|█████     | 41/82 [00:00<00:00, 46.22it/s, loss=1.1, v_num=457] \n",
      "Validating: 0it [00:00, ?it/s]\u001B[A\n",
      "Epoch 1: 100%|██████████| 82/82 [00:00<00:00, 84.08it/s, loss=1.1, v_num=457]\n",
      "Epoch 2:  50%|█████     | 41/82 [00:00<00:00, 45.62it/s, loss=1.17, v_num=457]\n",
      "Validating: 0it [00:00, ?it/s]\u001B[A\n",
      "Epoch 2:  63%|██████▎   | 52/82 [00:00<00:00, 55.43it/s, loss=1.17, v_num=457]\n",
      "Epoch 2: 100%|██████████| 82/82 [00:01<00:00, 79.62it/s, loss=1.17, v_num=457]\n",
      "Epoch 3:  50%|█████     | 41/82 [00:00<00:00, 45.66it/s, loss=1.09, v_num=457]\n",
      "Validating: 0it [00:00, ?it/s]\u001B[A\n",
      "Epoch 3: 100%|██████████| 82/82 [00:00<00:00, 82.24it/s, loss=1.09, v_num=457]\n",
      "Epoch 4:  50%|█████     | 41/82 [00:00<00:00, 44.31it/s, loss=1.16, v_num=457]\n",
      "Validating: 0it [00:00, ?it/s]\u001B[A\n",
      "Epoch 4: 100%|██████████| 82/82 [00:01<00:00, 80.19it/s, loss=1.16, v_num=457]\n",
      "Epoch 5:  50%|█████     | 41/82 [00:00<00:00, 45.91it/s, loss=1.12, v_num=457]\n",
      "Validating: 0it [00:00, ?it/s]\u001B[A\n",
      "Epoch 5: 100%|██████████| 82/82 [00:00<00:00, 83.10it/s, loss=1.12, v_num=457]\n",
      "Epoch 6:  50%|█████     | 41/82 [00:00<00:00, 45.15it/s, loss=1.1, v_num=457] \n",
      "Validating: 0it [00:00, ?it/s]\u001B[A\n",
      "Epoch 6: 100%|██████████| 82/82 [00:01<00:00, 81.37it/s, loss=1.1, v_num=457]\n",
      "Epoch 7:  50%|█████     | 41/82 [00:00<00:00, 46.09it/s, loss=1.16, v_num=457]\n",
      "Validating: 0it [00:00, ?it/s]\u001B[A\n",
      "Epoch 7: 100%|██████████| 82/82 [00:00<00:00, 83.74it/s, loss=1.16, v_num=457]\n",
      "Epoch 8:  50%|█████     | 41/82 [00:00<00:00, 42.42it/s, loss=1.13, v_num=457]\n",
      "Validating: 0it [00:00, ?it/s]\u001B[A\n",
      "Epoch 8: 100%|██████████| 82/82 [00:01<00:00, 77.02it/s, loss=1.13, v_num=457]\n",
      "Epoch 9:  50%|█████     | 41/82 [00:00<00:00, 44.02it/s, loss=1.16, v_num=457]\n",
      "Validating: 0it [00:00, ?it/s]\u001B[A\n",
      "Epoch 9: 100%|██████████| 82/82 [00:01<00:00, 80.41it/s, loss=1.16, v_num=457]\n",
      "Epoch 9: 100%|██████████| 82/82 [00:01<00:00, 78.07it/s, loss=1.16, v_num=457]"
     ]
    },
    {
     "name": "stderr",
     "output_type": "stream",
     "text": [
      "GPU available: True, used: False\n",
      "TPU available: False, using: 0 TPU cores\n",
      "IPU available: False, using: 0 IPUs\n",
      "\n",
      "  | Name      | Type    | Params\n",
      "--------------------------------------\n",
      "0 | encoder   | Linear  | 28.8 K\n",
      "1 | act_1     | PReLU   | 1     \n",
      "2 | decoder   | Linear  | 31.6 K\n",
      "3 | act_2     | PReLU   | 1     \n",
      "4 | loss_func | MSELoss | 0     \n",
      "--------------------------------------\n",
      "60.4 K    Trainable params\n",
      "0         Non-trainable params\n",
      "60.4 K    Total params\n",
      "0.242     Total estimated model params size (MB)\n"
     ]
    },
    {
     "name": "stdout",
     "output_type": "stream",
     "text": [
      "\n",
      "0.01\n",
      "Epoch 0:  50%|█████     | 41/82 [00:00<00:00, 61.47it/s, loss=2.11, v_num=458]\n",
      "Validating: 0it [00:00, ?it/s]\u001B[A\n",
      "Epoch 0: 100%|██████████| 82/82 [00:00<00:00, 110.83it/s, loss=2.11, v_num=458]\n",
      "Epoch 1:  50%|█████     | 41/82 [00:00<00:00, 68.82it/s, loss=1.32, v_num=458] \n",
      "Validating: 0it [00:00, ?it/s]\u001B[A\n",
      "Epoch 1: 100%|██████████| 82/82 [00:00<00:00, 122.92it/s, loss=1.32, v_num=458]\n",
      "Epoch 2:  50%|█████     | 41/82 [00:00<00:00, 62.77it/s, loss=1.2, v_num=458]  \n",
      "Validating: 0it [00:00, ?it/s]\u001B[A\n",
      "Epoch 2: 100%|██████████| 82/82 [00:00<00:00, 113.39it/s, loss=1.2, v_num=458]\n",
      "Epoch 3:  50%|█████     | 41/82 [00:00<00:00, 53.64it/s, loss=1.21, v_num=458]\n",
      "Validating: 0it [00:00, ?it/s]\u001B[A\n",
      "Epoch 3: 100%|██████████| 82/82 [00:00<00:00, 99.26it/s, loss=1.21, v_num=458]\n",
      "Epoch 4:  50%|█████     | 41/82 [00:00<00:00, 70.58it/s, loss=1.15, v_num=458]\n",
      "Validating: 0it [00:00, ?it/s]\u001B[A\n",
      "Epoch 4: 100%|██████████| 82/82 [00:00<00:00, 126.67it/s, loss=1.15, v_num=458]\n",
      "Epoch 5:  50%|█████     | 41/82 [00:00<00:00, 66.51it/s, loss=1.13, v_num=458] \n",
      "Validating: 0it [00:00, ?it/s]\u001B[A\n",
      "Epoch 5: 100%|██████████| 82/82 [00:00<00:00, 117.57it/s, loss=1.13, v_num=458]\n",
      "Epoch 6:  50%|█████     | 41/82 [00:00<00:00, 61.57it/s, loss=1.05, v_num=458] \n",
      "Validating: 0it [00:00, ?it/s]\u001B[A\n",
      "Epoch 6: 100%|██████████| 82/82 [00:00<00:00, 110.81it/s, loss=1.05, v_num=458]\n",
      "Epoch 7:  50%|█████     | 41/82 [00:00<00:00, 70.43it/s, loss=1.08, v_num=458] \n",
      "Validating: 0it [00:00, ?it/s]\u001B[A\n",
      "Epoch 7: 100%|██████████| 82/82 [00:00<00:00, 125.19it/s, loss=1.08, v_num=458]\n",
      "Epoch 8:  50%|█████     | 41/82 [00:00<00:00, 69.94it/s, loss=1.11, v_num=458] \n",
      "Validating: 0it [00:00, ?it/s]\u001B[A\n",
      "Epoch 8: 100%|██████████| 82/82 [00:00<00:00, 124.85it/s, loss=1.11, v_num=458]\n",
      "Epoch 9:  50%|█████     | 41/82 [00:00<00:00, 69.13it/s, loss=1.08, v_num=458] \n",
      "Validating: 0it [00:00, ?it/s]\u001B[A\n",
      "Epoch 9: 100%|██████████| 82/82 [00:00<00:00, 123.42it/s, loss=1.08, v_num=458]\n",
      "Epoch 9: 100%|██████████| 82/82 [00:00<00:00, 122.06it/s, loss=1.08, v_num=458]\n"
     ]
    },
    {
     "name": "stderr",
     "output_type": "stream",
     "text": [
      "GPU available: True, used: False\n",
      "TPU available: False, using: 0 TPU cores\n",
      "IPU available: False, using: 0 IPUs\n"
     ]
    },
    {
     "name": "stdout",
     "output_type": "stream",
     "text": [
      "0.1\n"
     ]
    },
    {
     "name": "stderr",
     "output_type": "stream",
     "text": [
      "\n",
      "  | Name      | Type    | Params\n",
      "--------------------------------------\n",
      "0 | encoder   | Linear  | 28.8 K\n",
      "1 | act_1     | PReLU   | 1     \n",
      "2 | decoder   | Linear  | 31.6 K\n",
      "3 | act_2     | PReLU   | 1     \n",
      "4 | loss_func | MSELoss | 0     \n",
      "--------------------------------------\n",
      "60.4 K    Trainable params\n",
      "0         Non-trainable params\n",
      "60.4 K    Total params\n",
      "0.242     Total estimated model params size (MB)\n"
     ]
    },
    {
     "name": "stdout",
     "output_type": "stream",
     "text": [
      "Epoch 0:  50%|█████     | 41/82 [00:00<00:00, 70.75it/s, loss=1.8, v_num=459] \n",
      "Validating: 0it [00:00, ?it/s]\u001B[A\n",
      "Epoch 0: 100%|██████████| 82/82 [00:00<00:00, 124.65it/s, loss=1.8, v_num=459]\n",
      "Epoch 1:  50%|█████     | 41/82 [00:00<00:00, 60.70it/s, loss=1.43, v_num=459]\n",
      "Validating: 0it [00:00, ?it/s]\u001B[A\n",
      "Epoch 1: 100%|██████████| 82/82 [00:00<00:00, 108.96it/s, loss=1.43, v_num=459]\n",
      "Epoch 2:  50%|█████     | 41/82 [00:00<00:00, 70.70it/s, loss=1.27, v_num=459] \n",
      "Validating: 0it [00:00, ?it/s]\u001B[A\n",
      "Epoch 2: 100%|██████████| 82/82 [00:00<00:00, 125.78it/s, loss=1.27, v_num=459]\n",
      "Epoch 3:  50%|█████     | 41/82 [00:00<00:00, 72.69it/s, loss=1.24, v_num=459] \n",
      "Validating: 0it [00:00, ?it/s]\u001B[A\n",
      "Epoch 3: 100%|██████████| 82/82 [00:00<00:00, 128.81it/s, loss=1.24, v_num=459]\n",
      "Epoch 4:  50%|█████     | 41/82 [00:00<00:00, 69.86it/s, loss=1.24, v_num=459] \n",
      "Validating: 0it [00:00, ?it/s]\u001B[A\n",
      "Epoch 4: 100%|██████████| 82/82 [00:00<00:00, 126.86it/s, loss=1.24, v_num=459]\n",
      "Epoch 5:  50%|█████     | 41/82 [00:00<00:00, 68.26it/s, loss=1.13, v_num=459] \n",
      "Validating: 0it [00:00, ?it/s]\u001B[A\n",
      "Epoch 5: 100%|██████████| 82/82 [00:00<00:00, 121.49it/s, loss=1.13, v_num=459]\n",
      "Epoch 6:  50%|█████     | 41/82 [00:00<00:00, 65.63it/s, loss=1.17, v_num=459] \n",
      "Validating: 0it [00:00, ?it/s]\u001B[A\n",
      "Epoch 6: 100%|██████████| 82/82 [00:00<00:00, 117.69it/s, loss=1.17, v_num=459]\n",
      "Epoch 7:  50%|█████     | 41/82 [00:00<00:00, 70.71it/s, loss=1.24, v_num=459] \n",
      "Validating: 0it [00:00, ?it/s]\u001B[A\n",
      "Epoch 7: 100%|██████████| 82/82 [00:00<00:00, 126.23it/s, loss=1.24, v_num=459]\n",
      "Epoch 8:  50%|█████     | 41/82 [00:00<00:00, 63.70it/s, loss=1.15, v_num=459] \n",
      "Validating: 0it [00:00, ?it/s]\u001B[A\n",
      "Epoch 8: 100%|██████████| 82/82 [00:00<00:00, 117.01it/s, loss=1.15, v_num=459]\n",
      "Epoch 9:  50%|█████     | 41/82 [00:00<00:00, 68.55it/s, loss=1.22, v_num=459] \n",
      "Validating: 0it [00:00, ?it/s]\u001B[A\n",
      "Epoch 9: 100%|██████████| 82/82 [00:00<00:00, 122.62it/s, loss=1.22, v_num=459]\n",
      "Epoch 9: 100%|██████████| 82/82 [00:00<00:00, 121.29it/s, loss=1.22, v_num=459]\n"
     ]
    },
    {
     "name": "stderr",
     "output_type": "stream",
     "text": [
      "GPU available: True, used: False\n",
      "TPU available: False, using: 0 TPU cores\n",
      "IPU available: False, using: 0 IPUs\n"
     ]
    },
    {
     "name": "stdout",
     "output_type": "stream",
     "text": [
      "1\n"
     ]
    },
    {
     "name": "stderr",
     "output_type": "stream",
     "text": [
      "\n",
      "  | Name      | Type    | Params\n",
      "--------------------------------------\n",
      "0 | encoder   | Linear  | 28.8 K\n",
      "1 | act_1     | PReLU   | 1     \n",
      "2 | decoder   | Linear  | 31.6 K\n",
      "3 | act_2     | PReLU   | 1     \n",
      "4 | loss_func | MSELoss | 0     \n",
      "--------------------------------------\n",
      "60.4 K    Trainable params\n",
      "0         Non-trainable params\n",
      "60.4 K    Total params\n",
      "0.242     Total estimated model params size (MB)\n"
     ]
    },
    {
     "name": "stdout",
     "output_type": "stream",
     "text": [
      "Epoch 0:  50%|█████     | 41/82 [00:00<00:00, 67.32it/s, loss=1.98, v_num=460]\n",
      "Validating: 0it [00:00, ?it/s]\u001B[A\n",
      "Epoch 0: 100%|██████████| 82/82 [00:00<00:00, 121.60it/s, loss=1.98, v_num=460]\n",
      "Epoch 1:  50%|█████     | 41/82 [00:00<00:00, 64.29it/s, loss=1.47, v_num=460] \n",
      "Validating: 0it [00:00, ?it/s]\u001B[A\n",
      "Epoch 1: 100%|██████████| 82/82 [00:00<00:00, 115.84it/s, loss=1.47, v_num=460]\n",
      "Epoch 2:  50%|█████     | 41/82 [00:00<00:00, 69.49it/s, loss=1.39, v_num=460] \n",
      "Validating: 0it [00:00, ?it/s]\u001B[A\n",
      "Epoch 2: 100%|██████████| 82/82 [00:00<00:00, 124.14it/s, loss=1.39, v_num=460]\n",
      "Epoch 3:  50%|█████     | 41/82 [00:00<00:00, 67.87it/s, loss=1.28, v_num=460] \n",
      "Validating: 0it [00:00, ?it/s]\u001B[A\n",
      "Epoch 3: 100%|██████████| 82/82 [00:00<00:00, 121.27it/s, loss=1.28, v_num=460]\n",
      "Epoch 4:  50%|█████     | 41/82 [00:00<00:00, 72.25it/s, loss=1.3, v_num=460]  \n",
      "Validating: 0it [00:00, ?it/s]\u001B[A\n",
      "Epoch 4: 100%|██████████| 82/82 [00:00<00:00, 127.66it/s, loss=1.3, v_num=460]\n",
      "Epoch 5:  50%|█████     | 41/82 [00:00<00:00, 73.13it/s, loss=1.28, v_num=460]\n",
      "Validating: 0it [00:00, ?it/s]\u001B[A\n",
      "Epoch 5: 100%|██████████| 82/82 [00:00<00:00, 132.87it/s, loss=1.28, v_num=460]\n",
      "Epoch 6:  50%|█████     | 41/82 [00:00<00:00, 67.66it/s, loss=1.23, v_num=460] \n",
      "Validating: 0it [00:00, ?it/s]\u001B[A\n",
      "Epoch 6: 100%|██████████| 82/82 [00:00<00:00, 121.22it/s, loss=1.23, v_num=460]\n",
      "Epoch 7:  50%|█████     | 41/82 [00:00<00:00, 70.49it/s, loss=1.26, v_num=460] \n",
      "Validating: 0it [00:00, ?it/s]\u001B[A\n",
      "Epoch 7: 100%|██████████| 82/82 [00:00<00:00, 125.87it/s, loss=1.26, v_num=460]\n",
      "Epoch 8:  50%|█████     | 41/82 [00:00<00:00, 67.58it/s, loss=1.33, v_num=460] \n",
      "Validating: 0it [00:00, ?it/s]\u001B[A\n",
      "Epoch 8: 100%|██████████| 82/82 [00:00<00:00, 121.29it/s, loss=1.33, v_num=460]\n",
      "Epoch 9:  50%|█████     | 41/82 [00:00<00:00, 69.22it/s, loss=1.27, v_num=460] \n",
      "Validating: 0it [00:00, ?it/s]\u001B[A\n",
      "Epoch 9: 100%|██████████| 82/82 [00:00<00:00, 123.73it/s, loss=1.27, v_num=460]\n",
      "Epoch 9: 100%|██████████| 82/82 [00:00<00:00, 122.25it/s, loss=1.27, v_num=460]\n"
     ]
    },
    {
     "name": "stderr",
     "output_type": "stream",
     "text": [
      "GPU available: True, used: False\n",
      "TPU available: False, using: 0 TPU cores\n",
      "IPU available: False, using: 0 IPUs\n"
     ]
    },
    {
     "name": "stdout",
     "output_type": "stream",
     "text": [
      "100\n"
     ]
    },
    {
     "name": "stderr",
     "output_type": "stream",
     "text": [
      "\n",
      "  | Name      | Type    | Params\n",
      "--------------------------------------\n",
      "0 | encoder   | Linear  | 28.8 K\n",
      "1 | act_1     | PReLU   | 1     \n",
      "2 | decoder   | Linear  | 31.6 K\n",
      "3 | act_2     | PReLU   | 1     \n",
      "4 | loss_func | MSELoss | 0     \n",
      "--------------------------------------\n",
      "60.4 K    Trainable params\n",
      "0         Non-trainable params\n",
      "60.4 K    Total params\n",
      "0.242     Total estimated model params size (MB)\n"
     ]
    },
    {
     "name": "stdout",
     "output_type": "stream",
     "text": [
      "Epoch 0:  50%|█████     | 41/82 [00:00<00:00, 69.60it/s, loss=1.39, v_num=461]\n",
      "Validating: 0it [00:00, ?it/s]\u001B[A\n",
      "Epoch 0: 100%|██████████| 82/82 [00:00<00:00, 124.41it/s, loss=1.39, v_num=461]\n",
      "Epoch 1:  50%|█████     | 41/82 [00:00<00:00, 72.60it/s, loss=1.51, v_num=461] \n",
      "Validating: 0it [00:00, ?it/s]\u001B[A\n",
      "Epoch 1: 100%|██████████| 82/82 [00:00<00:00, 130.44it/s, loss=1.51, v_num=461]\n",
      "Epoch 2:  50%|█████     | 41/82 [00:00<00:00, 66.70it/s, loss=1.61, v_num=461] \n",
      "Validating: 0it [00:00, ?it/s]\u001B[A\n",
      "Epoch 2: 100%|██████████| 82/82 [00:00<00:00, 120.13it/s, loss=1.61, v_num=461]\n",
      "Epoch 3:  50%|█████     | 41/82 [00:00<00:00, 66.14it/s, loss=1.53, v_num=461] \n",
      "Validating: 0it [00:00, ?it/s]\u001B[A\n",
      "Epoch 3: 100%|██████████| 82/82 [00:00<00:00, 120.25it/s, loss=1.53, v_num=461]\n",
      "Epoch 4:  50%|█████     | 41/82 [00:00<00:00, 69.73it/s, loss=1.57, v_num=461] \n",
      "Validating: 0it [00:00, ?it/s]\u001B[A\n",
      "Epoch 4: 100%|██████████| 82/82 [00:00<00:00, 124.47it/s, loss=1.57, v_num=461]\n",
      "Epoch 5:  50%|█████     | 41/82 [00:00<00:00, 69.39it/s, loss=1.67, v_num=461] \n",
      "Validating: 0it [00:00, ?it/s]\u001B[A\n",
      "Epoch 5: 100%|██████████| 82/82 [00:00<00:00, 124.13it/s, loss=1.67, v_num=461]\n",
      "Epoch 6:  50%|█████     | 41/82 [00:00<00:00, 67.50it/s, loss=1.54, v_num=461] \n",
      "Validating: 0it [00:00, ?it/s]\u001B[A\n",
      "Epoch 6: 100%|██████████| 82/82 [00:00<00:00, 120.98it/s, loss=1.54, v_num=461]\n",
      "Epoch 7:  50%|█████     | 41/82 [00:00<00:00, 70.53it/s, loss=1.63, v_num=461] \n",
      "Validating: 0it [00:00, ?it/s]\u001B[A\n",
      "Epoch 7: 100%|██████████| 82/82 [00:00<00:00, 123.95it/s, loss=1.63, v_num=461]\n",
      "Epoch 8:  50%|█████     | 41/82 [00:00<00:00, 68.13it/s, loss=1.58, v_num=461] \n",
      "Validating: 0it [00:00, ?it/s]\u001B[A\n",
      "Epoch 8: 100%|██████████| 82/82 [00:00<00:00, 122.21it/s, loss=1.58, v_num=461]\n",
      "Epoch 9:  50%|█████     | 41/82 [00:00<00:00, 68.51it/s, loss=1.52, v_num=461] \n",
      "Validating: 0it [00:00, ?it/s]\u001B[A\n",
      "Epoch 9: 100%|██████████| 82/82 [00:00<00:00, 122.53it/s, loss=1.52, v_num=461]\n",
      "Epoch 9: 100%|██████████| 82/82 [00:00<00:00, 121.20it/s, loss=1.52, v_num=461]\n"
     ]
    },
    {
     "name": "stderr",
     "output_type": "stream",
     "text": [
      "GPU available: True, used: False\n",
      "TPU available: False, using: 0 TPU cores\n",
      "IPU available: False, using: 0 IPUs\n"
     ]
    },
    {
     "name": "stdout",
     "output_type": "stream",
     "text": [
      "0.01\n"
     ]
    },
    {
     "name": "stderr",
     "output_type": "stream",
     "text": [
      "\n",
      "  | Name      | Type    | Params\n",
      "--------------------------------------\n",
      "0 | encoder   | Linear  | 28.8 K\n",
      "1 | act_1     | Sigmoid | 0     \n",
      "2 | decoder   | Linear  | 31.6 K\n",
      "3 | act_2     | Sigmoid | 0     \n",
      "4 | loss_func | MSELoss | 0     \n",
      "--------------------------------------\n",
      "60.4 K    Trainable params\n",
      "0         Non-trainable params\n",
      "60.4 K    Total params\n",
      "0.242     Total estimated model params size (MB)\n"
     ]
    },
    {
     "name": "stdout",
     "output_type": "stream",
     "text": [
      "Epoch 0:  50%|█████     | 41/82 [00:00<00:00, 58.78it/s, loss=1.17, v_num=462]\n",
      "Validating: 0it [00:00, ?it/s]\u001B[A\n",
      "Epoch 0: 100%|██████████| 82/82 [00:00<00:00, 105.39it/s, loss=1.17, v_num=462]\n",
      "Epoch 1:  50%|█████     | 41/82 [00:00<00:00, 58.80it/s, loss=1.12, v_num=462] \n",
      "Validating: 0it [00:00, ?it/s]\u001B[A\n",
      "Epoch 1: 100%|██████████| 82/82 [00:00<00:00, 105.53it/s, loss=1.12, v_num=462]\n",
      "Epoch 2:  50%|█████     | 41/82 [00:00<00:00, 70.64it/s, loss=1.06, v_num=462] \n",
      "Validating: 0it [00:00, ?it/s]\u001B[A\n",
      "Epoch 2: 100%|██████████| 82/82 [00:00<00:00, 125.60it/s, loss=1.06, v_num=462]\n",
      "Epoch 3:  50%|█████     | 41/82 [00:00<00:00, 71.89it/s, loss=1.13, v_num=462] \n",
      "Validating: 0it [00:00, ?it/s]\u001B[A\n",
      "Epoch 3: 100%|██████████| 82/82 [00:00<00:00, 128.13it/s, loss=1.13, v_num=462]\n",
      "Epoch 4:  50%|█████     | 41/82 [00:00<00:00, 70.28it/s, loss=1.12, v_num=462] \n",
      "Validating: 0it [00:00, ?it/s]\u001B[A\n",
      "Epoch 4: 100%|██████████| 82/82 [00:00<00:00, 125.20it/s, loss=1.12, v_num=462]\n",
      "Epoch 5:  50%|█████     | 41/82 [00:00<00:00, 66.24it/s, loss=1.1, v_num=462]  \n",
      "Validating: 0it [00:00, ?it/s]\u001B[A\n",
      "Epoch 5: 100%|██████████| 82/82 [00:00<00:00, 119.05it/s, loss=1.1, v_num=462]\n",
      "Epoch 6:  50%|█████     | 41/82 [00:00<00:00, 65.41it/s, loss=1.03, v_num=462]\n",
      "Validating: 0it [00:00, ?it/s]\u001B[A\n",
      "Epoch 6: 100%|██████████| 82/82 [00:00<00:00, 117.82it/s, loss=1.03, v_num=462]\n",
      "Epoch 7:  50%|█████     | 41/82 [00:00<00:00, 76.22it/s, loss=1.14, v_num=462] \n",
      "Validating: 0it [00:00, ?it/s]\u001B[A\n",
      "Epoch 7: 100%|██████████| 82/82 [00:00<00:00, 135.32it/s, loss=1.14, v_num=462]\n",
      "Epoch 8:  50%|█████     | 41/82 [00:00<00:00, 74.89it/s, loss=1.06, v_num=462] \n",
      "Validating: 0it [00:00, ?it/s]\u001B[A\n",
      "Epoch 8: 100%|██████████| 82/82 [00:00<00:00, 136.28it/s, loss=1.06, v_num=462]\n",
      "Epoch 9:  50%|█████     | 41/82 [00:00<00:00, 71.64it/s, loss=1.11, v_num=462] \n",
      "Validating: 0it [00:00, ?it/s]\u001B[A\n",
      "Epoch 9: 100%|██████████| 82/82 [00:00<00:00, 127.96it/s, loss=1.11, v_num=462]\n",
      "Epoch 9: 100%|██████████| 82/82 [00:00<00:00, 126.73it/s, loss=1.11, v_num=462]\n"
     ]
    },
    {
     "name": "stderr",
     "output_type": "stream",
     "text": [
      "GPU available: True, used: False\n",
      "TPU available: False, using: 0 TPU cores\n",
      "IPU available: False, using: 0 IPUs\n"
     ]
    },
    {
     "name": "stdout",
     "output_type": "stream",
     "text": [
      "0.1\n"
     ]
    },
    {
     "name": "stderr",
     "output_type": "stream",
     "text": [
      "\n",
      "  | Name      | Type    | Params\n",
      "--------------------------------------\n",
      "0 | encoder   | Linear  | 28.8 K\n",
      "1 | act_1     | Sigmoid | 0     \n",
      "2 | decoder   | Linear  | 31.6 K\n",
      "3 | act_2     | Sigmoid | 0     \n",
      "4 | loss_func | MSELoss | 0     \n",
      "--------------------------------------\n",
      "60.4 K    Trainable params\n",
      "0         Non-trainable params\n",
      "60.4 K    Total params\n",
      "0.242     Total estimated model params size (MB)\n"
     ]
    },
    {
     "name": "stdout",
     "output_type": "stream",
     "text": [
      "Epoch 0:  50%|█████     | 41/82 [00:00<00:00, 73.87it/s, loss=1.09, v_num=463]\n",
      "Validating: 0it [00:00, ?it/s]\u001B[A\n",
      "Epoch 0: 100%|██████████| 82/82 [00:00<00:00, 131.49it/s, loss=1.09, v_num=463]\n",
      "Epoch 1:  50%|█████     | 41/82 [00:00<00:00, 76.94it/s, loss=1.16, v_num=463] \n",
      "Validating: 0it [00:00, ?it/s]\u001B[A\n",
      "Epoch 1: 100%|██████████| 82/82 [00:00<00:00, 136.39it/s, loss=1.16, v_num=463]\n",
      "Epoch 2:  50%|█████     | 41/82 [00:00<00:00, 69.71it/s, loss=1, v_num=463]    \n",
      "Validating: 0it [00:00, ?it/s]\u001B[A\n",
      "Epoch 2: 100%|██████████| 82/82 [00:00<00:00, 127.42it/s, loss=1, v_num=463]\n",
      "Epoch 3:  50%|█████     | 41/82 [00:00<00:00, 70.53it/s, loss=1.18, v_num=463]\n",
      "Validating: 0it [00:00, ?it/s]\u001B[A\n",
      "Epoch 3: 100%|██████████| 82/82 [00:00<00:00, 126.52it/s, loss=1.18, v_num=463]\n",
      "Epoch 4:  50%|█████     | 41/82 [00:00<00:00, 70.27it/s, loss=1.12, v_num=463] \n",
      "Validating: 0it [00:00, ?it/s]\u001B[A\n",
      "Epoch 4: 100%|██████████| 82/82 [00:00<00:00, 127.99it/s, loss=1.12, v_num=463]\n",
      "Epoch 5:  50%|█████     | 41/82 [00:00<00:00, 73.26it/s, loss=1.12, v_num=463] \n",
      "Validating: 0it [00:00, ?it/s]\u001B[A\n",
      "Epoch 5: 100%|██████████| 82/82 [00:00<00:00, 130.56it/s, loss=1.12, v_num=463]\n",
      "Epoch 6:  50%|█████     | 41/82 [00:00<00:00, 76.67it/s, loss=1.11, v_num=463] \n",
      "Validating: 0it [00:00, ?it/s]\u001B[A\n",
      "Epoch 6: 100%|██████████| 82/82 [00:00<00:00, 135.66it/s, loss=1.11, v_num=463]\n",
      "Epoch 7:  50%|█████     | 41/82 [00:00<00:00, 71.08it/s, loss=1.08, v_num=463] \n",
      "Validating: 0it [00:00, ?it/s]\u001B[A\n",
      "Epoch 7: 100%|██████████| 82/82 [00:00<00:00, 129.83it/s, loss=1.08, v_num=463]\n",
      "Epoch 8:  50%|█████     | 41/82 [00:00<00:00, 77.30it/s, loss=1.09, v_num=463] \n",
      "Validating: 0it [00:00, ?it/s]\u001B[A\n",
      "Epoch 8: 100%|██████████| 82/82 [00:00<00:00, 139.13it/s, loss=1.09, v_num=463]\n",
      "Epoch 9:  50%|█████     | 41/82 [00:00<00:00, 74.45it/s, loss=1.11, v_num=463] \n",
      "Validating: 0it [00:00, ?it/s]\u001B[A\n",
      "Epoch 9: 100%|██████████| 82/82 [00:00<00:00, 132.29it/s, loss=1.11, v_num=463]\n",
      "Epoch 9: 100%|██████████| 82/82 [00:00<00:00, 130.70it/s, loss=1.11, v_num=463]\n"
     ]
    },
    {
     "name": "stderr",
     "output_type": "stream",
     "text": [
      "GPU available: True, used: False\n",
      "TPU available: False, using: 0 TPU cores\n",
      "IPU available: False, using: 0 IPUs\n"
     ]
    },
    {
     "name": "stdout",
     "output_type": "stream",
     "text": [
      "1\n"
     ]
    },
    {
     "name": "stderr",
     "output_type": "stream",
     "text": [
      "\n",
      "  | Name      | Type    | Params\n",
      "--------------------------------------\n",
      "0 | encoder   | Linear  | 28.8 K\n",
      "1 | act_1     | Sigmoid | 0     \n",
      "2 | decoder   | Linear  | 31.6 K\n",
      "3 | act_2     | Sigmoid | 0     \n",
      "4 | loss_func | MSELoss | 0     \n",
      "--------------------------------------\n",
      "60.4 K    Trainable params\n",
      "0         Non-trainable params\n",
      "60.4 K    Total params\n",
      "0.242     Total estimated model params size (MB)\n"
     ]
    },
    {
     "name": "stdout",
     "output_type": "stream",
     "text": [
      "Epoch 0:  50%|█████     | 41/82 [00:00<00:00, 73.11it/s, loss=1.11, v_num=464]\n",
      "Validating: 0it [00:00, ?it/s]\u001B[A\n",
      "Epoch 0: 100%|██████████| 82/82 [00:00<00:00, 130.19it/s, loss=1.11, v_num=464]\n",
      "Epoch 1:  50%|█████     | 41/82 [00:00<00:00, 74.52it/s, loss=1.12, v_num=464] \n",
      "Validating: 0it [00:00, ?it/s]\u001B[A\n",
      "Epoch 1: 100%|██████████| 82/82 [00:00<00:00, 132.65it/s, loss=1.12, v_num=464]\n",
      "Epoch 2:  50%|█████     | 41/82 [00:00<00:00, 71.64it/s, loss=1.19, v_num=464] \n",
      "Validating: 0it [00:00, ?it/s]\u001B[A\n",
      "Epoch 2: 100%|██████████| 82/82 [00:00<00:00, 130.31it/s, loss=1.19, v_num=464]\n",
      "Epoch 3:  50%|█████     | 41/82 [00:00<00:00, 73.88it/s, loss=1.11, v_num=464] \n",
      "Validating: 0it [00:00, ?it/s]\u001B[A\n",
      "Epoch 3: 100%|██████████| 82/82 [00:00<00:00, 134.16it/s, loss=1.11, v_num=464]\n",
      "Epoch 4:  50%|█████     | 41/82 [00:00<00:00, 72.24it/s, loss=1.24, v_num=464] \n",
      "Validating: 0it [00:00, ?it/s]\u001B[A\n",
      "Epoch 4: 100%|██████████| 82/82 [00:00<00:00, 128.88it/s, loss=1.24, v_num=464]\n",
      "Epoch 5:  50%|█████     | 41/82 [00:00<00:00, 79.31it/s, loss=1.16, v_num=464] \n",
      "Validating: 0it [00:00, ?it/s]\u001B[A\n",
      "Epoch 5: 100%|██████████| 82/82 [00:00<00:00, 142.47it/s, loss=1.16, v_num=464]\n",
      "Epoch 6:  50%|█████     | 41/82 [00:00<00:00, 69.56it/s, loss=1.13, v_num=464] \n",
      "Validating: 0it [00:00, ?it/s]\u001B[A\n",
      "Epoch 6: 100%|██████████| 82/82 [00:00<00:00, 124.48it/s, loss=1.13, v_num=464]\n",
      "Epoch 7:  50%|█████     | 41/82 [00:00<00:00, 76.67it/s, loss=1.15, v_num=464] \n",
      "Validating: 0it [00:00, ?it/s]\u001B[A\n",
      "Epoch 7: 100%|██████████| 82/82 [00:00<00:00, 137.51it/s, loss=1.15, v_num=464]\n",
      "Epoch 8:  50%|█████     | 41/82 [00:00<00:00, 73.42it/s, loss=1.11, v_num=464] \n",
      "Validating: 0it [00:00, ?it/s]\u001B[A\n",
      "Epoch 8: 100%|██████████| 82/82 [00:00<00:00, 132.63it/s, loss=1.11, v_num=464]\n",
      "Epoch 9:  50%|█████     | 41/82 [00:00<00:00, 70.48it/s, loss=1.12, v_num=464] \n",
      "Validating: 0it [00:00, ?it/s]\u001B[A\n",
      "Epoch 9: 100%|██████████| 82/82 [00:00<00:00, 128.88it/s, loss=1.12, v_num=464]\n",
      "Epoch 9: 100%|██████████| 82/82 [00:00<00:00, 127.65it/s, loss=1.12, v_num=464]\n"
     ]
    },
    {
     "name": "stderr",
     "output_type": "stream",
     "text": [
      "GPU available: True, used: False\n",
      "TPU available: False, using: 0 TPU cores\n",
      "IPU available: False, using: 0 IPUs\n"
     ]
    },
    {
     "name": "stdout",
     "output_type": "stream",
     "text": [
      "100\n"
     ]
    },
    {
     "name": "stderr",
     "output_type": "stream",
     "text": [
      "\n",
      "  | Name      | Type    | Params\n",
      "--------------------------------------\n",
      "0 | encoder   | Linear  | 28.8 K\n",
      "1 | act_1     | Sigmoid | 0     \n",
      "2 | decoder   | Linear  | 31.6 K\n",
      "3 | act_2     | Sigmoid | 0     \n",
      "4 | loss_func | MSELoss | 0     \n",
      "--------------------------------------\n",
      "60.4 K    Trainable params\n",
      "0         Non-trainable params\n",
      "60.4 K    Total params\n",
      "0.242     Total estimated model params size (MB)\n"
     ]
    },
    {
     "name": "stdout",
     "output_type": "stream",
     "text": [
      "Epoch 0:  50%|█████     | 41/82 [00:00<00:00, 77.00it/s, loss=1.14, v_num=465]\n",
      "Validating: 0it [00:00, ?it/s]\u001B[A\n",
      "Epoch 0: 100%|██████████| 82/82 [00:00<00:00, 136.31it/s, loss=1.14, v_num=465]\n",
      "Epoch 1:  50%|█████     | 41/82 [00:00<00:00, 73.02it/s, loss=1.1, v_num=465]  \n",
      "Validating: 0it [00:00, ?it/s]\u001B[A\n",
      "Epoch 1: 100%|██████████| 82/82 [00:00<00:00, 131.08it/s, loss=1.1, v_num=465]\n",
      "Epoch 2:  50%|█████     | 41/82 [00:00<00:00, 70.81it/s, loss=1.1, v_num=465] \n",
      "Validating: 0it [00:00, ?it/s]\u001B[A\n",
      "Epoch 2: 100%|██████████| 82/82 [00:00<00:00, 128.02it/s, loss=1.1, v_num=465]\n",
      "Epoch 3:  50%|█████     | 41/82 [00:00<00:00, 69.97it/s, loss=1.14, v_num=465]\n",
      "Validating: 0it [00:00, ?it/s]\u001B[A\n",
      "Epoch 3: 100%|██████████| 82/82 [00:00<00:00, 125.54it/s, loss=1.14, v_num=465]\n",
      "Epoch 4:  50%|█████     | 41/82 [00:00<00:00, 69.99it/s, loss=1.04, v_num=465] \n",
      "Validating: 0it [00:00, ?it/s]\u001B[A\n",
      "Epoch 4: 100%|██████████| 82/82 [00:00<00:00, 128.31it/s, loss=1.04, v_num=465]\n",
      "Epoch 5:  50%|█████     | 41/82 [00:00<00:00, 77.62it/s, loss=1.17, v_num=465] \n",
      "Validating: 0it [00:00, ?it/s]\u001B[A\n",
      "Epoch 5: 100%|██████████| 82/82 [00:00<00:00, 137.61it/s, loss=1.17, v_num=465]\n",
      "Epoch 6:  50%|█████     | 41/82 [00:00<00:00, 68.79it/s, loss=1.07, v_num=465] \n",
      "Validating: 0it [00:00, ?it/s]\u001B[A\n",
      "Epoch 6: 100%|██████████| 82/82 [00:00<00:00, 125.25it/s, loss=1.07, v_num=465]\n",
      "Epoch 7:  50%|█████     | 41/82 [00:00<00:00, 71.77it/s, loss=1.14, v_num=465] \n",
      "Validating: 0it [00:00, ?it/s]\u001B[A\n",
      "Epoch 7: 100%|██████████| 82/82 [00:00<00:00, 127.97it/s, loss=1.14, v_num=465]\n",
      "Epoch 8:  50%|█████     | 41/82 [00:00<00:00, 73.66it/s, loss=1.12, v_num=465] \n",
      "Validating: 0it [00:00, ?it/s]\u001B[A\n",
      "Epoch 8: 100%|██████████| 82/82 [00:00<00:00, 131.10it/s, loss=1.12, v_num=465]\n",
      "Epoch 9:  50%|█████     | 41/82 [00:00<00:00, 75.59it/s, loss=1.09, v_num=465] \n",
      "Validating: 0it [00:00, ?it/s]\u001B[A\n",
      "Epoch 9: 100%|██████████| 82/82 [00:00<00:00, 137.55it/s, loss=1.09, v_num=465]\n",
      "Epoch 9: 100%|██████████| 82/82 [00:00<00:00, 136.05it/s, loss=1.09, v_num=465]\n"
     ]
    },
    {
     "name": "stderr",
     "output_type": "stream",
     "text": [
      "GPU available: True, used: False\n",
      "TPU available: False, using: 0 TPU cores\n",
      "IPU available: False, using: 0 IPUs\n"
     ]
    },
    {
     "name": "stdout",
     "output_type": "stream",
     "text": [
      "0.01\n"
     ]
    },
    {
     "name": "stderr",
     "output_type": "stream",
     "text": [
      "\n",
      "  | Name      | Type    | Params\n",
      "--------------------------------------\n",
      "0 | encoder   | Linear  | 230 K \n",
      "1 | act_1     | PReLU   | 1     \n",
      "2 | decoder   | Linear  | 232 K \n",
      "3 | act_2     | PReLU   | 1     \n",
      "4 | loss_func | MSELoss | 0     \n",
      "--------------------------------------\n",
      "463 K     Trainable params\n",
      "0         Non-trainable params\n",
      "463 K     Total params\n",
      "1.852     Total estimated model params size (MB)\n"
     ]
    },
    {
     "name": "stdout",
     "output_type": "stream",
     "text": [
      "Epoch 0:  50%|█████     | 41/82 [00:00<00:00, 64.96it/s, loss=5.59, v_num=466]\n",
      "Validating: 0it [00:00, ?it/s]\u001B[A\n",
      "Epoch 0: 100%|██████████| 82/82 [00:00<00:00, 116.75it/s, loss=5.59, v_num=466]\n",
      "Epoch 1:  50%|█████     | 41/82 [00:00<00:00, 67.44it/s, loss=1.55, v_num=466] \n",
      "Validating: 0it [00:00, ?it/s]\u001B[A\n",
      "Epoch 1: 100%|██████████| 82/82 [00:00<00:00, 120.82it/s, loss=1.55, v_num=466]\n",
      "Epoch 2:  50%|█████     | 41/82 [00:00<00:00, 70.27it/s, loss=1.42, v_num=466] \n",
      "Validating: 0it [00:00, ?it/s]\u001B[A\n",
      "Epoch 2: 100%|██████████| 82/82 [00:00<00:00, 127.84it/s, loss=1.42, v_num=466]\n",
      "Epoch 3:  50%|█████     | 41/82 [00:00<00:00, 68.39it/s, loss=1.35, v_num=466] \n",
      "Validating: 0it [00:00, ?it/s]\u001B[A\n",
      "Epoch 3: 100%|██████████| 82/82 [00:00<00:00, 121.84it/s, loss=1.35, v_num=466]\n",
      "Epoch 4:  50%|█████     | 41/82 [00:00<00:00, 66.04it/s, loss=1.37, v_num=466] \n",
      "Validating: 0it [00:00, ?it/s]\u001B[A\n",
      "Epoch 4: 100%|██████████| 82/82 [00:00<00:00, 120.61it/s, loss=1.37, v_num=466]\n",
      "Epoch 5:  50%|█████     | 41/82 [00:00<00:00, 69.32it/s, loss=1.28, v_num=466] \n",
      "Validating: 0it [00:00, ?it/s]\u001B[A\n",
      "Epoch 5: 100%|██████████| 82/82 [00:00<00:00, 123.13it/s, loss=1.28, v_num=466]\n",
      "Epoch 6:  50%|█████     | 41/82 [00:00<00:00, 65.15it/s, loss=1.31, v_num=466] \n",
      "Validating: 0it [00:00, ?it/s]\u001B[A\n",
      "Epoch 6: 100%|██████████| 82/82 [00:00<00:00, 118.12it/s, loss=1.31, v_num=466]\n",
      "Epoch 7:  50%|█████     | 41/82 [00:00<00:00, 67.90it/s, loss=1.26, v_num=466] \n",
      "Validating: 0it [00:00, ?it/s]\u001B[A\n",
      "Epoch 7: 100%|██████████| 82/82 [00:00<00:00, 123.07it/s, loss=1.26, v_num=466]\n",
      "Epoch 8:  50%|█████     | 41/82 [00:00<00:00, 62.98it/s, loss=1.13, v_num=466] \n",
      "Validating: 0it [00:00, ?it/s]\u001B[A\n",
      "Epoch 8: 100%|██████████| 82/82 [00:00<00:00, 109.36it/s, loss=1.13, v_num=466]\n",
      "Epoch 9:  50%|█████     | 41/82 [00:00<00:00, 66.10it/s, loss=1.18, v_num=466] \n",
      "Validating: 0it [00:00, ?it/s]\u001B[A\n",
      "Epoch 9: 100%|██████████| 82/82 [00:00<00:00, 120.55it/s, loss=1.18, v_num=466]\n",
      "Epoch 9: 100%|██████████| 82/82 [00:00<00:00, 117.96it/s, loss=1.18, v_num=466]\n"
     ]
    },
    {
     "name": "stderr",
     "output_type": "stream",
     "text": [
      "GPU available: True, used: False\n",
      "TPU available: False, using: 0 TPU cores\n",
      "IPU available: False, using: 0 IPUs\n"
     ]
    },
    {
     "name": "stdout",
     "output_type": "stream",
     "text": [
      "0.1\n"
     ]
    },
    {
     "name": "stderr",
     "output_type": "stream",
     "text": [
      "\n",
      "  | Name      | Type    | Params\n",
      "--------------------------------------\n",
      "0 | encoder   | Linear  | 230 K \n",
      "1 | act_1     | PReLU   | 1     \n",
      "2 | decoder   | Linear  | 232 K \n",
      "3 | act_2     | PReLU   | 1     \n",
      "4 | loss_func | MSELoss | 0     \n",
      "--------------------------------------\n",
      "463 K     Trainable params\n",
      "0         Non-trainable params\n",
      "463 K     Total params\n",
      "1.852     Total estimated model params size (MB)\n"
     ]
    },
    {
     "name": "stdout",
     "output_type": "stream",
     "text": [
      "Epoch 0:  51%|█████     | 42/82 [00:00<00:00, 72.06it/s, loss=4.22, v_num=467]\n",
      "Validating: 0it [00:00, ?it/s]\u001B[A\n",
      "Epoch 0: 100%|██████████| 82/82 [00:00<00:00, 125.32it/s, loss=4.22, v_num=467]\n",
      "Epoch 1:  50%|█████     | 41/82 [00:00<00:00, 69.47it/s, loss=1.48, v_num=467] \n",
      "Validating: 0it [00:00, ?it/s]\u001B[A\n",
      "Epoch 1: 100%|██████████| 82/82 [00:00<00:00, 123.80it/s, loss=1.48, v_num=467]\n",
      "Epoch 2:  50%|█████     | 41/82 [00:00<00:00, 67.92it/s, loss=1.37, v_num=467] \n",
      "Validating: 0it [00:00, ?it/s]\u001B[A\n",
      "Epoch 2: 100%|██████████| 82/82 [00:00<00:00, 123.21it/s, loss=1.37, v_num=467]\n",
      "Epoch 3:  50%|█████     | 41/82 [00:00<00:00, 67.17it/s, loss=1.22, v_num=467] \n",
      "Validating: 0it [00:00, ?it/s]\u001B[A\n",
      "Epoch 3: 100%|██████████| 82/82 [00:00<00:00, 121.63it/s, loss=1.22, v_num=467]\n",
      "Epoch 4:  50%|█████     | 41/82 [00:00<00:00, 63.89it/s, loss=1.2, v_num=467]  \n",
      "Validating: 0it [00:00, ?it/s]\u001B[A\n",
      "Epoch 4: 100%|██████████| 82/82 [00:00<00:00, 115.22it/s, loss=1.2, v_num=467]\n",
      "Epoch 5:  50%|█████     | 41/82 [00:00<00:00, 67.10it/s, loss=1.15, v_num=467]\n",
      "Validating: 0it [00:00, ?it/s]\u001B[A\n",
      "Epoch 5: 100%|██████████| 82/82 [00:00<00:00, 122.41it/s, loss=1.15, v_num=467]\n",
      "Epoch 6:  50%|█████     | 41/82 [00:00<00:00, 60.34it/s, loss=1.14, v_num=467] \n",
      "Validating: 0it [00:00, ?it/s]\u001B[A\n",
      "Epoch 6: 100%|██████████| 82/82 [00:00<00:00, 109.28it/s, loss=1.14, v_num=467]\n",
      "Epoch 7:  50%|█████     | 41/82 [00:00<00:00, 69.56it/s, loss=1.08, v_num=467] \n",
      "Validating: 0it [00:00, ?it/s]\u001B[A\n",
      "Epoch 7: 100%|██████████| 82/82 [00:00<00:00, 124.14it/s, loss=1.08, v_num=467]\n",
      "Epoch 8:  50%|█████     | 41/82 [00:00<00:00, 68.62it/s, loss=1.23, v_num=467] \n",
      "Validating: 0it [00:00, ?it/s]\u001B[A\n",
      "Epoch 8: 100%|██████████| 82/82 [00:00<00:00, 122.78it/s, loss=1.23, v_num=467]\n",
      "Epoch 9:  50%|█████     | 41/82 [00:00<00:00, 65.61it/s, loss=1.17, v_num=467] \n",
      "Validating: 0it [00:00, ?it/s]\u001B[A\n",
      "Epoch 9: 100%|██████████| 82/82 [00:00<00:00, 119.86it/s, loss=1.17, v_num=467]\n",
      "Epoch 9: 100%|██████████| 82/82 [00:00<00:00, 117.75it/s, loss=1.17, v_num=467]\n"
     ]
    },
    {
     "name": "stderr",
     "output_type": "stream",
     "text": [
      "GPU available: True, used: False\n",
      "TPU available: False, using: 0 TPU cores\n",
      "IPU available: False, using: 0 IPUs\n"
     ]
    },
    {
     "name": "stdout",
     "output_type": "stream",
     "text": [
      "1\n"
     ]
    },
    {
     "name": "stderr",
     "output_type": "stream",
     "text": [
      "\n",
      "  | Name      | Type    | Params\n",
      "--------------------------------------\n",
      "0 | encoder   | Linear  | 230 K \n",
      "1 | act_1     | PReLU   | 1     \n",
      "2 | decoder   | Linear  | 232 K \n",
      "3 | act_2     | PReLU   | 1     \n",
      "4 | loss_func | MSELoss | 0     \n",
      "--------------------------------------\n",
      "463 K     Trainable params\n",
      "0         Non-trainable params\n",
      "463 K     Total params\n",
      "1.852     Total estimated model params size (MB)\n"
     ]
    },
    {
     "name": "stdout",
     "output_type": "stream",
     "text": [
      "Epoch 0:  50%|█████     | 41/82 [00:00<00:00, 70.36it/s, loss=1.76, v_num=468]\n",
      "Validating: 0it [00:00, ?it/s]\u001B[A\n",
      "Epoch 0: 100%|██████████| 82/82 [00:00<00:00, 124.58it/s, loss=1.76, v_num=468]\n",
      "Epoch 1:  50%|█████     | 41/82 [00:00<00:00, 64.63it/s, loss=1.42, v_num=468] \n",
      "Validating: 0it [00:00, ?it/s]\u001B[A\n",
      "Epoch 1: 100%|██████████| 82/82 [00:00<00:00, 115.99it/s, loss=1.42, v_num=468]\n",
      "Epoch 2:  50%|█████     | 41/82 [00:00<00:00, 62.43it/s, loss=1.42, v_num=468] \n",
      "Validating: 0it [00:00, ?it/s]\u001B[A\n",
      "Epoch 2: 100%|██████████| 82/82 [00:00<00:00, 114.25it/s, loss=1.42, v_num=468]\n",
      "Epoch 3:  50%|█████     | 41/82 [00:00<00:00, 68.86it/s, loss=1.48, v_num=468] \n",
      "Validating: 0it [00:00, ?it/s]\u001B[A\n",
      "Epoch 3: 100%|██████████| 82/82 [00:00<00:00, 122.76it/s, loss=1.48, v_num=468]\n",
      "Epoch 4:  50%|█████     | 41/82 [00:00<00:00, 66.02it/s, loss=1.39, v_num=468] \n",
      "Validating: 0it [00:00, ?it/s]\u001B[A\n",
      "Epoch 4: 100%|██████████| 82/82 [00:00<00:00, 117.97it/s, loss=1.39, v_num=468]\n",
      "Epoch 5:  50%|█████     | 41/82 [00:00<00:00, 68.83it/s, loss=1.43, v_num=468] \n",
      "Validating: 0it [00:00, ?it/s]\u001B[A\n",
      "Epoch 5: 100%|██████████| 82/82 [00:00<00:00, 122.77it/s, loss=1.43, v_num=468]\n",
      "Epoch 6:  50%|█████     | 41/82 [00:00<00:00, 65.59it/s, loss=1.23, v_num=468] \n",
      "Validating: 0it [00:00, ?it/s]\u001B[A\n",
      "Epoch 6: 100%|██████████| 82/82 [00:00<00:00, 119.33it/s, loss=1.23, v_num=468]\n",
      "Epoch 7:  50%|█████     | 41/82 [00:00<00:00, 63.49it/s, loss=1.31, v_num=468] \n",
      "Validating: 0it [00:00, ?it/s]\u001B[A\n",
      "Epoch 7: 100%|██████████| 82/82 [00:00<00:00, 116.50it/s, loss=1.31, v_num=468]\n",
      "Epoch 8:  50%|█████     | 41/82 [00:00<00:00, 60.84it/s, loss=1.24, v_num=468] \n",
      "Validating: 0it [00:00, ?it/s]\u001B[A\n",
      "Epoch 8: 100%|██████████| 82/82 [00:00<00:00, 109.96it/s, loss=1.24, v_num=468]\n",
      "Epoch 9:  50%|█████     | 41/82 [00:00<00:00, 62.28it/s, loss=1.38, v_num=468] \n",
      "Validating: 0it [00:00, ?it/s]\u001B[A\n",
      "Epoch 9: 100%|██████████| 82/82 [00:00<00:00, 114.43it/s, loss=1.38, v_num=468]\n",
      "Epoch 9: 100%|██████████| 82/82 [00:00<00:00, 112.44it/s, loss=1.38, v_num=468]\n"
     ]
    },
    {
     "name": "stderr",
     "output_type": "stream",
     "text": [
      "GPU available: True, used: False\n",
      "TPU available: False, using: 0 TPU cores\n",
      "IPU available: False, using: 0 IPUs\n"
     ]
    },
    {
     "name": "stdout",
     "output_type": "stream",
     "text": [
      "100\n"
     ]
    },
    {
     "name": "stderr",
     "output_type": "stream",
     "text": [
      "\n",
      "  | Name      | Type    | Params\n",
      "--------------------------------------\n",
      "0 | encoder   | Linear  | 230 K \n",
      "1 | act_1     | PReLU   | 1     \n",
      "2 | decoder   | Linear  | 232 K \n",
      "3 | act_2     | PReLU   | 1     \n",
      "4 | loss_func | MSELoss | 0     \n",
      "--------------------------------------\n",
      "463 K     Trainable params\n",
      "0         Non-trainable params\n",
      "463 K     Total params\n",
      "1.852     Total estimated model params size (MB)\n"
     ]
    },
    {
     "name": "stdout",
     "output_type": "stream",
     "text": [
      "Epoch 0:  50%|█████     | 41/82 [00:00<00:00, 68.67it/s, loss=1.6, v_num=469] \n",
      "Validating: 0it [00:00, ?it/s]\u001B[A\n",
      "Epoch 0: 100%|██████████| 82/82 [00:00<00:00, 122.20it/s, loss=1.6, v_num=469]\n",
      "Epoch 1:  50%|█████     | 41/82 [00:00<00:00, 65.97it/s, loss=1.57, v_num=469]\n",
      "Validating: 0it [00:00, ?it/s]\u001B[A\n",
      "Epoch 1: 100%|██████████| 82/82 [00:00<00:00, 119.58it/s, loss=1.57, v_num=469]\n",
      "Epoch 2:  50%|█████     | 41/82 [00:00<00:00, 68.88it/s, loss=1.59, v_num=469] \n",
      "Validating: 0it [00:00, ?it/s]\u001B[A\n",
      "Epoch 2: 100%|██████████| 82/82 [00:00<00:00, 123.03it/s, loss=1.59, v_num=469]\n",
      "Epoch 3:  50%|█████     | 41/82 [00:00<00:00, 63.53it/s, loss=1.62, v_num=469] \n",
      "Validating: 0it [00:00, ?it/s]\u001B[A\n",
      "Epoch 3: 100%|██████████| 82/82 [00:00<00:00, 116.56it/s, loss=1.62, v_num=469]\n",
      "Epoch 4:  50%|█████     | 41/82 [00:00<00:00, 62.93it/s, loss=1.53, v_num=469] \n",
      "Validating: 0it [00:00, ?it/s]\u001B[A\n",
      "Epoch 4: 100%|██████████| 82/82 [00:00<00:00, 113.60it/s, loss=1.53, v_num=469]\n",
      "Epoch 5:  50%|█████     | 41/82 [00:00<00:00, 65.05it/s, loss=1.53, v_num=469] \n",
      "Validating: 0it [00:00, ?it/s]\u001B[A\n",
      "Epoch 5: 100%|██████████| 82/82 [00:00<00:00, 118.30it/s, loss=1.53, v_num=469]\n",
      "Epoch 6:  50%|█████     | 41/82 [00:00<00:00, 65.28it/s, loss=1.6, v_num=469]  \n",
      "Validating: 0it [00:00, ?it/s]\u001B[A\n",
      "Epoch 6: 100%|██████████| 82/82 [00:00<00:00, 117.39it/s, loss=1.6, v_num=469]\n",
      "Epoch 7:  50%|█████     | 41/82 [00:00<00:00, 70.45it/s, loss=1.55, v_num=469]\n",
      "Validating: 0it [00:00, ?it/s]\u001B[A\n",
      "Epoch 7: 100%|██████████| 82/82 [00:00<00:00, 124.76it/s, loss=1.55, v_num=469]\n",
      "Epoch 8:  50%|█████     | 41/82 [00:00<00:00, 70.73it/s, loss=1.72, v_num=469] \n",
      "Validating: 0it [00:00, ?it/s]\u001B[A\n",
      "Epoch 8: 100%|██████████| 82/82 [00:00<00:00, 128.44it/s, loss=1.72, v_num=469]\n",
      "Epoch 9:  50%|█████     | 41/82 [00:00<00:00, 64.43it/s, loss=1.63, v_num=469] \n",
      "Validating: 0it [00:00, ?it/s]\u001B[A\n",
      "Epoch 9: 100%|██████████| 82/82 [00:00<00:00, 115.85it/s, loss=1.63, v_num=469]\n",
      "Epoch 9: 100%|██████████| 82/82 [00:00<00:00, 113.60it/s, loss=1.63, v_num=469]\n"
     ]
    },
    {
     "name": "stderr",
     "output_type": "stream",
     "text": [
      "GPU available: True, used: False\n",
      "TPU available: False, using: 0 TPU cores\n",
      "IPU available: False, using: 0 IPUs\n"
     ]
    },
    {
     "name": "stdout",
     "output_type": "stream",
     "text": [
      "0.01\n"
     ]
    },
    {
     "name": "stderr",
     "output_type": "stream",
     "text": [
      "\n",
      "  | Name      | Type    | Params\n",
      "--------------------------------------\n",
      "0 | encoder   | Linear  | 230 K \n",
      "1 | act_1     | Sigmoid | 0     \n",
      "2 | decoder   | Linear  | 232 K \n",
      "3 | act_2     | Sigmoid | 0     \n",
      "4 | loss_func | MSELoss | 0     \n",
      "--------------------------------------\n",
      "463 K     Trainable params\n",
      "0         Non-trainable params\n",
      "463 K     Total params\n",
      "1.852     Total estimated model params size (MB)\n"
     ]
    },
    {
     "name": "stdout",
     "output_type": "stream",
     "text": [
      "Epoch 0:  50%|█████     | 41/82 [00:00<00:00, 62.87it/s, loss=1.15, v_num=470] \n",
      "Validating: 0it [00:00, ?it/s]\u001B[A\n",
      "Epoch 0: 100%|██████████| 82/82 [00:00<00:00, 113.40it/s, loss=1.15, v_num=470]\n",
      "Epoch 1:  50%|█████     | 41/82 [00:00<00:00, 54.64it/s, loss=1.08, v_num=470] \n",
      "Validating: 0it [00:00, ?it/s]\u001B[A\n",
      "Epoch 1: 100%|██████████| 82/82 [00:00<00:00, 101.24it/s, loss=1.08, v_num=470]\n",
      "Epoch 2:  50%|█████     | 41/82 [00:00<00:00, 61.60it/s, loss=1.15, v_num=470] \n",
      "Validating: 0it [00:00, ?it/s]\u001B[A\n",
      "Epoch 2: 100%|██████████| 82/82 [00:00<00:00, 111.39it/s, loss=1.15, v_num=470]\n",
      "Epoch 3:  50%|█████     | 41/82 [00:00<00:00, 66.24it/s, loss=1.11, v_num=470] \n",
      "Validating: 0it [00:00, ?it/s]\u001B[A\n",
      "Epoch 3: 100%|██████████| 82/82 [00:00<00:00, 118.80it/s, loss=1.11, v_num=470]\n",
      "Epoch 4:  50%|█████     | 41/82 [00:00<00:00, 71.30it/s, loss=1.13, v_num=470] \n",
      "Validating: 0it [00:00, ?it/s]\u001B[A\n",
      "Epoch 4: 100%|██████████| 82/82 [00:00<00:00, 129.45it/s, loss=1.13, v_num=470]\n",
      "Epoch 5:  50%|█████     | 41/82 [00:00<00:00, 69.28it/s, loss=1.15, v_num=470] \n",
      "Validating: 0it [00:00, ?it/s]\u001B[A\n",
      "Epoch 5: 100%|██████████| 82/82 [00:00<00:00, 125.48it/s, loss=1.15, v_num=470]\n",
      "Epoch 6:  50%|█████     | 41/82 [00:00<00:00, 66.15it/s, loss=1.16, v_num=470] \n",
      "Validating: 0it [00:00, ?it/s]\u001B[A\n",
      "Epoch 6: 100%|██████████| 82/82 [00:00<00:00, 118.99it/s, loss=1.16, v_num=470]\n",
      "Epoch 7:  50%|█████     | 41/82 [00:00<00:00, 68.49it/s, loss=1.15, v_num=470] \n",
      "Validating: 0it [00:00, ?it/s]\u001B[A\n",
      "Epoch 7: 100%|██████████| 82/82 [00:00<00:00, 124.44it/s, loss=1.15, v_num=470]\n",
      "Epoch 8:  50%|█████     | 41/82 [00:00<00:00, 64.91it/s, loss=1.12, v_num=470] \n",
      "Validating: 0it [00:00, ?it/s]\u001B[A\n",
      "Epoch 8: 100%|██████████| 82/82 [00:00<00:00, 118.47it/s, loss=1.12, v_num=470]\n",
      "Epoch 9:  50%|█████     | 41/82 [00:00<00:00, 67.91it/s, loss=1.06, v_num=470] \n",
      "Validating: 0it [00:00, ?it/s]\u001B[A\n",
      "Epoch 9: 100%|██████████| 82/82 [00:00<00:00, 122.68it/s, loss=1.06, v_num=470]\n",
      "Epoch 9: 100%|██████████| 82/82 [00:00<00:00, 120.54it/s, loss=1.06, v_num=470]\n"
     ]
    },
    {
     "name": "stderr",
     "output_type": "stream",
     "text": [
      "GPU available: True, used: False\n",
      "TPU available: False, using: 0 TPU cores\n",
      "IPU available: False, using: 0 IPUs\n"
     ]
    },
    {
     "name": "stdout",
     "output_type": "stream",
     "text": [
      "0.1\n"
     ]
    },
    {
     "name": "stderr",
     "output_type": "stream",
     "text": [
      "\n",
      "  | Name      | Type    | Params\n",
      "--------------------------------------\n",
      "0 | encoder   | Linear  | 230 K \n",
      "1 | act_1     | Sigmoid | 0     \n",
      "2 | decoder   | Linear  | 232 K \n",
      "3 | act_2     | Sigmoid | 0     \n",
      "4 | loss_func | MSELoss | 0     \n",
      "--------------------------------------\n",
      "463 K     Trainable params\n",
      "0         Non-trainable params\n",
      "463 K     Total params\n",
      "1.852     Total estimated model params size (MB)\n"
     ]
    },
    {
     "name": "stdout",
     "output_type": "stream",
     "text": [
      "Epoch 0:  50%|█████     | 41/82 [00:00<00:00, 65.69it/s, loss=1.09, v_num=471]\n",
      "Validating: 0it [00:00, ?it/s]\u001B[A\n",
      "Epoch 0: 100%|██████████| 82/82 [00:00<00:00, 117.82it/s, loss=1.09, v_num=471]\n",
      "Epoch 1:  50%|█████     | 41/82 [00:00<00:00, 68.43it/s, loss=1.13, v_num=471] \n",
      "Validating: 0it [00:00, ?it/s]\u001B[A\n",
      "Epoch 1: 100%|██████████| 82/82 [00:00<00:00, 121.83it/s, loss=1.13, v_num=471]\n",
      "Epoch 2:  50%|█████     | 41/82 [00:00<00:00, 65.40it/s, loss=1.15, v_num=471] \n",
      "Validating: 0it [00:00, ?it/s]\u001B[A\n",
      "Epoch 2: 100%|██████████| 82/82 [00:00<00:00, 119.71it/s, loss=1.15, v_num=471]\n",
      "Epoch 3:  50%|█████     | 41/82 [00:00<00:00, 64.59it/s, loss=1.09, v_num=471] \n",
      "Validating: 0it [00:00, ?it/s]\u001B[A\n",
      "Epoch 3: 100%|██████████| 82/82 [00:00<00:00, 116.04it/s, loss=1.09, v_num=471]\n",
      "Epoch 4:  50%|█████     | 41/82 [00:00<00:00, 65.06it/s, loss=1.17, v_num=471] \n",
      "Validating: 0it [00:00, ?it/s]\u001B[A\n",
      "Epoch 4: 100%|██████████| 82/82 [00:00<00:00, 119.18it/s, loss=1.17, v_num=471]\n",
      "Epoch 5:  50%|█████     | 41/82 [00:00<00:00, 66.78it/s, loss=1.1, v_num=471]  \n",
      "Validating: 0it [00:00, ?it/s]\u001B[A\n",
      "Epoch 5: 100%|██████████| 82/82 [00:00<00:00, 121.78it/s, loss=1.1, v_num=471]\n",
      "Epoch 6:  50%|█████     | 41/82 [00:00<00:00, 68.32it/s, loss=1.11, v_num=471]\n",
      "Validating: 0it [00:00, ?it/s]\u001B[A\n",
      "Epoch 6: 100%|██████████| 82/82 [00:00<00:00, 122.41it/s, loss=1.11, v_num=471]\n",
      "Epoch 7:  50%|█████     | 41/82 [00:00<00:00, 65.85it/s, loss=1.04, v_num=471] \n",
      "Validating: 0it [00:00, ?it/s]\u001B[A\n",
      "Epoch 7: 100%|██████████| 82/82 [00:00<00:00, 118.01it/s, loss=1.04, v_num=471]\n",
      "Epoch 8:  50%|█████     | 41/82 [00:00<00:00, 67.80it/s, loss=1.16, v_num=471] \n",
      "Validating: 0it [00:00, ?it/s]\u001B[A\n",
      "Epoch 8: 100%|██████████| 82/82 [00:00<00:00, 123.64it/s, loss=1.16, v_num=471]\n",
      "Epoch 9:  50%|█████     | 41/82 [00:00<00:00, 67.35it/s, loss=1.16, v_num=471] \n",
      "Validating: 0it [00:00, ?it/s]\u001B[A\n",
      "Epoch 9: 100%|██████████| 82/82 [00:00<00:00, 120.53it/s, loss=1.16, v_num=471]\n",
      "Epoch 9: 100%|██████████| 82/82 [00:00<00:00, 118.13it/s, loss=1.16, v_num=471]\n"
     ]
    },
    {
     "name": "stderr",
     "output_type": "stream",
     "text": [
      "GPU available: True, used: False\n",
      "TPU available: False, using: 0 TPU cores\n",
      "IPU available: False, using: 0 IPUs\n"
     ]
    },
    {
     "name": "stdout",
     "output_type": "stream",
     "text": [
      "1\n"
     ]
    },
    {
     "name": "stderr",
     "output_type": "stream",
     "text": [
      "\n",
      "  | Name      | Type    | Params\n",
      "--------------------------------------\n",
      "0 | encoder   | Linear  | 230 K \n",
      "1 | act_1     | Sigmoid | 0     \n",
      "2 | decoder   | Linear  | 232 K \n",
      "3 | act_2     | Sigmoid | 0     \n",
      "4 | loss_func | MSELoss | 0     \n",
      "--------------------------------------\n",
      "463 K     Trainable params\n",
      "0         Non-trainable params\n",
      "463 K     Total params\n",
      "1.852     Total estimated model params size (MB)\n"
     ]
    },
    {
     "name": "stdout",
     "output_type": "stream",
     "text": [
      "Epoch 0:  50%|█████     | 41/82 [00:00<00:00, 63.69it/s, loss=1.09, v_num=472]\n",
      "Validating: 0it [00:00, ?it/s]\u001B[A\n",
      "Epoch 0: 100%|██████████| 82/82 [00:00<00:00, 114.63it/s, loss=1.09, v_num=472]\n",
      "Epoch 1:  50%|█████     | 41/82 [00:00<00:00, 67.22it/s, loss=1.17, v_num=472] \n",
      "Validating: 0it [00:00, ?it/s]\u001B[A\n",
      "Epoch 1: 100%|██████████| 82/82 [00:00<00:00, 120.85it/s, loss=1.17, v_num=472]\n",
      "Epoch 2:  50%|█████     | 41/82 [00:00<00:00, 64.62it/s, loss=1.08, v_num=472] \n",
      "Validating: 0it [00:00, ?it/s]\u001B[A\n",
      "Epoch 2: 100%|██████████| 82/82 [00:00<00:00, 118.23it/s, loss=1.08, v_num=472]\n",
      "Epoch 3:  50%|█████     | 41/82 [00:00<00:00, 71.54it/s, loss=1.12, v_num=472] \n",
      "Validating: 0it [00:00, ?it/s]\u001B[A\n",
      "Epoch 3: 100%|██████████| 82/82 [00:00<00:00, 127.59it/s, loss=1.12, v_num=472]\n",
      "Epoch 4:  50%|█████     | 41/82 [00:00<00:00, 66.12it/s, loss=1.14, v_num=472] \n",
      "Validating: 0it [00:00, ?it/s]\u001B[A\n",
      "Epoch 4: 100%|██████████| 82/82 [00:00<00:00, 121.15it/s, loss=1.14, v_num=472]\n",
      "Epoch 5:  50%|█████     | 41/82 [00:00<00:00, 68.23it/s, loss=1.1, v_num=472]  \n",
      "Validating: 0it [00:00, ?it/s]\u001B[A\n",
      "Epoch 5: 100%|██████████| 82/82 [00:00<00:00, 124.19it/s, loss=1.1, v_num=472]\n",
      "Epoch 6:  50%|█████     | 41/82 [00:00<00:00, 63.94it/s, loss=1.13, v_num=472]\n",
      "Validating: 0it [00:00, ?it/s]\u001B[A\n",
      "Epoch 6: 100%|██████████| 82/82 [00:00<00:00, 114.97it/s, loss=1.13, v_num=472]\n",
      "Epoch 7:  50%|█████     | 41/82 [00:00<00:00, 66.23it/s, loss=1.13, v_num=472] \n",
      "Validating: 0it [00:00, ?it/s]\u001B[A\n",
      "Epoch 7: 100%|██████████| 82/82 [00:00<00:00, 118.40it/s, loss=1.13, v_num=472]\n",
      "Epoch 8:  50%|█████     | 41/82 [00:00<00:00, 66.76it/s, loss=1.1, v_num=472]  \n",
      "Validating: 0it [00:00, ?it/s]\u001B[A\n",
      "Epoch 8: 100%|██████████| 82/82 [00:00<00:00, 119.71it/s, loss=1.1, v_num=472]\n",
      "Epoch 9:  50%|█████     | 41/82 [00:00<00:00, 65.11it/s, loss=1.18, v_num=472]\n",
      "Validating: 0it [00:00, ?it/s]\u001B[A\n",
      "Epoch 9: 100%|██████████| 82/82 [00:00<00:00, 118.67it/s, loss=1.18, v_num=472]\n",
      "Epoch 9: 100%|██████████| 82/82 [00:00<00:00, 116.21it/s, loss=1.18, v_num=472]\n"
     ]
    },
    {
     "name": "stderr",
     "output_type": "stream",
     "text": [
      "GPU available: True, used: False\n",
      "TPU available: False, using: 0 TPU cores\n",
      "IPU available: False, using: 0 IPUs\n"
     ]
    },
    {
     "name": "stdout",
     "output_type": "stream",
     "text": [
      "100\n"
     ]
    },
    {
     "name": "stderr",
     "output_type": "stream",
     "text": [
      "\n",
      "  | Name      | Type    | Params\n",
      "--------------------------------------\n",
      "0 | encoder   | Linear  | 230 K \n",
      "1 | act_1     | Sigmoid | 0     \n",
      "2 | decoder   | Linear  | 232 K \n",
      "3 | act_2     | Sigmoid | 0     \n",
      "4 | loss_func | MSELoss | 0     \n",
      "--------------------------------------\n",
      "463 K     Trainable params\n",
      "0         Non-trainable params\n",
      "463 K     Total params\n",
      "1.852     Total estimated model params size (MB)\n"
     ]
    },
    {
     "name": "stdout",
     "output_type": "stream",
     "text": [
      "Epoch 0:  50%|█████     | 41/82 [00:00<00:00, 63.09it/s, loss=1.03, v_num=473]\n",
      "Validating: 0it [00:00, ?it/s]\u001B[A\n",
      "Epoch 0: 100%|██████████| 82/82 [00:00<00:00, 115.76it/s, loss=1.03, v_num=473]\n",
      "Epoch 1:  50%|█████     | 41/82 [00:00<00:00, 62.93it/s, loss=1.12, v_num=473] \n",
      "Validating: 0it [00:00, ?it/s]\u001B[A\n",
      "Epoch 1: 100%|██████████| 82/82 [00:00<00:00, 114.90it/s, loss=1.12, v_num=473]\n",
      "Epoch 2:  50%|█████     | 41/82 [00:00<00:00, 67.10it/s, loss=1.17, v_num=473] \n",
      "Validating: 0it [00:00, ?it/s]\u001B[A\n",
      "Epoch 2: 100%|██████████| 82/82 [00:00<00:00, 119.75it/s, loss=1.17, v_num=473]\n",
      "Epoch 3:  50%|█████     | 41/82 [00:00<00:00, 63.89it/s, loss=1.14, v_num=473] \n",
      "Validating: 0it [00:00, ?it/s]\u001B[A\n",
      "Epoch 3: 100%|██████████| 82/82 [00:00<00:00, 117.22it/s, loss=1.14, v_num=473]\n",
      "Epoch 4:  50%|█████     | 41/82 [00:00<00:00, 65.75it/s, loss=1.06, v_num=473] \n",
      "Validating: 0it [00:00, ?it/s]\u001B[A\n",
      "Epoch 4: 100%|██████████| 82/82 [00:00<00:00, 117.12it/s, loss=1.06, v_num=473]\n",
      "Epoch 5:  50%|█████     | 41/82 [00:00<00:00, 67.05it/s, loss=1.13, v_num=473] \n",
      "Validating: 0it [00:00, ?it/s]\u001B[A\n",
      "Epoch 5: 100%|██████████| 82/82 [00:00<00:00, 119.53it/s, loss=1.13, v_num=473]\n",
      "Epoch 6:  50%|█████     | 41/82 [00:00<00:00, 58.06it/s, loss=1.15, v_num=473] \n",
      "Validating: 0it [00:00, ?it/s]\u001B[A\n",
      "Epoch 6: 100%|██████████| 82/82 [00:00<00:00, 103.23it/s, loss=1.15, v_num=473]\n",
      "Epoch 7:  50%|█████     | 41/82 [00:00<00:00, 63.85it/s, loss=1.14, v_num=473] \n",
      "Validating: 0it [00:00, ?it/s]\u001B[A\n",
      "Epoch 7: 100%|██████████| 82/82 [00:00<00:00, 116.96it/s, loss=1.14, v_num=473]\n",
      "Epoch 8:  50%|█████     | 41/82 [00:00<00:00, 66.10it/s, loss=1.16, v_num=473] \n",
      "Validating: 0it [00:00, ?it/s]\u001B[A\n",
      "Epoch 8: 100%|██████████| 82/82 [00:00<00:00, 120.69it/s, loss=1.16, v_num=473]\n",
      "Epoch 9:  50%|█████     | 41/82 [00:00<00:00, 63.85it/s, loss=1.1, v_num=473]  \n",
      "Validating: 0it [00:00, ?it/s]\u001B[A\n",
      "Epoch 9: 100%|██████████| 82/82 [00:00<00:00, 116.59it/s, loss=1.1, v_num=473]\n",
      "Epoch 9: 100%|██████████| 82/82 [00:00<00:00, 114.24it/s, loss=1.1, v_num=473]\n"
     ]
    },
    {
     "name": "stderr",
     "output_type": "stream",
     "text": [
      "GPU available: True, used: False\n",
      "TPU available: False, using: 0 TPU cores\n",
      "IPU available: False, using: 0 IPUs\n"
     ]
    },
    {
     "name": "stdout",
     "output_type": "stream",
     "text": [
      "0.01\n"
     ]
    },
    {
     "name": "stderr",
     "output_type": "stream",
     "text": [
      "\n",
      "  | Name      | Type    | Params\n",
      "--------------------------------------\n",
      "0 | encoder   | Linear  | 863 K \n",
      "1 | act_1     | PReLU   | 1     \n",
      "2 | decoder   | Linear  | 865 K \n",
      "3 | act_2     | PReLU   | 1     \n",
      "4 | loss_func | MSELoss | 0     \n",
      "--------------------------------------\n",
      "1.7 M     Trainable params\n",
      "0         Non-trainable params\n",
      "1.7 M     Total params\n",
      "6.915     Total estimated model params size (MB)\n"
     ]
    },
    {
     "name": "stdout",
     "output_type": "stream",
     "text": [
      "Epoch 0:  50%|█████     | 41/82 [00:00<00:00, 47.02it/s, loss=31.4, v_num=474]\n",
      "Validating: 0it [00:00, ?it/s]\u001B[A\n",
      "Epoch 0: 100%|██████████| 82/82 [00:00<00:00, 86.88it/s, loss=31.4, v_num=474]\n",
      "Epoch 1:  50%|█████     | 41/82 [00:00<00:00, 47.18it/s, loss=1.51, v_num=474]\n",
      "Validating: 0it [00:00, ?it/s]\u001B[A\n",
      "Epoch 1: 100%|██████████| 82/82 [00:00<00:00, 86.44it/s, loss=1.51, v_num=474]\n",
      "Epoch 2:  50%|█████     | 41/82 [00:00<00:00, 45.03it/s, loss=1.47, v_num=474]\n",
      "Validating: 0it [00:00, ?it/s]\u001B[A\n",
      "Epoch 2: 100%|██████████| 82/82 [00:00<00:00, 82.24it/s, loss=1.47, v_num=474]\n",
      "Epoch 3:  50%|█████     | 41/82 [00:00<00:00, 47.48it/s, loss=1.4, v_num=474] \n",
      "Validating: 0it [00:00, ?it/s]\u001B[A\n",
      "Epoch 3: 100%|██████████| 82/82 [00:00<00:00, 87.48it/s, loss=1.4, v_num=474]\n",
      "Epoch 4:  50%|█████     | 41/82 [00:00<00:00, 47.67it/s, loss=1.37, v_num=474]\n",
      "Validating: 0it [00:00, ?it/s]\u001B[A\n",
      "Epoch 4: 100%|██████████| 82/82 [00:00<00:00, 86.52it/s, loss=1.37, v_num=474]\n",
      "Epoch 5:  50%|█████     | 41/82 [00:00<00:00, 44.80it/s, loss=1.15, v_num=474]\n",
      "Validating: 0it [00:00, ?it/s]\u001B[A\n",
      "Epoch 5: 100%|██████████| 82/82 [00:01<00:00, 81.45it/s, loss=1.15, v_num=474]\n",
      "Epoch 6:  50%|█████     | 41/82 [00:00<00:00, 44.66it/s, loss=1.26, v_num=474]\n",
      "Validating: 0it [00:00, ?it/s]\u001B[A\n",
      "Epoch 6: 100%|██████████| 82/82 [00:01<00:00, 81.19it/s, loss=1.26, v_num=474]\n",
      "Epoch 7:  50%|█████     | 41/82 [00:00<00:00, 45.33it/s, loss=1.21, v_num=474]\n",
      "Validating: 0it [00:00, ?it/s]\u001B[A\n",
      "Epoch 7: 100%|██████████| 82/82 [00:00<00:00, 82.22it/s, loss=1.21, v_num=474]\n",
      "Epoch 8:  50%|█████     | 41/82 [00:00<00:00, 44.99it/s, loss=1.15, v_num=474]\n",
      "Validating: 0it [00:00, ?it/s]\u001B[A\n",
      "Epoch 8: 100%|██████████| 82/82 [00:01<00:00, 81.26it/s, loss=1.15, v_num=474]\n",
      "Epoch 9:  50%|█████     | 41/82 [00:00<00:00, 44.80it/s, loss=1.15, v_num=474]\n",
      "Validating: 0it [00:00, ?it/s]\u001B[A\n",
      "Epoch 9: 100%|██████████| 82/82 [00:01<00:00, 81.65it/s, loss=1.15, v_num=474]\n",
      "Epoch 9: 100%|██████████| 82/82 [00:01<00:00, 79.06it/s, loss=1.15, v_num=474]\n"
     ]
    },
    {
     "name": "stderr",
     "output_type": "stream",
     "text": [
      "GPU available: True, used: False\n",
      "TPU available: False, using: 0 TPU cores\n",
      "IPU available: False, using: 0 IPUs\n",
      "\n",
      "  | Name      | Type    | Params\n",
      "--------------------------------------\n",
      "0 | encoder   | Linear  | 863 K \n",
      "1 | act_1     | PReLU   | 1     \n",
      "2 | decoder   | Linear  | 865 K \n",
      "3 | act_2     | PReLU   | 1     \n",
      "4 | loss_func | MSELoss | 0     \n",
      "--------------------------------------\n",
      "1.7 M     Trainable params\n",
      "0         Non-trainable params\n",
      "1.7 M     Total params\n",
      "6.915     Total estimated model params size (MB)\n"
     ]
    },
    {
     "name": "stdout",
     "output_type": "stream",
     "text": [
      "0.1\n",
      "Epoch 0:  50%|█████     | 41/82 [00:00<00:00, 43.36it/s, loss=22.2, v_num=475]\n",
      "Validating: 0it [00:00, ?it/s]\u001B[A\n",
      "Epoch 0: 100%|██████████| 82/82 [00:01<00:00, 78.80it/s, loss=22.2, v_num=475]\n",
      "Epoch 1:  50%|█████     | 41/82 [00:00<00:00, 44.30it/s, loss=1.54, v_num=475]\n",
      "Validating: 0it [00:00, ?it/s]\u001B[A\n",
      "Epoch 1: 100%|██████████| 82/82 [00:01<00:00, 80.41it/s, loss=1.54, v_num=475]\n",
      "Epoch 2:  50%|█████     | 41/82 [00:00<00:00, 45.19it/s, loss=1.56, v_num=475]\n",
      "Validating: 0it [00:00, ?it/s]\u001B[A\n",
      "Epoch 2: 100%|██████████| 82/82 [00:00<00:00, 82.91it/s, loss=1.56, v_num=475]\n",
      "Epoch 3:  50%|█████     | 41/82 [00:00<00:00, 45.15it/s, loss=1.5, v_num=475] \n",
      "Validating: 0it [00:00, ?it/s]\u001B[A\n",
      "Epoch 3: 100%|██████████| 82/82 [00:01<00:00, 81.97it/s, loss=1.5, v_num=475]\n",
      "Epoch 4:  50%|█████     | 41/82 [00:00<00:00, 44.07it/s, loss=1.43, v_num=475]\n",
      "Validating: 0it [00:00, ?it/s]\u001B[A\n",
      "Epoch 4: 100%|██████████| 82/82 [00:01<00:00, 80.20it/s, loss=1.43, v_num=475]\n",
      "Epoch 5:  50%|█████     | 41/82 [00:00<00:00, 43.07it/s, loss=1.51, v_num=475]\n",
      "Validating: 0it [00:00, ?it/s]\u001B[A\n",
      "Epoch 5: 100%|██████████| 82/82 [00:01<00:00, 78.48it/s, loss=1.51, v_num=475]\n",
      "Epoch 6:  50%|█████     | 41/82 [00:00<00:00, 44.12it/s, loss=1.24, v_num=475]\n",
      "Validating: 0it [00:00, ?it/s]\u001B[A\n",
      "Epoch 6: 100%|██████████| 82/82 [00:01<00:00, 79.82it/s, loss=1.24, v_num=475]\n",
      "Epoch 7:  50%|█████     | 41/82 [00:00<00:00, 41.97it/s, loss=1.23, v_num=475]\n",
      "Validating: 0it [00:00, ?it/s]\u001B[A\n",
      "Epoch 7: 100%|██████████| 82/82 [00:01<00:00, 76.50it/s, loss=1.23, v_num=475]\n",
      "Epoch 8:  50%|█████     | 41/82 [00:00<00:00, 41.51it/s, loss=1.18, v_num=475]\n",
      "Validating: 0it [00:00, ?it/s]\u001B[A\n",
      "Epoch 8: 100%|██████████| 82/82 [00:01<00:00, 75.84it/s, loss=1.18, v_num=475]\n",
      "Epoch 9:  50%|█████     | 41/82 [00:00<00:00, 43.18it/s, loss=1.17, v_num=475]\n",
      "Validating: 0it [00:00, ?it/s]\u001B[A\n",
      "Epoch 9: 100%|██████████| 82/82 [00:01<00:00, 79.58it/s, loss=1.17, v_num=475]\n",
      "Epoch 9: 100%|██████████| 82/82 [00:01<00:00, 77.27it/s, loss=1.17, v_num=475]\n"
     ]
    },
    {
     "name": "stderr",
     "output_type": "stream",
     "text": [
      "GPU available: True, used: False\n",
      "TPU available: False, using: 0 TPU cores\n",
      "IPU available: False, using: 0 IPUs\n",
      "\n",
      "  | Name      | Type    | Params\n",
      "--------------------------------------\n",
      "0 | encoder   | Linear  | 863 K \n",
      "1 | act_1     | PReLU   | 1     \n",
      "2 | decoder   | Linear  | 865 K \n",
      "3 | act_2     | PReLU   | 1     \n",
      "4 | loss_func | MSELoss | 0     \n",
      "--------------------------------------\n",
      "1.7 M     Trainable params\n",
      "0         Non-trainable params\n",
      "1.7 M     Total params\n",
      "6.915     Total estimated model params size (MB)\n"
     ]
    },
    {
     "name": "stdout",
     "output_type": "stream",
     "text": [
      "1\n",
      "Epoch 0:  50%|█████     | 41/82 [00:00<00:00, 42.95it/s, loss=1.76, v_num=476]\n",
      "Validating: 0it [00:00, ?it/s]\u001B[A\n",
      "Epoch 0: 100%|██████████| 82/82 [00:01<00:00, 79.05it/s, loss=1.76, v_num=476]\n",
      "Epoch 1:  50%|█████     | 41/82 [00:00<00:00, 42.62it/s, loss=1.42, v_num=476]\n",
      "Validating: 0it [00:00, ?it/s]\u001B[A\n",
      "Epoch 1: 100%|██████████| 82/82 [00:01<00:00, 76.97it/s, loss=1.42, v_num=476]\n",
      "Epoch 2:  50%|█████     | 41/82 [00:00<00:00, 41.91it/s, loss=1.4, v_num=476] \n",
      "Validating: 0it [00:00, ?it/s]\u001B[A\n",
      "Epoch 2: 100%|██████████| 82/82 [00:01<00:00, 76.41it/s, loss=1.4, v_num=476]\n",
      "Epoch 3:  50%|█████     | 41/82 [00:00<00:00, 45.53it/s, loss=1.44, v_num=476]\n",
      "Validating: 0it [00:00, ?it/s]\u001B[A\n",
      "Epoch 3: 100%|██████████| 82/82 [00:00<00:00, 83.38it/s, loss=1.44, v_num=476]\n",
      "Epoch 4:  50%|█████     | 41/82 [00:00<00:00, 43.65it/s, loss=1.39, v_num=476]\n",
      "Validating: 0it [00:00, ?it/s]\u001B[A\n",
      "Epoch 4: 100%|██████████| 82/82 [00:01<00:00, 79.51it/s, loss=1.39, v_num=476]\n",
      "Epoch 5:  50%|█████     | 41/82 [00:00<00:00, 43.85it/s, loss=1.31, v_num=476]\n",
      "Validating: 0it [00:00, ?it/s]\u001B[A\n",
      "Epoch 5: 100%|██████████| 82/82 [00:01<00:00, 79.64it/s, loss=1.31, v_num=476]\n",
      "Epoch 6:  50%|█████     | 41/82 [00:00<00:00, 41.07it/s, loss=1.4, v_num=476] \n",
      "Validating: 0it [00:00, ?it/s]\u001B[A\n",
      "Epoch 6: 100%|██████████| 82/82 [00:01<00:00, 74.72it/s, loss=1.4, v_num=476]\n",
      "Epoch 7:  50%|█████     | 41/82 [00:00<00:00, 43.23it/s, loss=1.39, v_num=476]\n",
      "Validating: 0it [00:00, ?it/s]\u001B[A\n",
      "Epoch 7: 100%|██████████| 82/82 [00:01<00:00, 78.25it/s, loss=1.39, v_num=476]\n",
      "Epoch 8:  50%|█████     | 41/82 [00:00<00:00, 41.65it/s, loss=1.36, v_num=476]\n",
      "Validating: 0it [00:00, ?it/s]\u001B[A\n",
      "Epoch 8: 100%|██████████| 82/82 [00:01<00:00, 76.91it/s, loss=1.36, v_num=476]\n",
      "Epoch 9:  50%|█████     | 41/82 [00:00<00:00, 43.33it/s, loss=1.39, v_num=476]\n",
      "Validating: 0it [00:00, ?it/s]\u001B[A\n",
      "Epoch 9: 100%|██████████| 82/82 [00:01<00:00, 79.78it/s, loss=1.39, v_num=476]\n",
      "Epoch 9: 100%|██████████| 82/82 [00:01<00:00, 77.61it/s, loss=1.39, v_num=476]\n"
     ]
    },
    {
     "name": "stderr",
     "output_type": "stream",
     "text": [
      "GPU available: True, used: False\n",
      "TPU available: False, using: 0 TPU cores\n",
      "IPU available: False, using: 0 IPUs\n",
      "\n",
      "  | Name      | Type    | Params\n",
      "--------------------------------------\n",
      "0 | encoder   | Linear  | 863 K \n",
      "1 | act_1     | PReLU   | 1     \n",
      "2 | decoder   | Linear  | 865 K \n",
      "3 | act_2     | PReLU   | 1     \n",
      "4 | loss_func | MSELoss | 0     \n",
      "--------------------------------------\n",
      "1.7 M     Trainable params\n",
      "0         Non-trainable params\n",
      "1.7 M     Total params\n",
      "6.915     Total estimated model params size (MB)\n"
     ]
    },
    {
     "name": "stdout",
     "output_type": "stream",
     "text": [
      "100\n",
      "Epoch 0:  50%|█████     | 41/82 [00:00<00:00, 44.81it/s, loss=1.59, v_num=477]\n",
      "Validating: 0it [00:00, ?it/s]\u001B[A\n",
      "Epoch 0: 100%|██████████| 82/82 [00:01<00:00, 81.39it/s, loss=1.59, v_num=477]\n",
      "Epoch 1:  50%|█████     | 41/82 [00:00<00:00, 42.79it/s, loss=1.58, v_num=477]\n",
      "Validating: 0it [00:00, ?it/s]\u001B[A\n",
      "Epoch 1: 100%|██████████| 82/82 [00:01<00:00, 78.08it/s, loss=1.58, v_num=477]\n",
      "Epoch 2:  50%|█████     | 41/82 [00:00<00:00, 44.44it/s, loss=1.61, v_num=477]\n",
      "Validating: 0it [00:00, ?it/s]\u001B[A\n",
      "Epoch 2: 100%|██████████| 82/82 [00:01<00:00, 80.54it/s, loss=1.61, v_num=477]\n",
      "Epoch 3:  50%|█████     | 41/82 [00:00<00:00, 43.91it/s, loss=1.54, v_num=477]\n",
      "Validating: 0it [00:00, ?it/s]\u001B[A\n",
      "Epoch 3: 100%|██████████| 82/82 [00:01<00:00, 80.88it/s, loss=1.54, v_num=477]\n",
      "Epoch 4:  50%|█████     | 41/82 [00:00<00:00, 44.93it/s, loss=1.56, v_num=477]\n",
      "Validating: 0it [00:00, ?it/s]\u001B[A\n",
      "Epoch 4: 100%|██████████| 82/82 [00:00<00:00, 82.58it/s, loss=1.56, v_num=477]\n",
      "Epoch 5:  50%|█████     | 41/82 [00:00<00:00, 44.26it/s, loss=1.64, v_num=477]\n",
      "Validating: 0it [00:00, ?it/s]\u001B[A\n",
      "Epoch 5: 100%|██████████| 82/82 [00:01<00:00, 80.46it/s, loss=1.64, v_num=477]\n",
      "Epoch 6:  50%|█████     | 41/82 [00:00<00:00, 44.02it/s, loss=1.55, v_num=477]\n",
      "Validating: 0it [00:00, ?it/s]\u001B[A\n",
      "Epoch 6: 100%|██████████| 82/82 [00:01<00:00, 79.97it/s, loss=1.55, v_num=477]\n",
      "Epoch 7:  50%|█████     | 41/82 [00:00<00:00, 44.91it/s, loss=1.53, v_num=477]\n",
      "Validating: 0it [00:00, ?it/s]\u001B[A\n",
      "Epoch 7: 100%|██████████| 82/82 [00:01<00:00, 81.55it/s, loss=1.53, v_num=477]\n",
      "Epoch 8:  50%|█████     | 41/82 [00:00<00:00, 45.16it/s, loss=1.54, v_num=477]\n",
      "Validating: 0it [00:00, ?it/s]\u001B[A\n",
      "Epoch 8: 100%|██████████| 82/82 [00:00<00:00, 82.16it/s, loss=1.54, v_num=477]\n",
      "Epoch 9:  50%|█████     | 41/82 [00:00<00:00, 44.49it/s, loss=1.71, v_num=477]\n",
      "Validating: 0it [00:00, ?it/s]\u001B[A\n",
      "Epoch 9: 100%|██████████| 82/82 [00:01<00:00, 80.59it/s, loss=1.71, v_num=477]\n",
      "Epoch 9: 100%|██████████| 82/82 [00:01<00:00, 77.91it/s, loss=1.71, v_num=477]"
     ]
    },
    {
     "name": "stderr",
     "output_type": "stream",
     "text": [
      "GPU available: True, used: False\n",
      "TPU available: False, using: 0 TPU cores\n",
      "IPU available: False, using: 0 IPUs\n",
      "\n",
      "  | Name      | Type    | Params\n",
      "--------------------------------------\n",
      "0 | encoder   | Linear  | 863 K \n",
      "1 | act_1     | Sigmoid | 0     \n",
      "2 | decoder   | Linear  | 865 K \n",
      "3 | act_2     | Sigmoid | 0     \n",
      "4 | loss_func | MSELoss | 0     \n",
      "--------------------------------------\n",
      "1.7 M     Trainable params\n",
      "0         Non-trainable params\n",
      "1.7 M     Total params\n",
      "6.915     Total estimated model params size (MB)\n"
     ]
    },
    {
     "name": "stdout",
     "output_type": "stream",
     "text": [
      "\n",
      "0.01\n",
      "Epoch 0:  50%|█████     | 41/82 [00:00<00:00, 42.29it/s, loss=1.03, v_num=478]\n",
      "Validating: 0it [00:00, ?it/s]\u001B[A\n",
      "Epoch 0: 100%|██████████| 82/82 [00:01<00:00, 78.21it/s, loss=1.03, v_num=478]\n",
      "Epoch 1:  50%|█████     | 41/82 [00:00<00:00, 42.91it/s, loss=1.08, v_num=478] \n",
      "Validating: 0it [00:00, ?it/s]\u001B[A\n",
      "Epoch 1: 100%|██████████| 82/82 [00:01<00:00, 77.90it/s, loss=1.08, v_num=478]\n",
      "Epoch 2:  50%|█████     | 41/82 [00:00<00:00, 44.31it/s, loss=1.12, v_num=478]\n",
      "Validating: 0it [00:00, ?it/s]\u001B[A\n",
      "Epoch 2: 100%|██████████| 82/82 [00:01<00:00, 81.32it/s, loss=1.12, v_num=478]\n",
      "Epoch 3:  50%|█████     | 41/82 [00:00<00:00, 43.77it/s, loss=1.1, v_num=478] \n",
      "Validating: 0it [00:00, ?it/s]\u001B[A\n",
      "Epoch 3: 100%|██████████| 82/82 [00:01<00:00, 79.38it/s, loss=1.1, v_num=478]\n",
      "Epoch 4:  50%|█████     | 41/82 [00:00<00:00, 43.77it/s, loss=1.04, v_num=478]\n",
      "Validating: 0it [00:00, ?it/s]\u001B[A\n",
      "Epoch 4: 100%|██████████| 82/82 [00:01<00:00, 79.06it/s, loss=1.04, v_num=478]\n",
      "Epoch 5:  50%|█████     | 41/82 [00:00<00:00, 43.04it/s, loss=1.11, v_num=478]\n",
      "Validating: 0it [00:00, ?it/s]\u001B[A\n",
      "Epoch 5: 100%|██████████| 82/82 [00:01<00:00, 78.24it/s, loss=1.11, v_num=478]\n",
      "Epoch 6:  50%|█████     | 41/82 [00:00<00:00, 43.91it/s, loss=1.12, v_num=478]\n",
      "Validating: 0it [00:00, ?it/s]\u001B[A\n",
      "Epoch 6: 100%|██████████| 82/82 [00:01<00:00, 79.63it/s, loss=1.12, v_num=478]\n",
      "Epoch 7:  50%|█████     | 41/82 [00:00<00:00, 43.69it/s, loss=1.04, v_num=478]\n",
      "Validating: 0it [00:00, ?it/s]\u001B[A\n",
      "Epoch 7: 100%|██████████| 82/82 [00:01<00:00, 80.72it/s, loss=1.04, v_num=478]\n",
      "Epoch 8:  50%|█████     | 41/82 [00:00<00:00, 45.03it/s, loss=1.13, v_num=478] \n",
      "Validating: 0it [00:00, ?it/s]\u001B[A\n",
      "Epoch 8: 100%|██████████| 82/82 [00:00<00:00, 82.72it/s, loss=1.13, v_num=478]\n",
      "Epoch 9:  50%|█████     | 41/82 [00:00<00:00, 41.89it/s, loss=1.05, v_num=478]\n",
      "Validating: 0it [00:00, ?it/s]\u001B[A\n",
      "Epoch 9: 100%|██████████| 82/82 [00:01<00:00, 76.66it/s, loss=1.05, v_num=478]\n",
      "Epoch 9: 100%|██████████| 82/82 [00:01<00:00, 74.40it/s, loss=1.05, v_num=478]"
     ]
    },
    {
     "name": "stderr",
     "output_type": "stream",
     "text": [
      "GPU available: True, used: False\n",
      "TPU available: False, using: 0 TPU cores\n",
      "IPU available: False, using: 0 IPUs\n",
      "\n",
      "  | Name      | Type    | Params\n",
      "--------------------------------------\n",
      "0 | encoder   | Linear  | 863 K \n",
      "1 | act_1     | Sigmoid | 0     \n",
      "2 | decoder   | Linear  | 865 K \n",
      "3 | act_2     | Sigmoid | 0     \n",
      "4 | loss_func | MSELoss | 0     \n",
      "--------------------------------------\n",
      "1.7 M     Trainable params\n",
      "0         Non-trainable params\n",
      "1.7 M     Total params\n",
      "6.915     Total estimated model params size (MB)\n"
     ]
    },
    {
     "name": "stdout",
     "output_type": "stream",
     "text": [
      "\n",
      "0.1\n",
      "Epoch 0:  50%|█████     | 41/82 [00:00<00:00, 41.55it/s, loss=1.11, v_num=479]\n",
      "Validating: 0it [00:00, ?it/s]\u001B[A\n",
      "Epoch 0: 100%|██████████| 82/82 [00:01<00:00, 75.20it/s, loss=1.11, v_num=479]\n",
      "Epoch 1:  50%|█████     | 41/82 [00:00<00:00, 41.51it/s, loss=1.06, v_num=479]\n",
      "Validating: 0it [00:00, ?it/s]\u001B[A\n",
      "Epoch 1:  59%|█████▊    | 48/82 [00:01<00:00, 47.54it/s, loss=1.06, v_num=479]\n",
      "Epoch 1: 100%|██████████| 82/82 [00:01<00:00, 74.71it/s, loss=1.06, v_num=479]\n",
      "Epoch 2:  50%|█████     | 41/82 [00:01<00:01, 40.12it/s, loss=1.12, v_num=479]\n",
      "Validating: 0it [00:00, ?it/s]\u001B[A\n",
      "Epoch 2: 100%|██████████| 82/82 [00:01<00:00, 72.81it/s, loss=1.12, v_num=479]\n",
      "Epoch 3:  50%|█████     | 41/82 [00:00<00:00, 42.40it/s, loss=1.1, v_num=479] \n",
      "Validating: 0it [00:00, ?it/s]\u001B[A\n",
      "Epoch 3: 100%|██████████| 82/82 [00:01<00:00, 76.84it/s, loss=1.1, v_num=479]\n",
      "Epoch 4:  50%|█████     | 41/82 [00:00<00:00, 46.38it/s, loss=1.14, v_num=479] \n",
      "Validating: 0it [00:00, ?it/s]\u001B[A\n",
      "Epoch 4: 100%|██████████| 82/82 [00:00<00:00, 84.46it/s, loss=1.14, v_num=479]\n",
      "Epoch 5:  50%|█████     | 41/82 [00:00<00:00, 45.65it/s, loss=1.1, v_num=479] \n",
      "Validating: 0it [00:00, ?it/s]\u001B[A\n",
      "Epoch 5: 100%|██████████| 82/82 [00:00<00:00, 82.61it/s, loss=1.1, v_num=479]\n",
      "Epoch 6:  50%|█████     | 41/82 [00:00<00:00, 43.52it/s, loss=1.08, v_num=479]\n",
      "Validating: 0it [00:00, ?it/s]\u001B[A\n",
      "Epoch 6: 100%|██████████| 82/82 [00:01<00:00, 80.65it/s, loss=1.08, v_num=479]\n",
      "Epoch 7:  50%|█████     | 41/82 [00:00<00:00, 46.21it/s, loss=1.16, v_num=479]\n",
      "Validating: 0it [00:00, ?it/s]\u001B[A\n",
      "Epoch 7: 100%|██████████| 82/82 [00:00<00:00, 85.27it/s, loss=1.16, v_num=479]\n",
      "Epoch 8:  50%|█████     | 41/82 [00:00<00:00, 43.35it/s, loss=1.14, v_num=479] \n",
      "Validating: 0it [00:00, ?it/s]\u001B[A\n",
      "Epoch 8: 100%|██████████| 82/82 [00:01<00:00, 79.31it/s, loss=1.14, v_num=479]\n",
      "Epoch 9:  50%|█████     | 41/82 [00:00<00:00, 46.31it/s, loss=1.13, v_num=479]\n",
      "Validating: 0it [00:00, ?it/s]\u001B[A\n",
      "Epoch 9: 100%|██████████| 82/82 [00:00<00:00, 84.36it/s, loss=1.13, v_num=479]\n",
      "Epoch 9: 100%|██████████| 82/82 [00:01<00:00, 81.50it/s, loss=1.13, v_num=479]"
     ]
    },
    {
     "name": "stderr",
     "output_type": "stream",
     "text": [
      "GPU available: True, used: False\n",
      "TPU available: False, using: 0 TPU cores\n",
      "IPU available: False, using: 0 IPUs\n",
      "\n",
      "  | Name      | Type    | Params\n",
      "--------------------------------------\n",
      "0 | encoder   | Linear  | 863 K \n",
      "1 | act_1     | Sigmoid | 0     \n",
      "2 | decoder   | Linear  | 865 K \n",
      "3 | act_2     | Sigmoid | 0     \n",
      "4 | loss_func | MSELoss | 0     \n",
      "--------------------------------------\n",
      "1.7 M     Trainable params\n",
      "0         Non-trainable params\n",
      "1.7 M     Total params\n",
      "6.915     Total estimated model params size (MB)\n"
     ]
    },
    {
     "name": "stdout",
     "output_type": "stream",
     "text": [
      "\n",
      "1\n",
      "Epoch 0:  50%|█████     | 41/82 [00:00<00:00, 45.57it/s, loss=1.18, v_num=480]\n",
      "Validating: 0it [00:00, ?it/s]\u001B[A\n",
      "Epoch 0: 100%|██████████| 82/82 [00:00<00:00, 82.94it/s, loss=1.18, v_num=480]\n",
      "Epoch 1:  50%|█████     | 41/82 [00:00<00:00, 45.59it/s, loss=1.17, v_num=480]\n",
      "Validating: 0it [00:00, ?it/s]\u001B[A\n",
      "Epoch 1: 100%|██████████| 82/82 [00:00<00:00, 82.80it/s, loss=1.17, v_num=480]\n",
      "Epoch 2:  50%|█████     | 41/82 [00:00<00:00, 46.34it/s, loss=1.11, v_num=480]\n",
      "Validating: 0it [00:00, ?it/s]\u001B[A\n",
      "Epoch 2: 100%|██████████| 82/82 [00:00<00:00, 84.34it/s, loss=1.11, v_num=480]\n",
      "Epoch 3:  50%|█████     | 41/82 [00:00<00:00, 45.00it/s, loss=1.08, v_num=480]\n",
      "Validating: 0it [00:00, ?it/s]\u001B[A\n",
      "Epoch 3: 100%|██████████| 82/82 [00:00<00:00, 82.37it/s, loss=1.08, v_num=480]\n",
      "Epoch 4:  50%|█████     | 41/82 [00:00<00:00, 46.32it/s, loss=1.09, v_num=480]\n",
      "Validating: 0it [00:00, ?it/s]\u001B[A\n",
      "Epoch 4: 100%|██████████| 82/82 [00:00<00:00, 84.41it/s, loss=1.09, v_num=480]\n",
      "Epoch 5:  50%|█████     | 41/82 [00:00<00:00, 46.14it/s, loss=1.12, v_num=480]\n",
      "Validating: 0it [00:00, ?it/s]\u001B[A\n",
      "Epoch 5: 100%|██████████| 82/82 [00:00<00:00, 84.71it/s, loss=1.12, v_num=480]\n",
      "Epoch 6:  50%|█████     | 41/82 [00:00<00:00, 43.50it/s, loss=1.13, v_num=480]\n",
      "Validating: 0it [00:00, ?it/s]\u001B[A\n",
      "Epoch 6: 100%|██████████| 82/82 [00:01<00:00, 79.82it/s, loss=1.13, v_num=480]\n",
      "Epoch 7:  50%|█████     | 41/82 [00:00<00:00, 44.21it/s, loss=1.08, v_num=480]\n",
      "Validating: 0it [00:00, ?it/s]\u001B[A\n",
      "Epoch 7: 100%|██████████| 82/82 [00:01<00:00, 80.41it/s, loss=1.08, v_num=480]\n",
      "Epoch 8:  50%|█████     | 41/82 [00:00<00:00, 45.11it/s, loss=1.22, v_num=480] \n",
      "Validating: 0it [00:00, ?it/s]\u001B[A\n",
      "Epoch 8: 100%|██████████| 82/82 [00:00<00:00, 82.87it/s, loss=1.22, v_num=480]\n",
      "Epoch 9:  50%|█████     | 41/82 [00:00<00:00, 44.34it/s, loss=1.11, v_num=480]\n",
      "Validating: 0it [00:00, ?it/s]\u001B[A\n",
      "Epoch 9: 100%|██████████| 82/82 [00:01<00:00, 80.62it/s, loss=1.11, v_num=480]\n",
      "Epoch 9: 100%|██████████| 82/82 [00:01<00:00, 77.67it/s, loss=1.11, v_num=480]"
     ]
    },
    {
     "name": "stderr",
     "output_type": "stream",
     "text": [
      "GPU available: True, used: False\n",
      "TPU available: False, using: 0 TPU cores\n",
      "IPU available: False, using: 0 IPUs\n",
      "\n",
      "  | Name      | Type    | Params\n",
      "--------------------------------------\n",
      "0 | encoder   | Linear  | 863 K \n",
      "1 | act_1     | Sigmoid | 0     \n",
      "2 | decoder   | Linear  | 865 K \n",
      "3 | act_2     | Sigmoid | 0     \n",
      "4 | loss_func | MSELoss | 0     \n",
      "--------------------------------------\n",
      "1.7 M     Trainable params\n",
      "0         Non-trainable params\n",
      "1.7 M     Total params\n",
      "6.915     Total estimated model params size (MB)\n"
     ]
    },
    {
     "name": "stdout",
     "output_type": "stream",
     "text": [
      "\n",
      "100\n",
      "Epoch 0:  50%|█████     | 41/82 [00:00<00:00, 42.40it/s, loss=1.22, v_num=481]\n",
      "Validating: 0it [00:00, ?it/s]\u001B[A\n",
      "Epoch 0: 100%|██████████| 82/82 [00:01<00:00, 77.05it/s, loss=1.22, v_num=481]\n",
      "Epoch 1:  50%|█████     | 41/82 [00:00<00:00, 41.65it/s, loss=1.17, v_num=481]\n",
      "Validating: 0it [00:00, ?it/s]\u001B[A\n",
      "Epoch 1: 100%|██████████| 82/82 [00:01<00:00, 75.96it/s, loss=1.17, v_num=481]\n",
      "Epoch 2:  50%|█████     | 41/82 [00:00<00:00, 43.05it/s, loss=1.12, v_num=481]\n",
      "Validating: 0it [00:00, ?it/s]\u001B[A\n",
      "Epoch 2: 100%|██████████| 82/82 [00:01<00:00, 78.81it/s, loss=1.12, v_num=481]\n",
      "Epoch 3:  50%|█████     | 41/82 [00:00<00:00, 46.22it/s, loss=1.14, v_num=481]\n",
      "Validating: 0it [00:00, ?it/s]\u001B[A\n",
      "Epoch 3: 100%|██████████| 82/82 [00:00<00:00, 84.60it/s, loss=1.14, v_num=481]\n",
      "Epoch 4:  50%|█████     | 41/82 [00:01<00:01, 39.13it/s, loss=1.13, v_num=481]\n",
      "Validating: 0it [00:00, ?it/s]\u001B[A\n",
      "Epoch 4: 100%|██████████| 82/82 [00:01<00:00, 71.53it/s, loss=1.13, v_num=481]\n",
      "Epoch 5:  50%|█████     | 41/82 [00:00<00:00, 41.58it/s, loss=1.08, v_num=481]\n",
      "Validating: 0it [00:00, ?it/s]\u001B[A\n",
      "Epoch 5: 100%|██████████| 82/82 [00:01<00:00, 75.76it/s, loss=1.08, v_num=481]\n",
      "Epoch 6:  50%|█████     | 41/82 [00:00<00:00, 41.68it/s, loss=1.09, v_num=481]\n",
      "Validating: 0it [00:00, ?it/s]\u001B[A\n",
      "Epoch 6: 100%|██████████| 82/82 [00:01<00:00, 76.63it/s, loss=1.09, v_num=481]\n",
      "Epoch 7:  50%|█████     | 41/82 [00:01<00:01, 39.23it/s, loss=1.08, v_num=481]\n",
      "Validating: 0it [00:00, ?it/s]\u001B[A\n",
      "Epoch 7:  54%|█████▎    | 44/82 [00:01<00:00, 41.61it/s, loss=1.08, v_num=481]\n",
      "Epoch 7: 100%|██████████| 82/82 [00:01<00:00, 71.13it/s, loss=1.08, v_num=481]\n",
      "Epoch 8:  50%|█████     | 41/82 [00:01<00:01, 39.36it/s, loss=1.07, v_num=481]\n",
      "Validating: 0it [00:00, ?it/s]\u001B[A\n",
      "Epoch 8: 100%|██████████| 82/82 [00:01<00:00, 72.70it/s, loss=1.07, v_num=481]\n",
      "Epoch 9:  50%|█████     | 41/82 [00:01<00:01, 39.43it/s, loss=1.22, v_num=481]\n",
      "Validating: 0it [00:00, ?it/s]\u001B[A\n",
      "Epoch 9: 100%|██████████| 82/82 [00:01<00:00, 72.24it/s, loss=1.22, v_num=481]\n",
      "Epoch 9: 100%|██████████| 82/82 [00:01<00:00, 69.97it/s, loss=1.22, v_num=481]"
     ]
    },
    {
     "name": "stderr",
     "output_type": "stream",
     "text": [
      "GPU available: True, used: False\n",
      "TPU available: False, using: 0 TPU cores\n",
      "IPU available: False, using: 0 IPUs\n",
      "\n",
      "  | Name      | Type    | Params\n",
      "--------------------------------------\n",
      "0 | encoder   | Linear  | 28.8 K\n",
      "1 | act_1     | PReLU   | 1     \n",
      "2 | decoder   | Linear  | 31.6 K\n",
      "3 | act_2     | PReLU   | 1     \n",
      "4 | loss_func | MSELoss | 0     \n",
      "--------------------------------------\n",
      "60.4 K    Trainable params\n",
      "0         Non-trainable params\n",
      "60.4 K    Total params\n",
      "0.242     Total estimated model params size (MB)\n"
     ]
    },
    {
     "name": "stdout",
     "output_type": "stream",
     "text": [
      "\n",
      "0.01\n",
      "Epoch 0:  50%|█████     | 41/82 [00:00<00:00, 65.31it/s, loss=1.95, v_num=482]\n",
      "Validating: 0it [00:00, ?it/s]\u001B[A\n",
      "Epoch 0: 100%|██████████| 82/82 [00:00<00:00, 116.53it/s, loss=1.95, v_num=482]\n",
      "Epoch 1:  50%|█████     | 41/82 [00:00<00:00, 61.70it/s, loss=1.52, v_num=482] \n",
      "Validating: 0it [00:00, ?it/s]\u001B[A\n",
      "Epoch 1: 100%|██████████| 82/82 [00:00<00:00, 112.80it/s, loss=1.52, v_num=482]\n",
      "Epoch 2:  50%|█████     | 41/82 [00:00<00:00, 59.22it/s, loss=1.35, v_num=482] \n",
      "Validating: 0it [00:00, ?it/s]\u001B[A\n",
      "Epoch 2: 100%|██████████| 82/82 [00:00<00:00, 106.86it/s, loss=1.35, v_num=482]\n",
      "Epoch 3:  50%|█████     | 41/82 [00:00<00:00, 65.64it/s, loss=1.29, v_num=482] \n",
      "Validating: 0it [00:00, ?it/s]\u001B[A\n",
      "Epoch 3: 100%|██████████| 82/82 [00:00<00:00, 116.96it/s, loss=1.29, v_num=482]\n",
      "Epoch 4:  50%|█████     | 41/82 [00:00<00:00, 65.25it/s, loss=1.26, v_num=482] \n",
      "Validating: 0it [00:00, ?it/s]\u001B[A\n",
      "Epoch 4: 100%|██████████| 82/82 [00:00<00:00, 119.66it/s, loss=1.26, v_num=482]\n",
      "Epoch 5:  50%|█████     | 41/82 [00:00<00:00, 58.19it/s, loss=1.2, v_num=482]  \n",
      "Validating: 0it [00:00, ?it/s]\u001B[A\n",
      "Epoch 5: 100%|██████████| 82/82 [00:00<00:00, 103.73it/s, loss=1.2, v_num=482]\n",
      "Epoch 6:  50%|█████     | 41/82 [00:00<00:00, 58.02it/s, loss=1.13, v_num=482]\n",
      "Validating: 0it [00:00, ?it/s]\u001B[A\n",
      "Epoch 6: 100%|██████████| 82/82 [00:00<00:00, 106.59it/s, loss=1.13, v_num=482]\n",
      "Epoch 7:  50%|█████     | 41/82 [00:00<00:00, 63.28it/s, loss=1.19, v_num=482] \n",
      "Validating: 0it [00:00, ?it/s]\u001B[A\n",
      "Epoch 7: 100%|██████████| 82/82 [00:00<00:00, 113.11it/s, loss=1.19, v_num=482]\n",
      "Epoch 8:  50%|█████     | 41/82 [00:00<00:00, 57.24it/s, loss=1.28, v_num=482] \n",
      "Validating: 0it [00:00, ?it/s]\u001B[A\n",
      "Epoch 8: 100%|██████████| 82/82 [00:00<00:00, 103.61it/s, loss=1.28, v_num=482]\n",
      "Epoch 9:  50%|█████     | 41/82 [00:00<00:00, 66.19it/s, loss=1.14, v_num=482] \n",
      "Validating: 0it [00:00, ?it/s]\u001B[A\n",
      "Epoch 9: 100%|██████████| 82/82 [00:00<00:00, 118.60it/s, loss=1.14, v_num=482]\n",
      "Epoch 9: 100%|██████████| 82/82 [00:00<00:00, 117.26it/s, loss=1.14, v_num=482]\n"
     ]
    },
    {
     "name": "stderr",
     "output_type": "stream",
     "text": [
      "GPU available: True, used: False\n",
      "TPU available: False, using: 0 TPU cores\n",
      "IPU available: False, using: 0 IPUs\n"
     ]
    },
    {
     "name": "stdout",
     "output_type": "stream",
     "text": [
      "0.1\n"
     ]
    },
    {
     "name": "stderr",
     "output_type": "stream",
     "text": [
      "\n",
      "  | Name      | Type    | Params\n",
      "--------------------------------------\n",
      "0 | encoder   | Linear  | 28.8 K\n",
      "1 | act_1     | PReLU   | 1     \n",
      "2 | decoder   | Linear  | 31.6 K\n",
      "3 | act_2     | PReLU   | 1     \n",
      "4 | loss_func | MSELoss | 0     \n",
      "--------------------------------------\n",
      "60.4 K    Trainable params\n",
      "0         Non-trainable params\n",
      "60.4 K    Total params\n",
      "0.242     Total estimated model params size (MB)\n"
     ]
    },
    {
     "name": "stdout",
     "output_type": "stream",
     "text": [
      "Epoch 0:  50%|█████     | 41/82 [00:00<00:00, 63.44it/s, loss=1.72, v_num=483]\n",
      "Validating: 0it [00:00, ?it/s]\u001B[A\n",
      "Epoch 0: 100%|██████████| 82/82 [00:00<00:00, 114.84it/s, loss=1.72, v_num=483]\n",
      "Epoch 1:  50%|█████     | 41/82 [00:00<00:00, 58.73it/s, loss=1.52, v_num=483] \n",
      "Validating: 0it [00:00, ?it/s]\u001B[A\n",
      "Epoch 1: 100%|██████████| 82/82 [00:00<00:00, 105.68it/s, loss=1.52, v_num=483]\n",
      "Epoch 2:  50%|█████     | 41/82 [00:00<00:00, 61.22it/s, loss=1.24, v_num=483] \n",
      "Validating: 0it [00:00, ?it/s]\u001B[A\n",
      "Epoch 2: 100%|██████████| 82/82 [00:00<00:00, 109.74it/s, loss=1.24, v_num=483]\n",
      "Epoch 3:  50%|█████     | 41/82 [00:00<00:00, 56.74it/s, loss=1.32, v_num=483] \n",
      "Validating: 0it [00:00, ?it/s]\u001B[A\n",
      "Epoch 3: 100%|██████████| 82/82 [00:00<00:00, 105.19it/s, loss=1.32, v_num=483]\n",
      "Epoch 4:  50%|█████     | 41/82 [00:00<00:00, 55.25it/s, loss=1.2, v_num=483]  \n",
      "Validating: 0it [00:00, ?it/s]\u001B[A\n",
      "Epoch 4: 100%|██████████| 82/82 [00:00<00:00, 100.64it/s, loss=1.2, v_num=483]\n",
      "Epoch 5:  50%|█████     | 41/82 [00:00<00:00, 64.29it/s, loss=1.3, v_num=483] \n",
      "Validating: 0it [00:00, ?it/s]\u001B[A\n",
      "Epoch 5: 100%|██████████| 82/82 [00:00<00:00, 116.33it/s, loss=1.3, v_num=483]\n",
      "Epoch 6:  50%|█████     | 41/82 [00:00<00:00, 59.19it/s, loss=1.32, v_num=483]\n",
      "Validating: 0it [00:00, ?it/s]\u001B[A\n",
      "Epoch 6: 100%|██████████| 82/82 [00:00<00:00, 107.56it/s, loss=1.32, v_num=483]\n",
      "Epoch 7:  50%|█████     | 41/82 [00:00<00:00, 61.81it/s, loss=1.2, v_num=483]  \n",
      "Validating: 0it [00:00, ?it/s]\u001B[A\n",
      "Epoch 7: 100%|██████████| 82/82 [00:00<00:00, 113.62it/s, loss=1.2, v_num=483]\n",
      "Epoch 8:  50%|█████     | 41/82 [00:00<00:00, 56.57it/s, loss=1.27, v_num=483]\n",
      "Validating: 0it [00:00, ?it/s]\u001B[A\n",
      "Epoch 8: 100%|██████████| 82/82 [00:00<00:00, 102.78it/s, loss=1.27, v_num=483]\n",
      "Epoch 9:  50%|█████     | 41/82 [00:00<00:00, 56.89it/s, loss=1.3, v_num=483]  \n",
      "Validating: 0it [00:00, ?it/s]\u001B[A\n",
      "Epoch 9: 100%|██████████| 82/82 [00:00<00:00, 103.35it/s, loss=1.3, v_num=483]\n",
      "Epoch 9: 100%|██████████| 82/82 [00:00<00:00, 102.28it/s, loss=1.3, v_num=483]\n"
     ]
    },
    {
     "name": "stderr",
     "output_type": "stream",
     "text": [
      "GPU available: True, used: False\n",
      "TPU available: False, using: 0 TPU cores\n",
      "IPU available: False, using: 0 IPUs\n",
      "\n",
      "  | Name      | Type    | Params\n",
      "--------------------------------------\n",
      "0 | encoder   | Linear  | 28.8 K\n",
      "1 | act_1     | PReLU   | 1     \n",
      "2 | decoder   | Linear  | 31.6 K\n",
      "3 | act_2     | PReLU   | 1     \n",
      "4 | loss_func | MSELoss | 0     \n",
      "--------------------------------------\n",
      "60.4 K    Trainable params\n",
      "0         Non-trainable params\n",
      "60.4 K    Total params\n",
      "0.242     Total estimated model params size (MB)\n"
     ]
    },
    {
     "name": "stdout",
     "output_type": "stream",
     "text": [
      "1\n",
      "Epoch 0:  50%|█████     | 41/82 [00:00<00:00, 66.09it/s, loss=1.58, v_num=484]\n",
      "Validating: 0it [00:00, ?it/s]\u001B[A\n",
      "Epoch 0: 100%|██████████| 82/82 [00:00<00:00, 117.20it/s, loss=1.58, v_num=484]\n",
      "Epoch 1:  50%|█████     | 41/82 [00:00<00:00, 63.18it/s, loss=1.4, v_num=484]  \n",
      "Validating: 0it [00:00, ?it/s]\u001B[A\n",
      "Epoch 1: 100%|██████████| 82/82 [00:00<00:00, 113.77it/s, loss=1.4, v_num=484]\n",
      "Epoch 2:  50%|█████     | 41/82 [00:00<00:00, 57.78it/s, loss=1.36, v_num=484]\n",
      "Validating: 0it [00:00, ?it/s]\u001B[A\n",
      "Epoch 2: 100%|██████████| 82/82 [00:00<00:00, 104.75it/s, loss=1.36, v_num=484]\n",
      "Epoch 3:  50%|█████     | 41/82 [00:00<00:00, 59.91it/s, loss=1.43, v_num=484] \n",
      "Validating: 0it [00:00, ?it/s]\u001B[A\n",
      "Epoch 3: 100%|██████████| 82/82 [00:00<00:00, 108.49it/s, loss=1.43, v_num=484]\n",
      "Epoch 4:  50%|█████     | 41/82 [00:00<00:00, 61.43it/s, loss=1.39, v_num=484] \n",
      "Validating: 0it [00:00, ?it/s]\u001B[A\n",
      "Epoch 4: 100%|██████████| 82/82 [00:00<00:00, 109.90it/s, loss=1.39, v_num=484]\n",
      "Epoch 5:  50%|█████     | 41/82 [00:00<00:00, 61.15it/s, loss=1.37, v_num=484] \n",
      "Validating: 0it [00:00, ?it/s]\u001B[A\n",
      "Epoch 5: 100%|██████████| 82/82 [00:00<00:00, 110.49it/s, loss=1.37, v_num=484]\n",
      "Epoch 6:  50%|█████     | 41/82 [00:00<00:00, 60.29it/s, loss=1.35, v_num=484] \n",
      "Validating: 0it [00:00, ?it/s]\u001B[A\n",
      "Epoch 6: 100%|██████████| 82/82 [00:00<00:00, 109.13it/s, loss=1.35, v_num=484]\n",
      "Epoch 7:  50%|█████     | 41/82 [00:00<00:00, 63.15it/s, loss=1.4, v_num=484]  \n",
      "Validating: 0it [00:00, ?it/s]\u001B[A\n",
      "Epoch 7: 100%|██████████| 82/82 [00:00<00:00, 115.27it/s, loss=1.4, v_num=484]\n",
      "Epoch 8:  50%|█████     | 41/82 [00:00<00:00, 61.96it/s, loss=1.38, v_num=484]\n",
      "Validating: 0it [00:00, ?it/s]\u001B[A\n",
      "Epoch 8: 100%|██████████| 82/82 [00:00<00:00, 113.47it/s, loss=1.38, v_num=484]\n",
      "Epoch 9:  50%|█████     | 41/82 [00:00<00:00, 60.15it/s, loss=1.42, v_num=484] \n",
      "Validating: 0it [00:00, ?it/s]\u001B[A\n",
      "Epoch 9: 100%|██████████| 82/82 [00:00<00:00, 110.97it/s, loss=1.42, v_num=484]\n",
      "Epoch 9: 100%|██████████| 82/82 [00:00<00:00, 109.95it/s, loss=1.42, v_num=484]\n"
     ]
    },
    {
     "name": "stderr",
     "output_type": "stream",
     "text": [
      "GPU available: True, used: False\n",
      "TPU available: False, using: 0 TPU cores\n",
      "IPU available: False, using: 0 IPUs\n"
     ]
    },
    {
     "name": "stdout",
     "output_type": "stream",
     "text": [
      "100\n"
     ]
    },
    {
     "name": "stderr",
     "output_type": "stream",
     "text": [
      "\n",
      "  | Name      | Type    | Params\n",
      "--------------------------------------\n",
      "0 | encoder   | Linear  | 28.8 K\n",
      "1 | act_1     | PReLU   | 1     \n",
      "2 | decoder   | Linear  | 31.6 K\n",
      "3 | act_2     | PReLU   | 1     \n",
      "4 | loss_func | MSELoss | 0     \n",
      "--------------------------------------\n",
      "60.4 K    Trainable params\n",
      "0         Non-trainable params\n",
      "60.4 K    Total params\n",
      "0.242     Total estimated model params size (MB)\n"
     ]
    },
    {
     "name": "stdout",
     "output_type": "stream",
     "text": [
      "Epoch 0:  50%|█████     | 41/82 [00:00<00:00, 60.07it/s, loss=1.43, v_num=485]\n",
      "Validating: 0it [00:00, ?it/s]\u001B[A\n",
      "Epoch 0: 100%|██████████| 82/82 [00:00<00:00, 108.05it/s, loss=1.43, v_num=485]\n",
      "Epoch 1:  50%|█████     | 41/82 [00:00<00:00, 66.24it/s, loss=1.61, v_num=485] \n",
      "Validating: 0it [00:00, ?it/s]\u001B[A\n",
      "Epoch 1: 100%|██████████| 82/82 [00:00<00:00, 117.84it/s, loss=1.61, v_num=485]\n",
      "Epoch 2:  50%|█████     | 41/82 [00:00<00:00, 60.93it/s, loss=1.62, v_num=485] \n",
      "Validating: 0it [00:00, ?it/s]\u001B[A\n",
      "Epoch 2: 100%|██████████| 82/82 [00:00<00:00, 108.15it/s, loss=1.62, v_num=485]\n",
      "Epoch 3:  50%|█████     | 41/82 [00:00<00:00, 62.35it/s, loss=1.58, v_num=485] \n",
      "Validating: 0it [00:00, ?it/s]\u001B[A\n",
      "Epoch 3: 100%|██████████| 82/82 [00:00<00:00, 112.20it/s, loss=1.58, v_num=485]\n",
      "Epoch 4:  50%|█████     | 41/82 [00:00<00:00, 62.51it/s, loss=1.57, v_num=485] \n",
      "Validating: 0it [00:00, ?it/s]\u001B[A\n",
      "Epoch 4: 100%|██████████| 82/82 [00:00<00:00, 112.87it/s, loss=1.57, v_num=485]\n",
      "Epoch 5:  50%|█████     | 41/82 [00:00<00:00, 63.48it/s, loss=1.56, v_num=485] \n",
      "Validating: 0it [00:00, ?it/s]\u001B[A\n",
      "Epoch 5: 100%|██████████| 82/82 [00:00<00:00, 112.39it/s, loss=1.56, v_num=485]\n",
      "Epoch 6:  50%|█████     | 41/82 [00:00<00:00, 68.84it/s, loss=1.64, v_num=485] \n",
      "Validating: 0it [00:00, ?it/s]\u001B[A\n",
      "Epoch 6: 100%|██████████| 82/82 [00:00<00:00, 124.40it/s, loss=1.64, v_num=485]\n",
      "Epoch 7:  50%|█████     | 41/82 [00:00<00:00, 59.92it/s, loss=1.59, v_num=485] \n",
      "Validating: 0it [00:00, ?it/s]\u001B[A\n",
      "Epoch 7: 100%|██████████| 82/82 [00:00<00:00, 108.07it/s, loss=1.59, v_num=485]\n",
      "Epoch 8:  50%|█████     | 41/82 [00:00<00:00, 64.31it/s, loss=1.55, v_num=485] \n",
      "Validating: 0it [00:00, ?it/s]\u001B[A\n",
      "Epoch 8: 100%|██████████| 82/82 [00:00<00:00, 115.63it/s, loss=1.55, v_num=485]\n",
      "Epoch 9:  50%|█████     | 41/82 [00:00<00:00, 69.84it/s, loss=1.7, v_num=485]  \n",
      "Validating: 0it [00:00, ?it/s]\u001B[A\n",
      "Epoch 9: 100%|██████████| 82/82 [00:00<00:00, 124.67it/s, loss=1.7, v_num=485]\n",
      "Epoch 9: 100%|██████████| 82/82 [00:00<00:00, 123.23it/s, loss=1.7, v_num=485]\n"
     ]
    },
    {
     "name": "stderr",
     "output_type": "stream",
     "text": [
      "GPU available: True, used: False\n",
      "TPU available: False, using: 0 TPU cores\n",
      "IPU available: False, using: 0 IPUs\n"
     ]
    },
    {
     "name": "stdout",
     "output_type": "stream",
     "text": [
      "0.01\n"
     ]
    },
    {
     "name": "stderr",
     "output_type": "stream",
     "text": [
      "\n",
      "  | Name      | Type    | Params\n",
      "--------------------------------------\n",
      "0 | encoder   | Linear  | 28.8 K\n",
      "1 | act_1     | Sigmoid | 0     \n",
      "2 | decoder   | Linear  | 31.6 K\n",
      "3 | act_2     | Sigmoid | 0     \n",
      "4 | loss_func | MSELoss | 0     \n",
      "--------------------------------------\n",
      "60.4 K    Trainable params\n",
      "0         Non-trainable params\n",
      "60.4 K    Total params\n",
      "0.242     Total estimated model params size (MB)\n"
     ]
    },
    {
     "name": "stdout",
     "output_type": "stream",
     "text": [
      "Epoch 0:  50%|█████     | 41/82 [00:00<00:00, 60.78it/s, loss=1.13, v_num=486]\n",
      "Validating: 0it [00:00, ?it/s]\u001B[A\n",
      "Epoch 0: 100%|██████████| 82/82 [00:00<00:00, 110.59it/s, loss=1.13, v_num=486]\n",
      "Epoch 1:  50%|█████     | 41/82 [00:00<00:00, 60.72it/s, loss=1.13, v_num=486] \n",
      "Validating: 0it [00:00, ?it/s]\u001B[A\n",
      "Epoch 1: 100%|██████████| 82/82 [00:00<00:00, 111.09it/s, loss=1.13, v_num=486]\n",
      "Epoch 2:  50%|█████     | 41/82 [00:00<00:00, 53.17it/s, loss=1.11, v_num=486] \n",
      "Validating: 0it [00:00, ?it/s]\u001B[A\n",
      "Epoch 2: 100%|██████████| 82/82 [00:00<00:00, 96.70it/s, loss=1.11, v_num=486]\n",
      "Epoch 3:  50%|█████     | 41/82 [00:00<00:00, 61.76it/s, loss=1.18, v_num=486]\n",
      "Validating: 0it [00:00, ?it/s]\u001B[A\n",
      "Epoch 3: 100%|██████████| 82/82 [00:00<00:00, 110.14it/s, loss=1.18, v_num=486]\n",
      "Epoch 4:  50%|█████     | 41/82 [00:00<00:00, 62.80it/s, loss=1.11, v_num=486] \n",
      "Validating: 0it [00:00, ?it/s]\u001B[A\n",
      "Epoch 4: 100%|██████████| 82/82 [00:00<00:00, 113.45it/s, loss=1.11, v_num=486]\n",
      "Epoch 5:  50%|█████     | 41/82 [00:00<00:00, 59.34it/s, loss=1.1, v_num=486]  \n",
      "Validating: 0it [00:00, ?it/s]\u001B[A\n",
      "Epoch 5: 100%|██████████| 82/82 [00:00<00:00, 107.64it/s, loss=1.1, v_num=486]\n",
      "Epoch 6:  50%|█████     | 41/82 [00:00<00:00, 64.82it/s, loss=1.16, v_num=486]\n",
      "Validating: 0it [00:00, ?it/s]\u001B[A\n",
      "Epoch 6: 100%|██████████| 82/82 [00:00<00:00, 116.69it/s, loss=1.16, v_num=486]\n",
      "Epoch 7:  50%|█████     | 41/82 [00:00<00:00, 63.15it/s, loss=1.25, v_num=486] \n",
      "Validating: 0it [00:00, ?it/s]\u001B[A\n",
      "Epoch 7: 100%|██████████| 82/82 [00:00<00:00, 113.76it/s, loss=1.25, v_num=486]\n",
      "Epoch 8:  50%|█████     | 41/82 [00:00<00:00, 66.35it/s, loss=1.19, v_num=486] \n",
      "Validating: 0it [00:00, ?it/s]\u001B[A\n",
      "Epoch 8: 100%|██████████| 82/82 [00:00<00:00, 121.74it/s, loss=1.19, v_num=486]\n",
      "Epoch 9:  50%|█████     | 41/82 [00:00<00:00, 68.59it/s, loss=1.03, v_num=486] \n",
      "Validating: 0it [00:00, ?it/s]\u001B[A\n",
      "Epoch 9: 100%|██████████| 82/82 [00:00<00:00, 124.68it/s, loss=1.03, v_num=486]\n",
      "Epoch 9: 100%|██████████| 82/82 [00:00<00:00, 123.44it/s, loss=1.03, v_num=486]\n"
     ]
    },
    {
     "name": "stderr",
     "output_type": "stream",
     "text": [
      "GPU available: True, used: False\n",
      "TPU available: False, using: 0 TPU cores\n",
      "IPU available: False, using: 0 IPUs\n"
     ]
    },
    {
     "name": "stdout",
     "output_type": "stream",
     "text": [
      "0.1\n"
     ]
    },
    {
     "name": "stderr",
     "output_type": "stream",
     "text": [
      "\n",
      "  | Name      | Type    | Params\n",
      "--------------------------------------\n",
      "0 | encoder   | Linear  | 28.8 K\n",
      "1 | act_1     | Sigmoid | 0     \n",
      "2 | decoder   | Linear  | 31.6 K\n",
      "3 | act_2     | Sigmoid | 0     \n",
      "4 | loss_func | MSELoss | 0     \n",
      "--------------------------------------\n",
      "60.4 K    Trainable params\n",
      "0         Non-trainable params\n",
      "60.4 K    Total params\n",
      "0.242     Total estimated model params size (MB)\n"
     ]
    },
    {
     "name": "stdout",
     "output_type": "stream",
     "text": [
      "Epoch 0:  50%|█████     | 41/82 [00:00<00:00, 67.20it/s, loss=1.16, v_num=487]\n",
      "Validating: 0it [00:00, ?it/s]\u001B[A\n",
      "Epoch 0: 100%|██████████| 82/82 [00:00<00:00, 120.69it/s, loss=1.16, v_num=487]\n",
      "Epoch 1:  50%|█████     | 41/82 [00:00<00:00, 66.92it/s, loss=1.12, v_num=487] \n",
      "Validating: 0it [00:00, ?it/s]\u001B[A\n",
      "Epoch 1: 100%|██████████| 82/82 [00:00<00:00, 119.84it/s, loss=1.12, v_num=487]\n",
      "Epoch 2:  50%|█████     | 41/82 [00:00<00:00, 66.68it/s, loss=1.11, v_num=487] \n",
      "Validating: 0it [00:00, ?it/s]\u001B[A\n",
      "Epoch 2: 100%|██████████| 82/82 [00:00<00:00, 119.63it/s, loss=1.11, v_num=487]\n",
      "Epoch 3:  50%|█████     | 41/82 [00:00<00:00, 69.41it/s, loss=1.16, v_num=487] \n",
      "Validating: 0it [00:00, ?it/s]\u001B[A\n",
      "Epoch 3: 100%|██████████| 82/82 [00:00<00:00, 125.59it/s, loss=1.16, v_num=487]\n",
      "Epoch 4:  50%|█████     | 41/82 [00:00<00:00, 72.01it/s, loss=1.11, v_num=487] \n",
      "Validating: 0it [00:00, ?it/s]\u001B[A\n",
      "Epoch 4: 100%|██████████| 82/82 [00:00<00:00, 128.82it/s, loss=1.11, v_num=487]\n",
      "Epoch 5:  50%|█████     | 41/82 [00:00<00:00, 61.67it/s, loss=1.13, v_num=487] \n",
      "Validating: 0it [00:00, ?it/s]\u001B[A\n",
      "Epoch 5: 100%|██████████| 82/82 [00:00<00:00, 111.39it/s, loss=1.13, v_num=487]\n",
      "Epoch 6:  50%|█████     | 41/82 [00:00<00:00, 65.00it/s, loss=1.17, v_num=487] \n",
      "Validating: 0it [00:00, ?it/s]\u001B[A\n",
      "Epoch 6: 100%|██████████| 82/82 [00:00<00:00, 117.12it/s, loss=1.17, v_num=487]\n",
      "Epoch 7:  50%|█████     | 41/82 [00:00<00:00, 65.22it/s, loss=1.22, v_num=487] \n",
      "Validating: 0it [00:00, ?it/s]\u001B[A\n",
      "Epoch 7: 100%|██████████| 82/82 [00:00<00:00, 116.33it/s, loss=1.22, v_num=487]\n",
      "Epoch 8:  50%|█████     | 41/82 [00:00<00:00, 66.96it/s, loss=1.13, v_num=487] \n",
      "Validating: 0it [00:00, ?it/s]\u001B[A\n",
      "Epoch 8: 100%|██████████| 82/82 [00:00<00:00, 120.10it/s, loss=1.13, v_num=487]\n",
      "Epoch 9:  50%|█████     | 41/82 [00:00<00:00, 63.20it/s, loss=1.14, v_num=487] \n",
      "Validating: 0it [00:00, ?it/s]\u001B[A\n",
      "Epoch 9: 100%|██████████| 82/82 [00:00<00:00, 114.64it/s, loss=1.14, v_num=487]\n",
      "Epoch 9: 100%|██████████| 82/82 [00:00<00:00, 113.52it/s, loss=1.14, v_num=487]\n"
     ]
    },
    {
     "name": "stderr",
     "output_type": "stream",
     "text": [
      "GPU available: True, used: False\n",
      "TPU available: False, using: 0 TPU cores\n",
      "IPU available: False, using: 0 IPUs\n"
     ]
    },
    {
     "name": "stdout",
     "output_type": "stream",
     "text": [
      "1\n"
     ]
    },
    {
     "name": "stderr",
     "output_type": "stream",
     "text": [
      "\n",
      "  | Name      | Type    | Params\n",
      "--------------------------------------\n",
      "0 | encoder   | Linear  | 28.8 K\n",
      "1 | act_1     | Sigmoid | 0     \n",
      "2 | decoder   | Linear  | 31.6 K\n",
      "3 | act_2     | Sigmoid | 0     \n",
      "4 | loss_func | MSELoss | 0     \n",
      "--------------------------------------\n",
      "60.4 K    Trainable params\n",
      "0         Non-trainable params\n",
      "60.4 K    Total params\n",
      "0.242     Total estimated model params size (MB)\n"
     ]
    },
    {
     "name": "stdout",
     "output_type": "stream",
     "text": [
      "Epoch 0:  50%|█████     | 41/82 [00:00<00:00, 61.14it/s, loss=1.12, v_num=488]\n",
      "Validating: 0it [00:00, ?it/s]\u001B[A\n",
      "Epoch 0: 100%|██████████| 82/82 [00:00<00:00, 110.90it/s, loss=1.12, v_num=488]\n",
      "Epoch 1:  50%|█████     | 41/82 [00:00<00:00, 66.75it/s, loss=1.04, v_num=488] \n",
      "Validating: 0it [00:00, ?it/s]\u001B[A\n",
      "Epoch 1: 100%|██████████| 82/82 [00:00<00:00, 119.66it/s, loss=1.04, v_num=488]\n",
      "Epoch 2:  50%|█████     | 41/82 [00:00<00:00, 59.45it/s, loss=1.13, v_num=488] \n",
      "Validating: 0it [00:00, ?it/s]\u001B[A\n",
      "Epoch 2: 100%|██████████| 82/82 [00:00<00:00, 108.04it/s, loss=1.13, v_num=488]\n",
      "Epoch 3:  50%|█████     | 41/82 [00:00<00:00, 66.87it/s, loss=1.08, v_num=488] \n",
      "Validating: 0it [00:00, ?it/s]\u001B[A\n",
      "Epoch 3: 100%|██████████| 82/82 [00:00<00:00, 120.62it/s, loss=1.08, v_num=488]\n",
      "Epoch 4:  50%|█████     | 41/82 [00:00<00:00, 66.16it/s, loss=1.12, v_num=488] \n",
      "Validating: 0it [00:00, ?it/s]\u001B[A\n",
      "Epoch 4: 100%|██████████| 82/82 [00:00<00:00, 120.17it/s, loss=1.12, v_num=488]\n",
      "Epoch 5:  50%|█████     | 41/82 [00:00<00:00, 62.02it/s, loss=1.08, v_num=488] \n",
      "Validating: 0it [00:00, ?it/s]\u001B[A\n",
      "Epoch 5: 100%|██████████| 82/82 [00:00<00:00, 112.16it/s, loss=1.08, v_num=488]\n",
      "Epoch 6:  50%|█████     | 41/82 [00:00<00:00, 66.71it/s, loss=1.12, v_num=488] \n",
      "Validating: 0it [00:00, ?it/s]\u001B[A\n",
      "Epoch 6: 100%|██████████| 82/82 [00:00<00:00, 122.23it/s, loss=1.12, v_num=488]\n",
      "Epoch 7:  50%|█████     | 41/82 [00:00<00:00, 68.86it/s, loss=1.09, v_num=488] \n",
      "Validating: 0it [00:00, ?it/s]\u001B[A\n",
      "Epoch 7: 100%|██████████| 82/82 [00:00<00:00, 123.02it/s, loss=1.09, v_num=488]\n",
      "Epoch 8:  50%|█████     | 41/82 [00:00<00:00, 67.70it/s, loss=1.11, v_num=488] \n",
      "Validating: 0it [00:00, ?it/s]\u001B[A\n",
      "Epoch 8: 100%|██████████| 82/82 [00:00<00:00, 121.02it/s, loss=1.11, v_num=488]\n",
      "Epoch 9:  50%|█████     | 41/82 [00:00<00:00, 66.90it/s, loss=1.09, v_num=488] \n",
      "Validating: 0it [00:00, ?it/s]\u001B[A\n",
      "Epoch 9: 100%|██████████| 82/82 [00:00<00:00, 121.13it/s, loss=1.09, v_num=488]\n",
      "Epoch 9: 100%|██████████| 82/82 [00:00<00:00, 119.14it/s, loss=1.09, v_num=488]\n"
     ]
    },
    {
     "name": "stderr",
     "output_type": "stream",
     "text": [
      "GPU available: True, used: False\n",
      "TPU available: False, using: 0 TPU cores\n",
      "IPU available: False, using: 0 IPUs\n"
     ]
    },
    {
     "name": "stdout",
     "output_type": "stream",
     "text": [
      "100\n"
     ]
    },
    {
     "name": "stderr",
     "output_type": "stream",
     "text": [
      "\n",
      "  | Name      | Type    | Params\n",
      "--------------------------------------\n",
      "0 | encoder   | Linear  | 28.8 K\n",
      "1 | act_1     | Sigmoid | 0     \n",
      "2 | decoder   | Linear  | 31.6 K\n",
      "3 | act_2     | Sigmoid | 0     \n",
      "4 | loss_func | MSELoss | 0     \n",
      "--------------------------------------\n",
      "60.4 K    Trainable params\n",
      "0         Non-trainable params\n",
      "60.4 K    Total params\n",
      "0.242     Total estimated model params size (MB)\n"
     ]
    },
    {
     "name": "stdout",
     "output_type": "stream",
     "text": [
      "Epoch 0:  50%|█████     | 41/82 [00:00<00:00, 61.74it/s, loss=1.06, v_num=489]\n",
      "Validating: 0it [00:00, ?it/s]\u001B[A\n",
      "Epoch 0: 100%|██████████| 82/82 [00:00<00:00, 108.78it/s, loss=1.06, v_num=489]\n",
      "Epoch 1:  50%|█████     | 41/82 [00:00<00:00, 57.76it/s, loss=1.16, v_num=489] \n",
      "Validating: 0it [00:00, ?it/s]\u001B[A\n",
      "Epoch 1: 100%|██████████| 82/82 [00:00<00:00, 104.22it/s, loss=1.16, v_num=489]\n",
      "Epoch 2:  50%|█████     | 41/82 [00:00<00:00, 57.08it/s, loss=1.12, v_num=489] \n",
      "Validating: 0it [00:00, ?it/s]\u001B[A\n",
      "Epoch 2: 100%|██████████| 82/82 [00:00<00:00, 102.81it/s, loss=1.12, v_num=489]\n",
      "Epoch 3:  50%|█████     | 41/82 [00:00<00:00, 59.90it/s, loss=1.06, v_num=489] \n",
      "Validating: 0it [00:00, ?it/s]\u001B[A\n",
      "Epoch 3: 100%|██████████| 82/82 [00:00<00:00, 107.00it/s, loss=1.06, v_num=489]\n",
      "Epoch 4:  50%|█████     | 41/82 [00:00<00:00, 60.75it/s, loss=1.11, v_num=489] \n",
      "Validating: 0it [00:00, ?it/s]\u001B[A\n",
      "Epoch 4: 100%|██████████| 82/82 [00:00<00:00, 109.94it/s, loss=1.11, v_num=489]\n",
      "Epoch 5:  50%|█████     | 41/82 [00:00<00:00, 65.05it/s, loss=1.14, v_num=489] \n",
      "Validating: 0it [00:00, ?it/s]\u001B[A\n",
      "Epoch 5: 100%|██████████| 82/82 [00:00<00:00, 116.85it/s, loss=1.14, v_num=489]\n",
      "Epoch 6:  50%|█████     | 41/82 [00:00<00:00, 60.62it/s, loss=1.14, v_num=489] \n",
      "Validating: 0it [00:00, ?it/s]\u001B[A\n",
      "Epoch 6: 100%|██████████| 82/82 [00:00<00:00, 109.22it/s, loss=1.14, v_num=489]\n",
      "Epoch 7:  50%|█████     | 41/82 [00:00<00:00, 65.93it/s, loss=1.11, v_num=489] \n",
      "Validating: 0it [00:00, ?it/s]\u001B[A\n",
      "Epoch 7: 100%|██████████| 82/82 [00:00<00:00, 120.40it/s, loss=1.11, v_num=489]\n",
      "Epoch 8:  50%|█████     | 41/82 [00:00<00:00, 65.02it/s, loss=1.19, v_num=489] \n",
      "Validating: 0it [00:00, ?it/s]\u001B[A\n",
      "Epoch 8: 100%|██████████| 82/82 [00:00<00:00, 118.82it/s, loss=1.19, v_num=489]\n",
      "Epoch 9:  50%|█████     | 41/82 [00:00<00:00, 56.89it/s, loss=1.09, v_num=489] \n",
      "Validating: 0it [00:00, ?it/s]\u001B[A\n",
      "Epoch 9:  62%|██████▏   | 51/82 [00:00<00:00, 66.34it/s, loss=1.09, v_num=489]\n",
      "Epoch 9: 100%|██████████| 82/82 [00:00<00:00, 97.91it/s, loss=1.09, v_num=489]\n",
      "Epoch 9: 100%|██████████| 82/82 [00:00<00:00, 96.84it/s, loss=1.09, v_num=489]"
     ]
    },
    {
     "name": "stderr",
     "output_type": "stream",
     "text": [
      "GPU available: True, used: False\n",
      "TPU available: False, using: 0 TPU cores\n",
      "IPU available: False, using: 0 IPUs\n",
      "\n",
      "  | Name      | Type    | Params\n",
      "--------------------------------------\n",
      "0 | encoder   | Linear  | 230 K \n",
      "1 | act_1     | PReLU   | 1     \n",
      "2 | decoder   | Linear  | 232 K \n",
      "3 | act_2     | PReLU   | 1     \n",
      "4 | loss_func | MSELoss | 0     \n",
      "--------------------------------------\n",
      "463 K     Trainable params\n",
      "0         Non-trainable params\n",
      "463 K     Total params\n",
      "1.852     Total estimated model params size (MB)\n"
     ]
    },
    {
     "name": "stdout",
     "output_type": "stream",
     "text": [
      "\n",
      "0.01\n",
      "Epoch 0:  50%|█████     | 41/82 [00:00<00:00, 54.32it/s, loss=4.45, v_num=490]\n",
      "Validating: 0it [00:00, ?it/s]\u001B[A\n",
      "Epoch 0: 100%|██████████| 82/82 [00:00<00:00, 100.44it/s, loss=4.45, v_num=490]\n",
      "Epoch 1:  50%|█████     | 41/82 [00:00<00:00, 58.60it/s, loss=1.43, v_num=490] \n",
      "Validating: 0it [00:00, ?it/s]\u001B[A\n",
      "Epoch 1: 100%|██████████| 82/82 [00:00<00:00, 106.17it/s, loss=1.43, v_num=490]\n",
      "Epoch 2:  50%|█████     | 41/82 [00:00<00:00, 53.12it/s, loss=1.45, v_num=490] \n",
      "Validating: 0it [00:00, ?it/s]\u001B[A\n",
      "Epoch 2: 100%|██████████| 82/82 [00:00<00:00, 96.28it/s, loss=1.45, v_num=490]\n",
      "Epoch 3:  50%|█████     | 41/82 [00:00<00:00, 50.42it/s, loss=1.58, v_num=490]\n",
      "Validating: 0it [00:00, ?it/s]\u001B[A\n",
      "Epoch 3: 100%|██████████| 82/82 [00:00<00:00, 92.64it/s, loss=1.58, v_num=490]\n",
      "Epoch 4:  50%|█████     | 41/82 [00:00<00:00, 53.41it/s, loss=1.45, v_num=490]\n",
      "Validating: 0it [00:00, ?it/s]\u001B[A\n",
      "Epoch 4: 100%|██████████| 82/82 [00:00<00:00, 95.97it/s, loss=1.45, v_num=490]\n",
      "Epoch 5:  50%|█████     | 41/82 [00:00<00:00, 56.69it/s, loss=1.39, v_num=490]\n",
      "Validating: 0it [00:00, ?it/s]\u001B[A\n",
      "Epoch 5: 100%|██████████| 82/82 [00:00<00:00, 102.79it/s, loss=1.39, v_num=490]\n",
      "Epoch 6:  50%|█████     | 41/82 [00:00<00:00, 55.84it/s, loss=1.44, v_num=490] \n",
      "Validating: 0it [00:00, ?it/s]\u001B[A\n",
      "Epoch 6: 100%|██████████| 82/82 [00:00<00:00, 101.84it/s, loss=1.44, v_num=490]\n",
      "Epoch 7:  51%|█████     | 42/82 [00:00<00:00, 55.11it/s, loss=1.37, v_num=490] \n",
      "Validating: 0it [00:00, ?it/s]\u001B[A\n",
      "Epoch 7: 100%|██████████| 82/82 [00:00<00:00, 98.89it/s, loss=1.37, v_num=490]\n",
      "Epoch 8:  51%|█████     | 42/82 [00:00<00:00, 53.85it/s, loss=1.31, v_num=490]\n",
      "Validating: 0it [00:00, ?it/s]\u001B[A\n",
      "Epoch 8: 100%|██████████| 82/82 [00:00<00:00, 94.51it/s, loss=1.31, v_num=490]\n",
      "Epoch 9:  51%|█████     | 42/82 [00:00<00:00, 56.00it/s, loss=1.26, v_num=490]\n",
      "Validating: 0it [00:00, ?it/s]\u001B[A\n",
      "Epoch 9: 100%|██████████| 82/82 [00:00<00:00, 101.15it/s, loss=1.26, v_num=490]\n",
      "Epoch 9: 100%|██████████| 82/82 [00:00<00:00, 98.90it/s, loss=1.26, v_num=490] \n"
     ]
    },
    {
     "name": "stderr",
     "output_type": "stream",
     "text": [
      "GPU available: True, used: False\n",
      "TPU available: False, using: 0 TPU cores\n",
      "IPU available: False, using: 0 IPUs\n",
      "\n",
      "  | Name      | Type    | Params\n",
      "--------------------------------------\n",
      "0 | encoder   | Linear  | 230 K \n",
      "1 | act_1     | PReLU   | 1     \n",
      "2 | decoder   | Linear  | 232 K \n",
      "3 | act_2     | PReLU   | 1     \n",
      "4 | loss_func | MSELoss | 0     \n",
      "--------------------------------------\n",
      "463 K     Trainable params\n",
      "0         Non-trainable params\n",
      "463 K     Total params\n",
      "1.852     Total estimated model params size (MB)\n"
     ]
    },
    {
     "name": "stdout",
     "output_type": "stream",
     "text": [
      "0.1\n",
      "Epoch 0:  50%|█████     | 41/82 [00:00<00:00, 53.79it/s, loss=4.02, v_num=491]\n",
      "Validating: 0it [00:00, ?it/s]\u001B[A\n",
      "Epoch 0: 100%|██████████| 82/82 [00:00<00:00, 97.76it/s, loss=4.02, v_num=491]\n",
      "Epoch 1:  50%|█████     | 41/82 [00:00<00:00, 56.38it/s, loss=1.66, v_num=491]\n",
      "Validating: 0it [00:00, ?it/s]\u001B[A\n",
      "Epoch 1: 100%|██████████| 82/82 [00:00<00:00, 101.92it/s, loss=1.66, v_num=491]\n",
      "Epoch 2:  50%|█████     | 41/82 [00:00<00:00, 57.72it/s, loss=1.32, v_num=491] \n",
      "Validating: 0it [00:00, ?it/s]\u001B[A\n",
      "Epoch 2: 100%|██████████| 82/82 [00:00<00:00, 103.96it/s, loss=1.32, v_num=491]\n",
      "Epoch 3:  50%|█████     | 41/82 [00:00<00:00, 57.15it/s, loss=1.45, v_num=491] \n",
      "Validating: 0it [00:00, ?it/s]\u001B[A\n",
      "Epoch 3: 100%|██████████| 82/82 [00:00<00:00, 103.59it/s, loss=1.45, v_num=491]\n",
      "Epoch 4:  50%|█████     | 41/82 [00:00<00:00, 57.07it/s, loss=1.23, v_num=491] \n",
      "Validating: 0it [00:00, ?it/s]\u001B[A\n",
      "Epoch 4: 100%|██████████| 82/82 [00:00<00:00, 102.59it/s, loss=1.23, v_num=491]\n",
      "Epoch 5:  50%|█████     | 41/82 [00:00<00:00, 60.79it/s, loss=1.27, v_num=491] \n",
      "Validating: 0it [00:00, ?it/s]\u001B[A\n",
      "Epoch 5: 100%|██████████| 82/82 [00:00<00:00, 109.35it/s, loss=1.27, v_num=491]\n",
      "Epoch 6:  50%|█████     | 41/82 [00:00<00:00, 60.39it/s, loss=1.36, v_num=491] \n",
      "Validating: 0it [00:00, ?it/s]\u001B[A\n",
      "Epoch 6: 100%|██████████| 82/82 [00:00<00:00, 109.02it/s, loss=1.36, v_num=491]\n",
      "Epoch 7:  50%|█████     | 41/82 [00:00<00:00, 52.95it/s, loss=1.35, v_num=491] \n",
      "Validating: 0it [00:00, ?it/s]\u001B[A\n",
      "Epoch 7: 100%|██████████| 82/82 [00:00<00:00, 96.62it/s, loss=1.35, v_num=491]\n",
      "Epoch 8:  50%|█████     | 41/82 [00:00<00:00, 60.40it/s, loss=1.37, v_num=491]\n",
      "Validating: 0it [00:00, ?it/s]\u001B[A\n",
      "Epoch 8: 100%|██████████| 82/82 [00:00<00:00, 107.47it/s, loss=1.37, v_num=491]\n",
      "Epoch 9:  50%|█████     | 41/82 [00:00<00:00, 53.90it/s, loss=1.3, v_num=491]  \n",
      "Validating: 0it [00:00, ?it/s]\u001B[A\n",
      "Epoch 9: 100%|██████████| 82/82 [00:00<00:00, 96.59it/s, loss=1.3, v_num=491]\n",
      "Epoch 9: 100%|██████████| 82/82 [00:00<00:00, 94.95it/s, loss=1.3, v_num=491]\n"
     ]
    },
    {
     "name": "stderr",
     "output_type": "stream",
     "text": [
      "GPU available: True, used: False\n",
      "TPU available: False, using: 0 TPU cores\n",
      "IPU available: False, using: 0 IPUs\n",
      "\n",
      "  | Name      | Type    | Params\n",
      "--------------------------------------\n",
      "0 | encoder   | Linear  | 230 K \n",
      "1 | act_1     | PReLU   | 1     \n",
      "2 | decoder   | Linear  | 232 K \n",
      "3 | act_2     | PReLU   | 1     \n",
      "4 | loss_func | MSELoss | 0     \n",
      "--------------------------------------\n",
      "463 K     Trainable params\n",
      "0         Non-trainable params\n",
      "463 K     Total params\n",
      "1.852     Total estimated model params size (MB)\n"
     ]
    },
    {
     "name": "stdout",
     "output_type": "stream",
     "text": [
      "1\n",
      "Epoch 0:  51%|█████     | 42/82 [00:00<00:00, 54.75it/s, loss=1.67, v_num=492]\n",
      "Validating: 0it [00:00, ?it/s]\u001B[A\n",
      "Epoch 0: 100%|██████████| 82/82 [00:00<00:00, 97.59it/s, loss=1.67, v_num=492]\n",
      "Epoch 1:  50%|█████     | 41/82 [00:00<00:00, 53.20it/s, loss=1.49, v_num=492]\n",
      "Validating: 0it [00:00, ?it/s]\u001B[A\n",
      "Epoch 1: 100%|██████████| 82/82 [00:00<00:00, 96.82it/s, loss=1.49, v_num=492]\n",
      "Epoch 2:  50%|█████     | 41/82 [00:00<00:00, 55.16it/s, loss=1.46, v_num=492]\n",
      "Validating: 0it [00:00, ?it/s]\u001B[A\n",
      "Epoch 2: 100%|██████████| 82/82 [00:00<00:00, 99.68it/s, loss=1.46, v_num=492]\n",
      "Epoch 3:  50%|█████     | 41/82 [00:00<00:00, 59.94it/s, loss=1.54, v_num=492]\n",
      "Validating: 0it [00:00, ?it/s]\u001B[A\n",
      "Epoch 3: 100%|██████████| 82/82 [00:00<00:00, 107.51it/s, loss=1.54, v_num=492]\n",
      "Epoch 4:  50%|█████     | 41/82 [00:00<00:00, 57.67it/s, loss=1.52, v_num=492] \n",
      "Validating: 0it [00:00, ?it/s]\u001B[A\n",
      "Epoch 4: 100%|██████████| 82/82 [00:00<00:00, 104.51it/s, loss=1.52, v_num=492]\n",
      "Epoch 5:  50%|█████     | 41/82 [00:00<00:00, 60.38it/s, loss=1.47, v_num=492] \n",
      "Validating: 0it [00:00, ?it/s]\u001B[A\n",
      "Epoch 5: 100%|██████████| 82/82 [00:00<00:00, 108.52it/s, loss=1.47, v_num=492]\n",
      "Epoch 6:  50%|█████     | 41/82 [00:00<00:00, 58.90it/s, loss=1.46, v_num=492] \n",
      "Validating: 0it [00:00, ?it/s]\u001B[A\n",
      "Epoch 6: 100%|██████████| 82/82 [00:00<00:00, 108.27it/s, loss=1.46, v_num=492]\n",
      "Epoch 7:  50%|█████     | 41/82 [00:00<00:00, 55.67it/s, loss=1.45, v_num=492] \n",
      "Validating: 0it [00:00, ?it/s]\u001B[A\n",
      "Epoch 7: 100%|██████████| 82/82 [00:00<00:00, 102.58it/s, loss=1.45, v_num=492]\n",
      "Epoch 8:  50%|█████     | 41/82 [00:00<00:00, 55.77it/s, loss=1.51, v_num=492] \n",
      "Validating: 0it [00:00, ?it/s]\u001B[A\n",
      "Epoch 8: 100%|██████████| 82/82 [00:00<00:00, 102.32it/s, loss=1.51, v_num=492]\n",
      "Epoch 9:  50%|█████     | 41/82 [00:00<00:00, 51.77it/s, loss=1.46, v_num=492] \n",
      "Validating: 0it [00:00, ?it/s]\u001B[A\n",
      "Epoch 9: 100%|██████████| 82/82 [00:00<00:00, 95.32it/s, loss=1.46, v_num=492]\n",
      "Epoch 9: 100%|██████████| 82/82 [00:00<00:00, 93.58it/s, loss=1.46, v_num=492]\n"
     ]
    },
    {
     "name": "stderr",
     "output_type": "stream",
     "text": [
      "GPU available: True, used: False\n",
      "TPU available: False, using: 0 TPU cores\n",
      "IPU available: False, using: 0 IPUs\n",
      "\n",
      "  | Name      | Type    | Params\n",
      "--------------------------------------\n",
      "0 | encoder   | Linear  | 230 K \n",
      "1 | act_1     | PReLU   | 1     \n",
      "2 | decoder   | Linear  | 232 K \n",
      "3 | act_2     | PReLU   | 1     \n",
      "4 | loss_func | MSELoss | 0     \n",
      "--------------------------------------\n",
      "463 K     Trainable params\n",
      "0         Non-trainable params\n",
      "463 K     Total params\n",
      "1.852     Total estimated model params size (MB)\n"
     ]
    },
    {
     "name": "stdout",
     "output_type": "stream",
     "text": [
      "100\n",
      "Epoch 0:  50%|█████     | 41/82 [00:00<00:00, 45.71it/s, loss=1.63, v_num=493]\n",
      "Validating: 0it [00:00, ?it/s]\u001B[A\n",
      "Epoch 0: 100%|██████████| 82/82 [00:01<00:00, 80.94it/s, loss=1.63, v_num=493]\n",
      "Epoch 1:  50%|█████     | 41/82 [00:00<00:00, 53.13it/s, loss=1.62, v_num=493]\n",
      "Validating: 0it [00:00, ?it/s]\u001B[A\n",
      "Epoch 1: 100%|██████████| 82/82 [00:00<00:00, 96.68it/s, loss=1.62, v_num=493]\n",
      "Epoch 2:  50%|█████     | 41/82 [00:00<00:00, 49.61it/s, loss=1.56, v_num=493]\n",
      "Validating: 0it [00:00, ?it/s]\u001B[A\n",
      "Epoch 2: 100%|██████████| 82/82 [00:00<00:00, 89.52it/s, loss=1.56, v_num=493]\n",
      "Epoch 3:  50%|█████     | 41/82 [00:00<00:00, 51.65it/s, loss=1.58, v_num=493]\n",
      "Validating: 0it [00:00, ?it/s]\u001B[A\n",
      "Epoch 3: 100%|██████████| 82/82 [00:00<00:00, 95.56it/s, loss=1.58, v_num=493]\n",
      "Epoch 4:  50%|█████     | 41/82 [00:00<00:00, 56.49it/s, loss=1.67, v_num=493]\n",
      "Validating: 0it [00:00, ?it/s]\u001B[A\n",
      "Epoch 4: 100%|██████████| 82/82 [00:00<00:00, 102.19it/s, loss=1.67, v_num=493]\n",
      "Epoch 5:  50%|█████     | 41/82 [00:00<00:00, 54.75it/s, loss=1.62, v_num=493] \n",
      "Validating: 0it [00:00, ?it/s]\u001B[A\n",
      "Epoch 5: 100%|██████████| 82/82 [00:00<00:00, 100.91it/s, loss=1.62, v_num=493]\n",
      "Epoch 6:  50%|█████     | 41/82 [00:00<00:00, 54.12it/s, loss=1.63, v_num=493] \n",
      "Validating: 0it [00:00, ?it/s]\u001B[A\n",
      "Epoch 6: 100%|██████████| 82/82 [00:00<00:00, 99.24it/s, loss=1.63, v_num=493]\n",
      "Epoch 7:  51%|█████     | 42/82 [00:00<00:00, 54.58it/s, loss=1.52, v_num=493]\n",
      "Validating: 0it [00:00, ?it/s]\u001B[A\n",
      "Epoch 7: 100%|██████████| 82/82 [00:00<00:00, 97.16it/s, loss=1.52, v_num=493]\n",
      "Epoch 8:  51%|█████     | 42/82 [00:00<00:00, 52.78it/s, loss=1.7, v_num=493] \n",
      "Validating: 0it [00:00, ?it/s]\u001B[A\n",
      "Epoch 8: 100%|██████████| 82/82 [00:00<00:00, 93.42it/s, loss=1.7, v_num=493]\n",
      "Epoch 9:  51%|█████     | 42/82 [00:00<00:00, 55.90it/s, loss=1.56, v_num=493]\n",
      "Validating: 0it [00:00, ?it/s]\u001B[A\n",
      "Epoch 9: 100%|██████████| 82/82 [00:00<00:00, 100.86it/s, loss=1.56, v_num=493]\n",
      "Epoch 9: 100%|██████████| 82/82 [00:00<00:00, 99.28it/s, loss=1.56, v_num=493] \n"
     ]
    },
    {
     "name": "stderr",
     "output_type": "stream",
     "text": [
      "GPU available: True, used: False\n",
      "TPU available: False, using: 0 TPU cores\n",
      "IPU available: False, using: 0 IPUs\n"
     ]
    },
    {
     "name": "stdout",
     "output_type": "stream",
     "text": [
      "0.01\n"
     ]
    },
    {
     "name": "stderr",
     "output_type": "stream",
     "text": [
      "\n",
      "  | Name      | Type    | Params\n",
      "--------------------------------------\n",
      "0 | encoder   | Linear  | 230 K \n",
      "1 | act_1     | Sigmoid | 0     \n",
      "2 | decoder   | Linear  | 232 K \n",
      "3 | act_2     | Sigmoid | 0     \n",
      "4 | loss_func | MSELoss | 0     \n",
      "--------------------------------------\n",
      "463 K     Trainable params\n",
      "0         Non-trainable params\n",
      "463 K     Total params\n",
      "1.852     Total estimated model params size (MB)\n"
     ]
    },
    {
     "name": "stdout",
     "output_type": "stream",
     "text": [
      "Epoch 0:  50%|█████     | 41/82 [00:00<00:00, 57.54it/s, loss=1.15, v_num=494]\n",
      "Validating: 0it [00:00, ?it/s]\u001B[A\n",
      "Epoch 0: 100%|██████████| 82/82 [00:00<00:00, 103.80it/s, loss=1.15, v_num=494]\n",
      "Epoch 1:  51%|█████     | 42/82 [00:00<00:00, 62.61it/s, loss=1.16, v_num=494] \n",
      "Validating: 0it [00:00, ?it/s]\u001B[A\n",
      "Epoch 1: 100%|██████████| 82/82 [00:00<00:00, 110.11it/s, loss=1.16, v_num=494]\n",
      "Epoch 2:  51%|█████     | 42/82 [00:00<00:00, 58.18it/s, loss=1.06, v_num=494] \n",
      "Validating: 0it [00:00, ?it/s]\u001B[A\n",
      "Epoch 2: 100%|██████████| 82/82 [00:00<00:00, 103.00it/s, loss=1.06, v_num=494]\n",
      "Epoch 3:  51%|█████     | 42/82 [00:00<00:00, 56.70it/s, loss=1.1, v_num=494]  \n",
      "Validating: 0it [00:00, ?it/s]\u001B[A\n",
      "Epoch 3: 100%|██████████| 82/82 [00:00<00:00, 100.80it/s, loss=1.1, v_num=494]\n",
      "Epoch 4:  51%|█████     | 42/82 [00:00<00:00, 57.00it/s, loss=1.13, v_num=494]\n",
      "Validating: 0it [00:00, ?it/s]\u001B[A\n",
      "Epoch 4: 100%|██████████| 82/82 [00:00<00:00, 102.82it/s, loss=1.13, v_num=494]\n",
      "Epoch 5:  51%|█████     | 42/82 [00:00<00:00, 54.19it/s, loss=1.1, v_num=494]  \n",
      "Validating: 0it [00:00, ?it/s]\u001B[A\n",
      "Epoch 5: 100%|██████████| 82/82 [00:00<00:00, 95.75it/s, loss=1.1, v_num=494]\n",
      "Epoch 6:  51%|█████     | 42/82 [00:00<00:00, 52.74it/s, loss=1.16, v_num=494]\n",
      "Validating: 0it [00:00, ?it/s]\u001B[A\n",
      "Epoch 6: 100%|██████████| 82/82 [00:00<00:00, 93.14it/s, loss=1.16, v_num=494]\n",
      "Epoch 7:  51%|█████     | 42/82 [00:00<00:00, 55.43it/s, loss=1.12, v_num=494]\n",
      "Validating: 0it [00:00, ?it/s]\u001B[A\n",
      "Epoch 7: 100%|██████████| 82/82 [00:00<00:00, 98.01it/s, loss=1.12, v_num=494]\n",
      "Epoch 8:  51%|█████     | 42/82 [00:00<00:00, 53.57it/s, loss=1.1, v_num=494] \n",
      "Validating: 0it [00:00, ?it/s]\u001B[A\n",
      "Epoch 8: 100%|██████████| 82/82 [00:00<00:00, 94.70it/s, loss=1.1, v_num=494]\n",
      "Epoch 9:  51%|█████     | 42/82 [00:00<00:00, 53.43it/s, loss=1.1, v_num=494] \n",
      "Validating: 0it [00:00, ?it/s]\u001B[A\n",
      "Epoch 9: 100%|██████████| 82/82 [00:00<00:00, 94.15it/s, loss=1.1, v_num=494]\n",
      "Epoch 9: 100%|██████████| 82/82 [00:00<00:00, 92.56it/s, loss=1.1, v_num=494]\n"
     ]
    },
    {
     "name": "stderr",
     "output_type": "stream",
     "text": [
      "GPU available: True, used: False\n",
      "TPU available: False, using: 0 TPU cores\n",
      "IPU available: False, using: 0 IPUs\n",
      "\n",
      "  | Name      | Type    | Params\n",
      "--------------------------------------\n",
      "0 | encoder   | Linear  | 230 K \n",
      "1 | act_1     | Sigmoid | 0     \n",
      "2 | decoder   | Linear  | 232 K \n",
      "3 | act_2     | Sigmoid | 0     \n",
      "4 | loss_func | MSELoss | 0     \n",
      "--------------------------------------\n",
      "463 K     Trainable params\n",
      "0         Non-trainable params\n",
      "463 K     Total params\n",
      "1.852     Total estimated model params size (MB)\n"
     ]
    },
    {
     "name": "stdout",
     "output_type": "stream",
     "text": [
      "0.1\n",
      "Epoch 0:  50%|█████     | 41/82 [00:00<00:00, 59.77it/s, loss=1.15, v_num=495]\n",
      "Validating: 0it [00:00, ?it/s]\u001B[A\n",
      "Epoch 0: 100%|██████████| 82/82 [00:00<00:00, 109.73it/s, loss=1.15, v_num=495]\n",
      "Epoch 1:  50%|█████     | 41/82 [00:00<00:00, 57.16it/s, loss=1.02, v_num=495] \n",
      "Validating: 0it [00:00, ?it/s]\u001B[A\n",
      "Epoch 1: 100%|██████████| 82/82 [00:00<00:00, 102.78it/s, loss=1.02, v_num=495]\n",
      "Epoch 2:  50%|█████     | 41/82 [00:00<00:00, 60.60it/s, loss=1.2, v_num=495]  \n",
      "Validating: 0it [00:00, ?it/s]\u001B[A\n",
      "Epoch 2: 100%|██████████| 82/82 [00:00<00:00, 111.36it/s, loss=1.2, v_num=495]\n",
      "Epoch 3:  50%|█████     | 41/82 [00:00<00:00, 59.70it/s, loss=1.16, v_num=495]\n",
      "Validating: 0it [00:00, ?it/s]\u001B[A\n",
      "Epoch 3: 100%|██████████| 82/82 [00:00<00:00, 108.33it/s, loss=1.16, v_num=495]\n",
      "Epoch 4:  50%|█████     | 41/82 [00:00<00:00, 56.97it/s, loss=1.07, v_num=495] \n",
      "Validating: 0it [00:00, ?it/s]\u001B[A\n",
      "Epoch 4: 100%|██████████| 82/82 [00:00<00:00, 103.99it/s, loss=1.07, v_num=495]\n",
      "Epoch 5:  50%|█████     | 41/82 [00:00<00:00, 57.37it/s, loss=1.11, v_num=495] \n",
      "Validating: 0it [00:00, ?it/s]\u001B[A\n",
      "Epoch 5: 100%|██████████| 82/82 [00:00<00:00, 106.00it/s, loss=1.11, v_num=495]\n",
      "Epoch 6:  50%|█████     | 41/82 [00:00<00:00, 63.66it/s, loss=1.17, v_num=495] \n",
      "Validating: 0it [00:00, ?it/s]\u001B[A\n",
      "Epoch 6: 100%|██████████| 82/82 [00:00<00:00, 113.28it/s, loss=1.17, v_num=495]\n",
      "Epoch 7:  50%|█████     | 41/82 [00:00<00:00, 59.83it/s, loss=1.06, v_num=495] \n",
      "Validating: 0it [00:00, ?it/s]\u001B[A\n",
      "Epoch 7: 100%|██████████| 82/82 [00:00<00:00, 109.42it/s, loss=1.06, v_num=495]\n",
      "Epoch 8:  50%|█████     | 41/82 [00:00<00:00, 61.88it/s, loss=1.12, v_num=495] \n",
      "Validating: 0it [00:00, ?it/s]\u001B[A\n",
      "Epoch 8: 100%|██████████| 82/82 [00:00<00:00, 113.20it/s, loss=1.12, v_num=495]\n",
      "Epoch 9:  50%|█████     | 41/82 [00:00<00:00, 59.20it/s, loss=1.14, v_num=495] \n",
      "Validating: 0it [00:00, ?it/s]\u001B[A\n",
      "Epoch 9: 100%|██████████| 82/82 [00:00<00:00, 106.76it/s, loss=1.14, v_num=495]\n",
      "Epoch 9: 100%|██████████| 82/82 [00:00<00:00, 104.93it/s, loss=1.14, v_num=495]\n"
     ]
    },
    {
     "name": "stderr",
     "output_type": "stream",
     "text": [
      "GPU available: True, used: False\n",
      "TPU available: False, using: 0 TPU cores\n",
      "IPU available: False, using: 0 IPUs\n"
     ]
    },
    {
     "name": "stdout",
     "output_type": "stream",
     "text": [
      "1\n"
     ]
    },
    {
     "name": "stderr",
     "output_type": "stream",
     "text": [
      "\n",
      "  | Name      | Type    | Params\n",
      "--------------------------------------\n",
      "0 | encoder   | Linear  | 230 K \n",
      "1 | act_1     | Sigmoid | 0     \n",
      "2 | decoder   | Linear  | 232 K \n",
      "3 | act_2     | Sigmoid | 0     \n",
      "4 | loss_func | MSELoss | 0     \n",
      "--------------------------------------\n",
      "463 K     Trainable params\n",
      "0         Non-trainable params\n",
      "463 K     Total params\n",
      "1.852     Total estimated model params size (MB)\n"
     ]
    },
    {
     "name": "stdout",
     "output_type": "stream",
     "text": [
      "Epoch 0:  50%|█████     | 41/82 [00:00<00:00, 60.28it/s, loss=1.16, v_num=496]\n",
      "Validating: 0it [00:00, ?it/s]\u001B[A\n",
      "Epoch 0: 100%|██████████| 82/82 [00:00<00:00, 109.89it/s, loss=1.16, v_num=496]\n",
      "Epoch 1:  51%|█████     | 42/82 [00:00<00:00, 60.88it/s, loss=1.13, v_num=496] \n",
      "Validating: 0it [00:00, ?it/s]\u001B[A\n",
      "Epoch 1: 100%|██████████| 82/82 [00:00<00:00, 106.75it/s, loss=1.13, v_num=496]\n",
      "Epoch 2:  51%|█████     | 42/82 [00:00<00:00, 63.71it/s, loss=1.11, v_num=496] \n",
      "Validating: 0it [00:00, ?it/s]\u001B[A\n",
      "Epoch 2: 100%|██████████| 82/82 [00:00<00:00, 112.30it/s, loss=1.11, v_num=496]\n",
      "Epoch 3:  51%|█████     | 42/82 [00:00<00:00, 55.77it/s, loss=1.18, v_num=496] \n",
      "Validating: 0it [00:00, ?it/s]\u001B[A\n",
      "Epoch 3: 100%|██████████| 82/82 [00:00<00:00, 100.98it/s, loss=1.18, v_num=496]\n",
      "Epoch 4:  51%|█████     | 42/82 [00:00<00:00, 63.06it/s, loss=1.09, v_num=496] \n",
      "Validating: 0it [00:00, ?it/s]\u001B[A\n",
      "Epoch 4: 100%|██████████| 82/82 [00:00<00:00, 111.69it/s, loss=1.09, v_num=496]\n",
      "Epoch 5:  51%|█████     | 42/82 [00:00<00:00, 57.79it/s, loss=1.12, v_num=496] \n",
      "Validating: 0it [00:00, ?it/s]\u001B[A\n",
      "Epoch 5: 100%|██████████| 82/82 [00:00<00:00, 104.48it/s, loss=1.12, v_num=496]\n",
      "Epoch 6:  51%|█████     | 42/82 [00:00<00:00, 63.20it/s, loss=1.18, v_num=496] \n",
      "Validating: 0it [00:00, ?it/s]\u001B[A\n",
      "Epoch 6: 100%|██████████| 82/82 [00:00<00:00, 112.16it/s, loss=1.18, v_num=496]\n",
      "Epoch 7:  51%|█████     | 42/82 [00:00<00:00, 62.13it/s, loss=1.16, v_num=496] \n",
      "Validating: 0it [00:00, ?it/s]\u001B[A\n",
      "Epoch 7: 100%|██████████| 82/82 [00:00<00:00, 109.63it/s, loss=1.16, v_num=496]\n",
      "Epoch 8:  51%|█████     | 42/82 [00:00<00:00, 55.06it/s, loss=1.15, v_num=496] \n",
      "Validating: 0it [00:00, ?it/s]\u001B[A\n",
      "Epoch 8: 100%|██████████| 82/82 [00:00<00:00, 99.81it/s, loss=1.15, v_num=496]\n",
      "Epoch 9:  51%|█████     | 42/82 [00:00<00:00, 56.88it/s, loss=1.17, v_num=496]\n",
      "Validating: 0it [00:00, ?it/s]\u001B[A\n",
      "Epoch 9: 100%|██████████| 82/82 [00:00<00:00, 102.52it/s, loss=1.17, v_num=496]\n",
      "Epoch 9: 100%|██████████| 82/82 [00:00<00:00, 100.85it/s, loss=1.17, v_num=496]\n"
     ]
    },
    {
     "name": "stderr",
     "output_type": "stream",
     "text": [
      "GPU available: True, used: False\n",
      "TPU available: False, using: 0 TPU cores\n",
      "IPU available: False, using: 0 IPUs\n"
     ]
    },
    {
     "name": "stdout",
     "output_type": "stream",
     "text": [
      "100\n"
     ]
    },
    {
     "name": "stderr",
     "output_type": "stream",
     "text": [
      "\n",
      "  | Name      | Type    | Params\n",
      "--------------------------------------\n",
      "0 | encoder   | Linear  | 230 K \n",
      "1 | act_1     | Sigmoid | 0     \n",
      "2 | decoder   | Linear  | 232 K \n",
      "3 | act_2     | Sigmoid | 0     \n",
      "4 | loss_func | MSELoss | 0     \n",
      "--------------------------------------\n",
      "463 K     Trainable params\n",
      "0         Non-trainable params\n",
      "463 K     Total params\n",
      "1.852     Total estimated model params size (MB)\n"
     ]
    },
    {
     "name": "stdout",
     "output_type": "stream",
     "text": [
      "Epoch 0:  50%|█████     | 41/82 [00:00<00:00, 63.30it/s, loss=1.18, v_num=497]\n",
      "Validating: 0it [00:00, ?it/s]\u001B[A\n",
      "Epoch 0: 100%|██████████| 82/82 [00:00<00:00, 115.44it/s, loss=1.18, v_num=497]\n",
      "Epoch 1:  50%|█████     | 41/82 [00:00<00:00, 53.28it/s, loss=1.13, v_num=497] \n",
      "Validating: 0it [00:00, ?it/s]\u001B[A\n",
      "Epoch 1: 100%|██████████| 82/82 [00:00<00:00, 97.23it/s, loss=1.13, v_num=497]\n",
      "Epoch 2:  50%|█████     | 41/82 [00:00<00:00, 64.03it/s, loss=1.11, v_num=497]\n",
      "Validating: 0it [00:00, ?it/s]\u001B[A\n",
      "Epoch 2: 100%|██████████| 82/82 [00:00<00:00, 113.87it/s, loss=1.11, v_num=497]\n",
      "Epoch 3:  50%|█████     | 41/82 [00:00<00:00, 61.41it/s, loss=1.23, v_num=497] \n",
      "Validating: 0it [00:00, ?it/s]\u001B[A\n",
      "Epoch 3: 100%|██████████| 82/82 [00:00<00:00, 111.73it/s, loss=1.23, v_num=497]\n",
      "Epoch 4:  50%|█████     | 41/82 [00:00<00:00, 54.36it/s, loss=1.06, v_num=497] \n",
      "Validating: 0it [00:00, ?it/s]\u001B[A\n",
      "Epoch 4: 100%|██████████| 82/82 [00:00<00:00, 98.14it/s, loss=1.06, v_num=497]\n",
      "Epoch 5:  50%|█████     | 41/82 [00:00<00:00, 57.24it/s, loss=1.24, v_num=497]\n",
      "Validating: 0it [00:00, ?it/s]\u001B[A\n",
      "Epoch 5: 100%|██████████| 82/82 [00:00<00:00, 103.10it/s, loss=1.24, v_num=497]\n",
      "Epoch 6:  50%|█████     | 41/82 [00:00<00:00, 52.65it/s, loss=1.13, v_num=497] \n",
      "Validating: 0it [00:00, ?it/s]\u001B[A\n",
      "Epoch 6: 100%|██████████| 82/82 [00:00<00:00, 96.25it/s, loss=1.13, v_num=497]\n",
      "Epoch 7:  50%|█████     | 41/82 [00:00<00:00, 53.80it/s, loss=1.13, v_num=497]\n",
      "Validating: 0it [00:00, ?it/s]\u001B[A\n",
      "Epoch 7: 100%|██████████| 82/82 [00:00<00:00, 96.74it/s, loss=1.13, v_num=497]\n",
      "Epoch 8:  50%|█████     | 41/82 [00:00<00:00, 54.72it/s, loss=1.15, v_num=497]\n",
      "Validating: 0it [00:00, ?it/s]\u001B[A\n",
      "Epoch 8: 100%|██████████| 82/82 [00:00<00:00, 99.01it/s, loss=1.15, v_num=497]\n",
      "Epoch 9:  50%|█████     | 41/82 [00:00<00:00, 50.71it/s, loss=1.11, v_num=497]\n",
      "Validating: 0it [00:00, ?it/s]\u001B[A\n",
      "Epoch 9: 100%|██████████| 82/82 [00:00<00:00, 92.07it/s, loss=1.11, v_num=497]\n",
      "Epoch 9: 100%|██████████| 82/82 [00:00<00:00, 90.74it/s, loss=1.11, v_num=497]"
     ]
    },
    {
     "name": "stderr",
     "output_type": "stream",
     "text": [
      "GPU available: True, used: False\n",
      "TPU available: False, using: 0 TPU cores\n",
      "IPU available: False, using: 0 IPUs\n",
      "\n",
      "  | Name      | Type    | Params\n",
      "--------------------------------------\n",
      "0 | encoder   | Linear  | 863 K \n",
      "1 | act_1     | PReLU   | 1     \n",
      "2 | decoder   | Linear  | 865 K \n",
      "3 | act_2     | PReLU   | 1     \n",
      "4 | loss_func | MSELoss | 0     \n",
      "--------------------------------------\n",
      "1.7 M     Trainable params\n",
      "0         Non-trainable params\n",
      "1.7 M     Total params\n",
      "6.915     Total estimated model params size (MB)\n"
     ]
    },
    {
     "name": "stdout",
     "output_type": "stream",
     "text": [
      "\n",
      "0.01\n",
      "Epoch 0:  50%|█████     | 41/82 [00:01<00:01, 39.18it/s, loss=32.7, v_num=498]\n",
      "Validating: 0it [00:00, ?it/s]\u001B[A\n",
      "Epoch 0: 100%|██████████| 82/82 [00:01<00:00, 71.31it/s, loss=32.7, v_num=498]\n",
      "Epoch 1:  50%|█████     | 41/82 [00:01<00:01, 36.81it/s, loss=1.35, v_num=498]\n",
      "Validating: 0it [00:00, ?it/s]\u001B[A\n",
      "Epoch 1: 100%|██████████| 82/82 [00:01<00:00, 67.22it/s, loss=1.35, v_num=498]\n",
      "Epoch 2:  50%|█████     | 41/82 [00:01<00:01, 40.83it/s, loss=1.49, v_num=498]\n",
      "Validating: 0it [00:00, ?it/s]\u001B[A\n",
      "Epoch 2: 100%|██████████| 82/82 [00:01<00:00, 74.50it/s, loss=1.49, v_num=498]\n",
      "Epoch 3:  50%|█████     | 41/82 [00:01<00:01, 39.12it/s, loss=1.51, v_num=498]\n",
      "Validating: 0it [00:00, ?it/s]\u001B[A\n",
      "Epoch 3: 100%|██████████| 82/82 [00:01<00:00, 71.36it/s, loss=1.51, v_num=498]\n",
      "Epoch 4:  50%|█████     | 41/82 [00:01<00:01, 39.57it/s, loss=1.46, v_num=498]\n",
      "Validating: 0it [00:00, ?it/s]\u001B[A\n",
      "Epoch 4: 100%|██████████| 82/82 [00:01<00:00, 71.95it/s, loss=1.46, v_num=498]\n",
      "Epoch 5:  50%|█████     | 41/82 [00:01<00:01, 37.91it/s, loss=1.52, v_num=498]\n",
      "Validating: 0it [00:00, ?it/s]\u001B[A\n",
      "Epoch 5:  59%|█████▊    | 48/82 [00:01<00:00, 43.41it/s, loss=1.52, v_num=498]\n",
      "Epoch 5: 100%|██████████| 82/82 [00:01<00:00, 68.71it/s, loss=1.52, v_num=498]\n",
      "Epoch 6:  50%|█████     | 41/82 [00:01<00:01, 38.72it/s, loss=1.46, v_num=498]\n",
      "Validating: 0it [00:00, ?it/s]\u001B[A\n",
      "Epoch 6: 100%|██████████| 82/82 [00:01<00:00, 70.75it/s, loss=1.46, v_num=498]\n",
      "Epoch 7:  50%|█████     | 41/82 [00:01<00:01, 40.81it/s, loss=1.38, v_num=498]\n",
      "Validating: 0it [00:00, ?it/s]\u001B[A\n",
      "Epoch 7: 100%|██████████| 82/82 [00:01<00:00, 74.54it/s, loss=1.38, v_num=498]\n",
      "Epoch 8:  50%|█████     | 41/82 [00:01<00:01, 39.24it/s, loss=1.35, v_num=498]\n",
      "Validating: 0it [00:00, ?it/s]\u001B[A\n",
      "Epoch 8: 100%|██████████| 82/82 [00:01<00:00, 72.60it/s, loss=1.35, v_num=498]\n",
      "Epoch 9:  50%|█████     | 41/82 [00:01<00:01, 39.45it/s, loss=1.28, v_num=498]\n",
      "Validating: 0it [00:00, ?it/s]\u001B[A\n",
      "Epoch 9: 100%|██████████| 82/82 [00:01<00:00, 72.48it/s, loss=1.28, v_num=498]\n",
      "Epoch 9: 100%|██████████| 82/82 [00:01<00:00, 70.53it/s, loss=1.28, v_num=498]"
     ]
    },
    {
     "name": "stderr",
     "output_type": "stream",
     "text": [
      "GPU available: True, used: False\n",
      "TPU available: False, using: 0 TPU cores\n",
      "IPU available: False, using: 0 IPUs\n",
      "\n",
      "  | Name      | Type    | Params\n",
      "--------------------------------------\n",
      "0 | encoder   | Linear  | 863 K \n",
      "1 | act_1     | PReLU   | 1     \n",
      "2 | decoder   | Linear  | 865 K \n",
      "3 | act_2     | PReLU   | 1     \n",
      "4 | loss_func | MSELoss | 0     \n",
      "--------------------------------------\n",
      "1.7 M     Trainable params\n",
      "0         Non-trainable params\n",
      "1.7 M     Total params\n",
      "6.915     Total estimated model params size (MB)\n"
     ]
    },
    {
     "name": "stdout",
     "output_type": "stream",
     "text": [
      "\n",
      "0.1\n",
      "Epoch 0:  50%|█████     | 41/82 [00:01<00:01, 39.46it/s, loss=57.9, v_num=499]\n",
      "Validating: 0it [00:00, ?it/s]\u001B[A\n",
      "Epoch 0: 100%|██████████| 82/82 [00:01<00:00, 72.14it/s, loss=57.9, v_num=499]\n",
      "Epoch 1:  50%|█████     | 41/82 [00:00<00:00, 41.60it/s, loss=1.94, v_num=499]\n",
      "Validating: 0it [00:00, ?it/s]\u001B[A\n",
      "Epoch 1: 100%|██████████| 82/82 [00:01<00:00, 75.90it/s, loss=1.94, v_num=499]\n",
      "Epoch 2:  50%|█████     | 41/82 [00:00<00:00, 41.45it/s, loss=1.31, v_num=499]\n",
      "Validating: 0it [00:00, ?it/s]\u001B[A\n",
      "Epoch 2: 100%|██████████| 82/82 [00:01<00:00, 75.08it/s, loss=1.31, v_num=499]\n",
      "Epoch 3:  50%|█████     | 41/82 [00:01<00:01, 39.51it/s, loss=1.39, v_num=499]\n",
      "Validating: 0it [00:00, ?it/s]\u001B[A\n",
      "Epoch 3: 100%|██████████| 82/82 [00:01<00:00, 72.57it/s, loss=1.39, v_num=499]\n",
      "Epoch 4:  50%|█████     | 41/82 [00:01<00:01, 39.71it/s, loss=1.32, v_num=499]\n",
      "Validating: 0it [00:00, ?it/s]\u001B[A\n",
      "Epoch 4: 100%|██████████| 82/82 [00:01<00:00, 72.94it/s, loss=1.32, v_num=499]\n",
      "Epoch 5:  50%|█████     | 41/82 [00:01<00:01, 38.56it/s, loss=1.36, v_num=499]\n",
      "Validating: 0it [00:00, ?it/s]\u001B[A\n",
      "Epoch 5: 100%|██████████| 82/82 [00:01<00:00, 70.91it/s, loss=1.36, v_num=499]\n",
      "Epoch 6:  50%|█████     | 41/82 [00:01<00:01, 40.90it/s, loss=1.38, v_num=499]\n",
      "Validating: 0it [00:00, ?it/s]\u001B[A\n",
      "Epoch 6: 100%|██████████| 82/82 [00:01<00:00, 75.18it/s, loss=1.38, v_num=499]\n",
      "Epoch 7:  50%|█████     | 41/82 [00:01<00:01, 37.31it/s, loss=1.37, v_num=499]\n",
      "Validating: 0it [00:00, ?it/s]\u001B[A\n",
      "Epoch 7: 100%|██████████| 82/82 [00:01<00:00, 68.35it/s, loss=1.37, v_num=499]\n",
      "Epoch 8:  50%|█████     | 41/82 [00:01<00:01, 35.11it/s, loss=1.44, v_num=499]\n",
      "Validating: 0it [00:00, ?it/s]\u001B[A\n",
      "Epoch 8: 100%|██████████| 82/82 [00:01<00:00, 65.54it/s, loss=1.44, v_num=499]\n",
      "Epoch 9:  50%|█████     | 41/82 [00:01<00:01, 38.27it/s, loss=1.37, v_num=499]\n",
      "Validating: 0it [00:00, ?it/s]\u001B[A\n",
      "Epoch 9: 100%|██████████| 82/82 [00:01<00:00, 69.99it/s, loss=1.37, v_num=499]\n",
      "Epoch 9: 100%|██████████| 82/82 [00:01<00:00, 67.56it/s, loss=1.37, v_num=499]"
     ]
    },
    {
     "name": "stderr",
     "output_type": "stream",
     "text": [
      "GPU available: True, used: False\n",
      "TPU available: False, using: 0 TPU cores\n",
      "IPU available: False, using: 0 IPUs\n"
     ]
    },
    {
     "name": "stdout",
     "output_type": "stream",
     "text": [
      "\n",
      "1\n"
     ]
    },
    {
     "name": "stderr",
     "output_type": "stream",
     "text": [
      "\n",
      "  | Name      | Type    | Params\n",
      "--------------------------------------\n",
      "0 | encoder   | Linear  | 863 K \n",
      "1 | act_1     | PReLU   | 1     \n",
      "2 | decoder   | Linear  | 865 K \n",
      "3 | act_2     | PReLU   | 1     \n",
      "4 | loss_func | MSELoss | 0     \n",
      "--------------------------------------\n",
      "1.7 M     Trainable params\n",
      "0         Non-trainable params\n",
      "1.7 M     Total params\n",
      "6.915     Total estimated model params size (MB)\n"
     ]
    },
    {
     "name": "stdout",
     "output_type": "stream",
     "text": [
      "Epoch 0:  50%|█████     | 41/82 [00:01<00:01, 39.46it/s, loss=3.21, v_num=500]\n",
      "Validating: 0it [00:00, ?it/s]\u001B[A\n",
      "Epoch 0:  57%|█████▋    | 47/82 [00:01<00:00, 44.38it/s, loss=3.21, v_num=500]\n",
      "Epoch 0: 100%|██████████| 82/82 [00:01<00:00, 71.39it/s, loss=3.21, v_num=500]\n",
      "Epoch 1:  51%|█████     | 42/82 [00:01<00:01, 38.98it/s, loss=1.83, v_num=500]\n",
      "Validating: 0it [00:00, ?it/s]\u001B[A\n",
      "Epoch 1: 100%|██████████| 82/82 [00:01<00:00, 70.09it/s, loss=1.83, v_num=500]\n",
      "Epoch 2:  51%|█████     | 42/82 [00:00<00:00, 42.40it/s, loss=1.52, v_num=500]\n",
      "Validating: 0it [00:00, ?it/s]\u001B[A\n",
      "Epoch 2: 100%|██████████| 82/82 [00:01<00:00, 75.93it/s, loss=1.52, v_num=500]\n",
      "Epoch 3:  51%|█████     | 42/82 [00:01<00:01, 38.02it/s, loss=1.62, v_num=500]\n",
      "Validating: 0it [00:00, ?it/s]\u001B[A\n",
      "Epoch 3: 100%|██████████| 82/82 [00:01<00:00, 68.55it/s, loss=1.62, v_num=500]\n",
      "Epoch 4:  51%|█████     | 42/82 [00:01<00:01, 39.53it/s, loss=1.6, v_num=500] \n",
      "Validating: 0it [00:00, ?it/s]\u001B[A\n",
      "Epoch 4: 100%|██████████| 82/82 [00:01<00:00, 71.69it/s, loss=1.6, v_num=500]\n",
      "Epoch 5:  51%|█████     | 42/82 [00:01<00:00, 41.59it/s, loss=1.56, v_num=500]\n",
      "Validating: 0it [00:00, ?it/s]\u001B[A\n",
      "Epoch 5: 100%|██████████| 82/82 [00:01<00:00, 73.80it/s, loss=1.56, v_num=500]\n",
      "Epoch 5: 100%|██████████| 82/82 [00:01<00:00, 73.46it/s, loss=1.56, v_num=500]\n",
      "Epoch 6:  50%|█████     | 41/82 [00:01<00:01, 39.54it/s, loss=1.43, v_num=500]\n",
      "Validating: 0it [00:00, ?it/s]\u001B[A\n",
      "Epoch 6: 100%|██████████| 82/82 [00:01<00:00, 73.42it/s, loss=1.43, v_num=500]\n",
      "Epoch 7:  50%|█████     | 41/82 [00:01<00:01, 38.86it/s, loss=1.57, v_num=500]\n",
      "Validating: 0it [00:00, ?it/s]\u001B[A\n",
      "Epoch 7: 100%|██████████| 82/82 [00:01<00:00, 71.80it/s, loss=1.57, v_num=500]\n",
      "Epoch 8:  50%|█████     | 41/82 [00:01<00:01, 40.43it/s, loss=1.64, v_num=500]\n",
      "Validating: 0it [00:00, ?it/s]\u001B[A\n",
      "Epoch 8:  98%|█████████▊| 80/82 [00:01<00:00, 71.89it/s, loss=1.64, v_num=500]\n",
      "Epoch 8: 100%|██████████| 82/82 [00:01<00:00, 73.04it/s, loss=1.64, v_num=500]\n",
      "Epoch 9:  50%|█████     | 41/82 [00:01<00:01, 38.41it/s, loss=1.61, v_num=500]\n",
      "Validating: 0it [00:00, ?it/s]\u001B[A\n",
      "Epoch 9: 100%|██████████| 82/82 [00:01<00:00, 71.68it/s, loss=1.61, v_num=500]\n",
      "Epoch 9: 100%|██████████| 82/82 [00:01<00:00, 69.82it/s, loss=1.61, v_num=500]"
     ]
    },
    {
     "name": "stderr",
     "output_type": "stream",
     "text": [
      "GPU available: True, used: False\n",
      "TPU available: False, using: 0 TPU cores\n",
      "IPU available: False, using: 0 IPUs\n",
      "\n",
      "  | Name      | Type    | Params\n",
      "--------------------------------------\n",
      "0 | encoder   | Linear  | 863 K \n",
      "1 | act_1     | PReLU   | 1     \n",
      "2 | decoder   | Linear  | 865 K \n",
      "3 | act_2     | PReLU   | 1     \n",
      "4 | loss_func | MSELoss | 0     \n",
      "--------------------------------------\n",
      "1.7 M     Trainable params\n",
      "0         Non-trainable params\n",
      "1.7 M     Total params\n",
      "6.915     Total estimated model params size (MB)\n"
     ]
    },
    {
     "name": "stdout",
     "output_type": "stream",
     "text": [
      "\n",
      "100\n",
      "Epoch 0:  50%|█████     | 41/82 [00:01<00:01, 40.27it/s, loss=1.55, v_num=501]\n",
      "Validating: 0it [00:00, ?it/s]\u001B[A\n",
      "Epoch 0: 100%|██████████| 82/82 [00:01<00:00, 74.48it/s, loss=1.55, v_num=501]\n",
      "Epoch 1:  51%|█████     | 42/82 [00:01<00:01, 39.11it/s, loss=1.64, v_num=501]\n",
      "Validating: 0it [00:00, ?it/s]\u001B[A\n",
      "Epoch 1: 100%|██████████| 82/82 [00:01<00:00, 70.89it/s, loss=1.64, v_num=501]\n",
      "Epoch 2:  51%|█████     | 42/82 [00:01<00:01, 38.24it/s, loss=1.59, v_num=501]\n",
      "Validating: 0it [00:00, ?it/s]\u001B[A\n",
      "Epoch 2: 100%|██████████| 82/82 [00:01<00:00, 68.90it/s, loss=1.59, v_num=501]\n",
      "Epoch 3:  51%|█████     | 42/82 [00:01<00:00, 40.18it/s, loss=1.7, v_num=501] \n",
      "Validating: 0it [00:00, ?it/s]\u001B[A\n",
      "Epoch 3: 100%|██████████| 82/82 [00:01<00:00, 72.34it/s, loss=1.7, v_num=501]\n",
      "Epoch 4:  51%|█████     | 42/82 [00:01<00:01, 39.13it/s, loss=1.64, v_num=501]\n",
      "Validating: 0it [00:00, ?it/s]\u001B[A\n",
      "Epoch 4: 100%|██████████| 82/82 [00:01<00:00, 70.05it/s, loss=1.64, v_num=501]\n",
      "Epoch 5:  51%|█████     | 42/82 [00:01<00:00, 40.25it/s, loss=1.57, v_num=501]\n",
      "Validating: 0it [00:00, ?it/s]\u001B[A\n",
      "Epoch 5: 100%|██████████| 82/82 [00:01<00:00, 72.30it/s, loss=1.57, v_num=501]\n",
      "Epoch 6:  51%|█████     | 42/82 [00:01<00:00, 40.31it/s, loss=1.52, v_num=501]\n",
      "Validating: 0it [00:00, ?it/s]\u001B[A\n",
      "Epoch 6: 100%|██████████| 82/82 [00:01<00:00, 72.90it/s, loss=1.52, v_num=501]\n",
      "Epoch 7:  51%|█████     | 42/82 [00:01<00:01, 36.68it/s, loss=1.46, v_num=501]\n",
      "Validating: 0it [00:00, ?it/s]\u001B[A\n",
      "Epoch 7: 100%|██████████| 82/82 [00:01<00:00, 65.82it/s, loss=1.46, v_num=501]\n",
      "Epoch 8:  51%|█████     | 42/82 [00:01<00:01, 39.43it/s, loss=1.57, v_num=501]\n",
      "Validating: 0it [00:00, ?it/s]\u001B[A\n",
      "Epoch 8: 100%|██████████| 82/82 [00:01<00:00, 70.64it/s, loss=1.57, v_num=501]\n",
      "Epoch 9:  51%|█████     | 42/82 [00:01<00:01, 38.60it/s, loss=1.51, v_num=501]\n",
      "Validating: 0it [00:00, ?it/s]\u001B[A\n",
      "Epoch 9: 100%|██████████| 82/82 [00:01<00:00, 68.91it/s, loss=1.51, v_num=501]\n",
      "Epoch 9: 100%|██████████| 82/82 [00:01<00:00, 66.00it/s, loss=1.51, v_num=501]\n"
     ]
    },
    {
     "name": "stderr",
     "output_type": "stream",
     "text": [
      "GPU available: True, used: False\n",
      "TPU available: False, using: 0 TPU cores\n",
      "IPU available: False, using: 0 IPUs\n",
      "\n",
      "  | Name      | Type    | Params\n",
      "--------------------------------------\n",
      "0 | encoder   | Linear  | 863 K \n",
      "1 | act_1     | Sigmoid | 0     \n",
      "2 | decoder   | Linear  | 865 K \n",
      "3 | act_2     | Sigmoid | 0     \n",
      "4 | loss_func | MSELoss | 0     \n",
      "--------------------------------------\n",
      "1.7 M     Trainable params\n",
      "0         Non-trainable params\n",
      "1.7 M     Total params\n",
      "6.915     Total estimated model params size (MB)\n"
     ]
    },
    {
     "name": "stdout",
     "output_type": "stream",
     "text": [
      "0.01\n",
      "Epoch 0:  50%|█████     | 41/82 [00:01<00:01, 38.37it/s, loss=1.1, v_num=502] \n",
      "Validating: 0it [00:00, ?it/s]\u001B[A\n",
      "Epoch 0: 100%|██████████| 82/82 [00:01<00:00, 70.17it/s, loss=1.1, v_num=502]\n",
      "Epoch 1:  51%|█████     | 42/82 [00:01<00:01, 38.21it/s, loss=1.09, v_num=502]\n",
      "Validating: 0it [00:00, ?it/s]\u001B[A\n",
      "Epoch 1: 100%|██████████| 82/82 [00:01<00:00, 68.92it/s, loss=1.09, v_num=502]\n",
      "Epoch 2:  51%|█████     | 42/82 [00:01<00:01, 39.63it/s, loss=1.07, v_num=502]\n",
      "Validating: 0it [00:00, ?it/s]\u001B[A\n",
      "Epoch 2: 100%|██████████| 82/82 [00:01<00:00, 70.63it/s, loss=1.07, v_num=502]\n",
      "Epoch 3:  51%|█████     | 42/82 [00:01<00:01, 39.88it/s, loss=1.14, v_num=502]\n",
      "Validating: 0it [00:00, ?it/s]\u001B[A\n",
      "Epoch 3: 100%|██████████| 82/82 [00:01<00:00, 71.32it/s, loss=1.14, v_num=502]\n",
      "Epoch 4:  50%|█████     | 41/82 [00:00<00:00, 41.39it/s, loss=1.07, v_num=502]\n",
      "Validating: 0it [00:00, ?it/s]\u001B[A\n",
      "Epoch 4: 100%|██████████| 82/82 [00:01<00:00, 75.87it/s, loss=1.07, v_num=502]\n",
      "Epoch 5:  50%|█████     | 41/82 [00:00<00:00, 41.05it/s, loss=1.04, v_num=502]\n",
      "Validating: 0it [00:00, ?it/s]\u001B[A\n",
      "Epoch 5: 100%|██████████| 82/82 [00:01<00:00, 76.02it/s, loss=1.04, v_num=502]\n",
      "Epoch 6:  50%|█████     | 41/82 [00:00<00:00, 41.35it/s, loss=1.12, v_num=502]\n",
      "Validating: 0it [00:00, ?it/s]\u001B[A\n",
      "Epoch 6: 100%|██████████| 82/82 [00:01<00:00, 75.80it/s, loss=1.12, v_num=502]\n",
      "Epoch 7:  50%|█████     | 41/82 [00:01<00:01, 38.85it/s, loss=1.05, v_num=502]\n",
      "Validating: 0it [00:00, ?it/s]\u001B[A\n",
      "Epoch 7: 100%|██████████| 82/82 [00:01<00:00, 72.71it/s, loss=1.05, v_num=502]\n",
      "Epoch 8:  50%|█████     | 41/82 [00:00<00:00, 42.66it/s, loss=1.09, v_num=502]\n",
      "Validating: 0it [00:00, ?it/s]\u001B[A\n",
      "Epoch 8: 100%|██████████| 82/82 [00:01<00:00, 78.57it/s, loss=1.09, v_num=502]\n",
      "Epoch 9:  50%|█████     | 41/82 [00:01<00:01, 40.80it/s, loss=1.1, v_num=502] \n",
      "Validating: 0it [00:00, ?it/s]\u001B[A\n",
      "Epoch 9: 100%|██████████| 82/82 [00:01<00:00, 75.34it/s, loss=1.1, v_num=502]\n",
      "Epoch 9: 100%|██████████| 82/82 [00:01<00:00, 73.13it/s, loss=1.1, v_num=502]"
     ]
    },
    {
     "name": "stderr",
     "output_type": "stream",
     "text": [
      "GPU available: True, used: False\n",
      "TPU available: False, using: 0 TPU cores\n",
      "IPU available: False, using: 0 IPUs\n",
      "\n",
      "  | Name      | Type    | Params\n",
      "--------------------------------------\n",
      "0 | encoder   | Linear  | 863 K \n",
      "1 | act_1     | Sigmoid | 0     \n",
      "2 | decoder   | Linear  | 865 K \n",
      "3 | act_2     | Sigmoid | 0     \n",
      "4 | loss_func | MSELoss | 0     \n",
      "--------------------------------------\n",
      "1.7 M     Trainable params\n",
      "0         Non-trainable params\n",
      "1.7 M     Total params\n",
      "6.915     Total estimated model params size (MB)\n"
     ]
    },
    {
     "name": "stdout",
     "output_type": "stream",
     "text": [
      "\n",
      "0.1\n",
      "Epoch 0:  50%|█████     | 41/82 [00:00<00:00, 41.18it/s, loss=1.08, v_num=503]\n",
      "Validating: 0it [00:00, ?it/s]\u001B[A\n",
      "Epoch 0: 100%|██████████| 82/82 [00:01<00:00, 75.45it/s, loss=1.08, v_num=503]\n",
      "Epoch 1:  50%|█████     | 41/82 [00:01<00:01, 39.02it/s, loss=1.09, v_num=503]\n",
      "Validating: 0it [00:00, ?it/s]\u001B[A\n",
      "Epoch 1: 100%|██████████| 82/82 [00:01<00:00, 71.61it/s, loss=1.09, v_num=503]\n",
      "Epoch 2:  50%|█████     | 41/82 [00:00<00:00, 44.13it/s, loss=1.19, v_num=503]\n",
      "Validating: 0it [00:00, ?it/s]\u001B[A\n",
      "Epoch 2: 100%|██████████| 82/82 [00:01<00:00, 81.41it/s, loss=1.19, v_num=503]\n",
      "Epoch 3:  50%|█████     | 41/82 [00:01<00:01, 39.65it/s, loss=1.12, v_num=503]\n",
      "Validating: 0it [00:00, ?it/s]\u001B[A\n",
      "Epoch 3: 100%|██████████| 82/82 [00:01<00:00, 72.25it/s, loss=1.12, v_num=503]\n",
      "Epoch 4:  50%|█████     | 41/82 [00:01<00:01, 40.83it/s, loss=1.13, v_num=503]\n",
      "Validating: 0it [00:00, ?it/s]\u001B[A\n",
      "Epoch 4: 100%|██████████| 82/82 [00:01<00:00, 74.05it/s, loss=1.13, v_num=503]\n",
      "Epoch 5:  50%|█████     | 41/82 [00:00<00:00, 41.73it/s, loss=1.09, v_num=503]\n",
      "Validating: 0it [00:00, ?it/s]\u001B[A\n",
      "Epoch 5:  55%|█████▍    | 45/82 [00:00<00:00, 45.10it/s, loss=1.09, v_num=503]\n",
      "Epoch 5: 100%|██████████| 82/82 [00:01<00:00, 74.71it/s, loss=1.09, v_num=503]\n",
      "Epoch 6:  50%|█████     | 41/82 [00:01<00:01, 39.72it/s, loss=1.17, v_num=503]\n",
      "Validating: 0it [00:00, ?it/s]\u001B[A\n",
      "Epoch 6: 100%|██████████| 82/82 [00:01<00:00, 72.50it/s, loss=1.17, v_num=503]\n",
      "Epoch 7:  50%|█████     | 41/82 [00:00<00:00, 41.64it/s, loss=1.17, v_num=503]\n",
      "Validating: 0it [00:00, ?it/s]\u001B[A\n",
      "Epoch 7:  55%|█████▍    | 45/82 [00:01<00:00, 45.00it/s, loss=1.17, v_num=503]\n",
      "Epoch 7: 100%|██████████| 82/82 [00:01<00:00, 75.02it/s, loss=1.17, v_num=503]\n",
      "Epoch 8:  50%|█████     | 41/82 [00:01<00:01, 35.57it/s, loss=1.13, v_num=503]\n",
      "Validating: 0it [00:00, ?it/s]\u001B[A\n",
      "Epoch 8:  55%|█████▍    | 45/82 [00:01<00:00, 38.49it/s, loss=1.13, v_num=503]\n",
      "Epoch 8: 100%|██████████| 82/82 [00:01<00:00, 64.76it/s, loss=1.13, v_num=503]\n",
      "Epoch 9:  50%|█████     | 41/82 [00:01<00:01, 40.45it/s, loss=1.08, v_num=503]\n",
      "Validating: 0it [00:00, ?it/s]\u001B[A\n",
      "Epoch 9: 100%|██████████| 82/82 [00:01<00:00, 74.57it/s, loss=1.08, v_num=503]\n",
      "Epoch 9: 100%|██████████| 82/82 [00:01<00:00, 72.59it/s, loss=1.08, v_num=503]"
     ]
    },
    {
     "name": "stderr",
     "output_type": "stream",
     "text": [
      "GPU available: True, used: False\n",
      "TPU available: False, using: 0 TPU cores\n",
      "IPU available: False, using: 0 IPUs\n",
      "\n",
      "  | Name      | Type    | Params\n",
      "--------------------------------------\n",
      "0 | encoder   | Linear  | 863 K \n",
      "1 | act_1     | Sigmoid | 0     \n",
      "2 | decoder   | Linear  | 865 K \n",
      "3 | act_2     | Sigmoid | 0     \n",
      "4 | loss_func | MSELoss | 0     \n",
      "--------------------------------------\n",
      "1.7 M     Trainable params\n",
      "0         Non-trainable params\n",
      "1.7 M     Total params\n",
      "6.915     Total estimated model params size (MB)\n"
     ]
    },
    {
     "name": "stdout",
     "output_type": "stream",
     "text": [
      "\n",
      "1\n",
      "Epoch 0:  51%|█████     | 42/82 [00:01<00:01, 39.70it/s, loss=1.12, v_num=504]\n",
      "Validating: 0it [00:00, ?it/s]\u001B[A\n",
      "Epoch 0: 100%|██████████| 82/82 [00:01<00:00, 72.00it/s, loss=1.12, v_num=504]\n",
      "Epoch 1:  50%|█████     | 41/82 [00:00<00:00, 41.91it/s, loss=1.08, v_num=504]\n",
      "Validating: 0it [00:00, ?it/s]\u001B[A\n",
      "Epoch 1: 100%|██████████| 82/82 [00:01<00:00, 75.66it/s, loss=1.08, v_num=504]\n",
      "Epoch 2:  50%|█████     | 41/82 [00:01<00:01, 36.09it/s, loss=1.08, v_num=504]\n",
      "Validating: 0it [00:00, ?it/s]\u001B[A\n",
      "Epoch 2: 100%|██████████| 82/82 [00:01<00:00, 66.23it/s, loss=1.08, v_num=504]\n",
      "Epoch 3:  50%|█████     | 41/82 [00:01<00:01, 37.72it/s, loss=1.14, v_num=504]\n",
      "Validating: 0it [00:00, ?it/s]\u001B[A\n",
      "Epoch 3: 100%|██████████| 82/82 [00:01<00:00, 69.17it/s, loss=1.14, v_num=504]\n",
      "Epoch 4:  50%|█████     | 41/82 [00:01<00:01, 37.62it/s, loss=1.17, v_num=504]\n",
      "Validating: 0it [00:00, ?it/s]\u001B[A\n",
      "Epoch 4: 100%|██████████| 82/82 [00:01<00:00, 68.87it/s, loss=1.17, v_num=504]\n",
      "Epoch 5:  50%|█████     | 41/82 [00:01<00:01, 37.14it/s, loss=1.15, v_num=504]\n",
      "Validating: 0it [00:00, ?it/s]\u001B[A\n",
      "Epoch 5:  59%|█████▊    | 48/82 [00:01<00:00, 42.55it/s, loss=1.15, v_num=504]\n",
      "Epoch 5: 100%|██████████| 82/82 [00:01<00:00, 67.47it/s, loss=1.15, v_num=504]\n",
      "Epoch 6:  50%|█████     | 41/82 [00:01<00:01, 36.25it/s, loss=1.14, v_num=504]\n",
      "Validating: 0it [00:00, ?it/s]\u001B[A\n",
      "Epoch 6:  59%|█████▊    | 48/82 [00:01<00:00, 41.45it/s, loss=1.14, v_num=504]\n",
      "Epoch 6: 100%|██████████| 82/82 [00:01<00:00, 66.01it/s, loss=1.14, v_num=504]\n",
      "Epoch 7:  50%|█████     | 41/82 [00:01<00:01, 36.44it/s, loss=1.1, v_num=504] \n",
      "Validating: 0it [00:00, ?it/s]\u001B[A\n",
      "Epoch 7:  59%|█████▊    | 48/82 [00:01<00:00, 41.56it/s, loss=1.1, v_num=504]\n",
      "Epoch 7: 100%|██████████| 82/82 [00:01<00:00, 66.47it/s, loss=1.1, v_num=504]\n",
      "Epoch 8:  50%|█████     | 41/82 [00:01<00:01, 37.54it/s, loss=1.1, v_num=504] \n",
      "Validating: 0it [00:00, ?it/s]\u001B[A\n",
      "Epoch 8:  59%|█████▊    | 48/82 [00:01<00:00, 42.98it/s, loss=1.1, v_num=504]\n",
      "Epoch 8: 100%|██████████| 82/82 [00:01<00:00, 67.71it/s, loss=1.1, v_num=504]\n",
      "Epoch 9:  50%|█████     | 41/82 [00:01<00:01, 38.81it/s, loss=1.15, v_num=504]\n",
      "Validating: 0it [00:00, ?it/s]\u001B[A\n",
      "Epoch 9: 100%|██████████| 82/82 [00:01<00:00, 71.18it/s, loss=1.15, v_num=504]\n",
      "Epoch 9: 100%|██████████| 82/82 [00:01<00:00, 69.04it/s, loss=1.15, v_num=504]"
     ]
    },
    {
     "name": "stderr",
     "output_type": "stream",
     "text": [
      "GPU available: True, used: False\n",
      "TPU available: False, using: 0 TPU cores\n",
      "IPU available: False, using: 0 IPUs\n",
      "\n",
      "  | Name      | Type    | Params\n",
      "--------------------------------------\n",
      "0 | encoder   | Linear  | 863 K \n",
      "1 | act_1     | Sigmoid | 0     \n",
      "2 | decoder   | Linear  | 865 K \n",
      "3 | act_2     | Sigmoid | 0     \n",
      "4 | loss_func | MSELoss | 0     \n",
      "--------------------------------------\n",
      "1.7 M     Trainable params\n",
      "0         Non-trainable params\n",
      "1.7 M     Total params\n",
      "6.915     Total estimated model params size (MB)\n"
     ]
    },
    {
     "name": "stdout",
     "output_type": "stream",
     "text": [
      "\n",
      "100\n",
      "Epoch 0:  50%|█████     | 41/82 [00:01<00:01, 38.57it/s, loss=1.09, v_num=505]\n",
      "Validating: 0it [00:00, ?it/s]\u001B[A\n",
      "Epoch 0: 100%|██████████| 82/82 [00:01<00:00, 70.48it/s, loss=1.09, v_num=505]\n",
      "Epoch 1:  51%|█████     | 42/82 [00:01<00:01, 39.10it/s, loss=1.1, v_num=505] \n",
      "Validating: 0it [00:00, ?it/s]\u001B[A\n",
      "Epoch 1: 100%|██████████| 82/82 [00:01<00:00, 70.32it/s, loss=1.1, v_num=505]\n",
      "Epoch 2:  51%|█████     | 42/82 [00:01<00:01, 39.64it/s, loss=1.2, v_num=505]  \n",
      "Validating: 0it [00:00, ?it/s]\u001B[A\n",
      "Epoch 2: 100%|██████████| 82/82 [00:01<00:00, 70.97it/s, loss=1.2, v_num=505]\n",
      "Epoch 3:  51%|█████     | 42/82 [00:01<00:00, 41.25it/s, loss=1.09, v_num=505]\n",
      "Validating: 0it [00:00, ?it/s]\u001B[A\n",
      "Epoch 3: 100%|██████████| 82/82 [00:01<00:00, 73.43it/s, loss=1.09, v_num=505]\n",
      "Epoch 4:  51%|█████     | 42/82 [00:01<00:00, 40.90it/s, loss=1.12, v_num=505]\n",
      "Validating: 0it [00:00, ?it/s]\u001B[A\n",
      "Epoch 4: 100%|██████████| 82/82 [00:01<00:00, 73.81it/s, loss=1.12, v_num=505]\n",
      "Epoch 5:  51%|█████     | 42/82 [00:01<00:01, 38.32it/s, loss=1.06, v_num=505]\n",
      "Validating: 0it [00:00, ?it/s]\u001B[A\n",
      "Epoch 5: 100%|██████████| 82/82 [00:01<00:00, 68.26it/s, loss=1.06, v_num=505]\n",
      "Epoch 6:  50%|█████     | 41/82 [00:01<00:01, 37.99it/s, loss=1.1, v_num=505] \n",
      "Validating: 0it [00:00, ?it/s]\u001B[A\n",
      "Epoch 6: 100%|██████████| 82/82 [00:01<00:00, 69.26it/s, loss=1.1, v_num=505]\n",
      "Epoch 7:  50%|█████     | 41/82 [00:01<00:01, 38.52it/s, loss=1.25, v_num=505]\n",
      "Validating: 0it [00:00, ?it/s]\u001B[A\n",
      "Epoch 7: 100%|██████████| 82/82 [00:01<00:00, 70.12it/s, loss=1.25, v_num=505]\n",
      "Epoch 8:  50%|█████     | 41/82 [00:01<00:01, 40.44it/s, loss=1.03, v_num=505]\n",
      "Validating: 0it [00:00, ?it/s]\u001B[A\n",
      "Epoch 8: 100%|██████████| 82/82 [00:01<00:00, 73.45it/s, loss=1.03, v_num=505]\n",
      "Epoch 9:  50%|█████     | 41/82 [00:01<00:01, 37.91it/s, loss=1.14, v_num=505]\n",
      "Validating: 0it [00:00, ?it/s]\u001B[A\n",
      "Epoch 9:  98%|█████████▊| 80/82 [00:01<00:00, 67.66it/s, loss=1.14, v_num=505]\n",
      "Epoch 9: 100%|██████████| 82/82 [00:01<00:00, 68.80it/s, loss=1.14, v_num=505]\n",
      "Epoch 9: 100%|██████████| 82/82 [00:01<00:00, 66.53it/s, loss=1.14, v_num=505]\n",
      "['obj/AutoRecBase_PReLU_10_0.001_0.01_False_model_dict.ckpt', 'obj/AutoRecBase_PReLU_10_0.001_0.1_False_model_dict.ckpt', 'obj/AutoRecBase_PReLU_10_0.001_1_False_model_dict.ckpt', 'obj/AutoRecBase_PReLU_10_0.001_100_False_model_dict.ckpt', 'obj/AutoRecBase_Sigmoid_10_0.001_100_False_model_dict.ckpt', 'obj/AutoRecBase_PReLU_80_0.001_0.01_False_model_dict.ckpt', 'obj/AutoRecBase_PReLU_80_0.001_0.1_False_model_dict.ckpt', 'obj/AutoRecBase_PReLU_80_0.001_1_False_model_dict.ckpt', 'obj/AutoRecBase_PReLU_80_0.001_100_False_model_dict.ckpt', 'obj/AutoRecBase_PReLU_300_0.001_0.01_False_model_dict.ckpt', 'obj/AutoRecBase_PReLU_300_0.001_0.1_False_model_dict.ckpt', 'obj/AutoRecBase_PReLU_300_0.001_1_False_model_dict.ckpt', 'obj/AutoRecBase_PReLU_300_0.001_100_False_model_dict.ckpt', 'obj/AutoRecBase_PReLU_10_0.005_0.01_False_model_dict.ckpt', 'obj/AutoRecBase_PReLU_10_0.005_0.1_False_model_dict.ckpt', 'obj/AutoRecBase_PReLU_10_0.005_1_False_model_dict.ckpt', 'obj/AutoRecBase_PReLU_10_0.005_100_False_model_dict.ckpt', 'obj/AutoRecBase_PReLU_80_0.005_0.01_False_model_dict.ckpt', 'obj/AutoRecBase_PReLU_80_0.005_0.1_False_model_dict.ckpt', 'obj/AutoRecBase_PReLU_80_0.005_1_False_model_dict.ckpt', 'obj/AutoRecBase_PReLU_80_0.005_100_False_model_dict.ckpt', 'obj/AutoRecBase_PReLU_300_0.005_0.01_False_model_dict.ckpt', 'obj/AutoRecBase_PReLU_300_0.005_0.1_False_model_dict.ckpt', 'obj/AutoRecBase_PReLU_300_0.005_1_False_model_dict.ckpt', 'obj/AutoRecBase_PReLU_300_0.005_100_False_model_dict.ckpt', 'obj/AutoRecBase_PReLU_10_0.01_0.01_False_model_dict.ckpt', 'obj/AutoRecBase_PReLU_10_0.01_0.1_False_model_dict.ckpt', 'obj/AutoRecBase_PReLU_10_0.01_1_False_model_dict.ckpt', 'obj/AutoRecBase_PReLU_10_0.01_100_False_model_dict.ckpt', 'obj/AutoRecBase_PReLU_80_0.01_0.01_False_model_dict.ckpt', 'obj/AutoRecBase_PReLU_80_0.01_0.1_False_model_dict.ckpt', 'obj/AutoRecBase_PReLU_80_0.01_1_False_model_dict.ckpt', 'obj/AutoRecBase_PReLU_80_0.01_100_False_model_dict.ckpt', 'obj/AutoRecBase_PReLU_300_0.01_0.01_False_model_dict.ckpt', 'obj/AutoRecBase_PReLU_300_0.01_0.1_False_model_dict.ckpt', 'obj/AutoRecBase_PReLU_300_0.01_1_False_model_dict.ckpt', 'obj/AutoRecBase_PReLU_300_0.01_100_False_model_dict.ckpt', 'obj/VarAutoRec_PReLU_10_0.001_0.01_False_model_dict.ckpt', 'obj/VarAutoRec_PReLU_10_0.001_0.1_False_model_dict.ckpt', 'obj/VarAutoRec_PReLU_10_0.001_1_False_model_dict.ckpt', 'obj/VarAutoRec_PReLU_10_0.001_100_False_model_dict.ckpt', 'obj/VarAutoRec_PReLU_80_0.001_0.01_False_model_dict.ckpt', 'obj/VarAutoRec_PReLU_80_0.001_0.1_False_model_dict.ckpt', 'obj/VarAutoRec_PReLU_80_0.001_1_False_model_dict.ckpt', 'obj/VarAutoRec_PReLU_80_0.001_100_False_model_dict.ckpt', 'obj/VarAutoRec_PReLU_300_0.001_0.01_False_model_dict.ckpt', 'obj/VarAutoRec_PReLU_300_0.001_0.1_False_model_dict.ckpt', 'obj/VarAutoRec_PReLU_300_0.001_1_False_model_dict.ckpt', 'obj/VarAutoRec_PReLU_300_0.001_100_False_model_dict.ckpt', 'obj/VarAutoRec_PReLU_10_0.005_0.01_False_model_dict.ckpt', 'obj/VarAutoRec_PReLU_10_0.005_0.1_False_model_dict.ckpt', 'obj/VarAutoRec_PReLU_10_0.005_1_False_model_dict.ckpt', 'obj/VarAutoRec_PReLU_10_0.005_100_False_model_dict.ckpt', 'obj/VarAutoRec_PReLU_80_0.005_0.01_False_model_dict.ckpt', 'obj/VarAutoRec_PReLU_80_0.005_0.1_False_model_dict.ckpt', 'obj/VarAutoRec_PReLU_80_0.005_1_False_model_dict.ckpt', 'obj/VarAutoRec_PReLU_80_0.005_100_False_model_dict.ckpt', 'obj/VarAutoRec_PReLU_300_0.005_0.01_False_model_dict.ckpt', 'obj/VarAutoRec_PReLU_300_0.005_0.1_False_model_dict.ckpt', 'obj/VarAutoRec_PReLU_300_0.005_1_False_model_dict.ckpt', 'obj/VarAutoRec_PReLU_300_0.005_100_False_model_dict.ckpt', 'obj/VarAutoRec_PReLU_10_0.01_0.01_False_model_dict.ckpt', 'obj/VarAutoRec_PReLU_10_0.01_0.1_False_model_dict.ckpt', 'obj/VarAutoRec_PReLU_10_0.01_1_False_model_dict.ckpt', 'obj/VarAutoRec_PReLU_10_0.01_100_False_model_dict.ckpt', 'obj/VarAutoRec_PReLU_80_0.01_0.01_False_model_dict.ckpt', 'obj/VarAutoRec_PReLU_80_0.01_0.1_False_model_dict.ckpt', 'obj/VarAutoRec_PReLU_80_0.01_1_False_model_dict.ckpt', 'obj/VarAutoRec_PReLU_80_0.01_100_False_model_dict.ckpt', 'obj/VarAutoRec_PReLU_300_0.01_0.01_False_model_dict.ckpt', 'obj/VarAutoRec_PReLU_300_0.01_0.1_False_model_dict.ckpt', 'obj/VarAutoRec_PReLU_300_0.01_1_False_model_dict.ckpt', 'obj/VarAutoRec_PReLU_300_0.01_100_False_model_dict.ckpt', 'obj/UserBiasAE_PReLU_10_0.001_0.01_False_model_dict.ckpt', 'obj/UserBiasAE_PReLU_10_0.001_0.1_False_model_dict.ckpt', 'obj/UserBiasAE_PReLU_10_0.001_1_False_model_dict.ckpt', 'obj/UserBiasAE_PReLU_10_0.001_100_False_model_dict.ckpt', 'obj/UserBiasAE_Sigmoid_10_0.001_0.01_False_model_dict.ckpt', 'obj/UserBiasAE_Sigmoid_10_0.001_0.1_False_model_dict.ckpt', 'obj/UserBiasAE_Sigmoid_10_0.001_1_False_model_dict.ckpt', 'obj/UserBiasAE_Sigmoid_10_0.001_100_False_model_dict.ckpt', 'obj/UserBiasAE_PReLU_80_0.001_0.01_False_model_dict.ckpt', 'obj/UserBiasAE_PReLU_80_0.001_0.1_False_model_dict.ckpt', 'obj/UserBiasAE_PReLU_80_0.001_1_False_model_dict.ckpt', 'obj/UserBiasAE_PReLU_80_0.001_100_False_model_dict.ckpt', 'obj/UserBiasAE_Sigmoid_80_0.001_0.01_False_model_dict.ckpt', 'obj/UserBiasAE_Sigmoid_80_0.001_0.1_False_model_dict.ckpt', 'obj/UserBiasAE_Sigmoid_80_0.001_1_False_model_dict.ckpt', 'obj/UserBiasAE_Sigmoid_80_0.001_100_False_model_dict.ckpt', 'obj/UserBiasAE_PReLU_300_0.001_0.01_False_model_dict.ckpt', 'obj/UserBiasAE_PReLU_300_0.001_0.1_False_model_dict.ckpt', 'obj/UserBiasAE_PReLU_300_0.001_1_False_model_dict.ckpt', 'obj/UserBiasAE_PReLU_300_0.001_100_False_model_dict.ckpt', 'obj/UserBiasAE_Sigmoid_300_0.001_0.01_False_model_dict.ckpt', 'obj/UserBiasAE_Sigmoid_300_0.001_0.1_False_model_dict.ckpt', 'obj/UserBiasAE_Sigmoid_300_0.001_1_False_model_dict.ckpt', 'obj/UserBiasAE_Sigmoid_300_0.001_100_False_model_dict.ckpt', 'obj/UserBiasAE_PReLU_10_0.005_0.01_False_model_dict.ckpt', 'obj/UserBiasAE_PReLU_10_0.005_0.1_False_model_dict.ckpt', 'obj/UserBiasAE_PReLU_10_0.005_1_False_model_dict.ckpt', 'obj/UserBiasAE_PReLU_10_0.005_100_False_model_dict.ckpt', 'obj/UserBiasAE_Sigmoid_10_0.005_0.01_False_model_dict.ckpt', 'obj/UserBiasAE_Sigmoid_10_0.005_0.1_False_model_dict.ckpt', 'obj/UserBiasAE_Sigmoid_10_0.005_1_False_model_dict.ckpt', 'obj/UserBiasAE_Sigmoid_10_0.005_100_False_model_dict.ckpt', 'obj/UserBiasAE_PReLU_80_0.005_0.01_False_model_dict.ckpt', 'obj/UserBiasAE_PReLU_80_0.005_0.1_False_model_dict.ckpt', 'obj/UserBiasAE_PReLU_80_0.005_1_False_model_dict.ckpt', 'obj/UserBiasAE_PReLU_80_0.005_100_False_model_dict.ckpt', 'obj/UserBiasAE_Sigmoid_80_0.005_0.01_False_model_dict.ckpt', 'obj/UserBiasAE_Sigmoid_80_0.005_0.1_False_model_dict.ckpt', 'obj/UserBiasAE_Sigmoid_80_0.005_1_False_model_dict.ckpt', 'obj/UserBiasAE_Sigmoid_80_0.005_100_False_model_dict.ckpt', 'obj/UserBiasAE_PReLU_300_0.005_0.01_False_model_dict.ckpt', 'obj/UserBiasAE_PReLU_300_0.005_0.1_False_model_dict.ckpt', 'obj/UserBiasAE_PReLU_300_0.005_1_False_model_dict.ckpt', 'obj/UserBiasAE_PReLU_300_0.005_100_False_model_dict.ckpt', 'obj/UserBiasAE_Sigmoid_300_0.005_0.01_False_model_dict.ckpt', 'obj/UserBiasAE_Sigmoid_300_0.005_0.1_False_model_dict.ckpt', 'obj/UserBiasAE_Sigmoid_300_0.005_1_False_model_dict.ckpt', 'obj/UserBiasAE_Sigmoid_300_0.005_100_False_model_dict.ckpt', 'obj/UserBiasAE_PReLU_10_0.01_0.01_False_model_dict.ckpt', 'obj/UserBiasAE_PReLU_10_0.01_0.1_False_model_dict.ckpt', 'obj/UserBiasAE_PReLU_10_0.01_1_False_model_dict.ckpt', 'obj/UserBiasAE_PReLU_10_0.01_100_False_model_dict.ckpt', 'obj/UserBiasAE_Sigmoid_10_0.01_0.01_False_model_dict.ckpt', 'obj/UserBiasAE_Sigmoid_10_0.01_0.1_False_model_dict.ckpt', 'obj/UserBiasAE_Sigmoid_10_0.01_1_False_model_dict.ckpt', 'obj/UserBiasAE_Sigmoid_10_0.01_100_False_model_dict.ckpt', 'obj/UserBiasAE_PReLU_80_0.01_0.01_False_model_dict.ckpt', 'obj/UserBiasAE_PReLU_80_0.01_0.1_False_model_dict.ckpt', 'obj/UserBiasAE_PReLU_80_0.01_1_False_model_dict.ckpt', 'obj/UserBiasAE_PReLU_80_0.01_100_False_model_dict.ckpt', 'obj/UserBiasAE_Sigmoid_80_0.01_0.01_False_model_dict.ckpt', 'obj/UserBiasAE_Sigmoid_80_0.01_0.1_False_model_dict.ckpt', 'obj/UserBiasAE_Sigmoid_80_0.01_1_False_model_dict.ckpt', 'obj/UserBiasAE_Sigmoid_80_0.01_100_False_model_dict.ckpt', 'obj/UserBiasAE_PReLU_300_0.01_0.01_False_model_dict.ckpt', 'obj/UserBiasAE_PReLU_300_0.01_0.1_False_model_dict.ckpt', 'obj/UserBiasAE_PReLU_300_0.01_1_False_model_dict.ckpt', 'obj/UserBiasAE_PReLU_300_0.01_100_False_model_dict.ckpt', 'obj/UserBiasAE_Sigmoid_300_0.01_0.01_False_model_dict.ckpt', 'obj/UserBiasAE_Sigmoid_300_0.01_0.1_False_model_dict.ckpt', 'obj/UserBiasAE_Sigmoid_300_0.01_1_False_model_dict.ckpt', 'obj/UserBiasAE_Sigmoid_300_0.01_100_False_model_dict.ckpt']\n"
     ]
    }
   ],
   "source": [
    "should_train = True\n",
    "model_paths = []\n",
    "with torch.autograd.set_detect_anomaly(True):\n",
    "    if should_train:\n",
    "        for model_class in models:\n",
    "            for lr in lrs:\n",
    "                for latent in latent_dims:\n",
    "                    for activation in activations:\n",
    "                        for λ in lambdas:\n",
    "                            model = model_class(number_of_items=number_of_items,\n",
    "                                                num_of_users=number_of_users,\n",
    "                                                hidden_size=latent,\n",
    "                                                activation_function_1=activation,\n",
    "                                                activation_function_2=activation,\n",
    "                                                loss=nn.MSELoss(reduction='none'),\n",
    "                                                λ=λ,\n",
    "                                                lr=lr)\n",
    "                            # training\n",
    "                            trainer = pl.Trainer(gpus=0, max_epochs=10)\n",
    "                            try:\n",
    "                                if type(model).__name__ == \"MF\":\n",
    "                                    trainer.fit(model,mf_train_loader, mf_val_loader)\n",
    "                                else:\n",
    "                                    trainer.fit(model,train_loader, val_loader)\n",
    "\n",
    "                                model_path = save_model(model_class=model_class,\n",
    "                                           trainer=trainer,\n",
    "                                           activation=activation,\n",
    "                                           hidden_size=latent,\n",
    "                                           lr=lr,\n",
    "                                           λ=λ,\n",
    "                                           is_default_dataset=is_default_dataset)\n",
    "                                model_paths.append(model_path)\n",
    "                            except:\n",
    "                                pass\n",
    "        #                 break\n",
    "        #             break\n",
    "        #         break\n",
    "        #     break\n",
    "        # break\n",
    "print(model_paths)"
   ],
   "metadata": {
    "collapsed": false,
    "pycharm": {
     "name": "#%%\n"
    }
   }
  },
  {
   "cell_type": "code",
   "execution_count": 33,
   "outputs": [
    {
     "name": "stdout",
     "output_type": "stream",
     "text": [
      "AutoRecBase(\n",
      "  (encoder): Linear(in_features=2876, out_features=10, bias=True)\n",
      "  (act_1): PReLU(num_parameters=1)\n",
      "  (decoder): Linear(in_features=10, out_features=2876, bias=True)\n",
      "  (act_2): PReLU(num_parameters=1)\n",
      "  (loss_func): MSELoss()\n",
      ")\n",
      "Epoch 0:   0%|          | 0/82 [24:00<?, ?it/s]\n",
      "Epoch 0:   0%|          | 0/82 [14:31<?, ?it/s]\n",
      "AutoRecBase(\n",
      "  (encoder): Linear(in_features=2876, out_features=10, bias=True)\n",
      "  (act_1): PReLU(num_parameters=1)\n",
      "  (decoder): Linear(in_features=10, out_features=2876, bias=True)\n",
      "  (act_2): PReLU(num_parameters=1)\n",
      "  (loss_func): MSELoss()\n",
      ")\n",
      "AutoRecBase(\n",
      "  (encoder): Linear(in_features=2876, out_features=10, bias=True)\n",
      "  (act_1): PReLU(num_parameters=1)\n",
      "  (decoder): Linear(in_features=10, out_features=2876, bias=True)\n",
      "  (act_2): PReLU(num_parameters=1)\n",
      "  (loss_func): MSELoss()\n",
      ")\n",
      "AutoRecBase(\n",
      "  (encoder): Linear(in_features=2876, out_features=10, bias=True)\n",
      "  (act_1): PReLU(num_parameters=1)\n",
      "  (decoder): Linear(in_features=10, out_features=2876, bias=True)\n",
      "  (act_2): PReLU(num_parameters=1)\n",
      "  (loss_func): MSELoss()\n",
      ")\n",
      "AutoRecBase(\n",
      "  (encoder): Linear(in_features=2876, out_features=10, bias=True)\n",
      "  (act_1): PReLU(num_parameters=1)\n",
      "  (decoder): Linear(in_features=10, out_features=2876, bias=True)\n",
      "  (act_2): PReLU(num_parameters=1)\n",
      "  (loss_func): MSELoss()\n",
      ")\n",
      "AutoRecBase(\n",
      "  (encoder): Linear(in_features=2876, out_features=10, bias=True)\n",
      "  (act_1): PReLU(num_parameters=1)\n",
      "  (decoder): Linear(in_features=10, out_features=2876, bias=True)\n",
      "  (act_2): PReLU(num_parameters=1)\n",
      "  (loss_func): MSELoss()\n",
      ")\n",
      "AutoRecBase(\n",
      "  (encoder): Linear(in_features=2876, out_features=10, bias=True)\n",
      "  (act_1): PReLU(num_parameters=1)\n",
      "  (decoder): Linear(in_features=10, out_features=2876, bias=True)\n",
      "  (act_2): PReLU(num_parameters=1)\n",
      "  (loss_func): MSELoss()\n",
      ")\n",
      "AutoRecBase(\n",
      "  (encoder): Linear(in_features=2876, out_features=10, bias=True)\n",
      "  (act_1): PReLU(num_parameters=1)\n",
      "  (decoder): Linear(in_features=10, out_features=2876, bias=True)\n",
      "  (act_2): PReLU(num_parameters=1)\n",
      "  (loss_func): MSELoss()\n",
      ")\n",
      "AutoRecBase(\n",
      "  (encoder): Linear(in_features=2876, out_features=80, bias=True)\n",
      "  (act_1): PReLU(num_parameters=1)\n",
      "  (decoder): Linear(in_features=80, out_features=2876, bias=True)\n",
      "  (act_2): PReLU(num_parameters=1)\n",
      "  (loss_func): MSELoss()\n",
      ")\n",
      "AutoRecBase(\n",
      "  (encoder): Linear(in_features=2876, out_features=80, bias=True)\n",
      "  (act_1): PReLU(num_parameters=1)\n",
      "  (decoder): Linear(in_features=80, out_features=2876, bias=True)\n",
      "  (act_2): PReLU(num_parameters=1)\n",
      "  (loss_func): MSELoss()\n",
      ")\n",
      "AutoRecBase(\n",
      "  (encoder): Linear(in_features=2876, out_features=80, bias=True)\n",
      "  (act_1): PReLU(num_parameters=1)\n",
      "  (decoder): Linear(in_features=80, out_features=2876, bias=True)\n",
      "  (act_2): PReLU(num_parameters=1)\n",
      "  (loss_func): MSELoss()\n",
      ")\n",
      "AutoRecBase(\n",
      "  (encoder): Linear(in_features=2876, out_features=80, bias=True)\n",
      "  (act_1): PReLU(num_parameters=1)\n",
      "  (decoder): Linear(in_features=80, out_features=2876, bias=True)\n",
      "  (act_2): PReLU(num_parameters=1)\n",
      "  (loss_func): MSELoss()\n",
      ")\n",
      "AutoRecBase(\n",
      "  (encoder): Linear(in_features=2876, out_features=80, bias=True)\n",
      "  (act_1): PReLU(num_parameters=1)\n",
      "  (decoder): Linear(in_features=80, out_features=2876, bias=True)\n",
      "  (act_2): PReLU(num_parameters=1)\n",
      "  (loss_func): MSELoss()\n",
      ")\n",
      "AutoRecBase(\n",
      "  (encoder): Linear(in_features=2876, out_features=80, bias=True)\n",
      "  (act_1): PReLU(num_parameters=1)\n",
      "  (decoder): Linear(in_features=80, out_features=2876, bias=True)\n",
      "  (act_2): PReLU(num_parameters=1)\n",
      "  (loss_func): MSELoss()\n",
      ")\n",
      "AutoRecBase(\n",
      "  (encoder): Linear(in_features=2876, out_features=80, bias=True)\n",
      "  (act_1): PReLU(num_parameters=1)\n",
      "  (decoder): Linear(in_features=80, out_features=2876, bias=True)\n",
      "  (act_2): PReLU(num_parameters=1)\n",
      "  (loss_func): MSELoss()\n",
      ")\n",
      "AutoRecBase(\n",
      "  (encoder): Linear(in_features=2876, out_features=80, bias=True)\n",
      "  (act_1): PReLU(num_parameters=1)\n",
      "  (decoder): Linear(in_features=80, out_features=2876, bias=True)\n",
      "  (act_2): PReLU(num_parameters=1)\n",
      "  (loss_func): MSELoss()\n",
      ")\n",
      "AutoRecBase(\n",
      "  (encoder): Linear(in_features=2876, out_features=300, bias=True)\n",
      "  (act_1): PReLU(num_parameters=1)\n",
      "  (decoder): Linear(in_features=300, out_features=2876, bias=True)\n",
      "  (act_2): PReLU(num_parameters=1)\n",
      "  (loss_func): MSELoss()\n",
      ")\n",
      "AutoRecBase(\n",
      "  (encoder): Linear(in_features=2876, out_features=300, bias=True)\n",
      "  (act_1): PReLU(num_parameters=1)\n",
      "  (decoder): Linear(in_features=300, out_features=2876, bias=True)\n",
      "  (act_2): PReLU(num_parameters=1)\n",
      "  (loss_func): MSELoss()\n",
      ")\n",
      "AutoRecBase(\n",
      "  (encoder): Linear(in_features=2876, out_features=300, bias=True)\n",
      "  (act_1): PReLU(num_parameters=1)\n",
      "  (decoder): Linear(in_features=300, out_features=2876, bias=True)\n",
      "  (act_2): PReLU(num_parameters=1)\n",
      "  (loss_func): MSELoss()\n",
      ")\n",
      "AutoRecBase(\n",
      "  (encoder): Linear(in_features=2876, out_features=300, bias=True)\n",
      "  (act_1): PReLU(num_parameters=1)\n",
      "  (decoder): Linear(in_features=300, out_features=2876, bias=True)\n",
      "  (act_2): PReLU(num_parameters=1)\n",
      "  (loss_func): MSELoss()\n",
      ")\n",
      "AutoRecBase(\n",
      "  (encoder): Linear(in_features=2876, out_features=300, bias=True)\n",
      "  (act_1): PReLU(num_parameters=1)\n",
      "  (decoder): Linear(in_features=300, out_features=2876, bias=True)\n",
      "  (act_2): PReLU(num_parameters=1)\n",
      "  (loss_func): MSELoss()\n",
      ")\n",
      "AutoRecBase(\n",
      "  (encoder): Linear(in_features=2876, out_features=300, bias=True)\n",
      "  (act_1): PReLU(num_parameters=1)\n",
      "  (decoder): Linear(in_features=300, out_features=2876, bias=True)\n",
      "  (act_2): PReLU(num_parameters=1)\n",
      "  (loss_func): MSELoss()\n",
      ")\n",
      "AutoRecBase(\n",
      "  (encoder): Linear(in_features=2876, out_features=300, bias=True)\n",
      "  (act_1): PReLU(num_parameters=1)\n",
      "  (decoder): Linear(in_features=300, out_features=2876, bias=True)\n",
      "  (act_2): PReLU(num_parameters=1)\n",
      "  (loss_func): MSELoss()\n",
      ")\n",
      "AutoRecBase(\n",
      "  (encoder): Linear(in_features=2876, out_features=300, bias=True)\n",
      "  (act_1): PReLU(num_parameters=1)\n",
      "  (decoder): Linear(in_features=300, out_features=2876, bias=True)\n",
      "  (act_2): PReLU(num_parameters=1)\n",
      "  (loss_func): MSELoss()\n",
      ")\n",
      "AutoRecBase(\n",
      "  (encoder): Linear(in_features=2876, out_features=10, bias=True)\n",
      "  (act_1): PReLU(num_parameters=1)\n",
      "  (decoder): Linear(in_features=10, out_features=2876, bias=True)\n",
      "  (act_2): PReLU(num_parameters=1)\n",
      "  (loss_func): MSELoss()\n",
      ")\n",
      "AutoRecBase(\n",
      "  (encoder): Linear(in_features=2876, out_features=10, bias=True)\n",
      "  (act_1): PReLU(num_parameters=1)\n",
      "  (decoder): Linear(in_features=10, out_features=2876, bias=True)\n",
      "  (act_2): PReLU(num_parameters=1)\n",
      "  (loss_func): MSELoss()\n",
      ")\n",
      "AutoRecBase(\n",
      "  (encoder): Linear(in_features=2876, out_features=10, bias=True)\n",
      "  (act_1): PReLU(num_parameters=1)\n",
      "  (decoder): Linear(in_features=10, out_features=2876, bias=True)\n",
      "  (act_2): PReLU(num_parameters=1)\n",
      "  (loss_func): MSELoss()\n",
      ")\n",
      "AutoRecBase(\n",
      "  (encoder): Linear(in_features=2876, out_features=10, bias=True)\n",
      "  (act_1): PReLU(num_parameters=1)\n",
      "  (decoder): Linear(in_features=10, out_features=2876, bias=True)\n",
      "  (act_2): PReLU(num_parameters=1)\n",
      "  (loss_func): MSELoss()\n",
      ")\n",
      "AutoRecBase(\n",
      "  (encoder): Linear(in_features=2876, out_features=10, bias=True)\n",
      "  (act_1): PReLU(num_parameters=1)\n",
      "  (decoder): Linear(in_features=10, out_features=2876, bias=True)\n",
      "  (act_2): PReLU(num_parameters=1)\n",
      "  (loss_func): MSELoss()\n",
      ")\n",
      "AutoRecBase(\n",
      "  (encoder): Linear(in_features=2876, out_features=10, bias=True)\n",
      "  (act_1): PReLU(num_parameters=1)\n",
      "  (decoder): Linear(in_features=10, out_features=2876, bias=True)\n",
      "  (act_2): PReLU(num_parameters=1)\n",
      "  (loss_func): MSELoss()\n",
      ")\n",
      "AutoRecBase(\n",
      "  (encoder): Linear(in_features=2876, out_features=10, bias=True)\n",
      "  (act_1): PReLU(num_parameters=1)\n",
      "  (decoder): Linear(in_features=10, out_features=2876, bias=True)\n",
      "  (act_2): PReLU(num_parameters=1)\n",
      "  (loss_func): MSELoss()\n",
      ")\n",
      "AutoRecBase(\n",
      "  (encoder): Linear(in_features=2876, out_features=10, bias=True)\n",
      "  (act_1): PReLU(num_parameters=1)\n",
      "  (decoder): Linear(in_features=10, out_features=2876, bias=True)\n",
      "  (act_2): PReLU(num_parameters=1)\n",
      "  (loss_func): MSELoss()\n",
      ")\n",
      "AutoRecBase(\n",
      "  (encoder): Linear(in_features=2876, out_features=80, bias=True)\n",
      "  (act_1): PReLU(num_parameters=1)\n",
      "  (decoder): Linear(in_features=80, out_features=2876, bias=True)\n",
      "  (act_2): PReLU(num_parameters=1)\n",
      "  (loss_func): MSELoss()\n",
      ")\n",
      "AutoRecBase(\n",
      "  (encoder): Linear(in_features=2876, out_features=80, bias=True)\n",
      "  (act_1): PReLU(num_parameters=1)\n",
      "  (decoder): Linear(in_features=80, out_features=2876, bias=True)\n",
      "  (act_2): PReLU(num_parameters=1)\n",
      "  (loss_func): MSELoss()\n",
      ")\n",
      "AutoRecBase(\n",
      "  (encoder): Linear(in_features=2876, out_features=80, bias=True)\n",
      "  (act_1): PReLU(num_parameters=1)\n",
      "  (decoder): Linear(in_features=80, out_features=2876, bias=True)\n",
      "  (act_2): PReLU(num_parameters=1)\n",
      "  (loss_func): MSELoss()\n",
      ")\n",
      "AutoRecBase(\n",
      "  (encoder): Linear(in_features=2876, out_features=80, bias=True)\n",
      "  (act_1): PReLU(num_parameters=1)\n",
      "  (decoder): Linear(in_features=80, out_features=2876, bias=True)\n",
      "  (act_2): PReLU(num_parameters=1)\n",
      "  (loss_func): MSELoss()\n",
      ")\n",
      "AutoRecBase(\n",
      "  (encoder): Linear(in_features=2876, out_features=80, bias=True)\n",
      "  (act_1): PReLU(num_parameters=1)\n",
      "  (decoder): Linear(in_features=80, out_features=2876, bias=True)\n",
      "  (act_2): PReLU(num_parameters=1)\n",
      "  (loss_func): MSELoss()\n",
      ")\n",
      "AutoRecBase(\n",
      "  (encoder): Linear(in_features=2876, out_features=80, bias=True)\n",
      "  (act_1): PReLU(num_parameters=1)\n",
      "  (decoder): Linear(in_features=80, out_features=2876, bias=True)\n",
      "  (act_2): PReLU(num_parameters=1)\n",
      "  (loss_func): MSELoss()\n",
      ")\n",
      "AutoRecBase(\n",
      "  (encoder): Linear(in_features=2876, out_features=80, bias=True)\n",
      "  (act_1): PReLU(num_parameters=1)\n",
      "  (decoder): Linear(in_features=80, out_features=2876, bias=True)\n",
      "  (act_2): PReLU(num_parameters=1)\n",
      "  (loss_func): MSELoss()\n",
      ")\n",
      "AutoRecBase(\n",
      "  (encoder): Linear(in_features=2876, out_features=80, bias=True)\n",
      "  (act_1): PReLU(num_parameters=1)\n",
      "  (decoder): Linear(in_features=80, out_features=2876, bias=True)\n",
      "  (act_2): PReLU(num_parameters=1)\n",
      "  (loss_func): MSELoss()\n",
      ")\n",
      "AutoRecBase(\n",
      "  (encoder): Linear(in_features=2876, out_features=300, bias=True)\n",
      "  (act_1): PReLU(num_parameters=1)\n",
      "  (decoder): Linear(in_features=300, out_features=2876, bias=True)\n",
      "  (act_2): PReLU(num_parameters=1)\n",
      "  (loss_func): MSELoss()\n",
      ")\n",
      "AutoRecBase(\n",
      "  (encoder): Linear(in_features=2876, out_features=300, bias=True)\n",
      "  (act_1): PReLU(num_parameters=1)\n",
      "  (decoder): Linear(in_features=300, out_features=2876, bias=True)\n",
      "  (act_2): PReLU(num_parameters=1)\n",
      "  (loss_func): MSELoss()\n",
      ")\n",
      "AutoRecBase(\n",
      "  (encoder): Linear(in_features=2876, out_features=300, bias=True)\n",
      "  (act_1): PReLU(num_parameters=1)\n",
      "  (decoder): Linear(in_features=300, out_features=2876, bias=True)\n",
      "  (act_2): PReLU(num_parameters=1)\n",
      "  (loss_func): MSELoss()\n",
      ")\n",
      "AutoRecBase(\n",
      "  (encoder): Linear(in_features=2876, out_features=300, bias=True)\n",
      "  (act_1): PReLU(num_parameters=1)\n",
      "  (decoder): Linear(in_features=300, out_features=2876, bias=True)\n",
      "  (act_2): PReLU(num_parameters=1)\n",
      "  (loss_func): MSELoss()\n",
      ")\n",
      "AutoRecBase(\n",
      "  (encoder): Linear(in_features=2876, out_features=300, bias=True)\n",
      "  (act_1): PReLU(num_parameters=1)\n",
      "  (decoder): Linear(in_features=300, out_features=2876, bias=True)\n",
      "  (act_2): PReLU(num_parameters=1)\n",
      "  (loss_func): MSELoss()\n",
      ")\n",
      "AutoRecBase(\n",
      "  (encoder): Linear(in_features=2876, out_features=300, bias=True)\n",
      "  (act_1): PReLU(num_parameters=1)\n",
      "  (decoder): Linear(in_features=300, out_features=2876, bias=True)\n",
      "  (act_2): PReLU(num_parameters=1)\n",
      "  (loss_func): MSELoss()\n",
      ")\n",
      "AutoRecBase(\n",
      "  (encoder): Linear(in_features=2876, out_features=300, bias=True)\n",
      "  (act_1): PReLU(num_parameters=1)\n",
      "  (decoder): Linear(in_features=300, out_features=2876, bias=True)\n",
      "  (act_2): PReLU(num_parameters=1)\n",
      "  (loss_func): MSELoss()\n",
      ")\n",
      "AutoRecBase(\n",
      "  (encoder): Linear(in_features=2876, out_features=300, bias=True)\n",
      "  (act_1): PReLU(num_parameters=1)\n",
      "  (decoder): Linear(in_features=300, out_features=2876, bias=True)\n",
      "  (act_2): PReLU(num_parameters=1)\n",
      "  (loss_func): MSELoss()\n",
      ")\n",
      "AutoRecBase(\n",
      "  (encoder): Linear(in_features=2876, out_features=10, bias=True)\n",
      "  (act_1): PReLU(num_parameters=1)\n",
      "  (decoder): Linear(in_features=10, out_features=2876, bias=True)\n",
      "  (act_2): PReLU(num_parameters=1)\n",
      "  (loss_func): MSELoss()\n",
      ")\n",
      "AutoRecBase(\n",
      "  (encoder): Linear(in_features=2876, out_features=10, bias=True)\n",
      "  (act_1): PReLU(num_parameters=1)\n",
      "  (decoder): Linear(in_features=10, out_features=2876, bias=True)\n",
      "  (act_2): PReLU(num_parameters=1)\n",
      "  (loss_func): MSELoss()\n",
      ")\n",
      "AutoRecBase(\n",
      "  (encoder): Linear(in_features=2876, out_features=10, bias=True)\n",
      "  (act_1): PReLU(num_parameters=1)\n",
      "  (decoder): Linear(in_features=10, out_features=2876, bias=True)\n",
      "  (act_2): PReLU(num_parameters=1)\n",
      "  (loss_func): MSELoss()\n",
      ")\n",
      "AutoRecBase(\n",
      "  (encoder): Linear(in_features=2876, out_features=10, bias=True)\n",
      "  (act_1): PReLU(num_parameters=1)\n",
      "  (decoder): Linear(in_features=10, out_features=2876, bias=True)\n",
      "  (act_2): PReLU(num_parameters=1)\n",
      "  (loss_func): MSELoss()\n",
      ")\n",
      "AutoRecBase(\n",
      "  (encoder): Linear(in_features=2876, out_features=10, bias=True)\n",
      "  (act_1): PReLU(num_parameters=1)\n",
      "  (decoder): Linear(in_features=10, out_features=2876, bias=True)\n",
      "  (act_2): PReLU(num_parameters=1)\n",
      "  (loss_func): MSELoss()\n",
      ")\n",
      "AutoRecBase(\n",
      "  (encoder): Linear(in_features=2876, out_features=10, bias=True)\n",
      "  (act_1): PReLU(num_parameters=1)\n",
      "  (decoder): Linear(in_features=10, out_features=2876, bias=True)\n",
      "  (act_2): PReLU(num_parameters=1)\n",
      "  (loss_func): MSELoss()\n",
      ")\n",
      "AutoRecBase(\n",
      "  (encoder): Linear(in_features=2876, out_features=10, bias=True)\n",
      "  (act_1): PReLU(num_parameters=1)\n",
      "  (decoder): Linear(in_features=10, out_features=2876, bias=True)\n",
      "  (act_2): PReLU(num_parameters=1)\n",
      "  (loss_func): MSELoss()\n",
      ")\n",
      "AutoRecBase(\n",
      "  (encoder): Linear(in_features=2876, out_features=10, bias=True)\n",
      "  (act_1): PReLU(num_parameters=1)\n",
      "  (decoder): Linear(in_features=10, out_features=2876, bias=True)\n",
      "  (act_2): PReLU(num_parameters=1)\n",
      "  (loss_func): MSELoss()\n",
      ")\n",
      "AutoRecBase(\n",
      "  (encoder): Linear(in_features=2876, out_features=80, bias=True)\n",
      "  (act_1): PReLU(num_parameters=1)\n",
      "  (decoder): Linear(in_features=80, out_features=2876, bias=True)\n",
      "  (act_2): PReLU(num_parameters=1)\n",
      "  (loss_func): MSELoss()\n",
      ")\n",
      "AutoRecBase(\n",
      "  (encoder): Linear(in_features=2876, out_features=80, bias=True)\n",
      "  (act_1): PReLU(num_parameters=1)\n",
      "  (decoder): Linear(in_features=80, out_features=2876, bias=True)\n",
      "  (act_2): PReLU(num_parameters=1)\n",
      "  (loss_func): MSELoss()\n",
      ")\n",
      "AutoRecBase(\n",
      "  (encoder): Linear(in_features=2876, out_features=80, bias=True)\n",
      "  (act_1): PReLU(num_parameters=1)\n",
      "  (decoder): Linear(in_features=80, out_features=2876, bias=True)\n",
      "  (act_2): PReLU(num_parameters=1)\n",
      "  (loss_func): MSELoss()\n",
      ")\n",
      "AutoRecBase(\n",
      "  (encoder): Linear(in_features=2876, out_features=80, bias=True)\n",
      "  (act_1): PReLU(num_parameters=1)\n",
      "  (decoder): Linear(in_features=80, out_features=2876, bias=True)\n",
      "  (act_2): PReLU(num_parameters=1)\n",
      "  (loss_func): MSELoss()\n",
      ")\n",
      "AutoRecBase(\n",
      "  (encoder): Linear(in_features=2876, out_features=80, bias=True)\n",
      "  (act_1): PReLU(num_parameters=1)\n",
      "  (decoder): Linear(in_features=80, out_features=2876, bias=True)\n",
      "  (act_2): PReLU(num_parameters=1)\n",
      "  (loss_func): MSELoss()\n",
      ")\n",
      "AutoRecBase(\n",
      "  (encoder): Linear(in_features=2876, out_features=80, bias=True)\n",
      "  (act_1): PReLU(num_parameters=1)\n",
      "  (decoder): Linear(in_features=80, out_features=2876, bias=True)\n",
      "  (act_2): PReLU(num_parameters=1)\n",
      "  (loss_func): MSELoss()\n",
      ")\n",
      "AutoRecBase(\n",
      "  (encoder): Linear(in_features=2876, out_features=80, bias=True)\n",
      "  (act_1): PReLU(num_parameters=1)\n",
      "  (decoder): Linear(in_features=80, out_features=2876, bias=True)\n",
      "  (act_2): PReLU(num_parameters=1)\n",
      "  (loss_func): MSELoss()\n",
      ")\n",
      "AutoRecBase(\n",
      "  (encoder): Linear(in_features=2876, out_features=80, bias=True)\n",
      "  (act_1): PReLU(num_parameters=1)\n",
      "  (decoder): Linear(in_features=80, out_features=2876, bias=True)\n",
      "  (act_2): PReLU(num_parameters=1)\n",
      "  (loss_func): MSELoss()\n",
      ")\n",
      "AutoRecBase(\n",
      "  (encoder): Linear(in_features=2876, out_features=300, bias=True)\n",
      "  (act_1): PReLU(num_parameters=1)\n",
      "  (decoder): Linear(in_features=300, out_features=2876, bias=True)\n",
      "  (act_2): PReLU(num_parameters=1)\n",
      "  (loss_func): MSELoss()\n",
      ")\n",
      "AutoRecBase(\n",
      "  (encoder): Linear(in_features=2876, out_features=300, bias=True)\n",
      "  (act_1): PReLU(num_parameters=1)\n",
      "  (decoder): Linear(in_features=300, out_features=2876, bias=True)\n",
      "  (act_2): PReLU(num_parameters=1)\n",
      "  (loss_func): MSELoss()\n",
      ")\n",
      "AutoRecBase(\n",
      "  (encoder): Linear(in_features=2876, out_features=300, bias=True)\n",
      "  (act_1): PReLU(num_parameters=1)\n",
      "  (decoder): Linear(in_features=300, out_features=2876, bias=True)\n",
      "  (act_2): PReLU(num_parameters=1)\n",
      "  (loss_func): MSELoss()\n",
      ")\n",
      "AutoRecBase(\n",
      "  (encoder): Linear(in_features=2876, out_features=300, bias=True)\n",
      "  (act_1): PReLU(num_parameters=1)\n",
      "  (decoder): Linear(in_features=300, out_features=2876, bias=True)\n",
      "  (act_2): PReLU(num_parameters=1)\n",
      "  (loss_func): MSELoss()\n",
      ")\n",
      "AutoRecBase(\n",
      "  (encoder): Linear(in_features=2876, out_features=300, bias=True)\n",
      "  (act_1): PReLU(num_parameters=1)\n",
      "  (decoder): Linear(in_features=300, out_features=2876, bias=True)\n",
      "  (act_2): PReLU(num_parameters=1)\n",
      "  (loss_func): MSELoss()\n",
      ")\n",
      "AutoRecBase(\n",
      "  (encoder): Linear(in_features=2876, out_features=300, bias=True)\n",
      "  (act_1): PReLU(num_parameters=1)\n",
      "  (decoder): Linear(in_features=300, out_features=2876, bias=True)\n",
      "  (act_2): PReLU(num_parameters=1)\n",
      "  (loss_func): MSELoss()\n",
      ")\n",
      "AutoRecBase(\n",
      "  (encoder): Linear(in_features=2876, out_features=300, bias=True)\n",
      "  (act_1): PReLU(num_parameters=1)\n",
      "  (decoder): Linear(in_features=300, out_features=2876, bias=True)\n",
      "  (act_2): PReLU(num_parameters=1)\n",
      "  (loss_func): MSELoss()\n",
      ")\n",
      "AutoRecBase(\n",
      "  (encoder): Linear(in_features=2876, out_features=300, bias=True)\n",
      "  (act_1): PReLU(num_parameters=1)\n",
      "  (decoder): Linear(in_features=300, out_features=2876, bias=True)\n",
      "  (act_2): PReLU(num_parameters=1)\n",
      "  (loss_func): MSELoss()\n",
      ")\n",
      "[Errno 2] No such file or directory: '/home/ido/data/idc/Recommender Systems/AutoRec/obj/AutoRecBase_Sigmoid_10_0.001_0.01_False_model_dict.ckpt'\n",
      "[Errno 2] No such file or directory: '/home/ido/data/idc/Recommender Systems/AutoRec/obj/AutoRecBase_Sigmoid_10_0.001_0.1_False_model_dict.ckpt'\n",
      "[Errno 2] No such file or directory: '/home/ido/data/idc/Recommender Systems/AutoRec/obj/AutoRecBase_Sigmoid_10_0.001_1_False_model_dict.ckpt'\n",
      "[Errno 2] No such file or directory: '/home/ido/data/idc/Recommender Systems/AutoRec/obj/AutoRecBase_Sigmoid_10_0.001_100_False_model_dict.ckpt'\n",
      "[Errno 2] No such file or directory: '/home/ido/data/idc/Recommender Systems/AutoRec/obj/AutoRecBase_Sigmoid_80_0.001_0.01_False_model_dict.ckpt'\n",
      "[Errno 2] No such file or directory: '/home/ido/data/idc/Recommender Systems/AutoRec/obj/AutoRecBase_Sigmoid_80_0.001_0.1_False_model_dict.ckpt'\n",
      "[Errno 2] No such file or directory: '/home/ido/data/idc/Recommender Systems/AutoRec/obj/AutoRecBase_Sigmoid_80_0.001_1_False_model_dict.ckpt'\n",
      "[Errno 2] No such file or directory: '/home/ido/data/idc/Recommender Systems/AutoRec/obj/AutoRecBase_Sigmoid_80_0.001_100_False_model_dict.ckpt'\n",
      "[Errno 2] No such file or directory: '/home/ido/data/idc/Recommender Systems/AutoRec/obj/AutoRecBase_Sigmoid_300_0.001_0.01_False_model_dict.ckpt'\n",
      "[Errno 2] No such file or directory: '/home/ido/data/idc/Recommender Systems/AutoRec/obj/AutoRecBase_Sigmoid_300_0.001_0.1_False_model_dict.ckpt'\n",
      "[Errno 2] No such file or directory: '/home/ido/data/idc/Recommender Systems/AutoRec/obj/AutoRecBase_Sigmoid_300_0.001_1_False_model_dict.ckpt'\n",
      "[Errno 2] No such file or directory: '/home/ido/data/idc/Recommender Systems/AutoRec/obj/AutoRecBase_Sigmoid_300_0.001_100_False_model_dict.ckpt'\n",
      "[Errno 2] No such file or directory: '/home/ido/data/idc/Recommender Systems/AutoRec/obj/AutoRecBase_Sigmoid_10_0.005_0.01_False_model_dict.ckpt'\n",
      "[Errno 2] No such file or directory: '/home/ido/data/idc/Recommender Systems/AutoRec/obj/AutoRecBase_Sigmoid_10_0.005_0.1_False_model_dict.ckpt'\n",
      "[Errno 2] No such file or directory: '/home/ido/data/idc/Recommender Systems/AutoRec/obj/AutoRecBase_Sigmoid_10_0.005_1_False_model_dict.ckpt'\n",
      "[Errno 2] No such file or directory: '/home/ido/data/idc/Recommender Systems/AutoRec/obj/AutoRecBase_Sigmoid_10_0.005_100_False_model_dict.ckpt'\n",
      "[Errno 2] No such file or directory: '/home/ido/data/idc/Recommender Systems/AutoRec/obj/AutoRecBase_Sigmoid_80_0.005_0.01_False_model_dict.ckpt'\n",
      "[Errno 2] No such file or directory: '/home/ido/data/idc/Recommender Systems/AutoRec/obj/AutoRecBase_Sigmoid_80_0.005_0.1_False_model_dict.ckpt'\n",
      "[Errno 2] No such file or directory: '/home/ido/data/idc/Recommender Systems/AutoRec/obj/AutoRecBase_Sigmoid_80_0.005_1_False_model_dict.ckpt'\n",
      "[Errno 2] No such file or directory: '/home/ido/data/idc/Recommender Systems/AutoRec/obj/AutoRecBase_Sigmoid_80_0.005_100_False_model_dict.ckpt'\n",
      "[Errno 2] No such file or directory: '/home/ido/data/idc/Recommender Systems/AutoRec/obj/AutoRecBase_Sigmoid_300_0.005_0.01_False_model_dict.ckpt'\n",
      "[Errno 2] No such file or directory: '/home/ido/data/idc/Recommender Systems/AutoRec/obj/AutoRecBase_Sigmoid_300_0.005_0.1_False_model_dict.ckpt'\n",
      "[Errno 2] No such file or directory: '/home/ido/data/idc/Recommender Systems/AutoRec/obj/AutoRecBase_Sigmoid_300_0.005_1_False_model_dict.ckpt'\n",
      "[Errno 2] No such file or directory: '/home/ido/data/idc/Recommender Systems/AutoRec/obj/AutoRecBase_Sigmoid_300_0.005_100_False_model_dict.ckpt'\n",
      "[Errno 2] No such file or directory: '/home/ido/data/idc/Recommender Systems/AutoRec/obj/AutoRecBase_Sigmoid_10_0.01_0.01_False_model_dict.ckpt'\n",
      "[Errno 2] No such file or directory: '/home/ido/data/idc/Recommender Systems/AutoRec/obj/AutoRecBase_Sigmoid_10_0.01_0.1_False_model_dict.ckpt'\n",
      "[Errno 2] No such file or directory: '/home/ido/data/idc/Recommender Systems/AutoRec/obj/AutoRecBase_Sigmoid_10_0.01_1_False_model_dict.ckpt'\n",
      "[Errno 2] No such file or directory: '/home/ido/data/idc/Recommender Systems/AutoRec/obj/AutoRecBase_Sigmoid_10_0.01_100_False_model_dict.ckpt'\n",
      "[Errno 2] No such file or directory: '/home/ido/data/idc/Recommender Systems/AutoRec/obj/AutoRecBase_Sigmoid_80_0.01_0.01_False_model_dict.ckpt'\n",
      "[Errno 2] No such file or directory: '/home/ido/data/idc/Recommender Systems/AutoRec/obj/AutoRecBase_Sigmoid_80_0.01_0.1_False_model_dict.ckpt'\n",
      "[Errno 2] No such file or directory: '/home/ido/data/idc/Recommender Systems/AutoRec/obj/AutoRecBase_Sigmoid_80_0.01_1_False_model_dict.ckpt'\n",
      "[Errno 2] No such file or directory: '/home/ido/data/idc/Recommender Systems/AutoRec/obj/AutoRecBase_Sigmoid_80_0.01_100_False_model_dict.ckpt'\n",
      "[Errno 2] No such file or directory: '/home/ido/data/idc/Recommender Systems/AutoRec/obj/AutoRecBase_Sigmoid_300_0.01_0.01_False_model_dict.ckpt'\n",
      "[Errno 2] No such file or directory: '/home/ido/data/idc/Recommender Systems/AutoRec/obj/AutoRecBase_Sigmoid_300_0.01_0.1_False_model_dict.ckpt'\n",
      "[Errno 2] No such file or directory: '/home/ido/data/idc/Recommender Systems/AutoRec/obj/AutoRecBase_Sigmoid_300_0.01_1_False_model_dict.ckpt'\n",
      "[Errno 2] No such file or directory: '/home/ido/data/idc/Recommender Systems/AutoRec/obj/AutoRecBase_Sigmoid_300_0.01_100_False_model_dict.ckpt'\n",
      "[Errno 2] No such file or directory: '/home/ido/data/idc/Recommender Systems/AutoRec/obj/VarAutoRec_PReLU_10_0.001_0.01_False_model_dict.ckpt'\n",
      "[Errno 2] No such file or directory: '/home/ido/data/idc/Recommender Systems/AutoRec/obj/VarAutoRec_PReLU_10_0.001_0.1_False_model_dict.ckpt'\n",
      "[Errno 2] No such file or directory: '/home/ido/data/idc/Recommender Systems/AutoRec/obj/VarAutoRec_PReLU_10_0.001_1_False_model_dict.ckpt'\n",
      "[Errno 2] No such file or directory: '/home/ido/data/idc/Recommender Systems/AutoRec/obj/VarAutoRec_PReLU_10_0.001_100_False_model_dict.ckpt'\n",
      "[Errno 2] No such file or directory: '/home/ido/data/idc/Recommender Systems/AutoRec/obj/VarAutoRec_PReLU_80_0.001_0.01_False_model_dict.ckpt'\n",
      "[Errno 2] No such file or directory: '/home/ido/data/idc/Recommender Systems/AutoRec/obj/VarAutoRec_PReLU_80_0.001_0.1_False_model_dict.ckpt'\n",
      "[Errno 2] No such file or directory: '/home/ido/data/idc/Recommender Systems/AutoRec/obj/VarAutoRec_PReLU_80_0.001_1_False_model_dict.ckpt'\n",
      "[Errno 2] No such file or directory: '/home/ido/data/idc/Recommender Systems/AutoRec/obj/VarAutoRec_PReLU_80_0.001_100_False_model_dict.ckpt'\n",
      "[Errno 2] No such file or directory: '/home/ido/data/idc/Recommender Systems/AutoRec/obj/VarAutoRec_PReLU_300_0.001_0.01_False_model_dict.ckpt'\n",
      "[Errno 2] No such file or directory: '/home/ido/data/idc/Recommender Systems/AutoRec/obj/VarAutoRec_PReLU_300_0.001_0.1_False_model_dict.ckpt'\n",
      "[Errno 2] No such file or directory: '/home/ido/data/idc/Recommender Systems/AutoRec/obj/VarAutoRec_PReLU_300_0.001_1_False_model_dict.ckpt'\n",
      "[Errno 2] No such file or directory: '/home/ido/data/idc/Recommender Systems/AutoRec/obj/VarAutoRec_PReLU_300_0.001_100_False_model_dict.ckpt'\n",
      "[Errno 2] No such file or directory: '/home/ido/data/idc/Recommender Systems/AutoRec/obj/VarAutoRec_PReLU_10_0.005_0.01_False_model_dict.ckpt'\n",
      "[Errno 2] No such file or directory: '/home/ido/data/idc/Recommender Systems/AutoRec/obj/VarAutoRec_PReLU_10_0.005_0.1_False_model_dict.ckpt'\n",
      "[Errno 2] No such file or directory: '/home/ido/data/idc/Recommender Systems/AutoRec/obj/VarAutoRec_PReLU_10_0.005_1_False_model_dict.ckpt'\n",
      "[Errno 2] No such file or directory: '/home/ido/data/idc/Recommender Systems/AutoRec/obj/VarAutoRec_PReLU_10_0.005_100_False_model_dict.ckpt'\n",
      "[Errno 2] No such file or directory: '/home/ido/data/idc/Recommender Systems/AutoRec/obj/VarAutoRec_PReLU_80_0.005_0.01_False_model_dict.ckpt'\n",
      "[Errno 2] No such file or directory: '/home/ido/data/idc/Recommender Systems/AutoRec/obj/VarAutoRec_PReLU_80_0.005_0.1_False_model_dict.ckpt'\n",
      "[Errno 2] No such file or directory: '/home/ido/data/idc/Recommender Systems/AutoRec/obj/VarAutoRec_PReLU_80_0.005_1_False_model_dict.ckpt'\n",
      "[Errno 2] No such file or directory: '/home/ido/data/idc/Recommender Systems/AutoRec/obj/VarAutoRec_PReLU_80_0.005_100_False_model_dict.ckpt'\n",
      "[Errno 2] No such file or directory: '/home/ido/data/idc/Recommender Systems/AutoRec/obj/VarAutoRec_PReLU_300_0.005_0.01_False_model_dict.ckpt'\n",
      "[Errno 2] No such file or directory: '/home/ido/data/idc/Recommender Systems/AutoRec/obj/VarAutoRec_PReLU_300_0.005_0.1_False_model_dict.ckpt'\n",
      "[Errno 2] No such file or directory: '/home/ido/data/idc/Recommender Systems/AutoRec/obj/VarAutoRec_PReLU_300_0.005_1_False_model_dict.ckpt'\n",
      "[Errno 2] No such file or directory: '/home/ido/data/idc/Recommender Systems/AutoRec/obj/VarAutoRec_PReLU_300_0.005_100_False_model_dict.ckpt'\n",
      "[Errno 2] No such file or directory: '/home/ido/data/idc/Recommender Systems/AutoRec/obj/VarAutoRec_PReLU_10_0.01_0.01_False_model_dict.ckpt'\n",
      "[Errno 2] No such file or directory: '/home/ido/data/idc/Recommender Systems/AutoRec/obj/VarAutoRec_PReLU_10_0.01_0.1_False_model_dict.ckpt'\n",
      "[Errno 2] No such file or directory: '/home/ido/data/idc/Recommender Systems/AutoRec/obj/VarAutoRec_PReLU_10_0.01_1_False_model_dict.ckpt'\n",
      "[Errno 2] No such file or directory: '/home/ido/data/idc/Recommender Systems/AutoRec/obj/VarAutoRec_PReLU_10_0.01_100_False_model_dict.ckpt'\n",
      "[Errno 2] No such file or directory: '/home/ido/data/idc/Recommender Systems/AutoRec/obj/VarAutoRec_PReLU_80_0.01_0.01_False_model_dict.ckpt'\n",
      "[Errno 2] No such file or directory: '/home/ido/data/idc/Recommender Systems/AutoRec/obj/VarAutoRec_PReLU_80_0.01_0.1_False_model_dict.ckpt'\n",
      "[Errno 2] No such file or directory: '/home/ido/data/idc/Recommender Systems/AutoRec/obj/VarAutoRec_PReLU_80_0.01_1_False_model_dict.ckpt'\n",
      "[Errno 2] No such file or directory: '/home/ido/data/idc/Recommender Systems/AutoRec/obj/VarAutoRec_PReLU_80_0.01_100_False_model_dict.ckpt'\n",
      "[Errno 2] No such file or directory: '/home/ido/data/idc/Recommender Systems/AutoRec/obj/VarAutoRec_PReLU_300_0.01_0.01_False_model_dict.ckpt'\n",
      "[Errno 2] No such file or directory: '/home/ido/data/idc/Recommender Systems/AutoRec/obj/VarAutoRec_PReLU_300_0.01_0.1_False_model_dict.ckpt'\n",
      "[Errno 2] No such file or directory: '/home/ido/data/idc/Recommender Systems/AutoRec/obj/VarAutoRec_PReLU_300_0.01_1_False_model_dict.ckpt'\n",
      "[Errno 2] No such file or directory: '/home/ido/data/idc/Recommender Systems/AutoRec/obj/VarAutoRec_PReLU_300_0.01_100_False_model_dict.ckpt'\n",
      "[Errno 2] No such file or directory: '/home/ido/data/idc/Recommender Systems/AutoRec/obj/VarAutoRec_Sigmoid_10_0.001_0.01_False_model_dict.ckpt'\n",
      "[Errno 2] No such file or directory: '/home/ido/data/idc/Recommender Systems/AutoRec/obj/VarAutoRec_Sigmoid_10_0.001_0.1_False_model_dict.ckpt'\n",
      "[Errno 2] No such file or directory: '/home/ido/data/idc/Recommender Systems/AutoRec/obj/VarAutoRec_Sigmoid_10_0.001_1_False_model_dict.ckpt'\n",
      "[Errno 2] No such file or directory: '/home/ido/data/idc/Recommender Systems/AutoRec/obj/VarAutoRec_Sigmoid_10_0.001_100_False_model_dict.ckpt'\n",
      "[Errno 2] No such file or directory: '/home/ido/data/idc/Recommender Systems/AutoRec/obj/VarAutoRec_Sigmoid_80_0.001_0.01_False_model_dict.ckpt'\n",
      "[Errno 2] No such file or directory: '/home/ido/data/idc/Recommender Systems/AutoRec/obj/VarAutoRec_Sigmoid_80_0.001_0.1_False_model_dict.ckpt'\n",
      "[Errno 2] No such file or directory: '/home/ido/data/idc/Recommender Systems/AutoRec/obj/VarAutoRec_Sigmoid_80_0.001_1_False_model_dict.ckpt'\n",
      "[Errno 2] No such file or directory: '/home/ido/data/idc/Recommender Systems/AutoRec/obj/VarAutoRec_Sigmoid_80_0.001_100_False_model_dict.ckpt'\n",
      "[Errno 2] No such file or directory: '/home/ido/data/idc/Recommender Systems/AutoRec/obj/VarAutoRec_Sigmoid_300_0.001_0.01_False_model_dict.ckpt'\n",
      "[Errno 2] No such file or directory: '/home/ido/data/idc/Recommender Systems/AutoRec/obj/VarAutoRec_Sigmoid_300_0.001_0.1_False_model_dict.ckpt'\n",
      "[Errno 2] No such file or directory: '/home/ido/data/idc/Recommender Systems/AutoRec/obj/VarAutoRec_Sigmoid_300_0.001_1_False_model_dict.ckpt'\n",
      "[Errno 2] No such file or directory: '/home/ido/data/idc/Recommender Systems/AutoRec/obj/VarAutoRec_Sigmoid_300_0.001_100_False_model_dict.ckpt'\n",
      "[Errno 2] No such file or directory: '/home/ido/data/idc/Recommender Systems/AutoRec/obj/VarAutoRec_Sigmoid_10_0.005_0.01_False_model_dict.ckpt'\n",
      "[Errno 2] No such file or directory: '/home/ido/data/idc/Recommender Systems/AutoRec/obj/VarAutoRec_Sigmoid_10_0.005_0.1_False_model_dict.ckpt'\n",
      "[Errno 2] No such file or directory: '/home/ido/data/idc/Recommender Systems/AutoRec/obj/VarAutoRec_Sigmoid_10_0.005_1_False_model_dict.ckpt'\n",
      "[Errno 2] No such file or directory: '/home/ido/data/idc/Recommender Systems/AutoRec/obj/VarAutoRec_Sigmoid_10_0.005_100_False_model_dict.ckpt'\n",
      "[Errno 2] No such file or directory: '/home/ido/data/idc/Recommender Systems/AutoRec/obj/VarAutoRec_Sigmoid_80_0.005_0.01_False_model_dict.ckpt'\n",
      "[Errno 2] No such file or directory: '/home/ido/data/idc/Recommender Systems/AutoRec/obj/VarAutoRec_Sigmoid_80_0.005_0.1_False_model_dict.ckpt'\n",
      "[Errno 2] No such file or directory: '/home/ido/data/idc/Recommender Systems/AutoRec/obj/VarAutoRec_Sigmoid_80_0.005_1_False_model_dict.ckpt'\n",
      "[Errno 2] No such file or directory: '/home/ido/data/idc/Recommender Systems/AutoRec/obj/VarAutoRec_Sigmoid_80_0.005_100_False_model_dict.ckpt'\n",
      "[Errno 2] No such file or directory: '/home/ido/data/idc/Recommender Systems/AutoRec/obj/VarAutoRec_Sigmoid_300_0.005_0.01_False_model_dict.ckpt'\n",
      "[Errno 2] No such file or directory: '/home/ido/data/idc/Recommender Systems/AutoRec/obj/VarAutoRec_Sigmoid_300_0.005_0.1_False_model_dict.ckpt'\n",
      "[Errno 2] No such file or directory: '/home/ido/data/idc/Recommender Systems/AutoRec/obj/VarAutoRec_Sigmoid_300_0.005_1_False_model_dict.ckpt'\n",
      "[Errno 2] No such file or directory: '/home/ido/data/idc/Recommender Systems/AutoRec/obj/VarAutoRec_Sigmoid_300_0.005_100_False_model_dict.ckpt'\n",
      "[Errno 2] No such file or directory: '/home/ido/data/idc/Recommender Systems/AutoRec/obj/VarAutoRec_Sigmoid_10_0.01_0.01_False_model_dict.ckpt'\n",
      "[Errno 2] No such file or directory: '/home/ido/data/idc/Recommender Systems/AutoRec/obj/VarAutoRec_Sigmoid_10_0.01_0.1_False_model_dict.ckpt'\n",
      "[Errno 2] No such file or directory: '/home/ido/data/idc/Recommender Systems/AutoRec/obj/VarAutoRec_Sigmoid_10_0.01_1_False_model_dict.ckpt'\n",
      "[Errno 2] No such file or directory: '/home/ido/data/idc/Recommender Systems/AutoRec/obj/VarAutoRec_Sigmoid_10_0.01_100_False_model_dict.ckpt'\n",
      "[Errno 2] No such file or directory: '/home/ido/data/idc/Recommender Systems/AutoRec/obj/VarAutoRec_Sigmoid_80_0.01_0.01_False_model_dict.ckpt'\n",
      "[Errno 2] No such file or directory: '/home/ido/data/idc/Recommender Systems/AutoRec/obj/VarAutoRec_Sigmoid_80_0.01_0.1_False_model_dict.ckpt'\n",
      "[Errno 2] No such file or directory: '/home/ido/data/idc/Recommender Systems/AutoRec/obj/VarAutoRec_Sigmoid_80_0.01_1_False_model_dict.ckpt'\n",
      "[Errno 2] No such file or directory: '/home/ido/data/idc/Recommender Systems/AutoRec/obj/VarAutoRec_Sigmoid_80_0.01_100_False_model_dict.ckpt'\n",
      "[Errno 2] No such file or directory: '/home/ido/data/idc/Recommender Systems/AutoRec/obj/VarAutoRec_Sigmoid_300_0.01_0.01_False_model_dict.ckpt'\n",
      "[Errno 2] No such file or directory: '/home/ido/data/idc/Recommender Systems/AutoRec/obj/VarAutoRec_Sigmoid_300_0.01_0.1_False_model_dict.ckpt'\n",
      "[Errno 2] No such file or directory: '/home/ido/data/idc/Recommender Systems/AutoRec/obj/VarAutoRec_Sigmoid_300_0.01_1_False_model_dict.ckpt'\n",
      "[Errno 2] No such file or directory: '/home/ido/data/idc/Recommender Systems/AutoRec/obj/VarAutoRec_Sigmoid_300_0.01_100_False_model_dict.ckpt'\n",
      "[Errno 2] No such file or directory: '/home/ido/data/idc/Recommender Systems/AutoRec/obj/MF_PReLU_10_0.001_0.01_False_model_dict.ckpt'\n",
      "[Errno 2] No such file or directory: '/home/ido/data/idc/Recommender Systems/AutoRec/obj/MF_PReLU_10_0.001_0.1_False_model_dict.ckpt'\n",
      "[Errno 2] No such file or directory: '/home/ido/data/idc/Recommender Systems/AutoRec/obj/MF_PReLU_10_0.001_1_False_model_dict.ckpt'\n",
      "[Errno 2] No such file or directory: '/home/ido/data/idc/Recommender Systems/AutoRec/obj/MF_PReLU_10_0.001_100_False_model_dict.ckpt'\n",
      "[Errno 2] No such file or directory: '/home/ido/data/idc/Recommender Systems/AutoRec/obj/MF_PReLU_80_0.001_0.01_False_model_dict.ckpt'\n",
      "[Errno 2] No such file or directory: '/home/ido/data/idc/Recommender Systems/AutoRec/obj/MF_PReLU_80_0.001_0.1_False_model_dict.ckpt'\n",
      "[Errno 2] No such file or directory: '/home/ido/data/idc/Recommender Systems/AutoRec/obj/MF_PReLU_80_0.001_1_False_model_dict.ckpt'\n",
      "[Errno 2] No such file or directory: '/home/ido/data/idc/Recommender Systems/AutoRec/obj/MF_PReLU_80_0.001_100_False_model_dict.ckpt'\n",
      "[Errno 2] No such file or directory: '/home/ido/data/idc/Recommender Systems/AutoRec/obj/MF_PReLU_300_0.001_0.01_False_model_dict.ckpt'\n",
      "[Errno 2] No such file or directory: '/home/ido/data/idc/Recommender Systems/AutoRec/obj/MF_PReLU_300_0.001_0.1_False_model_dict.ckpt'\n",
      "[Errno 2] No such file or directory: '/home/ido/data/idc/Recommender Systems/AutoRec/obj/MF_PReLU_300_0.001_1_False_model_dict.ckpt'\n",
      "[Errno 2] No such file or directory: '/home/ido/data/idc/Recommender Systems/AutoRec/obj/MF_PReLU_300_0.001_100_False_model_dict.ckpt'\n",
      "[Errno 2] No such file or directory: '/home/ido/data/idc/Recommender Systems/AutoRec/obj/MF_PReLU_10_0.005_0.01_False_model_dict.ckpt'\n",
      "[Errno 2] No such file or directory: '/home/ido/data/idc/Recommender Systems/AutoRec/obj/MF_PReLU_10_0.005_0.1_False_model_dict.ckpt'\n",
      "[Errno 2] No such file or directory: '/home/ido/data/idc/Recommender Systems/AutoRec/obj/MF_PReLU_10_0.005_1_False_model_dict.ckpt'\n",
      "[Errno 2] No such file or directory: '/home/ido/data/idc/Recommender Systems/AutoRec/obj/MF_PReLU_10_0.005_100_False_model_dict.ckpt'\n",
      "[Errno 2] No such file or directory: '/home/ido/data/idc/Recommender Systems/AutoRec/obj/MF_PReLU_80_0.005_0.01_False_model_dict.ckpt'\n",
      "[Errno 2] No such file or directory: '/home/ido/data/idc/Recommender Systems/AutoRec/obj/MF_PReLU_80_0.005_0.1_False_model_dict.ckpt'\n",
      "[Errno 2] No such file or directory: '/home/ido/data/idc/Recommender Systems/AutoRec/obj/MF_PReLU_80_0.005_1_False_model_dict.ckpt'\n",
      "[Errno 2] No such file or directory: '/home/ido/data/idc/Recommender Systems/AutoRec/obj/MF_PReLU_80_0.005_100_False_model_dict.ckpt'\n",
      "[Errno 2] No such file or directory: '/home/ido/data/idc/Recommender Systems/AutoRec/obj/MF_PReLU_300_0.005_0.01_False_model_dict.ckpt'\n",
      "[Errno 2] No such file or directory: '/home/ido/data/idc/Recommender Systems/AutoRec/obj/MF_PReLU_300_0.005_0.1_False_model_dict.ckpt'\n",
      "[Errno 2] No such file or directory: '/home/ido/data/idc/Recommender Systems/AutoRec/obj/MF_PReLU_300_0.005_1_False_model_dict.ckpt'\n",
      "[Errno 2] No such file or directory: '/home/ido/data/idc/Recommender Systems/AutoRec/obj/MF_PReLU_300_0.005_100_False_model_dict.ckpt'\n",
      "[Errno 2] No such file or directory: '/home/ido/data/idc/Recommender Systems/AutoRec/obj/MF_PReLU_10_0.01_0.01_False_model_dict.ckpt'\n",
      "[Errno 2] No such file or directory: '/home/ido/data/idc/Recommender Systems/AutoRec/obj/MF_PReLU_10_0.01_0.1_False_model_dict.ckpt'\n",
      "[Errno 2] No such file or directory: '/home/ido/data/idc/Recommender Systems/AutoRec/obj/MF_PReLU_10_0.01_1_False_model_dict.ckpt'\n",
      "[Errno 2] No such file or directory: '/home/ido/data/idc/Recommender Systems/AutoRec/obj/MF_PReLU_10_0.01_100_False_model_dict.ckpt'\n",
      "[Errno 2] No such file or directory: '/home/ido/data/idc/Recommender Systems/AutoRec/obj/MF_PReLU_80_0.01_0.01_False_model_dict.ckpt'\n",
      "[Errno 2] No such file or directory: '/home/ido/data/idc/Recommender Systems/AutoRec/obj/MF_PReLU_80_0.01_0.1_False_model_dict.ckpt'\n",
      "[Errno 2] No such file or directory: '/home/ido/data/idc/Recommender Systems/AutoRec/obj/MF_PReLU_80_0.01_1_False_model_dict.ckpt'\n",
      "[Errno 2] No such file or directory: '/home/ido/data/idc/Recommender Systems/AutoRec/obj/MF_PReLU_80_0.01_100_False_model_dict.ckpt'\n",
      "[Errno 2] No such file or directory: '/home/ido/data/idc/Recommender Systems/AutoRec/obj/MF_PReLU_300_0.01_0.01_False_model_dict.ckpt'\n",
      "[Errno 2] No such file or directory: '/home/ido/data/idc/Recommender Systems/AutoRec/obj/MF_PReLU_300_0.01_0.1_False_model_dict.ckpt'\n",
      "[Errno 2] No such file or directory: '/home/ido/data/idc/Recommender Systems/AutoRec/obj/MF_PReLU_300_0.01_1_False_model_dict.ckpt'\n",
      "[Errno 2] No such file or directory: '/home/ido/data/idc/Recommender Systems/AutoRec/obj/MF_PReLU_300_0.01_100_False_model_dict.ckpt'\n",
      "[Errno 2] No such file or directory: '/home/ido/data/idc/Recommender Systems/AutoRec/obj/MF_Sigmoid_10_0.001_0.01_False_model_dict.ckpt'\n",
      "[Errno 2] No such file or directory: '/home/ido/data/idc/Recommender Systems/AutoRec/obj/MF_Sigmoid_10_0.001_0.1_False_model_dict.ckpt'\n",
      "[Errno 2] No such file or directory: '/home/ido/data/idc/Recommender Systems/AutoRec/obj/MF_Sigmoid_10_0.001_1_False_model_dict.ckpt'\n",
      "[Errno 2] No such file or directory: '/home/ido/data/idc/Recommender Systems/AutoRec/obj/MF_Sigmoid_10_0.001_100_False_model_dict.ckpt'\n",
      "[Errno 2] No such file or directory: '/home/ido/data/idc/Recommender Systems/AutoRec/obj/MF_Sigmoid_80_0.001_0.01_False_model_dict.ckpt'\n",
      "[Errno 2] No such file or directory: '/home/ido/data/idc/Recommender Systems/AutoRec/obj/MF_Sigmoid_80_0.001_0.1_False_model_dict.ckpt'\n",
      "[Errno 2] No such file or directory: '/home/ido/data/idc/Recommender Systems/AutoRec/obj/MF_Sigmoid_80_0.001_1_False_model_dict.ckpt'\n",
      "[Errno 2] No such file or directory: '/home/ido/data/idc/Recommender Systems/AutoRec/obj/MF_Sigmoid_80_0.001_100_False_model_dict.ckpt'\n",
      "[Errno 2] No such file or directory: '/home/ido/data/idc/Recommender Systems/AutoRec/obj/MF_Sigmoid_300_0.001_0.01_False_model_dict.ckpt'\n",
      "[Errno 2] No such file or directory: '/home/ido/data/idc/Recommender Systems/AutoRec/obj/MF_Sigmoid_300_0.001_0.1_False_model_dict.ckpt'\n",
      "[Errno 2] No such file or directory: '/home/ido/data/idc/Recommender Systems/AutoRec/obj/MF_Sigmoid_300_0.001_1_False_model_dict.ckpt'\n",
      "[Errno 2] No such file or directory: '/home/ido/data/idc/Recommender Systems/AutoRec/obj/MF_Sigmoid_300_0.001_100_False_model_dict.ckpt'\n",
      "[Errno 2] No such file or directory: '/home/ido/data/idc/Recommender Systems/AutoRec/obj/MF_Sigmoid_10_0.005_0.01_False_model_dict.ckpt'\n",
      "[Errno 2] No such file or directory: '/home/ido/data/idc/Recommender Systems/AutoRec/obj/MF_Sigmoid_10_0.005_0.1_False_model_dict.ckpt'\n",
      "[Errno 2] No such file or directory: '/home/ido/data/idc/Recommender Systems/AutoRec/obj/MF_Sigmoid_10_0.005_1_False_model_dict.ckpt'\n",
      "[Errno 2] No such file or directory: '/home/ido/data/idc/Recommender Systems/AutoRec/obj/MF_Sigmoid_10_0.005_100_False_model_dict.ckpt'\n",
      "[Errno 2] No such file or directory: '/home/ido/data/idc/Recommender Systems/AutoRec/obj/MF_Sigmoid_80_0.005_0.01_False_model_dict.ckpt'\n",
      "[Errno 2] No such file or directory: '/home/ido/data/idc/Recommender Systems/AutoRec/obj/MF_Sigmoid_80_0.005_0.1_False_model_dict.ckpt'\n",
      "[Errno 2] No such file or directory: '/home/ido/data/idc/Recommender Systems/AutoRec/obj/MF_Sigmoid_80_0.005_1_False_model_dict.ckpt'\n",
      "[Errno 2] No such file or directory: '/home/ido/data/idc/Recommender Systems/AutoRec/obj/MF_Sigmoid_80_0.005_100_False_model_dict.ckpt'\n",
      "[Errno 2] No such file or directory: '/home/ido/data/idc/Recommender Systems/AutoRec/obj/MF_Sigmoid_300_0.005_0.01_False_model_dict.ckpt'\n",
      "[Errno 2] No such file or directory: '/home/ido/data/idc/Recommender Systems/AutoRec/obj/MF_Sigmoid_300_0.005_0.1_False_model_dict.ckpt'\n",
      "[Errno 2] No such file or directory: '/home/ido/data/idc/Recommender Systems/AutoRec/obj/MF_Sigmoid_300_0.005_1_False_model_dict.ckpt'\n",
      "[Errno 2] No such file or directory: '/home/ido/data/idc/Recommender Systems/AutoRec/obj/MF_Sigmoid_300_0.005_100_False_model_dict.ckpt'\n",
      "[Errno 2] No such file or directory: '/home/ido/data/idc/Recommender Systems/AutoRec/obj/MF_Sigmoid_10_0.01_0.01_False_model_dict.ckpt'\n",
      "[Errno 2] No such file or directory: '/home/ido/data/idc/Recommender Systems/AutoRec/obj/MF_Sigmoid_10_0.01_0.1_False_model_dict.ckpt'\n",
      "[Errno 2] No such file or directory: '/home/ido/data/idc/Recommender Systems/AutoRec/obj/MF_Sigmoid_10_0.01_1_False_model_dict.ckpt'\n",
      "[Errno 2] No such file or directory: '/home/ido/data/idc/Recommender Systems/AutoRec/obj/MF_Sigmoid_10_0.01_100_False_model_dict.ckpt'\n",
      "[Errno 2] No such file or directory: '/home/ido/data/idc/Recommender Systems/AutoRec/obj/MF_Sigmoid_80_0.01_0.01_False_model_dict.ckpt'\n",
      "[Errno 2] No such file or directory: '/home/ido/data/idc/Recommender Systems/AutoRec/obj/MF_Sigmoid_80_0.01_0.1_False_model_dict.ckpt'\n",
      "[Errno 2] No such file or directory: '/home/ido/data/idc/Recommender Systems/AutoRec/obj/MF_Sigmoid_80_0.01_1_False_model_dict.ckpt'\n",
      "[Errno 2] No such file or directory: '/home/ido/data/idc/Recommender Systems/AutoRec/obj/MF_Sigmoid_80_0.01_100_False_model_dict.ckpt'\n",
      "[Errno 2] No such file or directory: '/home/ido/data/idc/Recommender Systems/AutoRec/obj/MF_Sigmoid_300_0.01_0.01_False_model_dict.ckpt'\n",
      "[Errno 2] No such file or directory: '/home/ido/data/idc/Recommender Systems/AutoRec/obj/MF_Sigmoid_300_0.01_0.1_False_model_dict.ckpt'\n",
      "[Errno 2] No such file or directory: '/home/ido/data/idc/Recommender Systems/AutoRec/obj/MF_Sigmoid_300_0.01_1_False_model_dict.ckpt'\n",
      "[Errno 2] No such file or directory: '/home/ido/data/idc/Recommender Systems/AutoRec/obj/MF_Sigmoid_300_0.01_100_False_model_dict.ckpt'\n",
      "[Errno 2] No such file or directory: '/home/ido/data/idc/Recommender Systems/AutoRec/obj/UserBiasAE_PReLU_10_0.001_0.01_False_model_dict.ckpt'\n",
      "[Errno 2] No such file or directory: '/home/ido/data/idc/Recommender Systems/AutoRec/obj/UserBiasAE_PReLU_10_0.001_0.1_False_model_dict.ckpt'\n",
      "[Errno 2] No such file or directory: '/home/ido/data/idc/Recommender Systems/AutoRec/obj/UserBiasAE_PReLU_10_0.001_1_False_model_dict.ckpt'\n",
      "[Errno 2] No such file or directory: '/home/ido/data/idc/Recommender Systems/AutoRec/obj/UserBiasAE_PReLU_10_0.001_100_False_model_dict.ckpt'\n",
      "[Errno 2] No such file or directory: '/home/ido/data/idc/Recommender Systems/AutoRec/obj/UserBiasAE_PReLU_80_0.001_0.01_False_model_dict.ckpt'\n",
      "[Errno 2] No such file or directory: '/home/ido/data/idc/Recommender Systems/AutoRec/obj/UserBiasAE_PReLU_80_0.001_0.1_False_model_dict.ckpt'\n",
      "[Errno 2] No such file or directory: '/home/ido/data/idc/Recommender Systems/AutoRec/obj/UserBiasAE_PReLU_80_0.001_1_False_model_dict.ckpt'\n",
      "[Errno 2] No such file or directory: '/home/ido/data/idc/Recommender Systems/AutoRec/obj/UserBiasAE_PReLU_80_0.001_100_False_model_dict.ckpt'\n",
      "[Errno 2] No such file or directory: '/home/ido/data/idc/Recommender Systems/AutoRec/obj/UserBiasAE_PReLU_300_0.001_0.01_False_model_dict.ckpt'\n",
      "[Errno 2] No such file or directory: '/home/ido/data/idc/Recommender Systems/AutoRec/obj/UserBiasAE_PReLU_300_0.001_0.1_False_model_dict.ckpt'\n",
      "[Errno 2] No such file or directory: '/home/ido/data/idc/Recommender Systems/AutoRec/obj/UserBiasAE_PReLU_300_0.001_1_False_model_dict.ckpt'\n",
      "[Errno 2] No such file or directory: '/home/ido/data/idc/Recommender Systems/AutoRec/obj/UserBiasAE_PReLU_300_0.001_100_False_model_dict.ckpt'\n",
      "[Errno 2] No such file or directory: '/home/ido/data/idc/Recommender Systems/AutoRec/obj/UserBiasAE_PReLU_10_0.005_0.01_False_model_dict.ckpt'\n",
      "[Errno 2] No such file or directory: '/home/ido/data/idc/Recommender Systems/AutoRec/obj/UserBiasAE_PReLU_10_0.005_0.1_False_model_dict.ckpt'\n",
      "[Errno 2] No such file or directory: '/home/ido/data/idc/Recommender Systems/AutoRec/obj/UserBiasAE_PReLU_10_0.005_1_False_model_dict.ckpt'\n",
      "[Errno 2] No such file or directory: '/home/ido/data/idc/Recommender Systems/AutoRec/obj/UserBiasAE_PReLU_10_0.005_100_False_model_dict.ckpt'\n",
      "[Errno 2] No such file or directory: '/home/ido/data/idc/Recommender Systems/AutoRec/obj/UserBiasAE_PReLU_80_0.005_0.01_False_model_dict.ckpt'\n",
      "[Errno 2] No such file or directory: '/home/ido/data/idc/Recommender Systems/AutoRec/obj/UserBiasAE_PReLU_80_0.005_0.1_False_model_dict.ckpt'\n",
      "[Errno 2] No such file or directory: '/home/ido/data/idc/Recommender Systems/AutoRec/obj/UserBiasAE_PReLU_80_0.005_1_False_model_dict.ckpt'\n",
      "[Errno 2] No such file or directory: '/home/ido/data/idc/Recommender Systems/AutoRec/obj/UserBiasAE_PReLU_80_0.005_100_False_model_dict.ckpt'\n",
      "[Errno 2] No such file or directory: '/home/ido/data/idc/Recommender Systems/AutoRec/obj/UserBiasAE_PReLU_300_0.005_0.01_False_model_dict.ckpt'\n",
      "[Errno 2] No such file or directory: '/home/ido/data/idc/Recommender Systems/AutoRec/obj/UserBiasAE_PReLU_300_0.005_0.1_False_model_dict.ckpt'\n",
      "[Errno 2] No such file or directory: '/home/ido/data/idc/Recommender Systems/AutoRec/obj/UserBiasAE_PReLU_300_0.005_1_False_model_dict.ckpt'\n",
      "[Errno 2] No such file or directory: '/home/ido/data/idc/Recommender Systems/AutoRec/obj/UserBiasAE_PReLU_300_0.005_100_False_model_dict.ckpt'\n",
      "[Errno 2] No such file or directory: '/home/ido/data/idc/Recommender Systems/AutoRec/obj/UserBiasAE_PReLU_10_0.01_0.01_False_model_dict.ckpt'\n",
      "[Errno 2] No such file or directory: '/home/ido/data/idc/Recommender Systems/AutoRec/obj/UserBiasAE_PReLU_10_0.01_0.1_False_model_dict.ckpt'\n",
      "[Errno 2] No such file or directory: '/home/ido/data/idc/Recommender Systems/AutoRec/obj/UserBiasAE_PReLU_10_0.01_1_False_model_dict.ckpt'\n",
      "[Errno 2] No such file or directory: '/home/ido/data/idc/Recommender Systems/AutoRec/obj/UserBiasAE_PReLU_10_0.01_100_False_model_dict.ckpt'\n",
      "[Errno 2] No such file or directory: '/home/ido/data/idc/Recommender Systems/AutoRec/obj/UserBiasAE_PReLU_80_0.01_0.01_False_model_dict.ckpt'\n",
      "[Errno 2] No such file or directory: '/home/ido/data/idc/Recommender Systems/AutoRec/obj/UserBiasAE_PReLU_80_0.01_0.1_False_model_dict.ckpt'\n",
      "[Errno 2] No such file or directory: '/home/ido/data/idc/Recommender Systems/AutoRec/obj/UserBiasAE_PReLU_80_0.01_1_False_model_dict.ckpt'\n",
      "[Errno 2] No such file or directory: '/home/ido/data/idc/Recommender Systems/AutoRec/obj/UserBiasAE_PReLU_80_0.01_100_False_model_dict.ckpt'\n",
      "[Errno 2] No such file or directory: '/home/ido/data/idc/Recommender Systems/AutoRec/obj/UserBiasAE_PReLU_300_0.01_0.01_False_model_dict.ckpt'\n",
      "[Errno 2] No such file or directory: '/home/ido/data/idc/Recommender Systems/AutoRec/obj/UserBiasAE_PReLU_300_0.01_0.1_False_model_dict.ckpt'\n",
      "[Errno 2] No such file or directory: '/home/ido/data/idc/Recommender Systems/AutoRec/obj/UserBiasAE_PReLU_300_0.01_1_False_model_dict.ckpt'\n",
      "[Errno 2] No such file or directory: '/home/ido/data/idc/Recommender Systems/AutoRec/obj/UserBiasAE_PReLU_300_0.01_100_False_model_dict.ckpt'\n",
      "[Errno 2] No such file or directory: '/home/ido/data/idc/Recommender Systems/AutoRec/obj/UserBiasAE_Sigmoid_10_0.001_0.01_False_model_dict.ckpt'\n",
      "[Errno 2] No such file or directory: '/home/ido/data/idc/Recommender Systems/AutoRec/obj/UserBiasAE_Sigmoid_10_0.001_0.1_False_model_dict.ckpt'\n",
      "[Errno 2] No such file or directory: '/home/ido/data/idc/Recommender Systems/AutoRec/obj/UserBiasAE_Sigmoid_10_0.001_1_False_model_dict.ckpt'\n",
      "[Errno 2] No such file or directory: '/home/ido/data/idc/Recommender Systems/AutoRec/obj/UserBiasAE_Sigmoid_10_0.001_100_False_model_dict.ckpt'\n",
      "[Errno 2] No such file or directory: '/home/ido/data/idc/Recommender Systems/AutoRec/obj/UserBiasAE_Sigmoid_80_0.001_0.01_False_model_dict.ckpt'\n",
      "[Errno 2] No such file or directory: '/home/ido/data/idc/Recommender Systems/AutoRec/obj/UserBiasAE_Sigmoid_80_0.001_0.1_False_model_dict.ckpt'\n",
      "[Errno 2] No such file or directory: '/home/ido/data/idc/Recommender Systems/AutoRec/obj/UserBiasAE_Sigmoid_80_0.001_1_False_model_dict.ckpt'\n",
      "[Errno 2] No such file or directory: '/home/ido/data/idc/Recommender Systems/AutoRec/obj/UserBiasAE_Sigmoid_80_0.001_100_False_model_dict.ckpt'\n",
      "[Errno 2] No such file or directory: '/home/ido/data/idc/Recommender Systems/AutoRec/obj/UserBiasAE_Sigmoid_300_0.001_0.01_False_model_dict.ckpt'\n",
      "[Errno 2] No such file or directory: '/home/ido/data/idc/Recommender Systems/AutoRec/obj/UserBiasAE_Sigmoid_300_0.001_0.1_False_model_dict.ckpt'\n",
      "[Errno 2] No such file or directory: '/home/ido/data/idc/Recommender Systems/AutoRec/obj/UserBiasAE_Sigmoid_300_0.001_1_False_model_dict.ckpt'\n",
      "[Errno 2] No such file or directory: '/home/ido/data/idc/Recommender Systems/AutoRec/obj/UserBiasAE_Sigmoid_300_0.001_100_False_model_dict.ckpt'\n",
      "[Errno 2] No such file or directory: '/home/ido/data/idc/Recommender Systems/AutoRec/obj/UserBiasAE_Sigmoid_10_0.005_0.01_False_model_dict.ckpt'\n",
      "[Errno 2] No such file or directory: '/home/ido/data/idc/Recommender Systems/AutoRec/obj/UserBiasAE_Sigmoid_10_0.005_0.1_False_model_dict.ckpt'\n",
      "[Errno 2] No such file or directory: '/home/ido/data/idc/Recommender Systems/AutoRec/obj/UserBiasAE_Sigmoid_10_0.005_1_False_model_dict.ckpt'\n",
      "[Errno 2] No such file or directory: '/home/ido/data/idc/Recommender Systems/AutoRec/obj/UserBiasAE_Sigmoid_10_0.005_100_False_model_dict.ckpt'\n",
      "[Errno 2] No such file or directory: '/home/ido/data/idc/Recommender Systems/AutoRec/obj/UserBiasAE_Sigmoid_80_0.005_0.01_False_model_dict.ckpt'\n",
      "[Errno 2] No such file or directory: '/home/ido/data/idc/Recommender Systems/AutoRec/obj/UserBiasAE_Sigmoid_80_0.005_0.1_False_model_dict.ckpt'\n",
      "[Errno 2] No such file or directory: '/home/ido/data/idc/Recommender Systems/AutoRec/obj/UserBiasAE_Sigmoid_80_0.005_1_False_model_dict.ckpt'\n",
      "[Errno 2] No such file or directory: '/home/ido/data/idc/Recommender Systems/AutoRec/obj/UserBiasAE_Sigmoid_80_0.005_100_False_model_dict.ckpt'\n",
      "[Errno 2] No such file or directory: '/home/ido/data/idc/Recommender Systems/AutoRec/obj/UserBiasAE_Sigmoid_300_0.005_0.01_False_model_dict.ckpt'\n",
      "[Errno 2] No such file or directory: '/home/ido/data/idc/Recommender Systems/AutoRec/obj/UserBiasAE_Sigmoid_300_0.005_0.1_False_model_dict.ckpt'\n",
      "[Errno 2] No such file or directory: '/home/ido/data/idc/Recommender Systems/AutoRec/obj/UserBiasAE_Sigmoid_300_0.005_1_False_model_dict.ckpt'\n",
      "[Errno 2] No such file or directory: '/home/ido/data/idc/Recommender Systems/AutoRec/obj/UserBiasAE_Sigmoid_300_0.005_100_False_model_dict.ckpt'\n",
      "[Errno 2] No such file or directory: '/home/ido/data/idc/Recommender Systems/AutoRec/obj/UserBiasAE_Sigmoid_10_0.01_0.01_False_model_dict.ckpt'\n",
      "[Errno 2] No such file or directory: '/home/ido/data/idc/Recommender Systems/AutoRec/obj/UserBiasAE_Sigmoid_10_0.01_0.1_False_model_dict.ckpt'\n",
      "[Errno 2] No such file or directory: '/home/ido/data/idc/Recommender Systems/AutoRec/obj/UserBiasAE_Sigmoid_10_0.01_1_False_model_dict.ckpt'\n",
      "[Errno 2] No such file or directory: '/home/ido/data/idc/Recommender Systems/AutoRec/obj/UserBiasAE_Sigmoid_10_0.01_100_False_model_dict.ckpt'\n",
      "[Errno 2] No such file or directory: '/home/ido/data/idc/Recommender Systems/AutoRec/obj/UserBiasAE_Sigmoid_80_0.01_0.01_False_model_dict.ckpt'\n",
      "[Errno 2] No such file or directory: '/home/ido/data/idc/Recommender Systems/AutoRec/obj/UserBiasAE_Sigmoid_80_0.01_0.1_False_model_dict.ckpt'\n",
      "[Errno 2] No such file or directory: '/home/ido/data/idc/Recommender Systems/AutoRec/obj/UserBiasAE_Sigmoid_80_0.01_1_False_model_dict.ckpt'\n",
      "[Errno 2] No such file or directory: '/home/ido/data/idc/Recommender Systems/AutoRec/obj/UserBiasAE_Sigmoid_80_0.01_100_False_model_dict.ckpt'\n",
      "[Errno 2] No such file or directory: '/home/ido/data/idc/Recommender Systems/AutoRec/obj/UserBiasAE_Sigmoid_300_0.01_0.01_False_model_dict.ckpt'\n",
      "[Errno 2] No such file or directory: '/home/ido/data/idc/Recommender Systems/AutoRec/obj/UserBiasAE_Sigmoid_300_0.01_0.1_False_model_dict.ckpt'\n",
      "[Errno 2] No such file or directory: '/home/ido/data/idc/Recommender Systems/AutoRec/obj/UserBiasAE_Sigmoid_300_0.01_1_False_model_dict.ckpt'\n",
      "[Errno 2] No such file or directory: '/home/ido/data/idc/Recommender Systems/AutoRec/obj/UserBiasAE_Sigmoid_300_0.01_100_False_model_dict.ckpt'\n"
     ]
    }
   ],
   "source": [
    "models_eval_dict = {}\n",
    "Ks = [5, 10]\n",
    "i = 0\n",
    "\n",
    "for model_class in models:\n",
    "    for activation in activations:\n",
    "        for lr in lrs:\n",
    "            for latent in latent_dims:\n",
    "                for λ in lambdas:\n",
    "                    try:\n",
    "                        model = load_model(model_class=model_class,\n",
    "                                           activation=activation,\n",
    "                                           hidden_size=latent,\n",
    "                                           lr=lr,\n",
    "                                           λ=λ,\n",
    "                                           is_default_dataset=is_default_dataset)\n",
    "                        for K in Ks:\n",
    "                            (hits, ndcgs, mrrs) = evaluate_model(model, test_loader=val_loader, K=K)\n",
    "                            models_eval_dict[f\"row_{i}\"] = [type(model).__name__, activation, latent, λ, lr, K, \"HR\", np.mean(hits)]\n",
    "                            models_eval_dict[f\"row_{i+1}\"] = [type(model).__name__, activation, latent, λ, lr, K, \"NDCG\",np.mean(ndcgs)]\n",
    "                            models_eval_dict[f\"row_{i+2}\"] = [type(model).__name__, activation, latent, λ, lr, K, \"MRR\",np.mean(mrrs)]\n",
    "                            i += 3\n",
    "                    except Exception as e:\n",
    "                        print(e)\n",
    "    #                     break\n",
    "    #                 break\n",
    "    #             break\n",
    "    #         break\n",
    "    #     break\n",
    "    # break"
   ],
   "metadata": {
    "collapsed": false,
    "pycharm": {
     "name": "#%%\n"
    }
   }
  },
  {
   "cell_type": "code",
   "execution_count": null,
   "outputs": [],
   "source": [],
   "metadata": {
    "collapsed": false,
    "pycharm": {
     "name": "#%%\n"
    }
   }
  },
  {
   "cell_type": "code",
   "execution_count": 42,
   "outputs": [
    {
     "data": {
      "text/plain": "               model                                   activation  latent_dim  \\\nrow_0    AutoRecBase  <class 'torch.nn.modules.activation.PReLU'>          10   \nrow_1    AutoRecBase  <class 'torch.nn.modules.activation.PReLU'>          10   \nrow_2    AutoRecBase  <class 'torch.nn.modules.activation.PReLU'>          10   \nrow_3    AutoRecBase  <class 'torch.nn.modules.activation.PReLU'>          10   \nrow_4    AutoRecBase  <class 'torch.nn.modules.activation.PReLU'>          10   \n...              ...                                          ...         ...   \nrow_211  AutoRecBase  <class 'torch.nn.modules.activation.PReLU'>         300   \nrow_212  AutoRecBase  <class 'torch.nn.modules.activation.PReLU'>         300   \nrow_213  AutoRecBase  <class 'torch.nn.modules.activation.PReLU'>         300   \nrow_214  AutoRecBase  <class 'torch.nn.modules.activation.PReLU'>         300   \nrow_215  AutoRecBase  <class 'torch.nn.modules.activation.PReLU'>         300   \n\n         lambda     lr  topk metric  score  \nrow_0      0.01  0.001     5     HR    0.0  \nrow_1      0.01  0.001     5   NDCG    0.0  \nrow_2      0.01  0.001     5    MRR    0.0  \nrow_3      0.01  0.001    10     HR    0.0  \nrow_4      0.01  0.001    10   NDCG    0.0  \n...         ...    ...   ...    ...    ...  \nrow_211  100.00  0.010     5   NDCG    0.0  \nrow_212  100.00  0.010     5    MRR    0.0  \nrow_213  100.00  0.010    10     HR    0.0  \nrow_214  100.00  0.010    10   NDCG    0.0  \nrow_215  100.00  0.010    10    MRR    0.0  \n\n[216 rows x 8 columns]",
      "text/html": "<div>\n<style scoped>\n    .dataframe tbody tr th:only-of-type {\n        vertical-align: middle;\n    }\n\n    .dataframe tbody tr th {\n        vertical-align: top;\n    }\n\n    .dataframe thead th {\n        text-align: right;\n    }\n</style>\n<table border=\"1\" class=\"dataframe\">\n  <thead>\n    <tr style=\"text-align: right;\">\n      <th></th>\n      <th>model</th>\n      <th>activation</th>\n      <th>latent_dim</th>\n      <th>lambda</th>\n      <th>lr</th>\n      <th>topk</th>\n      <th>metric</th>\n      <th>score</th>\n    </tr>\n  </thead>\n  <tbody>\n    <tr>\n      <th>row_0</th>\n      <td>AutoRecBase</td>\n      <td>&lt;class 'torch.nn.modules.activation.PReLU'&gt;</td>\n      <td>10</td>\n      <td>0.01</td>\n      <td>0.001</td>\n      <td>5</td>\n      <td>HR</td>\n      <td>0.0</td>\n    </tr>\n    <tr>\n      <th>row_1</th>\n      <td>AutoRecBase</td>\n      <td>&lt;class 'torch.nn.modules.activation.PReLU'&gt;</td>\n      <td>10</td>\n      <td>0.01</td>\n      <td>0.001</td>\n      <td>5</td>\n      <td>NDCG</td>\n      <td>0.0</td>\n    </tr>\n    <tr>\n      <th>row_2</th>\n      <td>AutoRecBase</td>\n      <td>&lt;class 'torch.nn.modules.activation.PReLU'&gt;</td>\n      <td>10</td>\n      <td>0.01</td>\n      <td>0.001</td>\n      <td>5</td>\n      <td>MRR</td>\n      <td>0.0</td>\n    </tr>\n    <tr>\n      <th>row_3</th>\n      <td>AutoRecBase</td>\n      <td>&lt;class 'torch.nn.modules.activation.PReLU'&gt;</td>\n      <td>10</td>\n      <td>0.01</td>\n      <td>0.001</td>\n      <td>10</td>\n      <td>HR</td>\n      <td>0.0</td>\n    </tr>\n    <tr>\n      <th>row_4</th>\n      <td>AutoRecBase</td>\n      <td>&lt;class 'torch.nn.modules.activation.PReLU'&gt;</td>\n      <td>10</td>\n      <td>0.01</td>\n      <td>0.001</td>\n      <td>10</td>\n      <td>NDCG</td>\n      <td>0.0</td>\n    </tr>\n    <tr>\n      <th>...</th>\n      <td>...</td>\n      <td>...</td>\n      <td>...</td>\n      <td>...</td>\n      <td>...</td>\n      <td>...</td>\n      <td>...</td>\n      <td>...</td>\n    </tr>\n    <tr>\n      <th>row_211</th>\n      <td>AutoRecBase</td>\n      <td>&lt;class 'torch.nn.modules.activation.PReLU'&gt;</td>\n      <td>300</td>\n      <td>100.00</td>\n      <td>0.010</td>\n      <td>5</td>\n      <td>NDCG</td>\n      <td>0.0</td>\n    </tr>\n    <tr>\n      <th>row_212</th>\n      <td>AutoRecBase</td>\n      <td>&lt;class 'torch.nn.modules.activation.PReLU'&gt;</td>\n      <td>300</td>\n      <td>100.00</td>\n      <td>0.010</td>\n      <td>5</td>\n      <td>MRR</td>\n      <td>0.0</td>\n    </tr>\n    <tr>\n      <th>row_213</th>\n      <td>AutoRecBase</td>\n      <td>&lt;class 'torch.nn.modules.activation.PReLU'&gt;</td>\n      <td>300</td>\n      <td>100.00</td>\n      <td>0.010</td>\n      <td>10</td>\n      <td>HR</td>\n      <td>0.0</td>\n    </tr>\n    <tr>\n      <th>row_214</th>\n      <td>AutoRecBase</td>\n      <td>&lt;class 'torch.nn.modules.activation.PReLU'&gt;</td>\n      <td>300</td>\n      <td>100.00</td>\n      <td>0.010</td>\n      <td>10</td>\n      <td>NDCG</td>\n      <td>0.0</td>\n    </tr>\n    <tr>\n      <th>row_215</th>\n      <td>AutoRecBase</td>\n      <td>&lt;class 'torch.nn.modules.activation.PReLU'&gt;</td>\n      <td>300</td>\n      <td>100.00</td>\n      <td>0.010</td>\n      <td>10</td>\n      <td>MRR</td>\n      <td>0.0</td>\n    </tr>\n  </tbody>\n</table>\n<p>216 rows × 8 columns</p>\n</div>"
     },
     "execution_count": 42,
     "metadata": {},
     "output_type": "execute_result"
    }
   ],
   "source": [
    "columns = [\"model\", \"activation\", \"latent_dim\", \"lambda\", \"lr\",\"topk\",\"metric\",\"score\"]\n",
    "eval_df = pd.DataFrame.from_dict(models_eval_dict, orient='index', columns=columns)\n",
    "eval_df.to_csv(\"obj/eval_df.csv\", sep='\\t')\n",
    "\n",
    "eval_df"
   ],
   "metadata": {
    "collapsed": false,
    "pycharm": {
     "name": "#%%\n"
    }
   }
  },
  {
   "cell_type": "code",
   "execution_count": 43,
   "outputs": [],
   "source": [
    "eval_df.to_csv(\"obj/eval_df.csv\", sep='\\t')"
   ],
   "metadata": {
    "collapsed": false,
    "pycharm": {
     "name": "#%%\n"
    }
   }
  },
  {
   "cell_type": "code",
   "execution_count": null,
   "outputs": [],
   "source": [],
   "metadata": {
    "collapsed": false,
    "pycharm": {
     "name": "#%%\n"
    }
   }
  }
 ],
 "metadata": {
  "kernelspec": {
   "display_name": "Python 3",
   "language": "python",
   "name": "python3"
  },
  "language_info": {
   "codemirror_mode": {
    "name": "ipython",
    "version": 2
   },
   "file_extension": ".py",
   "mimetype": "text/x-python",
   "name": "python",
   "nbconvert_exporter": "python",
   "pygments_lexer": "ipython2",
   "version": "2.7.6"
  }
 },
 "nbformat": 4,
 "nbformat_minor": 0
}