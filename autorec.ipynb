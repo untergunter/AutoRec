{
 "cells": [
  {
   "cell_type": "code",
   "execution_count": 1,
   "metadata": {
    "collapsed": true
   },
   "outputs": [],
   "source": [
    "# General Stuff:\n",
    "import numpy as np\n",
    "import pandas as pd\n",
    "\n",
    "# Our Stuff:\n",
    "from models.AutoRecBase import AutoRecBase\n",
    "from models.UserBiasAE import UserBiasAE\n",
    "from models.VarAutoRec import VarAutoRec\n",
    "from models.MF import MF\n",
    "\n",
    "\n",
    "from scripts.get_data import download_2_data_sets, ratings_to_train_test, ratings_to_train_test_u\n",
    "from scripts.get_2_other_data import get_2_other_datasets, secondary_to_train_test, secondary_to_train_test_u\n",
    "from utils.evaluate import evaluate_model\n",
    "from utils.loading_utils import load_model, save_model\n",
    "\n",
    "import torch\n",
    "from torch import nn\n",
    "import pytorch_lightning as pl\n",
    "\n",
    "# Visualization Stuff\n",
    "import seaborn as sns\n",
    "import matplotlib.pyplot as plt\n",
    "%matplotlib inline\n",
    "pd.set_option('display.max_colwidth', 240)\n",
    "\n",
    "device = torch.device(\"cuda:0\" if torch.cuda.is_available() else \"cpu\")\n",
    "device\n",
    "if torch.cuda.is_available():\n",
    "    print('There are %d GPU(s) available.' % torch.cuda.device_count())\n",
    "    print('We will use the GPU:', torch.cuda.get_device_name(0))"
   ]
  },
  {
   "cell_type": "markdown",
   "source": [
    "# AutoRec - AutoEncoders Meet Collaborative Filtering - PyTorch"
   ],
   "metadata": {
    "collapsed": false,
    "pycharm": {
     "name": "#%% md\n"
    }
   }
  },
  {
   "cell_type": "markdown",
   "source": [
    "<a id=\"toc\"></a>\n",
    "## Table of Content\n",
    "1. [Introduction](#introduction)\n",
    "1. [Conclusions](#conclusions)"
   ],
   "metadata": {
    "collapsed": false,
    "pycharm": {
     "name": "#%% md\n"
    }
   }
  },
  {
   "cell_type": "markdown",
   "source": [
    "<a id=\"introduction\"></a>\n",
    "\n",
    "## Introduction\n",
    "\n",
    "In this notebook we will review a collaborative filtering approach using autoencoders, as suggested by Sedhain et al, in their 2015 paper \"AutoRec: Autoencoders Meet Collaborative Filtering\".\n",
    "\n",
    "We will then introduce several improvements and asses them.\n",
    "\n",
    "[Table of content](#toc)"
   ],
   "metadata": {
    "collapsed": false,
    "pycharm": {
     "name": "#%% md\n"
    }
   }
  },
  {
   "cell_type": "code",
   "execution_count": 2,
   "outputs": [],
   "source": [
    "    is_default_dataset = True\n",
    "if is_default_dataset:\n",
    "    download_2_data_sets()\n",
    "else:\n",
    "    get_2_other_datasets()"
   ],
   "metadata": {
    "collapsed": false,
    "pycharm": {
     "name": "#%%\n"
    }
   }
  },
  {
   "cell_type": "code",
   "execution_count": 3,
   "outputs": [],
   "source": [
    "if is_default_dataset:\n",
    "    train_loader, val_loader = ratings_to_train_test(1,0, 1,10)\n",
    "    mf_train_loader, mf_val_loader =  ratings_to_train_test_u(dataset_size=1,\n",
    "                                                              validation_partition=0,\n",
    "                                                              train_partition=1,\n",
    "                                                              batch_size=10)\n",
    "else:\n",
    "    train_loader, val_loader = secondary_to_train_test(1,0, 1,10)\n",
    "    mf_train_loader, mf_val_loader =  secondary_to_train_test_u(dataset_size=1,\n",
    "                                                                validation_partition=0,\n",
    "                                                                train_partition=1,\n",
    "                                                                batch_size=10)\n"
   ],
   "metadata": {
    "collapsed": false,
    "pycharm": {
     "name": "#%%\n"
    }
   }
  },
  {
   "cell_type": "code",
   "execution_count": 4,
   "outputs": [
    {
     "data": {
      "text/plain": "Launching TensorBoard..."
     },
     "metadata": {},
     "output_type": "display_data"
    }
   ],
   "source": [
    "%reload_ext tensorboard\n",
    "%tensorboard --logdir lightning_logs"
   ],
   "metadata": {
    "collapsed": false,
    "pycharm": {
     "name": "#%%\n"
    }
   }
  },
  {
   "cell_type": "markdown",
   "source": [
    "Go to:  [TensorBoard](http://localhost:6006)"
   ],
   "metadata": {
    "collapsed": false,
    "pycharm": {
     "name": "#%% md\n"
    }
   }
  },
  {
   "cell_type": "code",
   "execution_count": 14,
   "outputs": [],
   "source": [
    "models_dict = {} # (model,ephoc,lr): loss\n",
    "models_state = {} # (model,ephoc,lr): model.state_dict()\n",
    "models = [\n",
    "    AutoRecBase,\n",
    "    UserBiasAE,\n",
    "    VarAutoRec,\n",
    "    MF\n",
    "]\n",
    "lrs = [0.001,0.005,0.01]\n",
    "activations = [nn.PReLU, nn.Sigmoid]"
   ],
   "metadata": {
    "collapsed": false,
    "pycharm": {
     "name": "#%%\n"
    }
   }
  },
  {
   "cell_type": "markdown",
   "source": [
    "Sanity check:"
   ],
   "metadata": {
    "collapsed": false,
    "pycharm": {
     "name": "#%% md\n"
    }
   }
  },
  {
   "cell_type": "code",
   "execution_count": 15,
   "outputs": [
    {
     "name": "stdout",
     "output_type": "stream",
     "text": [
      "tensor([5., 3., 3., 3., 3., 4., 3., 4., 5., 5.])\n",
      "tensor(1)\n",
      "tensor([1, 1, 1, 1, 1, 1, 1, 1, 1, 1])\n",
      "tensor([2294, 3186, 1566,  588, 1907,  783, 1836,  150,    1, 1962])\n",
      "tensor([4, 4, 4, 4, 4, 4, 5, 5, 5, 4])\n"
     ]
    }
   ],
   "source": [
    "for x, y, m in val_loader:\n",
    "    print(x[:,0])\n",
    "    break\n",
    "for x, y, m in mf_val_loader:\n",
    "    print(x[0])\n",
    "    break\n",
    "for x, y, r in mf_train_loader:\n",
    "    print(x)\n",
    "    print(y)\n",
    "    print(r)\n",
    "    break\n",
    "# model(x)[:,0]"
   ],
   "metadata": {
    "collapsed": false,
    "pycharm": {
     "name": "#%%\n"
    }
   }
  },
  {
   "cell_type": "code",
   "execution_count": 16,
   "outputs": [
    {
     "name": "stdout",
     "output_type": "stream",
     "text": [
      "Number of users: 6040\n",
      "Number of items: 3706\n"
     ]
    }
   ],
   "source": [
    "print(f\"Number of users: {len(val_loader.dataset)}\")\n",
    "print(f\"Number of items: {len(val_loader.dataset[0][1])}\")"
   ],
   "metadata": {
    "collapsed": false,
    "pycharm": {
     "name": "#%%\n"
    }
   }
  },
  {
   "cell_type": "markdown",
   "source": [
    "Datasets:"
   ],
   "metadata": {
    "collapsed": false,
    "pycharm": {
     "name": "#%% md\n"
    }
   }
  },
  {
   "cell_type": "code",
   "execution_count": 20,
   "outputs": [],
   "source": [
    "number_of_users = len(val_loader.dataset)\n",
    "number_of_items = len(val_loader.dataset[0][1])"
   ],
   "metadata": {
    "collapsed": false,
    "pycharm": {
     "name": "#%%\n"
    }
   }
  },
  {
   "cell_type": "markdown",
   "source": [
    "From the original paper:"
   ],
   "metadata": {
    "collapsed": false,
    "pycharm": {
     "name": "#%% md\n"
    }
   }
  },
  {
   "cell_type": "code",
   "execution_count": 21,
   "outputs": [],
   "source": [
    "latent_dims = [10, 80, 300]\n",
    "lambdas = [0.01, 0.1, 1, 100]"
   ],
   "metadata": {
    "collapsed": false,
    "pycharm": {
     "name": "#%%\n"
    }
   }
  },
  {
   "cell_type": "code",
   "execution_count": null,
   "outputs": [
    {
     "name": "stderr",
     "output_type": "stream",
     "text": [
      "GPU available: False, used: False\n",
      "TPU available: False, using: 0 TPU cores\n",
      "IPU available: False, using: 0 IPUs\n",
      "\n",
      "  | Name      | Type    | Params\n",
      "--------------------------------------\n",
      "0 | encoder   | Linear  | 37.1 K\n",
      "1 | act_1     | PReLU   | 1     \n",
      "2 | decoder   | Linear  | 40.8 K\n",
      "3 | act_2     | PReLU   | 1     \n",
      "4 | loss_func | MSELoss | 0     \n",
      "--------------------------------------\n",
      "77.8 K    Trainable params\n",
      "0         Non-trainable params\n",
      "77.8 K    Total params\n",
      "0.311     Total estimated model params size (MB)\n"
     ]
    },
    {
     "name": "stdout",
     "output_type": "stream",
     "text": [
      "0.01\n"
     ]
    },
    {
     "data": {
      "text/plain": "Validation sanity check: 0it [00:00, ?it/s]",
      "application/vnd.jupyter.widget-view+json": {
       "version_major": 2,
       "version_minor": 0,
       "model_id": "16c968e381304fa58390cc361aeb4e4c"
      }
     },
     "metadata": {},
     "output_type": "display_data"
    },
    {
     "data": {
      "text/plain": "Training: 0it [00:00, ?it/s]",
      "application/vnd.jupyter.widget-view+json": {
       "version_major": 2,
       "version_minor": 0,
       "model_id": "e93c6827fb414888baf1bbe6e3c232b1"
      }
     },
     "metadata": {},
     "output_type": "display_data"
    },
    {
     "data": {
      "text/plain": "Validating: 0it [00:00, ?it/s]",
      "application/vnd.jupyter.widget-view+json": {
       "version_major": 2,
       "version_minor": 0,
       "model_id": "85c66d923b9f49e39684ad040cc9408d"
      }
     },
     "metadata": {},
     "output_type": "display_data"
    },
    {
     "data": {
      "text/plain": "Validating: 0it [00:00, ?it/s]",
      "application/vnd.jupyter.widget-view+json": {
       "version_major": 2,
       "version_minor": 0,
       "model_id": "ee249f3222464e19bc08a42498208d36"
      }
     },
     "metadata": {},
     "output_type": "display_data"
    },
    {
     "data": {
      "text/plain": "Validating: 0it [00:00, ?it/s]",
      "application/vnd.jupyter.widget-view+json": {
       "version_major": 2,
       "version_minor": 0,
       "model_id": "01fdc738829c41c684d3e5c6f2433316"
      }
     },
     "metadata": {},
     "output_type": "display_data"
    },
    {
     "data": {
      "text/plain": "Validating: 0it [00:00, ?it/s]",
      "application/vnd.jupyter.widget-view+json": {
       "version_major": 2,
       "version_minor": 0,
       "model_id": "5c699face4334d8aa07702ab10b1e780"
      }
     },
     "metadata": {},
     "output_type": "display_data"
    },
    {
     "data": {
      "text/plain": "Validating: 0it [00:00, ?it/s]",
      "application/vnd.jupyter.widget-view+json": {
       "version_major": 2,
       "version_minor": 0,
       "model_id": "4332aafecfd24cd0b63b57347b868d11"
      }
     },
     "metadata": {},
     "output_type": "display_data"
    },
    {
     "data": {
      "text/plain": "Validating: 0it [00:00, ?it/s]",
      "application/vnd.jupyter.widget-view+json": {
       "version_major": 2,
       "version_minor": 0,
       "model_id": "6ad56407ce8e468ea1f008169ba91d19"
      }
     },
     "metadata": {},
     "output_type": "display_data"
    },
    {
     "data": {
      "text/plain": "Validating: 0it [00:00, ?it/s]",
      "application/vnd.jupyter.widget-view+json": {
       "version_major": 2,
       "version_minor": 0,
       "model_id": "7057cc1583c84da39630155f555a9e54"
      }
     },
     "metadata": {},
     "output_type": "display_data"
    },
    {
     "data": {
      "text/plain": "Validating: 0it [00:00, ?it/s]",
      "application/vnd.jupyter.widget-view+json": {
       "version_major": 2,
       "version_minor": 0,
       "model_id": "5a672a4c23a24f219b93ddf4b49c78d7"
      }
     },
     "metadata": {},
     "output_type": "display_data"
    },
    {
     "data": {
      "text/plain": "Validating: 0it [00:00, ?it/s]",
      "application/vnd.jupyter.widget-view+json": {
       "version_major": 2,
       "version_minor": 0,
       "model_id": "231c56f295a8441ebe59d719c3d1afa9"
      }
     },
     "metadata": {},
     "output_type": "display_data"
    },
    {
     "data": {
      "text/plain": "Validating: 0it [00:00, ?it/s]",
      "application/vnd.jupyter.widget-view+json": {
       "version_major": 2,
       "version_minor": 0,
       "model_id": "bc283ce9f9304b3493a0751a02a4fcb2"
      }
     },
     "metadata": {},
     "output_type": "display_data"
    },
    {
     "name": "stderr",
     "output_type": "stream",
     "text": [
      "GPU available: False, used: False\n",
      "TPU available: False, using: 0 TPU cores\n",
      "IPU available: False, using: 0 IPUs\n",
      "\n",
      "  | Name      | Type    | Params\n",
      "--------------------------------------\n",
      "0 | encoder   | Linear  | 37.1 K\n",
      "1 | act_1     | PReLU   | 1     \n",
      "2 | decoder   | Linear  | 40.8 K\n",
      "3 | act_2     | PReLU   | 1     \n",
      "4 | loss_func | MSELoss | 0     \n",
      "--------------------------------------\n",
      "77.8 K    Trainable params\n",
      "0         Non-trainable params\n",
      "77.8 K    Total params\n",
      "0.311     Total estimated model params size (MB)\n"
     ]
    },
    {
     "name": "stdout",
     "output_type": "stream",
     "text": [
      "0.1\n"
     ]
    },
    {
     "data": {
      "text/plain": "Validation sanity check: 0it [00:00, ?it/s]",
      "application/vnd.jupyter.widget-view+json": {
       "version_major": 2,
       "version_minor": 0,
       "model_id": "73423d12836f4891bf9250ac998b345e"
      }
     },
     "metadata": {},
     "output_type": "display_data"
    },
    {
     "data": {
      "text/plain": "Training: 0it [00:00, ?it/s]",
      "application/vnd.jupyter.widget-view+json": {
       "version_major": 2,
       "version_minor": 0,
       "model_id": "66c31e378e534015af3e98da664f7784"
      }
     },
     "metadata": {},
     "output_type": "display_data"
    },
    {
     "data": {
      "text/plain": "Validating: 0it [00:00, ?it/s]",
      "application/vnd.jupyter.widget-view+json": {
       "version_major": 2,
       "version_minor": 0,
       "model_id": "5e7013c1303145cb9fd2ea7385902e82"
      }
     },
     "metadata": {},
     "output_type": "display_data"
    },
    {
     "data": {
      "text/plain": "Validating: 0it [00:00, ?it/s]",
      "application/vnd.jupyter.widget-view+json": {
       "version_major": 2,
       "version_minor": 0,
       "model_id": "94f3ab14041641d69231c7317146f25f"
      }
     },
     "metadata": {},
     "output_type": "display_data"
    },
    {
     "data": {
      "text/plain": "Validating: 0it [00:00, ?it/s]",
      "application/vnd.jupyter.widget-view+json": {
       "version_major": 2,
       "version_minor": 0,
       "model_id": "4216b584794e4f908430ec02ab118505"
      }
     },
     "metadata": {},
     "output_type": "display_data"
    },
    {
     "data": {
      "text/plain": "Validating: 0it [00:00, ?it/s]",
      "application/vnd.jupyter.widget-view+json": {
       "version_major": 2,
       "version_minor": 0,
       "model_id": "98a3f61ed11940cbacae48d5f0cd5bc5"
      }
     },
     "metadata": {},
     "output_type": "display_data"
    },
    {
     "data": {
      "text/plain": "Validating: 0it [00:00, ?it/s]",
      "application/vnd.jupyter.widget-view+json": {
       "version_major": 2,
       "version_minor": 0,
       "model_id": "9ba1f3522c104be387b1fdc3c3d0f4ca"
      }
     },
     "metadata": {},
     "output_type": "display_data"
    },
    {
     "data": {
      "text/plain": "Validating: 0it [00:00, ?it/s]",
      "application/vnd.jupyter.widget-view+json": {
       "version_major": 2,
       "version_minor": 0,
       "model_id": "e23f0d3766484863ab4f6256887481b6"
      }
     },
     "metadata": {},
     "output_type": "display_data"
    },
    {
     "data": {
      "text/plain": "Validating: 0it [00:00, ?it/s]",
      "application/vnd.jupyter.widget-view+json": {
       "version_major": 2,
       "version_minor": 0,
       "model_id": "ad0286fac29545cd9843f20f82b6a65f"
      }
     },
     "metadata": {},
     "output_type": "display_data"
    },
    {
     "data": {
      "text/plain": "Validating: 0it [00:00, ?it/s]",
      "application/vnd.jupyter.widget-view+json": {
       "version_major": 2,
       "version_minor": 0,
       "model_id": "25ec40727e6e4376970d092d46d715b3"
      }
     },
     "metadata": {},
     "output_type": "display_data"
    },
    {
     "data": {
      "text/plain": "Validating: 0it [00:00, ?it/s]",
      "application/vnd.jupyter.widget-view+json": {
       "version_major": 2,
       "version_minor": 0,
       "model_id": "a84b3d0385434b38a8bf4802cf189f5e"
      }
     },
     "metadata": {},
     "output_type": "display_data"
    },
    {
     "data": {
      "text/plain": "Validating: 0it [00:00, ?it/s]",
      "application/vnd.jupyter.widget-view+json": {
       "version_major": 2,
       "version_minor": 0,
       "model_id": "25a97dca6dac442ea9a22c56f2a650ca"
      }
     },
     "metadata": {},
     "output_type": "display_data"
    },
    {
     "name": "stderr",
     "output_type": "stream",
     "text": [
      "GPU available: False, used: False\n",
      "TPU available: False, using: 0 TPU cores\n",
      "IPU available: False, using: 0 IPUs\n",
      "\n",
      "  | Name      | Type    | Params\n",
      "--------------------------------------\n",
      "0 | encoder   | Linear  | 37.1 K\n",
      "1 | act_1     | PReLU   | 1     \n",
      "2 | decoder   | Linear  | 40.8 K\n",
      "3 | act_2     | PReLU   | 1     \n",
      "4 | loss_func | MSELoss | 0     \n",
      "--------------------------------------\n",
      "77.8 K    Trainable params\n",
      "0         Non-trainable params\n",
      "77.8 K    Total params\n",
      "0.311     Total estimated model params size (MB)\n"
     ]
    },
    {
     "name": "stdout",
     "output_type": "stream",
     "text": [
      "1\n"
     ]
    },
    {
     "data": {
      "text/plain": "Validation sanity check: 0it [00:00, ?it/s]",
      "application/vnd.jupyter.widget-view+json": {
       "version_major": 2,
       "version_minor": 0,
       "model_id": "a37f5393d0fb409ebdb234f5e8481281"
      }
     },
     "metadata": {},
     "output_type": "display_data"
    },
    {
     "data": {
      "text/plain": "Training: 0it [00:00, ?it/s]",
      "application/vnd.jupyter.widget-view+json": {
       "version_major": 2,
       "version_minor": 0,
       "model_id": "631b78e6d80b4aee94ccd75f9e3aaad9"
      }
     },
     "metadata": {},
     "output_type": "display_data"
    },
    {
     "data": {
      "text/plain": "Validating: 0it [00:00, ?it/s]",
      "application/vnd.jupyter.widget-view+json": {
       "version_major": 2,
       "version_minor": 0,
       "model_id": "d9d63e3d62cb460ca1355ec441ff8a16"
      }
     },
     "metadata": {},
     "output_type": "display_data"
    },
    {
     "data": {
      "text/plain": "Validating: 0it [00:00, ?it/s]",
      "application/vnd.jupyter.widget-view+json": {
       "version_major": 2,
       "version_minor": 0,
       "model_id": "2e2ded6bb7854faba8df5e855ffa63db"
      }
     },
     "metadata": {},
     "output_type": "display_data"
    },
    {
     "data": {
      "text/plain": "Validating: 0it [00:00, ?it/s]",
      "application/vnd.jupyter.widget-view+json": {
       "version_major": 2,
       "version_minor": 0,
       "model_id": "9e63b7da606c465d9bf637374ce0bd47"
      }
     },
     "metadata": {},
     "output_type": "display_data"
    },
    {
     "data": {
      "text/plain": "Validating: 0it [00:00, ?it/s]",
      "application/vnd.jupyter.widget-view+json": {
       "version_major": 2,
       "version_minor": 0,
       "model_id": "7812a31fd5c74609a532074a685bb21f"
      }
     },
     "metadata": {},
     "output_type": "display_data"
    },
    {
     "data": {
      "text/plain": "Validating: 0it [00:00, ?it/s]",
      "application/vnd.jupyter.widget-view+json": {
       "version_major": 2,
       "version_minor": 0,
       "model_id": "aabd19dd0f80494f9c3f3c32d55473ac"
      }
     },
     "metadata": {},
     "output_type": "display_data"
    },
    {
     "data": {
      "text/plain": "Validating: 0it [00:00, ?it/s]",
      "application/vnd.jupyter.widget-view+json": {
       "version_major": 2,
       "version_minor": 0,
       "model_id": "8ca8e75554874a04b372144eb53bd6e6"
      }
     },
     "metadata": {},
     "output_type": "display_data"
    },
    {
     "data": {
      "text/plain": "Validating: 0it [00:00, ?it/s]",
      "application/vnd.jupyter.widget-view+json": {
       "version_major": 2,
       "version_minor": 0,
       "model_id": "f1319674d21340bca4bfb1f5a1d5d262"
      }
     },
     "metadata": {},
     "output_type": "display_data"
    },
    {
     "data": {
      "text/plain": "Validating: 0it [00:00, ?it/s]",
      "application/vnd.jupyter.widget-view+json": {
       "version_major": 2,
       "version_minor": 0,
       "model_id": "3ca504a24b004cbcbf56ab1528c65d1a"
      }
     },
     "metadata": {},
     "output_type": "display_data"
    },
    {
     "data": {
      "text/plain": "Validating: 0it [00:00, ?it/s]",
      "application/vnd.jupyter.widget-view+json": {
       "version_major": 2,
       "version_minor": 0,
       "model_id": "5babfaecc7d747bc85cbd14d2f1c7700"
      }
     },
     "metadata": {},
     "output_type": "display_data"
    },
    {
     "data": {
      "text/plain": "Validating: 0it [00:00, ?it/s]",
      "application/vnd.jupyter.widget-view+json": {
       "version_major": 2,
       "version_minor": 0,
       "model_id": "6034a03e3c9246ab92a50813d35886a8"
      }
     },
     "metadata": {},
     "output_type": "display_data"
    },
    {
     "name": "stderr",
     "output_type": "stream",
     "text": [
      "GPU available: False, used: False\n",
      "TPU available: False, using: 0 TPU cores\n",
      "IPU available: False, using: 0 IPUs\n",
      "\n",
      "  | Name      | Type    | Params\n",
      "--------------------------------------\n",
      "0 | encoder   | Linear  | 37.1 K\n",
      "1 | act_1     | PReLU   | 1     \n",
      "2 | decoder   | Linear  | 40.8 K\n",
      "3 | act_2     | PReLU   | 1     \n",
      "4 | loss_func | MSELoss | 0     \n",
      "--------------------------------------\n",
      "77.8 K    Trainable params\n",
      "0         Non-trainable params\n",
      "77.8 K    Total params\n",
      "0.311     Total estimated model params size (MB)\n"
     ]
    },
    {
     "name": "stdout",
     "output_type": "stream",
     "text": [
      "100\n"
     ]
    },
    {
     "data": {
      "text/plain": "Validation sanity check: 0it [00:00, ?it/s]",
      "application/vnd.jupyter.widget-view+json": {
       "version_major": 2,
       "version_minor": 0,
       "model_id": "0e5f3c20478543b98958309d17889ab8"
      }
     },
     "metadata": {},
     "output_type": "display_data"
    },
    {
     "data": {
      "text/plain": "Training: 0it [00:00, ?it/s]",
      "application/vnd.jupyter.widget-view+json": {
       "version_major": 2,
       "version_minor": 0,
       "model_id": "d141a37e19f444549caae1a237536570"
      }
     },
     "metadata": {},
     "output_type": "display_data"
    },
    {
     "data": {
      "text/plain": "Validating: 0it [00:00, ?it/s]",
      "application/vnd.jupyter.widget-view+json": {
       "version_major": 2,
       "version_minor": 0,
       "model_id": "04c1d474df1e4e7eaa98c97a71eed5e6"
      }
     },
     "metadata": {},
     "output_type": "display_data"
    },
    {
     "data": {
      "text/plain": "Validating: 0it [00:00, ?it/s]",
      "application/vnd.jupyter.widget-view+json": {
       "version_major": 2,
       "version_minor": 0,
       "model_id": "9d8408e590af4218bd3b1ea508846421"
      }
     },
     "metadata": {},
     "output_type": "display_data"
    },
    {
     "data": {
      "text/plain": "Validating: 0it [00:00, ?it/s]",
      "application/vnd.jupyter.widget-view+json": {
       "version_major": 2,
       "version_minor": 0,
       "model_id": "112ae30fd6fd48238259368cb4cd853c"
      }
     },
     "metadata": {},
     "output_type": "display_data"
    },
    {
     "data": {
      "text/plain": "Validating: 0it [00:00, ?it/s]",
      "application/vnd.jupyter.widget-view+json": {
       "version_major": 2,
       "version_minor": 0,
       "model_id": "48ee5ca08ad949a8916a798f639e0a83"
      }
     },
     "metadata": {},
     "output_type": "display_data"
    },
    {
     "data": {
      "text/plain": "Validating: 0it [00:00, ?it/s]",
      "application/vnd.jupyter.widget-view+json": {
       "version_major": 2,
       "version_minor": 0,
       "model_id": "fa6639f4743c4222a041516563cef128"
      }
     },
     "metadata": {},
     "output_type": "display_data"
    },
    {
     "data": {
      "text/plain": "Validating: 0it [00:00, ?it/s]",
      "application/vnd.jupyter.widget-view+json": {
       "version_major": 2,
       "version_minor": 0,
       "model_id": "2012625f3cd24323b77f2d5d938c7c26"
      }
     },
     "metadata": {},
     "output_type": "display_data"
    },
    {
     "data": {
      "text/plain": "Validating: 0it [00:00, ?it/s]",
      "application/vnd.jupyter.widget-view+json": {
       "version_major": 2,
       "version_minor": 0,
       "model_id": "93539066b6444578809d046f84952de0"
      }
     },
     "metadata": {},
     "output_type": "display_data"
    },
    {
     "data": {
      "text/plain": "Validating: 0it [00:00, ?it/s]",
      "application/vnd.jupyter.widget-view+json": {
       "version_major": 2,
       "version_minor": 0,
       "model_id": "7c62b838052e48c898866abc6f68eb8d"
      }
     },
     "metadata": {},
     "output_type": "display_data"
    },
    {
     "data": {
      "text/plain": "Validating: 0it [00:00, ?it/s]",
      "application/vnd.jupyter.widget-view+json": {
       "version_major": 2,
       "version_minor": 0,
       "model_id": "d94e918fe9fc4a36a1e53998bef9efc7"
      }
     },
     "metadata": {},
     "output_type": "display_data"
    },
    {
     "data": {
      "text/plain": "Validating: 0it [00:00, ?it/s]",
      "application/vnd.jupyter.widget-view+json": {
       "version_major": 2,
       "version_minor": 0,
       "model_id": "de8856c28b794bc8882e3de6f40cc5fa"
      }
     },
     "metadata": {},
     "output_type": "display_data"
    },
    {
     "name": "stderr",
     "output_type": "stream",
     "text": [
      "GPU available: False, used: False\n",
      "TPU available: False, using: 0 TPU cores\n",
      "IPU available: False, using: 0 IPUs\n",
      "\n",
      "  | Name      | Type    | Params\n",
      "--------------------------------------\n",
      "0 | encoder   | Linear  | 296 K \n",
      "1 | act_1     | PReLU   | 1     \n",
      "2 | decoder   | Linear  | 300 K \n",
      "3 | act_2     | PReLU   | 1     \n",
      "4 | loss_func | MSELoss | 0     \n",
      "--------------------------------------\n",
      "596 K     Trainable params\n",
      "0         Non-trainable params\n",
      "596 K     Total params\n",
      "2.387     Total estimated model params size (MB)\n"
     ]
    },
    {
     "name": "stdout",
     "output_type": "stream",
     "text": [
      "0.01\n"
     ]
    },
    {
     "data": {
      "text/plain": "Validation sanity check: 0it [00:00, ?it/s]",
      "application/vnd.jupyter.widget-view+json": {
       "version_major": 2,
       "version_minor": 0,
       "model_id": "f996edb9ef414fe286503b756be30cd2"
      }
     },
     "metadata": {},
     "output_type": "display_data"
    },
    {
     "data": {
      "text/plain": "Training: 0it [00:00, ?it/s]",
      "application/vnd.jupyter.widget-view+json": {
       "version_major": 2,
       "version_minor": 0,
       "model_id": "aff0608713f14f02a6a9893827e30093"
      }
     },
     "metadata": {},
     "output_type": "display_data"
    },
    {
     "data": {
      "text/plain": "Validating: 0it [00:00, ?it/s]",
      "application/vnd.jupyter.widget-view+json": {
       "version_major": 2,
       "version_minor": 0,
       "model_id": "78e4b06233344c03930202eec1fbd2af"
      }
     },
     "metadata": {},
     "output_type": "display_data"
    },
    {
     "data": {
      "text/plain": "Validating: 0it [00:00, ?it/s]",
      "application/vnd.jupyter.widget-view+json": {
       "version_major": 2,
       "version_minor": 0,
       "model_id": "4a6c1e84e7de4ea7ad8f412cda8ed83e"
      }
     },
     "metadata": {},
     "output_type": "display_data"
    },
    {
     "data": {
      "text/plain": "Validating: 0it [00:00, ?it/s]",
      "application/vnd.jupyter.widget-view+json": {
       "version_major": 2,
       "version_minor": 0,
       "model_id": "79d81b15d8814883a825653d874e82ee"
      }
     },
     "metadata": {},
     "output_type": "display_data"
    },
    {
     "data": {
      "text/plain": "Validating: 0it [00:00, ?it/s]",
      "application/vnd.jupyter.widget-view+json": {
       "version_major": 2,
       "version_minor": 0,
       "model_id": "8ad9eaf5207a401a9ac052be9b60d7d9"
      }
     },
     "metadata": {},
     "output_type": "display_data"
    },
    {
     "data": {
      "text/plain": "Validating: 0it [00:00, ?it/s]",
      "application/vnd.jupyter.widget-view+json": {
       "version_major": 2,
       "version_minor": 0,
       "model_id": "5f71a73c217343ddbd015d5c547ec03c"
      }
     },
     "metadata": {},
     "output_type": "display_data"
    },
    {
     "data": {
      "text/plain": "Validating: 0it [00:00, ?it/s]",
      "application/vnd.jupyter.widget-view+json": {
       "version_major": 2,
       "version_minor": 0,
       "model_id": "d2f32b9fdffa4445adbc1e2e74a79f31"
      }
     },
     "metadata": {},
     "output_type": "display_data"
    },
    {
     "data": {
      "text/plain": "Validating: 0it [00:00, ?it/s]",
      "application/vnd.jupyter.widget-view+json": {
       "version_major": 2,
       "version_minor": 0,
       "model_id": "30e4e31d8f1240af91c6a1c855c7da79"
      }
     },
     "metadata": {},
     "output_type": "display_data"
    }
   ],
   "source": [
    "should_train = True\n",
    "model_paths = []\n",
    "if should_train:\n",
    "    for model_class in models:\n",
    "        for activation in activations:\n",
    "            for lr in lrs:\n",
    "                for latent in latent_dims:\n",
    "                    for λ in lambdas:\n",
    "                        model = model_class(number_of_items=number_of_items,\n",
    "                                            num_of_users=number_of_users,\n",
    "                                            hidden_size=latent,\n",
    "                                            activation_function_1=activation,\n",
    "                                            activation_function_2=activation,\n",
    "                                            loss=nn.MSELoss(reduction='none'),\n",
    "                                            λ=λ,\n",
    "                                            lr=lr)\n",
    "                        # training\n",
    "                        trainer = pl.Trainer(gpus=0, max_epochs=10)\n",
    "                        if type(model).__name__ == \"MF\":\n",
    "                            trainer.fit(model,mf_train_loader, mf_val_loader)\n",
    "                        else:\n",
    "                            trainer.fit(model,train_loader, val_loader)\n",
    "\n",
    "                        model_path = save_model(model_class=model_class,\n",
    "                                   trainer=trainer,\n",
    "                                   activation=activation,\n",
    "                                   hidden_size=latent,\n",
    "                                   lr=lr,\n",
    "                                   λ=λ,\n",
    "                                   is_default_dataset=is_default_dataset)\n",
    "                        model_paths.append(model_path)\n",
    "        #                 break\n",
    "        #             break\n",
    "        #         break\n",
    "        #     break\n",
    "        # break\n",
    "print(model_paths)"
   ],
   "metadata": {
    "collapsed": false,
    "pycharm": {
     "name": "#%%\n",
     "is_executing": true
    }
   }
  },
  {
   "cell_type": "code",
   "execution_count": 13,
   "outputs": [
    {
     "name": "stdout",
     "output_type": "stream",
     "text": [
      "[Errno 2] No such file or directory: '/Users/odedgolden/Developer/AutoRec/obj/AutoRecBase_PReLU_10_0.001_0.001_True_model_dict.ckpt'\n",
      "[Errno 2] No such file or directory: '/Users/odedgolden/Developer/AutoRec/obj/AutoRecBase_PReLU_10_0.001_0.01_True_model_dict.ckpt'\n",
      "[Errno 2] No such file or directory: '/Users/odedgolden/Developer/AutoRec/obj/AutoRecBase_PReLU_10_0.001_0.1_True_model_dict.ckpt'\n",
      "[Errno 2] No such file or directory: '/Users/odedgolden/Developer/AutoRec/obj/AutoRecBase_PReLU_10_0.001_1_True_model_dict.ckpt'\n",
      "[Errno 2] No such file or directory: '/Users/odedgolden/Developer/AutoRec/obj/AutoRecBase_PReLU_10_0.001_100_True_model_dict.ckpt'\n",
      "[Errno 2] No such file or directory: '/Users/odedgolden/Developer/AutoRec/obj/AutoRecBase_PReLU_10_0.001_1000_True_model_dict.ckpt'\n",
      "[Errno 2] No such file or directory: '/Users/odedgolden/Developer/AutoRec/obj/AutoRecBase_PReLU_20_0.001_0.001_True_model_dict.ckpt'\n",
      "[Errno 2] No such file or directory: '/Users/odedgolden/Developer/AutoRec/obj/AutoRecBase_PReLU_20_0.001_0.01_True_model_dict.ckpt'\n",
      "[Errno 2] No such file or directory: '/Users/odedgolden/Developer/AutoRec/obj/AutoRecBase_PReLU_20_0.001_0.1_True_model_dict.ckpt'\n",
      "[Errno 2] No such file or directory: '/Users/odedgolden/Developer/AutoRec/obj/AutoRecBase_PReLU_20_0.001_1_True_model_dict.ckpt'\n",
      "[Errno 2] No such file or directory: '/Users/odedgolden/Developer/AutoRec/obj/AutoRecBase_PReLU_20_0.001_100_True_model_dict.ckpt'\n",
      "[Errno 2] No such file or directory: '/Users/odedgolden/Developer/AutoRec/obj/AutoRecBase_PReLU_20_0.001_1000_True_model_dict.ckpt'\n",
      "[Errno 2] No such file or directory: '/Users/odedgolden/Developer/AutoRec/obj/AutoRecBase_PReLU_40_0.001_0.001_True_model_dict.ckpt'\n",
      "[Errno 2] No such file or directory: '/Users/odedgolden/Developer/AutoRec/obj/AutoRecBase_PReLU_40_0.001_0.01_True_model_dict.ckpt'\n",
      "[Errno 2] No such file or directory: '/Users/odedgolden/Developer/AutoRec/obj/AutoRecBase_PReLU_40_0.001_0.1_True_model_dict.ckpt'\n",
      "[Errno 2] No such file or directory: '/Users/odedgolden/Developer/AutoRec/obj/AutoRecBase_PReLU_40_0.001_1_True_model_dict.ckpt'\n",
      "[Errno 2] No such file or directory: '/Users/odedgolden/Developer/AutoRec/obj/AutoRecBase_PReLU_40_0.001_100_True_model_dict.ckpt'\n",
      "[Errno 2] No such file or directory: '/Users/odedgolden/Developer/AutoRec/obj/AutoRecBase_PReLU_40_0.001_1000_True_model_dict.ckpt'\n",
      "[Errno 2] No such file or directory: '/Users/odedgolden/Developer/AutoRec/obj/AutoRecBase_PReLU_80_0.001_0.001_True_model_dict.ckpt'\n",
      "[Errno 2] No such file or directory: '/Users/odedgolden/Developer/AutoRec/obj/AutoRecBase_PReLU_80_0.001_0.01_True_model_dict.ckpt'\n",
      "[Errno 2] No such file or directory: '/Users/odedgolden/Developer/AutoRec/obj/AutoRecBase_PReLU_80_0.001_0.1_True_model_dict.ckpt'\n",
      "[Errno 2] No such file or directory: '/Users/odedgolden/Developer/AutoRec/obj/AutoRecBase_PReLU_80_0.001_1_True_model_dict.ckpt'\n",
      "[Errno 2] No such file or directory: '/Users/odedgolden/Developer/AutoRec/obj/AutoRecBase_PReLU_80_0.001_100_True_model_dict.ckpt'\n",
      "[Errno 2] No such file or directory: '/Users/odedgolden/Developer/AutoRec/obj/AutoRecBase_PReLU_80_0.001_1000_True_model_dict.ckpt'\n",
      "[Errno 2] No such file or directory: '/Users/odedgolden/Developer/AutoRec/obj/AutoRecBase_PReLU_100_0.001_0.001_True_model_dict.ckpt'\n",
      "[Errno 2] No such file or directory: '/Users/odedgolden/Developer/AutoRec/obj/AutoRecBase_PReLU_100_0.001_0.01_True_model_dict.ckpt'\n",
      "[Errno 2] No such file or directory: '/Users/odedgolden/Developer/AutoRec/obj/AutoRecBase_PReLU_100_0.001_0.1_True_model_dict.ckpt'\n",
      "[Errno 2] No such file or directory: '/Users/odedgolden/Developer/AutoRec/obj/AutoRecBase_PReLU_100_0.001_1_True_model_dict.ckpt'\n",
      "[Errno 2] No such file or directory: '/Users/odedgolden/Developer/AutoRec/obj/AutoRecBase_PReLU_100_0.001_100_True_model_dict.ckpt'\n",
      "[Errno 2] No such file or directory: '/Users/odedgolden/Developer/AutoRec/obj/AutoRecBase_PReLU_100_0.001_1000_True_model_dict.ckpt'\n",
      "[Errno 2] No such file or directory: '/Users/odedgolden/Developer/AutoRec/obj/AutoRecBase_PReLU_200_0.001_0.001_True_model_dict.ckpt'\n",
      "[Errno 2] No such file or directory: '/Users/odedgolden/Developer/AutoRec/obj/AutoRecBase_PReLU_200_0.001_0.01_True_model_dict.ckpt'\n",
      "[Errno 2] No such file or directory: '/Users/odedgolden/Developer/AutoRec/obj/AutoRecBase_PReLU_200_0.001_0.1_True_model_dict.ckpt'\n",
      "[Errno 2] No such file or directory: '/Users/odedgolden/Developer/AutoRec/obj/AutoRecBase_PReLU_200_0.001_1_True_model_dict.ckpt'\n",
      "[Errno 2] No such file or directory: '/Users/odedgolden/Developer/AutoRec/obj/AutoRecBase_PReLU_200_0.001_100_True_model_dict.ckpt'\n",
      "[Errno 2] No such file or directory: '/Users/odedgolden/Developer/AutoRec/obj/AutoRecBase_PReLU_200_0.001_1000_True_model_dict.ckpt'\n",
      "[Errno 2] No such file or directory: '/Users/odedgolden/Developer/AutoRec/obj/AutoRecBase_PReLU_300_0.001_0.001_True_model_dict.ckpt'\n",
      "[Errno 2] No such file or directory: '/Users/odedgolden/Developer/AutoRec/obj/AutoRecBase_PReLU_300_0.001_0.01_True_model_dict.ckpt'\n",
      "[Errno 2] No such file or directory: '/Users/odedgolden/Developer/AutoRec/obj/AutoRecBase_PReLU_300_0.001_0.1_True_model_dict.ckpt'\n",
      "[Errno 2] No such file or directory: '/Users/odedgolden/Developer/AutoRec/obj/AutoRecBase_PReLU_300_0.001_1_True_model_dict.ckpt'\n",
      "[Errno 2] No such file or directory: '/Users/odedgolden/Developer/AutoRec/obj/AutoRecBase_PReLU_300_0.001_100_True_model_dict.ckpt'\n",
      "[Errno 2] No such file or directory: '/Users/odedgolden/Developer/AutoRec/obj/AutoRecBase_PReLU_300_0.001_1000_True_model_dict.ckpt'\n",
      "[Errno 2] No such file or directory: '/Users/odedgolden/Developer/AutoRec/obj/AutoRecBase_PReLU_400_0.001_0.001_True_model_dict.ckpt'\n",
      "[Errno 2] No such file or directory: '/Users/odedgolden/Developer/AutoRec/obj/AutoRecBase_PReLU_400_0.001_0.01_True_model_dict.ckpt'\n",
      "[Errno 2] No such file or directory: '/Users/odedgolden/Developer/AutoRec/obj/AutoRecBase_PReLU_400_0.001_0.1_True_model_dict.ckpt'\n",
      "[Errno 2] No such file or directory: '/Users/odedgolden/Developer/AutoRec/obj/AutoRecBase_PReLU_400_0.001_1_True_model_dict.ckpt'\n",
      "[Errno 2] No such file or directory: '/Users/odedgolden/Developer/AutoRec/obj/AutoRecBase_PReLU_400_0.001_100_True_model_dict.ckpt'\n",
      "[Errno 2] No such file or directory: '/Users/odedgolden/Developer/AutoRec/obj/AutoRecBase_PReLU_400_0.001_1000_True_model_dict.ckpt'\n",
      "[Errno 2] No such file or directory: '/Users/odedgolden/Developer/AutoRec/obj/AutoRecBase_PReLU_500_0.001_0.001_True_model_dict.ckpt'\n",
      "[Errno 2] No such file or directory: '/Users/odedgolden/Developer/AutoRec/obj/AutoRecBase_PReLU_500_0.001_0.01_True_model_dict.ckpt'\n",
      "[Errno 2] No such file or directory: '/Users/odedgolden/Developer/AutoRec/obj/AutoRecBase_PReLU_500_0.001_0.1_True_model_dict.ckpt'\n",
      "[Errno 2] No such file or directory: '/Users/odedgolden/Developer/AutoRec/obj/AutoRecBase_PReLU_500_0.001_1_True_model_dict.ckpt'\n",
      "[Errno 2] No such file or directory: '/Users/odedgolden/Developer/AutoRec/obj/AutoRecBase_PReLU_500_0.001_100_True_model_dict.ckpt'\n",
      "[Errno 2] No such file or directory: '/Users/odedgolden/Developer/AutoRec/obj/AutoRecBase_PReLU_500_0.001_1000_True_model_dict.ckpt'\n",
      "[Errno 2] No such file or directory: '/Users/odedgolden/Developer/AutoRec/obj/AutoRecBase_PReLU_10_0.002_0.001_True_model_dict.ckpt'\n",
      "[Errno 2] No such file or directory: '/Users/odedgolden/Developer/AutoRec/obj/AutoRecBase_PReLU_10_0.002_0.01_True_model_dict.ckpt'\n",
      "[Errno 2] No such file or directory: '/Users/odedgolden/Developer/AutoRec/obj/AutoRecBase_PReLU_10_0.002_0.1_True_model_dict.ckpt'\n",
      "[Errno 2] No such file or directory: '/Users/odedgolden/Developer/AutoRec/obj/AutoRecBase_PReLU_10_0.002_1_True_model_dict.ckpt'\n",
      "[Errno 2] No such file or directory: '/Users/odedgolden/Developer/AutoRec/obj/AutoRecBase_PReLU_10_0.002_100_True_model_dict.ckpt'\n",
      "[Errno 2] No such file or directory: '/Users/odedgolden/Developer/AutoRec/obj/AutoRecBase_PReLU_10_0.002_1000_True_model_dict.ckpt'\n",
      "[Errno 2] No such file or directory: '/Users/odedgolden/Developer/AutoRec/obj/AutoRecBase_PReLU_20_0.002_0.001_True_model_dict.ckpt'\n",
      "[Errno 2] No such file or directory: '/Users/odedgolden/Developer/AutoRec/obj/AutoRecBase_PReLU_20_0.002_0.01_True_model_dict.ckpt'\n",
      "[Errno 2] No such file or directory: '/Users/odedgolden/Developer/AutoRec/obj/AutoRecBase_PReLU_20_0.002_0.1_True_model_dict.ckpt'\n",
      "[Errno 2] No such file or directory: '/Users/odedgolden/Developer/AutoRec/obj/AutoRecBase_PReLU_20_0.002_1_True_model_dict.ckpt'\n",
      "[Errno 2] No such file or directory: '/Users/odedgolden/Developer/AutoRec/obj/AutoRecBase_PReLU_20_0.002_100_True_model_dict.ckpt'\n",
      "[Errno 2] No such file or directory: '/Users/odedgolden/Developer/AutoRec/obj/AutoRecBase_PReLU_20_0.002_1000_True_model_dict.ckpt'\n",
      "[Errno 2] No such file or directory: '/Users/odedgolden/Developer/AutoRec/obj/AutoRecBase_PReLU_40_0.002_0.001_True_model_dict.ckpt'\n",
      "[Errno 2] No such file or directory: '/Users/odedgolden/Developer/AutoRec/obj/AutoRecBase_PReLU_40_0.002_0.01_True_model_dict.ckpt'\n",
      "[Errno 2] No such file or directory: '/Users/odedgolden/Developer/AutoRec/obj/AutoRecBase_PReLU_40_0.002_0.1_True_model_dict.ckpt'\n",
      "[Errno 2] No such file or directory: '/Users/odedgolden/Developer/AutoRec/obj/AutoRecBase_PReLU_40_0.002_1_True_model_dict.ckpt'\n",
      "[Errno 2] No such file or directory: '/Users/odedgolden/Developer/AutoRec/obj/AutoRecBase_PReLU_40_0.002_100_True_model_dict.ckpt'\n",
      "[Errno 2] No such file or directory: '/Users/odedgolden/Developer/AutoRec/obj/AutoRecBase_PReLU_40_0.002_1000_True_model_dict.ckpt'\n",
      "[Errno 2] No such file or directory: '/Users/odedgolden/Developer/AutoRec/obj/AutoRecBase_PReLU_80_0.002_0.001_True_model_dict.ckpt'\n",
      "[Errno 2] No such file or directory: '/Users/odedgolden/Developer/AutoRec/obj/AutoRecBase_PReLU_80_0.002_0.01_True_model_dict.ckpt'\n",
      "[Errno 2] No such file or directory: '/Users/odedgolden/Developer/AutoRec/obj/AutoRecBase_PReLU_80_0.002_0.1_True_model_dict.ckpt'\n",
      "[Errno 2] No such file or directory: '/Users/odedgolden/Developer/AutoRec/obj/AutoRecBase_PReLU_80_0.002_1_True_model_dict.ckpt'\n",
      "[Errno 2] No such file or directory: '/Users/odedgolden/Developer/AutoRec/obj/AutoRecBase_PReLU_80_0.002_100_True_model_dict.ckpt'\n",
      "[Errno 2] No such file or directory: '/Users/odedgolden/Developer/AutoRec/obj/AutoRecBase_PReLU_80_0.002_1000_True_model_dict.ckpt'\n",
      "[Errno 2] No such file or directory: '/Users/odedgolden/Developer/AutoRec/obj/AutoRecBase_PReLU_100_0.002_0.001_True_model_dict.ckpt'\n",
      "[Errno 2] No such file or directory: '/Users/odedgolden/Developer/AutoRec/obj/AutoRecBase_PReLU_100_0.002_0.01_True_model_dict.ckpt'\n",
      "[Errno 2] No such file or directory: '/Users/odedgolden/Developer/AutoRec/obj/AutoRecBase_PReLU_100_0.002_0.1_True_model_dict.ckpt'\n",
      "[Errno 2] No such file or directory: '/Users/odedgolden/Developer/AutoRec/obj/AutoRecBase_PReLU_100_0.002_1_True_model_dict.ckpt'\n",
      "[Errno 2] No such file or directory: '/Users/odedgolden/Developer/AutoRec/obj/AutoRecBase_PReLU_100_0.002_100_True_model_dict.ckpt'\n",
      "[Errno 2] No such file or directory: '/Users/odedgolden/Developer/AutoRec/obj/AutoRecBase_PReLU_100_0.002_1000_True_model_dict.ckpt'\n",
      "[Errno 2] No such file or directory: '/Users/odedgolden/Developer/AutoRec/obj/AutoRecBase_PReLU_200_0.002_0.001_True_model_dict.ckpt'\n",
      "[Errno 2] No such file or directory: '/Users/odedgolden/Developer/AutoRec/obj/AutoRecBase_PReLU_200_0.002_0.01_True_model_dict.ckpt'\n",
      "[Errno 2] No such file or directory: '/Users/odedgolden/Developer/AutoRec/obj/AutoRecBase_PReLU_200_0.002_0.1_True_model_dict.ckpt'\n",
      "[Errno 2] No such file or directory: '/Users/odedgolden/Developer/AutoRec/obj/AutoRecBase_PReLU_200_0.002_1_True_model_dict.ckpt'\n",
      "[Errno 2] No such file or directory: '/Users/odedgolden/Developer/AutoRec/obj/AutoRecBase_PReLU_200_0.002_100_True_model_dict.ckpt'\n",
      "[Errno 2] No such file or directory: '/Users/odedgolden/Developer/AutoRec/obj/AutoRecBase_PReLU_200_0.002_1000_True_model_dict.ckpt'\n",
      "[Errno 2] No such file or directory: '/Users/odedgolden/Developer/AutoRec/obj/AutoRecBase_PReLU_300_0.002_0.001_True_model_dict.ckpt'\n",
      "[Errno 2] No such file or directory: '/Users/odedgolden/Developer/AutoRec/obj/AutoRecBase_PReLU_300_0.002_0.01_True_model_dict.ckpt'\n",
      "[Errno 2] No such file or directory: '/Users/odedgolden/Developer/AutoRec/obj/AutoRecBase_PReLU_300_0.002_0.1_True_model_dict.ckpt'\n",
      "[Errno 2] No such file or directory: '/Users/odedgolden/Developer/AutoRec/obj/AutoRecBase_PReLU_300_0.002_1_True_model_dict.ckpt'\n",
      "[Errno 2] No such file or directory: '/Users/odedgolden/Developer/AutoRec/obj/AutoRecBase_PReLU_300_0.002_100_True_model_dict.ckpt'\n",
      "[Errno 2] No such file or directory: '/Users/odedgolden/Developer/AutoRec/obj/AutoRecBase_PReLU_300_0.002_1000_True_model_dict.ckpt'\n",
      "[Errno 2] No such file or directory: '/Users/odedgolden/Developer/AutoRec/obj/AutoRecBase_PReLU_400_0.002_0.001_True_model_dict.ckpt'\n",
      "[Errno 2] No such file or directory: '/Users/odedgolden/Developer/AutoRec/obj/AutoRecBase_PReLU_400_0.002_0.01_True_model_dict.ckpt'\n",
      "[Errno 2] No such file or directory: '/Users/odedgolden/Developer/AutoRec/obj/AutoRecBase_PReLU_400_0.002_0.1_True_model_dict.ckpt'\n",
      "[Errno 2] No such file or directory: '/Users/odedgolden/Developer/AutoRec/obj/AutoRecBase_PReLU_400_0.002_1_True_model_dict.ckpt'\n",
      "[Errno 2] No such file or directory: '/Users/odedgolden/Developer/AutoRec/obj/AutoRecBase_PReLU_400_0.002_100_True_model_dict.ckpt'\n",
      "[Errno 2] No such file or directory: '/Users/odedgolden/Developer/AutoRec/obj/AutoRecBase_PReLU_400_0.002_1000_True_model_dict.ckpt'\n",
      "[Errno 2] No such file or directory: '/Users/odedgolden/Developer/AutoRec/obj/AutoRecBase_PReLU_500_0.002_0.001_True_model_dict.ckpt'\n",
      "[Errno 2] No such file or directory: '/Users/odedgolden/Developer/AutoRec/obj/AutoRecBase_PReLU_500_0.002_0.01_True_model_dict.ckpt'\n",
      "[Errno 2] No such file or directory: '/Users/odedgolden/Developer/AutoRec/obj/AutoRecBase_PReLU_500_0.002_0.1_True_model_dict.ckpt'\n",
      "[Errno 2] No such file or directory: '/Users/odedgolden/Developer/AutoRec/obj/AutoRecBase_PReLU_500_0.002_1_True_model_dict.ckpt'\n",
      "[Errno 2] No such file or directory: '/Users/odedgolden/Developer/AutoRec/obj/AutoRecBase_PReLU_500_0.002_100_True_model_dict.ckpt'\n",
      "[Errno 2] No such file or directory: '/Users/odedgolden/Developer/AutoRec/obj/AutoRecBase_PReLU_500_0.002_1000_True_model_dict.ckpt'\n",
      "[Errno 2] No such file or directory: '/Users/odedgolden/Developer/AutoRec/obj/AutoRecBase_PReLU_10_0.004_0.001_True_model_dict.ckpt'\n",
      "[Errno 2] No such file or directory: '/Users/odedgolden/Developer/AutoRec/obj/AutoRecBase_PReLU_10_0.004_0.01_True_model_dict.ckpt'\n",
      "[Errno 2] No such file or directory: '/Users/odedgolden/Developer/AutoRec/obj/AutoRecBase_PReLU_10_0.004_0.1_True_model_dict.ckpt'\n",
      "[Errno 2] No such file or directory: '/Users/odedgolden/Developer/AutoRec/obj/AutoRecBase_PReLU_10_0.004_1_True_model_dict.ckpt'\n",
      "[Errno 2] No such file or directory: '/Users/odedgolden/Developer/AutoRec/obj/AutoRecBase_PReLU_10_0.004_100_True_model_dict.ckpt'\n",
      "[Errno 2] No such file or directory: '/Users/odedgolden/Developer/AutoRec/obj/AutoRecBase_PReLU_10_0.004_1000_True_model_dict.ckpt'\n",
      "[Errno 2] No such file or directory: '/Users/odedgolden/Developer/AutoRec/obj/AutoRecBase_PReLU_20_0.004_0.001_True_model_dict.ckpt'\n",
      "[Errno 2] No such file or directory: '/Users/odedgolden/Developer/AutoRec/obj/AutoRecBase_PReLU_20_0.004_0.01_True_model_dict.ckpt'\n",
      "[Errno 2] No such file or directory: '/Users/odedgolden/Developer/AutoRec/obj/AutoRecBase_PReLU_20_0.004_0.1_True_model_dict.ckpt'\n",
      "[Errno 2] No such file or directory: '/Users/odedgolden/Developer/AutoRec/obj/AutoRecBase_PReLU_20_0.004_1_True_model_dict.ckpt'\n",
      "[Errno 2] No such file or directory: '/Users/odedgolden/Developer/AutoRec/obj/AutoRecBase_PReLU_20_0.004_100_True_model_dict.ckpt'\n",
      "[Errno 2] No such file or directory: '/Users/odedgolden/Developer/AutoRec/obj/AutoRecBase_PReLU_20_0.004_1000_True_model_dict.ckpt'\n",
      "[Errno 2] No such file or directory: '/Users/odedgolden/Developer/AutoRec/obj/AutoRecBase_PReLU_40_0.004_0.001_True_model_dict.ckpt'\n",
      "[Errno 2] No such file or directory: '/Users/odedgolden/Developer/AutoRec/obj/AutoRecBase_PReLU_40_0.004_0.01_True_model_dict.ckpt'\n",
      "[Errno 2] No such file or directory: '/Users/odedgolden/Developer/AutoRec/obj/AutoRecBase_PReLU_40_0.004_0.1_True_model_dict.ckpt'\n",
      "[Errno 2] No such file or directory: '/Users/odedgolden/Developer/AutoRec/obj/AutoRecBase_PReLU_40_0.004_1_True_model_dict.ckpt'\n",
      "[Errno 2] No such file or directory: '/Users/odedgolden/Developer/AutoRec/obj/AutoRecBase_PReLU_40_0.004_100_True_model_dict.ckpt'\n",
      "[Errno 2] No such file or directory: '/Users/odedgolden/Developer/AutoRec/obj/AutoRecBase_PReLU_40_0.004_1000_True_model_dict.ckpt'\n",
      "[Errno 2] No such file or directory: '/Users/odedgolden/Developer/AutoRec/obj/AutoRecBase_PReLU_80_0.004_0.001_True_model_dict.ckpt'\n",
      "[Errno 2] No such file or directory: '/Users/odedgolden/Developer/AutoRec/obj/AutoRecBase_PReLU_80_0.004_0.01_True_model_dict.ckpt'\n",
      "[Errno 2] No such file or directory: '/Users/odedgolden/Developer/AutoRec/obj/AutoRecBase_PReLU_80_0.004_0.1_True_model_dict.ckpt'\n",
      "[Errno 2] No such file or directory: '/Users/odedgolden/Developer/AutoRec/obj/AutoRecBase_PReLU_80_0.004_1_True_model_dict.ckpt'\n",
      "[Errno 2] No such file or directory: '/Users/odedgolden/Developer/AutoRec/obj/AutoRecBase_PReLU_80_0.004_100_True_model_dict.ckpt'\n",
      "[Errno 2] No such file or directory: '/Users/odedgolden/Developer/AutoRec/obj/AutoRecBase_PReLU_80_0.004_1000_True_model_dict.ckpt'\n",
      "[Errno 2] No such file or directory: '/Users/odedgolden/Developer/AutoRec/obj/AutoRecBase_PReLU_100_0.004_0.001_True_model_dict.ckpt'\n",
      "[Errno 2] No such file or directory: '/Users/odedgolden/Developer/AutoRec/obj/AutoRecBase_PReLU_100_0.004_0.01_True_model_dict.ckpt'\n",
      "[Errno 2] No such file or directory: '/Users/odedgolden/Developer/AutoRec/obj/AutoRecBase_PReLU_100_0.004_0.1_True_model_dict.ckpt'\n",
      "[Errno 2] No such file or directory: '/Users/odedgolden/Developer/AutoRec/obj/AutoRecBase_PReLU_100_0.004_1_True_model_dict.ckpt'\n",
      "[Errno 2] No such file or directory: '/Users/odedgolden/Developer/AutoRec/obj/AutoRecBase_PReLU_100_0.004_100_True_model_dict.ckpt'\n",
      "[Errno 2] No such file or directory: '/Users/odedgolden/Developer/AutoRec/obj/AutoRecBase_PReLU_100_0.004_1000_True_model_dict.ckpt'\n",
      "[Errno 2] No such file or directory: '/Users/odedgolden/Developer/AutoRec/obj/AutoRecBase_PReLU_200_0.004_0.001_True_model_dict.ckpt'\n",
      "[Errno 2] No such file or directory: '/Users/odedgolden/Developer/AutoRec/obj/AutoRecBase_PReLU_200_0.004_0.01_True_model_dict.ckpt'\n",
      "[Errno 2] No such file or directory: '/Users/odedgolden/Developer/AutoRec/obj/AutoRecBase_PReLU_200_0.004_0.1_True_model_dict.ckpt'\n",
      "[Errno 2] No such file or directory: '/Users/odedgolden/Developer/AutoRec/obj/AutoRecBase_PReLU_200_0.004_1_True_model_dict.ckpt'\n",
      "[Errno 2] No such file or directory: '/Users/odedgolden/Developer/AutoRec/obj/AutoRecBase_PReLU_200_0.004_100_True_model_dict.ckpt'\n",
      "[Errno 2] No such file or directory: '/Users/odedgolden/Developer/AutoRec/obj/AutoRecBase_PReLU_200_0.004_1000_True_model_dict.ckpt'\n",
      "[Errno 2] No such file or directory: '/Users/odedgolden/Developer/AutoRec/obj/AutoRecBase_PReLU_300_0.004_0.001_True_model_dict.ckpt'\n",
      "[Errno 2] No such file or directory: '/Users/odedgolden/Developer/AutoRec/obj/AutoRecBase_PReLU_300_0.004_0.01_True_model_dict.ckpt'\n",
      "[Errno 2] No such file or directory: '/Users/odedgolden/Developer/AutoRec/obj/AutoRecBase_PReLU_300_0.004_0.1_True_model_dict.ckpt'\n",
      "[Errno 2] No such file or directory: '/Users/odedgolden/Developer/AutoRec/obj/AutoRecBase_PReLU_300_0.004_1_True_model_dict.ckpt'\n",
      "[Errno 2] No such file or directory: '/Users/odedgolden/Developer/AutoRec/obj/AutoRecBase_PReLU_300_0.004_100_True_model_dict.ckpt'\n",
      "[Errno 2] No such file or directory: '/Users/odedgolden/Developer/AutoRec/obj/AutoRecBase_PReLU_300_0.004_1000_True_model_dict.ckpt'\n",
      "[Errno 2] No such file or directory: '/Users/odedgolden/Developer/AutoRec/obj/AutoRecBase_PReLU_400_0.004_0.001_True_model_dict.ckpt'\n",
      "[Errno 2] No such file or directory: '/Users/odedgolden/Developer/AutoRec/obj/AutoRecBase_PReLU_400_0.004_0.01_True_model_dict.ckpt'\n",
      "[Errno 2] No such file or directory: '/Users/odedgolden/Developer/AutoRec/obj/AutoRecBase_PReLU_400_0.004_0.1_True_model_dict.ckpt'\n",
      "[Errno 2] No such file or directory: '/Users/odedgolden/Developer/AutoRec/obj/AutoRecBase_PReLU_400_0.004_1_True_model_dict.ckpt'\n",
      "[Errno 2] No such file or directory: '/Users/odedgolden/Developer/AutoRec/obj/AutoRecBase_PReLU_400_0.004_100_True_model_dict.ckpt'\n",
      "[Errno 2] No such file or directory: '/Users/odedgolden/Developer/AutoRec/obj/AutoRecBase_PReLU_400_0.004_1000_True_model_dict.ckpt'\n",
      "[Errno 2] No such file or directory: '/Users/odedgolden/Developer/AutoRec/obj/AutoRecBase_PReLU_500_0.004_0.001_True_model_dict.ckpt'\n",
      "[Errno 2] No such file or directory: '/Users/odedgolden/Developer/AutoRec/obj/AutoRecBase_PReLU_500_0.004_0.01_True_model_dict.ckpt'\n",
      "[Errno 2] No such file or directory: '/Users/odedgolden/Developer/AutoRec/obj/AutoRecBase_PReLU_500_0.004_0.1_True_model_dict.ckpt'\n",
      "[Errno 2] No such file or directory: '/Users/odedgolden/Developer/AutoRec/obj/AutoRecBase_PReLU_500_0.004_1_True_model_dict.ckpt'\n",
      "[Errno 2] No such file or directory: '/Users/odedgolden/Developer/AutoRec/obj/AutoRecBase_PReLU_500_0.004_100_True_model_dict.ckpt'\n",
      "[Errno 2] No such file or directory: '/Users/odedgolden/Developer/AutoRec/obj/AutoRecBase_PReLU_500_0.004_1000_True_model_dict.ckpt'\n",
      "[Errno 2] No such file or directory: '/Users/odedgolden/Developer/AutoRec/obj/AutoRecBase_PReLU_10_0.01_0.001_True_model_dict.ckpt'\n",
      "[Errno 2] No such file or directory: '/Users/odedgolden/Developer/AutoRec/obj/AutoRecBase_PReLU_10_0.01_0.01_True_model_dict.ckpt'\n",
      "[Errno 2] No such file or directory: '/Users/odedgolden/Developer/AutoRec/obj/AutoRecBase_PReLU_10_0.01_0.1_True_model_dict.ckpt'\n",
      "[Errno 2] No such file or directory: '/Users/odedgolden/Developer/AutoRec/obj/AutoRecBase_PReLU_10_0.01_1_True_model_dict.ckpt'\n",
      "[Errno 2] No such file or directory: '/Users/odedgolden/Developer/AutoRec/obj/AutoRecBase_PReLU_10_0.01_100_True_model_dict.ckpt'\n",
      "[Errno 2] No such file or directory: '/Users/odedgolden/Developer/AutoRec/obj/AutoRecBase_PReLU_10_0.01_1000_True_model_dict.ckpt'\n",
      "[Errno 2] No such file or directory: '/Users/odedgolden/Developer/AutoRec/obj/AutoRecBase_PReLU_20_0.01_0.001_True_model_dict.ckpt'\n",
      "[Errno 2] No such file or directory: '/Users/odedgolden/Developer/AutoRec/obj/AutoRecBase_PReLU_20_0.01_0.01_True_model_dict.ckpt'\n",
      "[Errno 2] No such file or directory: '/Users/odedgolden/Developer/AutoRec/obj/AutoRecBase_PReLU_20_0.01_0.1_True_model_dict.ckpt'\n",
      "[Errno 2] No such file or directory: '/Users/odedgolden/Developer/AutoRec/obj/AutoRecBase_PReLU_20_0.01_1_True_model_dict.ckpt'\n",
      "[Errno 2] No such file or directory: '/Users/odedgolden/Developer/AutoRec/obj/AutoRecBase_PReLU_20_0.01_100_True_model_dict.ckpt'\n",
      "[Errno 2] No such file or directory: '/Users/odedgolden/Developer/AutoRec/obj/AutoRecBase_PReLU_20_0.01_1000_True_model_dict.ckpt'\n",
      "[Errno 2] No such file or directory: '/Users/odedgolden/Developer/AutoRec/obj/AutoRecBase_PReLU_40_0.01_0.001_True_model_dict.ckpt'\n",
      "[Errno 2] No such file or directory: '/Users/odedgolden/Developer/AutoRec/obj/AutoRecBase_PReLU_40_0.01_0.01_True_model_dict.ckpt'\n",
      "[Errno 2] No such file or directory: '/Users/odedgolden/Developer/AutoRec/obj/AutoRecBase_PReLU_40_0.01_0.1_True_model_dict.ckpt'\n",
      "[Errno 2] No such file or directory: '/Users/odedgolden/Developer/AutoRec/obj/AutoRecBase_PReLU_40_0.01_1_True_model_dict.ckpt'\n",
      "[Errno 2] No such file or directory: '/Users/odedgolden/Developer/AutoRec/obj/AutoRecBase_PReLU_40_0.01_100_True_model_dict.ckpt'\n",
      "[Errno 2] No such file or directory: '/Users/odedgolden/Developer/AutoRec/obj/AutoRecBase_PReLU_40_0.01_1000_True_model_dict.ckpt'\n",
      "[Errno 2] No such file or directory: '/Users/odedgolden/Developer/AutoRec/obj/AutoRecBase_PReLU_80_0.01_0.001_True_model_dict.ckpt'\n",
      "[Errno 2] No such file or directory: '/Users/odedgolden/Developer/AutoRec/obj/AutoRecBase_PReLU_80_0.01_0.01_True_model_dict.ckpt'\n",
      "[Errno 2] No such file or directory: '/Users/odedgolden/Developer/AutoRec/obj/AutoRecBase_PReLU_80_0.01_0.1_True_model_dict.ckpt'\n",
      "[Errno 2] No such file or directory: '/Users/odedgolden/Developer/AutoRec/obj/AutoRecBase_PReLU_80_0.01_1_True_model_dict.ckpt'\n",
      "[Errno 2] No such file or directory: '/Users/odedgolden/Developer/AutoRec/obj/AutoRecBase_PReLU_80_0.01_100_True_model_dict.ckpt'\n",
      "[Errno 2] No such file or directory: '/Users/odedgolden/Developer/AutoRec/obj/AutoRecBase_PReLU_80_0.01_1000_True_model_dict.ckpt'\n",
      "[Errno 2] No such file or directory: '/Users/odedgolden/Developer/AutoRec/obj/AutoRecBase_PReLU_100_0.01_0.001_True_model_dict.ckpt'\n",
      "[Errno 2] No such file or directory: '/Users/odedgolden/Developer/AutoRec/obj/AutoRecBase_PReLU_100_0.01_0.01_True_model_dict.ckpt'\n",
      "[Errno 2] No such file or directory: '/Users/odedgolden/Developer/AutoRec/obj/AutoRecBase_PReLU_100_0.01_0.1_True_model_dict.ckpt'\n",
      "[Errno 2] No such file or directory: '/Users/odedgolden/Developer/AutoRec/obj/AutoRecBase_PReLU_100_0.01_1_True_model_dict.ckpt'\n",
      "[Errno 2] No such file or directory: '/Users/odedgolden/Developer/AutoRec/obj/AutoRecBase_PReLU_100_0.01_100_True_model_dict.ckpt'\n",
      "[Errno 2] No such file or directory: '/Users/odedgolden/Developer/AutoRec/obj/AutoRecBase_PReLU_100_0.01_1000_True_model_dict.ckpt'\n",
      "[Errno 2] No such file or directory: '/Users/odedgolden/Developer/AutoRec/obj/AutoRecBase_PReLU_200_0.01_0.001_True_model_dict.ckpt'\n",
      "[Errno 2] No such file or directory: '/Users/odedgolden/Developer/AutoRec/obj/AutoRecBase_PReLU_200_0.01_0.01_True_model_dict.ckpt'\n",
      "[Errno 2] No such file or directory: '/Users/odedgolden/Developer/AutoRec/obj/AutoRecBase_PReLU_200_0.01_0.1_True_model_dict.ckpt'\n",
      "[Errno 2] No such file or directory: '/Users/odedgolden/Developer/AutoRec/obj/AutoRecBase_PReLU_200_0.01_1_True_model_dict.ckpt'\n",
      "[Errno 2] No such file or directory: '/Users/odedgolden/Developer/AutoRec/obj/AutoRecBase_PReLU_200_0.01_100_True_model_dict.ckpt'\n",
      "[Errno 2] No such file or directory: '/Users/odedgolden/Developer/AutoRec/obj/AutoRecBase_PReLU_200_0.01_1000_True_model_dict.ckpt'\n",
      "[Errno 2] No such file or directory: '/Users/odedgolden/Developer/AutoRec/obj/AutoRecBase_PReLU_300_0.01_0.001_True_model_dict.ckpt'\n",
      "[Errno 2] No such file or directory: '/Users/odedgolden/Developer/AutoRec/obj/AutoRecBase_PReLU_300_0.01_0.01_True_model_dict.ckpt'\n",
      "[Errno 2] No such file or directory: '/Users/odedgolden/Developer/AutoRec/obj/AutoRecBase_PReLU_300_0.01_0.1_True_model_dict.ckpt'\n",
      "[Errno 2] No such file or directory: '/Users/odedgolden/Developer/AutoRec/obj/AutoRecBase_PReLU_300_0.01_1_True_model_dict.ckpt'\n",
      "[Errno 2] No such file or directory: '/Users/odedgolden/Developer/AutoRec/obj/AutoRecBase_PReLU_300_0.01_100_True_model_dict.ckpt'\n",
      "[Errno 2] No such file or directory: '/Users/odedgolden/Developer/AutoRec/obj/AutoRecBase_PReLU_300_0.01_1000_True_model_dict.ckpt'\n",
      "[Errno 2] No such file or directory: '/Users/odedgolden/Developer/AutoRec/obj/AutoRecBase_PReLU_400_0.01_0.001_True_model_dict.ckpt'\n",
      "[Errno 2] No such file or directory: '/Users/odedgolden/Developer/AutoRec/obj/AutoRecBase_PReLU_400_0.01_0.01_True_model_dict.ckpt'\n",
      "[Errno 2] No such file or directory: '/Users/odedgolden/Developer/AutoRec/obj/AutoRecBase_PReLU_400_0.01_0.1_True_model_dict.ckpt'\n",
      "[Errno 2] No such file or directory: '/Users/odedgolden/Developer/AutoRec/obj/AutoRecBase_PReLU_400_0.01_1_True_model_dict.ckpt'\n",
      "[Errno 2] No such file or directory: '/Users/odedgolden/Developer/AutoRec/obj/AutoRecBase_PReLU_400_0.01_100_True_model_dict.ckpt'\n",
      "[Errno 2] No such file or directory: '/Users/odedgolden/Developer/AutoRec/obj/AutoRecBase_PReLU_400_0.01_1000_True_model_dict.ckpt'\n",
      "[Errno 2] No such file or directory: '/Users/odedgolden/Developer/AutoRec/obj/AutoRecBase_PReLU_500_0.01_0.001_True_model_dict.ckpt'\n",
      "[Errno 2] No such file or directory: '/Users/odedgolden/Developer/AutoRec/obj/AutoRecBase_PReLU_500_0.01_0.01_True_model_dict.ckpt'\n",
      "[Errno 2] No such file or directory: '/Users/odedgolden/Developer/AutoRec/obj/AutoRecBase_PReLU_500_0.01_0.1_True_model_dict.ckpt'\n",
      "[Errno 2] No such file or directory: '/Users/odedgolden/Developer/AutoRec/obj/AutoRecBase_PReLU_500_0.01_1_True_model_dict.ckpt'\n",
      "[Errno 2] No such file or directory: '/Users/odedgolden/Developer/AutoRec/obj/AutoRecBase_PReLU_500_0.01_100_True_model_dict.ckpt'\n",
      "[Errno 2] No such file or directory: '/Users/odedgolden/Developer/AutoRec/obj/AutoRecBase_PReLU_500_0.01_1000_True_model_dict.ckpt'\n",
      "[Errno 2] No such file or directory: '/Users/odedgolden/Developer/AutoRec/obj/AutoRecBase_Sigmoid_10_0.001_0.001_True_model_dict.ckpt'\n",
      "[Errno 2] No such file or directory: '/Users/odedgolden/Developer/AutoRec/obj/AutoRecBase_Sigmoid_10_0.001_0.01_True_model_dict.ckpt'\n",
      "[Errno 2] No such file or directory: '/Users/odedgolden/Developer/AutoRec/obj/AutoRecBase_Sigmoid_10_0.001_0.1_True_model_dict.ckpt'\n",
      "[Errno 2] No such file or directory: '/Users/odedgolden/Developer/AutoRec/obj/AutoRecBase_Sigmoid_10_0.001_1_True_model_dict.ckpt'\n",
      "[Errno 2] No such file or directory: '/Users/odedgolden/Developer/AutoRec/obj/AutoRecBase_Sigmoid_10_0.001_100_True_model_dict.ckpt'\n",
      "[Errno 2] No such file or directory: '/Users/odedgolden/Developer/AutoRec/obj/AutoRecBase_Sigmoid_10_0.001_1000_True_model_dict.ckpt'\n",
      "[Errno 2] No such file or directory: '/Users/odedgolden/Developer/AutoRec/obj/AutoRecBase_Sigmoid_20_0.001_0.001_True_model_dict.ckpt'\n",
      "[Errno 2] No such file or directory: '/Users/odedgolden/Developer/AutoRec/obj/AutoRecBase_Sigmoid_20_0.001_0.01_True_model_dict.ckpt'\n",
      "[Errno 2] No such file or directory: '/Users/odedgolden/Developer/AutoRec/obj/AutoRecBase_Sigmoid_20_0.001_0.1_True_model_dict.ckpt'\n",
      "[Errno 2] No such file or directory: '/Users/odedgolden/Developer/AutoRec/obj/AutoRecBase_Sigmoid_20_0.001_1_True_model_dict.ckpt'\n",
      "[Errno 2] No such file or directory: '/Users/odedgolden/Developer/AutoRec/obj/AutoRecBase_Sigmoid_20_0.001_100_True_model_dict.ckpt'\n",
      "[Errno 2] No such file or directory: '/Users/odedgolden/Developer/AutoRec/obj/AutoRecBase_Sigmoid_20_0.001_1000_True_model_dict.ckpt'\n",
      "[Errno 2] No such file or directory: '/Users/odedgolden/Developer/AutoRec/obj/AutoRecBase_Sigmoid_40_0.001_0.001_True_model_dict.ckpt'\n",
      "[Errno 2] No such file or directory: '/Users/odedgolden/Developer/AutoRec/obj/AutoRecBase_Sigmoid_40_0.001_0.01_True_model_dict.ckpt'\n",
      "[Errno 2] No such file or directory: '/Users/odedgolden/Developer/AutoRec/obj/AutoRecBase_Sigmoid_40_0.001_0.1_True_model_dict.ckpt'\n",
      "[Errno 2] No such file or directory: '/Users/odedgolden/Developer/AutoRec/obj/AutoRecBase_Sigmoid_40_0.001_1_True_model_dict.ckpt'\n",
      "[Errno 2] No such file or directory: '/Users/odedgolden/Developer/AutoRec/obj/AutoRecBase_Sigmoid_40_0.001_100_True_model_dict.ckpt'\n",
      "[Errno 2] No such file or directory: '/Users/odedgolden/Developer/AutoRec/obj/AutoRecBase_Sigmoid_40_0.001_1000_True_model_dict.ckpt'\n",
      "[Errno 2] No such file or directory: '/Users/odedgolden/Developer/AutoRec/obj/AutoRecBase_Sigmoid_80_0.001_0.001_True_model_dict.ckpt'\n",
      "[Errno 2] No such file or directory: '/Users/odedgolden/Developer/AutoRec/obj/AutoRecBase_Sigmoid_80_0.001_0.01_True_model_dict.ckpt'\n",
      "[Errno 2] No such file or directory: '/Users/odedgolden/Developer/AutoRec/obj/AutoRecBase_Sigmoid_80_0.001_0.1_True_model_dict.ckpt'\n",
      "[Errno 2] No such file or directory: '/Users/odedgolden/Developer/AutoRec/obj/AutoRecBase_Sigmoid_80_0.001_1_True_model_dict.ckpt'\n",
      "[Errno 2] No such file or directory: '/Users/odedgolden/Developer/AutoRec/obj/AutoRecBase_Sigmoid_80_0.001_100_True_model_dict.ckpt'\n",
      "[Errno 2] No such file or directory: '/Users/odedgolden/Developer/AutoRec/obj/AutoRecBase_Sigmoid_80_0.001_1000_True_model_dict.ckpt'\n",
      "[Errno 2] No such file or directory: '/Users/odedgolden/Developer/AutoRec/obj/AutoRecBase_Sigmoid_100_0.001_0.001_True_model_dict.ckpt'\n",
      "[Errno 2] No such file or directory: '/Users/odedgolden/Developer/AutoRec/obj/AutoRecBase_Sigmoid_100_0.001_0.01_True_model_dict.ckpt'\n",
      "[Errno 2] No such file or directory: '/Users/odedgolden/Developer/AutoRec/obj/AutoRecBase_Sigmoid_100_0.001_0.1_True_model_dict.ckpt'\n",
      "[Errno 2] No such file or directory: '/Users/odedgolden/Developer/AutoRec/obj/AutoRecBase_Sigmoid_100_0.001_1_True_model_dict.ckpt'\n",
      "[Errno 2] No such file or directory: '/Users/odedgolden/Developer/AutoRec/obj/AutoRecBase_Sigmoid_100_0.001_100_True_model_dict.ckpt'\n",
      "[Errno 2] No such file or directory: '/Users/odedgolden/Developer/AutoRec/obj/AutoRecBase_Sigmoid_100_0.001_1000_True_model_dict.ckpt'\n",
      "[Errno 2] No such file or directory: '/Users/odedgolden/Developer/AutoRec/obj/AutoRecBase_Sigmoid_200_0.001_0.001_True_model_dict.ckpt'\n",
      "[Errno 2] No such file or directory: '/Users/odedgolden/Developer/AutoRec/obj/AutoRecBase_Sigmoid_200_0.001_0.01_True_model_dict.ckpt'\n",
      "[Errno 2] No such file or directory: '/Users/odedgolden/Developer/AutoRec/obj/AutoRecBase_Sigmoid_200_0.001_0.1_True_model_dict.ckpt'\n",
      "[Errno 2] No such file or directory: '/Users/odedgolden/Developer/AutoRec/obj/AutoRecBase_Sigmoid_200_0.001_1_True_model_dict.ckpt'\n",
      "[Errno 2] No such file or directory: '/Users/odedgolden/Developer/AutoRec/obj/AutoRecBase_Sigmoid_200_0.001_100_True_model_dict.ckpt'\n",
      "[Errno 2] No such file or directory: '/Users/odedgolden/Developer/AutoRec/obj/AutoRecBase_Sigmoid_200_0.001_1000_True_model_dict.ckpt'\n",
      "[Errno 2] No such file or directory: '/Users/odedgolden/Developer/AutoRec/obj/AutoRecBase_Sigmoid_300_0.001_0.001_True_model_dict.ckpt'\n",
      "[Errno 2] No such file or directory: '/Users/odedgolden/Developer/AutoRec/obj/AutoRecBase_Sigmoid_300_0.001_0.01_True_model_dict.ckpt'\n",
      "[Errno 2] No such file or directory: '/Users/odedgolden/Developer/AutoRec/obj/AutoRecBase_Sigmoid_300_0.001_0.1_True_model_dict.ckpt'\n",
      "[Errno 2] No such file or directory: '/Users/odedgolden/Developer/AutoRec/obj/AutoRecBase_Sigmoid_300_0.001_1_True_model_dict.ckpt'\n",
      "[Errno 2] No such file or directory: '/Users/odedgolden/Developer/AutoRec/obj/AutoRecBase_Sigmoid_300_0.001_100_True_model_dict.ckpt'\n",
      "[Errno 2] No such file or directory: '/Users/odedgolden/Developer/AutoRec/obj/AutoRecBase_Sigmoid_300_0.001_1000_True_model_dict.ckpt'\n",
      "[Errno 2] No such file or directory: '/Users/odedgolden/Developer/AutoRec/obj/AutoRecBase_Sigmoid_400_0.001_0.001_True_model_dict.ckpt'\n",
      "[Errno 2] No such file or directory: '/Users/odedgolden/Developer/AutoRec/obj/AutoRecBase_Sigmoid_400_0.001_0.01_True_model_dict.ckpt'\n",
      "[Errno 2] No such file or directory: '/Users/odedgolden/Developer/AutoRec/obj/AutoRecBase_Sigmoid_400_0.001_0.1_True_model_dict.ckpt'\n",
      "[Errno 2] No such file or directory: '/Users/odedgolden/Developer/AutoRec/obj/AutoRecBase_Sigmoid_400_0.001_1_True_model_dict.ckpt'\n",
      "[Errno 2] No such file or directory: '/Users/odedgolden/Developer/AutoRec/obj/AutoRecBase_Sigmoid_400_0.001_100_True_model_dict.ckpt'\n",
      "[Errno 2] No such file or directory: '/Users/odedgolden/Developer/AutoRec/obj/AutoRecBase_Sigmoid_400_0.001_1000_True_model_dict.ckpt'\n",
      "[Errno 2] No such file or directory: '/Users/odedgolden/Developer/AutoRec/obj/AutoRecBase_Sigmoid_500_0.001_0.001_True_model_dict.ckpt'\n",
      "[Errno 2] No such file or directory: '/Users/odedgolden/Developer/AutoRec/obj/AutoRecBase_Sigmoid_500_0.001_0.01_True_model_dict.ckpt'\n",
      "[Errno 2] No such file or directory: '/Users/odedgolden/Developer/AutoRec/obj/AutoRecBase_Sigmoid_500_0.001_0.1_True_model_dict.ckpt'\n",
      "[Errno 2] No such file or directory: '/Users/odedgolden/Developer/AutoRec/obj/AutoRecBase_Sigmoid_500_0.001_1_True_model_dict.ckpt'\n",
      "[Errno 2] No such file or directory: '/Users/odedgolden/Developer/AutoRec/obj/AutoRecBase_Sigmoid_500_0.001_100_True_model_dict.ckpt'\n",
      "[Errno 2] No such file or directory: '/Users/odedgolden/Developer/AutoRec/obj/AutoRecBase_Sigmoid_500_0.001_1000_True_model_dict.ckpt'\n",
      "[Errno 2] No such file or directory: '/Users/odedgolden/Developer/AutoRec/obj/AutoRecBase_Sigmoid_10_0.002_0.001_True_model_dict.ckpt'\n",
      "[Errno 2] No such file or directory: '/Users/odedgolden/Developer/AutoRec/obj/AutoRecBase_Sigmoid_10_0.002_0.01_True_model_dict.ckpt'\n",
      "[Errno 2] No such file or directory: '/Users/odedgolden/Developer/AutoRec/obj/AutoRecBase_Sigmoid_10_0.002_0.1_True_model_dict.ckpt'\n",
      "[Errno 2] No such file or directory: '/Users/odedgolden/Developer/AutoRec/obj/AutoRecBase_Sigmoid_10_0.002_1_True_model_dict.ckpt'\n",
      "[Errno 2] No such file or directory: '/Users/odedgolden/Developer/AutoRec/obj/AutoRecBase_Sigmoid_10_0.002_100_True_model_dict.ckpt'\n",
      "[Errno 2] No such file or directory: '/Users/odedgolden/Developer/AutoRec/obj/AutoRecBase_Sigmoid_10_0.002_1000_True_model_dict.ckpt'\n",
      "[Errno 2] No such file or directory: '/Users/odedgolden/Developer/AutoRec/obj/AutoRecBase_Sigmoid_20_0.002_0.001_True_model_dict.ckpt'\n",
      "[Errno 2] No such file or directory: '/Users/odedgolden/Developer/AutoRec/obj/AutoRecBase_Sigmoid_20_0.002_0.01_True_model_dict.ckpt'\n",
      "[Errno 2] No such file or directory: '/Users/odedgolden/Developer/AutoRec/obj/AutoRecBase_Sigmoid_20_0.002_0.1_True_model_dict.ckpt'\n",
      "[Errno 2] No such file or directory: '/Users/odedgolden/Developer/AutoRec/obj/AutoRecBase_Sigmoid_20_0.002_1_True_model_dict.ckpt'\n",
      "[Errno 2] No such file or directory: '/Users/odedgolden/Developer/AutoRec/obj/AutoRecBase_Sigmoid_20_0.002_100_True_model_dict.ckpt'\n",
      "[Errno 2] No such file or directory: '/Users/odedgolden/Developer/AutoRec/obj/AutoRecBase_Sigmoid_20_0.002_1000_True_model_dict.ckpt'\n",
      "[Errno 2] No such file or directory: '/Users/odedgolden/Developer/AutoRec/obj/AutoRecBase_Sigmoid_40_0.002_0.001_True_model_dict.ckpt'\n",
      "[Errno 2] No such file or directory: '/Users/odedgolden/Developer/AutoRec/obj/AutoRecBase_Sigmoid_40_0.002_0.01_True_model_dict.ckpt'\n",
      "[Errno 2] No such file or directory: '/Users/odedgolden/Developer/AutoRec/obj/AutoRecBase_Sigmoid_40_0.002_0.1_True_model_dict.ckpt'\n",
      "[Errno 2] No such file or directory: '/Users/odedgolden/Developer/AutoRec/obj/AutoRecBase_Sigmoid_40_0.002_1_True_model_dict.ckpt'\n",
      "[Errno 2] No such file or directory: '/Users/odedgolden/Developer/AutoRec/obj/AutoRecBase_Sigmoid_40_0.002_100_True_model_dict.ckpt'\n",
      "[Errno 2] No such file or directory: '/Users/odedgolden/Developer/AutoRec/obj/AutoRecBase_Sigmoid_40_0.002_1000_True_model_dict.ckpt'\n",
      "[Errno 2] No such file or directory: '/Users/odedgolden/Developer/AutoRec/obj/AutoRecBase_Sigmoid_80_0.002_0.001_True_model_dict.ckpt'\n",
      "[Errno 2] No such file or directory: '/Users/odedgolden/Developer/AutoRec/obj/AutoRecBase_Sigmoid_80_0.002_0.01_True_model_dict.ckpt'\n",
      "[Errno 2] No such file or directory: '/Users/odedgolden/Developer/AutoRec/obj/AutoRecBase_Sigmoid_80_0.002_0.1_True_model_dict.ckpt'\n",
      "[Errno 2] No such file or directory: '/Users/odedgolden/Developer/AutoRec/obj/AutoRecBase_Sigmoid_80_0.002_1_True_model_dict.ckpt'\n",
      "[Errno 2] No such file or directory: '/Users/odedgolden/Developer/AutoRec/obj/AutoRecBase_Sigmoid_80_0.002_100_True_model_dict.ckpt'\n",
      "[Errno 2] No such file or directory: '/Users/odedgolden/Developer/AutoRec/obj/AutoRecBase_Sigmoid_80_0.002_1000_True_model_dict.ckpt'\n",
      "[Errno 2] No such file or directory: '/Users/odedgolden/Developer/AutoRec/obj/AutoRecBase_Sigmoid_100_0.002_0.001_True_model_dict.ckpt'\n",
      "[Errno 2] No such file or directory: '/Users/odedgolden/Developer/AutoRec/obj/AutoRecBase_Sigmoid_100_0.002_0.01_True_model_dict.ckpt'\n",
      "[Errno 2] No such file or directory: '/Users/odedgolden/Developer/AutoRec/obj/AutoRecBase_Sigmoid_100_0.002_0.1_True_model_dict.ckpt'\n",
      "[Errno 2] No such file or directory: '/Users/odedgolden/Developer/AutoRec/obj/AutoRecBase_Sigmoid_100_0.002_1_True_model_dict.ckpt'\n",
      "[Errno 2] No such file or directory: '/Users/odedgolden/Developer/AutoRec/obj/AutoRecBase_Sigmoid_100_0.002_100_True_model_dict.ckpt'\n",
      "[Errno 2] No such file or directory: '/Users/odedgolden/Developer/AutoRec/obj/AutoRecBase_Sigmoid_100_0.002_1000_True_model_dict.ckpt'\n",
      "[Errno 2] No such file or directory: '/Users/odedgolden/Developer/AutoRec/obj/AutoRecBase_Sigmoid_200_0.002_0.001_True_model_dict.ckpt'\n",
      "[Errno 2] No such file or directory: '/Users/odedgolden/Developer/AutoRec/obj/AutoRecBase_Sigmoid_200_0.002_0.01_True_model_dict.ckpt'\n",
      "[Errno 2] No such file or directory: '/Users/odedgolden/Developer/AutoRec/obj/AutoRecBase_Sigmoid_200_0.002_0.1_True_model_dict.ckpt'\n",
      "[Errno 2] No such file or directory: '/Users/odedgolden/Developer/AutoRec/obj/AutoRecBase_Sigmoid_200_0.002_1_True_model_dict.ckpt'\n",
      "[Errno 2] No such file or directory: '/Users/odedgolden/Developer/AutoRec/obj/AutoRecBase_Sigmoid_200_0.002_100_True_model_dict.ckpt'\n",
      "[Errno 2] No such file or directory: '/Users/odedgolden/Developer/AutoRec/obj/AutoRecBase_Sigmoid_200_0.002_1000_True_model_dict.ckpt'\n",
      "[Errno 2] No such file or directory: '/Users/odedgolden/Developer/AutoRec/obj/AutoRecBase_Sigmoid_300_0.002_0.001_True_model_dict.ckpt'\n",
      "[Errno 2] No such file or directory: '/Users/odedgolden/Developer/AutoRec/obj/AutoRecBase_Sigmoid_300_0.002_0.01_True_model_dict.ckpt'\n",
      "[Errno 2] No such file or directory: '/Users/odedgolden/Developer/AutoRec/obj/AutoRecBase_Sigmoid_300_0.002_0.1_True_model_dict.ckpt'\n",
      "[Errno 2] No such file or directory: '/Users/odedgolden/Developer/AutoRec/obj/AutoRecBase_Sigmoid_300_0.002_1_True_model_dict.ckpt'\n",
      "[Errno 2] No such file or directory: '/Users/odedgolden/Developer/AutoRec/obj/AutoRecBase_Sigmoid_300_0.002_100_True_model_dict.ckpt'\n",
      "[Errno 2] No such file or directory: '/Users/odedgolden/Developer/AutoRec/obj/AutoRecBase_Sigmoid_300_0.002_1000_True_model_dict.ckpt'\n",
      "[Errno 2] No such file or directory: '/Users/odedgolden/Developer/AutoRec/obj/AutoRecBase_Sigmoid_400_0.002_0.001_True_model_dict.ckpt'\n",
      "[Errno 2] No such file or directory: '/Users/odedgolden/Developer/AutoRec/obj/AutoRecBase_Sigmoid_400_0.002_0.01_True_model_dict.ckpt'\n",
      "[Errno 2] No such file or directory: '/Users/odedgolden/Developer/AutoRec/obj/AutoRecBase_Sigmoid_400_0.002_0.1_True_model_dict.ckpt'\n",
      "[Errno 2] No such file or directory: '/Users/odedgolden/Developer/AutoRec/obj/AutoRecBase_Sigmoid_400_0.002_1_True_model_dict.ckpt'\n",
      "[Errno 2] No such file or directory: '/Users/odedgolden/Developer/AutoRec/obj/AutoRecBase_Sigmoid_400_0.002_100_True_model_dict.ckpt'\n",
      "[Errno 2] No such file or directory: '/Users/odedgolden/Developer/AutoRec/obj/AutoRecBase_Sigmoid_400_0.002_1000_True_model_dict.ckpt'\n",
      "[Errno 2] No such file or directory: '/Users/odedgolden/Developer/AutoRec/obj/AutoRecBase_Sigmoid_500_0.002_0.001_True_model_dict.ckpt'\n",
      "[Errno 2] No such file or directory: '/Users/odedgolden/Developer/AutoRec/obj/AutoRecBase_Sigmoid_500_0.002_0.01_True_model_dict.ckpt'\n",
      "[Errno 2] No such file or directory: '/Users/odedgolden/Developer/AutoRec/obj/AutoRecBase_Sigmoid_500_0.002_0.1_True_model_dict.ckpt'\n",
      "[Errno 2] No such file or directory: '/Users/odedgolden/Developer/AutoRec/obj/AutoRecBase_Sigmoid_500_0.002_1_True_model_dict.ckpt'\n",
      "[Errno 2] No such file or directory: '/Users/odedgolden/Developer/AutoRec/obj/AutoRecBase_Sigmoid_500_0.002_100_True_model_dict.ckpt'\n",
      "[Errno 2] No such file or directory: '/Users/odedgolden/Developer/AutoRec/obj/AutoRecBase_Sigmoid_500_0.002_1000_True_model_dict.ckpt'\n",
      "[Errno 2] No such file or directory: '/Users/odedgolden/Developer/AutoRec/obj/AutoRecBase_Sigmoid_10_0.004_0.001_True_model_dict.ckpt'\n",
      "[Errno 2] No such file or directory: '/Users/odedgolden/Developer/AutoRec/obj/AutoRecBase_Sigmoid_10_0.004_0.01_True_model_dict.ckpt'\n",
      "[Errno 2] No such file or directory: '/Users/odedgolden/Developer/AutoRec/obj/AutoRecBase_Sigmoid_10_0.004_0.1_True_model_dict.ckpt'\n",
      "[Errno 2] No such file or directory: '/Users/odedgolden/Developer/AutoRec/obj/AutoRecBase_Sigmoid_10_0.004_1_True_model_dict.ckpt'\n",
      "[Errno 2] No such file or directory: '/Users/odedgolden/Developer/AutoRec/obj/AutoRecBase_Sigmoid_10_0.004_100_True_model_dict.ckpt'\n",
      "[Errno 2] No such file or directory: '/Users/odedgolden/Developer/AutoRec/obj/AutoRecBase_Sigmoid_10_0.004_1000_True_model_dict.ckpt'\n",
      "[Errno 2] No such file or directory: '/Users/odedgolden/Developer/AutoRec/obj/AutoRecBase_Sigmoid_20_0.004_0.001_True_model_dict.ckpt'\n",
      "[Errno 2] No such file or directory: '/Users/odedgolden/Developer/AutoRec/obj/AutoRecBase_Sigmoid_20_0.004_0.01_True_model_dict.ckpt'\n",
      "[Errno 2] No such file or directory: '/Users/odedgolden/Developer/AutoRec/obj/AutoRecBase_Sigmoid_20_0.004_0.1_True_model_dict.ckpt'\n",
      "[Errno 2] No such file or directory: '/Users/odedgolden/Developer/AutoRec/obj/AutoRecBase_Sigmoid_20_0.004_1_True_model_dict.ckpt'\n",
      "[Errno 2] No such file or directory: '/Users/odedgolden/Developer/AutoRec/obj/AutoRecBase_Sigmoid_20_0.004_100_True_model_dict.ckpt'\n",
      "[Errno 2] No such file or directory: '/Users/odedgolden/Developer/AutoRec/obj/AutoRecBase_Sigmoid_20_0.004_1000_True_model_dict.ckpt'\n",
      "[Errno 2] No such file or directory: '/Users/odedgolden/Developer/AutoRec/obj/AutoRecBase_Sigmoid_40_0.004_0.001_True_model_dict.ckpt'\n",
      "[Errno 2] No such file or directory: '/Users/odedgolden/Developer/AutoRec/obj/AutoRecBase_Sigmoid_40_0.004_0.01_True_model_dict.ckpt'\n",
      "[Errno 2] No such file or directory: '/Users/odedgolden/Developer/AutoRec/obj/AutoRecBase_Sigmoid_40_0.004_0.1_True_model_dict.ckpt'\n",
      "[Errno 2] No such file or directory: '/Users/odedgolden/Developer/AutoRec/obj/AutoRecBase_Sigmoid_40_0.004_1_True_model_dict.ckpt'\n",
      "[Errno 2] No such file or directory: '/Users/odedgolden/Developer/AutoRec/obj/AutoRecBase_Sigmoid_40_0.004_100_True_model_dict.ckpt'\n",
      "[Errno 2] No such file or directory: '/Users/odedgolden/Developer/AutoRec/obj/AutoRecBase_Sigmoid_40_0.004_1000_True_model_dict.ckpt'\n",
      "[Errno 2] No such file or directory: '/Users/odedgolden/Developer/AutoRec/obj/AutoRecBase_Sigmoid_80_0.004_0.001_True_model_dict.ckpt'\n",
      "[Errno 2] No such file or directory: '/Users/odedgolden/Developer/AutoRec/obj/AutoRecBase_Sigmoid_80_0.004_0.01_True_model_dict.ckpt'\n",
      "[Errno 2] No such file or directory: '/Users/odedgolden/Developer/AutoRec/obj/AutoRecBase_Sigmoid_80_0.004_0.1_True_model_dict.ckpt'\n",
      "[Errno 2] No such file or directory: '/Users/odedgolden/Developer/AutoRec/obj/AutoRecBase_Sigmoid_80_0.004_1_True_model_dict.ckpt'\n",
      "[Errno 2] No such file or directory: '/Users/odedgolden/Developer/AutoRec/obj/AutoRecBase_Sigmoid_80_0.004_100_True_model_dict.ckpt'\n",
      "[Errno 2] No such file or directory: '/Users/odedgolden/Developer/AutoRec/obj/AutoRecBase_Sigmoid_80_0.004_1000_True_model_dict.ckpt'\n",
      "[Errno 2] No such file or directory: '/Users/odedgolden/Developer/AutoRec/obj/AutoRecBase_Sigmoid_100_0.004_0.001_True_model_dict.ckpt'\n",
      "[Errno 2] No such file or directory: '/Users/odedgolden/Developer/AutoRec/obj/AutoRecBase_Sigmoid_100_0.004_0.01_True_model_dict.ckpt'\n",
      "[Errno 2] No such file or directory: '/Users/odedgolden/Developer/AutoRec/obj/AutoRecBase_Sigmoid_100_0.004_0.1_True_model_dict.ckpt'\n",
      "[Errno 2] No such file or directory: '/Users/odedgolden/Developer/AutoRec/obj/AutoRecBase_Sigmoid_100_0.004_1_True_model_dict.ckpt'\n",
      "[Errno 2] No such file or directory: '/Users/odedgolden/Developer/AutoRec/obj/AutoRecBase_Sigmoid_100_0.004_100_True_model_dict.ckpt'\n",
      "[Errno 2] No such file or directory: '/Users/odedgolden/Developer/AutoRec/obj/AutoRecBase_Sigmoid_100_0.004_1000_True_model_dict.ckpt'\n",
      "[Errno 2] No such file or directory: '/Users/odedgolden/Developer/AutoRec/obj/AutoRecBase_Sigmoid_200_0.004_0.001_True_model_dict.ckpt'\n",
      "[Errno 2] No such file or directory: '/Users/odedgolden/Developer/AutoRec/obj/AutoRecBase_Sigmoid_200_0.004_0.01_True_model_dict.ckpt'\n",
      "[Errno 2] No such file or directory: '/Users/odedgolden/Developer/AutoRec/obj/AutoRecBase_Sigmoid_200_0.004_0.1_True_model_dict.ckpt'\n",
      "[Errno 2] No such file or directory: '/Users/odedgolden/Developer/AutoRec/obj/AutoRecBase_Sigmoid_200_0.004_1_True_model_dict.ckpt'\n",
      "[Errno 2] No such file or directory: '/Users/odedgolden/Developer/AutoRec/obj/AutoRecBase_Sigmoid_200_0.004_100_True_model_dict.ckpt'\n",
      "[Errno 2] No such file or directory: '/Users/odedgolden/Developer/AutoRec/obj/AutoRecBase_Sigmoid_200_0.004_1000_True_model_dict.ckpt'\n",
      "[Errno 2] No such file or directory: '/Users/odedgolden/Developer/AutoRec/obj/AutoRecBase_Sigmoid_300_0.004_0.001_True_model_dict.ckpt'\n",
      "[Errno 2] No such file or directory: '/Users/odedgolden/Developer/AutoRec/obj/AutoRecBase_Sigmoid_300_0.004_0.01_True_model_dict.ckpt'\n",
      "[Errno 2] No such file or directory: '/Users/odedgolden/Developer/AutoRec/obj/AutoRecBase_Sigmoid_300_0.004_0.1_True_model_dict.ckpt'\n",
      "[Errno 2] No such file or directory: '/Users/odedgolden/Developer/AutoRec/obj/AutoRecBase_Sigmoid_300_0.004_1_True_model_dict.ckpt'\n",
      "[Errno 2] No such file or directory: '/Users/odedgolden/Developer/AutoRec/obj/AutoRecBase_Sigmoid_300_0.004_100_True_model_dict.ckpt'\n",
      "[Errno 2] No such file or directory: '/Users/odedgolden/Developer/AutoRec/obj/AutoRecBase_Sigmoid_300_0.004_1000_True_model_dict.ckpt'\n",
      "[Errno 2] No such file or directory: '/Users/odedgolden/Developer/AutoRec/obj/AutoRecBase_Sigmoid_400_0.004_0.001_True_model_dict.ckpt'\n",
      "[Errno 2] No such file or directory: '/Users/odedgolden/Developer/AutoRec/obj/AutoRecBase_Sigmoid_400_0.004_0.01_True_model_dict.ckpt'\n",
      "[Errno 2] No such file or directory: '/Users/odedgolden/Developer/AutoRec/obj/AutoRecBase_Sigmoid_400_0.004_0.1_True_model_dict.ckpt'\n",
      "[Errno 2] No such file or directory: '/Users/odedgolden/Developer/AutoRec/obj/AutoRecBase_Sigmoid_400_0.004_1_True_model_dict.ckpt'\n",
      "[Errno 2] No such file or directory: '/Users/odedgolden/Developer/AutoRec/obj/AutoRecBase_Sigmoid_400_0.004_100_True_model_dict.ckpt'\n",
      "[Errno 2] No such file or directory: '/Users/odedgolden/Developer/AutoRec/obj/AutoRecBase_Sigmoid_400_0.004_1000_True_model_dict.ckpt'\n",
      "[Errno 2] No such file or directory: '/Users/odedgolden/Developer/AutoRec/obj/AutoRecBase_Sigmoid_500_0.004_0.001_True_model_dict.ckpt'\n",
      "[Errno 2] No such file or directory: '/Users/odedgolden/Developer/AutoRec/obj/AutoRecBase_Sigmoid_500_0.004_0.01_True_model_dict.ckpt'\n",
      "[Errno 2] No such file or directory: '/Users/odedgolden/Developer/AutoRec/obj/AutoRecBase_Sigmoid_500_0.004_0.1_True_model_dict.ckpt'\n",
      "[Errno 2] No such file or directory: '/Users/odedgolden/Developer/AutoRec/obj/AutoRecBase_Sigmoid_500_0.004_1_True_model_dict.ckpt'\n",
      "[Errno 2] No such file or directory: '/Users/odedgolden/Developer/AutoRec/obj/AutoRecBase_Sigmoid_500_0.004_100_True_model_dict.ckpt'\n",
      "[Errno 2] No such file or directory: '/Users/odedgolden/Developer/AutoRec/obj/AutoRecBase_Sigmoid_500_0.004_1000_True_model_dict.ckpt'\n",
      "[Errno 2] No such file or directory: '/Users/odedgolden/Developer/AutoRec/obj/AutoRecBase_Sigmoid_10_0.01_0.001_True_model_dict.ckpt'\n",
      "[Errno 2] No such file or directory: '/Users/odedgolden/Developer/AutoRec/obj/AutoRecBase_Sigmoid_10_0.01_0.01_True_model_dict.ckpt'\n",
      "[Errno 2] No such file or directory: '/Users/odedgolden/Developer/AutoRec/obj/AutoRecBase_Sigmoid_10_0.01_0.1_True_model_dict.ckpt'\n",
      "[Errno 2] No such file or directory: '/Users/odedgolden/Developer/AutoRec/obj/AutoRecBase_Sigmoid_10_0.01_1_True_model_dict.ckpt'\n",
      "[Errno 2] No such file or directory: '/Users/odedgolden/Developer/AutoRec/obj/AutoRecBase_Sigmoid_10_0.01_100_True_model_dict.ckpt'\n",
      "[Errno 2] No such file or directory: '/Users/odedgolden/Developer/AutoRec/obj/AutoRecBase_Sigmoid_10_0.01_1000_True_model_dict.ckpt'\n",
      "[Errno 2] No such file or directory: '/Users/odedgolden/Developer/AutoRec/obj/AutoRecBase_Sigmoid_20_0.01_0.001_True_model_dict.ckpt'\n",
      "[Errno 2] No such file or directory: '/Users/odedgolden/Developer/AutoRec/obj/AutoRecBase_Sigmoid_20_0.01_0.01_True_model_dict.ckpt'\n",
      "[Errno 2] No such file or directory: '/Users/odedgolden/Developer/AutoRec/obj/AutoRecBase_Sigmoid_20_0.01_0.1_True_model_dict.ckpt'\n",
      "[Errno 2] No such file or directory: '/Users/odedgolden/Developer/AutoRec/obj/AutoRecBase_Sigmoid_20_0.01_1_True_model_dict.ckpt'\n",
      "[Errno 2] No such file or directory: '/Users/odedgolden/Developer/AutoRec/obj/AutoRecBase_Sigmoid_20_0.01_100_True_model_dict.ckpt'\n",
      "[Errno 2] No such file or directory: '/Users/odedgolden/Developer/AutoRec/obj/AutoRecBase_Sigmoid_20_0.01_1000_True_model_dict.ckpt'\n",
      "[Errno 2] No such file or directory: '/Users/odedgolden/Developer/AutoRec/obj/AutoRecBase_Sigmoid_40_0.01_0.001_True_model_dict.ckpt'\n",
      "[Errno 2] No such file or directory: '/Users/odedgolden/Developer/AutoRec/obj/AutoRecBase_Sigmoid_40_0.01_0.01_True_model_dict.ckpt'\n",
      "[Errno 2] No such file or directory: '/Users/odedgolden/Developer/AutoRec/obj/AutoRecBase_Sigmoid_40_0.01_0.1_True_model_dict.ckpt'\n",
      "[Errno 2] No such file or directory: '/Users/odedgolden/Developer/AutoRec/obj/AutoRecBase_Sigmoid_40_0.01_1_True_model_dict.ckpt'\n",
      "[Errno 2] No such file or directory: '/Users/odedgolden/Developer/AutoRec/obj/AutoRecBase_Sigmoid_40_0.01_100_True_model_dict.ckpt'\n",
      "[Errno 2] No such file or directory: '/Users/odedgolden/Developer/AutoRec/obj/AutoRecBase_Sigmoid_40_0.01_1000_True_model_dict.ckpt'\n",
      "[Errno 2] No such file or directory: '/Users/odedgolden/Developer/AutoRec/obj/AutoRecBase_Sigmoid_80_0.01_0.001_True_model_dict.ckpt'\n",
      "[Errno 2] No such file or directory: '/Users/odedgolden/Developer/AutoRec/obj/AutoRecBase_Sigmoid_80_0.01_0.01_True_model_dict.ckpt'\n",
      "[Errno 2] No such file or directory: '/Users/odedgolden/Developer/AutoRec/obj/AutoRecBase_Sigmoid_80_0.01_0.1_True_model_dict.ckpt'\n",
      "[Errno 2] No such file or directory: '/Users/odedgolden/Developer/AutoRec/obj/AutoRecBase_Sigmoid_80_0.01_1_True_model_dict.ckpt'\n",
      "[Errno 2] No such file or directory: '/Users/odedgolden/Developer/AutoRec/obj/AutoRecBase_Sigmoid_80_0.01_100_True_model_dict.ckpt'\n",
      "[Errno 2] No such file or directory: '/Users/odedgolden/Developer/AutoRec/obj/AutoRecBase_Sigmoid_80_0.01_1000_True_model_dict.ckpt'\n",
      "[Errno 2] No such file or directory: '/Users/odedgolden/Developer/AutoRec/obj/AutoRecBase_Sigmoid_100_0.01_0.001_True_model_dict.ckpt'\n",
      "[Errno 2] No such file or directory: '/Users/odedgolden/Developer/AutoRec/obj/AutoRecBase_Sigmoid_100_0.01_0.01_True_model_dict.ckpt'\n",
      "[Errno 2] No such file or directory: '/Users/odedgolden/Developer/AutoRec/obj/AutoRecBase_Sigmoid_100_0.01_0.1_True_model_dict.ckpt'\n",
      "[Errno 2] No such file or directory: '/Users/odedgolden/Developer/AutoRec/obj/AutoRecBase_Sigmoid_100_0.01_1_True_model_dict.ckpt'\n",
      "[Errno 2] No such file or directory: '/Users/odedgolden/Developer/AutoRec/obj/AutoRecBase_Sigmoid_100_0.01_100_True_model_dict.ckpt'\n",
      "[Errno 2] No such file or directory: '/Users/odedgolden/Developer/AutoRec/obj/AutoRecBase_Sigmoid_100_0.01_1000_True_model_dict.ckpt'\n",
      "[Errno 2] No such file or directory: '/Users/odedgolden/Developer/AutoRec/obj/AutoRecBase_Sigmoid_200_0.01_0.001_True_model_dict.ckpt'\n",
      "[Errno 2] No such file or directory: '/Users/odedgolden/Developer/AutoRec/obj/AutoRecBase_Sigmoid_200_0.01_0.01_True_model_dict.ckpt'\n",
      "[Errno 2] No such file or directory: '/Users/odedgolden/Developer/AutoRec/obj/AutoRecBase_Sigmoid_200_0.01_0.1_True_model_dict.ckpt'\n",
      "[Errno 2] No such file or directory: '/Users/odedgolden/Developer/AutoRec/obj/AutoRecBase_Sigmoid_200_0.01_1_True_model_dict.ckpt'\n",
      "[Errno 2] No such file or directory: '/Users/odedgolden/Developer/AutoRec/obj/AutoRecBase_Sigmoid_200_0.01_100_True_model_dict.ckpt'\n",
      "[Errno 2] No such file or directory: '/Users/odedgolden/Developer/AutoRec/obj/AutoRecBase_Sigmoid_200_0.01_1000_True_model_dict.ckpt'\n",
      "[Errno 2] No such file or directory: '/Users/odedgolden/Developer/AutoRec/obj/AutoRecBase_Sigmoid_300_0.01_0.001_True_model_dict.ckpt'\n",
      "[Errno 2] No such file or directory: '/Users/odedgolden/Developer/AutoRec/obj/AutoRecBase_Sigmoid_300_0.01_0.01_True_model_dict.ckpt'\n",
      "[Errno 2] No such file or directory: '/Users/odedgolden/Developer/AutoRec/obj/AutoRecBase_Sigmoid_300_0.01_0.1_True_model_dict.ckpt'\n",
      "[Errno 2] No such file or directory: '/Users/odedgolden/Developer/AutoRec/obj/AutoRecBase_Sigmoid_300_0.01_1_True_model_dict.ckpt'\n",
      "[Errno 2] No such file or directory: '/Users/odedgolden/Developer/AutoRec/obj/AutoRecBase_Sigmoid_300_0.01_100_True_model_dict.ckpt'\n",
      "[Errno 2] No such file or directory: '/Users/odedgolden/Developer/AutoRec/obj/AutoRecBase_Sigmoid_300_0.01_1000_True_model_dict.ckpt'\n",
      "[Errno 2] No such file or directory: '/Users/odedgolden/Developer/AutoRec/obj/AutoRecBase_Sigmoid_400_0.01_0.001_True_model_dict.ckpt'\n",
      "[Errno 2] No such file or directory: '/Users/odedgolden/Developer/AutoRec/obj/AutoRecBase_Sigmoid_400_0.01_0.01_True_model_dict.ckpt'\n",
      "[Errno 2] No such file or directory: '/Users/odedgolden/Developer/AutoRec/obj/AutoRecBase_Sigmoid_400_0.01_0.1_True_model_dict.ckpt'\n",
      "[Errno 2] No such file or directory: '/Users/odedgolden/Developer/AutoRec/obj/AutoRecBase_Sigmoid_400_0.01_1_True_model_dict.ckpt'\n",
      "[Errno 2] No such file or directory: '/Users/odedgolden/Developer/AutoRec/obj/AutoRecBase_Sigmoid_400_0.01_100_True_model_dict.ckpt'\n",
      "[Errno 2] No such file or directory: '/Users/odedgolden/Developer/AutoRec/obj/AutoRecBase_Sigmoid_400_0.01_1000_True_model_dict.ckpt'\n",
      "[Errno 2] No such file or directory: '/Users/odedgolden/Developer/AutoRec/obj/AutoRecBase_Sigmoid_500_0.01_0.001_True_model_dict.ckpt'\n",
      "[Errno 2] No such file or directory: '/Users/odedgolden/Developer/AutoRec/obj/AutoRecBase_Sigmoid_500_0.01_0.01_True_model_dict.ckpt'\n",
      "[Errno 2] No such file or directory: '/Users/odedgolden/Developer/AutoRec/obj/AutoRecBase_Sigmoid_500_0.01_0.1_True_model_dict.ckpt'\n",
      "[Errno 2] No such file or directory: '/Users/odedgolden/Developer/AutoRec/obj/AutoRecBase_Sigmoid_500_0.01_1_True_model_dict.ckpt'\n",
      "[Errno 2] No such file or directory: '/Users/odedgolden/Developer/AutoRec/obj/AutoRecBase_Sigmoid_500_0.01_100_True_model_dict.ckpt'\n",
      "[Errno 2] No such file or directory: '/Users/odedgolden/Developer/AutoRec/obj/AutoRecBase_Sigmoid_500_0.01_1000_True_model_dict.ckpt'\n",
      "[Errno 2] No such file or directory: '/Users/odedgolden/Developer/AutoRec/obj/VarAutoRec_PReLU_10_0.001_0.001_True_model_dict.ckpt'\n",
      "[Errno 2] No such file or directory: '/Users/odedgolden/Developer/AutoRec/obj/VarAutoRec_PReLU_10_0.001_0.01_True_model_dict.ckpt'\n",
      "[Errno 2] No such file or directory: '/Users/odedgolden/Developer/AutoRec/obj/VarAutoRec_PReLU_10_0.001_0.1_True_model_dict.ckpt'\n",
      "[Errno 2] No such file or directory: '/Users/odedgolden/Developer/AutoRec/obj/VarAutoRec_PReLU_10_0.001_1_True_model_dict.ckpt'\n",
      "[Errno 2] No such file or directory: '/Users/odedgolden/Developer/AutoRec/obj/VarAutoRec_PReLU_10_0.001_100_True_model_dict.ckpt'\n",
      "[Errno 2] No such file or directory: '/Users/odedgolden/Developer/AutoRec/obj/VarAutoRec_PReLU_10_0.001_1000_True_model_dict.ckpt'\n",
      "[Errno 2] No such file or directory: '/Users/odedgolden/Developer/AutoRec/obj/VarAutoRec_PReLU_20_0.001_0.001_True_model_dict.ckpt'\n",
      "[Errno 2] No such file or directory: '/Users/odedgolden/Developer/AutoRec/obj/VarAutoRec_PReLU_20_0.001_0.01_True_model_dict.ckpt'\n",
      "[Errno 2] No such file or directory: '/Users/odedgolden/Developer/AutoRec/obj/VarAutoRec_PReLU_20_0.001_0.1_True_model_dict.ckpt'\n",
      "[Errno 2] No such file or directory: '/Users/odedgolden/Developer/AutoRec/obj/VarAutoRec_PReLU_20_0.001_1_True_model_dict.ckpt'\n",
      "[Errno 2] No such file or directory: '/Users/odedgolden/Developer/AutoRec/obj/VarAutoRec_PReLU_20_0.001_100_True_model_dict.ckpt'\n",
      "[Errno 2] No such file or directory: '/Users/odedgolden/Developer/AutoRec/obj/VarAutoRec_PReLU_20_0.001_1000_True_model_dict.ckpt'\n",
      "[Errno 2] No such file or directory: '/Users/odedgolden/Developer/AutoRec/obj/VarAutoRec_PReLU_40_0.001_0.001_True_model_dict.ckpt'\n",
      "[Errno 2] No such file or directory: '/Users/odedgolden/Developer/AutoRec/obj/VarAutoRec_PReLU_40_0.001_0.01_True_model_dict.ckpt'\n",
      "[Errno 2] No such file or directory: '/Users/odedgolden/Developer/AutoRec/obj/VarAutoRec_PReLU_40_0.001_0.1_True_model_dict.ckpt'\n",
      "[Errno 2] No such file or directory: '/Users/odedgolden/Developer/AutoRec/obj/VarAutoRec_PReLU_40_0.001_1_True_model_dict.ckpt'\n",
      "[Errno 2] No such file or directory: '/Users/odedgolden/Developer/AutoRec/obj/VarAutoRec_PReLU_40_0.001_100_True_model_dict.ckpt'\n",
      "[Errno 2] No such file or directory: '/Users/odedgolden/Developer/AutoRec/obj/VarAutoRec_PReLU_40_0.001_1000_True_model_dict.ckpt'\n",
      "[Errno 2] No such file or directory: '/Users/odedgolden/Developer/AutoRec/obj/VarAutoRec_PReLU_80_0.001_0.001_True_model_dict.ckpt'\n",
      "[Errno 2] No such file or directory: '/Users/odedgolden/Developer/AutoRec/obj/VarAutoRec_PReLU_80_0.001_0.01_True_model_dict.ckpt'\n",
      "[Errno 2] No such file or directory: '/Users/odedgolden/Developer/AutoRec/obj/VarAutoRec_PReLU_80_0.001_0.1_True_model_dict.ckpt'\n",
      "[Errno 2] No such file or directory: '/Users/odedgolden/Developer/AutoRec/obj/VarAutoRec_PReLU_80_0.001_1_True_model_dict.ckpt'\n",
      "[Errno 2] No such file or directory: '/Users/odedgolden/Developer/AutoRec/obj/VarAutoRec_PReLU_80_0.001_100_True_model_dict.ckpt'\n",
      "[Errno 2] No such file or directory: '/Users/odedgolden/Developer/AutoRec/obj/VarAutoRec_PReLU_80_0.001_1000_True_model_dict.ckpt'\n",
      "[Errno 2] No such file or directory: '/Users/odedgolden/Developer/AutoRec/obj/VarAutoRec_PReLU_100_0.001_0.001_True_model_dict.ckpt'\n",
      "[Errno 2] No such file or directory: '/Users/odedgolden/Developer/AutoRec/obj/VarAutoRec_PReLU_100_0.001_0.01_True_model_dict.ckpt'\n",
      "[Errno 2] No such file or directory: '/Users/odedgolden/Developer/AutoRec/obj/VarAutoRec_PReLU_100_0.001_0.1_True_model_dict.ckpt'\n",
      "[Errno 2] No such file or directory: '/Users/odedgolden/Developer/AutoRec/obj/VarAutoRec_PReLU_100_0.001_1_True_model_dict.ckpt'\n",
      "[Errno 2] No such file or directory: '/Users/odedgolden/Developer/AutoRec/obj/VarAutoRec_PReLU_100_0.001_100_True_model_dict.ckpt'\n",
      "[Errno 2] No such file or directory: '/Users/odedgolden/Developer/AutoRec/obj/VarAutoRec_PReLU_100_0.001_1000_True_model_dict.ckpt'\n",
      "[Errno 2] No such file or directory: '/Users/odedgolden/Developer/AutoRec/obj/VarAutoRec_PReLU_200_0.001_0.001_True_model_dict.ckpt'\n",
      "[Errno 2] No such file or directory: '/Users/odedgolden/Developer/AutoRec/obj/VarAutoRec_PReLU_200_0.001_0.01_True_model_dict.ckpt'\n",
      "[Errno 2] No such file or directory: '/Users/odedgolden/Developer/AutoRec/obj/VarAutoRec_PReLU_200_0.001_0.1_True_model_dict.ckpt'\n",
      "[Errno 2] No such file or directory: '/Users/odedgolden/Developer/AutoRec/obj/VarAutoRec_PReLU_200_0.001_1_True_model_dict.ckpt'\n",
      "[Errno 2] No such file or directory: '/Users/odedgolden/Developer/AutoRec/obj/VarAutoRec_PReLU_200_0.001_100_True_model_dict.ckpt'\n",
      "[Errno 2] No such file or directory: '/Users/odedgolden/Developer/AutoRec/obj/VarAutoRec_PReLU_200_0.001_1000_True_model_dict.ckpt'\n",
      "[Errno 2] No such file or directory: '/Users/odedgolden/Developer/AutoRec/obj/VarAutoRec_PReLU_300_0.001_0.001_True_model_dict.ckpt'\n",
      "[Errno 2] No such file or directory: '/Users/odedgolden/Developer/AutoRec/obj/VarAutoRec_PReLU_300_0.001_0.01_True_model_dict.ckpt'\n",
      "[Errno 2] No such file or directory: '/Users/odedgolden/Developer/AutoRec/obj/VarAutoRec_PReLU_300_0.001_0.1_True_model_dict.ckpt'\n",
      "[Errno 2] No such file or directory: '/Users/odedgolden/Developer/AutoRec/obj/VarAutoRec_PReLU_300_0.001_1_True_model_dict.ckpt'\n",
      "[Errno 2] No such file or directory: '/Users/odedgolden/Developer/AutoRec/obj/VarAutoRec_PReLU_300_0.001_100_True_model_dict.ckpt'\n",
      "[Errno 2] No such file or directory: '/Users/odedgolden/Developer/AutoRec/obj/VarAutoRec_PReLU_300_0.001_1000_True_model_dict.ckpt'\n",
      "[Errno 2] No such file or directory: '/Users/odedgolden/Developer/AutoRec/obj/VarAutoRec_PReLU_400_0.001_0.001_True_model_dict.ckpt'\n",
      "[Errno 2] No such file or directory: '/Users/odedgolden/Developer/AutoRec/obj/VarAutoRec_PReLU_400_0.001_0.01_True_model_dict.ckpt'\n",
      "[Errno 2] No such file or directory: '/Users/odedgolden/Developer/AutoRec/obj/VarAutoRec_PReLU_400_0.001_0.1_True_model_dict.ckpt'\n",
      "[Errno 2] No such file or directory: '/Users/odedgolden/Developer/AutoRec/obj/VarAutoRec_PReLU_400_0.001_1_True_model_dict.ckpt'\n",
      "[Errno 2] No such file or directory: '/Users/odedgolden/Developer/AutoRec/obj/VarAutoRec_PReLU_400_0.001_100_True_model_dict.ckpt'\n",
      "[Errno 2] No such file or directory: '/Users/odedgolden/Developer/AutoRec/obj/VarAutoRec_PReLU_400_0.001_1000_True_model_dict.ckpt'\n",
      "[Errno 2] No such file or directory: '/Users/odedgolden/Developer/AutoRec/obj/VarAutoRec_PReLU_500_0.001_0.001_True_model_dict.ckpt'\n",
      "[Errno 2] No such file or directory: '/Users/odedgolden/Developer/AutoRec/obj/VarAutoRec_PReLU_500_0.001_0.01_True_model_dict.ckpt'\n",
      "[Errno 2] No such file or directory: '/Users/odedgolden/Developer/AutoRec/obj/VarAutoRec_PReLU_500_0.001_0.1_True_model_dict.ckpt'\n",
      "[Errno 2] No such file or directory: '/Users/odedgolden/Developer/AutoRec/obj/VarAutoRec_PReLU_500_0.001_1_True_model_dict.ckpt'\n",
      "[Errno 2] No such file or directory: '/Users/odedgolden/Developer/AutoRec/obj/VarAutoRec_PReLU_500_0.001_100_True_model_dict.ckpt'\n",
      "[Errno 2] No such file or directory: '/Users/odedgolden/Developer/AutoRec/obj/VarAutoRec_PReLU_500_0.001_1000_True_model_dict.ckpt'\n",
      "[Errno 2] No such file or directory: '/Users/odedgolden/Developer/AutoRec/obj/VarAutoRec_PReLU_10_0.002_0.001_True_model_dict.ckpt'\n",
      "[Errno 2] No such file or directory: '/Users/odedgolden/Developer/AutoRec/obj/VarAutoRec_PReLU_10_0.002_0.01_True_model_dict.ckpt'\n",
      "[Errno 2] No such file or directory: '/Users/odedgolden/Developer/AutoRec/obj/VarAutoRec_PReLU_10_0.002_0.1_True_model_dict.ckpt'\n",
      "[Errno 2] No such file or directory: '/Users/odedgolden/Developer/AutoRec/obj/VarAutoRec_PReLU_10_0.002_1_True_model_dict.ckpt'\n",
      "[Errno 2] No such file or directory: '/Users/odedgolden/Developer/AutoRec/obj/VarAutoRec_PReLU_10_0.002_100_True_model_dict.ckpt'\n",
      "[Errno 2] No such file or directory: '/Users/odedgolden/Developer/AutoRec/obj/VarAutoRec_PReLU_10_0.002_1000_True_model_dict.ckpt'\n",
      "[Errno 2] No such file or directory: '/Users/odedgolden/Developer/AutoRec/obj/VarAutoRec_PReLU_20_0.002_0.001_True_model_dict.ckpt'\n",
      "[Errno 2] No such file or directory: '/Users/odedgolden/Developer/AutoRec/obj/VarAutoRec_PReLU_20_0.002_0.01_True_model_dict.ckpt'\n",
      "[Errno 2] No such file or directory: '/Users/odedgolden/Developer/AutoRec/obj/VarAutoRec_PReLU_20_0.002_0.1_True_model_dict.ckpt'\n",
      "[Errno 2] No such file or directory: '/Users/odedgolden/Developer/AutoRec/obj/VarAutoRec_PReLU_20_0.002_1_True_model_dict.ckpt'\n",
      "[Errno 2] No such file or directory: '/Users/odedgolden/Developer/AutoRec/obj/VarAutoRec_PReLU_20_0.002_100_True_model_dict.ckpt'\n",
      "[Errno 2] No such file or directory: '/Users/odedgolden/Developer/AutoRec/obj/VarAutoRec_PReLU_20_0.002_1000_True_model_dict.ckpt'\n",
      "[Errno 2] No such file or directory: '/Users/odedgolden/Developer/AutoRec/obj/VarAutoRec_PReLU_40_0.002_0.001_True_model_dict.ckpt'\n",
      "[Errno 2] No such file or directory: '/Users/odedgolden/Developer/AutoRec/obj/VarAutoRec_PReLU_40_0.002_0.01_True_model_dict.ckpt'\n",
      "[Errno 2] No such file or directory: '/Users/odedgolden/Developer/AutoRec/obj/VarAutoRec_PReLU_40_0.002_0.1_True_model_dict.ckpt'\n",
      "[Errno 2] No such file or directory: '/Users/odedgolden/Developer/AutoRec/obj/VarAutoRec_PReLU_40_0.002_1_True_model_dict.ckpt'\n",
      "[Errno 2] No such file or directory: '/Users/odedgolden/Developer/AutoRec/obj/VarAutoRec_PReLU_40_0.002_100_True_model_dict.ckpt'\n",
      "[Errno 2] No such file or directory: '/Users/odedgolden/Developer/AutoRec/obj/VarAutoRec_PReLU_40_0.002_1000_True_model_dict.ckpt'\n",
      "[Errno 2] No such file or directory: '/Users/odedgolden/Developer/AutoRec/obj/VarAutoRec_PReLU_80_0.002_0.001_True_model_dict.ckpt'\n",
      "[Errno 2] No such file or directory: '/Users/odedgolden/Developer/AutoRec/obj/VarAutoRec_PReLU_80_0.002_0.01_True_model_dict.ckpt'\n",
      "[Errno 2] No such file or directory: '/Users/odedgolden/Developer/AutoRec/obj/VarAutoRec_PReLU_80_0.002_0.1_True_model_dict.ckpt'\n",
      "[Errno 2] No such file or directory: '/Users/odedgolden/Developer/AutoRec/obj/VarAutoRec_PReLU_80_0.002_1_True_model_dict.ckpt'\n",
      "[Errno 2] No such file or directory: '/Users/odedgolden/Developer/AutoRec/obj/VarAutoRec_PReLU_80_0.002_100_True_model_dict.ckpt'\n",
      "[Errno 2] No such file or directory: '/Users/odedgolden/Developer/AutoRec/obj/VarAutoRec_PReLU_80_0.002_1000_True_model_dict.ckpt'\n",
      "[Errno 2] No such file or directory: '/Users/odedgolden/Developer/AutoRec/obj/VarAutoRec_PReLU_100_0.002_0.001_True_model_dict.ckpt'\n",
      "[Errno 2] No such file or directory: '/Users/odedgolden/Developer/AutoRec/obj/VarAutoRec_PReLU_100_0.002_0.01_True_model_dict.ckpt'\n",
      "[Errno 2] No such file or directory: '/Users/odedgolden/Developer/AutoRec/obj/VarAutoRec_PReLU_100_0.002_0.1_True_model_dict.ckpt'\n",
      "[Errno 2] No such file or directory: '/Users/odedgolden/Developer/AutoRec/obj/VarAutoRec_PReLU_100_0.002_1_True_model_dict.ckpt'\n",
      "[Errno 2] No such file or directory: '/Users/odedgolden/Developer/AutoRec/obj/VarAutoRec_PReLU_100_0.002_100_True_model_dict.ckpt'\n",
      "[Errno 2] No such file or directory: '/Users/odedgolden/Developer/AutoRec/obj/VarAutoRec_PReLU_100_0.002_1000_True_model_dict.ckpt'\n",
      "[Errno 2] No such file or directory: '/Users/odedgolden/Developer/AutoRec/obj/VarAutoRec_PReLU_200_0.002_0.001_True_model_dict.ckpt'\n",
      "[Errno 2] No such file or directory: '/Users/odedgolden/Developer/AutoRec/obj/VarAutoRec_PReLU_200_0.002_0.01_True_model_dict.ckpt'\n",
      "[Errno 2] No such file or directory: '/Users/odedgolden/Developer/AutoRec/obj/VarAutoRec_PReLU_200_0.002_0.1_True_model_dict.ckpt'\n",
      "[Errno 2] No such file or directory: '/Users/odedgolden/Developer/AutoRec/obj/VarAutoRec_PReLU_200_0.002_1_True_model_dict.ckpt'\n",
      "[Errno 2] No such file or directory: '/Users/odedgolden/Developer/AutoRec/obj/VarAutoRec_PReLU_200_0.002_100_True_model_dict.ckpt'\n",
      "[Errno 2] No such file or directory: '/Users/odedgolden/Developer/AutoRec/obj/VarAutoRec_PReLU_200_0.002_1000_True_model_dict.ckpt'\n",
      "[Errno 2] No such file or directory: '/Users/odedgolden/Developer/AutoRec/obj/VarAutoRec_PReLU_300_0.002_0.001_True_model_dict.ckpt'\n",
      "[Errno 2] No such file or directory: '/Users/odedgolden/Developer/AutoRec/obj/VarAutoRec_PReLU_300_0.002_0.01_True_model_dict.ckpt'\n",
      "[Errno 2] No such file or directory: '/Users/odedgolden/Developer/AutoRec/obj/VarAutoRec_PReLU_300_0.002_0.1_True_model_dict.ckpt'\n",
      "[Errno 2] No such file or directory: '/Users/odedgolden/Developer/AutoRec/obj/VarAutoRec_PReLU_300_0.002_1_True_model_dict.ckpt'\n",
      "[Errno 2] No such file or directory: '/Users/odedgolden/Developer/AutoRec/obj/VarAutoRec_PReLU_300_0.002_100_True_model_dict.ckpt'\n",
      "[Errno 2] No such file or directory: '/Users/odedgolden/Developer/AutoRec/obj/VarAutoRec_PReLU_300_0.002_1000_True_model_dict.ckpt'\n",
      "[Errno 2] No such file or directory: '/Users/odedgolden/Developer/AutoRec/obj/VarAutoRec_PReLU_400_0.002_0.001_True_model_dict.ckpt'\n",
      "[Errno 2] No such file or directory: '/Users/odedgolden/Developer/AutoRec/obj/VarAutoRec_PReLU_400_0.002_0.01_True_model_dict.ckpt'\n",
      "[Errno 2] No such file or directory: '/Users/odedgolden/Developer/AutoRec/obj/VarAutoRec_PReLU_400_0.002_0.1_True_model_dict.ckpt'\n",
      "[Errno 2] No such file or directory: '/Users/odedgolden/Developer/AutoRec/obj/VarAutoRec_PReLU_400_0.002_1_True_model_dict.ckpt'\n",
      "[Errno 2] No such file or directory: '/Users/odedgolden/Developer/AutoRec/obj/VarAutoRec_PReLU_400_0.002_100_True_model_dict.ckpt'\n",
      "[Errno 2] No such file or directory: '/Users/odedgolden/Developer/AutoRec/obj/VarAutoRec_PReLU_400_0.002_1000_True_model_dict.ckpt'\n",
      "[Errno 2] No such file or directory: '/Users/odedgolden/Developer/AutoRec/obj/VarAutoRec_PReLU_500_0.002_0.001_True_model_dict.ckpt'\n",
      "[Errno 2] No such file or directory: '/Users/odedgolden/Developer/AutoRec/obj/VarAutoRec_PReLU_500_0.002_0.01_True_model_dict.ckpt'\n",
      "[Errno 2] No such file or directory: '/Users/odedgolden/Developer/AutoRec/obj/VarAutoRec_PReLU_500_0.002_0.1_True_model_dict.ckpt'\n",
      "[Errno 2] No such file or directory: '/Users/odedgolden/Developer/AutoRec/obj/VarAutoRec_PReLU_500_0.002_1_True_model_dict.ckpt'\n",
      "[Errno 2] No such file or directory: '/Users/odedgolden/Developer/AutoRec/obj/VarAutoRec_PReLU_500_0.002_100_True_model_dict.ckpt'\n",
      "[Errno 2] No such file or directory: '/Users/odedgolden/Developer/AutoRec/obj/VarAutoRec_PReLU_500_0.002_1000_True_model_dict.ckpt'\n",
      "[Errno 2] No such file or directory: '/Users/odedgolden/Developer/AutoRec/obj/VarAutoRec_PReLU_10_0.004_0.001_True_model_dict.ckpt'\n",
      "[Errno 2] No such file or directory: '/Users/odedgolden/Developer/AutoRec/obj/VarAutoRec_PReLU_10_0.004_0.01_True_model_dict.ckpt'\n",
      "[Errno 2] No such file or directory: '/Users/odedgolden/Developer/AutoRec/obj/VarAutoRec_PReLU_10_0.004_0.1_True_model_dict.ckpt'\n",
      "[Errno 2] No such file or directory: '/Users/odedgolden/Developer/AutoRec/obj/VarAutoRec_PReLU_10_0.004_1_True_model_dict.ckpt'\n",
      "[Errno 2] No such file or directory: '/Users/odedgolden/Developer/AutoRec/obj/VarAutoRec_PReLU_10_0.004_100_True_model_dict.ckpt'\n",
      "[Errno 2] No such file or directory: '/Users/odedgolden/Developer/AutoRec/obj/VarAutoRec_PReLU_10_0.004_1000_True_model_dict.ckpt'\n",
      "[Errno 2] No such file or directory: '/Users/odedgolden/Developer/AutoRec/obj/VarAutoRec_PReLU_20_0.004_0.001_True_model_dict.ckpt'\n",
      "[Errno 2] No such file or directory: '/Users/odedgolden/Developer/AutoRec/obj/VarAutoRec_PReLU_20_0.004_0.01_True_model_dict.ckpt'\n",
      "[Errno 2] No such file or directory: '/Users/odedgolden/Developer/AutoRec/obj/VarAutoRec_PReLU_20_0.004_0.1_True_model_dict.ckpt'\n",
      "[Errno 2] No such file or directory: '/Users/odedgolden/Developer/AutoRec/obj/VarAutoRec_PReLU_20_0.004_1_True_model_dict.ckpt'\n",
      "[Errno 2] No such file or directory: '/Users/odedgolden/Developer/AutoRec/obj/VarAutoRec_PReLU_20_0.004_100_True_model_dict.ckpt'\n",
      "[Errno 2] No such file or directory: '/Users/odedgolden/Developer/AutoRec/obj/VarAutoRec_PReLU_20_0.004_1000_True_model_dict.ckpt'\n",
      "[Errno 2] No such file or directory: '/Users/odedgolden/Developer/AutoRec/obj/VarAutoRec_PReLU_40_0.004_0.001_True_model_dict.ckpt'\n",
      "[Errno 2] No such file or directory: '/Users/odedgolden/Developer/AutoRec/obj/VarAutoRec_PReLU_40_0.004_0.01_True_model_dict.ckpt'\n",
      "[Errno 2] No such file or directory: '/Users/odedgolden/Developer/AutoRec/obj/VarAutoRec_PReLU_40_0.004_0.1_True_model_dict.ckpt'\n",
      "[Errno 2] No such file or directory: '/Users/odedgolden/Developer/AutoRec/obj/VarAutoRec_PReLU_40_0.004_1_True_model_dict.ckpt'\n",
      "[Errno 2] No such file or directory: '/Users/odedgolden/Developer/AutoRec/obj/VarAutoRec_PReLU_40_0.004_100_True_model_dict.ckpt'\n",
      "[Errno 2] No such file or directory: '/Users/odedgolden/Developer/AutoRec/obj/VarAutoRec_PReLU_40_0.004_1000_True_model_dict.ckpt'\n",
      "[Errno 2] No such file or directory: '/Users/odedgolden/Developer/AutoRec/obj/VarAutoRec_PReLU_80_0.004_0.001_True_model_dict.ckpt'\n",
      "[Errno 2] No such file or directory: '/Users/odedgolden/Developer/AutoRec/obj/VarAutoRec_PReLU_80_0.004_0.01_True_model_dict.ckpt'\n",
      "[Errno 2] No such file or directory: '/Users/odedgolden/Developer/AutoRec/obj/VarAutoRec_PReLU_80_0.004_0.1_True_model_dict.ckpt'\n",
      "[Errno 2] No such file or directory: '/Users/odedgolden/Developer/AutoRec/obj/VarAutoRec_PReLU_80_0.004_1_True_model_dict.ckpt'\n",
      "[Errno 2] No such file or directory: '/Users/odedgolden/Developer/AutoRec/obj/VarAutoRec_PReLU_80_0.004_100_True_model_dict.ckpt'\n",
      "[Errno 2] No such file or directory: '/Users/odedgolden/Developer/AutoRec/obj/VarAutoRec_PReLU_80_0.004_1000_True_model_dict.ckpt'\n",
      "[Errno 2] No such file or directory: '/Users/odedgolden/Developer/AutoRec/obj/VarAutoRec_PReLU_100_0.004_0.001_True_model_dict.ckpt'\n",
      "[Errno 2] No such file or directory: '/Users/odedgolden/Developer/AutoRec/obj/VarAutoRec_PReLU_100_0.004_0.01_True_model_dict.ckpt'\n",
      "[Errno 2] No such file or directory: '/Users/odedgolden/Developer/AutoRec/obj/VarAutoRec_PReLU_100_0.004_0.1_True_model_dict.ckpt'\n",
      "[Errno 2] No such file or directory: '/Users/odedgolden/Developer/AutoRec/obj/VarAutoRec_PReLU_100_0.004_1_True_model_dict.ckpt'\n",
      "[Errno 2] No such file or directory: '/Users/odedgolden/Developer/AutoRec/obj/VarAutoRec_PReLU_100_0.004_100_True_model_dict.ckpt'\n",
      "[Errno 2] No such file or directory: '/Users/odedgolden/Developer/AutoRec/obj/VarAutoRec_PReLU_100_0.004_1000_True_model_dict.ckpt'\n",
      "[Errno 2] No such file or directory: '/Users/odedgolden/Developer/AutoRec/obj/VarAutoRec_PReLU_200_0.004_0.001_True_model_dict.ckpt'\n",
      "[Errno 2] No such file or directory: '/Users/odedgolden/Developer/AutoRec/obj/VarAutoRec_PReLU_200_0.004_0.01_True_model_dict.ckpt'\n",
      "[Errno 2] No such file or directory: '/Users/odedgolden/Developer/AutoRec/obj/VarAutoRec_PReLU_200_0.004_0.1_True_model_dict.ckpt'\n",
      "[Errno 2] No such file or directory: '/Users/odedgolden/Developer/AutoRec/obj/VarAutoRec_PReLU_200_0.004_1_True_model_dict.ckpt'\n",
      "[Errno 2] No such file or directory: '/Users/odedgolden/Developer/AutoRec/obj/VarAutoRec_PReLU_200_0.004_100_True_model_dict.ckpt'\n",
      "[Errno 2] No such file or directory: '/Users/odedgolden/Developer/AutoRec/obj/VarAutoRec_PReLU_200_0.004_1000_True_model_dict.ckpt'\n",
      "[Errno 2] No such file or directory: '/Users/odedgolden/Developer/AutoRec/obj/VarAutoRec_PReLU_300_0.004_0.001_True_model_dict.ckpt'\n",
      "[Errno 2] No such file or directory: '/Users/odedgolden/Developer/AutoRec/obj/VarAutoRec_PReLU_300_0.004_0.01_True_model_dict.ckpt'\n",
      "[Errno 2] No such file or directory: '/Users/odedgolden/Developer/AutoRec/obj/VarAutoRec_PReLU_300_0.004_0.1_True_model_dict.ckpt'\n",
      "[Errno 2] No such file or directory: '/Users/odedgolden/Developer/AutoRec/obj/VarAutoRec_PReLU_300_0.004_1_True_model_dict.ckpt'\n",
      "[Errno 2] No such file or directory: '/Users/odedgolden/Developer/AutoRec/obj/VarAutoRec_PReLU_300_0.004_100_True_model_dict.ckpt'\n",
      "[Errno 2] No such file or directory: '/Users/odedgolden/Developer/AutoRec/obj/VarAutoRec_PReLU_300_0.004_1000_True_model_dict.ckpt'\n",
      "[Errno 2] No such file or directory: '/Users/odedgolden/Developer/AutoRec/obj/VarAutoRec_PReLU_400_0.004_0.001_True_model_dict.ckpt'\n",
      "[Errno 2] No such file or directory: '/Users/odedgolden/Developer/AutoRec/obj/VarAutoRec_PReLU_400_0.004_0.01_True_model_dict.ckpt'\n",
      "[Errno 2] No such file or directory: '/Users/odedgolden/Developer/AutoRec/obj/VarAutoRec_PReLU_400_0.004_0.1_True_model_dict.ckpt'\n",
      "[Errno 2] No such file or directory: '/Users/odedgolden/Developer/AutoRec/obj/VarAutoRec_PReLU_400_0.004_1_True_model_dict.ckpt'\n",
      "[Errno 2] No such file or directory: '/Users/odedgolden/Developer/AutoRec/obj/VarAutoRec_PReLU_400_0.004_100_True_model_dict.ckpt'\n",
      "[Errno 2] No such file or directory: '/Users/odedgolden/Developer/AutoRec/obj/VarAutoRec_PReLU_400_0.004_1000_True_model_dict.ckpt'\n",
      "[Errno 2] No such file or directory: '/Users/odedgolden/Developer/AutoRec/obj/VarAutoRec_PReLU_500_0.004_0.001_True_model_dict.ckpt'\n",
      "[Errno 2] No such file or directory: '/Users/odedgolden/Developer/AutoRec/obj/VarAutoRec_PReLU_500_0.004_0.01_True_model_dict.ckpt'\n",
      "[Errno 2] No such file or directory: '/Users/odedgolden/Developer/AutoRec/obj/VarAutoRec_PReLU_500_0.004_0.1_True_model_dict.ckpt'\n",
      "[Errno 2] No such file or directory: '/Users/odedgolden/Developer/AutoRec/obj/VarAutoRec_PReLU_500_0.004_1_True_model_dict.ckpt'\n",
      "[Errno 2] No such file or directory: '/Users/odedgolden/Developer/AutoRec/obj/VarAutoRec_PReLU_500_0.004_100_True_model_dict.ckpt'\n",
      "[Errno 2] No such file or directory: '/Users/odedgolden/Developer/AutoRec/obj/VarAutoRec_PReLU_500_0.004_1000_True_model_dict.ckpt'\n",
      "[Errno 2] No such file or directory: '/Users/odedgolden/Developer/AutoRec/obj/VarAutoRec_PReLU_10_0.01_0.001_True_model_dict.ckpt'\n",
      "[Errno 2] No such file or directory: '/Users/odedgolden/Developer/AutoRec/obj/VarAutoRec_PReLU_10_0.01_0.01_True_model_dict.ckpt'\n",
      "[Errno 2] No such file or directory: '/Users/odedgolden/Developer/AutoRec/obj/VarAutoRec_PReLU_10_0.01_0.1_True_model_dict.ckpt'\n",
      "[Errno 2] No such file or directory: '/Users/odedgolden/Developer/AutoRec/obj/VarAutoRec_PReLU_10_0.01_1_True_model_dict.ckpt'\n",
      "[Errno 2] No such file or directory: '/Users/odedgolden/Developer/AutoRec/obj/VarAutoRec_PReLU_10_0.01_100_True_model_dict.ckpt'\n",
      "[Errno 2] No such file or directory: '/Users/odedgolden/Developer/AutoRec/obj/VarAutoRec_PReLU_10_0.01_1000_True_model_dict.ckpt'\n",
      "[Errno 2] No such file or directory: '/Users/odedgolden/Developer/AutoRec/obj/VarAutoRec_PReLU_20_0.01_0.001_True_model_dict.ckpt'\n",
      "[Errno 2] No such file or directory: '/Users/odedgolden/Developer/AutoRec/obj/VarAutoRec_PReLU_20_0.01_0.01_True_model_dict.ckpt'\n",
      "[Errno 2] No such file or directory: '/Users/odedgolden/Developer/AutoRec/obj/VarAutoRec_PReLU_20_0.01_0.1_True_model_dict.ckpt'\n",
      "[Errno 2] No such file or directory: '/Users/odedgolden/Developer/AutoRec/obj/VarAutoRec_PReLU_20_0.01_1_True_model_dict.ckpt'\n",
      "[Errno 2] No such file or directory: '/Users/odedgolden/Developer/AutoRec/obj/VarAutoRec_PReLU_20_0.01_100_True_model_dict.ckpt'\n",
      "[Errno 2] No such file or directory: '/Users/odedgolden/Developer/AutoRec/obj/VarAutoRec_PReLU_20_0.01_1000_True_model_dict.ckpt'\n",
      "[Errno 2] No such file or directory: '/Users/odedgolden/Developer/AutoRec/obj/VarAutoRec_PReLU_40_0.01_0.001_True_model_dict.ckpt'\n",
      "[Errno 2] No such file or directory: '/Users/odedgolden/Developer/AutoRec/obj/VarAutoRec_PReLU_40_0.01_0.01_True_model_dict.ckpt'\n",
      "[Errno 2] No such file or directory: '/Users/odedgolden/Developer/AutoRec/obj/VarAutoRec_PReLU_40_0.01_0.1_True_model_dict.ckpt'\n",
      "[Errno 2] No such file or directory: '/Users/odedgolden/Developer/AutoRec/obj/VarAutoRec_PReLU_40_0.01_1_True_model_dict.ckpt'\n",
      "[Errno 2] No such file or directory: '/Users/odedgolden/Developer/AutoRec/obj/VarAutoRec_PReLU_40_0.01_100_True_model_dict.ckpt'\n",
      "[Errno 2] No such file or directory: '/Users/odedgolden/Developer/AutoRec/obj/VarAutoRec_PReLU_40_0.01_1000_True_model_dict.ckpt'\n",
      "[Errno 2] No such file or directory: '/Users/odedgolden/Developer/AutoRec/obj/VarAutoRec_PReLU_80_0.01_0.001_True_model_dict.ckpt'\n",
      "[Errno 2] No such file or directory: '/Users/odedgolden/Developer/AutoRec/obj/VarAutoRec_PReLU_80_0.01_0.01_True_model_dict.ckpt'\n",
      "[Errno 2] No such file or directory: '/Users/odedgolden/Developer/AutoRec/obj/VarAutoRec_PReLU_80_0.01_0.1_True_model_dict.ckpt'\n",
      "[Errno 2] No such file or directory: '/Users/odedgolden/Developer/AutoRec/obj/VarAutoRec_PReLU_80_0.01_1_True_model_dict.ckpt'\n",
      "[Errno 2] No such file or directory: '/Users/odedgolden/Developer/AutoRec/obj/VarAutoRec_PReLU_80_0.01_100_True_model_dict.ckpt'\n",
      "[Errno 2] No such file or directory: '/Users/odedgolden/Developer/AutoRec/obj/VarAutoRec_PReLU_80_0.01_1000_True_model_dict.ckpt'\n",
      "[Errno 2] No such file or directory: '/Users/odedgolden/Developer/AutoRec/obj/VarAutoRec_PReLU_100_0.01_0.001_True_model_dict.ckpt'\n",
      "[Errno 2] No such file or directory: '/Users/odedgolden/Developer/AutoRec/obj/VarAutoRec_PReLU_100_0.01_0.01_True_model_dict.ckpt'\n",
      "[Errno 2] No such file or directory: '/Users/odedgolden/Developer/AutoRec/obj/VarAutoRec_PReLU_100_0.01_0.1_True_model_dict.ckpt'\n",
      "[Errno 2] No such file or directory: '/Users/odedgolden/Developer/AutoRec/obj/VarAutoRec_PReLU_100_0.01_1_True_model_dict.ckpt'\n",
      "[Errno 2] No such file or directory: '/Users/odedgolden/Developer/AutoRec/obj/VarAutoRec_PReLU_100_0.01_100_True_model_dict.ckpt'\n",
      "[Errno 2] No such file or directory: '/Users/odedgolden/Developer/AutoRec/obj/VarAutoRec_PReLU_100_0.01_1000_True_model_dict.ckpt'\n",
      "[Errno 2] No such file or directory: '/Users/odedgolden/Developer/AutoRec/obj/VarAutoRec_PReLU_200_0.01_0.001_True_model_dict.ckpt'\n",
      "[Errno 2] No such file or directory: '/Users/odedgolden/Developer/AutoRec/obj/VarAutoRec_PReLU_200_0.01_0.01_True_model_dict.ckpt'\n",
      "[Errno 2] No such file or directory: '/Users/odedgolden/Developer/AutoRec/obj/VarAutoRec_PReLU_200_0.01_0.1_True_model_dict.ckpt'\n",
      "[Errno 2] No such file or directory: '/Users/odedgolden/Developer/AutoRec/obj/VarAutoRec_PReLU_200_0.01_1_True_model_dict.ckpt'\n",
      "[Errno 2] No such file or directory: '/Users/odedgolden/Developer/AutoRec/obj/VarAutoRec_PReLU_200_0.01_100_True_model_dict.ckpt'\n",
      "[Errno 2] No such file or directory: '/Users/odedgolden/Developer/AutoRec/obj/VarAutoRec_PReLU_200_0.01_1000_True_model_dict.ckpt'\n",
      "[Errno 2] No such file or directory: '/Users/odedgolden/Developer/AutoRec/obj/VarAutoRec_PReLU_300_0.01_0.001_True_model_dict.ckpt'\n",
      "[Errno 2] No such file or directory: '/Users/odedgolden/Developer/AutoRec/obj/VarAutoRec_PReLU_300_0.01_0.01_True_model_dict.ckpt'\n",
      "[Errno 2] No such file or directory: '/Users/odedgolden/Developer/AutoRec/obj/VarAutoRec_PReLU_300_0.01_0.1_True_model_dict.ckpt'\n",
      "[Errno 2] No such file or directory: '/Users/odedgolden/Developer/AutoRec/obj/VarAutoRec_PReLU_300_0.01_1_True_model_dict.ckpt'\n",
      "[Errno 2] No such file or directory: '/Users/odedgolden/Developer/AutoRec/obj/VarAutoRec_PReLU_300_0.01_100_True_model_dict.ckpt'\n",
      "[Errno 2] No such file or directory: '/Users/odedgolden/Developer/AutoRec/obj/VarAutoRec_PReLU_300_0.01_1000_True_model_dict.ckpt'\n",
      "[Errno 2] No such file or directory: '/Users/odedgolden/Developer/AutoRec/obj/VarAutoRec_PReLU_400_0.01_0.001_True_model_dict.ckpt'\n",
      "[Errno 2] No such file or directory: '/Users/odedgolden/Developer/AutoRec/obj/VarAutoRec_PReLU_400_0.01_0.01_True_model_dict.ckpt'\n",
      "[Errno 2] No such file or directory: '/Users/odedgolden/Developer/AutoRec/obj/VarAutoRec_PReLU_400_0.01_0.1_True_model_dict.ckpt'\n",
      "[Errno 2] No such file or directory: '/Users/odedgolden/Developer/AutoRec/obj/VarAutoRec_PReLU_400_0.01_1_True_model_dict.ckpt'\n",
      "[Errno 2] No such file or directory: '/Users/odedgolden/Developer/AutoRec/obj/VarAutoRec_PReLU_400_0.01_100_True_model_dict.ckpt'\n",
      "[Errno 2] No such file or directory: '/Users/odedgolden/Developer/AutoRec/obj/VarAutoRec_PReLU_400_0.01_1000_True_model_dict.ckpt'\n",
      "[Errno 2] No such file or directory: '/Users/odedgolden/Developer/AutoRec/obj/VarAutoRec_PReLU_500_0.01_0.001_True_model_dict.ckpt'\n",
      "[Errno 2] No such file or directory: '/Users/odedgolden/Developer/AutoRec/obj/VarAutoRec_PReLU_500_0.01_0.01_True_model_dict.ckpt'\n",
      "[Errno 2] No such file or directory: '/Users/odedgolden/Developer/AutoRec/obj/VarAutoRec_PReLU_500_0.01_0.1_True_model_dict.ckpt'\n",
      "[Errno 2] No such file or directory: '/Users/odedgolden/Developer/AutoRec/obj/VarAutoRec_PReLU_500_0.01_1_True_model_dict.ckpt'\n",
      "[Errno 2] No such file or directory: '/Users/odedgolden/Developer/AutoRec/obj/VarAutoRec_PReLU_500_0.01_100_True_model_dict.ckpt'\n",
      "[Errno 2] No such file or directory: '/Users/odedgolden/Developer/AutoRec/obj/VarAutoRec_PReLU_500_0.01_1000_True_model_dict.ckpt'\n",
      "[Errno 2] No such file or directory: '/Users/odedgolden/Developer/AutoRec/obj/VarAutoRec_Sigmoid_10_0.001_0.001_True_model_dict.ckpt'\n",
      "[Errno 2] No such file or directory: '/Users/odedgolden/Developer/AutoRec/obj/VarAutoRec_Sigmoid_10_0.001_0.01_True_model_dict.ckpt'\n",
      "[Errno 2] No such file or directory: '/Users/odedgolden/Developer/AutoRec/obj/VarAutoRec_Sigmoid_10_0.001_0.1_True_model_dict.ckpt'\n",
      "[Errno 2] No such file or directory: '/Users/odedgolden/Developer/AutoRec/obj/VarAutoRec_Sigmoid_10_0.001_1_True_model_dict.ckpt'\n",
      "[Errno 2] No such file or directory: '/Users/odedgolden/Developer/AutoRec/obj/VarAutoRec_Sigmoid_10_0.001_100_True_model_dict.ckpt'\n",
      "[Errno 2] No such file or directory: '/Users/odedgolden/Developer/AutoRec/obj/VarAutoRec_Sigmoid_10_0.001_1000_True_model_dict.ckpt'\n",
      "[Errno 2] No such file or directory: '/Users/odedgolden/Developer/AutoRec/obj/VarAutoRec_Sigmoid_20_0.001_0.001_True_model_dict.ckpt'\n",
      "[Errno 2] No such file or directory: '/Users/odedgolden/Developer/AutoRec/obj/VarAutoRec_Sigmoid_20_0.001_0.01_True_model_dict.ckpt'\n",
      "[Errno 2] No such file or directory: '/Users/odedgolden/Developer/AutoRec/obj/VarAutoRec_Sigmoid_20_0.001_0.1_True_model_dict.ckpt'\n",
      "[Errno 2] No such file or directory: '/Users/odedgolden/Developer/AutoRec/obj/VarAutoRec_Sigmoid_20_0.001_1_True_model_dict.ckpt'\n",
      "[Errno 2] No such file or directory: '/Users/odedgolden/Developer/AutoRec/obj/VarAutoRec_Sigmoid_20_0.001_100_True_model_dict.ckpt'\n",
      "[Errno 2] No such file or directory: '/Users/odedgolden/Developer/AutoRec/obj/VarAutoRec_Sigmoid_20_0.001_1000_True_model_dict.ckpt'\n",
      "[Errno 2] No such file or directory: '/Users/odedgolden/Developer/AutoRec/obj/VarAutoRec_Sigmoid_40_0.001_0.001_True_model_dict.ckpt'\n",
      "[Errno 2] No such file or directory: '/Users/odedgolden/Developer/AutoRec/obj/VarAutoRec_Sigmoid_40_0.001_0.01_True_model_dict.ckpt'\n",
      "[Errno 2] No such file or directory: '/Users/odedgolden/Developer/AutoRec/obj/VarAutoRec_Sigmoid_40_0.001_0.1_True_model_dict.ckpt'\n",
      "[Errno 2] No such file or directory: '/Users/odedgolden/Developer/AutoRec/obj/VarAutoRec_Sigmoid_40_0.001_1_True_model_dict.ckpt'\n",
      "[Errno 2] No such file or directory: '/Users/odedgolden/Developer/AutoRec/obj/VarAutoRec_Sigmoid_40_0.001_100_True_model_dict.ckpt'\n",
      "[Errno 2] No such file or directory: '/Users/odedgolden/Developer/AutoRec/obj/VarAutoRec_Sigmoid_40_0.001_1000_True_model_dict.ckpt'\n",
      "[Errno 2] No such file or directory: '/Users/odedgolden/Developer/AutoRec/obj/VarAutoRec_Sigmoid_80_0.001_0.001_True_model_dict.ckpt'\n",
      "[Errno 2] No such file or directory: '/Users/odedgolden/Developer/AutoRec/obj/VarAutoRec_Sigmoid_80_0.001_0.01_True_model_dict.ckpt'\n",
      "[Errno 2] No such file or directory: '/Users/odedgolden/Developer/AutoRec/obj/VarAutoRec_Sigmoid_80_0.001_0.1_True_model_dict.ckpt'\n",
      "[Errno 2] No such file or directory: '/Users/odedgolden/Developer/AutoRec/obj/VarAutoRec_Sigmoid_80_0.001_1_True_model_dict.ckpt'\n",
      "[Errno 2] No such file or directory: '/Users/odedgolden/Developer/AutoRec/obj/VarAutoRec_Sigmoid_80_0.001_100_True_model_dict.ckpt'\n",
      "[Errno 2] No such file or directory: '/Users/odedgolden/Developer/AutoRec/obj/VarAutoRec_Sigmoid_80_0.001_1000_True_model_dict.ckpt'\n",
      "[Errno 2] No such file or directory: '/Users/odedgolden/Developer/AutoRec/obj/VarAutoRec_Sigmoid_100_0.001_0.001_True_model_dict.ckpt'\n",
      "[Errno 2] No such file or directory: '/Users/odedgolden/Developer/AutoRec/obj/VarAutoRec_Sigmoid_100_0.001_0.01_True_model_dict.ckpt'\n",
      "[Errno 2] No such file or directory: '/Users/odedgolden/Developer/AutoRec/obj/VarAutoRec_Sigmoid_100_0.001_0.1_True_model_dict.ckpt'\n",
      "[Errno 2] No such file or directory: '/Users/odedgolden/Developer/AutoRec/obj/VarAutoRec_Sigmoid_100_0.001_1_True_model_dict.ckpt'\n",
      "[Errno 2] No such file or directory: '/Users/odedgolden/Developer/AutoRec/obj/VarAutoRec_Sigmoid_100_0.001_100_True_model_dict.ckpt'\n",
      "[Errno 2] No such file or directory: '/Users/odedgolden/Developer/AutoRec/obj/VarAutoRec_Sigmoid_100_0.001_1000_True_model_dict.ckpt'\n",
      "[Errno 2] No such file or directory: '/Users/odedgolden/Developer/AutoRec/obj/VarAutoRec_Sigmoid_200_0.001_0.001_True_model_dict.ckpt'\n",
      "[Errno 2] No such file or directory: '/Users/odedgolden/Developer/AutoRec/obj/VarAutoRec_Sigmoid_200_0.001_0.01_True_model_dict.ckpt'\n",
      "[Errno 2] No such file or directory: '/Users/odedgolden/Developer/AutoRec/obj/VarAutoRec_Sigmoid_200_0.001_0.1_True_model_dict.ckpt'\n",
      "[Errno 2] No such file or directory: '/Users/odedgolden/Developer/AutoRec/obj/VarAutoRec_Sigmoid_200_0.001_1_True_model_dict.ckpt'\n",
      "[Errno 2] No such file or directory: '/Users/odedgolden/Developer/AutoRec/obj/VarAutoRec_Sigmoid_200_0.001_100_True_model_dict.ckpt'\n",
      "[Errno 2] No such file or directory: '/Users/odedgolden/Developer/AutoRec/obj/VarAutoRec_Sigmoid_200_0.001_1000_True_model_dict.ckpt'\n",
      "[Errno 2] No such file or directory: '/Users/odedgolden/Developer/AutoRec/obj/VarAutoRec_Sigmoid_300_0.001_0.001_True_model_dict.ckpt'\n",
      "[Errno 2] No such file or directory: '/Users/odedgolden/Developer/AutoRec/obj/VarAutoRec_Sigmoid_300_0.001_0.01_True_model_dict.ckpt'\n",
      "[Errno 2] No such file or directory: '/Users/odedgolden/Developer/AutoRec/obj/VarAutoRec_Sigmoid_300_0.001_0.1_True_model_dict.ckpt'\n",
      "[Errno 2] No such file or directory: '/Users/odedgolden/Developer/AutoRec/obj/VarAutoRec_Sigmoid_300_0.001_1_True_model_dict.ckpt'\n",
      "[Errno 2] No such file or directory: '/Users/odedgolden/Developer/AutoRec/obj/VarAutoRec_Sigmoid_300_0.001_100_True_model_dict.ckpt'\n",
      "[Errno 2] No such file or directory: '/Users/odedgolden/Developer/AutoRec/obj/VarAutoRec_Sigmoid_300_0.001_1000_True_model_dict.ckpt'\n",
      "[Errno 2] No such file or directory: '/Users/odedgolden/Developer/AutoRec/obj/VarAutoRec_Sigmoid_400_0.001_0.001_True_model_dict.ckpt'\n",
      "[Errno 2] No such file or directory: '/Users/odedgolden/Developer/AutoRec/obj/VarAutoRec_Sigmoid_400_0.001_0.01_True_model_dict.ckpt'\n",
      "[Errno 2] No such file or directory: '/Users/odedgolden/Developer/AutoRec/obj/VarAutoRec_Sigmoid_400_0.001_0.1_True_model_dict.ckpt'\n",
      "[Errno 2] No such file or directory: '/Users/odedgolden/Developer/AutoRec/obj/VarAutoRec_Sigmoid_400_0.001_1_True_model_dict.ckpt'\n",
      "[Errno 2] No such file or directory: '/Users/odedgolden/Developer/AutoRec/obj/VarAutoRec_Sigmoid_400_0.001_100_True_model_dict.ckpt'\n",
      "[Errno 2] No such file or directory: '/Users/odedgolden/Developer/AutoRec/obj/VarAutoRec_Sigmoid_400_0.001_1000_True_model_dict.ckpt'\n",
      "[Errno 2] No such file or directory: '/Users/odedgolden/Developer/AutoRec/obj/VarAutoRec_Sigmoid_500_0.001_0.001_True_model_dict.ckpt'\n",
      "[Errno 2] No such file or directory: '/Users/odedgolden/Developer/AutoRec/obj/VarAutoRec_Sigmoid_500_0.001_0.01_True_model_dict.ckpt'\n",
      "[Errno 2] No such file or directory: '/Users/odedgolden/Developer/AutoRec/obj/VarAutoRec_Sigmoid_500_0.001_0.1_True_model_dict.ckpt'\n",
      "[Errno 2] No such file or directory: '/Users/odedgolden/Developer/AutoRec/obj/VarAutoRec_Sigmoid_500_0.001_1_True_model_dict.ckpt'\n",
      "[Errno 2] No such file or directory: '/Users/odedgolden/Developer/AutoRec/obj/VarAutoRec_Sigmoid_500_0.001_100_True_model_dict.ckpt'\n",
      "[Errno 2] No such file or directory: '/Users/odedgolden/Developer/AutoRec/obj/VarAutoRec_Sigmoid_500_0.001_1000_True_model_dict.ckpt'\n",
      "[Errno 2] No such file or directory: '/Users/odedgolden/Developer/AutoRec/obj/VarAutoRec_Sigmoid_10_0.002_0.001_True_model_dict.ckpt'\n",
      "[Errno 2] No such file or directory: '/Users/odedgolden/Developer/AutoRec/obj/VarAutoRec_Sigmoid_10_0.002_0.01_True_model_dict.ckpt'\n",
      "[Errno 2] No such file or directory: '/Users/odedgolden/Developer/AutoRec/obj/VarAutoRec_Sigmoid_10_0.002_0.1_True_model_dict.ckpt'\n",
      "[Errno 2] No such file or directory: '/Users/odedgolden/Developer/AutoRec/obj/VarAutoRec_Sigmoid_10_0.002_1_True_model_dict.ckpt'\n",
      "[Errno 2] No such file or directory: '/Users/odedgolden/Developer/AutoRec/obj/VarAutoRec_Sigmoid_10_0.002_100_True_model_dict.ckpt'\n",
      "[Errno 2] No such file or directory: '/Users/odedgolden/Developer/AutoRec/obj/VarAutoRec_Sigmoid_10_0.002_1000_True_model_dict.ckpt'\n",
      "[Errno 2] No such file or directory: '/Users/odedgolden/Developer/AutoRec/obj/VarAutoRec_Sigmoid_20_0.002_0.001_True_model_dict.ckpt'\n",
      "[Errno 2] No such file or directory: '/Users/odedgolden/Developer/AutoRec/obj/VarAutoRec_Sigmoid_20_0.002_0.01_True_model_dict.ckpt'\n",
      "[Errno 2] No such file or directory: '/Users/odedgolden/Developer/AutoRec/obj/VarAutoRec_Sigmoid_20_0.002_0.1_True_model_dict.ckpt'\n",
      "[Errno 2] No such file or directory: '/Users/odedgolden/Developer/AutoRec/obj/VarAutoRec_Sigmoid_20_0.002_1_True_model_dict.ckpt'\n",
      "[Errno 2] No such file or directory: '/Users/odedgolden/Developer/AutoRec/obj/VarAutoRec_Sigmoid_20_0.002_100_True_model_dict.ckpt'\n",
      "[Errno 2] No such file or directory: '/Users/odedgolden/Developer/AutoRec/obj/VarAutoRec_Sigmoid_20_0.002_1000_True_model_dict.ckpt'\n",
      "[Errno 2] No such file or directory: '/Users/odedgolden/Developer/AutoRec/obj/VarAutoRec_Sigmoid_40_0.002_0.001_True_model_dict.ckpt'\n",
      "[Errno 2] No such file or directory: '/Users/odedgolden/Developer/AutoRec/obj/VarAutoRec_Sigmoid_40_0.002_0.01_True_model_dict.ckpt'\n",
      "[Errno 2] No such file or directory: '/Users/odedgolden/Developer/AutoRec/obj/VarAutoRec_Sigmoid_40_0.002_0.1_True_model_dict.ckpt'\n",
      "[Errno 2] No such file or directory: '/Users/odedgolden/Developer/AutoRec/obj/VarAutoRec_Sigmoid_40_0.002_1_True_model_dict.ckpt'\n",
      "[Errno 2] No such file or directory: '/Users/odedgolden/Developer/AutoRec/obj/VarAutoRec_Sigmoid_40_0.002_100_True_model_dict.ckpt'\n",
      "[Errno 2] No such file or directory: '/Users/odedgolden/Developer/AutoRec/obj/VarAutoRec_Sigmoid_40_0.002_1000_True_model_dict.ckpt'\n",
      "[Errno 2] No such file or directory: '/Users/odedgolden/Developer/AutoRec/obj/VarAutoRec_Sigmoid_80_0.002_0.001_True_model_dict.ckpt'\n",
      "[Errno 2] No such file or directory: '/Users/odedgolden/Developer/AutoRec/obj/VarAutoRec_Sigmoid_80_0.002_0.01_True_model_dict.ckpt'\n",
      "[Errno 2] No such file or directory: '/Users/odedgolden/Developer/AutoRec/obj/VarAutoRec_Sigmoid_80_0.002_0.1_True_model_dict.ckpt'\n",
      "[Errno 2] No such file or directory: '/Users/odedgolden/Developer/AutoRec/obj/VarAutoRec_Sigmoid_80_0.002_1_True_model_dict.ckpt'\n",
      "[Errno 2] No such file or directory: '/Users/odedgolden/Developer/AutoRec/obj/VarAutoRec_Sigmoid_80_0.002_100_True_model_dict.ckpt'\n",
      "[Errno 2] No such file or directory: '/Users/odedgolden/Developer/AutoRec/obj/VarAutoRec_Sigmoid_80_0.002_1000_True_model_dict.ckpt'\n",
      "[Errno 2] No such file or directory: '/Users/odedgolden/Developer/AutoRec/obj/VarAutoRec_Sigmoid_100_0.002_0.001_True_model_dict.ckpt'\n",
      "[Errno 2] No such file or directory: '/Users/odedgolden/Developer/AutoRec/obj/VarAutoRec_Sigmoid_100_0.002_0.01_True_model_dict.ckpt'\n",
      "[Errno 2] No such file or directory: '/Users/odedgolden/Developer/AutoRec/obj/VarAutoRec_Sigmoid_100_0.002_0.1_True_model_dict.ckpt'\n",
      "[Errno 2] No such file or directory: '/Users/odedgolden/Developer/AutoRec/obj/VarAutoRec_Sigmoid_100_0.002_1_True_model_dict.ckpt'\n",
      "[Errno 2] No such file or directory: '/Users/odedgolden/Developer/AutoRec/obj/VarAutoRec_Sigmoid_100_0.002_100_True_model_dict.ckpt'\n",
      "[Errno 2] No such file or directory: '/Users/odedgolden/Developer/AutoRec/obj/VarAutoRec_Sigmoid_100_0.002_1000_True_model_dict.ckpt'\n",
      "[Errno 2] No such file or directory: '/Users/odedgolden/Developer/AutoRec/obj/VarAutoRec_Sigmoid_200_0.002_0.001_True_model_dict.ckpt'\n",
      "[Errno 2] No such file or directory: '/Users/odedgolden/Developer/AutoRec/obj/VarAutoRec_Sigmoid_200_0.002_0.01_True_model_dict.ckpt'\n",
      "[Errno 2] No such file or directory: '/Users/odedgolden/Developer/AutoRec/obj/VarAutoRec_Sigmoid_200_0.002_0.1_True_model_dict.ckpt'\n",
      "[Errno 2] No such file or directory: '/Users/odedgolden/Developer/AutoRec/obj/VarAutoRec_Sigmoid_200_0.002_1_True_model_dict.ckpt'\n",
      "[Errno 2] No such file or directory: '/Users/odedgolden/Developer/AutoRec/obj/VarAutoRec_Sigmoid_200_0.002_100_True_model_dict.ckpt'\n",
      "[Errno 2] No such file or directory: '/Users/odedgolden/Developer/AutoRec/obj/VarAutoRec_Sigmoid_200_0.002_1000_True_model_dict.ckpt'\n",
      "[Errno 2] No such file or directory: '/Users/odedgolden/Developer/AutoRec/obj/VarAutoRec_Sigmoid_300_0.002_0.001_True_model_dict.ckpt'\n",
      "[Errno 2] No such file or directory: '/Users/odedgolden/Developer/AutoRec/obj/VarAutoRec_Sigmoid_300_0.002_0.01_True_model_dict.ckpt'\n",
      "[Errno 2] No such file or directory: '/Users/odedgolden/Developer/AutoRec/obj/VarAutoRec_Sigmoid_300_0.002_0.1_True_model_dict.ckpt'\n",
      "[Errno 2] No such file or directory: '/Users/odedgolden/Developer/AutoRec/obj/VarAutoRec_Sigmoid_300_0.002_1_True_model_dict.ckpt'\n",
      "[Errno 2] No such file or directory: '/Users/odedgolden/Developer/AutoRec/obj/VarAutoRec_Sigmoid_300_0.002_100_True_model_dict.ckpt'\n",
      "[Errno 2] No such file or directory: '/Users/odedgolden/Developer/AutoRec/obj/VarAutoRec_Sigmoid_300_0.002_1000_True_model_dict.ckpt'\n",
      "[Errno 2] No such file or directory: '/Users/odedgolden/Developer/AutoRec/obj/VarAutoRec_Sigmoid_400_0.002_0.001_True_model_dict.ckpt'\n",
      "[Errno 2] No such file or directory: '/Users/odedgolden/Developer/AutoRec/obj/VarAutoRec_Sigmoid_400_0.002_0.01_True_model_dict.ckpt'\n",
      "[Errno 2] No such file or directory: '/Users/odedgolden/Developer/AutoRec/obj/VarAutoRec_Sigmoid_400_0.002_0.1_True_model_dict.ckpt'\n",
      "[Errno 2] No such file or directory: '/Users/odedgolden/Developer/AutoRec/obj/VarAutoRec_Sigmoid_400_0.002_1_True_model_dict.ckpt'\n",
      "[Errno 2] No such file or directory: '/Users/odedgolden/Developer/AutoRec/obj/VarAutoRec_Sigmoid_400_0.002_100_True_model_dict.ckpt'\n",
      "[Errno 2] No such file or directory: '/Users/odedgolden/Developer/AutoRec/obj/VarAutoRec_Sigmoid_400_0.002_1000_True_model_dict.ckpt'\n",
      "[Errno 2] No such file or directory: '/Users/odedgolden/Developer/AutoRec/obj/VarAutoRec_Sigmoid_500_0.002_0.001_True_model_dict.ckpt'\n",
      "[Errno 2] No such file or directory: '/Users/odedgolden/Developer/AutoRec/obj/VarAutoRec_Sigmoid_500_0.002_0.01_True_model_dict.ckpt'\n",
      "[Errno 2] No such file or directory: '/Users/odedgolden/Developer/AutoRec/obj/VarAutoRec_Sigmoid_500_0.002_0.1_True_model_dict.ckpt'\n",
      "[Errno 2] No such file or directory: '/Users/odedgolden/Developer/AutoRec/obj/VarAutoRec_Sigmoid_500_0.002_1_True_model_dict.ckpt'\n",
      "[Errno 2] No such file or directory: '/Users/odedgolden/Developer/AutoRec/obj/VarAutoRec_Sigmoid_500_0.002_100_True_model_dict.ckpt'\n",
      "[Errno 2] No such file or directory: '/Users/odedgolden/Developer/AutoRec/obj/VarAutoRec_Sigmoid_500_0.002_1000_True_model_dict.ckpt'\n",
      "[Errno 2] No such file or directory: '/Users/odedgolden/Developer/AutoRec/obj/VarAutoRec_Sigmoid_10_0.004_0.001_True_model_dict.ckpt'\n",
      "[Errno 2] No such file or directory: '/Users/odedgolden/Developer/AutoRec/obj/VarAutoRec_Sigmoid_10_0.004_0.01_True_model_dict.ckpt'\n",
      "[Errno 2] No such file or directory: '/Users/odedgolden/Developer/AutoRec/obj/VarAutoRec_Sigmoid_10_0.004_0.1_True_model_dict.ckpt'\n",
      "[Errno 2] No such file or directory: '/Users/odedgolden/Developer/AutoRec/obj/VarAutoRec_Sigmoid_10_0.004_1_True_model_dict.ckpt'\n",
      "[Errno 2] No such file or directory: '/Users/odedgolden/Developer/AutoRec/obj/VarAutoRec_Sigmoid_10_0.004_100_True_model_dict.ckpt'\n",
      "[Errno 2] No such file or directory: '/Users/odedgolden/Developer/AutoRec/obj/VarAutoRec_Sigmoid_10_0.004_1000_True_model_dict.ckpt'\n",
      "[Errno 2] No such file or directory: '/Users/odedgolden/Developer/AutoRec/obj/VarAutoRec_Sigmoid_20_0.004_0.001_True_model_dict.ckpt'\n",
      "[Errno 2] No such file or directory: '/Users/odedgolden/Developer/AutoRec/obj/VarAutoRec_Sigmoid_20_0.004_0.01_True_model_dict.ckpt'\n",
      "[Errno 2] No such file or directory: '/Users/odedgolden/Developer/AutoRec/obj/VarAutoRec_Sigmoid_20_0.004_0.1_True_model_dict.ckpt'\n",
      "[Errno 2] No such file or directory: '/Users/odedgolden/Developer/AutoRec/obj/VarAutoRec_Sigmoid_20_0.004_1_True_model_dict.ckpt'\n",
      "[Errno 2] No such file or directory: '/Users/odedgolden/Developer/AutoRec/obj/VarAutoRec_Sigmoid_20_0.004_100_True_model_dict.ckpt'\n",
      "[Errno 2] No such file or directory: '/Users/odedgolden/Developer/AutoRec/obj/VarAutoRec_Sigmoid_20_0.004_1000_True_model_dict.ckpt'\n",
      "[Errno 2] No such file or directory: '/Users/odedgolden/Developer/AutoRec/obj/VarAutoRec_Sigmoid_40_0.004_0.001_True_model_dict.ckpt'\n",
      "[Errno 2] No such file or directory: '/Users/odedgolden/Developer/AutoRec/obj/VarAutoRec_Sigmoid_40_0.004_0.01_True_model_dict.ckpt'\n",
      "[Errno 2] No such file or directory: '/Users/odedgolden/Developer/AutoRec/obj/VarAutoRec_Sigmoid_40_0.004_0.1_True_model_dict.ckpt'\n",
      "[Errno 2] No such file or directory: '/Users/odedgolden/Developer/AutoRec/obj/VarAutoRec_Sigmoid_40_0.004_1_True_model_dict.ckpt'\n",
      "[Errno 2] No such file or directory: '/Users/odedgolden/Developer/AutoRec/obj/VarAutoRec_Sigmoid_40_0.004_100_True_model_dict.ckpt'\n",
      "[Errno 2] No such file or directory: '/Users/odedgolden/Developer/AutoRec/obj/VarAutoRec_Sigmoid_40_0.004_1000_True_model_dict.ckpt'\n",
      "[Errno 2] No such file or directory: '/Users/odedgolden/Developer/AutoRec/obj/VarAutoRec_Sigmoid_80_0.004_0.001_True_model_dict.ckpt'\n",
      "[Errno 2] No such file or directory: '/Users/odedgolden/Developer/AutoRec/obj/VarAutoRec_Sigmoid_80_0.004_0.01_True_model_dict.ckpt'\n",
      "[Errno 2] No such file or directory: '/Users/odedgolden/Developer/AutoRec/obj/VarAutoRec_Sigmoid_80_0.004_0.1_True_model_dict.ckpt'\n",
      "[Errno 2] No such file or directory: '/Users/odedgolden/Developer/AutoRec/obj/VarAutoRec_Sigmoid_80_0.004_1_True_model_dict.ckpt'\n",
      "[Errno 2] No such file or directory: '/Users/odedgolden/Developer/AutoRec/obj/VarAutoRec_Sigmoid_80_0.004_100_True_model_dict.ckpt'\n",
      "[Errno 2] No such file or directory: '/Users/odedgolden/Developer/AutoRec/obj/VarAutoRec_Sigmoid_80_0.004_1000_True_model_dict.ckpt'\n",
      "[Errno 2] No such file or directory: '/Users/odedgolden/Developer/AutoRec/obj/VarAutoRec_Sigmoid_100_0.004_0.001_True_model_dict.ckpt'\n",
      "[Errno 2] No such file or directory: '/Users/odedgolden/Developer/AutoRec/obj/VarAutoRec_Sigmoid_100_0.004_0.01_True_model_dict.ckpt'\n",
      "[Errno 2] No such file or directory: '/Users/odedgolden/Developer/AutoRec/obj/VarAutoRec_Sigmoid_100_0.004_0.1_True_model_dict.ckpt'\n",
      "[Errno 2] No such file or directory: '/Users/odedgolden/Developer/AutoRec/obj/VarAutoRec_Sigmoid_100_0.004_1_True_model_dict.ckpt'\n",
      "[Errno 2] No such file or directory: '/Users/odedgolden/Developer/AutoRec/obj/VarAutoRec_Sigmoid_100_0.004_100_True_model_dict.ckpt'\n",
      "[Errno 2] No such file or directory: '/Users/odedgolden/Developer/AutoRec/obj/VarAutoRec_Sigmoid_100_0.004_1000_True_model_dict.ckpt'\n",
      "[Errno 2] No such file or directory: '/Users/odedgolden/Developer/AutoRec/obj/VarAutoRec_Sigmoid_200_0.004_0.001_True_model_dict.ckpt'\n",
      "[Errno 2] No such file or directory: '/Users/odedgolden/Developer/AutoRec/obj/VarAutoRec_Sigmoid_200_0.004_0.01_True_model_dict.ckpt'\n",
      "[Errno 2] No such file or directory: '/Users/odedgolden/Developer/AutoRec/obj/VarAutoRec_Sigmoid_200_0.004_0.1_True_model_dict.ckpt'\n",
      "[Errno 2] No such file or directory: '/Users/odedgolden/Developer/AutoRec/obj/VarAutoRec_Sigmoid_200_0.004_1_True_model_dict.ckpt'\n",
      "[Errno 2] No such file or directory: '/Users/odedgolden/Developer/AutoRec/obj/VarAutoRec_Sigmoid_200_0.004_100_True_model_dict.ckpt'\n",
      "[Errno 2] No such file or directory: '/Users/odedgolden/Developer/AutoRec/obj/VarAutoRec_Sigmoid_200_0.004_1000_True_model_dict.ckpt'\n",
      "[Errno 2] No such file or directory: '/Users/odedgolden/Developer/AutoRec/obj/VarAutoRec_Sigmoid_300_0.004_0.001_True_model_dict.ckpt'\n",
      "[Errno 2] No such file or directory: '/Users/odedgolden/Developer/AutoRec/obj/VarAutoRec_Sigmoid_300_0.004_0.01_True_model_dict.ckpt'\n",
      "[Errno 2] No such file or directory: '/Users/odedgolden/Developer/AutoRec/obj/VarAutoRec_Sigmoid_300_0.004_0.1_True_model_dict.ckpt'\n",
      "[Errno 2] No such file or directory: '/Users/odedgolden/Developer/AutoRec/obj/VarAutoRec_Sigmoid_300_0.004_1_True_model_dict.ckpt'\n",
      "[Errno 2] No such file or directory: '/Users/odedgolden/Developer/AutoRec/obj/VarAutoRec_Sigmoid_300_0.004_100_True_model_dict.ckpt'\n",
      "[Errno 2] No such file or directory: '/Users/odedgolden/Developer/AutoRec/obj/VarAutoRec_Sigmoid_300_0.004_1000_True_model_dict.ckpt'\n",
      "[Errno 2] No such file or directory: '/Users/odedgolden/Developer/AutoRec/obj/VarAutoRec_Sigmoid_400_0.004_0.001_True_model_dict.ckpt'\n",
      "[Errno 2] No such file or directory: '/Users/odedgolden/Developer/AutoRec/obj/VarAutoRec_Sigmoid_400_0.004_0.01_True_model_dict.ckpt'\n",
      "[Errno 2] No such file or directory: '/Users/odedgolden/Developer/AutoRec/obj/VarAutoRec_Sigmoid_400_0.004_0.1_True_model_dict.ckpt'\n",
      "[Errno 2] No such file or directory: '/Users/odedgolden/Developer/AutoRec/obj/VarAutoRec_Sigmoid_400_0.004_1_True_model_dict.ckpt'\n",
      "[Errno 2] No such file or directory: '/Users/odedgolden/Developer/AutoRec/obj/VarAutoRec_Sigmoid_400_0.004_100_True_model_dict.ckpt'\n",
      "[Errno 2] No such file or directory: '/Users/odedgolden/Developer/AutoRec/obj/VarAutoRec_Sigmoid_400_0.004_1000_True_model_dict.ckpt'\n",
      "[Errno 2] No such file or directory: '/Users/odedgolden/Developer/AutoRec/obj/VarAutoRec_Sigmoid_500_0.004_0.001_True_model_dict.ckpt'\n",
      "[Errno 2] No such file or directory: '/Users/odedgolden/Developer/AutoRec/obj/VarAutoRec_Sigmoid_500_0.004_0.01_True_model_dict.ckpt'\n",
      "[Errno 2] No such file or directory: '/Users/odedgolden/Developer/AutoRec/obj/VarAutoRec_Sigmoid_500_0.004_0.1_True_model_dict.ckpt'\n",
      "[Errno 2] No such file or directory: '/Users/odedgolden/Developer/AutoRec/obj/VarAutoRec_Sigmoid_500_0.004_1_True_model_dict.ckpt'\n",
      "[Errno 2] No such file or directory: '/Users/odedgolden/Developer/AutoRec/obj/VarAutoRec_Sigmoid_500_0.004_100_True_model_dict.ckpt'\n",
      "[Errno 2] No such file or directory: '/Users/odedgolden/Developer/AutoRec/obj/VarAutoRec_Sigmoid_500_0.004_1000_True_model_dict.ckpt'\n",
      "[Errno 2] No such file or directory: '/Users/odedgolden/Developer/AutoRec/obj/VarAutoRec_Sigmoid_10_0.01_0.001_True_model_dict.ckpt'\n",
      "[Errno 2] No such file or directory: '/Users/odedgolden/Developer/AutoRec/obj/VarAutoRec_Sigmoid_10_0.01_0.01_True_model_dict.ckpt'\n",
      "[Errno 2] No such file or directory: '/Users/odedgolden/Developer/AutoRec/obj/VarAutoRec_Sigmoid_10_0.01_0.1_True_model_dict.ckpt'\n",
      "[Errno 2] No such file or directory: '/Users/odedgolden/Developer/AutoRec/obj/VarAutoRec_Sigmoid_10_0.01_1_True_model_dict.ckpt'\n",
      "[Errno 2] No such file or directory: '/Users/odedgolden/Developer/AutoRec/obj/VarAutoRec_Sigmoid_10_0.01_100_True_model_dict.ckpt'\n",
      "[Errno 2] No such file or directory: '/Users/odedgolden/Developer/AutoRec/obj/VarAutoRec_Sigmoid_10_0.01_1000_True_model_dict.ckpt'\n",
      "[Errno 2] No such file or directory: '/Users/odedgolden/Developer/AutoRec/obj/VarAutoRec_Sigmoid_20_0.01_0.001_True_model_dict.ckpt'\n",
      "[Errno 2] No such file or directory: '/Users/odedgolden/Developer/AutoRec/obj/VarAutoRec_Sigmoid_20_0.01_0.01_True_model_dict.ckpt'\n",
      "[Errno 2] No such file or directory: '/Users/odedgolden/Developer/AutoRec/obj/VarAutoRec_Sigmoid_20_0.01_0.1_True_model_dict.ckpt'\n",
      "[Errno 2] No such file or directory: '/Users/odedgolden/Developer/AutoRec/obj/VarAutoRec_Sigmoid_20_0.01_1_True_model_dict.ckpt'\n",
      "[Errno 2] No such file or directory: '/Users/odedgolden/Developer/AutoRec/obj/VarAutoRec_Sigmoid_20_0.01_100_True_model_dict.ckpt'\n",
      "[Errno 2] No such file or directory: '/Users/odedgolden/Developer/AutoRec/obj/VarAutoRec_Sigmoid_20_0.01_1000_True_model_dict.ckpt'\n",
      "[Errno 2] No such file or directory: '/Users/odedgolden/Developer/AutoRec/obj/VarAutoRec_Sigmoid_40_0.01_0.001_True_model_dict.ckpt'\n",
      "[Errno 2] No such file or directory: '/Users/odedgolden/Developer/AutoRec/obj/VarAutoRec_Sigmoid_40_0.01_0.01_True_model_dict.ckpt'\n",
      "[Errno 2] No such file or directory: '/Users/odedgolden/Developer/AutoRec/obj/VarAutoRec_Sigmoid_40_0.01_0.1_True_model_dict.ckpt'\n",
      "[Errno 2] No such file or directory: '/Users/odedgolden/Developer/AutoRec/obj/VarAutoRec_Sigmoid_40_0.01_1_True_model_dict.ckpt'\n",
      "[Errno 2] No such file or directory: '/Users/odedgolden/Developer/AutoRec/obj/VarAutoRec_Sigmoid_40_0.01_100_True_model_dict.ckpt'\n",
      "[Errno 2] No such file or directory: '/Users/odedgolden/Developer/AutoRec/obj/VarAutoRec_Sigmoid_40_0.01_1000_True_model_dict.ckpt'\n",
      "[Errno 2] No such file or directory: '/Users/odedgolden/Developer/AutoRec/obj/VarAutoRec_Sigmoid_80_0.01_0.001_True_model_dict.ckpt'\n",
      "[Errno 2] No such file or directory: '/Users/odedgolden/Developer/AutoRec/obj/VarAutoRec_Sigmoid_80_0.01_0.01_True_model_dict.ckpt'\n",
      "[Errno 2] No such file or directory: '/Users/odedgolden/Developer/AutoRec/obj/VarAutoRec_Sigmoid_80_0.01_0.1_True_model_dict.ckpt'\n",
      "[Errno 2] No such file or directory: '/Users/odedgolden/Developer/AutoRec/obj/VarAutoRec_Sigmoid_80_0.01_1_True_model_dict.ckpt'\n",
      "[Errno 2] No such file or directory: '/Users/odedgolden/Developer/AutoRec/obj/VarAutoRec_Sigmoid_80_0.01_100_True_model_dict.ckpt'\n",
      "[Errno 2] No such file or directory: '/Users/odedgolden/Developer/AutoRec/obj/VarAutoRec_Sigmoid_80_0.01_1000_True_model_dict.ckpt'\n",
      "[Errno 2] No such file or directory: '/Users/odedgolden/Developer/AutoRec/obj/VarAutoRec_Sigmoid_100_0.01_0.001_True_model_dict.ckpt'\n",
      "[Errno 2] No such file or directory: '/Users/odedgolden/Developer/AutoRec/obj/VarAutoRec_Sigmoid_100_0.01_0.01_True_model_dict.ckpt'\n",
      "[Errno 2] No such file or directory: '/Users/odedgolden/Developer/AutoRec/obj/VarAutoRec_Sigmoid_100_0.01_0.1_True_model_dict.ckpt'\n",
      "[Errno 2] No such file or directory: '/Users/odedgolden/Developer/AutoRec/obj/VarAutoRec_Sigmoid_100_0.01_1_True_model_dict.ckpt'\n",
      "[Errno 2] No such file or directory: '/Users/odedgolden/Developer/AutoRec/obj/VarAutoRec_Sigmoid_100_0.01_100_True_model_dict.ckpt'\n",
      "[Errno 2] No such file or directory: '/Users/odedgolden/Developer/AutoRec/obj/VarAutoRec_Sigmoid_100_0.01_1000_True_model_dict.ckpt'\n",
      "[Errno 2] No such file or directory: '/Users/odedgolden/Developer/AutoRec/obj/VarAutoRec_Sigmoid_200_0.01_0.001_True_model_dict.ckpt'\n",
      "[Errno 2] No such file or directory: '/Users/odedgolden/Developer/AutoRec/obj/VarAutoRec_Sigmoid_200_0.01_0.01_True_model_dict.ckpt'\n",
      "[Errno 2] No such file or directory: '/Users/odedgolden/Developer/AutoRec/obj/VarAutoRec_Sigmoid_200_0.01_0.1_True_model_dict.ckpt'\n",
      "[Errno 2] No such file or directory: '/Users/odedgolden/Developer/AutoRec/obj/VarAutoRec_Sigmoid_200_0.01_1_True_model_dict.ckpt'\n",
      "[Errno 2] No such file or directory: '/Users/odedgolden/Developer/AutoRec/obj/VarAutoRec_Sigmoid_200_0.01_100_True_model_dict.ckpt'\n",
      "[Errno 2] No such file or directory: '/Users/odedgolden/Developer/AutoRec/obj/VarAutoRec_Sigmoid_200_0.01_1000_True_model_dict.ckpt'\n",
      "[Errno 2] No such file or directory: '/Users/odedgolden/Developer/AutoRec/obj/VarAutoRec_Sigmoid_300_0.01_0.001_True_model_dict.ckpt'\n",
      "[Errno 2] No such file or directory: '/Users/odedgolden/Developer/AutoRec/obj/VarAutoRec_Sigmoid_300_0.01_0.01_True_model_dict.ckpt'\n",
      "[Errno 2] No such file or directory: '/Users/odedgolden/Developer/AutoRec/obj/VarAutoRec_Sigmoid_300_0.01_0.1_True_model_dict.ckpt'\n",
      "[Errno 2] No such file or directory: '/Users/odedgolden/Developer/AutoRec/obj/VarAutoRec_Sigmoid_300_0.01_1_True_model_dict.ckpt'\n",
      "[Errno 2] No such file or directory: '/Users/odedgolden/Developer/AutoRec/obj/VarAutoRec_Sigmoid_300_0.01_100_True_model_dict.ckpt'\n",
      "[Errno 2] No such file or directory: '/Users/odedgolden/Developer/AutoRec/obj/VarAutoRec_Sigmoid_300_0.01_1000_True_model_dict.ckpt'\n",
      "[Errno 2] No such file or directory: '/Users/odedgolden/Developer/AutoRec/obj/VarAutoRec_Sigmoid_400_0.01_0.001_True_model_dict.ckpt'\n",
      "[Errno 2] No such file or directory: '/Users/odedgolden/Developer/AutoRec/obj/VarAutoRec_Sigmoid_400_0.01_0.01_True_model_dict.ckpt'\n",
      "[Errno 2] No such file or directory: '/Users/odedgolden/Developer/AutoRec/obj/VarAutoRec_Sigmoid_400_0.01_0.1_True_model_dict.ckpt'\n",
      "[Errno 2] No such file or directory: '/Users/odedgolden/Developer/AutoRec/obj/VarAutoRec_Sigmoid_400_0.01_1_True_model_dict.ckpt'\n",
      "[Errno 2] No such file or directory: '/Users/odedgolden/Developer/AutoRec/obj/VarAutoRec_Sigmoid_400_0.01_100_True_model_dict.ckpt'\n",
      "[Errno 2] No such file or directory: '/Users/odedgolden/Developer/AutoRec/obj/VarAutoRec_Sigmoid_400_0.01_1000_True_model_dict.ckpt'\n",
      "[Errno 2] No such file or directory: '/Users/odedgolden/Developer/AutoRec/obj/VarAutoRec_Sigmoid_500_0.01_0.001_True_model_dict.ckpt'\n",
      "[Errno 2] No such file or directory: '/Users/odedgolden/Developer/AutoRec/obj/VarAutoRec_Sigmoid_500_0.01_0.01_True_model_dict.ckpt'\n",
      "[Errno 2] No such file or directory: '/Users/odedgolden/Developer/AutoRec/obj/VarAutoRec_Sigmoid_500_0.01_0.1_True_model_dict.ckpt'\n",
      "[Errno 2] No such file or directory: '/Users/odedgolden/Developer/AutoRec/obj/VarAutoRec_Sigmoid_500_0.01_1_True_model_dict.ckpt'\n",
      "[Errno 2] No such file or directory: '/Users/odedgolden/Developer/AutoRec/obj/VarAutoRec_Sigmoid_500_0.01_100_True_model_dict.ckpt'\n",
      "[Errno 2] No such file or directory: '/Users/odedgolden/Developer/AutoRec/obj/VarAutoRec_Sigmoid_500_0.01_1000_True_model_dict.ckpt'\n",
      "__init__() missing 6 required positional arguments: 'number_of_items', 'num_of_users', 'hidden_size', 'activation_function_1', 'activation_function_2', and 'loss'\n",
      "__init__() missing 6 required positional arguments: 'number_of_items', 'num_of_users', 'hidden_size', 'activation_function_1', 'activation_function_2', and 'loss'\n",
      "__init__() missing 6 required positional arguments: 'number_of_items', 'num_of_users', 'hidden_size', 'activation_function_1', 'activation_function_2', and 'loss'\n",
      "[Errno 2] No such file or directory: '/Users/odedgolden/Developer/AutoRec/obj/MF_PReLU_10_0.001_1_True_model_dict.ckpt'\n",
      "[Errno 2] No such file or directory: '/Users/odedgolden/Developer/AutoRec/obj/MF_PReLU_10_0.001_100_True_model_dict.ckpt'\n",
      "[Errno 2] No such file or directory: '/Users/odedgolden/Developer/AutoRec/obj/MF_PReLU_10_0.001_1000_True_model_dict.ckpt'\n",
      "[Errno 2] No such file or directory: '/Users/odedgolden/Developer/AutoRec/obj/MF_PReLU_20_0.001_0.001_True_model_dict.ckpt'\n",
      "[Errno 2] No such file or directory: '/Users/odedgolden/Developer/AutoRec/obj/MF_PReLU_20_0.001_0.01_True_model_dict.ckpt'\n",
      "[Errno 2] No such file or directory: '/Users/odedgolden/Developer/AutoRec/obj/MF_PReLU_20_0.001_0.1_True_model_dict.ckpt'\n",
      "[Errno 2] No such file or directory: '/Users/odedgolden/Developer/AutoRec/obj/MF_PReLU_20_0.001_1_True_model_dict.ckpt'\n",
      "[Errno 2] No such file or directory: '/Users/odedgolden/Developer/AutoRec/obj/MF_PReLU_20_0.001_100_True_model_dict.ckpt'\n",
      "[Errno 2] No such file or directory: '/Users/odedgolden/Developer/AutoRec/obj/MF_PReLU_20_0.001_1000_True_model_dict.ckpt'\n",
      "[Errno 2] No such file or directory: '/Users/odedgolden/Developer/AutoRec/obj/MF_PReLU_40_0.001_0.001_True_model_dict.ckpt'\n",
      "[Errno 2] No such file or directory: '/Users/odedgolden/Developer/AutoRec/obj/MF_PReLU_40_0.001_0.01_True_model_dict.ckpt'\n",
      "[Errno 2] No such file or directory: '/Users/odedgolden/Developer/AutoRec/obj/MF_PReLU_40_0.001_0.1_True_model_dict.ckpt'\n",
      "[Errno 2] No such file or directory: '/Users/odedgolden/Developer/AutoRec/obj/MF_PReLU_40_0.001_1_True_model_dict.ckpt'\n",
      "[Errno 2] No such file or directory: '/Users/odedgolden/Developer/AutoRec/obj/MF_PReLU_40_0.001_100_True_model_dict.ckpt'\n",
      "[Errno 2] No such file or directory: '/Users/odedgolden/Developer/AutoRec/obj/MF_PReLU_40_0.001_1000_True_model_dict.ckpt'\n",
      "[Errno 2] No such file or directory: '/Users/odedgolden/Developer/AutoRec/obj/MF_PReLU_80_0.001_0.001_True_model_dict.ckpt'\n",
      "[Errno 2] No such file or directory: '/Users/odedgolden/Developer/AutoRec/obj/MF_PReLU_80_0.001_0.01_True_model_dict.ckpt'\n",
      "[Errno 2] No such file or directory: '/Users/odedgolden/Developer/AutoRec/obj/MF_PReLU_80_0.001_0.1_True_model_dict.ckpt'\n",
      "[Errno 2] No such file or directory: '/Users/odedgolden/Developer/AutoRec/obj/MF_PReLU_80_0.001_1_True_model_dict.ckpt'\n",
      "[Errno 2] No such file or directory: '/Users/odedgolden/Developer/AutoRec/obj/MF_PReLU_80_0.001_100_True_model_dict.ckpt'\n",
      "[Errno 2] No such file or directory: '/Users/odedgolden/Developer/AutoRec/obj/MF_PReLU_80_0.001_1000_True_model_dict.ckpt'\n",
      "[Errno 2] No such file or directory: '/Users/odedgolden/Developer/AutoRec/obj/MF_PReLU_100_0.001_0.001_True_model_dict.ckpt'\n",
      "[Errno 2] No such file or directory: '/Users/odedgolden/Developer/AutoRec/obj/MF_PReLU_100_0.001_0.01_True_model_dict.ckpt'\n",
      "[Errno 2] No such file or directory: '/Users/odedgolden/Developer/AutoRec/obj/MF_PReLU_100_0.001_0.1_True_model_dict.ckpt'\n",
      "[Errno 2] No such file or directory: '/Users/odedgolden/Developer/AutoRec/obj/MF_PReLU_100_0.001_1_True_model_dict.ckpt'\n",
      "[Errno 2] No such file or directory: '/Users/odedgolden/Developer/AutoRec/obj/MF_PReLU_100_0.001_100_True_model_dict.ckpt'\n",
      "[Errno 2] No such file or directory: '/Users/odedgolden/Developer/AutoRec/obj/MF_PReLU_100_0.001_1000_True_model_dict.ckpt'\n",
      "[Errno 2] No such file or directory: '/Users/odedgolden/Developer/AutoRec/obj/MF_PReLU_200_0.001_0.001_True_model_dict.ckpt'\n",
      "[Errno 2] No such file or directory: '/Users/odedgolden/Developer/AutoRec/obj/MF_PReLU_200_0.001_0.01_True_model_dict.ckpt'\n",
      "[Errno 2] No such file or directory: '/Users/odedgolden/Developer/AutoRec/obj/MF_PReLU_200_0.001_0.1_True_model_dict.ckpt'\n",
      "[Errno 2] No such file or directory: '/Users/odedgolden/Developer/AutoRec/obj/MF_PReLU_200_0.001_1_True_model_dict.ckpt'\n",
      "[Errno 2] No such file or directory: '/Users/odedgolden/Developer/AutoRec/obj/MF_PReLU_200_0.001_100_True_model_dict.ckpt'\n",
      "[Errno 2] No such file or directory: '/Users/odedgolden/Developer/AutoRec/obj/MF_PReLU_200_0.001_1000_True_model_dict.ckpt'\n",
      "[Errno 2] No such file or directory: '/Users/odedgolden/Developer/AutoRec/obj/MF_PReLU_300_0.001_0.001_True_model_dict.ckpt'\n",
      "[Errno 2] No such file or directory: '/Users/odedgolden/Developer/AutoRec/obj/MF_PReLU_300_0.001_0.01_True_model_dict.ckpt'\n",
      "[Errno 2] No such file or directory: '/Users/odedgolden/Developer/AutoRec/obj/MF_PReLU_300_0.001_0.1_True_model_dict.ckpt'\n",
      "[Errno 2] No such file or directory: '/Users/odedgolden/Developer/AutoRec/obj/MF_PReLU_300_0.001_1_True_model_dict.ckpt'\n",
      "[Errno 2] No such file or directory: '/Users/odedgolden/Developer/AutoRec/obj/MF_PReLU_300_0.001_100_True_model_dict.ckpt'\n",
      "[Errno 2] No such file or directory: '/Users/odedgolden/Developer/AutoRec/obj/MF_PReLU_300_0.001_1000_True_model_dict.ckpt'\n",
      "[Errno 2] No such file or directory: '/Users/odedgolden/Developer/AutoRec/obj/MF_PReLU_400_0.001_0.001_True_model_dict.ckpt'\n",
      "[Errno 2] No such file or directory: '/Users/odedgolden/Developer/AutoRec/obj/MF_PReLU_400_0.001_0.01_True_model_dict.ckpt'\n",
      "[Errno 2] No such file or directory: '/Users/odedgolden/Developer/AutoRec/obj/MF_PReLU_400_0.001_0.1_True_model_dict.ckpt'\n",
      "[Errno 2] No such file or directory: '/Users/odedgolden/Developer/AutoRec/obj/MF_PReLU_400_0.001_1_True_model_dict.ckpt'\n",
      "[Errno 2] No such file or directory: '/Users/odedgolden/Developer/AutoRec/obj/MF_PReLU_400_0.001_100_True_model_dict.ckpt'\n",
      "[Errno 2] No such file or directory: '/Users/odedgolden/Developer/AutoRec/obj/MF_PReLU_400_0.001_1000_True_model_dict.ckpt'\n",
      "[Errno 2] No such file or directory: '/Users/odedgolden/Developer/AutoRec/obj/MF_PReLU_500_0.001_0.001_True_model_dict.ckpt'\n",
      "[Errno 2] No such file or directory: '/Users/odedgolden/Developer/AutoRec/obj/MF_PReLU_500_0.001_0.01_True_model_dict.ckpt'\n",
      "[Errno 2] No such file or directory: '/Users/odedgolden/Developer/AutoRec/obj/MF_PReLU_500_0.001_0.1_True_model_dict.ckpt'\n",
      "[Errno 2] No such file or directory: '/Users/odedgolden/Developer/AutoRec/obj/MF_PReLU_500_0.001_1_True_model_dict.ckpt'\n",
      "[Errno 2] No such file or directory: '/Users/odedgolden/Developer/AutoRec/obj/MF_PReLU_500_0.001_100_True_model_dict.ckpt'\n",
      "[Errno 2] No such file or directory: '/Users/odedgolden/Developer/AutoRec/obj/MF_PReLU_500_0.001_1000_True_model_dict.ckpt'\n",
      "[Errno 2] No such file or directory: '/Users/odedgolden/Developer/AutoRec/obj/MF_PReLU_10_0.002_0.001_True_model_dict.ckpt'\n",
      "[Errno 2] No such file or directory: '/Users/odedgolden/Developer/AutoRec/obj/MF_PReLU_10_0.002_0.01_True_model_dict.ckpt'\n",
      "[Errno 2] No such file or directory: '/Users/odedgolden/Developer/AutoRec/obj/MF_PReLU_10_0.002_0.1_True_model_dict.ckpt'\n",
      "[Errno 2] No such file or directory: '/Users/odedgolden/Developer/AutoRec/obj/MF_PReLU_10_0.002_1_True_model_dict.ckpt'\n",
      "[Errno 2] No such file or directory: '/Users/odedgolden/Developer/AutoRec/obj/MF_PReLU_10_0.002_100_True_model_dict.ckpt'\n",
      "[Errno 2] No such file or directory: '/Users/odedgolden/Developer/AutoRec/obj/MF_PReLU_10_0.002_1000_True_model_dict.ckpt'\n",
      "[Errno 2] No such file or directory: '/Users/odedgolden/Developer/AutoRec/obj/MF_PReLU_20_0.002_0.001_True_model_dict.ckpt'\n",
      "[Errno 2] No such file or directory: '/Users/odedgolden/Developer/AutoRec/obj/MF_PReLU_20_0.002_0.01_True_model_dict.ckpt'\n",
      "[Errno 2] No such file or directory: '/Users/odedgolden/Developer/AutoRec/obj/MF_PReLU_20_0.002_0.1_True_model_dict.ckpt'\n",
      "[Errno 2] No such file or directory: '/Users/odedgolden/Developer/AutoRec/obj/MF_PReLU_20_0.002_1_True_model_dict.ckpt'\n",
      "[Errno 2] No such file or directory: '/Users/odedgolden/Developer/AutoRec/obj/MF_PReLU_20_0.002_100_True_model_dict.ckpt'\n",
      "[Errno 2] No such file or directory: '/Users/odedgolden/Developer/AutoRec/obj/MF_PReLU_20_0.002_1000_True_model_dict.ckpt'\n",
      "[Errno 2] No such file or directory: '/Users/odedgolden/Developer/AutoRec/obj/MF_PReLU_40_0.002_0.001_True_model_dict.ckpt'\n",
      "[Errno 2] No such file or directory: '/Users/odedgolden/Developer/AutoRec/obj/MF_PReLU_40_0.002_0.01_True_model_dict.ckpt'\n",
      "[Errno 2] No such file or directory: '/Users/odedgolden/Developer/AutoRec/obj/MF_PReLU_40_0.002_0.1_True_model_dict.ckpt'\n",
      "[Errno 2] No such file or directory: '/Users/odedgolden/Developer/AutoRec/obj/MF_PReLU_40_0.002_1_True_model_dict.ckpt'\n",
      "[Errno 2] No such file or directory: '/Users/odedgolden/Developer/AutoRec/obj/MF_PReLU_40_0.002_100_True_model_dict.ckpt'\n",
      "[Errno 2] No such file or directory: '/Users/odedgolden/Developer/AutoRec/obj/MF_PReLU_40_0.002_1000_True_model_dict.ckpt'\n",
      "[Errno 2] No such file or directory: '/Users/odedgolden/Developer/AutoRec/obj/MF_PReLU_80_0.002_0.001_True_model_dict.ckpt'\n",
      "[Errno 2] No such file or directory: '/Users/odedgolden/Developer/AutoRec/obj/MF_PReLU_80_0.002_0.01_True_model_dict.ckpt'\n",
      "[Errno 2] No such file or directory: '/Users/odedgolden/Developer/AutoRec/obj/MF_PReLU_80_0.002_0.1_True_model_dict.ckpt'\n",
      "[Errno 2] No such file or directory: '/Users/odedgolden/Developer/AutoRec/obj/MF_PReLU_80_0.002_1_True_model_dict.ckpt'\n",
      "[Errno 2] No such file or directory: '/Users/odedgolden/Developer/AutoRec/obj/MF_PReLU_80_0.002_100_True_model_dict.ckpt'\n",
      "[Errno 2] No such file or directory: '/Users/odedgolden/Developer/AutoRec/obj/MF_PReLU_80_0.002_1000_True_model_dict.ckpt'\n",
      "[Errno 2] No such file or directory: '/Users/odedgolden/Developer/AutoRec/obj/MF_PReLU_100_0.002_0.001_True_model_dict.ckpt'\n",
      "[Errno 2] No such file or directory: '/Users/odedgolden/Developer/AutoRec/obj/MF_PReLU_100_0.002_0.01_True_model_dict.ckpt'\n",
      "[Errno 2] No such file or directory: '/Users/odedgolden/Developer/AutoRec/obj/MF_PReLU_100_0.002_0.1_True_model_dict.ckpt'\n",
      "[Errno 2] No such file or directory: '/Users/odedgolden/Developer/AutoRec/obj/MF_PReLU_100_0.002_1_True_model_dict.ckpt'\n",
      "[Errno 2] No such file or directory: '/Users/odedgolden/Developer/AutoRec/obj/MF_PReLU_100_0.002_100_True_model_dict.ckpt'\n",
      "[Errno 2] No such file or directory: '/Users/odedgolden/Developer/AutoRec/obj/MF_PReLU_100_0.002_1000_True_model_dict.ckpt'\n",
      "[Errno 2] No such file or directory: '/Users/odedgolden/Developer/AutoRec/obj/MF_PReLU_200_0.002_0.001_True_model_dict.ckpt'\n",
      "[Errno 2] No such file or directory: '/Users/odedgolden/Developer/AutoRec/obj/MF_PReLU_200_0.002_0.01_True_model_dict.ckpt'\n",
      "[Errno 2] No such file or directory: '/Users/odedgolden/Developer/AutoRec/obj/MF_PReLU_200_0.002_0.1_True_model_dict.ckpt'\n",
      "[Errno 2] No such file or directory: '/Users/odedgolden/Developer/AutoRec/obj/MF_PReLU_200_0.002_1_True_model_dict.ckpt'\n",
      "[Errno 2] No such file or directory: '/Users/odedgolden/Developer/AutoRec/obj/MF_PReLU_200_0.002_100_True_model_dict.ckpt'\n",
      "[Errno 2] No such file or directory: '/Users/odedgolden/Developer/AutoRec/obj/MF_PReLU_200_0.002_1000_True_model_dict.ckpt'\n",
      "[Errno 2] No such file or directory: '/Users/odedgolden/Developer/AutoRec/obj/MF_PReLU_300_0.002_0.001_True_model_dict.ckpt'\n",
      "[Errno 2] No such file or directory: '/Users/odedgolden/Developer/AutoRec/obj/MF_PReLU_300_0.002_0.01_True_model_dict.ckpt'\n",
      "[Errno 2] No such file or directory: '/Users/odedgolden/Developer/AutoRec/obj/MF_PReLU_300_0.002_0.1_True_model_dict.ckpt'\n",
      "[Errno 2] No such file or directory: '/Users/odedgolden/Developer/AutoRec/obj/MF_PReLU_300_0.002_1_True_model_dict.ckpt'\n",
      "[Errno 2] No such file or directory: '/Users/odedgolden/Developer/AutoRec/obj/MF_PReLU_300_0.002_100_True_model_dict.ckpt'\n",
      "[Errno 2] No such file or directory: '/Users/odedgolden/Developer/AutoRec/obj/MF_PReLU_300_0.002_1000_True_model_dict.ckpt'\n",
      "[Errno 2] No such file or directory: '/Users/odedgolden/Developer/AutoRec/obj/MF_PReLU_400_0.002_0.001_True_model_dict.ckpt'\n",
      "[Errno 2] No such file or directory: '/Users/odedgolden/Developer/AutoRec/obj/MF_PReLU_400_0.002_0.01_True_model_dict.ckpt'\n",
      "[Errno 2] No such file or directory: '/Users/odedgolden/Developer/AutoRec/obj/MF_PReLU_400_0.002_0.1_True_model_dict.ckpt'\n",
      "[Errno 2] No such file or directory: '/Users/odedgolden/Developer/AutoRec/obj/MF_PReLU_400_0.002_1_True_model_dict.ckpt'\n",
      "[Errno 2] No such file or directory: '/Users/odedgolden/Developer/AutoRec/obj/MF_PReLU_400_0.002_100_True_model_dict.ckpt'\n",
      "[Errno 2] No such file or directory: '/Users/odedgolden/Developer/AutoRec/obj/MF_PReLU_400_0.002_1000_True_model_dict.ckpt'\n",
      "[Errno 2] No such file or directory: '/Users/odedgolden/Developer/AutoRec/obj/MF_PReLU_500_0.002_0.001_True_model_dict.ckpt'\n",
      "[Errno 2] No such file or directory: '/Users/odedgolden/Developer/AutoRec/obj/MF_PReLU_500_0.002_0.01_True_model_dict.ckpt'\n",
      "[Errno 2] No such file or directory: '/Users/odedgolden/Developer/AutoRec/obj/MF_PReLU_500_0.002_0.1_True_model_dict.ckpt'\n",
      "[Errno 2] No such file or directory: '/Users/odedgolden/Developer/AutoRec/obj/MF_PReLU_500_0.002_1_True_model_dict.ckpt'\n",
      "[Errno 2] No such file or directory: '/Users/odedgolden/Developer/AutoRec/obj/MF_PReLU_500_0.002_100_True_model_dict.ckpt'\n",
      "[Errno 2] No such file or directory: '/Users/odedgolden/Developer/AutoRec/obj/MF_PReLU_500_0.002_1000_True_model_dict.ckpt'\n",
      "[Errno 2] No such file or directory: '/Users/odedgolden/Developer/AutoRec/obj/MF_PReLU_10_0.004_0.001_True_model_dict.ckpt'\n",
      "[Errno 2] No such file or directory: '/Users/odedgolden/Developer/AutoRec/obj/MF_PReLU_10_0.004_0.01_True_model_dict.ckpt'\n",
      "[Errno 2] No such file or directory: '/Users/odedgolden/Developer/AutoRec/obj/MF_PReLU_10_0.004_0.1_True_model_dict.ckpt'\n",
      "[Errno 2] No such file or directory: '/Users/odedgolden/Developer/AutoRec/obj/MF_PReLU_10_0.004_1_True_model_dict.ckpt'\n",
      "[Errno 2] No such file or directory: '/Users/odedgolden/Developer/AutoRec/obj/MF_PReLU_10_0.004_100_True_model_dict.ckpt'\n",
      "[Errno 2] No such file or directory: '/Users/odedgolden/Developer/AutoRec/obj/MF_PReLU_10_0.004_1000_True_model_dict.ckpt'\n",
      "[Errno 2] No such file or directory: '/Users/odedgolden/Developer/AutoRec/obj/MF_PReLU_20_0.004_0.001_True_model_dict.ckpt'\n",
      "[Errno 2] No such file or directory: '/Users/odedgolden/Developer/AutoRec/obj/MF_PReLU_20_0.004_0.01_True_model_dict.ckpt'\n",
      "[Errno 2] No such file or directory: '/Users/odedgolden/Developer/AutoRec/obj/MF_PReLU_20_0.004_0.1_True_model_dict.ckpt'\n",
      "[Errno 2] No such file or directory: '/Users/odedgolden/Developer/AutoRec/obj/MF_PReLU_20_0.004_1_True_model_dict.ckpt'\n",
      "[Errno 2] No such file or directory: '/Users/odedgolden/Developer/AutoRec/obj/MF_PReLU_20_0.004_100_True_model_dict.ckpt'\n",
      "[Errno 2] No such file or directory: '/Users/odedgolden/Developer/AutoRec/obj/MF_PReLU_20_0.004_1000_True_model_dict.ckpt'\n",
      "[Errno 2] No such file or directory: '/Users/odedgolden/Developer/AutoRec/obj/MF_PReLU_40_0.004_0.001_True_model_dict.ckpt'\n",
      "[Errno 2] No such file or directory: '/Users/odedgolden/Developer/AutoRec/obj/MF_PReLU_40_0.004_0.01_True_model_dict.ckpt'\n",
      "[Errno 2] No such file or directory: '/Users/odedgolden/Developer/AutoRec/obj/MF_PReLU_40_0.004_0.1_True_model_dict.ckpt'\n",
      "[Errno 2] No such file or directory: '/Users/odedgolden/Developer/AutoRec/obj/MF_PReLU_40_0.004_1_True_model_dict.ckpt'\n",
      "[Errno 2] No such file or directory: '/Users/odedgolden/Developer/AutoRec/obj/MF_PReLU_40_0.004_100_True_model_dict.ckpt'\n",
      "[Errno 2] No such file or directory: '/Users/odedgolden/Developer/AutoRec/obj/MF_PReLU_40_0.004_1000_True_model_dict.ckpt'\n",
      "[Errno 2] No such file or directory: '/Users/odedgolden/Developer/AutoRec/obj/MF_PReLU_80_0.004_0.001_True_model_dict.ckpt'\n",
      "[Errno 2] No such file or directory: '/Users/odedgolden/Developer/AutoRec/obj/MF_PReLU_80_0.004_0.01_True_model_dict.ckpt'\n",
      "[Errno 2] No such file or directory: '/Users/odedgolden/Developer/AutoRec/obj/MF_PReLU_80_0.004_0.1_True_model_dict.ckpt'\n",
      "[Errno 2] No such file or directory: '/Users/odedgolden/Developer/AutoRec/obj/MF_PReLU_80_0.004_1_True_model_dict.ckpt'\n",
      "[Errno 2] No such file or directory: '/Users/odedgolden/Developer/AutoRec/obj/MF_PReLU_80_0.004_100_True_model_dict.ckpt'\n",
      "[Errno 2] No such file or directory: '/Users/odedgolden/Developer/AutoRec/obj/MF_PReLU_80_0.004_1000_True_model_dict.ckpt'\n",
      "[Errno 2] No such file or directory: '/Users/odedgolden/Developer/AutoRec/obj/MF_PReLU_100_0.004_0.001_True_model_dict.ckpt'\n",
      "[Errno 2] No such file or directory: '/Users/odedgolden/Developer/AutoRec/obj/MF_PReLU_100_0.004_0.01_True_model_dict.ckpt'\n",
      "[Errno 2] No such file or directory: '/Users/odedgolden/Developer/AutoRec/obj/MF_PReLU_100_0.004_0.1_True_model_dict.ckpt'\n",
      "[Errno 2] No such file or directory: '/Users/odedgolden/Developer/AutoRec/obj/MF_PReLU_100_0.004_1_True_model_dict.ckpt'\n",
      "[Errno 2] No such file or directory: '/Users/odedgolden/Developer/AutoRec/obj/MF_PReLU_100_0.004_100_True_model_dict.ckpt'\n",
      "[Errno 2] No such file or directory: '/Users/odedgolden/Developer/AutoRec/obj/MF_PReLU_100_0.004_1000_True_model_dict.ckpt'\n",
      "[Errno 2] No such file or directory: '/Users/odedgolden/Developer/AutoRec/obj/MF_PReLU_200_0.004_0.001_True_model_dict.ckpt'\n",
      "[Errno 2] No such file or directory: '/Users/odedgolden/Developer/AutoRec/obj/MF_PReLU_200_0.004_0.01_True_model_dict.ckpt'\n",
      "[Errno 2] No such file or directory: '/Users/odedgolden/Developer/AutoRec/obj/MF_PReLU_200_0.004_0.1_True_model_dict.ckpt'\n",
      "[Errno 2] No such file or directory: '/Users/odedgolden/Developer/AutoRec/obj/MF_PReLU_200_0.004_1_True_model_dict.ckpt'\n",
      "[Errno 2] No such file or directory: '/Users/odedgolden/Developer/AutoRec/obj/MF_PReLU_200_0.004_100_True_model_dict.ckpt'\n",
      "[Errno 2] No such file or directory: '/Users/odedgolden/Developer/AutoRec/obj/MF_PReLU_200_0.004_1000_True_model_dict.ckpt'\n",
      "[Errno 2] No such file or directory: '/Users/odedgolden/Developer/AutoRec/obj/MF_PReLU_300_0.004_0.001_True_model_dict.ckpt'\n",
      "[Errno 2] No such file or directory: '/Users/odedgolden/Developer/AutoRec/obj/MF_PReLU_300_0.004_0.01_True_model_dict.ckpt'\n",
      "[Errno 2] No such file or directory: '/Users/odedgolden/Developer/AutoRec/obj/MF_PReLU_300_0.004_0.1_True_model_dict.ckpt'\n",
      "[Errno 2] No such file or directory: '/Users/odedgolden/Developer/AutoRec/obj/MF_PReLU_300_0.004_1_True_model_dict.ckpt'\n",
      "[Errno 2] No such file or directory: '/Users/odedgolden/Developer/AutoRec/obj/MF_PReLU_300_0.004_100_True_model_dict.ckpt'\n",
      "[Errno 2] No such file or directory: '/Users/odedgolden/Developer/AutoRec/obj/MF_PReLU_300_0.004_1000_True_model_dict.ckpt'\n",
      "[Errno 2] No such file or directory: '/Users/odedgolden/Developer/AutoRec/obj/MF_PReLU_400_0.004_0.001_True_model_dict.ckpt'\n",
      "[Errno 2] No such file or directory: '/Users/odedgolden/Developer/AutoRec/obj/MF_PReLU_400_0.004_0.01_True_model_dict.ckpt'\n",
      "[Errno 2] No such file or directory: '/Users/odedgolden/Developer/AutoRec/obj/MF_PReLU_400_0.004_0.1_True_model_dict.ckpt'\n",
      "[Errno 2] No such file or directory: '/Users/odedgolden/Developer/AutoRec/obj/MF_PReLU_400_0.004_1_True_model_dict.ckpt'\n",
      "[Errno 2] No such file or directory: '/Users/odedgolden/Developer/AutoRec/obj/MF_PReLU_400_0.004_100_True_model_dict.ckpt'\n",
      "[Errno 2] No such file or directory: '/Users/odedgolden/Developer/AutoRec/obj/MF_PReLU_400_0.004_1000_True_model_dict.ckpt'\n",
      "[Errno 2] No such file or directory: '/Users/odedgolden/Developer/AutoRec/obj/MF_PReLU_500_0.004_0.001_True_model_dict.ckpt'\n",
      "[Errno 2] No such file or directory: '/Users/odedgolden/Developer/AutoRec/obj/MF_PReLU_500_0.004_0.01_True_model_dict.ckpt'\n",
      "[Errno 2] No such file or directory: '/Users/odedgolden/Developer/AutoRec/obj/MF_PReLU_500_0.004_0.1_True_model_dict.ckpt'\n",
      "[Errno 2] No such file or directory: '/Users/odedgolden/Developer/AutoRec/obj/MF_PReLU_500_0.004_1_True_model_dict.ckpt'\n",
      "[Errno 2] No such file or directory: '/Users/odedgolden/Developer/AutoRec/obj/MF_PReLU_500_0.004_100_True_model_dict.ckpt'\n",
      "[Errno 2] No such file or directory: '/Users/odedgolden/Developer/AutoRec/obj/MF_PReLU_500_0.004_1000_True_model_dict.ckpt'\n",
      "[Errno 2] No such file or directory: '/Users/odedgolden/Developer/AutoRec/obj/MF_PReLU_10_0.01_0.001_True_model_dict.ckpt'\n",
      "[Errno 2] No such file or directory: '/Users/odedgolden/Developer/AutoRec/obj/MF_PReLU_10_0.01_0.01_True_model_dict.ckpt'\n",
      "[Errno 2] No such file or directory: '/Users/odedgolden/Developer/AutoRec/obj/MF_PReLU_10_0.01_0.1_True_model_dict.ckpt'\n",
      "[Errno 2] No such file or directory: '/Users/odedgolden/Developer/AutoRec/obj/MF_PReLU_10_0.01_1_True_model_dict.ckpt'\n",
      "[Errno 2] No such file or directory: '/Users/odedgolden/Developer/AutoRec/obj/MF_PReLU_10_0.01_100_True_model_dict.ckpt'\n",
      "[Errno 2] No such file or directory: '/Users/odedgolden/Developer/AutoRec/obj/MF_PReLU_10_0.01_1000_True_model_dict.ckpt'\n",
      "[Errno 2] No such file or directory: '/Users/odedgolden/Developer/AutoRec/obj/MF_PReLU_20_0.01_0.001_True_model_dict.ckpt'\n",
      "[Errno 2] No such file or directory: '/Users/odedgolden/Developer/AutoRec/obj/MF_PReLU_20_0.01_0.01_True_model_dict.ckpt'\n",
      "[Errno 2] No such file or directory: '/Users/odedgolden/Developer/AutoRec/obj/MF_PReLU_20_0.01_0.1_True_model_dict.ckpt'\n",
      "[Errno 2] No such file or directory: '/Users/odedgolden/Developer/AutoRec/obj/MF_PReLU_20_0.01_1_True_model_dict.ckpt'\n",
      "[Errno 2] No such file or directory: '/Users/odedgolden/Developer/AutoRec/obj/MF_PReLU_20_0.01_100_True_model_dict.ckpt'\n",
      "[Errno 2] No such file or directory: '/Users/odedgolden/Developer/AutoRec/obj/MF_PReLU_20_0.01_1000_True_model_dict.ckpt'\n",
      "[Errno 2] No such file or directory: '/Users/odedgolden/Developer/AutoRec/obj/MF_PReLU_40_0.01_0.001_True_model_dict.ckpt'\n",
      "[Errno 2] No such file or directory: '/Users/odedgolden/Developer/AutoRec/obj/MF_PReLU_40_0.01_0.01_True_model_dict.ckpt'\n",
      "[Errno 2] No such file or directory: '/Users/odedgolden/Developer/AutoRec/obj/MF_PReLU_40_0.01_0.1_True_model_dict.ckpt'\n",
      "[Errno 2] No such file or directory: '/Users/odedgolden/Developer/AutoRec/obj/MF_PReLU_40_0.01_1_True_model_dict.ckpt'\n",
      "[Errno 2] No such file or directory: '/Users/odedgolden/Developer/AutoRec/obj/MF_PReLU_40_0.01_100_True_model_dict.ckpt'\n",
      "[Errno 2] No such file or directory: '/Users/odedgolden/Developer/AutoRec/obj/MF_PReLU_40_0.01_1000_True_model_dict.ckpt'\n",
      "[Errno 2] No such file or directory: '/Users/odedgolden/Developer/AutoRec/obj/MF_PReLU_80_0.01_0.001_True_model_dict.ckpt'\n",
      "[Errno 2] No such file or directory: '/Users/odedgolden/Developer/AutoRec/obj/MF_PReLU_80_0.01_0.01_True_model_dict.ckpt'\n",
      "[Errno 2] No such file or directory: '/Users/odedgolden/Developer/AutoRec/obj/MF_PReLU_80_0.01_0.1_True_model_dict.ckpt'\n",
      "[Errno 2] No such file or directory: '/Users/odedgolden/Developer/AutoRec/obj/MF_PReLU_80_0.01_1_True_model_dict.ckpt'\n",
      "[Errno 2] No such file or directory: '/Users/odedgolden/Developer/AutoRec/obj/MF_PReLU_80_0.01_100_True_model_dict.ckpt'\n",
      "[Errno 2] No such file or directory: '/Users/odedgolden/Developer/AutoRec/obj/MF_PReLU_80_0.01_1000_True_model_dict.ckpt'\n",
      "[Errno 2] No such file or directory: '/Users/odedgolden/Developer/AutoRec/obj/MF_PReLU_100_0.01_0.001_True_model_dict.ckpt'\n",
      "[Errno 2] No such file or directory: '/Users/odedgolden/Developer/AutoRec/obj/MF_PReLU_100_0.01_0.01_True_model_dict.ckpt'\n",
      "[Errno 2] No such file or directory: '/Users/odedgolden/Developer/AutoRec/obj/MF_PReLU_100_0.01_0.1_True_model_dict.ckpt'\n",
      "[Errno 2] No such file or directory: '/Users/odedgolden/Developer/AutoRec/obj/MF_PReLU_100_0.01_1_True_model_dict.ckpt'\n",
      "[Errno 2] No such file or directory: '/Users/odedgolden/Developer/AutoRec/obj/MF_PReLU_100_0.01_100_True_model_dict.ckpt'\n",
      "[Errno 2] No such file or directory: '/Users/odedgolden/Developer/AutoRec/obj/MF_PReLU_100_0.01_1000_True_model_dict.ckpt'\n",
      "[Errno 2] No such file or directory: '/Users/odedgolden/Developer/AutoRec/obj/MF_PReLU_200_0.01_0.001_True_model_dict.ckpt'\n",
      "[Errno 2] No such file or directory: '/Users/odedgolden/Developer/AutoRec/obj/MF_PReLU_200_0.01_0.01_True_model_dict.ckpt'\n",
      "[Errno 2] No such file or directory: '/Users/odedgolden/Developer/AutoRec/obj/MF_PReLU_200_0.01_0.1_True_model_dict.ckpt'\n",
      "[Errno 2] No such file or directory: '/Users/odedgolden/Developer/AutoRec/obj/MF_PReLU_200_0.01_1_True_model_dict.ckpt'\n",
      "[Errno 2] No such file or directory: '/Users/odedgolden/Developer/AutoRec/obj/MF_PReLU_200_0.01_100_True_model_dict.ckpt'\n",
      "[Errno 2] No such file or directory: '/Users/odedgolden/Developer/AutoRec/obj/MF_PReLU_200_0.01_1000_True_model_dict.ckpt'\n",
      "[Errno 2] No such file or directory: '/Users/odedgolden/Developer/AutoRec/obj/MF_PReLU_300_0.01_0.001_True_model_dict.ckpt'\n",
      "[Errno 2] No such file or directory: '/Users/odedgolden/Developer/AutoRec/obj/MF_PReLU_300_0.01_0.01_True_model_dict.ckpt'\n",
      "[Errno 2] No such file or directory: '/Users/odedgolden/Developer/AutoRec/obj/MF_PReLU_300_0.01_0.1_True_model_dict.ckpt'\n",
      "[Errno 2] No such file or directory: '/Users/odedgolden/Developer/AutoRec/obj/MF_PReLU_300_0.01_1_True_model_dict.ckpt'\n",
      "[Errno 2] No such file or directory: '/Users/odedgolden/Developer/AutoRec/obj/MF_PReLU_300_0.01_100_True_model_dict.ckpt'\n",
      "[Errno 2] No such file or directory: '/Users/odedgolden/Developer/AutoRec/obj/MF_PReLU_300_0.01_1000_True_model_dict.ckpt'\n",
      "[Errno 2] No such file or directory: '/Users/odedgolden/Developer/AutoRec/obj/MF_PReLU_400_0.01_0.001_True_model_dict.ckpt'\n",
      "[Errno 2] No such file or directory: '/Users/odedgolden/Developer/AutoRec/obj/MF_PReLU_400_0.01_0.01_True_model_dict.ckpt'\n",
      "[Errno 2] No such file or directory: '/Users/odedgolden/Developer/AutoRec/obj/MF_PReLU_400_0.01_0.1_True_model_dict.ckpt'\n",
      "[Errno 2] No such file or directory: '/Users/odedgolden/Developer/AutoRec/obj/MF_PReLU_400_0.01_1_True_model_dict.ckpt'\n",
      "[Errno 2] No such file or directory: '/Users/odedgolden/Developer/AutoRec/obj/MF_PReLU_400_0.01_100_True_model_dict.ckpt'\n",
      "[Errno 2] No such file or directory: '/Users/odedgolden/Developer/AutoRec/obj/MF_PReLU_400_0.01_1000_True_model_dict.ckpt'\n",
      "[Errno 2] No such file or directory: '/Users/odedgolden/Developer/AutoRec/obj/MF_PReLU_500_0.01_0.001_True_model_dict.ckpt'\n",
      "[Errno 2] No such file or directory: '/Users/odedgolden/Developer/AutoRec/obj/MF_PReLU_500_0.01_0.01_True_model_dict.ckpt'\n",
      "[Errno 2] No such file or directory: '/Users/odedgolden/Developer/AutoRec/obj/MF_PReLU_500_0.01_0.1_True_model_dict.ckpt'\n",
      "[Errno 2] No such file or directory: '/Users/odedgolden/Developer/AutoRec/obj/MF_PReLU_500_0.01_1_True_model_dict.ckpt'\n",
      "[Errno 2] No such file or directory: '/Users/odedgolden/Developer/AutoRec/obj/MF_PReLU_500_0.01_100_True_model_dict.ckpt'\n",
      "[Errno 2] No such file or directory: '/Users/odedgolden/Developer/AutoRec/obj/MF_PReLU_500_0.01_1000_True_model_dict.ckpt'\n",
      "[Errno 2] No such file or directory: '/Users/odedgolden/Developer/AutoRec/obj/MF_Sigmoid_10_0.001_0.001_True_model_dict.ckpt'\n",
      "[Errno 2] No such file or directory: '/Users/odedgolden/Developer/AutoRec/obj/MF_Sigmoid_10_0.001_0.01_True_model_dict.ckpt'\n",
      "[Errno 2] No such file or directory: '/Users/odedgolden/Developer/AutoRec/obj/MF_Sigmoid_10_0.001_0.1_True_model_dict.ckpt'\n",
      "[Errno 2] No such file or directory: '/Users/odedgolden/Developer/AutoRec/obj/MF_Sigmoid_10_0.001_1_True_model_dict.ckpt'\n",
      "[Errno 2] No such file or directory: '/Users/odedgolden/Developer/AutoRec/obj/MF_Sigmoid_10_0.001_100_True_model_dict.ckpt'\n",
      "[Errno 2] No such file or directory: '/Users/odedgolden/Developer/AutoRec/obj/MF_Sigmoid_10_0.001_1000_True_model_dict.ckpt'\n",
      "[Errno 2] No such file or directory: '/Users/odedgolden/Developer/AutoRec/obj/MF_Sigmoid_20_0.001_0.001_True_model_dict.ckpt'\n",
      "[Errno 2] No such file or directory: '/Users/odedgolden/Developer/AutoRec/obj/MF_Sigmoid_20_0.001_0.01_True_model_dict.ckpt'\n",
      "[Errno 2] No such file or directory: '/Users/odedgolden/Developer/AutoRec/obj/MF_Sigmoid_20_0.001_0.1_True_model_dict.ckpt'\n",
      "[Errno 2] No such file or directory: '/Users/odedgolden/Developer/AutoRec/obj/MF_Sigmoid_20_0.001_1_True_model_dict.ckpt'\n",
      "[Errno 2] No such file or directory: '/Users/odedgolden/Developer/AutoRec/obj/MF_Sigmoid_20_0.001_100_True_model_dict.ckpt'\n",
      "[Errno 2] No such file or directory: '/Users/odedgolden/Developer/AutoRec/obj/MF_Sigmoid_20_0.001_1000_True_model_dict.ckpt'\n",
      "[Errno 2] No such file or directory: '/Users/odedgolden/Developer/AutoRec/obj/MF_Sigmoid_40_0.001_0.001_True_model_dict.ckpt'\n",
      "[Errno 2] No such file or directory: '/Users/odedgolden/Developer/AutoRec/obj/MF_Sigmoid_40_0.001_0.01_True_model_dict.ckpt'\n",
      "[Errno 2] No such file or directory: '/Users/odedgolden/Developer/AutoRec/obj/MF_Sigmoid_40_0.001_0.1_True_model_dict.ckpt'\n",
      "[Errno 2] No such file or directory: '/Users/odedgolden/Developer/AutoRec/obj/MF_Sigmoid_40_0.001_1_True_model_dict.ckpt'\n",
      "[Errno 2] No such file or directory: '/Users/odedgolden/Developer/AutoRec/obj/MF_Sigmoid_40_0.001_100_True_model_dict.ckpt'\n",
      "[Errno 2] No such file or directory: '/Users/odedgolden/Developer/AutoRec/obj/MF_Sigmoid_40_0.001_1000_True_model_dict.ckpt'\n",
      "[Errno 2] No such file or directory: '/Users/odedgolden/Developer/AutoRec/obj/MF_Sigmoid_80_0.001_0.001_True_model_dict.ckpt'\n",
      "[Errno 2] No such file or directory: '/Users/odedgolden/Developer/AutoRec/obj/MF_Sigmoid_80_0.001_0.01_True_model_dict.ckpt'\n",
      "[Errno 2] No such file or directory: '/Users/odedgolden/Developer/AutoRec/obj/MF_Sigmoid_80_0.001_0.1_True_model_dict.ckpt'\n",
      "[Errno 2] No such file or directory: '/Users/odedgolden/Developer/AutoRec/obj/MF_Sigmoid_80_0.001_1_True_model_dict.ckpt'\n",
      "[Errno 2] No such file or directory: '/Users/odedgolden/Developer/AutoRec/obj/MF_Sigmoid_80_0.001_100_True_model_dict.ckpt'\n",
      "[Errno 2] No such file or directory: '/Users/odedgolden/Developer/AutoRec/obj/MF_Sigmoid_80_0.001_1000_True_model_dict.ckpt'\n",
      "[Errno 2] No such file or directory: '/Users/odedgolden/Developer/AutoRec/obj/MF_Sigmoid_100_0.001_0.001_True_model_dict.ckpt'\n",
      "[Errno 2] No such file or directory: '/Users/odedgolden/Developer/AutoRec/obj/MF_Sigmoid_100_0.001_0.01_True_model_dict.ckpt'\n",
      "[Errno 2] No such file or directory: '/Users/odedgolden/Developer/AutoRec/obj/MF_Sigmoid_100_0.001_0.1_True_model_dict.ckpt'\n",
      "[Errno 2] No such file or directory: '/Users/odedgolden/Developer/AutoRec/obj/MF_Sigmoid_100_0.001_1_True_model_dict.ckpt'\n",
      "[Errno 2] No such file or directory: '/Users/odedgolden/Developer/AutoRec/obj/MF_Sigmoid_100_0.001_100_True_model_dict.ckpt'\n",
      "[Errno 2] No such file or directory: '/Users/odedgolden/Developer/AutoRec/obj/MF_Sigmoid_100_0.001_1000_True_model_dict.ckpt'\n",
      "[Errno 2] No such file or directory: '/Users/odedgolden/Developer/AutoRec/obj/MF_Sigmoid_200_0.001_0.001_True_model_dict.ckpt'\n",
      "[Errno 2] No such file or directory: '/Users/odedgolden/Developer/AutoRec/obj/MF_Sigmoid_200_0.001_0.01_True_model_dict.ckpt'\n",
      "[Errno 2] No such file or directory: '/Users/odedgolden/Developer/AutoRec/obj/MF_Sigmoid_200_0.001_0.1_True_model_dict.ckpt'\n",
      "[Errno 2] No such file or directory: '/Users/odedgolden/Developer/AutoRec/obj/MF_Sigmoid_200_0.001_1_True_model_dict.ckpt'\n",
      "[Errno 2] No such file or directory: '/Users/odedgolden/Developer/AutoRec/obj/MF_Sigmoid_200_0.001_100_True_model_dict.ckpt'\n",
      "[Errno 2] No such file or directory: '/Users/odedgolden/Developer/AutoRec/obj/MF_Sigmoid_200_0.001_1000_True_model_dict.ckpt'\n",
      "[Errno 2] No such file or directory: '/Users/odedgolden/Developer/AutoRec/obj/MF_Sigmoid_300_0.001_0.001_True_model_dict.ckpt'\n",
      "[Errno 2] No such file or directory: '/Users/odedgolden/Developer/AutoRec/obj/MF_Sigmoid_300_0.001_0.01_True_model_dict.ckpt'\n",
      "[Errno 2] No such file or directory: '/Users/odedgolden/Developer/AutoRec/obj/MF_Sigmoid_300_0.001_0.1_True_model_dict.ckpt'\n",
      "[Errno 2] No such file or directory: '/Users/odedgolden/Developer/AutoRec/obj/MF_Sigmoid_300_0.001_1_True_model_dict.ckpt'\n",
      "[Errno 2] No such file or directory: '/Users/odedgolden/Developer/AutoRec/obj/MF_Sigmoid_300_0.001_100_True_model_dict.ckpt'\n",
      "[Errno 2] No such file or directory: '/Users/odedgolden/Developer/AutoRec/obj/MF_Sigmoid_300_0.001_1000_True_model_dict.ckpt'\n",
      "[Errno 2] No such file or directory: '/Users/odedgolden/Developer/AutoRec/obj/MF_Sigmoid_400_0.001_0.001_True_model_dict.ckpt'\n",
      "[Errno 2] No such file or directory: '/Users/odedgolden/Developer/AutoRec/obj/MF_Sigmoid_400_0.001_0.01_True_model_dict.ckpt'\n",
      "[Errno 2] No such file or directory: '/Users/odedgolden/Developer/AutoRec/obj/MF_Sigmoid_400_0.001_0.1_True_model_dict.ckpt'\n",
      "[Errno 2] No such file or directory: '/Users/odedgolden/Developer/AutoRec/obj/MF_Sigmoid_400_0.001_1_True_model_dict.ckpt'\n",
      "[Errno 2] No such file or directory: '/Users/odedgolden/Developer/AutoRec/obj/MF_Sigmoid_400_0.001_100_True_model_dict.ckpt'\n",
      "[Errno 2] No such file or directory: '/Users/odedgolden/Developer/AutoRec/obj/MF_Sigmoid_400_0.001_1000_True_model_dict.ckpt'\n",
      "[Errno 2] No such file or directory: '/Users/odedgolden/Developer/AutoRec/obj/MF_Sigmoid_500_0.001_0.001_True_model_dict.ckpt'\n",
      "[Errno 2] No such file or directory: '/Users/odedgolden/Developer/AutoRec/obj/MF_Sigmoid_500_0.001_0.01_True_model_dict.ckpt'\n",
      "[Errno 2] No such file or directory: '/Users/odedgolden/Developer/AutoRec/obj/MF_Sigmoid_500_0.001_0.1_True_model_dict.ckpt'\n",
      "[Errno 2] No such file or directory: '/Users/odedgolden/Developer/AutoRec/obj/MF_Sigmoid_500_0.001_1_True_model_dict.ckpt'\n",
      "[Errno 2] No such file or directory: '/Users/odedgolden/Developer/AutoRec/obj/MF_Sigmoid_500_0.001_100_True_model_dict.ckpt'\n",
      "[Errno 2] No such file or directory: '/Users/odedgolden/Developer/AutoRec/obj/MF_Sigmoid_500_0.001_1000_True_model_dict.ckpt'\n",
      "[Errno 2] No such file or directory: '/Users/odedgolden/Developer/AutoRec/obj/MF_Sigmoid_10_0.002_0.001_True_model_dict.ckpt'\n",
      "[Errno 2] No such file or directory: '/Users/odedgolden/Developer/AutoRec/obj/MF_Sigmoid_10_0.002_0.01_True_model_dict.ckpt'\n",
      "[Errno 2] No such file or directory: '/Users/odedgolden/Developer/AutoRec/obj/MF_Sigmoid_10_0.002_0.1_True_model_dict.ckpt'\n",
      "[Errno 2] No such file or directory: '/Users/odedgolden/Developer/AutoRec/obj/MF_Sigmoid_10_0.002_1_True_model_dict.ckpt'\n",
      "[Errno 2] No such file or directory: '/Users/odedgolden/Developer/AutoRec/obj/MF_Sigmoid_10_0.002_100_True_model_dict.ckpt'\n",
      "[Errno 2] No such file or directory: '/Users/odedgolden/Developer/AutoRec/obj/MF_Sigmoid_10_0.002_1000_True_model_dict.ckpt'\n",
      "[Errno 2] No such file or directory: '/Users/odedgolden/Developer/AutoRec/obj/MF_Sigmoid_20_0.002_0.001_True_model_dict.ckpt'\n",
      "[Errno 2] No such file or directory: '/Users/odedgolden/Developer/AutoRec/obj/MF_Sigmoid_20_0.002_0.01_True_model_dict.ckpt'\n",
      "[Errno 2] No such file or directory: '/Users/odedgolden/Developer/AutoRec/obj/MF_Sigmoid_20_0.002_0.1_True_model_dict.ckpt'\n",
      "[Errno 2] No such file or directory: '/Users/odedgolden/Developer/AutoRec/obj/MF_Sigmoid_20_0.002_1_True_model_dict.ckpt'\n",
      "[Errno 2] No such file or directory: '/Users/odedgolden/Developer/AutoRec/obj/MF_Sigmoid_20_0.002_100_True_model_dict.ckpt'\n",
      "[Errno 2] No such file or directory: '/Users/odedgolden/Developer/AutoRec/obj/MF_Sigmoid_20_0.002_1000_True_model_dict.ckpt'\n",
      "[Errno 2] No such file or directory: '/Users/odedgolden/Developer/AutoRec/obj/MF_Sigmoid_40_0.002_0.001_True_model_dict.ckpt'\n",
      "[Errno 2] No such file or directory: '/Users/odedgolden/Developer/AutoRec/obj/MF_Sigmoid_40_0.002_0.01_True_model_dict.ckpt'\n",
      "[Errno 2] No such file or directory: '/Users/odedgolden/Developer/AutoRec/obj/MF_Sigmoid_40_0.002_0.1_True_model_dict.ckpt'\n",
      "[Errno 2] No such file or directory: '/Users/odedgolden/Developer/AutoRec/obj/MF_Sigmoid_40_0.002_1_True_model_dict.ckpt'\n",
      "[Errno 2] No such file or directory: '/Users/odedgolden/Developer/AutoRec/obj/MF_Sigmoid_40_0.002_100_True_model_dict.ckpt'\n",
      "[Errno 2] No such file or directory: '/Users/odedgolden/Developer/AutoRec/obj/MF_Sigmoid_40_0.002_1000_True_model_dict.ckpt'\n",
      "[Errno 2] No such file or directory: '/Users/odedgolden/Developer/AutoRec/obj/MF_Sigmoid_80_0.002_0.001_True_model_dict.ckpt'\n",
      "[Errno 2] No such file or directory: '/Users/odedgolden/Developer/AutoRec/obj/MF_Sigmoid_80_0.002_0.01_True_model_dict.ckpt'\n",
      "[Errno 2] No such file or directory: '/Users/odedgolden/Developer/AutoRec/obj/MF_Sigmoid_80_0.002_0.1_True_model_dict.ckpt'\n",
      "[Errno 2] No such file or directory: '/Users/odedgolden/Developer/AutoRec/obj/MF_Sigmoid_80_0.002_1_True_model_dict.ckpt'\n",
      "[Errno 2] No such file or directory: '/Users/odedgolden/Developer/AutoRec/obj/MF_Sigmoid_80_0.002_100_True_model_dict.ckpt'\n",
      "[Errno 2] No such file or directory: '/Users/odedgolden/Developer/AutoRec/obj/MF_Sigmoid_80_0.002_1000_True_model_dict.ckpt'\n",
      "[Errno 2] No such file or directory: '/Users/odedgolden/Developer/AutoRec/obj/MF_Sigmoid_100_0.002_0.001_True_model_dict.ckpt'\n",
      "[Errno 2] No such file or directory: '/Users/odedgolden/Developer/AutoRec/obj/MF_Sigmoid_100_0.002_0.01_True_model_dict.ckpt'\n",
      "[Errno 2] No such file or directory: '/Users/odedgolden/Developer/AutoRec/obj/MF_Sigmoid_100_0.002_0.1_True_model_dict.ckpt'\n",
      "[Errno 2] No such file or directory: '/Users/odedgolden/Developer/AutoRec/obj/MF_Sigmoid_100_0.002_1_True_model_dict.ckpt'\n",
      "[Errno 2] No such file or directory: '/Users/odedgolden/Developer/AutoRec/obj/MF_Sigmoid_100_0.002_100_True_model_dict.ckpt'\n",
      "[Errno 2] No such file or directory: '/Users/odedgolden/Developer/AutoRec/obj/MF_Sigmoid_100_0.002_1000_True_model_dict.ckpt'\n",
      "[Errno 2] No such file or directory: '/Users/odedgolden/Developer/AutoRec/obj/MF_Sigmoid_200_0.002_0.001_True_model_dict.ckpt'\n",
      "[Errno 2] No such file or directory: '/Users/odedgolden/Developer/AutoRec/obj/MF_Sigmoid_200_0.002_0.01_True_model_dict.ckpt'\n",
      "[Errno 2] No such file or directory: '/Users/odedgolden/Developer/AutoRec/obj/MF_Sigmoid_200_0.002_0.1_True_model_dict.ckpt'\n",
      "[Errno 2] No such file or directory: '/Users/odedgolden/Developer/AutoRec/obj/MF_Sigmoid_200_0.002_1_True_model_dict.ckpt'\n",
      "[Errno 2] No such file or directory: '/Users/odedgolden/Developer/AutoRec/obj/MF_Sigmoid_200_0.002_100_True_model_dict.ckpt'\n",
      "[Errno 2] No such file or directory: '/Users/odedgolden/Developer/AutoRec/obj/MF_Sigmoid_200_0.002_1000_True_model_dict.ckpt'\n",
      "[Errno 2] No such file or directory: '/Users/odedgolden/Developer/AutoRec/obj/MF_Sigmoid_300_0.002_0.001_True_model_dict.ckpt'\n",
      "[Errno 2] No such file or directory: '/Users/odedgolden/Developer/AutoRec/obj/MF_Sigmoid_300_0.002_0.01_True_model_dict.ckpt'\n",
      "[Errno 2] No such file or directory: '/Users/odedgolden/Developer/AutoRec/obj/MF_Sigmoid_300_0.002_0.1_True_model_dict.ckpt'\n",
      "[Errno 2] No such file or directory: '/Users/odedgolden/Developer/AutoRec/obj/MF_Sigmoid_300_0.002_1_True_model_dict.ckpt'\n",
      "[Errno 2] No such file or directory: '/Users/odedgolden/Developer/AutoRec/obj/MF_Sigmoid_300_0.002_100_True_model_dict.ckpt'\n",
      "[Errno 2] No such file or directory: '/Users/odedgolden/Developer/AutoRec/obj/MF_Sigmoid_300_0.002_1000_True_model_dict.ckpt'\n",
      "[Errno 2] No such file or directory: '/Users/odedgolden/Developer/AutoRec/obj/MF_Sigmoid_400_0.002_0.001_True_model_dict.ckpt'\n",
      "[Errno 2] No such file or directory: '/Users/odedgolden/Developer/AutoRec/obj/MF_Sigmoid_400_0.002_0.01_True_model_dict.ckpt'\n",
      "[Errno 2] No such file or directory: '/Users/odedgolden/Developer/AutoRec/obj/MF_Sigmoid_400_0.002_0.1_True_model_dict.ckpt'\n",
      "[Errno 2] No such file or directory: '/Users/odedgolden/Developer/AutoRec/obj/MF_Sigmoid_400_0.002_1_True_model_dict.ckpt'\n",
      "[Errno 2] No such file or directory: '/Users/odedgolden/Developer/AutoRec/obj/MF_Sigmoid_400_0.002_100_True_model_dict.ckpt'\n",
      "[Errno 2] No such file or directory: '/Users/odedgolden/Developer/AutoRec/obj/MF_Sigmoid_400_0.002_1000_True_model_dict.ckpt'\n",
      "[Errno 2] No such file or directory: '/Users/odedgolden/Developer/AutoRec/obj/MF_Sigmoid_500_0.002_0.001_True_model_dict.ckpt'\n",
      "[Errno 2] No such file or directory: '/Users/odedgolden/Developer/AutoRec/obj/MF_Sigmoid_500_0.002_0.01_True_model_dict.ckpt'\n",
      "[Errno 2] No such file or directory: '/Users/odedgolden/Developer/AutoRec/obj/MF_Sigmoid_500_0.002_0.1_True_model_dict.ckpt'\n",
      "[Errno 2] No such file or directory: '/Users/odedgolden/Developer/AutoRec/obj/MF_Sigmoid_500_0.002_1_True_model_dict.ckpt'\n",
      "[Errno 2] No such file or directory: '/Users/odedgolden/Developer/AutoRec/obj/MF_Sigmoid_500_0.002_100_True_model_dict.ckpt'\n",
      "[Errno 2] No such file or directory: '/Users/odedgolden/Developer/AutoRec/obj/MF_Sigmoid_500_0.002_1000_True_model_dict.ckpt'\n",
      "[Errno 2] No such file or directory: '/Users/odedgolden/Developer/AutoRec/obj/MF_Sigmoid_10_0.004_0.001_True_model_dict.ckpt'\n",
      "[Errno 2] No such file or directory: '/Users/odedgolden/Developer/AutoRec/obj/MF_Sigmoid_10_0.004_0.01_True_model_dict.ckpt'\n",
      "[Errno 2] No such file or directory: '/Users/odedgolden/Developer/AutoRec/obj/MF_Sigmoid_10_0.004_0.1_True_model_dict.ckpt'\n",
      "[Errno 2] No such file or directory: '/Users/odedgolden/Developer/AutoRec/obj/MF_Sigmoid_10_0.004_1_True_model_dict.ckpt'\n",
      "[Errno 2] No such file or directory: '/Users/odedgolden/Developer/AutoRec/obj/MF_Sigmoid_10_0.004_100_True_model_dict.ckpt'\n",
      "[Errno 2] No such file or directory: '/Users/odedgolden/Developer/AutoRec/obj/MF_Sigmoid_10_0.004_1000_True_model_dict.ckpt'\n",
      "[Errno 2] No such file or directory: '/Users/odedgolden/Developer/AutoRec/obj/MF_Sigmoid_20_0.004_0.001_True_model_dict.ckpt'\n",
      "[Errno 2] No such file or directory: '/Users/odedgolden/Developer/AutoRec/obj/MF_Sigmoid_20_0.004_0.01_True_model_dict.ckpt'\n",
      "[Errno 2] No such file or directory: '/Users/odedgolden/Developer/AutoRec/obj/MF_Sigmoid_20_0.004_0.1_True_model_dict.ckpt'\n",
      "[Errno 2] No such file or directory: '/Users/odedgolden/Developer/AutoRec/obj/MF_Sigmoid_20_0.004_1_True_model_dict.ckpt'\n",
      "[Errno 2] No such file or directory: '/Users/odedgolden/Developer/AutoRec/obj/MF_Sigmoid_20_0.004_100_True_model_dict.ckpt'\n",
      "[Errno 2] No such file or directory: '/Users/odedgolden/Developer/AutoRec/obj/MF_Sigmoid_20_0.004_1000_True_model_dict.ckpt'\n",
      "[Errno 2] No such file or directory: '/Users/odedgolden/Developer/AutoRec/obj/MF_Sigmoid_40_0.004_0.001_True_model_dict.ckpt'\n",
      "[Errno 2] No such file or directory: '/Users/odedgolden/Developer/AutoRec/obj/MF_Sigmoid_40_0.004_0.01_True_model_dict.ckpt'\n",
      "[Errno 2] No such file or directory: '/Users/odedgolden/Developer/AutoRec/obj/MF_Sigmoid_40_0.004_0.1_True_model_dict.ckpt'\n",
      "[Errno 2] No such file or directory: '/Users/odedgolden/Developer/AutoRec/obj/MF_Sigmoid_40_0.004_1_True_model_dict.ckpt'\n",
      "[Errno 2] No such file or directory: '/Users/odedgolden/Developer/AutoRec/obj/MF_Sigmoid_40_0.004_100_True_model_dict.ckpt'\n",
      "[Errno 2] No such file or directory: '/Users/odedgolden/Developer/AutoRec/obj/MF_Sigmoid_40_0.004_1000_True_model_dict.ckpt'\n",
      "[Errno 2] No such file or directory: '/Users/odedgolden/Developer/AutoRec/obj/MF_Sigmoid_80_0.004_0.001_True_model_dict.ckpt'\n",
      "[Errno 2] No such file or directory: '/Users/odedgolden/Developer/AutoRec/obj/MF_Sigmoid_80_0.004_0.01_True_model_dict.ckpt'\n",
      "[Errno 2] No such file or directory: '/Users/odedgolden/Developer/AutoRec/obj/MF_Sigmoid_80_0.004_0.1_True_model_dict.ckpt'\n",
      "[Errno 2] No such file or directory: '/Users/odedgolden/Developer/AutoRec/obj/MF_Sigmoid_80_0.004_1_True_model_dict.ckpt'\n",
      "[Errno 2] No such file or directory: '/Users/odedgolden/Developer/AutoRec/obj/MF_Sigmoid_80_0.004_100_True_model_dict.ckpt'\n",
      "[Errno 2] No such file or directory: '/Users/odedgolden/Developer/AutoRec/obj/MF_Sigmoid_80_0.004_1000_True_model_dict.ckpt'\n",
      "[Errno 2] No such file or directory: '/Users/odedgolden/Developer/AutoRec/obj/MF_Sigmoid_100_0.004_0.001_True_model_dict.ckpt'\n",
      "[Errno 2] No such file or directory: '/Users/odedgolden/Developer/AutoRec/obj/MF_Sigmoid_100_0.004_0.01_True_model_dict.ckpt'\n",
      "[Errno 2] No such file or directory: '/Users/odedgolden/Developer/AutoRec/obj/MF_Sigmoid_100_0.004_0.1_True_model_dict.ckpt'\n",
      "[Errno 2] No such file or directory: '/Users/odedgolden/Developer/AutoRec/obj/MF_Sigmoid_100_0.004_1_True_model_dict.ckpt'\n",
      "[Errno 2] No such file or directory: '/Users/odedgolden/Developer/AutoRec/obj/MF_Sigmoid_100_0.004_100_True_model_dict.ckpt'\n",
      "[Errno 2] No such file or directory: '/Users/odedgolden/Developer/AutoRec/obj/MF_Sigmoid_100_0.004_1000_True_model_dict.ckpt'\n",
      "[Errno 2] No such file or directory: '/Users/odedgolden/Developer/AutoRec/obj/MF_Sigmoid_200_0.004_0.001_True_model_dict.ckpt'\n",
      "[Errno 2] No such file or directory: '/Users/odedgolden/Developer/AutoRec/obj/MF_Sigmoid_200_0.004_0.01_True_model_dict.ckpt'\n",
      "[Errno 2] No such file or directory: '/Users/odedgolden/Developer/AutoRec/obj/MF_Sigmoid_200_0.004_0.1_True_model_dict.ckpt'\n",
      "[Errno 2] No such file or directory: '/Users/odedgolden/Developer/AutoRec/obj/MF_Sigmoid_200_0.004_1_True_model_dict.ckpt'\n",
      "[Errno 2] No such file or directory: '/Users/odedgolden/Developer/AutoRec/obj/MF_Sigmoid_200_0.004_100_True_model_dict.ckpt'\n",
      "[Errno 2] No such file or directory: '/Users/odedgolden/Developer/AutoRec/obj/MF_Sigmoid_200_0.004_1000_True_model_dict.ckpt'\n",
      "[Errno 2] No such file or directory: '/Users/odedgolden/Developer/AutoRec/obj/MF_Sigmoid_300_0.004_0.001_True_model_dict.ckpt'\n",
      "[Errno 2] No such file or directory: '/Users/odedgolden/Developer/AutoRec/obj/MF_Sigmoid_300_0.004_0.01_True_model_dict.ckpt'\n",
      "[Errno 2] No such file or directory: '/Users/odedgolden/Developer/AutoRec/obj/MF_Sigmoid_300_0.004_0.1_True_model_dict.ckpt'\n",
      "[Errno 2] No such file or directory: '/Users/odedgolden/Developer/AutoRec/obj/MF_Sigmoid_300_0.004_1_True_model_dict.ckpt'\n",
      "[Errno 2] No such file or directory: '/Users/odedgolden/Developer/AutoRec/obj/MF_Sigmoid_300_0.004_100_True_model_dict.ckpt'\n",
      "[Errno 2] No such file or directory: '/Users/odedgolden/Developer/AutoRec/obj/MF_Sigmoid_300_0.004_1000_True_model_dict.ckpt'\n",
      "[Errno 2] No such file or directory: '/Users/odedgolden/Developer/AutoRec/obj/MF_Sigmoid_400_0.004_0.001_True_model_dict.ckpt'\n",
      "[Errno 2] No such file or directory: '/Users/odedgolden/Developer/AutoRec/obj/MF_Sigmoid_400_0.004_0.01_True_model_dict.ckpt'\n",
      "[Errno 2] No such file or directory: '/Users/odedgolden/Developer/AutoRec/obj/MF_Sigmoid_400_0.004_0.1_True_model_dict.ckpt'\n",
      "[Errno 2] No such file or directory: '/Users/odedgolden/Developer/AutoRec/obj/MF_Sigmoid_400_0.004_1_True_model_dict.ckpt'\n",
      "[Errno 2] No such file or directory: '/Users/odedgolden/Developer/AutoRec/obj/MF_Sigmoid_400_0.004_100_True_model_dict.ckpt'\n",
      "[Errno 2] No such file or directory: '/Users/odedgolden/Developer/AutoRec/obj/MF_Sigmoid_400_0.004_1000_True_model_dict.ckpt'\n",
      "[Errno 2] No such file or directory: '/Users/odedgolden/Developer/AutoRec/obj/MF_Sigmoid_500_0.004_0.001_True_model_dict.ckpt'\n",
      "[Errno 2] No such file or directory: '/Users/odedgolden/Developer/AutoRec/obj/MF_Sigmoid_500_0.004_0.01_True_model_dict.ckpt'\n",
      "[Errno 2] No such file or directory: '/Users/odedgolden/Developer/AutoRec/obj/MF_Sigmoid_500_0.004_0.1_True_model_dict.ckpt'\n",
      "[Errno 2] No such file or directory: '/Users/odedgolden/Developer/AutoRec/obj/MF_Sigmoid_500_0.004_1_True_model_dict.ckpt'\n",
      "[Errno 2] No such file or directory: '/Users/odedgolden/Developer/AutoRec/obj/MF_Sigmoid_500_0.004_100_True_model_dict.ckpt'\n",
      "[Errno 2] No such file or directory: '/Users/odedgolden/Developer/AutoRec/obj/MF_Sigmoid_500_0.004_1000_True_model_dict.ckpt'\n",
      "[Errno 2] No such file or directory: '/Users/odedgolden/Developer/AutoRec/obj/MF_Sigmoid_10_0.01_0.001_True_model_dict.ckpt'\n",
      "[Errno 2] No such file or directory: '/Users/odedgolden/Developer/AutoRec/obj/MF_Sigmoid_10_0.01_0.01_True_model_dict.ckpt'\n",
      "[Errno 2] No such file or directory: '/Users/odedgolden/Developer/AutoRec/obj/MF_Sigmoid_10_0.01_0.1_True_model_dict.ckpt'\n",
      "[Errno 2] No such file or directory: '/Users/odedgolden/Developer/AutoRec/obj/MF_Sigmoid_10_0.01_1_True_model_dict.ckpt'\n",
      "[Errno 2] No such file or directory: '/Users/odedgolden/Developer/AutoRec/obj/MF_Sigmoid_10_0.01_100_True_model_dict.ckpt'\n",
      "[Errno 2] No such file or directory: '/Users/odedgolden/Developer/AutoRec/obj/MF_Sigmoid_10_0.01_1000_True_model_dict.ckpt'\n",
      "[Errno 2] No such file or directory: '/Users/odedgolden/Developer/AutoRec/obj/MF_Sigmoid_20_0.01_0.001_True_model_dict.ckpt'\n",
      "[Errno 2] No such file or directory: '/Users/odedgolden/Developer/AutoRec/obj/MF_Sigmoid_20_0.01_0.01_True_model_dict.ckpt'\n",
      "[Errno 2] No such file or directory: '/Users/odedgolden/Developer/AutoRec/obj/MF_Sigmoid_20_0.01_0.1_True_model_dict.ckpt'\n",
      "[Errno 2] No such file or directory: '/Users/odedgolden/Developer/AutoRec/obj/MF_Sigmoid_20_0.01_1_True_model_dict.ckpt'\n",
      "[Errno 2] No such file or directory: '/Users/odedgolden/Developer/AutoRec/obj/MF_Sigmoid_20_0.01_100_True_model_dict.ckpt'\n",
      "[Errno 2] No such file or directory: '/Users/odedgolden/Developer/AutoRec/obj/MF_Sigmoid_20_0.01_1000_True_model_dict.ckpt'\n",
      "[Errno 2] No such file or directory: '/Users/odedgolden/Developer/AutoRec/obj/MF_Sigmoid_40_0.01_0.001_True_model_dict.ckpt'\n",
      "[Errno 2] No such file or directory: '/Users/odedgolden/Developer/AutoRec/obj/MF_Sigmoid_40_0.01_0.01_True_model_dict.ckpt'\n",
      "[Errno 2] No such file or directory: '/Users/odedgolden/Developer/AutoRec/obj/MF_Sigmoid_40_0.01_0.1_True_model_dict.ckpt'\n",
      "[Errno 2] No such file or directory: '/Users/odedgolden/Developer/AutoRec/obj/MF_Sigmoid_40_0.01_1_True_model_dict.ckpt'\n",
      "[Errno 2] No such file or directory: '/Users/odedgolden/Developer/AutoRec/obj/MF_Sigmoid_40_0.01_100_True_model_dict.ckpt'\n",
      "[Errno 2] No such file or directory: '/Users/odedgolden/Developer/AutoRec/obj/MF_Sigmoid_40_0.01_1000_True_model_dict.ckpt'\n",
      "[Errno 2] No such file or directory: '/Users/odedgolden/Developer/AutoRec/obj/MF_Sigmoid_80_0.01_0.001_True_model_dict.ckpt'\n",
      "[Errno 2] No such file or directory: '/Users/odedgolden/Developer/AutoRec/obj/MF_Sigmoid_80_0.01_0.01_True_model_dict.ckpt'\n",
      "[Errno 2] No such file or directory: '/Users/odedgolden/Developer/AutoRec/obj/MF_Sigmoid_80_0.01_0.1_True_model_dict.ckpt'\n",
      "[Errno 2] No such file or directory: '/Users/odedgolden/Developer/AutoRec/obj/MF_Sigmoid_80_0.01_1_True_model_dict.ckpt'\n",
      "[Errno 2] No such file or directory: '/Users/odedgolden/Developer/AutoRec/obj/MF_Sigmoid_80_0.01_100_True_model_dict.ckpt'\n",
      "[Errno 2] No such file or directory: '/Users/odedgolden/Developer/AutoRec/obj/MF_Sigmoid_80_0.01_1000_True_model_dict.ckpt'\n",
      "[Errno 2] No such file or directory: '/Users/odedgolden/Developer/AutoRec/obj/MF_Sigmoid_100_0.01_0.001_True_model_dict.ckpt'\n",
      "[Errno 2] No such file or directory: '/Users/odedgolden/Developer/AutoRec/obj/MF_Sigmoid_100_0.01_0.01_True_model_dict.ckpt'\n",
      "[Errno 2] No such file or directory: '/Users/odedgolden/Developer/AutoRec/obj/MF_Sigmoid_100_0.01_0.1_True_model_dict.ckpt'\n",
      "[Errno 2] No such file or directory: '/Users/odedgolden/Developer/AutoRec/obj/MF_Sigmoid_100_0.01_1_True_model_dict.ckpt'\n",
      "[Errno 2] No such file or directory: '/Users/odedgolden/Developer/AutoRec/obj/MF_Sigmoid_100_0.01_100_True_model_dict.ckpt'\n",
      "[Errno 2] No such file or directory: '/Users/odedgolden/Developer/AutoRec/obj/MF_Sigmoid_100_0.01_1000_True_model_dict.ckpt'\n",
      "[Errno 2] No such file or directory: '/Users/odedgolden/Developer/AutoRec/obj/MF_Sigmoid_200_0.01_0.001_True_model_dict.ckpt'\n",
      "[Errno 2] No such file or directory: '/Users/odedgolden/Developer/AutoRec/obj/MF_Sigmoid_200_0.01_0.01_True_model_dict.ckpt'\n",
      "[Errno 2] No such file or directory: '/Users/odedgolden/Developer/AutoRec/obj/MF_Sigmoid_200_0.01_0.1_True_model_dict.ckpt'\n",
      "[Errno 2] No such file or directory: '/Users/odedgolden/Developer/AutoRec/obj/MF_Sigmoid_200_0.01_1_True_model_dict.ckpt'\n",
      "[Errno 2] No such file or directory: '/Users/odedgolden/Developer/AutoRec/obj/MF_Sigmoid_200_0.01_100_True_model_dict.ckpt'\n",
      "[Errno 2] No such file or directory: '/Users/odedgolden/Developer/AutoRec/obj/MF_Sigmoid_200_0.01_1000_True_model_dict.ckpt'\n",
      "[Errno 2] No such file or directory: '/Users/odedgolden/Developer/AutoRec/obj/MF_Sigmoid_300_0.01_0.001_True_model_dict.ckpt'\n",
      "[Errno 2] No such file or directory: '/Users/odedgolden/Developer/AutoRec/obj/MF_Sigmoid_300_0.01_0.01_True_model_dict.ckpt'\n",
      "[Errno 2] No such file or directory: '/Users/odedgolden/Developer/AutoRec/obj/MF_Sigmoid_300_0.01_0.1_True_model_dict.ckpt'\n",
      "[Errno 2] No such file or directory: '/Users/odedgolden/Developer/AutoRec/obj/MF_Sigmoid_300_0.01_1_True_model_dict.ckpt'\n",
      "[Errno 2] No such file or directory: '/Users/odedgolden/Developer/AutoRec/obj/MF_Sigmoid_300_0.01_100_True_model_dict.ckpt'\n",
      "[Errno 2] No such file or directory: '/Users/odedgolden/Developer/AutoRec/obj/MF_Sigmoid_300_0.01_1000_True_model_dict.ckpt'\n",
      "[Errno 2] No such file or directory: '/Users/odedgolden/Developer/AutoRec/obj/MF_Sigmoid_400_0.01_0.001_True_model_dict.ckpt'\n",
      "[Errno 2] No such file or directory: '/Users/odedgolden/Developer/AutoRec/obj/MF_Sigmoid_400_0.01_0.01_True_model_dict.ckpt'\n",
      "[Errno 2] No such file or directory: '/Users/odedgolden/Developer/AutoRec/obj/MF_Sigmoid_400_0.01_0.1_True_model_dict.ckpt'\n",
      "[Errno 2] No such file or directory: '/Users/odedgolden/Developer/AutoRec/obj/MF_Sigmoid_400_0.01_1_True_model_dict.ckpt'\n",
      "[Errno 2] No such file or directory: '/Users/odedgolden/Developer/AutoRec/obj/MF_Sigmoid_400_0.01_100_True_model_dict.ckpt'\n",
      "[Errno 2] No such file or directory: '/Users/odedgolden/Developer/AutoRec/obj/MF_Sigmoid_400_0.01_1000_True_model_dict.ckpt'\n",
      "[Errno 2] No such file or directory: '/Users/odedgolden/Developer/AutoRec/obj/MF_Sigmoid_500_0.01_0.001_True_model_dict.ckpt'\n",
      "[Errno 2] No such file or directory: '/Users/odedgolden/Developer/AutoRec/obj/MF_Sigmoid_500_0.01_0.01_True_model_dict.ckpt'\n",
      "[Errno 2] No such file or directory: '/Users/odedgolden/Developer/AutoRec/obj/MF_Sigmoid_500_0.01_0.1_True_model_dict.ckpt'\n",
      "[Errno 2] No such file or directory: '/Users/odedgolden/Developer/AutoRec/obj/MF_Sigmoid_500_0.01_1_True_model_dict.ckpt'\n",
      "[Errno 2] No such file or directory: '/Users/odedgolden/Developer/AutoRec/obj/MF_Sigmoid_500_0.01_100_True_model_dict.ckpt'\n",
      "[Errno 2] No such file or directory: '/Users/odedgolden/Developer/AutoRec/obj/MF_Sigmoid_500_0.01_1000_True_model_dict.ckpt'\n"
     ]
    }
   ],
   "source": [
    "models_eval_dict = {}\n",
    "Ks = [5, 10]\n",
    "i = 0\n",
    "\n",
    "for model_class in models:\n",
    "    for activation in activations:\n",
    "        for lr in lrs:\n",
    "            for latent in latent_dims:\n",
    "                for λ in lambdas:\n",
    "                    try:\n",
    "                        model = load_model(model_class=model_class,\n",
    "                                           activation=activation,\n",
    "                                           hidden_size=latent,\n",
    "                                           lr=lr,\n",
    "                                           λ=λ,\n",
    "                                           is_default_dataset=is_default_dataset)\n",
    "                        for K in Ks:\n",
    "                            (hits, ndcgs, mrrs) = evaluate_model(model, test_loader=val_loader, K=K)\n",
    "                            models_eval_dict[f\"row_{i}\"] = [type(model).__name__, activation, latent, λ, lr, K, \"HR\", np.mean(hits)]\n",
    "                            models_eval_dict[f\"row_{i+1}\"] = [type(model).__name__, activation, latent, λ, lr, K, \"NDCG\",np.mean(ndcgs)]\n",
    "                            models_eval_dict[f\"row_{i+2}\"] = [type(model).__name__, activation, latent, λ, lr, K, \"MRR\",np.mean(mrrs)]\n",
    "                            i += 3\n",
    "                    except Exception as e:\n",
    "                        print(e)\n",
    "    #                     break\n",
    "    #                 break\n",
    "    #             break\n",
    "    #         break\n",
    "    #     break\n",
    "    # break"
   ],
   "metadata": {
    "collapsed": false,
    "pycharm": {
     "name": "#%%\n"
    }
   }
  },
  {
   "cell_type": "code",
   "execution_count": null,
   "outputs": [],
   "source": [],
   "metadata": {
    "collapsed": false,
    "pycharm": {
     "name": "#%%\n"
    }
   }
  },
  {
   "cell_type": "code",
   "execution_count": null,
   "outputs": [],
   "source": [
    "columns = [\"model\", \"activation\", \"latent_dim\", \"lambda\", \"lr\",\"topk\",\"metric\",\"score\"]\n",
    "eval_df = pd.DataFrame.from_dict(models_eval_dict, orient='index', columns=columns)\n",
    "eval_df.to_csv(\"obj/eval_df\", sep='\\t')\n",
    "\n",
    "eval_df"
   ],
   "metadata": {
    "collapsed": false,
    "pycharm": {
     "name": "#%%\n"
    }
   }
  },
  {
   "cell_type": "code",
   "execution_count": null,
   "outputs": [],
   "source": [],
   "metadata": {
    "collapsed": false,
    "pycharm": {
     "name": "#%%\n"
    }
   }
  }
 ],
 "metadata": {
  "kernelspec": {
   "display_name": "Python 3",
   "language": "python",
   "name": "python3"
  },
  "language_info": {
   "codemirror_mode": {
    "name": "ipython",
    "version": 2
   },
   "file_extension": ".py",
   "mimetype": "text/x-python",
   "name": "python",
   "nbconvert_exporter": "python",
   "pygments_lexer": "ipython2",
   "version": "2.7.6"
  }
 },
 "nbformat": 4,
 "nbformat_minor": 0
}