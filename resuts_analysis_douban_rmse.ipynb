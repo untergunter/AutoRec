{
 "cells": [
  {
   "cell_type": "code",
   "execution_count": 1,
   "id": "d68873f0-e3fa-4d4a-b6b0-345c8957d537",
   "metadata": {},
   "outputs": [],
   "source": [
    "import pandas as pd\n",
    "import seaborn as sns\n",
    "import matplotlib.pyplot as plt"
   ]
  },
  {
   "cell_type": "code",
   "execution_count": 2,
   "id": "dd452361-858c-4cac-bfa0-7641ac28f75d",
   "metadata": {},
   "outputs": [],
   "source": [
    "flixster = pd.read_csv('eval/eval_df_douban_rmse.csv',sep = '\\t')"
   ]
  },
  {
   "cell_type": "code",
   "execution_count": 3,
   "id": "d5011097-3b3e-43dd-923a-3a7334488cf8",
   "metadata": {},
   "outputs": [
    {
     "data": {
      "text/html": [
       "<div>\n",
       "<style scoped>\n",
       "    .dataframe tbody tr th:only-of-type {\n",
       "        vertical-align: middle;\n",
       "    }\n",
       "\n",
       "    .dataframe tbody tr th {\n",
       "        vertical-align: top;\n",
       "    }\n",
       "\n",
       "    .dataframe thead th {\n",
       "        text-align: right;\n",
       "    }\n",
       "</style>\n",
       "<table border=\"1\" class=\"dataframe\">\n",
       "  <thead>\n",
       "    <tr style=\"text-align: right;\">\n",
       "      <th></th>\n",
       "      <th>Unnamed: 0</th>\n",
       "      <th>model_name</th>\n",
       "      <th>activation</th>\n",
       "      <th>hidden_size</th>\n",
       "      <th>learning_rate</th>\n",
       "      <th>lambda</th>\n",
       "      <th>all_rmse</th>\n",
       "      <th>test_rmse</th>\n",
       "      <th>topk</th>\n",
       "      <th>dataset</th>\n",
       "    </tr>\n",
       "  </thead>\n",
       "  <tbody>\n",
       "    <tr>\n",
       "      <th>0</th>\n",
       "      <td>0</td>\n",
       "      <td>UserBiasAE</td>\n",
       "      <td>Sigmoid</td>\n",
       "      <td>300</td>\n",
       "      <td>0.01</td>\n",
       "      <td>1.00</td>\n",
       "      <td>1720.779460</td>\n",
       "      <td>1721.756981</td>\n",
       "      <td>10</td>\n",
       "      <td>douban</td>\n",
       "    </tr>\n",
       "    <tr>\n",
       "      <th>1</th>\n",
       "      <td>1</td>\n",
       "      <td>UserBiasAE</td>\n",
       "      <td>Sigmoid</td>\n",
       "      <td>300</td>\n",
       "      <td>0.01</td>\n",
       "      <td>1.00</td>\n",
       "      <td>1720.779460</td>\n",
       "      <td>1721.756981</td>\n",
       "      <td>20</td>\n",
       "      <td>douban</td>\n",
       "    </tr>\n",
       "    <tr>\n",
       "      <th>2</th>\n",
       "      <td>2</td>\n",
       "      <td>UserBiasAE</td>\n",
       "      <td>Sigmoid</td>\n",
       "      <td>300</td>\n",
       "      <td>0.01</td>\n",
       "      <td>1.00</td>\n",
       "      <td>1720.779460</td>\n",
       "      <td>1721.756981</td>\n",
       "      <td>50</td>\n",
       "      <td>douban</td>\n",
       "    </tr>\n",
       "    <tr>\n",
       "      <th>3</th>\n",
       "      <td>3</td>\n",
       "      <td>UserBiasAE</td>\n",
       "      <td>Sigmoid</td>\n",
       "      <td>300</td>\n",
       "      <td>0.01</td>\n",
       "      <td>1.00</td>\n",
       "      <td>1720.779460</td>\n",
       "      <td>1721.756981</td>\n",
       "      <td>100</td>\n",
       "      <td>douban</td>\n",
       "    </tr>\n",
       "    <tr>\n",
       "      <th>4</th>\n",
       "      <td>4</td>\n",
       "      <td>UserBiasAE</td>\n",
       "      <td>Sigmoid</td>\n",
       "      <td>10</td>\n",
       "      <td>0.01</td>\n",
       "      <td>0.01</td>\n",
       "      <td>1733.835942</td>\n",
       "      <td>1724.329054</td>\n",
       "      <td>10</td>\n",
       "      <td>douban</td>\n",
       "    </tr>\n",
       "  </tbody>\n",
       "</table>\n",
       "</div>"
      ],
      "text/plain": [
       "   Unnamed: 0  model_name activation  hidden_size  learning_rate  lambda  \\\n",
       "0           0  UserBiasAE    Sigmoid          300           0.01    1.00   \n",
       "1           1  UserBiasAE    Sigmoid          300           0.01    1.00   \n",
       "2           2  UserBiasAE    Sigmoid          300           0.01    1.00   \n",
       "3           3  UserBiasAE    Sigmoid          300           0.01    1.00   \n",
       "4           4  UserBiasAE    Sigmoid           10           0.01    0.01   \n",
       "\n",
       "      all_rmse    test_rmse  topk dataset  \n",
       "0  1720.779460  1721.756981    10  douban  \n",
       "1  1720.779460  1721.756981    20  douban  \n",
       "2  1720.779460  1721.756981    50  douban  \n",
       "3  1720.779460  1721.756981   100  douban  \n",
       "4  1733.835942  1724.329054    10  douban  "
      ]
     },
     "execution_count": 3,
     "metadata": {},
     "output_type": "execute_result"
    }
   ],
   "source": [
    "flixster.head()"
   ]
  },
  {
   "cell_type": "code",
   "execution_count": 7,
   "id": "72bdd463-fe91-45c2-8cb9-51c3bdf3e52d",
   "metadata": {},
   "outputs": [
    {
     "data": {
      "text/html": [
       "<div>\n",
       "<style scoped>\n",
       "    .dataframe tbody tr th:only-of-type {\n",
       "        vertical-align: middle;\n",
       "    }\n",
       "\n",
       "    .dataframe tbody tr th {\n",
       "        vertical-align: top;\n",
       "    }\n",
       "\n",
       "    .dataframe thead th {\n",
       "        text-align: right;\n",
       "    }\n",
       "</style>\n",
       "<table border=\"1\" class=\"dataframe\">\n",
       "  <thead>\n",
       "    <tr style=\"text-align: right;\">\n",
       "      <th></th>\n",
       "      <th>Unnamed: 0</th>\n",
       "      <th>model_name</th>\n",
       "      <th>activation</th>\n",
       "      <th>hidden_size</th>\n",
       "      <th>learning_rate</th>\n",
       "      <th>lambda</th>\n",
       "      <th>all_rmse</th>\n",
       "      <th>test_rmse</th>\n",
       "      <th>topk</th>\n",
       "      <th>dataset</th>\n",
       "    </tr>\n",
       "  </thead>\n",
       "  <tbody>\n",
       "    <tr>\n",
       "      <th>333</th>\n",
       "      <td>333</td>\n",
       "      <td>VarAutoRec</td>\n",
       "      <td>PReLU</td>\n",
       "      <td>300</td>\n",
       "      <td>0.010</td>\n",
       "      <td>1.00</td>\n",
       "      <td>1877.16535</td>\n",
       "      <td>1865.198436</td>\n",
       "      <td>20</td>\n",
       "      <td>douban</td>\n",
       "    </tr>\n",
       "    <tr>\n",
       "      <th>90</th>\n",
       "      <td>90</td>\n",
       "      <td>VarAutoRec</td>\n",
       "      <td>PReLU</td>\n",
       "      <td>80</td>\n",
       "      <td>0.010</td>\n",
       "      <td>1.00</td>\n",
       "      <td>1877.16535</td>\n",
       "      <td>1865.198436</td>\n",
       "      <td>50</td>\n",
       "      <td>douban</td>\n",
       "    </tr>\n",
       "    <tr>\n",
       "      <th>394</th>\n",
       "      <td>394</td>\n",
       "      <td>VarAutoRec</td>\n",
       "      <td>PReLU</td>\n",
       "      <td>80</td>\n",
       "      <td>0.010</td>\n",
       "      <td>100.00</td>\n",
       "      <td>1877.16535</td>\n",
       "      <td>1865.198436</td>\n",
       "      <td>50</td>\n",
       "      <td>douban</td>\n",
       "    </tr>\n",
       "    <tr>\n",
       "      <th>511</th>\n",
       "      <td>511</td>\n",
       "      <td>VarAutoRec</td>\n",
       "      <td>PReLU</td>\n",
       "      <td>300</td>\n",
       "      <td>0.005</td>\n",
       "      <td>1.00</td>\n",
       "      <td>1877.16535</td>\n",
       "      <td>1865.198436</td>\n",
       "      <td>100</td>\n",
       "      <td>douban</td>\n",
       "    </tr>\n",
       "    <tr>\n",
       "      <th>180</th>\n",
       "      <td>180</td>\n",
       "      <td>VarAutoRec</td>\n",
       "      <td>PReLU</td>\n",
       "      <td>80</td>\n",
       "      <td>0.005</td>\n",
       "      <td>1.00</td>\n",
       "      <td>1877.16535</td>\n",
       "      <td>1865.198436</td>\n",
       "      <td>10</td>\n",
       "      <td>douban</td>\n",
       "    </tr>\n",
       "    <tr>\n",
       "      <th>181</th>\n",
       "      <td>181</td>\n",
       "      <td>VarAutoRec</td>\n",
       "      <td>PReLU</td>\n",
       "      <td>80</td>\n",
       "      <td>0.005</td>\n",
       "      <td>1.00</td>\n",
       "      <td>1877.16535</td>\n",
       "      <td>1865.198436</td>\n",
       "      <td>20</td>\n",
       "      <td>douban</td>\n",
       "    </tr>\n",
       "    <tr>\n",
       "      <th>182</th>\n",
       "      <td>182</td>\n",
       "      <td>VarAutoRec</td>\n",
       "      <td>PReLU</td>\n",
       "      <td>80</td>\n",
       "      <td>0.005</td>\n",
       "      <td>1.00</td>\n",
       "      <td>1877.16535</td>\n",
       "      <td>1865.198436</td>\n",
       "      <td>50</td>\n",
       "      <td>douban</td>\n",
       "    </tr>\n",
       "    <tr>\n",
       "      <th>183</th>\n",
       "      <td>183</td>\n",
       "      <td>VarAutoRec</td>\n",
       "      <td>PReLU</td>\n",
       "      <td>80</td>\n",
       "      <td>0.005</td>\n",
       "      <td>1.00</td>\n",
       "      <td>1877.16535</td>\n",
       "      <td>1865.198436</td>\n",
       "      <td>100</td>\n",
       "      <td>douban</td>\n",
       "    </tr>\n",
       "    <tr>\n",
       "      <th>192</th>\n",
       "      <td>192</td>\n",
       "      <td>VarAutoRec</td>\n",
       "      <td>PReLU</td>\n",
       "      <td>300</td>\n",
       "      <td>0.010</td>\n",
       "      <td>100.00</td>\n",
       "      <td>1877.16535</td>\n",
       "      <td>1865.198436</td>\n",
       "      <td>10</td>\n",
       "      <td>douban</td>\n",
       "    </tr>\n",
       "    <tr>\n",
       "      <th>509</th>\n",
       "      <td>509</td>\n",
       "      <td>VarAutoRec</td>\n",
       "      <td>PReLU</td>\n",
       "      <td>300</td>\n",
       "      <td>0.005</td>\n",
       "      <td>1.00</td>\n",
       "      <td>1877.16535</td>\n",
       "      <td>1865.198436</td>\n",
       "      <td>20</td>\n",
       "      <td>douban</td>\n",
       "    </tr>\n",
       "    <tr>\n",
       "      <th>510</th>\n",
       "      <td>510</td>\n",
       "      <td>VarAutoRec</td>\n",
       "      <td>PReLU</td>\n",
       "      <td>300</td>\n",
       "      <td>0.005</td>\n",
       "      <td>1.00</td>\n",
       "      <td>1877.16535</td>\n",
       "      <td>1865.198436</td>\n",
       "      <td>50</td>\n",
       "      <td>douban</td>\n",
       "    </tr>\n",
       "    <tr>\n",
       "      <th>193</th>\n",
       "      <td>193</td>\n",
       "      <td>VarAutoRec</td>\n",
       "      <td>PReLU</td>\n",
       "      <td>300</td>\n",
       "      <td>0.010</td>\n",
       "      <td>100.00</td>\n",
       "      <td>1877.16535</td>\n",
       "      <td>1865.198436</td>\n",
       "      <td>20</td>\n",
       "      <td>douban</td>\n",
       "    </tr>\n",
       "    <tr>\n",
       "      <th>194</th>\n",
       "      <td>194</td>\n",
       "      <td>VarAutoRec</td>\n",
       "      <td>PReLU</td>\n",
       "      <td>300</td>\n",
       "      <td>0.010</td>\n",
       "      <td>100.00</td>\n",
       "      <td>1877.16535</td>\n",
       "      <td>1865.198436</td>\n",
       "      <td>50</td>\n",
       "      <td>douban</td>\n",
       "    </tr>\n",
       "    <tr>\n",
       "      <th>195</th>\n",
       "      <td>195</td>\n",
       "      <td>VarAutoRec</td>\n",
       "      <td>PReLU</td>\n",
       "      <td>300</td>\n",
       "      <td>0.010</td>\n",
       "      <td>100.00</td>\n",
       "      <td>1877.16535</td>\n",
       "      <td>1865.198436</td>\n",
       "      <td>100</td>\n",
       "      <td>douban</td>\n",
       "    </tr>\n",
       "    <tr>\n",
       "      <th>204</th>\n",
       "      <td>204</td>\n",
       "      <td>VarAutoRec</td>\n",
       "      <td>PReLU</td>\n",
       "      <td>300</td>\n",
       "      <td>0.005</td>\n",
       "      <td>0.10</td>\n",
       "      <td>1877.16535</td>\n",
       "      <td>1865.198436</td>\n",
       "      <td>10</td>\n",
       "      <td>douban</td>\n",
       "    </tr>\n",
       "    <tr>\n",
       "      <th>205</th>\n",
       "      <td>205</td>\n",
       "      <td>VarAutoRec</td>\n",
       "      <td>PReLU</td>\n",
       "      <td>300</td>\n",
       "      <td>0.005</td>\n",
       "      <td>0.10</td>\n",
       "      <td>1877.16535</td>\n",
       "      <td>1865.198436</td>\n",
       "      <td>20</td>\n",
       "      <td>douban</td>\n",
       "    </tr>\n",
       "    <tr>\n",
       "      <th>206</th>\n",
       "      <td>206</td>\n",
       "      <td>VarAutoRec</td>\n",
       "      <td>PReLU</td>\n",
       "      <td>300</td>\n",
       "      <td>0.005</td>\n",
       "      <td>0.10</td>\n",
       "      <td>1877.16535</td>\n",
       "      <td>1865.198436</td>\n",
       "      <td>50</td>\n",
       "      <td>douban</td>\n",
       "    </tr>\n",
       "    <tr>\n",
       "      <th>207</th>\n",
       "      <td>207</td>\n",
       "      <td>VarAutoRec</td>\n",
       "      <td>PReLU</td>\n",
       "      <td>300</td>\n",
       "      <td>0.005</td>\n",
       "      <td>0.10</td>\n",
       "      <td>1877.16535</td>\n",
       "      <td>1865.198436</td>\n",
       "      <td>100</td>\n",
       "      <td>douban</td>\n",
       "    </tr>\n",
       "    <tr>\n",
       "      <th>120</th>\n",
       "      <td>120</td>\n",
       "      <td>VarAutoRec</td>\n",
       "      <td>PReLU</td>\n",
       "      <td>300</td>\n",
       "      <td>0.005</td>\n",
       "      <td>0.01</td>\n",
       "      <td>1877.16535</td>\n",
       "      <td>1865.198436</td>\n",
       "      <td>10</td>\n",
       "      <td>douban</td>\n",
       "    </tr>\n",
       "    <tr>\n",
       "      <th>444</th>\n",
       "      <td>444</td>\n",
       "      <td>VarAutoRec</td>\n",
       "      <td>PReLU</td>\n",
       "      <td>80</td>\n",
       "      <td>0.005</td>\n",
       "      <td>0.01</td>\n",
       "      <td>1877.16535</td>\n",
       "      <td>1865.198436</td>\n",
       "      <td>10</td>\n",
       "      <td>douban</td>\n",
       "    </tr>\n",
       "    <tr>\n",
       "      <th>446</th>\n",
       "      <td>446</td>\n",
       "      <td>VarAutoRec</td>\n",
       "      <td>PReLU</td>\n",
       "      <td>80</td>\n",
       "      <td>0.005</td>\n",
       "      <td>0.01</td>\n",
       "      <td>1877.16535</td>\n",
       "      <td>1865.198436</td>\n",
       "      <td>50</td>\n",
       "      <td>douban</td>\n",
       "    </tr>\n",
       "    <tr>\n",
       "      <th>451</th>\n",
       "      <td>451</td>\n",
       "      <td>VarAutoRec</td>\n",
       "      <td>PReLU</td>\n",
       "      <td>300</td>\n",
       "      <td>0.010</td>\n",
       "      <td>0.10</td>\n",
       "      <td>1877.16535</td>\n",
       "      <td>1865.198436</td>\n",
       "      <td>100</td>\n",
       "      <td>douban</td>\n",
       "    </tr>\n",
       "    <tr>\n",
       "      <th>445</th>\n",
       "      <td>445</td>\n",
       "      <td>VarAutoRec</td>\n",
       "      <td>PReLU</td>\n",
       "      <td>80</td>\n",
       "      <td>0.005</td>\n",
       "      <td>0.01</td>\n",
       "      <td>1877.16535</td>\n",
       "      <td>1865.198436</td>\n",
       "      <td>20</td>\n",
       "      <td>douban</td>\n",
       "    </tr>\n",
       "    <tr>\n",
       "      <th>123</th>\n",
       "      <td>123</td>\n",
       "      <td>VarAutoRec</td>\n",
       "      <td>PReLU</td>\n",
       "      <td>300</td>\n",
       "      <td>0.005</td>\n",
       "      <td>0.01</td>\n",
       "      <td>1877.16535</td>\n",
       "      <td>1865.198436</td>\n",
       "      <td>100</td>\n",
       "      <td>douban</td>\n",
       "    </tr>\n",
       "    <tr>\n",
       "      <th>393</th>\n",
       "      <td>393</td>\n",
       "      <td>VarAutoRec</td>\n",
       "      <td>PReLU</td>\n",
       "      <td>80</td>\n",
       "      <td>0.010</td>\n",
       "      <td>100.00</td>\n",
       "      <td>1877.16535</td>\n",
       "      <td>1865.198436</td>\n",
       "      <td>20</td>\n",
       "      <td>douban</td>\n",
       "    </tr>\n",
       "    <tr>\n",
       "      <th>122</th>\n",
       "      <td>122</td>\n",
       "      <td>VarAutoRec</td>\n",
       "      <td>PReLU</td>\n",
       "      <td>300</td>\n",
       "      <td>0.005</td>\n",
       "      <td>0.01</td>\n",
       "      <td>1877.16535</td>\n",
       "      <td>1865.198436</td>\n",
       "      <td>50</td>\n",
       "      <td>douban</td>\n",
       "    </tr>\n",
       "    <tr>\n",
       "      <th>463</th>\n",
       "      <td>463</td>\n",
       "      <td>VarAutoRec</td>\n",
       "      <td>PReLU</td>\n",
       "      <td>300</td>\n",
       "      <td>0.010</td>\n",
       "      <td>0.01</td>\n",
       "      <td>1877.16535</td>\n",
       "      <td>1865.198436</td>\n",
       "      <td>100</td>\n",
       "      <td>douban</td>\n",
       "    </tr>\n",
       "    <tr>\n",
       "      <th>462</th>\n",
       "      <td>462</td>\n",
       "      <td>VarAutoRec</td>\n",
       "      <td>PReLU</td>\n",
       "      <td>300</td>\n",
       "      <td>0.010</td>\n",
       "      <td>0.01</td>\n",
       "      <td>1877.16535</td>\n",
       "      <td>1865.198436</td>\n",
       "      <td>50</td>\n",
       "      <td>douban</td>\n",
       "    </tr>\n",
       "    <tr>\n",
       "      <th>461</th>\n",
       "      <td>461</td>\n",
       "      <td>VarAutoRec</td>\n",
       "      <td>PReLU</td>\n",
       "      <td>300</td>\n",
       "      <td>0.010</td>\n",
       "      <td>0.01</td>\n",
       "      <td>1877.16535</td>\n",
       "      <td>1865.198436</td>\n",
       "      <td>20</td>\n",
       "      <td>douban</td>\n",
       "    </tr>\n",
       "    <tr>\n",
       "      <th>508</th>\n",
       "      <td>508</td>\n",
       "      <td>VarAutoRec</td>\n",
       "      <td>PReLU</td>\n",
       "      <td>300</td>\n",
       "      <td>0.005</td>\n",
       "      <td>1.00</td>\n",
       "      <td>1877.16535</td>\n",
       "      <td>1865.198436</td>\n",
       "      <td>10</td>\n",
       "      <td>douban</td>\n",
       "    </tr>\n",
       "  </tbody>\n",
       "</table>\n",
       "</div>"
      ],
      "text/plain": [
       "     Unnamed: 0  model_name activation  hidden_size  learning_rate  lambda  \\\n",
       "333         333  VarAutoRec      PReLU          300          0.010    1.00   \n",
       "90           90  VarAutoRec      PReLU           80          0.010    1.00   \n",
       "394         394  VarAutoRec      PReLU           80          0.010  100.00   \n",
       "511         511  VarAutoRec      PReLU          300          0.005    1.00   \n",
       "180         180  VarAutoRec      PReLU           80          0.005    1.00   \n",
       "181         181  VarAutoRec      PReLU           80          0.005    1.00   \n",
       "182         182  VarAutoRec      PReLU           80          0.005    1.00   \n",
       "183         183  VarAutoRec      PReLU           80          0.005    1.00   \n",
       "192         192  VarAutoRec      PReLU          300          0.010  100.00   \n",
       "509         509  VarAutoRec      PReLU          300          0.005    1.00   \n",
       "510         510  VarAutoRec      PReLU          300          0.005    1.00   \n",
       "193         193  VarAutoRec      PReLU          300          0.010  100.00   \n",
       "194         194  VarAutoRec      PReLU          300          0.010  100.00   \n",
       "195         195  VarAutoRec      PReLU          300          0.010  100.00   \n",
       "204         204  VarAutoRec      PReLU          300          0.005    0.10   \n",
       "205         205  VarAutoRec      PReLU          300          0.005    0.10   \n",
       "206         206  VarAutoRec      PReLU          300          0.005    0.10   \n",
       "207         207  VarAutoRec      PReLU          300          0.005    0.10   \n",
       "120         120  VarAutoRec      PReLU          300          0.005    0.01   \n",
       "444         444  VarAutoRec      PReLU           80          0.005    0.01   \n",
       "446         446  VarAutoRec      PReLU           80          0.005    0.01   \n",
       "451         451  VarAutoRec      PReLU          300          0.010    0.10   \n",
       "445         445  VarAutoRec      PReLU           80          0.005    0.01   \n",
       "123         123  VarAutoRec      PReLU          300          0.005    0.01   \n",
       "393         393  VarAutoRec      PReLU           80          0.010  100.00   \n",
       "122         122  VarAutoRec      PReLU          300          0.005    0.01   \n",
       "463         463  VarAutoRec      PReLU          300          0.010    0.01   \n",
       "462         462  VarAutoRec      PReLU          300          0.010    0.01   \n",
       "461         461  VarAutoRec      PReLU          300          0.010    0.01   \n",
       "508         508  VarAutoRec      PReLU          300          0.005    1.00   \n",
       "\n",
       "       all_rmse    test_rmse  topk dataset  \n",
       "333  1877.16535  1865.198436    20  douban  \n",
       "90   1877.16535  1865.198436    50  douban  \n",
       "394  1877.16535  1865.198436    50  douban  \n",
       "511  1877.16535  1865.198436   100  douban  \n",
       "180  1877.16535  1865.198436    10  douban  \n",
       "181  1877.16535  1865.198436    20  douban  \n",
       "182  1877.16535  1865.198436    50  douban  \n",
       "183  1877.16535  1865.198436   100  douban  \n",
       "192  1877.16535  1865.198436    10  douban  \n",
       "509  1877.16535  1865.198436    20  douban  \n",
       "510  1877.16535  1865.198436    50  douban  \n",
       "193  1877.16535  1865.198436    20  douban  \n",
       "194  1877.16535  1865.198436    50  douban  \n",
       "195  1877.16535  1865.198436   100  douban  \n",
       "204  1877.16535  1865.198436    10  douban  \n",
       "205  1877.16535  1865.198436    20  douban  \n",
       "206  1877.16535  1865.198436    50  douban  \n",
       "207  1877.16535  1865.198436   100  douban  \n",
       "120  1877.16535  1865.198436    10  douban  \n",
       "444  1877.16535  1865.198436    10  douban  \n",
       "446  1877.16535  1865.198436    50  douban  \n",
       "451  1877.16535  1865.198436   100  douban  \n",
       "445  1877.16535  1865.198436    20  douban  \n",
       "123  1877.16535  1865.198436   100  douban  \n",
       "393  1877.16535  1865.198436    20  douban  \n",
       "122  1877.16535  1865.198436    50  douban  \n",
       "463  1877.16535  1865.198436   100  douban  \n",
       "462  1877.16535  1865.198436    50  douban  \n",
       "461  1877.16535  1865.198436    20  douban  \n",
       "508  1877.16535  1865.198436    10  douban  "
      ]
     },
     "execution_count": 7,
     "metadata": {},
     "output_type": "execute_result"
    }
   ],
   "source": [
    "flixster.sort_values('all_rmse',ascending=False,inplace=True)\n",
    "flixster.head(30)"
   ]
  },
  {
   "cell_type": "code",
   "execution_count": 8,
   "id": "edbc7d92-6236-4fa4-94c0-6e4cd9f2507a",
   "metadata": {},
   "outputs": [],
   "source": [
    "df = flixster"
   ]
  },
  {
   "cell_type": "code",
   "execution_count": 9,
   "id": "fcec0d4f-d411-4177-94ae-7cc17f1942f2",
   "metadata": {},
   "outputs": [
    {
     "data": {
      "text/plain": [
       "array([ 20,  50, 100,  10])"
      ]
     },
     "execution_count": 9,
     "metadata": {},
     "output_type": "execute_result"
    }
   ],
   "source": [
    "df['topk'].unique()"
   ]
  },
  {
   "cell_type": "code",
   "execution_count": 10,
   "id": "c5b5f1a9-2abb-4656-9588-fc058aacb15d",
   "metadata": {},
   "outputs": [],
   "source": [
    "import sqlite3"
   ]
  },
  {
   "cell_type": "code",
   "execution_count": 11,
   "id": "c7be9314-bf1f-4a0e-860a-3c13341f09e2",
   "metadata": {},
   "outputs": [],
   "source": [
    "con = sqlite3.connect(\"file::memory:?cache=shared\")\n",
    "cur = con.cursor()"
   ]
  },
  {
   "cell_type": "code",
   "execution_count": 12,
   "id": "e59f15ee-6047-448f-a28c-ba1b0b5a83f5",
   "metadata": {},
   "outputs": [
    {
     "data": {
      "text/plain": [
       "Index(['Unnamed: 0', 'model_name', 'activation', 'hidden_size',\n",
       "       'learning_rate', 'lambda', 'all_rmse', 'test_rmse', 'topk', 'dataset'],\n",
       "      dtype='object')"
      ]
     },
     "execution_count": 12,
     "metadata": {},
     "output_type": "execute_result"
    }
   ],
   "source": [
    "df.columns"
   ]
  },
  {
   "cell_type": "code",
   "execution_count": 15,
   "id": "7fc5071d-b1b7-40d9-862a-c8cf061f6adc",
   "metadata": {},
   "outputs": [],
   "source": [
    "df = df[['model_name', 'activation', 'hidden_size', 'lambda', 'learning_rate','topk', 'test_rmse','all_rmse', 'dataset']]\n",
    "df.to_sql('flix', con, if_exists='replace', index=False)"
   ]
  },
  {
   "cell_type": "code",
   "execution_count": 23,
   "id": "dc902d46-877e-4a33-be3e-fc075a57920f",
   "metadata": {},
   "outputs": [],
   "source": [
    "q = \"\"\"\n",
    "select model_name,hidden_size,topk,min(test_rmse) as score\n",
    "from flix\n",
    "group by model_name,hidden_size,topk\n",
    "order by min(test_rmse) asc,hidden_size asc,topk asc\n",
    "\"\"\"\n",
    "best_per_attr = pd.read_sql_query(q,con)"
   ]
  },
  {
   "cell_type": "code",
   "execution_count": 24,
   "id": "88bcfcf9-c428-4524-99ad-089c7a226f0e",
   "metadata": {},
   "outputs": [
    {
     "data": {
      "text/html": [
       "<div>\n",
       "<style scoped>\n",
       "    .dataframe tbody tr th:only-of-type {\n",
       "        vertical-align: middle;\n",
       "    }\n",
       "\n",
       "    .dataframe tbody tr th {\n",
       "        vertical-align: top;\n",
       "    }\n",
       "\n",
       "    .dataframe thead th {\n",
       "        text-align: right;\n",
       "    }\n",
       "</style>\n",
       "<table border=\"1\" class=\"dataframe\">\n",
       "  <thead>\n",
       "    <tr style=\"text-align: right;\">\n",
       "      <th></th>\n",
       "      <th>model_name</th>\n",
       "      <th>hidden_size</th>\n",
       "      <th>topk</th>\n",
       "      <th>score</th>\n",
       "    </tr>\n",
       "  </thead>\n",
       "  <tbody>\n",
       "    <tr>\n",
       "      <th>0</th>\n",
       "      <td>VarAutoRec</td>\n",
       "      <td>10</td>\n",
       "      <td>100</td>\n",
       "      <td>1682.070294</td>\n",
       "    </tr>\n",
       "    <tr>\n",
       "      <th>1</th>\n",
       "      <td>UserBiasAE</td>\n",
       "      <td>80</td>\n",
       "      <td>10</td>\n",
       "      <td>1689.928826</td>\n",
       "    </tr>\n",
       "    <tr>\n",
       "      <th>2</th>\n",
       "      <td>UserBiasAE</td>\n",
       "      <td>80</td>\n",
       "      <td>20</td>\n",
       "      <td>1689.928826</td>\n",
       "    </tr>\n",
       "    <tr>\n",
       "      <th>3</th>\n",
       "      <td>UserBiasAE</td>\n",
       "      <td>80</td>\n",
       "      <td>50</td>\n",
       "      <td>1689.928826</td>\n",
       "    </tr>\n",
       "    <tr>\n",
       "      <th>4</th>\n",
       "      <td>UserBiasAE</td>\n",
       "      <td>80</td>\n",
       "      <td>100</td>\n",
       "      <td>1689.928826</td>\n",
       "    </tr>\n",
       "    <tr>\n",
       "      <th>5</th>\n",
       "      <td>VarAutoRec</td>\n",
       "      <td>10</td>\n",
       "      <td>10</td>\n",
       "      <td>1691.516038</td>\n",
       "    </tr>\n",
       "    <tr>\n",
       "      <th>6</th>\n",
       "      <td>VarAutoRec</td>\n",
       "      <td>10</td>\n",
       "      <td>50</td>\n",
       "      <td>1700.567104</td>\n",
       "    </tr>\n",
       "    <tr>\n",
       "      <th>7</th>\n",
       "      <td>VarAutoRec</td>\n",
       "      <td>10</td>\n",
       "      <td>20</td>\n",
       "      <td>1703.380427</td>\n",
       "    </tr>\n",
       "    <tr>\n",
       "      <th>8</th>\n",
       "      <td>UserBiasAE</td>\n",
       "      <td>300</td>\n",
       "      <td>10</td>\n",
       "      <td>1704.340762</td>\n",
       "    </tr>\n",
       "    <tr>\n",
       "      <th>9</th>\n",
       "      <td>UserBiasAE</td>\n",
       "      <td>300</td>\n",
       "      <td>20</td>\n",
       "      <td>1704.340762</td>\n",
       "    </tr>\n",
       "  </tbody>\n",
       "</table>\n",
       "</div>"
      ],
      "text/plain": [
       "   model_name  hidden_size  topk        score\n",
       "0  VarAutoRec           10   100  1682.070294\n",
       "1  UserBiasAE           80    10  1689.928826\n",
       "2  UserBiasAE           80    20  1689.928826\n",
       "3  UserBiasAE           80    50  1689.928826\n",
       "4  UserBiasAE           80   100  1689.928826\n",
       "5  VarAutoRec           10    10  1691.516038\n",
       "6  VarAutoRec           10    50  1700.567104\n",
       "7  VarAutoRec           10    20  1703.380427\n",
       "8  UserBiasAE          300    10  1704.340762\n",
       "9  UserBiasAE          300    20  1704.340762"
      ]
     },
     "execution_count": 24,
     "metadata": {},
     "output_type": "execute_result"
    }
   ],
   "source": [
    "best_per_attr.head(10)"
   ]
  },
  {
   "cell_type": "code",
   "execution_count": 25,
   "id": "741bc5ae-ef02-4165-97cc-dffb320289f6",
   "metadata": {},
   "outputs": [
    {
     "data": {
      "text/plain": [
       "array([100,  10,  20,  50])"
      ]
     },
     "execution_count": 25,
     "metadata": {},
     "output_type": "execute_result"
    }
   ],
   "source": [
    "topks = best_per_attr['topk'].unique()\n",
    "topks"
   ]
  },
  {
   "cell_type": "code",
   "execution_count": 38,
   "id": "f15df017-06c9-4620-a21e-8efb953023da",
   "metadata": {},
   "outputs": [
    {
     "data": {
      "image/png": "[encoded data removed]",
      "text/plain": [
       "<Figure size 360x360 with 1 Axes>"
      ]
     },
     "metadata": {
      "needs_background": "light"
     },
     "output_type": "display_data"
    },
    {
     "data": {
      "image/png": "[encoded data removed]",
      "text/plain": [
       "<Figure size 360x360 with 1 Axes>"
      ]
     },
     "metadata": {
      "needs_background": "light"
     },
     "output_type": "display_data"
    },
    {
     "data": {
      "image/png": "[encoded data removed]",
      "text/plain": [
       "<Figure size 360x360 with 1 Axes>"
      ]
     },
     "metadata": {
      "needs_background": "light"
     },
     "output_type": "display_data"
    },
    {
     "data": {
      "image/png": "[encoded data removed]",
      "text/plain": [
       "<Figure size 360x360 with 1 Axes>"
      ]
     },
     "metadata": {
      "needs_background": "light"
     },
     "output_type": "display_data"
    },
    {
     "data": {
      "image/png": "[encoded data removed]",
      "text/plain": [
       "<Figure size 360x360 with 1 Axes>"
      ]
     },
     "metadata": {
      "needs_background": "light"
     },
     "output_type": "display_data"
    },
    {
     "data": {
      "image/png": "[encoded data removed]",
      "text/plain": [
       "<Figure size 360x360 with 1 Axes>"
      ]
     },
     "metadata": {
      "needs_background": "light"
     },
     "output_type": "display_data"
    },
    {
     "data": {
      "image/png": "[encoded data removed]",
      "text/plain": [
       "<Figure size 360x360 with 1 Axes>"
      ]
     },
     "metadata": {
      "needs_background": "light"
     },
     "output_type": "display_data"
    },
    {
     "data": {
      "image/png": "[encoded data removed]",
      "text/plain": [
       "<Figure size 360x360 with 1 Axes>"
      ]
     },
     "metadata": {
      "needs_background": "light"
     },
     "output_type": "display_data"
    },
    {
     "data": {
      "image/png": "[encoded data removed]",
      "text/plain": [
       "<Figure size 360x360 with 1 Axes>"
      ]
     },
     "metadata": {
      "needs_background": "light"
     },
     "output_type": "display_data"
    },
    {
     "data": {
      "image/png": "[encoded data removed]",
      "text/plain": [
       "<Figure size 360x360 with 1 Axes>"
      ]
     },
     "metadata": {
      "needs_background": "light"
     },
     "output_type": "display_data"
    },
    {
     "data": {
      "image/png": "[encoded data removed]",
      "text/plain": [
       "<Figure size 360x360 with 1 Axes>"
      ]
     },
     "metadata": {
      "needs_background": "light"
     },
     "output_type": "display_data"
    },
    {
     "data": {
      "image/png": "[encoded data removed]",
      "text/plain": [
       "<Figure size 360x360 with 1 Axes>"
      ]
     },
     "metadata": {
      "needs_background": "light"
     },
     "output_type": "display_data"
    }
   ],
   "source": [
    "lds = best_per_attr['hidden_size'].unique()\n",
    "topks = best_per_attr['topk'].unique()\n",
    "for ld in lds:\n",
    "    for tk in topks:\n",
    "        cur_dat = best_per_attr[(best_per_attr['hidden_size']==ld)&(best_per_attr['topk']==tk)]\n",
    "        name = f'top {tk} predictions latent dimension {ld}'\n",
    "        g = sns.catplot(data = cur_dat,\n",
    "                    x='model_name',\n",
    "                    y='score',\n",
    "                    col_order=['VarAutoRec', 'UserBiasAE', 'AutoRecBase'],\n",
    "                   kind=\"bar\").set(title=name)\n",
    "        g.set(ylim=(cur_dat['score'].min()-5,cur_dat['score'].max()))\n",
    "        plt.savefig(f'eval/graphs/douban_rmse_{tk}_{ld}.png',bbox_inches='tight')\n",
    "        plt.show()"
   ]
  },
  {
   "cell_type": "code",
   "execution_count": 15,
   "id": "75631996-b4b8-41e3-b852-f7467d148b86",
   "metadata": {},
   "outputs": [
    {
     "data": {
      "text/plain": [
       "array(['VarAutoRec', 'UserBiasAE', 'AutoRecBase'], dtype=object)"
      ]
     },
     "execution_count": 15,
     "metadata": {},
     "output_type": "execute_result"
    }
   ],
   "source": [
    "df['model'].unique()"
   ]
  },
  {
   "cell_type": "code",
   "execution_count": null,
   "id": "447be2e1-2a8d-4930-914c-23f30c82bbfd",
   "metadata": {},
   "outputs": [],
   "source": []
  }
 ],
 "metadata": {
  "kernelspec": {
   "display_name": "Python 3 (ipykernel)",
   "language": "python",
   "name": "python3"
  },
  "language_info": {
   "codemirror_mode": {
    "name": "ipython",
    "version": 3
   },
   "file_extension": ".py",
   "mimetype": "text/x-python",
   "name": "python",
   "nbconvert_exporter": "python",
   "pygments_lexer": "ipython3",
   "version": "3.7.12"
  }
 },
 "nbformat": 4,
 "nbformat_minor": 5
}
