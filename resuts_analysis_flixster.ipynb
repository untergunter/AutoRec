{
 "cells": [
  {
   "cell_type": "code",
   "execution_count": 1,
   "id": "d68873f0-e3fa-4d4a-b6b0-345c8957d537",
   "metadata": {},
   "outputs": [],
   "source": [
    "import pandas as pd\n",
    "import seaborn as sns\n",
    "import matplotlib.pyplot as plt"
   ]
  },
  {
   "cell_type": "code",
   "execution_count": 2,
   "id": "dd452361-858c-4cac-bfa0-7641ac28f75d",
   "metadata": {},
   "outputs": [],
   "source": [
    "flixster = pd.read_csv('eval/eval_df_flixster.csv',sep = '\\t')"
   ]
  },
  {
   "cell_type": "code",
   "execution_count": 3,
   "id": "d5011097-3b3e-43dd-923a-3a7334488cf8",
   "metadata": {},
   "outputs": [
    {
     "data": {
      "text/html": [
       "<div>\n",
       "<style scoped>\n",
       "    .dataframe tbody tr th:only-of-type {\n",
       "        vertical-align: middle;\n",
       "    }\n",
       "\n",
       "    .dataframe tbody tr th {\n",
       "        vertical-align: top;\n",
       "    }\n",
       "\n",
       "    .dataframe thead th {\n",
       "        text-align: right;\n",
       "    }\n",
       "</style>\n",
       "<table border=\"1\" class=\"dataframe\">\n",
       "  <thead>\n",
       "    <tr style=\"text-align: right;\">\n",
       "      <th></th>\n",
       "      <th>Unnamed: 0</th>\n",
       "      <th>model</th>\n",
       "      <th>activation</th>\n",
       "      <th>latent_dim</th>\n",
       "      <th>lambda</th>\n",
       "      <th>lr</th>\n",
       "      <th>topk</th>\n",
       "      <th>metric</th>\n",
       "      <th>score</th>\n",
       "      <th>dataset</th>\n",
       "    </tr>\n",
       "  </thead>\n",
       "  <tbody>\n",
       "    <tr>\n",
       "      <th>0</th>\n",
       "      <td>row_0</td>\n",
       "      <td>AutoRecBase</td>\n",
       "      <td>&lt;class 'torch.nn.modules.activation.PReLU'&gt;</td>\n",
       "      <td>10</td>\n",
       "      <td>0.01</td>\n",
       "      <td>0.001</td>\n",
       "      <td>10</td>\n",
       "      <td>HR</td>\n",
       "      <td>0.0</td>\n",
       "      <td>flixster</td>\n",
       "    </tr>\n",
       "    <tr>\n",
       "      <th>1</th>\n",
       "      <td>row_1</td>\n",
       "      <td>AutoRecBase</td>\n",
       "      <td>&lt;class 'torch.nn.modules.activation.PReLU'&gt;</td>\n",
       "      <td>10</td>\n",
       "      <td>0.01</td>\n",
       "      <td>0.001</td>\n",
       "      <td>10</td>\n",
       "      <td>NDCG</td>\n",
       "      <td>0.0</td>\n",
       "      <td>flixster</td>\n",
       "    </tr>\n",
       "    <tr>\n",
       "      <th>2</th>\n",
       "      <td>row_2</td>\n",
       "      <td>AutoRecBase</td>\n",
       "      <td>&lt;class 'torch.nn.modules.activation.PReLU'&gt;</td>\n",
       "      <td>10</td>\n",
       "      <td>0.01</td>\n",
       "      <td>0.001</td>\n",
       "      <td>10</td>\n",
       "      <td>MRR</td>\n",
       "      <td>0.0</td>\n",
       "      <td>flixster</td>\n",
       "    </tr>\n",
       "    <tr>\n",
       "      <th>3</th>\n",
       "      <td>row_3</td>\n",
       "      <td>AutoRecBase</td>\n",
       "      <td>&lt;class 'torch.nn.modules.activation.PReLU'&gt;</td>\n",
       "      <td>10</td>\n",
       "      <td>0.01</td>\n",
       "      <td>0.001</td>\n",
       "      <td>20</td>\n",
       "      <td>HR</td>\n",
       "      <td>0.0</td>\n",
       "      <td>flixster</td>\n",
       "    </tr>\n",
       "    <tr>\n",
       "      <th>4</th>\n",
       "      <td>row_4</td>\n",
       "      <td>AutoRecBase</td>\n",
       "      <td>&lt;class 'torch.nn.modules.activation.PReLU'&gt;</td>\n",
       "      <td>10</td>\n",
       "      <td>0.01</td>\n",
       "      <td>0.001</td>\n",
       "      <td>20</td>\n",
       "      <td>NDCG</td>\n",
       "      <td>0.0</td>\n",
       "      <td>flixster</td>\n",
       "    </tr>\n",
       "  </tbody>\n",
       "</table>\n",
       "</div>"
      ],
      "text/plain": [
       "  Unnamed: 0        model                                   activation  \\\n",
       "0      row_0  AutoRecBase  <class 'torch.nn.modules.activation.PReLU'>   \n",
       "1      row_1  AutoRecBase  <class 'torch.nn.modules.activation.PReLU'>   \n",
       "2      row_2  AutoRecBase  <class 'torch.nn.modules.activation.PReLU'>   \n",
       "3      row_3  AutoRecBase  <class 'torch.nn.modules.activation.PReLU'>   \n",
       "4      row_4  AutoRecBase  <class 'torch.nn.modules.activation.PReLU'>   \n",
       "\n",
       "   latent_dim  lambda     lr  topk metric  score   dataset  \n",
       "0          10    0.01  0.001    10     HR    0.0  flixster  \n",
       "1          10    0.01  0.001    10   NDCG    0.0  flixster  \n",
       "2          10    0.01  0.001    10    MRR    0.0  flixster  \n",
       "3          10    0.01  0.001    20     HR    0.0  flixster  \n",
       "4          10    0.01  0.001    20   NDCG    0.0  flixster  "
      ]
     },
     "execution_count": 3,
     "metadata": {},
     "output_type": "execute_result"
    }
   ],
   "source": [
    "flixster.head()"
   ]
  },
  {
   "cell_type": "code",
   "execution_count": 4,
   "id": "72bdd463-fe91-45c2-8cb9-51c3bdf3e52d",
   "metadata": {},
   "outputs": [
    {
     "data": {
      "text/html": [
       "<div>\n",
       "<style scoped>\n",
       "    .dataframe tbody tr th:only-of-type {\n",
       "        vertical-align: middle;\n",
       "    }\n",
       "\n",
       "    .dataframe tbody tr th {\n",
       "        vertical-align: top;\n",
       "    }\n",
       "\n",
       "    .dataframe thead th {\n",
       "        text-align: right;\n",
       "    }\n",
       "</style>\n",
       "<table border=\"1\" class=\"dataframe\">\n",
       "  <thead>\n",
       "    <tr style=\"text-align: right;\">\n",
       "      <th></th>\n",
       "      <th>Unnamed: 0</th>\n",
       "      <th>model</th>\n",
       "      <th>activation</th>\n",
       "      <th>latent_dim</th>\n",
       "      <th>lambda</th>\n",
       "      <th>lr</th>\n",
       "      <th>topk</th>\n",
       "      <th>metric</th>\n",
       "      <th>score</th>\n",
       "      <th>dataset</th>\n",
       "    </tr>\n",
       "  </thead>\n",
       "  <tbody>\n",
       "    <tr>\n",
       "      <th>870</th>\n",
       "      <td>row_870</td>\n",
       "      <td>VarAutoRec</td>\n",
       "      <td>&lt;class 'torch.nn.modules.activation.PReLU'&gt;</td>\n",
       "      <td>300</td>\n",
       "      <td>100.00</td>\n",
       "      <td>0.010</td>\n",
       "      <td>50</td>\n",
       "      <td>HR</td>\n",
       "      <td>1.0</td>\n",
       "      <td>flixster</td>\n",
       "    </tr>\n",
       "    <tr>\n",
       "      <th>707</th>\n",
       "      <td>row_707</td>\n",
       "      <td>VarAutoRec</td>\n",
       "      <td>&lt;class 'torch.nn.modules.activation.PReLU'&gt;</td>\n",
       "      <td>300</td>\n",
       "      <td>0.10</td>\n",
       "      <td>0.005</td>\n",
       "      <td>100</td>\n",
       "      <td>MRR</td>\n",
       "      <td>1.0</td>\n",
       "      <td>flixster</td>\n",
       "    </tr>\n",
       "    <tr>\n",
       "      <th>833</th>\n",
       "      <td>row_833</td>\n",
       "      <td>VarAutoRec</td>\n",
       "      <td>&lt;class 'torch.nn.modules.activation.PReLU'&gt;</td>\n",
       "      <td>300</td>\n",
       "      <td>0.01</td>\n",
       "      <td>0.010</td>\n",
       "      <td>20</td>\n",
       "      <td>MRR</td>\n",
       "      <td>1.0</td>\n",
       "      <td>flixster</td>\n",
       "    </tr>\n",
       "    <tr>\n",
       "      <th>832</th>\n",
       "      <td>row_832</td>\n",
       "      <td>VarAutoRec</td>\n",
       "      <td>&lt;class 'torch.nn.modules.activation.PReLU'&gt;</td>\n",
       "      <td>300</td>\n",
       "      <td>0.01</td>\n",
       "      <td>0.010</td>\n",
       "      <td>20</td>\n",
       "      <td>NDCG</td>\n",
       "      <td>1.0</td>\n",
       "      <td>flixster</td>\n",
       "    </tr>\n",
       "    <tr>\n",
       "      <th>831</th>\n",
       "      <td>row_831</td>\n",
       "      <td>VarAutoRec</td>\n",
       "      <td>&lt;class 'torch.nn.modules.activation.PReLU'&gt;</td>\n",
       "      <td>300</td>\n",
       "      <td>0.01</td>\n",
       "      <td>0.010</td>\n",
       "      <td>20</td>\n",
       "      <td>HR</td>\n",
       "      <td>1.0</td>\n",
       "      <td>flixster</td>\n",
       "    </tr>\n",
       "    <tr>\n",
       "      <th>830</th>\n",
       "      <td>row_830</td>\n",
       "      <td>VarAutoRec</td>\n",
       "      <td>&lt;class 'torch.nn.modules.activation.PReLU'&gt;</td>\n",
       "      <td>300</td>\n",
       "      <td>0.01</td>\n",
       "      <td>0.010</td>\n",
       "      <td>10</td>\n",
       "      <td>MRR</td>\n",
       "      <td>1.0</td>\n",
       "      <td>flixster</td>\n",
       "    </tr>\n",
       "    <tr>\n",
       "      <th>829</th>\n",
       "      <td>row_829</td>\n",
       "      <td>VarAutoRec</td>\n",
       "      <td>&lt;class 'torch.nn.modules.activation.PReLU'&gt;</td>\n",
       "      <td>300</td>\n",
       "      <td>0.01</td>\n",
       "      <td>0.010</td>\n",
       "      <td>10</td>\n",
       "      <td>NDCG</td>\n",
       "      <td>1.0</td>\n",
       "      <td>flixster</td>\n",
       "    </tr>\n",
       "    <tr>\n",
       "      <th>828</th>\n",
       "      <td>row_828</td>\n",
       "      <td>VarAutoRec</td>\n",
       "      <td>&lt;class 'torch.nn.modules.activation.PReLU'&gt;</td>\n",
       "      <td>300</td>\n",
       "      <td>0.01</td>\n",
       "      <td>0.010</td>\n",
       "      <td>10</td>\n",
       "      <td>HR</td>\n",
       "      <td>1.0</td>\n",
       "      <td>flixster</td>\n",
       "    </tr>\n",
       "    <tr>\n",
       "      <th>703</th>\n",
       "      <td>row_703</td>\n",
       "      <td>VarAutoRec</td>\n",
       "      <td>&lt;class 'torch.nn.modules.activation.PReLU'&gt;</td>\n",
       "      <td>300</td>\n",
       "      <td>0.10</td>\n",
       "      <td>0.005</td>\n",
       "      <td>50</td>\n",
       "      <td>NDCG</td>\n",
       "      <td>1.0</td>\n",
       "      <td>flixster</td>\n",
       "    </tr>\n",
       "    <tr>\n",
       "      <th>704</th>\n",
       "      <td>row_704</td>\n",
       "      <td>VarAutoRec</td>\n",
       "      <td>&lt;class 'torch.nn.modules.activation.PReLU'&gt;</td>\n",
       "      <td>300</td>\n",
       "      <td>0.10</td>\n",
       "      <td>0.005</td>\n",
       "      <td>50</td>\n",
       "      <td>MRR</td>\n",
       "      <td>1.0</td>\n",
       "      <td>flixster</td>\n",
       "    </tr>\n",
       "    <tr>\n",
       "      <th>705</th>\n",
       "      <td>row_705</td>\n",
       "      <td>VarAutoRec</td>\n",
       "      <td>&lt;class 'torch.nn.modules.activation.PReLU'&gt;</td>\n",
       "      <td>300</td>\n",
       "      <td>0.10</td>\n",
       "      <td>0.005</td>\n",
       "      <td>100</td>\n",
       "      <td>HR</td>\n",
       "      <td>1.0</td>\n",
       "      <td>flixster</td>\n",
       "    </tr>\n",
       "    <tr>\n",
       "      <th>706</th>\n",
       "      <td>row_706</td>\n",
       "      <td>VarAutoRec</td>\n",
       "      <td>&lt;class 'torch.nn.modules.activation.PReLU'&gt;</td>\n",
       "      <td>300</td>\n",
       "      <td>0.10</td>\n",
       "      <td>0.005</td>\n",
       "      <td>100</td>\n",
       "      <td>NDCG</td>\n",
       "      <td>1.0</td>\n",
       "      <td>flixster</td>\n",
       "    </tr>\n",
       "    <tr>\n",
       "      <th>708</th>\n",
       "      <td>row_708</td>\n",
       "      <td>VarAutoRec</td>\n",
       "      <td>&lt;class 'torch.nn.modules.activation.PReLU'&gt;</td>\n",
       "      <td>300</td>\n",
       "      <td>1.00</td>\n",
       "      <td>0.005</td>\n",
       "      <td>10</td>\n",
       "      <td>HR</td>\n",
       "      <td>1.0</td>\n",
       "      <td>flixster</td>\n",
       "    </tr>\n",
       "    <tr>\n",
       "      <th>835</th>\n",
       "      <td>row_835</td>\n",
       "      <td>VarAutoRec</td>\n",
       "      <td>&lt;class 'torch.nn.modules.activation.PReLU'&gt;</td>\n",
       "      <td>300</td>\n",
       "      <td>0.01</td>\n",
       "      <td>0.010</td>\n",
       "      <td>50</td>\n",
       "      <td>NDCG</td>\n",
       "      <td>1.0</td>\n",
       "      <td>flixster</td>\n",
       "    </tr>\n",
       "    <tr>\n",
       "      <th>709</th>\n",
       "      <td>row_709</td>\n",
       "      <td>VarAutoRec</td>\n",
       "      <td>&lt;class 'torch.nn.modules.activation.PReLU'&gt;</td>\n",
       "      <td>300</td>\n",
       "      <td>1.00</td>\n",
       "      <td>0.005</td>\n",
       "      <td>10</td>\n",
       "      <td>NDCG</td>\n",
       "      <td>1.0</td>\n",
       "      <td>flixster</td>\n",
       "    </tr>\n",
       "    <tr>\n",
       "      <th>710</th>\n",
       "      <td>row_710</td>\n",
       "      <td>VarAutoRec</td>\n",
       "      <td>&lt;class 'torch.nn.modules.activation.PReLU'&gt;</td>\n",
       "      <td>300</td>\n",
       "      <td>1.00</td>\n",
       "      <td>0.005</td>\n",
       "      <td>10</td>\n",
       "      <td>MRR</td>\n",
       "      <td>1.0</td>\n",
       "      <td>flixster</td>\n",
       "    </tr>\n",
       "    <tr>\n",
       "      <th>711</th>\n",
       "      <td>row_711</td>\n",
       "      <td>VarAutoRec</td>\n",
       "      <td>&lt;class 'torch.nn.modules.activation.PReLU'&gt;</td>\n",
       "      <td>300</td>\n",
       "      <td>1.00</td>\n",
       "      <td>0.005</td>\n",
       "      <td>20</td>\n",
       "      <td>HR</td>\n",
       "      <td>1.0</td>\n",
       "      <td>flixster</td>\n",
       "    </tr>\n",
       "    <tr>\n",
       "      <th>712</th>\n",
       "      <td>row_712</td>\n",
       "      <td>VarAutoRec</td>\n",
       "      <td>&lt;class 'torch.nn.modules.activation.PReLU'&gt;</td>\n",
       "      <td>300</td>\n",
       "      <td>1.00</td>\n",
       "      <td>0.005</td>\n",
       "      <td>20</td>\n",
       "      <td>NDCG</td>\n",
       "      <td>1.0</td>\n",
       "      <td>flixster</td>\n",
       "    </tr>\n",
       "    <tr>\n",
       "      <th>713</th>\n",
       "      <td>row_713</td>\n",
       "      <td>VarAutoRec</td>\n",
       "      <td>&lt;class 'torch.nn.modules.activation.PReLU'&gt;</td>\n",
       "      <td>300</td>\n",
       "      <td>1.00</td>\n",
       "      <td>0.005</td>\n",
       "      <td>20</td>\n",
       "      <td>MRR</td>\n",
       "      <td>1.0</td>\n",
       "      <td>flixster</td>\n",
       "    </tr>\n",
       "    <tr>\n",
       "      <th>714</th>\n",
       "      <td>row_714</td>\n",
       "      <td>VarAutoRec</td>\n",
       "      <td>&lt;class 'torch.nn.modules.activation.PReLU'&gt;</td>\n",
       "      <td>300</td>\n",
       "      <td>1.00</td>\n",
       "      <td>0.005</td>\n",
       "      <td>50</td>\n",
       "      <td>HR</td>\n",
       "      <td>1.0</td>\n",
       "      <td>flixster</td>\n",
       "    </tr>\n",
       "    <tr>\n",
       "      <th>815</th>\n",
       "      <td>row_815</td>\n",
       "      <td>VarAutoRec</td>\n",
       "      <td>&lt;class 'torch.nn.modules.activation.PReLU'&gt;</td>\n",
       "      <td>80</td>\n",
       "      <td>1.00</td>\n",
       "      <td>0.010</td>\n",
       "      <td>100</td>\n",
       "      <td>MRR</td>\n",
       "      <td>1.0</td>\n",
       "      <td>flixster</td>\n",
       "    </tr>\n",
       "    <tr>\n",
       "      <th>814</th>\n",
       "      <td>row_814</td>\n",
       "      <td>VarAutoRec</td>\n",
       "      <td>&lt;class 'torch.nn.modules.activation.PReLU'&gt;</td>\n",
       "      <td>80</td>\n",
       "      <td>1.00</td>\n",
       "      <td>0.010</td>\n",
       "      <td>100</td>\n",
       "      <td>NDCG</td>\n",
       "      <td>1.0</td>\n",
       "      <td>flixster</td>\n",
       "    </tr>\n",
       "    <tr>\n",
       "      <th>813</th>\n",
       "      <td>row_813</td>\n",
       "      <td>VarAutoRec</td>\n",
       "      <td>&lt;class 'torch.nn.modules.activation.PReLU'&gt;</td>\n",
       "      <td>80</td>\n",
       "      <td>1.00</td>\n",
       "      <td>0.010</td>\n",
       "      <td>100</td>\n",
       "      <td>HR</td>\n",
       "      <td>1.0</td>\n",
       "      <td>flixster</td>\n",
       "    </tr>\n",
       "    <tr>\n",
       "      <th>812</th>\n",
       "      <td>row_812</td>\n",
       "      <td>VarAutoRec</td>\n",
       "      <td>&lt;class 'torch.nn.modules.activation.PReLU'&gt;</td>\n",
       "      <td>80</td>\n",
       "      <td>1.00</td>\n",
       "      <td>0.010</td>\n",
       "      <td>50</td>\n",
       "      <td>MRR</td>\n",
       "      <td>1.0</td>\n",
       "      <td>flixster</td>\n",
       "    </tr>\n",
       "    <tr>\n",
       "      <th>834</th>\n",
       "      <td>row_834</td>\n",
       "      <td>VarAutoRec</td>\n",
       "      <td>&lt;class 'torch.nn.modules.activation.PReLU'&gt;</td>\n",
       "      <td>300</td>\n",
       "      <td>0.01</td>\n",
       "      <td>0.010</td>\n",
       "      <td>50</td>\n",
       "      <td>HR</td>\n",
       "      <td>1.0</td>\n",
       "      <td>flixster</td>\n",
       "    </tr>\n",
       "    <tr>\n",
       "      <th>836</th>\n",
       "      <td>row_836</td>\n",
       "      <td>VarAutoRec</td>\n",
       "      <td>&lt;class 'torch.nn.modules.activation.PReLU'&gt;</td>\n",
       "      <td>300</td>\n",
       "      <td>0.01</td>\n",
       "      <td>0.010</td>\n",
       "      <td>50</td>\n",
       "      <td>MRR</td>\n",
       "      <td>1.0</td>\n",
       "      <td>flixster</td>\n",
       "    </tr>\n",
       "    <tr>\n",
       "      <th>861</th>\n",
       "      <td>row_861</td>\n",
       "      <td>VarAutoRec</td>\n",
       "      <td>&lt;class 'torch.nn.modules.activation.PReLU'&gt;</td>\n",
       "      <td>300</td>\n",
       "      <td>1.00</td>\n",
       "      <td>0.010</td>\n",
       "      <td>100</td>\n",
       "      <td>HR</td>\n",
       "      <td>1.0</td>\n",
       "      <td>flixster</td>\n",
       "    </tr>\n",
       "    <tr>\n",
       "      <th>849</th>\n",
       "      <td>row_849</td>\n",
       "      <td>VarAutoRec</td>\n",
       "      <td>&lt;class 'torch.nn.modules.activation.PReLU'&gt;</td>\n",
       "      <td>300</td>\n",
       "      <td>0.10</td>\n",
       "      <td>0.010</td>\n",
       "      <td>100</td>\n",
       "      <td>HR</td>\n",
       "      <td>1.0</td>\n",
       "      <td>flixster</td>\n",
       "    </tr>\n",
       "    <tr>\n",
       "      <th>859</th>\n",
       "      <td>row_859</td>\n",
       "      <td>VarAutoRec</td>\n",
       "      <td>&lt;class 'torch.nn.modules.activation.PReLU'&gt;</td>\n",
       "      <td>300</td>\n",
       "      <td>1.00</td>\n",
       "      <td>0.010</td>\n",
       "      <td>50</td>\n",
       "      <td>NDCG</td>\n",
       "      <td>1.0</td>\n",
       "      <td>flixster</td>\n",
       "    </tr>\n",
       "    <tr>\n",
       "      <th>752</th>\n",
       "      <td>row_752</td>\n",
       "      <td>VarAutoRec</td>\n",
       "      <td>&lt;class 'torch.nn.modules.activation.PReLU'&gt;</td>\n",
       "      <td>10</td>\n",
       "      <td>0.10</td>\n",
       "      <td>0.010</td>\n",
       "      <td>50</td>\n",
       "      <td>MRR</td>\n",
       "      <td>1.0</td>\n",
       "      <td>flixster</td>\n",
       "    </tr>\n",
       "  </tbody>\n",
       "</table>\n",
       "</div>"
      ],
      "text/plain": [
       "    Unnamed: 0       model                                   activation  \\\n",
       "870    row_870  VarAutoRec  <class 'torch.nn.modules.activation.PReLU'>   \n",
       "707    row_707  VarAutoRec  <class 'torch.nn.modules.activation.PReLU'>   \n",
       "833    row_833  VarAutoRec  <class 'torch.nn.modules.activation.PReLU'>   \n",
       "832    row_832  VarAutoRec  <class 'torch.nn.modules.activation.PReLU'>   \n",
       "831    row_831  VarAutoRec  <class 'torch.nn.modules.activation.PReLU'>   \n",
       "830    row_830  VarAutoRec  <class 'torch.nn.modules.activation.PReLU'>   \n",
       "829    row_829  VarAutoRec  <class 'torch.nn.modules.activation.PReLU'>   \n",
       "828    row_828  VarAutoRec  <class 'torch.nn.modules.activation.PReLU'>   \n",
       "703    row_703  VarAutoRec  <class 'torch.nn.modules.activation.PReLU'>   \n",
       "704    row_704  VarAutoRec  <class 'torch.nn.modules.activation.PReLU'>   \n",
       "705    row_705  VarAutoRec  <class 'torch.nn.modules.activation.PReLU'>   \n",
       "706    row_706  VarAutoRec  <class 'torch.nn.modules.activation.PReLU'>   \n",
       "708    row_708  VarAutoRec  <class 'torch.nn.modules.activation.PReLU'>   \n",
       "835    row_835  VarAutoRec  <class 'torch.nn.modules.activation.PReLU'>   \n",
       "709    row_709  VarAutoRec  <class 'torch.nn.modules.activation.PReLU'>   \n",
       "710    row_710  VarAutoRec  <class 'torch.nn.modules.activation.PReLU'>   \n",
       "711    row_711  VarAutoRec  <class 'torch.nn.modules.activation.PReLU'>   \n",
       "712    row_712  VarAutoRec  <class 'torch.nn.modules.activation.PReLU'>   \n",
       "713    row_713  VarAutoRec  <class 'torch.nn.modules.activation.PReLU'>   \n",
       "714    row_714  VarAutoRec  <class 'torch.nn.modules.activation.PReLU'>   \n",
       "815    row_815  VarAutoRec  <class 'torch.nn.modules.activation.PReLU'>   \n",
       "814    row_814  VarAutoRec  <class 'torch.nn.modules.activation.PReLU'>   \n",
       "813    row_813  VarAutoRec  <class 'torch.nn.modules.activation.PReLU'>   \n",
       "812    row_812  VarAutoRec  <class 'torch.nn.modules.activation.PReLU'>   \n",
       "834    row_834  VarAutoRec  <class 'torch.nn.modules.activation.PReLU'>   \n",
       "836    row_836  VarAutoRec  <class 'torch.nn.modules.activation.PReLU'>   \n",
       "861    row_861  VarAutoRec  <class 'torch.nn.modules.activation.PReLU'>   \n",
       "849    row_849  VarAutoRec  <class 'torch.nn.modules.activation.PReLU'>   \n",
       "859    row_859  VarAutoRec  <class 'torch.nn.modules.activation.PReLU'>   \n",
       "752    row_752  VarAutoRec  <class 'torch.nn.modules.activation.PReLU'>   \n",
       "\n",
       "     latent_dim  lambda     lr  topk metric  score   dataset  \n",
       "870         300  100.00  0.010    50     HR    1.0  flixster  \n",
       "707         300    0.10  0.005   100    MRR    1.0  flixster  \n",
       "833         300    0.01  0.010    20    MRR    1.0  flixster  \n",
       "832         300    0.01  0.010    20   NDCG    1.0  flixster  \n",
       "831         300    0.01  0.010    20     HR    1.0  flixster  \n",
       "830         300    0.01  0.010    10    MRR    1.0  flixster  \n",
       "829         300    0.01  0.010    10   NDCG    1.0  flixster  \n",
       "828         300    0.01  0.010    10     HR    1.0  flixster  \n",
       "703         300    0.10  0.005    50   NDCG    1.0  flixster  \n",
       "704         300    0.10  0.005    50    MRR    1.0  flixster  \n",
       "705         300    0.10  0.005   100     HR    1.0  flixster  \n",
       "706         300    0.10  0.005   100   NDCG    1.0  flixster  \n",
       "708         300    1.00  0.005    10     HR    1.0  flixster  \n",
       "835         300    0.01  0.010    50   NDCG    1.0  flixster  \n",
       "709         300    1.00  0.005    10   NDCG    1.0  flixster  \n",
       "710         300    1.00  0.005    10    MRR    1.0  flixster  \n",
       "711         300    1.00  0.005    20     HR    1.0  flixster  \n",
       "712         300    1.00  0.005    20   NDCG    1.0  flixster  \n",
       "713         300    1.00  0.005    20    MRR    1.0  flixster  \n",
       "714         300    1.00  0.005    50     HR    1.0  flixster  \n",
       "815          80    1.00  0.010   100    MRR    1.0  flixster  \n",
       "814          80    1.00  0.010   100   NDCG    1.0  flixster  \n",
       "813          80    1.00  0.010   100     HR    1.0  flixster  \n",
       "812          80    1.00  0.010    50    MRR    1.0  flixster  \n",
       "834         300    0.01  0.010    50     HR    1.0  flixster  \n",
       "836         300    0.01  0.010    50    MRR    1.0  flixster  \n",
       "861         300    1.00  0.010   100     HR    1.0  flixster  \n",
       "849         300    0.10  0.010   100     HR    1.0  flixster  \n",
       "859         300    1.00  0.010    50   NDCG    1.0  flixster  \n",
       "752          10    0.10  0.010    50    MRR    1.0  flixster  "
      ]
     },
     "execution_count": 4,
     "metadata": {},
     "output_type": "execute_result"
    }
   ],
   "source": [
    "flixster.sort_values('score',ascending=False,inplace=True)\n",
    "flixster.head(30)"
   ]
  },
  {
   "cell_type": "code",
   "execution_count": 5,
   "id": "edbc7d92-6236-4fa4-94c0-6e4cd9f2507a",
   "metadata": {},
   "outputs": [],
   "source": [
    "df = flixster"
   ]
  },
  {
   "cell_type": "code",
   "execution_count": 6,
   "id": "fcec0d4f-d411-4177-94ae-7cc17f1942f2",
   "metadata": {},
   "outputs": [
    {
     "data": {
      "text/plain": [
       "array([ 50, 100,  20,  10])"
      ]
     },
     "execution_count": 6,
     "metadata": {},
     "output_type": "execute_result"
    }
   ],
   "source": [
    "df['topk'].unique()"
   ]
  },
  {
   "cell_type": "code",
   "execution_count": 7,
   "id": "c5b5f1a9-2abb-4656-9588-fc058aacb15d",
   "metadata": {},
   "outputs": [],
   "source": [
    "import sqlite3"
   ]
  },
  {
   "cell_type": "code",
   "execution_count": 8,
   "id": "c7be9314-bf1f-4a0e-860a-3c13341f09e2",
   "metadata": {},
   "outputs": [],
   "source": [
    "con = sqlite3.connect(\"file::memory:?cache=shared\")\n",
    "cur = con.cursor()"
   ]
  },
  {
   "cell_type": "code",
   "execution_count": 9,
   "id": "e59f15ee-6047-448f-a28c-ba1b0b5a83f5",
   "metadata": {},
   "outputs": [
    {
     "data": {
      "text/plain": [
       "Index(['Unnamed: 0', 'model', 'activation', 'latent_dim', 'lambda', 'lr',\n",
       "       'topk', 'metric', 'score', 'dataset'],\n",
       "      dtype='object')"
      ]
     },
     "execution_count": 9,
     "metadata": {},
     "output_type": "execute_result"
    }
   ],
   "source": [
    "df.columns"
   ]
  },
  {
   "cell_type": "code",
   "execution_count": 10,
   "id": "7fc5071d-b1b7-40d9-862a-c8cf061f6adc",
   "metadata": {},
   "outputs": [],
   "source": [
    "df = df[['model', 'activation', 'latent_dim', 'lambda', 'lr','topk', 'metric', 'score', 'dataset']]\n",
    "df.to_sql('flix', con, if_exists='append', index=False)"
   ]
  },
  {
   "cell_type": "code",
   "execution_count": 11,
   "id": "dc902d46-877e-4a33-be3e-fc075a57920f",
   "metadata": {},
   "outputs": [],
   "source": [
    "q = \"\"\"\n",
    "select model,latent_dim,topk,metric,max(score) as score\n",
    "from flix\n",
    "group by model,latent_dim,topk,metric\n",
    "order by max(score) desc,latent_dim asc,topk asc\n",
    "\"\"\"\n",
    "best_per_attr = pd.read_sql_query(q,con)"
   ]
  },
  {
   "cell_type": "code",
   "execution_count": 12,
   "id": "88bcfcf9-c428-4524-99ad-089c7a226f0e",
   "metadata": {},
   "outputs": [
    {
     "data": {
      "text/html": [
       "<div>\n",
       "<style scoped>\n",
       "    .dataframe tbody tr th:only-of-type {\n",
       "        vertical-align: middle;\n",
       "    }\n",
       "\n",
       "    .dataframe tbody tr th {\n",
       "        vertical-align: top;\n",
       "    }\n",
       "\n",
       "    .dataframe thead th {\n",
       "        text-align: right;\n",
       "    }\n",
       "</style>\n",
       "<table border=\"1\" class=\"dataframe\">\n",
       "  <thead>\n",
       "    <tr style=\"text-align: right;\">\n",
       "      <th></th>\n",
       "      <th>model</th>\n",
       "      <th>latent_dim</th>\n",
       "      <th>topk</th>\n",
       "      <th>metric</th>\n",
       "      <th>score</th>\n",
       "    </tr>\n",
       "  </thead>\n",
       "  <tbody>\n",
       "    <tr>\n",
       "      <th>0</th>\n",
       "      <td>UserBiasAE</td>\n",
       "      <td>10</td>\n",
       "      <td>10</td>\n",
       "      <td>HR</td>\n",
       "      <td>1.0</td>\n",
       "    </tr>\n",
       "    <tr>\n",
       "      <th>1</th>\n",
       "      <td>UserBiasAE</td>\n",
       "      <td>10</td>\n",
       "      <td>10</td>\n",
       "      <td>MRR</td>\n",
       "      <td>1.0</td>\n",
       "    </tr>\n",
       "    <tr>\n",
       "      <th>2</th>\n",
       "      <td>UserBiasAE</td>\n",
       "      <td>10</td>\n",
       "      <td>10</td>\n",
       "      <td>NDCG</td>\n",
       "      <td>1.0</td>\n",
       "    </tr>\n",
       "    <tr>\n",
       "      <th>3</th>\n",
       "      <td>VarAutoRec</td>\n",
       "      <td>10</td>\n",
       "      <td>10</td>\n",
       "      <td>HR</td>\n",
       "      <td>1.0</td>\n",
       "    </tr>\n",
       "    <tr>\n",
       "      <th>4</th>\n",
       "      <td>VarAutoRec</td>\n",
       "      <td>10</td>\n",
       "      <td>10</td>\n",
       "      <td>MRR</td>\n",
       "      <td>1.0</td>\n",
       "    </tr>\n",
       "    <tr>\n",
       "      <th>5</th>\n",
       "      <td>VarAutoRec</td>\n",
       "      <td>10</td>\n",
       "      <td>10</td>\n",
       "      <td>NDCG</td>\n",
       "      <td>1.0</td>\n",
       "    </tr>\n",
       "    <tr>\n",
       "      <th>6</th>\n",
       "      <td>UserBiasAE</td>\n",
       "      <td>10</td>\n",
       "      <td>20</td>\n",
       "      <td>HR</td>\n",
       "      <td>1.0</td>\n",
       "    </tr>\n",
       "    <tr>\n",
       "      <th>7</th>\n",
       "      <td>UserBiasAE</td>\n",
       "      <td>10</td>\n",
       "      <td>20</td>\n",
       "      <td>MRR</td>\n",
       "      <td>1.0</td>\n",
       "    </tr>\n",
       "    <tr>\n",
       "      <th>8</th>\n",
       "      <td>UserBiasAE</td>\n",
       "      <td>10</td>\n",
       "      <td>20</td>\n",
       "      <td>NDCG</td>\n",
       "      <td>1.0</td>\n",
       "    </tr>\n",
       "    <tr>\n",
       "      <th>9</th>\n",
       "      <td>VarAutoRec</td>\n",
       "      <td>10</td>\n",
       "      <td>20</td>\n",
       "      <td>HR</td>\n",
       "      <td>1.0</td>\n",
       "    </tr>\n",
       "  </tbody>\n",
       "</table>\n",
       "</div>"
      ],
      "text/plain": [
       "        model  latent_dim  topk metric  score\n",
       "0  UserBiasAE          10    10     HR    1.0\n",
       "1  UserBiasAE          10    10    MRR    1.0\n",
       "2  UserBiasAE          10    10   NDCG    1.0\n",
       "3  VarAutoRec          10    10     HR    1.0\n",
       "4  VarAutoRec          10    10    MRR    1.0\n",
       "5  VarAutoRec          10    10   NDCG    1.0\n",
       "6  UserBiasAE          10    20     HR    1.0\n",
       "7  UserBiasAE          10    20    MRR    1.0\n",
       "8  UserBiasAE          10    20   NDCG    1.0\n",
       "9  VarAutoRec          10    20     HR    1.0"
      ]
     },
     "execution_count": 12,
     "metadata": {},
     "output_type": "execute_result"
    }
   ],
   "source": [
    "best_per_attr.head(10)"
   ]
  },
  {
   "cell_type": "code",
   "execution_count": 13,
   "id": "741bc5ae-ef02-4165-97cc-dffb320289f6",
   "metadata": {},
   "outputs": [
    {
     "data": {
      "text/plain": [
       "array([ 10,  20,  50, 100])"
      ]
     },
     "execution_count": 13,
     "metadata": {},
     "output_type": "execute_result"
    }
   ],
   "source": [
    "topks = best_per_attr['topk'].unique()\n",
    "topks"
   ]
  },
  {
   "cell_type": "code",
   "execution_count": 14,
   "id": "f15df017-06c9-4620-a21e-8efb953023da",
   "metadata": {},
   "outputs": [
    {
     "data": {
      "image/png": "[encoded data removed]",
      "text/plain": [
       "<Figure size 461.5x360 with 1 Axes>"
      ]
     },
     "metadata": {
      "needs_background": "light"
     },
     "output_type": "display_data"
    },
    {
     "data": {
      "image/png": "[encoded data removed]",
      "text/plain": [
       "<Figure size 461.5x360 with 1 Axes>"
      ]
     },
     "metadata": {
      "needs_background": "light"
     },
     "output_type": "display_data"
    },
    {
     "data": {
      "image/png": "[encoded data removed]",
      "text/plain": [
       "<Figure size 461.5x360 with 1 Axes>"
      ]
     },
     "metadata": {
      "needs_background": "light"
     },
     "output_type": "display_data"
    },
    {
     "data": {
      "image/png": "[encoded data removed]",
      "text/plain": [
       "<Figure size 461.5x360 with 1 Axes>"
      ]
     },
     "metadata": {
      "needs_background": "light"
     },
     "output_type": "display_data"
    },
    {
     "data": {
      "image/png": "[encoded data removed]",
      "text/plain": [
       "<Figure size 461.5x360 with 1 Axes>"
      ]
     },
     "metadata": {
      "needs_background": "light"
     },
     "output_type": "display_data"
    },
    {
     "data": {
      "image/png": "[encoded data removed]",
      "text/plain": [
       "<Figure size 461.5x360 with 1 Axes>"
      ]
     },
     "metadata": {
      "needs_background": "light"
     },
     "output_type": "display_data"
    },
    {
     "data": {
      "image/png": "[encoded data removed]",
      "text/plain": [
       "<Figure size 461.5x360 with 1 Axes>"
      ]
     },
     "metadata": {
      "needs_background": "light"
     },
     "output_type": "display_data"
    },
    {
     "data": {
      "image/png": "[encoded data removed]",
      "text/plain": [
       "<Figure size 461.5x360 with 1 Axes>"
      ]
     },
     "metadata": {
      "needs_background": "light"
     },
     "output_type": "display_data"
    },
    {
     "data": {
      "image/png": "[encoded data removed]",
      "text/plain": [
       "<Figure size 461.5x360 with 1 Axes>"
      ]
     },
     "metadata": {
      "needs_background": "light"
     },
     "output_type": "display_data"
    },
    {
     "data": {
      "image/png": "[encoded data removed]",
      "text/plain": [
       "<Figure size 461.5x360 with 1 Axes>"
      ]
     },
     "metadata": {
      "needs_background": "light"
     },
     "output_type": "display_data"
    },
    {
     "data": {
      "image/png": "[encoded data removed]",
      "text/plain": [
       "<Figure size 461.5x360 with 1 Axes>"
      ]
     },
     "metadata": {
      "needs_background": "light"
     },
     "output_type": "display_data"
    },
    {
     "data": {
      "image/png": "[encoded data removed]",
      "text/plain": [
       "<Figure size 461.5x360 with 1 Axes>"
      ]
     },
     "metadata": {
      "needs_background": "light"
     },
     "output_type": "display_data"
    }
   ],
   "source": [
    "lds = best_per_attr['latent_dim'].unique()\n",
    "topks = best_per_attr['topk'].unique()\n",
    "for ld in lds:\n",
    "    for tk in topks:\n",
    "        name = f'top {tk} predictions latent dimension {ld}'\n",
    "        sns.catplot(data = best_per_attr[(best_per_attr['latent_dim']==ld)&(best_per_attr['topk']==tk)],\n",
    "                    hue='model',\n",
    "                    x='metric',\n",
    "                    y='score',\n",
    "                   kind=\"bar\").set(title=name)\n",
    "        plt.savefig(f'eval/graphs/flixster_{tk}_{ld}.png',bbox_inches='tight')\n",
    "        plt.show()"
   ]
  },
  {
   "cell_type": "code",
   "execution_count": 15,
   "id": "75631996-b4b8-41e3-b852-f7467d148b86",
   "metadata": {},
   "outputs": [
    {
     "data": {
      "text/plain": [
       "array(['VarAutoRec', 'UserBiasAE', 'AutoRecBase'], dtype=object)"
      ]
     },
     "execution_count": 15,
     "metadata": {},
     "output_type": "execute_result"
    }
   ],
   "source": [
    "df['model'].unique()"
   ]
  },
  {
   "cell_type": "code",
   "execution_count": null,
   "id": "447be2e1-2a8d-4930-914c-23f30c82bbfd",
   "metadata": {},
   "outputs": [],
   "source": []
  }
 ],
 "metadata": {
  "kernelspec": {
   "display_name": "Python 3 (ipykernel)",
   "language": "python",
   "name": "python3"
  },
  "language_info": {
   "codemirror_mode": {
    "name": "ipython",
    "version": 3
   },
   "file_extension": ".py",
   "mimetype": "text/x-python",
   "name": "python",
   "nbconvert_exporter": "python",
   "pygments_lexer": "ipython3",
   "version": "3.7.10"
  }
 },
 "nbformat": 4,
 "nbformat_minor": 5
}
